{
 "cells": [
  {
   "cell_type": "markdown",
   "metadata": {},
   "source": [
    "# Functions"
   ]
  },
  {
   "cell_type": "markdown",
   "metadata": {},
   "source": [
    "On this lab we will put to practice some of the concepts we have learned on this past few days.\n",
    "\n",
    "`NOTE: On this lab you should try to write all the functions yourself using only the most basic of python syntax and without functions such as len, count, sum, max, min, in, etc. Give it a try. 🧑🏻‍💻👩🏻‍💻`\n",
    "\n",
    "The cell after each exercise contains a few tests to check if your function works as expected."
   ]
  },
  {
   "cell_type": "code",
   "execution_count": null,
   "metadata": {},
   "outputs": [],
   "source": [
    "from mod.testing import *\n",
    "import unittest"
   ]
  },
  {
   "cell_type": "markdown",
   "metadata": {},
   "source": [
    "## 1. Write a function that returns the greater of two numbers"
   ]
  },
  {
   "cell_type": "code",
   "execution_count": 9,
   "metadata": {},
   "outputs": [],
   "source": [
    "a = 7\n",
    "b = 5\n",
    "def greater(a,b):\n",
    "#your code here\n",
    "    if a > b:\n",
    "        return a\n",
    "    else:\n",
    "        return b\n"
   ]
  },
  {
   "cell_type": "code",
   "execution_count": 10,
   "metadata": {},
   "outputs": [
    {
     "name": "stdout",
     "output_type": "stream",
     "text": [
      "7\n"
     ]
    },
    {
     "data": {
      "text/plain": [
       "7"
      ]
     },
     "execution_count": 10,
     "metadata": {},
     "output_type": "execute_result"
    }
   ],
   "source": [
    "# This will test your function \n",
    "print(greater(7, 5)) \n",
    "greater(7, 5)"
   ]
  },
  {
   "cell_type": "code",
   "execution_count": 11,
   "metadata": {},
   "outputs": [
    {
     "data": {
      "text/plain": [
       "10"
      ]
     },
     "execution_count": 11,
     "metadata": {},
     "output_type": "execute_result"
    }
   ],
   "source": [
    "#your code here\n",
    "a = 9\n",
    "b = 10\n",
    "def greater(a,b):\n",
    "#your code here\n",
    "    if a > b:\n",
    "        return a\n",
    "    else:\n",
    "        return b\n",
    "greater(9, 10)"
   ]
  },
  {
   "cell_type": "markdown",
   "metadata": {},
   "source": [
    "## 2. Now write a function that returns the largest element on a list"
   ]
  },
  {
   "cell_type": "code",
   "execution_count": 13,
   "metadata": {},
   "outputs": [],
   "source": [
    "#your code here\n",
    "def find_largest(lst):\n",
    "    \"\"\"\n",
    "    Returns the largest element in a list.\n",
    "\n",
    "    Args:\n",
    "        lst (list): The list of elements.\n",
    "\n",
    "    Returns:\n",
    "        The largest element in the list.\n",
    "    \"\"\"\n",
    "    if not lst:\n",
    "        return None\n",
    "\n",
    "    largest = lst[0]\n",
    "    index = 0\n",
    "    while index < len(lst):\n",
    "        if lst[index] > largest:\n",
    "            largest = lst[index]\n",
    "        index += 1\n",
    "\n",
    "    return largest"
   ]
  },
  {
   "cell_type": "code",
   "execution_count": 14,
   "metadata": {},
   "outputs": [
    {
     "name": "stdout",
     "output_type": "stream",
     "text": [
      "5\n",
      "None\n"
     ]
    }
   ],
   "source": [
    "numbers = [2, 3, 4, 5]\n",
    "result = find_largest(numbers)\n",
    "print(result)  # Output: 5\n",
    "\n",
    "empty_list = []\n",
    "result = find_largest(empty_list)\n",
    "print(result)"
   ]
  },
  {
   "cell_type": "markdown",
   "metadata": {},
   "source": [
    "## 3. Write a function that sums all the elements on a list"
   ]
  },
  {
   "cell_type": "code",
   "execution_count": null,
   "metadata": {},
   "outputs": [],
   "source": [
    "def sum_all(lst):\n",
    "#your code here\n",
    "\n",
    "\n",
    "def sum_all(lst):\n",
    "    \n",
    "    total = 0\n",
    "    index = 0\n",
    "    while index < len(lst):\n",
    "        total += lst[index]\n",
    "        index += 1\n",
    "\n",
    "    return sum(lst)"
   ]
  },
  {
   "cell_type": "code",
   "execution_count": null,
   "metadata": {
    "scrolled": true
   },
   "outputs": [],
   "source": [
    "# This will test your function \n",
    "test_sum(sum_all)"
   ]
  },
  {
   "cell_type": "markdown",
   "metadata": {},
   "source": [
    "## 4. Write another function that multiplies all the elements on a list"
   ]
  },
  {
   "cell_type": "code",
   "execution_count": 15,
   "metadata": {},
   "outputs": [],
   "source": [
    "\n",
    "def multiply_list(lst):\n",
    "\n",
    "    if not lst:\n",
    "        return None\n",
    "\n",
    "    product = lst[0]\n",
    "    index = 1\n",
    "    while index < len(lst):\n",
    "        product *= lst[index]\n",
    "        index += 1\n",
    "\n",
    "    return product"
   ]
  },
  {
   "cell_type": "code",
   "execution_count": 16,
   "metadata": {
    "scrolled": true
   },
   "outputs": [
    {
     "name": "stdout",
     "output_type": "stream",
     "text": [
      "120\n",
      "None\n"
     ]
    }
   ],
   "source": [
    "# This will test your function \n",
    "numbers = [1, 2, 3, 4, 5]\n",
    "result = multiply_list(numbers)\n",
    "print(result)  # Output: 120\n",
    "\n",
    "empty_list = []\n",
    "result = multiply_list(empty_list)\n",
    "print(result)  # Output: None\n",
    "\n"
   ]
  },
  {
   "cell_type": "markdown",
   "metadata": {},
   "source": [
    "## 5. Now combine those two ideas and write a function that receives a list and either \"+\" or \"*\" and outputs acordingly"
   ]
  },
  {
   "cell_type": "code",
   "execution_count": 18,
   "metadata": {},
   "outputs": [],
   "source": [
    "def oper_all(arr, oper=\"*\"):\n",
    "   \n",
    "    if not arr:\n",
    "        return None\n",
    "\n",
    "    if oper == \"+\":\n",
    "        result = arr[0]\n",
    "        index = 1\n",
    "        while index < len(arr):\n",
    "            result += arr[index]\n",
    "            index += 1\n",
    "        return result\n",
    "\n",
    "    elif oper == \"*\":\n",
    "        result = arr[0]\n",
    "        index = 1\n",
    "        while index < len(arr):\n",
    "            result *= arr[index]\n",
    "            index += 1\n",
    "        return result\n",
    "\n",
    "    else:\n",
    "        return \"Invalid operator. Use '+' for sum or '*' for product.\""
   ]
  },
  {
   "cell_type": "code",
   "execution_count": 20,
   "metadata": {},
   "outputs": [
    {
     "name": "stdout",
     "output_type": "stream",
     "text": [
      "15\n",
      "120\n",
      "Invalid operator. Use '+' for sum or '*' for product.\n"
     ]
    }
   ],
   "source": [
    "# This will test your function \n",
    "numbers = [1, 2, 3, 4, 5]\n",
    "result = oper_all(numbers, \"+\")\n",
    "print(result) \n",
    "\n",
    "result = oper_all(numbers)\n",
    "print(result)  \n",
    "\n",
    "result = oper_all(numbers, \"-\")\n",
    "print(result)\n"
   ]
  },
  {
   "cell_type": "markdown",
   "metadata": {},
   "source": [
    "## 6. Write a function that returns the factorial of a number."
   ]
  },
  {
   "cell_type": "code",
   "execution_count": 21,
   "metadata": {},
   "outputs": [],
   "source": [
    "def factorial(n):\n",
    "  \n",
    "    if n < 0:\n",
    "        return \"Factorial is not defined for negative numbers.\"\n",
    "    elif n == 0:\n",
    "        return 1\n",
    "    else:\n",
    "        result = 1\n",
    "        for i in range(1, n + 1):\n",
    "            result *= i\n",
    "        return result"
   ]
  },
  {
   "cell_type": "code",
   "execution_count": null,
   "metadata": {},
   "outputs": [],
   "source": [
    "#factorial formula\n",
    "#n! = n * ( n - 1 ) *...*1\n",
    "\n",
    "# This code defines a function called \"factorial\" which takes an input \"n\". The function uses a for loop to iterate through the range of numbers \n",
    "# from 1 to n+1. For each number in that range, it multiplies the current value of x by the number in the range. At the end of the loop, \n",
    "# the function returns the final value of x, which will be the factorial of the input number \"n\".\n",
    "\n",
    "# The Factorial of a positive integer n is the product of all positive integers less than or equal to n. \n",
    "# For example, the factorial of 6 (written \"6!\") is 6 * 5 * 4 * 3 * 2 * 1 = 720.\n",
    "\n",
    "# So this function takes an input of any positive integer, and returns the factorial of that number."
   ]
  },
  {
   "cell_type": "code",
   "execution_count": null,
   "metadata": {},
   "outputs": [],
   "source": [
    "# This will test your function \n",
    "test_factorial(factorial)"
   ]
  },
  {
   "cell_type": "markdown",
   "metadata": {},
   "source": [
    "## 7. Write a function that takes a list and returns a list of the unique values.\n",
    "\n",
    "`NOTE: You cannot use set. 🤔`"
   ]
  },
  {
   "cell_type": "code",
   "execution_count": 22,
   "metadata": {},
   "outputs": [],
   "source": [
    "def unique(lst_un):\n",
    "   \n",
    "    result = []\n",
    "    for item in lst_un:\n",
    "        if item not in result:\n",
    "            result.append(item)\n",
    "    return result"
   ]
  },
  {
   "cell_type": "code",
   "execution_count": 23,
   "metadata": {},
   "outputs": [],
   "source": []
  },
  {
   "cell_type": "markdown",
   "metadata": {},
   "source": [
    "## 8. Write a function that returns the mode of a list, i.e.: the element that appears the most times.\n",
    "`NOTE: You should not use count... 🧐`"
   ]
  },
  {
   "cell_type": "code",
   "execution_count": 24,
   "metadata": {},
   "outputs": [],
   "source": [
    "def mode_counter(lst):\n",
    "\n",
    "    if not lst:\n",
    "        return None\n",
    "\n",
    "    frequency = {}\n",
    "    for item in lst:\n",
    "        if item in frequency:\n",
    "            frequency[item] += 1\n",
    "        else:\n",
    "            frequency[item] = 1\n",
    "\n",
    "    max_count = max(frequency.values())\n",
    "    modes = [key for key, value in frequency.items() if value == max_count]\n",
    "\n",
    "    if len(modes) == 1:\n",
    "        return modes[0]\n",
    "    else:\n",
    "        return None"
   ]
  },
  {
   "cell_type": "code",
   "execution_count": null,
   "metadata": {},
   "outputs": [],
   "source": [
    " frequency = {}\n",
    "    for item in lst:\n",
    "        if item in frequency:\n",
    "            frequency[item] += 1\n",
    "        else:\n",
    "            frequency[item] = 1\n",
    "\n",
    "    max_count = max(frequency.values())\n",
    "    modes = [key for key, value in frequency.items() if value == max_count]\n",
    "\n",
    "    if len(modes) == 1:\n",
    "        return modes[0]\n",
    "    else:\n",
    "        return None\n",
    "\n",
    "def test_mode(func):\n",
    "    test_cases = [\n",
    "        [],\n",
    "        [1, 2, 3, 4, 5],\n",
    "        [1, 1, 2, 2, 3, 3, 3, 4, 4, 4],\n",
    "        [\"apple\", \"banana\", \"cherry\", \"apple\", \"banana\", \"banana\"],\n",
    "        [1, 2, \"three\", 4, \"three\", 5, \"three\"],\n",
    "    ]\n",
    "\n",
    "    for case in test_cases:\n",
    "        print(f\"Input: {case}, Output: {func(case)}\")"
   ]
  },
  {
   "cell_type": "markdown",
   "metadata": {},
   "source": [
    "## 9. Write a function that calculates the standard deviation of a list.\n",
    "`NOTE: Do not use any libraries or already built functions. 😉`"
   ]
  },
  {
   "cell_type": "code",
   "execution_count": 26,
   "metadata": {},
   "outputs": [],
   "source": [
    "def st_dev(list_sd):\n",
    "  \n",
    "    # Step 1: Calculate the mean of the list\n",
    "    mean = sum(list_sd) / len(list_sd)\n",
    "\n",
    "    # Step 2: Calculate the squared differences from the mean\n",
    "    squared_diffs = [(x - mean) ** 2 for x in list_sd]\n",
    "\n",
    "    # Step 3: Calculate the variance\n",
    "    variance = sum(squared_diffs) / len(list_sd)\n",
    "\n",
    "    # Step 4: Calculate the standard deviation\n",
    "    std_dev = variance ** 0.5\n",
    "\n",
    "    return std_dev"
   ]
  },
  {
   "cell_type": "code",
   "execution_count": null,
   "metadata": {},
   "outputs": [],
   "source": [
    "# This will test your function \n",
    "test_stdev(st_dev)"
   ]
  },
  {
   "cell_type": "markdown",
   "metadata": {},
   "source": [
    "## 10. Write a function to check if a string is a pangram, i.e.: if it contains all the letters of the alphabet at least once. Mind that the strings may contain characters that are not letters."
   ]
  },
  {
   "cell_type": "code",
   "execution_count": 27,
   "metadata": {},
   "outputs": [],
   "source": [
    "def pangram(string):\n",
    "   \n",
    "    # Convert the string to lowercase and remove non-alphabetic characters\n",
    "    cleaned_string = ''.join(char.lower() for char in string if char.isalpha())\n",
    "\n",
    "    # Create a set of unique characters in the cleaned string\n",
    "    unique_chars = set(cleaned_string)\n",
    "\n",
    "    # Check if the set contains all 26 letters of the alphabet\n",
    "    return len(unique_chars) == 26"
   ]
  },
  {
   "cell_type": "code",
   "execution_count": 28,
   "metadata": {},
   "outputs": [
    {
     "name": "stdout",
     "output_type": "stream",
     "text": [
      "True\n",
      "True\n",
      "False\n",
      "False\n"
     ]
    }
   ],
   "source": [
    "print(pangram(\"The quick brown fox jumps over the lazy dog\")) \n",
    "print(pangram(\"Pack my box with five dozen liquor jugs\"))  \n",
    "print(pangram(\"This is not a pangram\"))  \n",
    "print(pangram(\"Hello, World!\")) "
   ]
  },
  {
   "cell_type": "markdown",
   "metadata": {},
   "source": [
    "## 11. Write a function that receives a string of comma separated words and returns a string of comma separated words sorted alphabetically.\n",
    "\n",
    "`NOTE: You may use sorted but not split and definitely no join! 🤪`"
   ]
  },
  {
   "cell_type": "code",
   "execution_count": 29,
   "metadata": {},
   "outputs": [],
   "source": [
    "def sort_alpha(string):\n",
    "    \n",
    "    # Split the string into a list of words using a list comprehension\n",
    "    words = [word for word in string.replace(',', ' ').split()]\n",
    "\n",
    "    # Sort the list of words alphabetically\n",
    "    sorted_words = sorted(words)\n",
    "\n",
    "    # Create a new comma-separated string from the sorted list of words\n",
    "    sorted_string = ','.join(sorted_words)\n",
    "\n",
    "    return sorted_string"
   ]
  },
  {
   "cell_type": "code",
   "execution_count": 30,
   "metadata": {},
   "outputs": [
    {
     "name": "stdout",
     "output_type": "stream",
     "text": [
      "apple,banana,cherry,date\n",
      "apple,kiwi,orange,zebra\n",
      "hello,programming,python,world\n"
     ]
    }
   ],
   "source": [
    "print(sort_alpha(\"apple,banana,cherry,date\"))  \n",
    "print(sort_alpha(\"zebra,apple,orange,kiwi\"))  \n",
    "print(sort_alpha(\"hello,world,python,programming\"))  "
   ]
  },
  {
   "cell_type": "markdown",
   "metadata": {},
   "source": [
    "## 12. Write a function to check if a given password is strong (at least 8 characters, at least one lower case, at least one upper case, at least one number and at least one special character). It should output True if strong and False if not."
   ]
  },
  {
   "cell_type": "code",
   "execution_count": 31,
   "metadata": {},
   "outputs": [],
   "source": [
    "import re\n",
    "\n",
    "def is_strong_password(password):\n",
    "   \n",
    "    # Check if the password is at least 8 characters long\n",
    "    if len(password) < 8:\n",
    "        return False\n",
    "\n",
    "    # Define regular expressions for different character types\n",
    "    lowercase_pattern = re.compile(r'[a-z]')\n",
    "    uppercase_pattern = re.compile(r'[A-Z]')\n",
    "    digit_pattern = re.compile(r'\\d')\n",
    "    special_pattern = re.compile(r'[!@#$%^&*()_+\\-=\\[\\]{};:\"\\\\|,.<>\\/?~]')\n",
    "\n",
    "    # Check if the password contains at least one character of each type\n",
    "    has_lowercase = bool(lowercase_pattern.search(password))\n",
    "    has_uppercase = bool(uppercase_pattern.search(password))\n",
    "    has_digit = bool(digit_pattern.search(password))\n",
    "    has_special = bool(special_pattern.search(password))\n",
    "\n",
    "    # Return True if all criteria are met, False otherwise\n",
    "    return has_lowercase and has_uppercase and has_digit and has_special"
   ]
  },
  {
   "cell_type": "code",
   "execution_count": 32,
   "metadata": {},
   "outputs": [
    {
     "name": "stdout",
     "output_type": "stream",
     "text": [
      "True\n",
      "False\n",
      "True\n",
      "False\n"
     ]
    }
   ],
   "source": [
    "print(is_strong_password(\"Password123!\")) \n",
    "print(is_strong_password(\"password\"))  \n",
    "print(is_strong_password(\"P@ssw0rd\"))  \n",
    "print(is_strong_password(\"12345678\"))  "
   ]
  },
  {
   "cell_type": "code",
   "execution_count": null,
   "metadata": {},
   "outputs": [],
   "source": []
  },
  {
   "cell_type": "code",
   "execution_count": null,
   "metadata": {},
   "outputs": [],
   "source": []
  }
 ],
 "metadata": {
  "kernelspec": {
   "display_name": "Python 3 (ipykernel)",
   "language": "python",
   "name": "python3"
  },
  "language_info": {
   "codemirror_mode": {
    "name": "ipython",
    "version": 3
   },
   "file_extension": ".py",
   "mimetype": "text/x-python",
   "name": "python",
   "nbconvert_exporter": "python",
   "pygments_lexer": "ipython3",
   "version": "3.11.7"
  },
  "vscode": {
   "interpreter": {
    "hash": "aee8b7b246df8f9039afb4144a1f6fd8d2ca17a180786b69acc140d282b71a49"
   }
  }
 },
 "nbformat": 4,
 "nbformat_minor": 4
}
