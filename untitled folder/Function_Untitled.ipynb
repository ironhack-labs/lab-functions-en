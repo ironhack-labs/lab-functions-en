{
 "cells": [
  {
   "cell_type": "code",
   "execution_count": 2,
   "id": "e7d892f9",
   "metadata": {},
   "outputs": [
    {
     "name": "stdout",
     "output_type": "stream",
     "text": [
      "Sum of all elements in given list:  74\n"
     ]
    }
   ],
   "source": [
    "# Python program to find sum of all\n",
    "# elements in list using recursion\n",
    "\n",
    "# creating a list\n",
    "list1 = [11, 5, 17, 18, 23]\n",
    "\n",
    "# creating sum_list function\n",
    "\n",
    "\n",
    "def sumOfList(list, size):\n",
    "\tif (size == 0):\n",
    "\t\treturn 0\n",
    "\telse:\n",
    "\t\treturn list[size - 1] + sumOfList(list, size - 1)\n",
    "\n",
    "\n",
    "# Driver code\n",
    "total = sumOfList(list1, len(list1))\n",
    "\n",
    "print(\"Sum of all elements in given list: \", total)\n"
   ]
  },
  {
   "cell_type": "code",
   "execution_count": 3,
   "id": "6edf0a8e",
   "metadata": {},
   "outputs": [
    {
     "name": "stdout",
     "output_type": "stream",
     "text": [
      "PYTHON FOR BEG\n"
     ]
    }
   ],
   "source": [
    "course = 'python for beg'\n",
    "course.upper"
   ]
  }
 ],
 "metadata": {
  "kernelspec": {
   "display_name": "Python 3 (ipykernel)",
   "language": "python",
   "name": "python3"
  },
  "language_info": {
   "codemirror_mode": {
    "name": "ipython",
    "version": 3
   },
   "file_extension": ".py",
   "mimetype": "text/x-python",
   "name": "python",
   "nbconvert_exporter": "python",
   "pygments_lexer": "ipython3",
   "version": "3.11.7"
  }
 },
 "nbformat": 4,
 "nbformat_minor": 5
}
