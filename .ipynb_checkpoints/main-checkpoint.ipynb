{
 "cells": [
  {
   "cell_type": "markdown",
   "metadata": {},
   "source": [
    "# Functions"
   ]
  },
  {
   "cell_type": "markdown",
   "metadata": {},
   "source": [
    "On this lab we will put to practice some of the concepts we have learned on this past few days.\n",
    "\n",
    "`NOTE: On this lab you should try to write all the functions yourself using only the most basic of python syntax and without functions such as len, count, sum, max, min, in, etc. Give it a try. 🧑🏻‍💻👩🏻‍💻`\n",
    "\n",
    "The cell after each exercise contains a few tests to check if your function works as expected."
   ]
  },
  {
   "cell_type": "code",
   "execution_count": 2,
   "metadata": {},
   "outputs": [],
   "source": [
    "from mod.testing import *\n",
    "import unittest"
   ]
  },
  {
   "cell_type": "markdown",
   "metadata": {},
   "source": [
    "## 1. Write a function that returns the greater of two numbers"
   ]
  },
  {
   "cell_type": "code",
   "execution_count": 208,
   "metadata": {},
   "outputs": [],
   "source": [
    "def greater(a,b):\n",
    "    if a > b:\n",
    "        greater = a\n",
    "    else:\n",
    "        greater = b\n",
    "    return greater\n",
    "\n",
    "# the other way\n",
    "# def greater(a,b):\n",
    "#     return (max([a,b]))"
   ]
  },
  {
   "cell_type": "code",
   "execution_count": 210,
   "metadata": {},
   "outputs": [
    {
     "name": "stderr",
     "output_type": "stream",
     "text": [
      "....................................................................................................\n",
      "----------------------------------------------------------------------\n",
      "Ran 100 tests in 0.062s\n",
      "\n",
      "OK\n"
     ]
    }
   ],
   "source": [
    "# This will test your function \n",
    "test_greater(greater)"
   ]
  },
  {
   "cell_type": "code",
   "execution_count": null,
   "metadata": {},
   "outputs": [],
   "source": [
    "#your code here"
   ]
  },
  {
   "cell_type": "markdown",
   "metadata": {},
   "source": [
    "## 2. Now write a function that returns the largest element on a list"
   ]
  },
  {
   "cell_type": "code",
   "execution_count": 216,
   "metadata": {},
   "outputs": [],
   "source": [
    "def greatest(my_list):\n",
    "    greater = my_list[0]\n",
    "    \n",
    "    for value in my_list:\n",
    "        if greater < value:\n",
    "            greater = value\n",
    "            \n",
    "    return greater"
   ]
  },
  {
   "cell_type": "code",
   "execution_count": 218,
   "metadata": {},
   "outputs": [
    {
     "name": "stderr",
     "output_type": "stream",
     "text": [
      "....................................................................................................\n",
      "----------------------------------------------------------------------\n",
      "Ran 100 tests in 0.034s\n",
      "\n",
      "OK\n"
     ]
    }
   ],
   "source": [
    "test_greatest(greatest)"
   ]
  },
  {
   "cell_type": "markdown",
   "metadata": {},
   "source": [
    "## 3. Write a function that sums all the elements on a list"
   ]
  },
  {
   "cell_type": "code",
   "execution_count": 224,
   "metadata": {},
   "outputs": [],
   "source": [
    "def sum_all(lst):\n",
    "    result = 0\n",
    "    for value in lst:\n",
    "        result += value\n",
    "    return result"
   ]
  },
  {
   "cell_type": "code",
   "execution_count": 226,
   "metadata": {
    "scrolled": true
   },
   "outputs": [
    {
     "name": "stderr",
     "output_type": "stream",
     "text": [
      "....................................................................................................\n",
      "----------------------------------------------------------------------\n",
      "Ran 100 tests in 0.033s\n",
      "\n",
      "OK\n"
     ]
    }
   ],
   "source": [
    "# This will test your function \n",
    "test_sum(sum_all)"
   ]
  },
  {
   "cell_type": "markdown",
   "metadata": {},
   "source": [
    "## 4. Write another function that multiplies all the elements on a list"
   ]
  },
  {
   "cell_type": "code",
   "execution_count": 232,
   "metadata": {},
   "outputs": [],
   "source": [
    "def mult_all(lst):\n",
    "    result = 1\n",
    "    for value in lst:\n",
    "        result *= value\n",
    "    return result"
   ]
  },
  {
   "cell_type": "code",
   "execution_count": 234,
   "metadata": {
    "scrolled": true
   },
   "outputs": [
    {
     "name": "stderr",
     "output_type": "stream",
     "text": [
      "....................................................................................................\n",
      "----------------------------------------------------------------------\n",
      "Ran 100 tests in 0.038s\n",
      "\n",
      "OK\n"
     ]
    }
   ],
   "source": [
    "# This will test your function \n",
    "test_mult(mult_all)"
   ]
  },
  {
   "cell_type": "markdown",
   "metadata": {},
   "source": [
    "## 5. Now combine those two ideas and write a function that receives a list and either \"+\" or \"*\" and outputs acordingly"
   ]
  },
  {
   "cell_type": "code",
   "execution_count": 238,
   "metadata": {},
   "outputs": [],
   "source": [
    "import math\n",
    "\n",
    "def oper_all(arr, oper = \"*\"):\n",
    "    result = 1 if oper == \"*\" else 0\n",
    "    for value in arr:\n",
    "        if oper == \"*\":\n",
    "            result *= value\n",
    "        else:\n",
    "            result += value\n",
    "    return result"
   ]
  },
  {
   "cell_type": "code",
   "execution_count": 240,
   "metadata": {},
   "outputs": [
    {
     "name": "stderr",
     "output_type": "stream",
     "text": [
      "....................................................................................................\n",
      "----------------------------------------------------------------------\n",
      "Ran 100 tests in 0.032s\n",
      "\n",
      "OK\n"
     ]
    }
   ],
   "source": [
    "# This will test your function \n",
    "test_operations(oper_all)"
   ]
  },
  {
   "cell_type": "markdown",
   "metadata": {},
   "source": [
    "## 6. Write a function that returns the factorial of a number."
   ]
  },
  {
   "cell_type": "code",
   "execution_count": 242,
   "metadata": {},
   "outputs": [],
   "source": [
    "def factorial(n):\n",
    "    if n > 1:\n",
    "        return n * factorial(n - 1)\n",
    "    else:\n",
    "        return 1"
   ]
  },
  {
   "cell_type": "code",
   "execution_count": null,
   "metadata": {},
   "outputs": [],
   "source": [
    "#factorial formula\n",
    "#n! = n * ( n - 1 ) *...*1\n",
    "\n",
    "# This code defines a function called \"factorial\" which takes an input \"n\". The function uses a for loop to iterate through the range of numbers \n",
    "# from 1 to n+1. For each number in that range, it multiplies the current value of x by the number in the range. At the end of the loop, \n",
    "# the function returns the final value of x, which will be the factorial of the input number \"n\".\n",
    "\n",
    "# The Factorial of a positive integer n is the product of all positive integers less than or equal to n. \n",
    "# For example, the factorial of 6 (written \"6!\") is 6 * 5 * 4 * 3 * 2 * 1 = 720.\n",
    "\n",
    "# So this function takes an input of any positive integer, and returns the factorial of that number."
   ]
  },
  {
   "cell_type": "code",
   "execution_count": 244,
   "metadata": {},
   "outputs": [
    {
     "name": "stderr",
     "output_type": "stream",
     "text": [
      "....................................................................................................\n",
      "----------------------------------------------------------------------\n",
      "Ran 100 tests in 0.035s\n",
      "\n",
      "OK\n"
     ]
    }
   ],
   "source": [
    "# This will test your function \n",
    "test_factorial(factorial)"
   ]
  },
  {
   "cell_type": "markdown",
   "metadata": {},
   "source": [
    "## 7. Write a function that takes a list and returns a list of the unique values.\n",
    "\n",
    "`NOTE: You cannot use set. 🤔`"
   ]
  },
  {
   "cell_type": "code",
   "execution_count": 252,
   "metadata": {},
   "outputs": [],
   "source": [
    "def unique(lst_un):\n",
    "    return [num for index, num in enumerate(lst_un) if num not in lst_un[:index]]\n",
    "    \n",
    "# the other way\n",
    "# def unique(lst_un):\n",
    "#     return list(set(lst_un)) # [10,4, 10, 3, 5] set return the unique values {10, 3, 4, 5}"
   ]
  },
  {
   "cell_type": "code",
   "execution_count": 254,
   "metadata": {},
   "outputs": [
    {
     "name": "stderr",
     "output_type": "stream",
     "text": [
      "....................................................................................................\n",
      "----------------------------------------------------------------------\n",
      "Ran 100 tests in 0.101s\n",
      "\n",
      "OK\n"
     ]
    }
   ],
   "source": [
    "# This will test your function \n",
    "test_unique(unique)"
   ]
  },
  {
   "cell_type": "markdown",
   "metadata": {},
   "source": [
    "## 8. Write a function that returns the mode of a list, i.e.: the element that appears the most times.\n",
    "`NOTE: You should not use count... 🧐`"
   ]
  },
  {
   "cell_type": "code",
   "execution_count": 282,
   "metadata": {},
   "outputs": [],
   "source": [
    "def mode_counter(arr):\n",
    "    # counts = {num: arr.count(num) for num in set(arr)}\n",
    "    # mode = [key for key,value in counts.items() if value == max(counts.values())][0]\n",
    "    counts_dict = {}\n",
    "    for key in arr:\n",
    "        if key in counts_dict:\n",
    "            counts_dict[key] += 1\n",
    "        else:\n",
    "            counts_dict[key] = 1\n",
    "\n",
    "    max_counts = 0\n",
    "    mode = None\n",
    "\n",
    "    for key, counts in counts_dict.items():\n",
    "        if max_counts < counts:\n",
    "            max_counts = counts\n",
    "            mode = key\n",
    "        \n",
    "    return mode\n",
    "\n",
    "# the other way\n",
    "# import statistics as s\n",
    "#\n",
    "# def mode_counter(arr):\n",
    "#     return s.mode(arr)"
   ]
  },
  {
   "cell_type": "code",
   "execution_count": 284,
   "metadata": {},
   "outputs": [
    {
     "name": "stderr",
     "output_type": "stream",
     "text": [
      "....................................................................................................\n",
      "----------------------------------------------------------------------\n",
      "Ran 100 tests in 0.032s\n",
      "\n",
      "OK\n"
     ]
    }
   ],
   "source": [
    "# This will test your function \n",
    "test_mode(mode_counter)"
   ]
  },
  {
   "cell_type": "markdown",
   "metadata": {},
   "source": [
    "## 9. Write a function that calculates the standard deviation of a list.\n",
    "`NOTE: Do not use any libraries or already built functions. 😉`"
   ]
  },
  {
   "cell_type": "code",
   "execution_count": 308,
   "metadata": {},
   "outputs": [],
   "source": [
    "# standard deviation for a sample\n",
    "def st_dev(list_sd):\n",
    "    n = 0\n",
    "    for _ in list_sd: # get the list_sd size, not use len(list_sd)\n",
    "        n += 1\n",
    "\n",
    "    if n == 0:\n",
    "        return 0\n",
    "\n",
    "    sum_result = 0\n",
    "    for num in list_sd:\n",
    "        sum_result += num\n",
    "\n",
    "    media = sum_result / n\n",
    "\n",
    "    sum_difference = 0\n",
    "    for num in list_sd:\n",
    "        difference = num - media\n",
    "        sum_difference += (difference ** 2)\n",
    "\n",
    "    st_desviation = (sum_difference / (n - 1)) ** 0.5\n",
    "\n",
    "    return st_desviation"
   ]
  },
  {
   "cell_type": "code",
   "execution_count": 304,
   "metadata": {},
   "outputs": [
    {
     "name": "stderr",
     "output_type": "stream",
     "text": [
      "....................................................................................................\n",
      "----------------------------------------------------------------------\n",
      "Ran 100 tests in 0.028s\n",
      "\n",
      "OK\n"
     ]
    }
   ],
   "source": [
    "# This will test your function \n",
    "test_stdev(st_dev)"
   ]
  },
  {
   "cell_type": "markdown",
   "metadata": {},
   "source": [
    "## 10. Write a function to check if a string is a pangram, i.e.: if it contains all the letters of the alphabet at least once. Mind that the strings may contain characters that are not letters."
   ]
  },
  {
   "cell_type": "code",
   "execution_count": 330,
   "metadata": {},
   "outputs": [],
   "source": [
    "def pangram(string):\n",
    "    alphabet = \"abcdefghijklmnopqrstuvwxyz\"\n",
    "    frequency = 0\n",
    "    \n",
    "    for char in alphabet:\n",
    "        if char in string.lower():\n",
    "            frequency += 1\n",
    "\n",
    "    return (True if frequency == 26 else False)\n",
    "\n",
    "# msg = \"The quick brown fox jumps over the lazy dog\"\n",
    "# print(pangram(msg))"
   ]
  },
  {
   "cell_type": "code",
   "execution_count": 332,
   "metadata": {},
   "outputs": [
    {
     "name": "stderr",
     "output_type": "stream",
     "text": [
      "..............................\n",
      "----------------------------------------------------------------------\n",
      "Ran 30 tests in 0.013s\n",
      "\n",
      "OK\n"
     ]
    }
   ],
   "source": [
    "# This will test your function \n",
    "test_pangram(pangram)"
   ]
  },
  {
   "cell_type": "markdown",
   "metadata": {},
   "source": [
    "## 11. Write a function that receives a string of comma separated words and returns a string of comma separated words sorted alphabetically.\n",
    "\n",
    "`NOTE: You may use sorted but not split and definitely no join! 🤪`"
   ]
  },
  {
   "cell_type": "code",
   "execution_count": 340,
   "metadata": {},
   "outputs": [],
   "source": [
    "def sort_alpha(string):     \n",
    "    word_list = [] # Define empty word_list\n",
    "    temp_word = \"\"\n",
    "\n",
    "    n = 0 \n",
    "    for _ in string:  # get string length, not use len(string)\n",
    "        n += 1\n",
    "\n",
    "    # Divide the words by comma\n",
    "    for char in string:\n",
    "        if char == \",\":\n",
    "            word_list.append(temp_word)\n",
    "            temp_word = \"\"\n",
    "        else:\n",
    "            temp_word += char\n",
    "    \n",
    "    if temp_word:\n",
    "        word_list.append(temp_word) # Add the last word to the list\n",
    "\n",
    "    # Clean or remove leading and ending spaces\n",
    "    cleaned_words = []\n",
    "    for word in word_list:\n",
    "        cleaned_word = \"\"\n",
    "        for char in word:\n",
    "            if char != \" \" or (cleaned_word and char == \" \"):  # remove leading spaces\n",
    "                cleaned_word += char\n",
    "        cleaned_words.append(cleaned_word)\n",
    "\n",
    "    # Manually order the list with a selection sort\n",
    "    for i in range(len(cleaned_words)):\n",
    "        for j in range(i + 1, len(cleaned_words)):\n",
    "            if cleaned_words[i] > cleaned_words[j]:\n",
    "                cleaned_words[i], cleaned_words[j] = cleaned_words[j], cleaned_words[i] # swap values\n",
    "\n",
    "    # Convertir la lista ordenada a una cadena separada por comas\n",
    "    result = \"\"\n",
    "    for word in cleaned_words:\n",
    "        if result:\n",
    "            result += \",\" + word\n",
    "        else:\n",
    "            result += word\n",
    "\n",
    "    return result"
   ]
  },
  {
   "cell_type": "code",
   "execution_count": 342,
   "metadata": {},
   "outputs": [
    {
     "name": "stderr",
     "output_type": "stream",
     "text": [
      "....................................................................................................\n",
      "----------------------------------------------------------------------\n",
      "Ran 100 tests in 0.029s\n",
      "\n",
      "OK\n"
     ]
    }
   ],
   "source": [
    "# This will test your function \n",
    "test_alpha(sort_alpha)"
   ]
  },
  {
   "cell_type": "markdown",
   "metadata": {},
   "source": [
    "## 12. Write a function to check if a given password is strong (at least 8 characters, at least one lower case, at least one upper case, at least one number and at least one special character). It should output True if strong and False if not."
   ]
  },
  {
   "cell_type": "code",
   "execution_count": 352,
   "metadata": {},
   "outputs": [],
   "source": [
    "def check_pass(password):\n",
    "    n = 0 \n",
    "    for _ in password:  # get password length\n",
    "        n += 1\n",
    "\n",
    "    if n < 8:\n",
    "        return False\n",
    "\n",
    "    # Flags to check the required criteria\n",
    "    pwd_has_lower = False\n",
    "    pwd_has_upper = False\n",
    "    pwd_has_digit = False\n",
    "    pwd_has_special = False\n",
    "\n",
    "    # Special characters allowed\n",
    "    special_chars = \"!@#$%^&*()-_=+[{]}\\\\|;:'\\\",<.>/?`~\" # all my keys :-D \n",
    "\n",
    "    # Iterate through each character in the password\n",
    "    for char in password:\n",
    "        if char.islower(): # if char is any of 'abcdefghijklmnopqrstuvwxyz'\n",
    "            pwd_has_lower = True\n",
    "        elif char.isupper(): # if char is any of 'ABCDEFHIJKLMNOPQRSTUVWXYZ'\n",
    "            pwd_has_upper = True\n",
    "        elif char.isdigit(): # if char is number\n",
    "            pwd_has_digit = True\n",
    "        elif char in special_chars:\n",
    "            pwd_has_special = True\n",
    "\n",
    "        # If the content has all the criteria then the password is strong\n",
    "        if pwd_has_lower and pwd_has_upper and pwd_has_digit and pwd_has_special:\n",
    "            return True\n",
    "\n",
    "    # If not complete the criteria, the password is not strong\n",
    "    return False"
   ]
  },
  {
   "cell_type": "code",
   "execution_count": 354,
   "metadata": {},
   "outputs": [
    {
     "name": "stderr",
     "output_type": "stream",
     "text": [
      "....................................................................................................\n",
      "----------------------------------------------------------------------\n",
      "Ran 100 tests in 0.036s\n",
      "\n",
      "OK\n"
     ]
    }
   ],
   "source": [
    "# This will test your function \n",
    "test_pass(check_pass)"
   ]
  }
 ],
 "metadata": {
  "kernelspec": {
   "display_name": "Python 3 (ipykernel)",
   "language": "python",
   "name": "python3"
  },
  "language_info": {
   "codemirror_mode": {
    "name": "ipython",
    "version": 3
   },
   "file_extension": ".py",
   "mimetype": "text/x-python",
   "name": "python",
   "nbconvert_exporter": "python",
   "pygments_lexer": "ipython3",
   "version": "3.12.7"
  },
  "vscode": {
   "interpreter": {
    "hash": "aee8b7b246df8f9039afb4144a1f6fd8d2ca17a180786b69acc140d282b71a49"
   }
  }
 },
 "nbformat": 4,
 "nbformat_minor": 4
}
