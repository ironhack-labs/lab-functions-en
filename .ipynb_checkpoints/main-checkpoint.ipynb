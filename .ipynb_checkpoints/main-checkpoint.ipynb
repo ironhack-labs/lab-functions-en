{
 "cells": [
  {
   "cell_type": "markdown",
   "metadata": {},
   "source": [
    "# Functions"
   ]
  },
  {
   "cell_type": "markdown",
   "metadata": {},
   "source": [
    "On this lab we will put to practice some of the concepts we have learned on this past few days.\n",
    "\n",
    "`NOTE: On this lab you should try to write all the functions yourself using only the most basic of python syntax and without functions such as len, count, sum, max, min, in, etc. Give it a try. 🧑🏻‍💻👩🏻‍💻`\n",
    "\n",
    "The cell after each exercise contains a few tests to check if your function works as expected."
   ]
  },
  {
   "cell_type": "code",
   "execution_count": null,
   "metadata": {},
   "outputs": [],
   "source": [
    "from mod.testing import *\n",
    "import unittest"
   ]
  },
  {
   "cell_type": "markdown",
   "metadata": {},
   "source": [
    "## 1. Write a function that returns the greater of two numbers"
   ]
  },
  {
   "cell_type": "code",
   "execution_count": 18,
   "metadata": {},
   "outputs": [],
   "source": [
    "def greater(a,b):\n",
    "    if a>b :\n",
    "        return a\n",
    "    \n",
    "    elif b>a :\n",
    "        return b\n",
    "\n",
    "    else:\n",
    "        return  \"equl number \"\n",
    "        "
   ]
  },
  {
   "cell_type": "code",
   "execution_count": 20,
   "metadata": {},
   "outputs": [
    {
     "name": "stdout",
     "output_type": "stream",
     "text": [
      "56\n"
     ]
    }
   ],
   "source": [
    "result = greater(10,56)\n",
    "print(result)"
   ]
  },
  {
   "cell_type": "code",
   "execution_count": 12,
   "metadata": {},
   "outputs": [],
   "source": [
    "\n",
    "        "
   ]
  },
  {
   "cell_type": "markdown",
   "metadata": {},
   "source": [
    "## 2. Now write a function that returns the largest element on a list"
   ]
  },
  {
   "cell_type": "code",
   "execution_count": 1,
   "metadata": {},
   "outputs": [],
   "source": [
    "def largest(lst):\n",
    "\n",
    "    if lst is None or len(lst) == 0 :\n",
    "        return \"list is empty\"\n",
    "\n",
    "    largest_num = 0\n",
    "    for num in lst:\n",
    "        if num > largest_num:\n",
    "            largest_num = num\n",
    "        \n",
    "            return largest_num"
   ]
  },
  {
   "cell_type": "code",
   "execution_count": 114,
   "metadata": {},
   "outputs": [
    {
     "name": "stdout",
     "output_type": "stream",
     "text": [
      "largest element : None\n"
     ]
    }
   ],
   "source": [
    "numbers = [3, 7, 8, 2, 20, 10, 1]\n",
    "\n",
    "largest1 = largest(numbers) \n",
    "print(\"largest element :\" , largest1)"
   ]
  },
  {
   "cell_type": "markdown",
   "metadata": {},
   "source": [
    "## 3. Write a function that sums all the elements on a list"
   ]
  },
  {
   "cell_type": "code",
   "execution_count": 3,
   "metadata": {},
   "outputs": [],
   "source": [
    "def sum_all(lst):\n",
    "    if len(lst) == 0:\n",
    "        return \"this is emty\" \n",
    "    total = 0 \n",
    "    for num in lst:\n",
    "        total += num\n",
    "\n",
    "    return total"
   ]
  },
  {
   "cell_type": "code",
   "execution_count": 34,
   "metadata": {
    "scrolled": true
   },
   "outputs": [
    {
     "name": "stdout",
     "output_type": "stream",
     "text": [
      "None\n"
     ]
    }
   ],
   "source": [
    "numbers = [3, 7, 8, 2, 20, 10, 1]\n",
    "print(sum_all(numbers))"
   ]
  },
  {
   "cell_type": "markdown",
   "metadata": {},
   "source": [
    "## 4. Write another function that multiplies all the elements on a list"
   ]
  },
  {
   "cell_type": "code",
   "execution_count": 5,
   "metadata": {},
   "outputs": [],
   "source": [
    "def mult_all(lst):\n",
    "    if lst is None or len(lst) == 0 :\n",
    "        return \"list is empty\"\n",
    "    result = 1\n",
    "    for num in lst:\n",
    "        result *= num\n",
    "\n",
    "    return result "
   ]
  },
  {
   "cell_type": "code",
   "execution_count": 44,
   "metadata": {
    "scrolled": true
   },
   "outputs": [
    {
     "name": "stdout",
     "output_type": "stream",
     "text": [
      "None\n"
     ]
    }
   ],
   "source": [
    "numbers = [3, 7, 8, 2, 20, 10, 1]\n",
    "print(mult_all(numbers))\n"
   ]
  },
  {
   "cell_type": "markdown",
   "metadata": {},
   "source": [
    "## 5. Now combine those two ideas and write a function that receives a list and either \"+\" or \"*\" and outputs acordingly"
   ]
  },
  {
   "cell_type": "code",
   "execution_count": 6,
   "metadata": {},
   "outputs": [],
   "source": [
    "def oper_all(arr, oper = \" \"):\n",
    "    if not arr :\n",
    "        return 0 if oper == \"+\" else 1\n",
    "\n",
    "    if oper == \"+\":\n",
    "        return sum(arr)\n",
    "\n",
    "    elif oper == \"*\" :\n",
    "        result = 1\n",
    "        for num in arr:\n",
    "            result *= num\n",
    "            return result\n",
    "\n",
    "    else:\n",
    "        return \"IN valid operator \""
   ]
  },
  {
   "cell_type": "code",
   "execution_count": 7,
   "metadata": {},
   "outputs": [
    {
     "name": "stdout",
     "output_type": "stream",
     "text": [
      "51\n",
      "3\n",
      "IN valid operator \n",
      "0\n",
      "1\n"
     ]
    }
   ],
   "source": [
    "numbers = [3, 7, 8, 2, 20, 10, 1]\n",
    "print(oper_all(numbers , \"+\"))\n",
    "print(oper_all(numbers , \"*\"))\n",
    "print(oper_all(numbers , \"_\"))\n",
    "print(oper_all([], \"+\"))\n",
    "print(oper_all([], \"*\"))"
   ]
  },
  {
   "cell_type": "markdown",
   "metadata": {},
   "source": [
    "## 6. Write a function that returns the factorial of a number."
   ]
  },
  {
   "cell_type": "code",
   "execution_count": 8,
   "metadata": {},
   "outputs": [],
   "source": [
    "def factorial(n):\n",
    "    if n < 0 :\n",
    "        return \"factorial is not for negative numbers\"\n",
    "\n",
    "    result = 1 \n",
    "    for i in range(1 , n+1):\n",
    "        result *= i \n",
    "    return result"
   ]
  },
  {
   "cell_type": "code",
   "execution_count": 9,
   "metadata": {},
   "outputs": [
    {
     "name": "stdout",
     "output_type": "stream",
     "text": [
      "120\n",
      "1\n",
      "factorial is not for negative numbers\n"
     ]
    }
   ],
   "source": [
    "print(factorial(5))\n",
    "print(factorial(0))\n",
    "print(factorial(-3))"
   ]
  },
  {
   "cell_type": "markdown",
   "metadata": {},
   "source": [
    "## 7. Write a function that takes a list and returns a list of the unique values.\n",
    "\n",
    "`NOTE: You cannot use set. 🤔`"
   ]
  },
  {
   "cell_type": "code",
   "execution_count": 16,
   "metadata": {},
   "outputs": [],
   "source": [
    "def unique(lst_un):\n",
    "    unique_list = [0]\n",
    "\n",
    "    for item in lst_un:\n",
    "        if item not in unique_list:\n",
    "            unique_list.append(item)\n",
    "        \n",
    "        return unique_list"
   ]
  },
  {
   "cell_type": "markdown",
   "metadata": {},
   "source": [
    "## 8. Write a function that returns the mode of a list, i.e.: the element that appears the most times.\n",
    "`NOTE: You should not use count... 🧐`"
   ]
  },
  {
   "cell_type": "code",
   "execution_count": 20,
   "metadata": {},
   "outputs": [],
   "source": [
    "def mode_counter(arr):\n",
    "    frequency = {}\n",
    "    max_count = 0 \n",
    "    mode_value = None\n",
    "\n",
    "    for num in arr:\n",
    "        if num in frequency:\n",
    "                frequency[num] +=1\n",
    "\n",
    "        else:\n",
    "            frequency[num] =1 \n",
    "\n",
    "        if frequency[num] > max_count:\n",
    "            max_count = frequency[num]\n",
    "            mode_value = num \n",
    "\n",
    "        return mode_value "
   ]
  },
  {
   "cell_type": "code",
   "execution_count": 24,
   "metadata": {},
   "outputs": [
    {
     "name": "stdout",
     "output_type": "stream",
     "text": [
      "mode: 1\n"
     ]
    }
   ],
   "source": [
    "# This will test your function \n",
    "test_data = [1 , 2 , 3 , 4 , 5 , 6 , 7 , 8 , 9 , ]\n",
    "result = mode_counter(test_data)\n",
    "print(\"mode:\" , result)\n"
   ]
  },
  {
   "cell_type": "markdown",
   "metadata": {},
   "source": [
    "## 9. Write a function that calculates the standard deviation of a list.\n",
    "`NOTE: Do not use any libraries or already built functions. 😉`"
   ]
  },
  {
   "cell_type": "code",
   "execution_count": 33,
   "metadata": {},
   "outputs": [],
   "source": [
    "def st_dev(list_sd):\n",
    "    n = len(list_sd)\n",
    "    mean = sum(list_sd) /n \n",
    "    variance = sum ((x - mean ) ** 2 for x in list_sd) / n\n",
    "    std_dev = variance ** 0.5\n",
    "\n",
    "    return std_dev"
   ]
  },
  {
   "cell_type": "code",
   "execution_count": 34,
   "metadata": {},
   "outputs": [
    {
     "name": "stdout",
     "output_type": "stream",
     "text": [
      "Standard Deviation: 4.898979485566356\n"
     ]
    }
   ],
   "source": [
    "test_data = [10 , 12 , 23 , 23 , 16 , 23 , 21 , 16]\n",
    "result = st_dev(test_data)\n",
    "\n",
    "print(\"Standard Deviation:\" , result)"
   ]
  },
  {
   "cell_type": "markdown",
   "metadata": {},
   "source": [
    "## 10. Write a function to check if a string is a pangram, i.e.: if it contains all the letters of the alphabet at least once. Mind that the strings may contain characters that are not letters."
   ]
  },
  {
   "cell_type": "code",
   "execution_count": 36,
   "metadata": {},
   "outputs": [],
   "source": [
    "import string \n",
    "def pangram(s):\n",
    "    alphabet = set(string.ascii_lowercase)\n",
    "    return alphabet <= set(s.lower())\n"
   ]
  },
  {
   "cell_type": "code",
   "execution_count": 37,
   "metadata": {},
   "outputs": [
    {
     "name": "stdout",
     "output_type": "stream",
     "text": [
      "True\n"
     ]
    }
   ],
   "source": [
    "test_sentence = \"quick brown fox jumps over the lazy dog \"\n",
    "print(pangram(test_sentence))"
   ]
  },
  {
   "cell_type": "markdown",
   "metadata": {},
   "source": [
    "## 11. Write a function that receives a string of comma separated words and returns a string of comma separated words sorted alphabetically.\n",
    "\n",
    "`NOTE: You may use sorted but not split and definitely no join! 🤪`"
   ]
  },
  {
   "cell_type": "code",
   "execution_count": 39,
   "metadata": {},
   "outputs": [],
   "source": [
    "def sort_alpha(words):\n",
    "    sorted_words = sorted(words)\n",
    "    return sorted_words"
   ]
  },
  {
   "cell_type": "code",
   "execution_count": 40,
   "metadata": {},
   "outputs": [
    {
     "name": "stdout",
     "output_type": "stream",
     "text": [
      "[' oreng', 'apple', 'banana ', 'cherry']\n"
     ]
    }
   ],
   "source": [
    "test_data = [\"banana \", \"apple\" ,\" oreng\" , \"cherry\" ]\n",
    "print(sort_alpha(test_data))"
   ]
  },
  {
   "cell_type": "markdown",
   "metadata": {},
   "source": [
    "## 12. Write a function to check if a given password is strong (at least 8 characters, at least one lower case, at least one upper case, at least one number and at least one special character). It should output True if strong and False if not."
   ]
  },
  {
   "cell_type": "code",
   "execution_count": 14,
   "metadata": {},
   "outputs": [],
   "source": [
    "import re \n",
    "def check_pass(password):\n",
    "\n",
    "    if (len(password) >= 8 and re.search(r\"[a-z]\" , password) and re.search(r\"[A-Z]\" , password) and re.search(r\"\\d\" , password) and re.search(r\"[!@#$%^&*(),.?\\\":{}|<>]\" , password)):\n",
    "        return true \n",
    "        return false \n"
   ]
  },
  {
   "cell_type": "code",
   "execution_count": 15,
   "metadata": {},
   "outputs": [
    {
     "name": "stdout",
     "output_type": "stream",
     "text": [
      "None\n",
      "None\n"
     ]
    }
   ],
   "source": [
    "print(check_pass(\"strongpass1 !\"))\n",
    "print(check_pass(\"weakpass !\"))\n"
   ]
  },
  {
   "cell_type": "code",
   "execution_count": null,
   "metadata": {},
   "outputs": [],
   "source": []
  }
 ],
 "metadata": {
  "kernelspec": {
   "display_name": "Python 3",
   "language": "python",
   "name": "python3"
  },
  "language_info": {
   "codemirror_mode": {
    "name": "ipython",
    "version": 3
   },
   "file_extension": ".py",
   "mimetype": "text/x-python",
   "name": "python",
   "nbconvert_exporter": "python",
   "pygments_lexer": "ipython3",
   "version": "3.11.9"
  }
 },
 "nbformat": 4,
 "nbformat_minor": 4
}
