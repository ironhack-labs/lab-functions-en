{
 "cells": [
  {
   "cell_type": "markdown",
   "metadata": {},
   "source": [
    "# Functions"
   ]
  },
  {
   "cell_type": "markdown",
   "metadata": {},
   "source": [
    "On this lab we will put to practice some of the concepts we have learned on this past few days.\n",
    "\n",
    "`NOTE: On this lab you should try to write all the functions yourself using only the most basic of python syntax and without functions such as len, count, sum, max, min, in, etc. Give it a try. 🧑🏻‍💻👩🏻‍💻`\n",
    "\n",
    "The cell after each exercise contains a few tests to check if your function works as expected."
   ]
  },
  {
   "cell_type": "code",
   "execution_count": 2,
   "metadata": {},
   "outputs": [],
   "source": [
    "from mod.testing import *\n",
    "import unittest\n"
   ]
  },
  {
   "cell_type": "markdown",
   "metadata": {},
   "source": [
    "## 1. Write a function that returns the greater of two numbers"
   ]
  },
  {
   "cell_type": "code",
   "execution_count": 4,
   "metadata": {},
   "outputs": [],
   "source": [
    "def greater(a,b):\n",
    "#your code here\n",
    "    if a > b:\n",
    "        return a\n",
    "    return b #I keep forgetting I don't need the last else here"
   ]
  },
  {
   "cell_type": "code",
   "execution_count": 5,
   "metadata": {},
   "outputs": [
    {
     "name": "stderr",
     "output_type": "stream",
     "text": [
      "....................................................................................................\n",
      "----------------------------------------------------------------------\n",
      "Ran 100 tests in 0.031s\n",
      "\n",
      "OK\n"
     ]
    }
   ],
   "source": [
    "# This will test your function \n",
    "test_greater(greater)"
   ]
  },
  {
   "cell_type": "markdown",
   "metadata": {},
   "source": [
    "## 2. Now write a function that returns the largest element on a list"
   ]
  },
  {
   "cell_type": "code",
   "execution_count": 10,
   "metadata": {},
   "outputs": [],
   "source": [
    "#your code here\n",
    "\"\"\"\n",
    "for this I need to count over the elements of the list.\n",
    "#because I am encouraged not to use the len() funtion,\n",
    "I am going to create my own version of len()\n",
    "and refer to it on further exercises.\n",
    "Hope this is not cheating! xD\n",
    "\n",
    "Then, later on this notebook, using recursive here revealed to be a poor choice, since I ran out of times the function could reccurr itself.\n",
    "def my_len(lista):\n",
    "    if lista == []:\n",
    "        return 0\n",
    "    return 1 + my_len(lista[1:])\n",
    "\"\"\"\n",
    "def my_len(lst):\n",
    "    i= 0\n",
    "    try:\n",
    "        while True:\n",
    "            if not lst[i] == None:\n",
    "                i += 1\n",
    "            else:\n",
    "                break\n",
    "    except Exception as e:\n",
    "        return i\n",
    "    return i\n",
    "    \n",
    "\n",
    "\"\"\"\n",
    "I found out that we could call the same function we are defining on the return statement\n",
    "by accident, when I was trying to do exercise 6.\n",
    "I'ts a cool thing to know, I had never done it before, but it is useful here as well.\n",
    "\"\"\"\n",
    "    \n",
    "def greatest(lista):\n",
    "    i = 0\n",
    "    largest = lista[0]\n",
    "    while i < my_len(lista):\n",
    "        if lista[i] > largest:\n",
    "            largest = lista[i]\n",
    "        i+=1\n",
    "    return largest"
   ]
  },
  {
   "cell_type": "code",
   "execution_count": 12,
   "metadata": {},
   "outputs": [
    {
     "name": "stderr",
     "output_type": "stream",
     "text": [
      "....................................................................................................\n",
      "----------------------------------------------------------------------\n",
      "Ran 100 tests in 0.041s\n",
      "\n",
      "OK\n"
     ]
    }
   ],
   "source": [
    "# This will test your function \n",
    "test_greatest(greatest)"
   ]
  },
  {
   "cell_type": "markdown",
   "metadata": {},
   "source": [
    "## 3. Write a function that sums all the elements on a list"
   ]
  },
  {
   "cell_type": "code",
   "execution_count": 15,
   "metadata": {},
   "outputs": [],
   "source": [
    "def sum_all(lst):\n",
    "#your code here\n",
    "    sum = 0\n",
    "    i = 0\n",
    "    while i < my_len(lst):\n",
    "        sum += lst[i]\n",
    "        i += 1\n",
    "    return sum"
   ]
  },
  {
   "cell_type": "code",
   "execution_count": 17,
   "metadata": {
    "scrolled": true
   },
   "outputs": [
    {
     "name": "stderr",
     "output_type": "stream",
     "text": [
      "....................................................................................................\n",
      "----------------------------------------------------------------------\n",
      "Ran 100 tests in 0.041s\n",
      "\n",
      "OK\n"
     ]
    }
   ],
   "source": [
    "# This will test your function \n",
    "test_sum(sum_all)"
   ]
  },
  {
   "cell_type": "markdown",
   "metadata": {},
   "source": [
    "## 4. Write another function that multiplies all the elements on a list"
   ]
  },
  {
   "cell_type": "code",
   "execution_count": 20,
   "metadata": {},
   "outputs": [],
   "source": [
    "def mult_all(lst):\n",
    "#your code here\n",
    "    product = 1 #just using the previous code, but NOT starting the product with zero...\n",
    "    j = 0\n",
    "    while j < my_len(lst):\n",
    "        product *= lst[j]\n",
    "        j += 1\n",
    "    return product"
   ]
  },
  {
   "cell_type": "code",
   "execution_count": 22,
   "metadata": {
    "scrolled": true
   },
   "outputs": [
    {
     "name": "stderr",
     "output_type": "stream",
     "text": [
      "....................................................................................................\n",
      "----------------------------------------------------------------------\n",
      "Ran 100 tests in 0.042s\n",
      "\n",
      "OK\n"
     ]
    }
   ],
   "source": [
    "# This will test your function \n",
    "test_mult(mult_all)"
   ]
  },
  {
   "cell_type": "markdown",
   "metadata": {},
   "source": [
    "## 5. Now combine those two ideas and write a function that receives a list and either \"+\" or \"*\" and outputs acordingly"
   ]
  },
  {
   "cell_type": "code",
   "execution_count": 25,
   "metadata": {},
   "outputs": [],
   "source": [
    "def oper_all(arr, oper = \"*\"):\n",
    "#your code here\n",
    "    if oper == \"*\":\n",
    "        product = 1 #just using the previous code, but NOT starting the product with zero...\n",
    "        j = 0\n",
    "        while j < my_len(arr):\n",
    "            product *= arr[j]\n",
    "            j += 1\n",
    "        return product\n",
    "    elif oper == \"+\":\n",
    "        sum = 0\n",
    "        i = 0\n",
    "        while i < my_len(arr):\n",
    "            sum += arr[i]\n",
    "            i += 1\n",
    "        return sum"
   ]
  },
  {
   "cell_type": "code",
   "execution_count": 27,
   "metadata": {},
   "outputs": [
    {
     "name": "stderr",
     "output_type": "stream",
     "text": [
      "....................................................................................................\n",
      "----------------------------------------------------------------------\n",
      "Ran 100 tests in 0.043s\n",
      "\n",
      "OK\n"
     ]
    }
   ],
   "source": [
    "# This will test your function \n",
    "test_operations(oper_all)"
   ]
  },
  {
   "cell_type": "markdown",
   "metadata": {},
   "source": [
    "## 6. Write a function that returns the factorial of a number."
   ]
  },
  {
   "cell_type": "code",
   "execution_count": 30,
   "metadata": {},
   "outputs": [],
   "source": [
    "\"\"\"\n",
    "This was my first try:\n",
    "\n",
    "def factorial(n):\n",
    "    factor = n\n",
    "    while factor > 1:\n",
    "        factor -= 1\n",
    "        n *= factor\n",
    "    return n\n",
    "\n",
    "Then I tried calling my own function, because that's how factorials work in my brain\n",
    "(and calculus series)\n",
    "so I tried it... and it worked!! I learned a new thing!!\n",
    "\"\"\"\n",
    "\n",
    "def factorial(n):\n",
    "    if n == 0:\n",
    "        return 1 #The factorial of zero is 1\n",
    "    return n*factorial(n-1)"
   ]
  },
  {
   "cell_type": "code",
   "execution_count": 32,
   "metadata": {},
   "outputs": [],
   "source": [
    "#factorial formula\n",
    "#n! = n * ( n - 1 ) *...*1\n",
    "\n",
    "# This code defines a function called \"factorial\" which takes an input \"n\". The function uses a for loop to iterate through the range of numbers \n",
    "# from 1 to n+1. For each number in that range, it multiplies the current value of x by the number in the range. At the end of the loop, \n",
    "# the function returns the final value of x, which will be the factorial of the input number \"n\".\n",
    "\n",
    "# The Factorial of a positive integer n is the product of all positive integers less than or equal to n. \n",
    "# For example, the factorial of 6 (written \"6!\") is 6 * 5 * 4 * 3 * 2 * 1 = 720.\n",
    "\n",
    "# So this function takes an input of any positive integer, and returns the factorial of that number."
   ]
  },
  {
   "cell_type": "code",
   "execution_count": 34,
   "metadata": {},
   "outputs": [
    {
     "name": "stderr",
     "output_type": "stream",
     "text": [
      "....................................................................................................\n",
      "----------------------------------------------------------------------\n",
      "Ran 100 tests in 0.030s\n",
      "\n",
      "OK\n"
     ]
    }
   ],
   "source": [
    "# This will test your function \n",
    "test_factorial(factorial)"
   ]
  },
  {
   "cell_type": "markdown",
   "metadata": {},
   "source": [
    "## 7. Write a function that takes a list and returns a list of the unique values.\n",
    "\n",
    "`NOTE: You cannot use set. 🤔`"
   ]
  },
  {
   "cell_type": "code",
   "execution_count": 37,
   "metadata": {},
   "outputs": [],
   "source": [
    "\"\"\"\n",
    "Ok, same as with len(), I'm going to create my own in function. \n",
    "(running out of ideas on how to avoid it)\n",
    "\"\"\"\n",
    "def my_in(element, structure):\n",
    "    if structure == []:\n",
    "        return False\n",
    "    if element == structure[0]:\n",
    "        return True\n",
    "    return my_in(element, structure[1:]) #using slicing to shorten the list I'm comparing to each time.\n",
    "\n",
    "\n",
    "def unique(lst_un):\n",
    "    if lst_un == []:\n",
    "        return []\n",
    "    unique_list = lst_un[1:]\n",
    "    if my_in(lst_un[0], unique_list): \n",
    "        return unique(unique_list) #not including the first element of our list_un (when it is repeated on the list), so that it will not be added to the unique_list\n",
    "    else:\n",
    "        return [lst_un[0]] + unique(unique_list)"
   ]
  },
  {
   "cell_type": "code",
   "execution_count": 39,
   "metadata": {},
   "outputs": [
    {
     "name": "stderr",
     "output_type": "stream",
     "text": [
      "....................................................................................................\n",
      "----------------------------------------------------------------------\n",
      "Ran 100 tests in 4.007s\n",
      "\n",
      "OK\n"
     ]
    }
   ],
   "source": [
    "# This will test your function \n",
    "test_unique(unique)"
   ]
  },
  {
   "cell_type": "markdown",
   "metadata": {},
   "source": [
    "## 8. Write a function that returns the mode of a list, i.e.: the element that appears the most times.\n",
    "`NOTE: You should not use count... 🧐`"
   ]
  },
  {
   "cell_type": "code",
   "execution_count": 42,
   "metadata": {},
   "outputs": [],
   "source": [
    "def mode_counter(arr):\n",
    "#your code here\n",
    "    if arr == []:\n",
    "        return None\n",
    "    unique_list = unique(arr)\n",
    "    counter_list = []\n",
    "    firstitt = 0\n",
    "    \n",
    "    length_un = my_len(unique_list)\n",
    "    length_arr = my_len(arr)\n",
    "    \n",
    "    while firstitt < length_un:\n",
    "        seconditt = 0\n",
    "        contador = 0\n",
    "        while seconditt < length_arr:\n",
    "            if unique_list[firstitt] == arr[seconditt]:\n",
    "                contador += 1\n",
    "            seconditt += 1\n",
    "        counter_list.append(contador)\n",
    "        firstitt += 1\n",
    "    mode_freq = greatest(counter_list)\n",
    "\n",
    "    thirditt = 0\n",
    "    while thirditt < length_un:\n",
    "        if counter_list[thirditt] == mode_freq:\n",
    "            mode = unique_list[thirditt]\n",
    "        thirditt += 1\n",
    "\n",
    "    return mode"
   ]
  },
  {
   "cell_type": "code",
   "execution_count": 44,
   "metadata": {},
   "outputs": [
    {
     "name": "stderr",
     "output_type": "stream",
     "text": [
      "....................................................................................................\n",
      "----------------------------------------------------------------------\n",
      "Ran 100 tests in 0.134s\n",
      "\n",
      "OK\n"
     ]
    }
   ],
   "source": [
    "# This will test your function \n",
    "test_mode(mode_counter)"
   ]
  },
  {
   "cell_type": "markdown",
   "metadata": {},
   "source": [
    "## 9. Write a function that calculates the standard deviation of a list.\n",
    "`NOTE: Do not use any libraries or already built functions. 😉`"
   ]
  },
  {
   "cell_type": "code",
   "execution_count": 47,
   "metadata": {},
   "outputs": [],
   "source": [
    "def my_mean(list_mean):\n",
    "    mean = sum_all(list_mean)/my_len(list_mean)\n",
    "    return mean\n",
    "\n",
    "def st_dev(list_sd):\n",
    "#your code here\n",
    "    i = 0\n",
    "    var_list = []\n",
    "    mean_list_sd = my_mean(list_sd)\n",
    "    while i < my_len(list_sd):\n",
    "        var = (list_sd[i] - mean_list_sd)**2\n",
    "        var_list.append(var)\n",
    "        i += 1\n",
    "    stand_dev = (sum_all(var_list)/(my_len(var_list)-1))**(1/2) # Needed Bessel's Correction; would give errors if I just used the mean\n",
    "    return stand_dev"
   ]
  },
  {
   "cell_type": "code",
   "execution_count": 49,
   "metadata": {},
   "outputs": [
    {
     "name": "stderr",
     "output_type": "stream",
     "text": [
      "....................................................................................................\n",
      "----------------------------------------------------------------------\n",
      "Ran 100 tests in 0.072s\n",
      "\n",
      "OK\n"
     ]
    }
   ],
   "source": [
    "# This will test your function \n",
    "test_stdev(st_dev)"
   ]
  },
  {
   "cell_type": "markdown",
   "metadata": {},
   "source": [
    "## 10. Write a function to check if a string is a pangram, i.e.: if it contains all the letters of the alphabet at least once. Mind that the strings may contain characters that are not letters."
   ]
  },
  {
   "cell_type": "code",
   "execution_count": 52,
   "metadata": {},
   "outputs": [],
   "source": [
    "\"\"\"\n",
    "Instead of using the .lower() method, I could have done something like this:\n",
    "\n",
    "def clean_string(string):\n",
    "    string_length = my_len(string)\n",
    "    newString = []\n",
    "\n",
    "    i = 0\n",
    "    while i < string_length:\n",
    "\n",
    "        if string[i] == \"A\" or string[i] == \"a\":\n",
    "            newString.append(\"a\")\n",
    "        elif string[i] == \"B\" or string[i] == \"b\":\n",
    "            newString.append(\"b\")\n",
    "        elif string[i] == \"C\" or string[i] == \"c\":\n",
    "            newString.append(\"c\")\n",
    "        elif string[i] == \"D\" or string[i] == \"d\":\n",
    "            newString.append(\"d\")\n",
    "        elif string[i] == \"E\" or string[i] == \"e\":\n",
    "            newString.append(\"e\")\n",
    "        elif string[i] == \"F\" or string[i] == \"f\":\n",
    "            newString.append(\"f\")\n",
    "        elif string[i] == \"G\" or string[i] == \"g\":\n",
    "            newString.append(\"g\")\n",
    "        elif string[i] == \"H\" or string[i] == \"h\":\n",
    "            newString.append(\"h\")\n",
    "        elif string[i] == \"I\" or string[i] == \"i\":\n",
    "            newString.append(\"i\")\n",
    "        elif string[i] == \"J\" or string[i] == \"j\":\n",
    "            newString.append(\"j\")\n",
    "        elif string[i] == \"K\" or string[i] == \"k\":\n",
    "            newString.append(\"k\")\n",
    "        elif string[i] == \"L\" or string[i] == \"l\":\n",
    "            newString.append(\"l\")\n",
    "        elif string[i] == \"M\" or string[i] == \"m\":\n",
    "            newString.append(\"m\")\n",
    "        elif string[i] == \"N\" or string[i] == \"n\":\n",
    "            newString.append(\"n\")\n",
    "        elif string[i] == \"O\" or string[i] == \"o\":\n",
    "            newString.append(\"o\")\n",
    "        elif string[i] == \"P\" or string[i] == \"p\":\n",
    "            newString.append(\"p\")\n",
    "        elif string[i] == \"Q\" or string[i] == \"q\":\n",
    "            newString.append(\"q\")\n",
    "        elif string[i] == \"R\" or string[i] == \"r\":\n",
    "            newString.append(\"r\")\n",
    "        elif string[i] == \"S\" or string[i] == \"s\":\n",
    "            newString.append(\"s\")\n",
    "        elif string[i] == \"T\" or string[i] == \"t\":\n",
    "            newString.append(\"t\")\n",
    "        elif string[i] == \"U\" or string[i] == \"u\":\n",
    "            newString.append(\"u\")\n",
    "        elif string[i] == \"V\" or string[i] == \"v\":\n",
    "            newString.append(\"v\")\n",
    "        elif string[i] == \"W\" or string[i] == \"w\":\n",
    "            newString.append(\"w\")\n",
    "        elif string[i] == \"X\" or string[i] == \"x\":\n",
    "            newString.append(\"x\")\n",
    "        elif string[i] == \"Y\" or string[i] == \"y\":\n",
    "            newString.append(\"y\")\n",
    "        elif string[i] == \"Z\" or string[i] == \"z\":\n",
    "            newString.append(\"z\")\n",
    "        i += 1\n",
    "\n",
    "    return newString\n",
    "    \n",
    "def pangram(string):\n",
    "    new_string = clean_string(string)\n",
    "    return my_len(new_string) == 26\n",
    "\n",
    "\"\"\"\n",
    "\n",
    "def pangram(string):\n",
    "#your code here\n",
    "    alphabet_string = \"abcdefghijklmnopqrstuvwxyz\"\n",
    "    string = string.lower()\n",
    "    i = 0\n",
    "    match_the_alphabet = []\n",
    "\n",
    "    length_alpha = my_len(alphabet_string)\n",
    "    length_string = my_len(string)\n",
    "    \n",
    "    while i < length_alpha:\n",
    "        j = 0\n",
    "        while j < length_string:\n",
    "            if alphabet_string[i] == string[j]:\n",
    "                match_the_alphabet.append(string[j])\n",
    "                break\n",
    "            j += 1\n",
    "        i += 1\n",
    "    count_true = unique(match_the_alphabet)\n",
    "    return my_len(count_true) == my_len(alphabet_string)"
   ]
  },
  {
   "cell_type": "code",
   "execution_count": 54,
   "metadata": {},
   "outputs": [
    {
     "name": "stderr",
     "output_type": "stream",
     "text": [
      "..............................\n",
      "----------------------------------------------------------------------\n",
      "Ran 30 tests in 0.012s\n",
      "\n",
      "OK\n"
     ]
    }
   ],
   "source": [
    "# This will test your function \n",
    "test_pangram(pangram)"
   ]
  },
  {
   "cell_type": "markdown",
   "metadata": {},
   "source": [
    "## 11. Write a function that receives a string of comma separated words and returns a string of comma separated words sorted alphabetically.\n",
    "\n",
    "`NOTE: You may use sorted but not split and definitely no join! 🤪`"
   ]
  },
  {
   "cell_type": "code",
   "execution_count": 57,
   "metadata": {},
   "outputs": [],
   "source": [
    "def sort_alpha(string):\n",
    "#your code here\n",
    "    new_string = \"\"\n",
    "    len_string = my_len(string)\n",
    "    list_words = []\n",
    "    i = 0\n",
    "    while i < len_string:\n",
    "        j = i\n",
    "        while j < len_string and string[j] != \",\":\n",
    "            j += 1\n",
    "        list_words.append(string[i:j])\n",
    "        i = j + 1\n",
    "        \n",
    "    sorted_list = sorted(list_words)\n",
    "    sorted_len = my_len(sorted_list)\n",
    "    \n",
    "    h = 0\n",
    "    while h < sorted_len:\n",
    "        new_string += sorted_list[h]\n",
    "        h += 1\n",
    "        if h < sorted_len:  #Without this, I get an error, because a comma is printed after the last word is added\n",
    "            new_string += \",\"\n",
    "            \n",
    "    return new_string"
   ]
  },
  {
   "cell_type": "code",
   "execution_count": 59,
   "metadata": {},
   "outputs": [
    {
     "name": "stderr",
     "output_type": "stream",
     "text": [
      "....................................................................................................\n",
      "----------------------------------------------------------------------\n",
      "Ran 100 tests in 0.030s\n",
      "\n",
      "OK\n"
     ]
    }
   ],
   "source": [
    "# This will test your function \n",
    "test_alpha(sort_alpha)"
   ]
  },
  {
   "cell_type": "markdown",
   "metadata": {},
   "source": [
    "## 12. Write a function to check if a given password is strong (at least 8 characters, at least one lower case, at least one upper case, at least one number and at least one special character). It should output True if strong and False if not."
   ]
  },
  {
   "cell_type": "code",
   "execution_count": 62,
   "metadata": {},
   "outputs": [],
   "source": [
    "def check_presence(string, string_ref):\n",
    "    i = 0\n",
    "    match_the_ref = []\n",
    "\n",
    "    length_ref = my_len(string_ref)\n",
    "    length_string = my_len(string)\n",
    "    check = False\n",
    "    \n",
    "    while i < length_ref:\n",
    "        j = 0\n",
    "        while j < length_string:\n",
    "            if string_ref[i] == string[j]:\n",
    "                check = True\n",
    "                break\n",
    "            j += 1\n",
    "        i += 1\n",
    "        \n",
    "    return check\n",
    "\n",
    "def check_pass(password):\n",
    "#your code here\n",
    "    check1 = False\n",
    "    check2 = False\n",
    "    check3 = False\n",
    "    check4 = False\n",
    "    check5 = False\n",
    "    \n",
    "    pass_len = my_len(password)\n",
    "    if pass_len >= 8:\n",
    "        check1 = True\n",
    "\n",
    "    alphabet_string = \"abcdefghijklmnopqrstuvwxyz\"\n",
    "    if check_presence(password, alphabet_string):\n",
    "        check2 = True\n",
    "\n",
    "    upper_string = \"ABCDEFGHIJKLMNOPQRSTUVWXYZ\"\n",
    "    if check_presence(password, upper_string):\n",
    "        check3 = True\n",
    "    \n",
    "    num_string = \"0123456789\"\n",
    "    if check_presence(password, num_string):\n",
    "        check4 = True\n",
    "\n",
    "    char_string = \"!\\\"#$%&'()*+,-./:;<=>?@[\\\\]^_`{|}~\"\n",
    "    if check_presence(password, char_string):\n",
    "        check5 = True\n",
    "\n",
    "    return check1 and check2 and check3 and check4 and check5"
   ]
  },
  {
   "cell_type": "code",
   "execution_count": 64,
   "metadata": {},
   "outputs": [
    {
     "name": "stderr",
     "output_type": "stream",
     "text": [
      "....................................................................................................\n",
      "----------------------------------------------------------------------\n",
      "Ran 100 tests in 0.036s\n",
      "\n",
      "OK\n"
     ]
    }
   ],
   "source": [
    "# This will test your function \n",
    "test_pass(check_pass)"
   ]
  }
 ],
 "metadata": {
  "kernelspec": {
   "display_name": "Python 3 (ipykernel)",
   "language": "python",
   "name": "python3"
  },
  "language_info": {
   "codemirror_mode": {
    "name": "ipython",
    "version": 3
   },
   "file_extension": ".py",
   "mimetype": "text/x-python",
   "name": "python",
   "nbconvert_exporter": "python",
   "pygments_lexer": "ipython3",
   "version": "3.12.4"
  },
  "vscode": {
   "interpreter": {
    "hash": "aee8b7b246df8f9039afb4144a1f6fd8d2ca17a180786b69acc140d282b71a49"
   }
  }
 },
 "nbformat": 4,
 "nbformat_minor": 4
}
