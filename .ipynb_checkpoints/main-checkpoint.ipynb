{
 "cells": [
  {
   "cell_type": "markdown",
   "metadata": {},
   "source": [
    "# Functions"
   ]
  },
  {
   "cell_type": "markdown",
   "metadata": {},
   "source": [
    "On this lab we will put to practice some of the concepts we have learned on this past few days.\n",
    "\n",
    "`NOTE: On this lab you should try to write all the functions yourself using only the most basic of python syntax and without functions such as len, count, sum, max, min, in, etc. Give it a try. 🧑🏻‍💻👩🏻‍💻`\n",
    "\n",
    "The cell after each exercise contains a few tests to check if your function works as expected."
   ]
  },
  {
   "cell_type": "code",
   "execution_count": 1,
   "metadata": {},
   "outputs": [],
   "source": [
    "from mod.testing import *\n",
    "import unittest"
   ]
  },
  {
   "cell_type": "markdown",
   "metadata": {},
   "source": [
    "## 1. Write a function that returns the greater of two numbers"
   ]
  },
  {
   "cell_type": "code",
   "execution_count": 4,
   "metadata": {},
   "outputs": [],
   "source": [
    "def greater(a,b):\n",
    "\n",
    "    #Check which is greater than the other\n",
    "    if a > b:\n",
    "        return a\n",
    "    elif a < b:\n",
    "        return b\n",
    "    else:\n",
    "        print(\"Both numbers are equal\")\n",
    "        return None\n",
    "     "
   ]
  },
  {
   "cell_type": "code",
   "execution_count": 6,
   "metadata": {},
   "outputs": [
    {
     "name": "stderr",
     "output_type": "stream",
     "text": [
      "....................................................................................................\n",
      "----------------------------------------------------------------------\n",
      "Ran 100 tests in 0.092s\n",
      "\n",
      "OK\n"
     ]
    }
   ],
   "source": [
    "# This will test your function \n",
    "test_greater(greater)"
   ]
  },
  {
   "cell_type": "markdown",
   "metadata": {},
   "source": [
    "## 2. Now write a function that returns the largest element on a list"
   ]
  },
  {
   "cell_type": "code",
   "execution_count": 9,
   "metadata": {},
   "outputs": [],
   "source": [
    "#Function that returns the largest element on a list\n",
    "def greatest(input_list):\n",
    "\n",
    "    #Set negative infinity to initialize the largest value\n",
    "    largest = -float('inf')\n",
    "\n",
    "    #Loop through the input list \n",
    "    for num in input_list:\n",
    "\n",
    "        #Check if new value is greater than current value then assign it to the return variable largest\n",
    "        if num > largest:\n",
    "            largest = num\n",
    "        else:\n",
    "            continue\n",
    "\n",
    "    return largest"
   ]
  },
  {
   "cell_type": "code",
   "execution_count": 11,
   "metadata": {},
   "outputs": [
    {
     "name": "stderr",
     "output_type": "stream",
     "text": [
      "....................................................................................................\n",
      "----------------------------------------------------------------------\n",
      "Ran 100 tests in 0.095s\n",
      "\n",
      "OK\n"
     ]
    }
   ],
   "source": [
    "# This will test your function \n",
    "test_greatest(greatest)"
   ]
  },
  {
   "cell_type": "markdown",
   "metadata": {},
   "source": [
    "## 3. Write a function that sums all the elements on a list"
   ]
  },
  {
   "cell_type": "code",
   "execution_count": 14,
   "metadata": {},
   "outputs": [],
   "source": [
    "#Function that returns the largest element on a list\n",
    "def sum_all(num_list):\n",
    "    #Initialize the output variable to calculate the sum\n",
    "    total_sum = 0\n",
    "\n",
    "    #Loop through the input list and add them\n",
    "    for num in num_list:\n",
    "        total_sum += num\n",
    "\n",
    "    return total_sum\n",
    "        "
   ]
  },
  {
   "cell_type": "code",
   "execution_count": 16,
   "metadata": {
    "scrolled": true
   },
   "outputs": [
    {
     "name": "stderr",
     "output_type": "stream",
     "text": [
      "....................................................................................................\n",
      "----------------------------------------------------------------------\n",
      "Ran 100 tests in 0.079s\n",
      "\n",
      "OK\n"
     ]
    }
   ],
   "source": [
    "# This will test your function \n",
    "test_sum(sum_all)"
   ]
  },
  {
   "cell_type": "code",
   "execution_count": 18,
   "metadata": {},
   "outputs": [
    {
     "name": "stdout",
     "output_type": "stream",
     "text": [
      "True\n"
     ]
    }
   ],
   "source": [
    "list = [1,1,2,0]\n",
    "\n",
    "if 0 in list:\n",
    "    print(True)"
   ]
  },
  {
   "cell_type": "markdown",
   "metadata": {},
   "source": [
    "## 4. Write another function that multiplies all the elements on a list"
   ]
  },
  {
   "cell_type": "code",
   "execution_count": 21,
   "metadata": {},
   "outputs": [],
   "source": [
    "def mult_all(num_list):\n",
    "\n",
    "    #Initialize the value\n",
    "    total_mult = 1\n",
    "    \n",
    "    #Loop through the input list and multiply them\n",
    "    for num in num_list:\n",
    "        #Check if the value is 0 then return zero and stop\n",
    "        if num == 0:\n",
    "            return 0\n",
    "        else:\n",
    "            total_mult *= num\n",
    "\n",
    "    return total_mult"
   ]
  },
  {
   "cell_type": "code",
   "execution_count": 23,
   "metadata": {
    "scrolled": true
   },
   "outputs": [
    {
     "name": "stderr",
     "output_type": "stream",
     "text": [
      "....................................................................................................\n",
      "----------------------------------------------------------------------\n",
      "Ran 100 tests in 0.067s\n",
      "\n",
      "OK\n"
     ]
    }
   ],
   "source": [
    "# This will test your function \n",
    "test_mult(mult_all)"
   ]
  },
  {
   "cell_type": "markdown",
   "metadata": {},
   "source": [
    "## 5. Now combine those two ideas and write a function that receives a list and either \"+\" or \"*\" and outputs acordingly"
   ]
  },
  {
   "cell_type": "code",
   "execution_count": 26,
   "metadata": {},
   "outputs": [],
   "source": [
    "def oper_all(arr, oper = \"*\"):\n",
    "\n",
    "    #Check if the operator is either * or +\n",
    "    if oper not in ['+', '*']:\n",
    "        return \"Wrong Operator. Choose either + or *\"\n",
    "\n",
    "    #Addition section\n",
    "    if oper == '+':\n",
    "        \n",
    "        total = 0\n",
    "        \n",
    "        for num in arr:\n",
    "            total += num\n",
    "\n",
    "    else:\n",
    "\n",
    "        #Initialize the value\n",
    "        total = 1\n",
    "    \n",
    "        #Loop through the input list and multiply them\n",
    "        for num in arr:\n",
    "            #Check if the value is 0 then return zero and stop\n",
    "            if num == 0:\n",
    "                return 0\n",
    "            else:\n",
    "                total *= num\n",
    "\n",
    "    return total\n",
    "        \n",
    "        \n",
    "    "
   ]
  },
  {
   "cell_type": "code",
   "execution_count": 28,
   "metadata": {},
   "outputs": [
    {
     "name": "stderr",
     "output_type": "stream",
     "text": [
      "....................................................................................................\n",
      "----------------------------------------------------------------------\n",
      "Ran 100 tests in 0.074s\n",
      "\n",
      "OK\n"
     ]
    }
   ],
   "source": [
    "# This will test your function \n",
    "test_operations(oper_all)"
   ]
  },
  {
   "cell_type": "markdown",
   "metadata": {},
   "source": [
    "## 6. Write a function that returns the factorial of a number."
   ]
  },
  {
   "cell_type": "code",
   "execution_count": 31,
   "metadata": {},
   "outputs": [],
   "source": [
    "#factorial formula\n",
    "#n! = n * ( n - 1 ) *...*1\n",
    "\n",
    "# This code defines a function called \"factorial\" which takes an input \"n\". The function uses a for loop to iterate through the range of numbers \n",
    "# from 1 to n+1. For each number in that range, it multiplies the current value of x by the number in the range. At the end of the loop, \n",
    "# the function returns the final value of x, which will be the factorial of the input number \"n\".\n",
    "\n",
    "# The Factorial of a positive integer n is the product of all positive integers less than or equal to n. \n",
    "# For example, the factorial of 6 (written \"6!\") is 6 * 5 * 4 * 3 * 2 * 1 = 720.\n",
    "\n",
    "# So this function takes an input of any positive integer, and returns the factorial of that number."
   ]
  },
  {
   "cell_type": "code",
   "execution_count": 33,
   "metadata": {},
   "outputs": [],
   "source": [
    "#Function to find factorial using recursion\n",
    "def factorial(n):\n",
    "\n",
    "    #Base Case\n",
    "    if n == 0 or n == 1:\n",
    "        return 1\n",
    "    else:\n",
    "        return n * factorial(n-1)"
   ]
  },
  {
   "cell_type": "code",
   "execution_count": 35,
   "metadata": {},
   "outputs": [
    {
     "name": "stderr",
     "output_type": "stream",
     "text": [
      "....................................................................................................\n",
      "----------------------------------------------------------------------\n",
      "Ran 100 tests in 0.074s\n",
      "\n",
      "OK\n"
     ]
    }
   ],
   "source": [
    "# This will test your function \n",
    "test_factorial(factorial)"
   ]
  },
  {
   "cell_type": "markdown",
   "metadata": {},
   "source": [
    "## 7. Write a function that takes a list and returns a list of the unique values.\n",
    "\n",
    "`NOTE: You cannot use set. 🤔`"
   ]
  },
  {
   "cell_type": "code",
   "execution_count": 38,
   "metadata": {},
   "outputs": [],
   "source": [
    "def unique(num_list):\n",
    "    \n",
    "    unique_list = []\n",
    "    \n",
    "    for num in num_list:\n",
    "        \n",
    "        if num not in unique_list:\n",
    "            unique_list.append(num)\n",
    "        else:\n",
    "            continue\n",
    "\n",
    "    return unique_list"
   ]
  },
  {
   "cell_type": "code",
   "execution_count": 40,
   "metadata": {},
   "outputs": [
    {
     "name": "stderr",
     "output_type": "stream",
     "text": [
      "....................................................................................................\n",
      "----------------------------------------------------------------------\n",
      "Ran 100 tests in 0.113s\n",
      "\n",
      "OK\n"
     ]
    }
   ],
   "source": [
    "# This will test your function \n",
    "test_unique(unique)"
   ]
  },
  {
   "cell_type": "markdown",
   "metadata": {},
   "source": [
    "## 8. Write a function that returns the mode of a list, i.e.: the element that appears the most times.\n",
    "`NOTE: You should not use count... 🧐`"
   ]
  },
  {
   "cell_type": "code",
   "execution_count": 43,
   "metadata": {},
   "outputs": [],
   "source": [
    "def mode_counter(arr):\n",
    "\n",
    "    #Map dict\n",
    "    count_dict = dict()\n",
    "    \n",
    "    for num in arr:\n",
    "\n",
    "        if num in count_dict:\n",
    "            count_dict[num] += 1\n",
    "        else:\n",
    "            count_dict[num] = 1\n",
    "\n",
    "    return max(count_dict, key=count_dict.get)\n",
    "    "
   ]
  },
  {
   "cell_type": "code",
   "execution_count": 45,
   "metadata": {},
   "outputs": [
    {
     "name": "stderr",
     "output_type": "stream",
     "text": [
      "....................................................................................................\n",
      "----------------------------------------------------------------------\n",
      "Ran 100 tests in 0.219s\n",
      "\n",
      "OK\n"
     ]
    }
   ],
   "source": [
    "# This will test your function \n",
    "test_mode(mode_counter)"
   ]
  },
  {
   "cell_type": "markdown",
   "metadata": {},
   "source": [
    "## 9. Write a function that calculates the standard deviation of a list.\n",
    "`NOTE: Do not use any libraries or already built functions. 😉`"
   ]
  },
  {
   "cell_type": "code",
   "execution_count": 48,
   "metadata": {},
   "outputs": [],
   "source": [
    "#Formula of Sample Standard Deviation\n",
    "\"\"\"\n",
    "1. Calculate the mean\n",
    "2. Find differences of each data point from the mean\n",
    "3. Square the differences\n",
    "4. Find the average of the squares (N-1)\n",
    "5. Do the square root to return to original units\n",
    "\n",
    "\"\"\"\n",
    "\n",
    "def st_dev(list_sd):\n",
    "\n",
    "    #Check for the empty list\n",
    "    if len(list_sd) == 0:\n",
    "        return None\n",
    "\n",
    "    #Calculate the mean\n",
    "    mean = sum(list_sd)/len(list_sd)\n",
    "\n",
    "    #Find differences of each data point from the mean\n",
    "    diff = [num - mean for num in list_sd]\n",
    "\n",
    "    #Squared differences\n",
    "    sqrd_diff = [num ** 2 for num in diff]\n",
    "\n",
    "    #Squared differences\n",
    "    sqrd_diff = [num ** 2 for num in diff]\n",
    "\n",
    "    #Avg of the squared diff\n",
    "    mean_sqrd = sum(sqrd_diff)/(len(sqrd_diff) - 1)\n",
    "\n",
    "    #Perform the square root to return to the original units\n",
    "    sd = pow(mean_sqrd,0.5)\n",
    "\n",
    "    return sd"
   ]
  },
  {
   "cell_type": "code",
   "execution_count": 50,
   "metadata": {},
   "outputs": [
    {
     "name": "stderr",
     "output_type": "stream",
     "text": [
      "....................................................................................................\n",
      "----------------------------------------------------------------------\n",
      "Ran 100 tests in 0.080s\n",
      "\n",
      "OK\n"
     ]
    }
   ],
   "source": [
    "# This will test your function \n",
    "test_stdev(st_dev)"
   ]
  },
  {
   "cell_type": "markdown",
   "metadata": {},
   "source": [
    "## 10. Write a function to check if a string is a pangram, i.e.: if it contains all the letters of the alphabet at least once. Mind that the strings may contain characters that are not letters."
   ]
  },
  {
   "cell_type": "code",
   "execution_count": 53,
   "metadata": {},
   "outputs": [],
   "source": [
    "def pangram(string):\n",
    "\n",
    "    \n",
    "    #Check if the length of the string is at least 26\n",
    "    if len(string) >= 26:\n",
    "\n",
    "        #Create a dictionary to make the key as the letters and value as True \n",
    "        letter_dict = {letter: True for letter in string.lower() if letter.isalpha() == True}\n",
    "\n",
    "        if len(letter_dict.keys()) == 26:\n",
    "            return True\n",
    "        else:\n",
    "            return False\n",
    "        \n",
    "    else:\n",
    "        return False\n",
    "\n",
    "            "
   ]
  },
  {
   "cell_type": "code",
   "execution_count": 55,
   "metadata": {},
   "outputs": [
    {
     "name": "stderr",
     "output_type": "stream",
     "text": [
      "..............................\n",
      "----------------------------------------------------------------------\n",
      "Ran 30 tests in 0.023s\n",
      "\n",
      "OK\n"
     ]
    }
   ],
   "source": [
    "# This will test your function \n",
    "test_pangram(pangram)"
   ]
  },
  {
   "cell_type": "markdown",
   "metadata": {},
   "source": [
    "## 11. Write a function that receives a string of comma separated words and returns a string of comma separated words sorted alphabetically.\n",
    "\n",
    "`NOTE: You may use sorted but not split and definitely no join! 🤪`"
   ]
  },
  {
   "cell_type": "code",
   "execution_count": 58,
   "metadata": {},
   "outputs": [],
   "source": [
    "def sort_alpha(input_string):\n",
    "    \n",
    "    # Initialize an empty list to hold words\n",
    "    words = []\n",
    "    current_word = ''\n",
    "    \n",
    "    # Checking for each word in the string\n",
    "    for char in input_string:\n",
    "        if char == ',':  \n",
    "            if current_word != '':  # Adding the completed word to the list\n",
    "                words.append(current_word)\n",
    "                current_word = ''\n",
    "        else:\n",
    "            current_word += char  # Building the word by reading each character\n",
    "    \n",
    "    # Adding the last word without the comma at the end\n",
    "    if current_word != '':\n",
    "        words.append(current_word)\n",
    "    \n",
    "    # Sort the list of words\n",
    "    sorted_words = sorted(words)\n",
    "    \n",
    "    # Manually constructing the result string\n",
    "    result = ''\n",
    "    for i, word in enumerate(sorted_words):\n",
    "        result += word  # Add the word to the result\n",
    "        if i < len(sorted_words) - 1:  # Add a comma if not the last word\n",
    "            result += ','\n",
    "    \n",
    "    return result"
   ]
  },
  {
   "cell_type": "code",
   "execution_count": 60,
   "metadata": {},
   "outputs": [
    {
     "name": "stderr",
     "output_type": "stream",
     "text": [
      "....................................................................................................\n",
      "----------------------------------------------------------------------\n",
      "Ran 100 tests in 0.073s\n",
      "\n",
      "OK\n"
     ]
    }
   ],
   "source": [
    "# This will test your function \n",
    "test_alpha(sort_alpha)"
   ]
  },
  {
   "cell_type": "markdown",
   "metadata": {},
   "source": [
    "## 12. Write a function to check if a given password is strong (at least 8 characters, at least one lower case, at least one upper case, at least one number and at least one special character). It should output True if strong and False if not."
   ]
  },
  {
   "cell_type": "code",
   "execution_count": 63,
   "metadata": {},
   "outputs": [],
   "source": [
    "import re\n",
    "\n",
    "def check_pass(password):\n",
    "\n",
    "    #Condition variables for each case\n",
    "    upper_cond = False\n",
    "    lower_cond = False\n",
    "    spclchar_cond = False\n",
    "    digit_cond = False\n",
    "\n",
    "    #Check for the length of the password\n",
    "    if len(password) < 8:\n",
    "        return False\n",
    "        \n",
    "    else:\n",
    "\n",
    "        #Loop through the password and check each case\n",
    "        for char in password:\n",
    "            \n",
    "            if char.isupper() == True:\n",
    "                upper_cond = True\n",
    "            elif char.islower() == True:\n",
    "                lower_cond = True\n",
    "            elif char.isdigit() == True:\n",
    "                digit_cond = True\n",
    "            elif char in \"#@!$%&()^*[]{}\":\n",
    "                spclchar_cond = True\n",
    "\n",
    "            #Break the loop as soon as all the conditions are met\n",
    "            if (upper_cond == True) and (lower_cond == True) and (digit_cond == True) and (spclchar_cond == True):\n",
    "                return True\n",
    "                \n",
    "        return False\n",
    "    "
   ]
  },
  {
   "cell_type": "code",
   "execution_count": 65,
   "metadata": {},
   "outputs": [
    {
     "name": "stderr",
     "output_type": "stream",
     "text": [
      "....................................................................................................\n",
      "----------------------------------------------------------------------\n",
      "Ran 100 tests in 0.073s\n",
      "\n",
      "OK\n"
     ]
    }
   ],
   "source": [
    "# This will test your function \n",
    "test_pass(check_pass)"
   ]
  }
 ],
 "metadata": {
  "kernelspec": {
   "display_name": "Python 3 (ipykernel)",
   "language": "python",
   "name": "python3"
  },
  "language_info": {
   "codemirror_mode": {
    "name": "ipython",
    "version": 3
   },
   "file_extension": ".py",
   "mimetype": "text/x-python",
   "name": "python",
   "nbconvert_exporter": "python",
   "pygments_lexer": "ipython3",
   "version": "3.12.4"
  },
  "vscode": {
   "interpreter": {
    "hash": "aee8b7b246df8f9039afb4144a1f6fd8d2ca17a180786b69acc140d282b71a49"
   }
  }
 },
 "nbformat": 4,
 "nbformat_minor": 4
}
