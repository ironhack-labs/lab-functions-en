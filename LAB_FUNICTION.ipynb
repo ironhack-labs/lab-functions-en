{
  "cells": [
    {
      "cell_type": "markdown",
      "metadata": {
        "id": "Yh6VD7fIqpeE"
      },
      "source": [
        "# Functions"
      ]
    },
    {
      "cell_type": "markdown",
      "metadata": {
        "id": "7aQ5aXPvqpeG"
      },
      "source": [
        "On this lab we will put to practice some of the concepts we have learned on this past few days.\n",
        "\n",
        "`NOTE: On this lab you should try to write all the functions yourself using only the most basic of python syntax and without functions such as len, count, sum, max, min, in, etc. Give it a try. 🧑🏻‍💻👩🏻‍💻`\n",
        "\n",
        "The cell after each exercise contains a few tests to check if your function works as expected."
      ]
    },
    {
      "cell_type": "code",
      "execution_count": 1,
      "metadata": {
        "colab": {
          "base_uri": "https://localhost:8080/",
          "height": 339
        },
        "id": "ppy8MHMhqpeG",
        "outputId": "4b45e53e-e5fa-408b-8ed7-010acb96882c"
      },
      "outputs": [],
      "source": [
        "from mod.testing import *\n",
        "import unittest"
      ]
    },
    {
      "cell_type": "markdown",
      "metadata": {
        "id": "NmzvxitEqpeH"
      },
      "source": [
        "## 1. Write a function that returns the greater of two numbers"
      ]
    },
    {
      "cell_type": "code",
      "execution_count": 2,
      "metadata": {
        "id": "bKhaisQ-qpeH"
      },
      "outputs": [],
      "source": [
        "def greater(a,b):\n",
        "    if a > b:\n",
        "        return a\n",
        "    else:\n",
        "        return b"
      ]
    },
    {
      "cell_type": "code",
      "execution_count": 3,
      "metadata": {
        "colab": {
          "base_uri": "https://localhost:8080/",
          "height": 162
        },
        "id": "IGXZti7NqpeH",
        "outputId": "82f93f0d-03c2-4011-8c64-0e35f3748447"
      },
      "outputs": [
        {
          "name": "stderr",
          "output_type": "stream",
          "text": [
            "....................................................................................................\n",
            "----------------------------------------------------------------------\n",
            "Ran 100 tests in 0.098s\n",
            "\n",
            "OK\n"
          ]
        }
      ],
      "source": [
        "# This will test your function\n",
        "test_greater(greater)"
      ]
    },
    {
      "cell_type": "code",
      "execution_count": null,
      "metadata": {
        "id": "vprkzznnqpeI"
      },
      "outputs": [],
      "source": [
        "#your code here"
      ]
    },
    {
      "cell_type": "markdown",
      "metadata": {
        "id": "eLgFIXQ4qpeI"
      },
      "source": [
        "## 2. Now write a function that returns the largest element on a list"
      ]
    },
    {
      "cell_type": "code",
      "execution_count": 4,
      "metadata": {
        "id": "LdYIFB3DqpeI"
      },
      "outputs": [],
      "source": [
        "def largest_in_list(numbers):\n",
        "    if not numbers:\n",
        "        return None\n",
        "\n",
        "    largest = numbers[0]\n",
        "\n",
        "    for num in numbers:\n",
        "        if num > largest:\n",
        "            largest = num\n",
        "\n",
        "    return largest\n",
        "\n",
        "list11 = [3, 5, 1, 8, 2]\n",
        "result = largest_in_list(list11)"
      ]
    },
    {
      "cell_type": "code",
      "execution_count": 5,
      "metadata": {
        "id": "fjstvBPHqpeI",
        "outputId": "b8b0a154-0a17-41a6-d8b7-2fec7b2d87e4"
      },
      "outputs": [
        {
          "name": "stderr",
          "output_type": "stream",
          "text": [
            "....................................................................................................\n",
            "----------------------------------------------------------------------\n",
            "Ran 100 tests in 0.108s\n",
            "\n",
            "OK\n"
          ]
        }
      ],
      "source": [
        "# This will test your function\n",
        "test_greatest(largest_in_list)"
      ]
    },
    {
      "cell_type": "markdown",
      "metadata": {
        "id": "i5d4pYICqpeJ"
      },
      "source": [
        "## 3. Write a function that sums all the elements on a list"
      ]
    },
    {
      "cell_type": "code",
      "execution_count": 8,
      "metadata": {
        "id": "dWlkm8FBqpeJ"
      },
      "outputs": [],
      "source": [
        "def sum_all(lst):\n",
        " total = 0\n",
        " for num in lst:\n",
        "\n",
        "        total += num\n",
        " return total\n",
        "\n",
        "\n",
        "list1 = [1, 2, 3, 4, 5]\n",
        "result = sum_all(list1)"
      ]
    },
    {
      "cell_type": "code",
      "execution_count": 9,
      "metadata": {
        "id": "k7MntyJVqpeJ",
        "outputId": "f50d9c7e-0b16-4c9c-a6f1-538e9e497536",
        "scrolled": true
      },
      "outputs": [
        {
          "name": "stderr",
          "output_type": "stream",
          "text": [
            "....................................................................................................\n",
            "----------------------------------------------------------------------\n",
            "Ran 100 tests in 0.090s\n",
            "\n",
            "OK\n"
          ]
        }
      ],
      "source": [
        "# This will test your function\n",
        "test_sum(sum_all)"
      ]
    },
    {
      "cell_type": "markdown",
      "metadata": {
        "id": "31-ZrpYYqpeJ"
      },
      "source": [
        "## 4. Write another function that multiplies all the elements on a list"
      ]
    },
    {
      "cell_type": "code",
      "execution_count": 12,
      "metadata": {
        "id": "HmlmlwJXqpeJ"
      },
      "outputs": [],
      "source": [
        "def mult_all(lst):\n",
        "\n",
        "    x = 1\n",
        "\n",
        "    for num in lst:\n",
        "        x *= num\n",
        "\n",
        "    return x\n",
        "list1 = [1, 2, 3, 4, 5]\n",
        "result = mult_all(list1)"
      ]
    },
    {
      "cell_type": "code",
      "execution_count": 13,
      "metadata": {
        "id": "bfRjdO6LqpeJ",
        "outputId": "beacba69-59e5-4008-dd39-089ca16b1857",
        "scrolled": true
      },
      "outputs": [
        {
          "name": "stderr",
          "output_type": "stream",
          "text": [
            "....................................................................................................\n",
            "----------------------------------------------------------------------\n",
            "Ran 100 tests in 0.101s\n",
            "\n",
            "OK\n"
          ]
        }
      ],
      "source": [
        "# This will test your function\n",
        "test_mult(mult_all)"
      ]
    },
    {
      "cell_type": "markdown",
      "metadata": {
        "id": "6sXgxZ-SqpeJ"
      },
      "source": [
        "## 5. Now combine those two ideas and write a function that receives a list and either \"+\" or \"*\" and outputs acordingly"
      ]
    },
    {
      "cell_type": "code",
      "execution_count": 14,
      "metadata": {
        "id": "-Z0yXUoeqpeJ"
      },
      "outputs": [],
      "source": [
        "def oper_all(arr, oper = \"*\"):\n",
        "    if oper == \"+\":\n",
        "        total = 0\n",
        "        for num in arr:\n",
        "            total += num\n",
        "        return total\n",
        "    elif oper == \"*\":\n",
        "        product = 1\n",
        "        for num in arr:\n",
        "            product *= num\n",
        "        return product\n",
        "    else:\n",
        "        print(\"error\")\n",
        "\n",
        "list2 = [1, 2, 3, 4, 5]\n",
        "sum_result = oper_all(list2, \"+\")\n",
        "product_result = oper_all(list2, \"*\")"
      ]
    },
    {
      "cell_type": "code",
      "execution_count": 15,
      "metadata": {
        "id": "Q0E1w0s2qpeK",
        "outputId": "4c4a1d9f-83ff-495b-a4c9-87df99c0c732"
      },
      "outputs": [
        {
          "name": "stderr",
          "output_type": "stream",
          "text": [
            "....................................................................................................\n",
            "----------------------------------------------------------------------\n",
            "Ran 100 tests in 0.106s\n",
            "\n",
            "OK\n"
          ]
        }
      ],
      "source": [
        "# This will test your function\n",
        "test_operations(oper_all)"
      ]
    },
    {
      "cell_type": "markdown",
      "metadata": {
        "id": "616e--u8qpeK"
      },
      "source": [
        "## 6. Write a function that returns the factorial of a number."
      ]
    },
    {
      "cell_type": "code",
      "execution_count": 16,
      "metadata": {
        "id": "VREc7ylJqpeK"
      },
      "outputs": [],
      "source": [
        "def factorial(n):\n",
        "    if n < 0:\n",
        "        print(\"error\")\n",
        "    elif n == 0 or n == 1:\n",
        "        return 1\n",
        "    else:\n",
        "        result = 1\n",
        "        for i in range(2, n + 1):\n",
        "            result *= i\n",
        "        return result\n",
        "\n",
        "number = 5\n",
        "result = factorial(number)"
      ]
    },
    {
      "cell_type": "code",
      "execution_count": 17,
      "metadata": {
        "id": "_lkfCx0cqpeK"
      },
      "outputs": [],
      "source": [
        "#factorial formula\n",
        "#n! = n * ( n - 1 ) *...*1\n",
        "\n",
        "# This code defines a function called \"factorial\" which takes an input \"n\". The function uses a for loop to iterate through the range of numbers\n",
        "# from 1 to n+1. For each number in that range, it multiplies the current value of x by the number in the range. At the end of the loop,\n",
        "# the function returns the final value of x, which will be the factorial of the input number \"n\".\n",
        "\n",
        "# The Factorial of a positive integer n is the product of all positive integers less than or equal to n.\n",
        "# For example, the factorial of 6 (written \"6!\") is 6 * 5 * 4 * 3 * 2 * 1 = 720.\n",
        "\n",
        "# So this function takes an input of any positive integer, and returns the factorial of that number."
      ]
    },
    {
      "cell_type": "code",
      "execution_count": 18,
      "metadata": {
        "id": "5SoTgnFBqpeK",
        "outputId": "7b46a941-631b-4304-ba97-48e68ad2fe36"
      },
      "outputs": [
        {
          "name": "stderr",
          "output_type": "stream",
          "text": [
            "....................................................................................................\n",
            "----------------------------------------------------------------------\n",
            "Ran 100 tests in 0.101s\n",
            "\n",
            "OK\n"
          ]
        }
      ],
      "source": [
        "# This will test your function\n",
        "test_factorial(factorial)"
      ]
    },
    {
      "cell_type": "markdown",
      "metadata": {
        "id": "ozlIkCWTqpeK"
      },
      "source": [
        "## 7. Write a function that takes a list and returns a list of the unique values.\n",
        "\n",
        "`NOTE: You cannot use set. 🤔`"
      ]
    },
    {
      "cell_type": "code",
      "execution_count": 19,
      "metadata": {
        "id": "vkakOrfUqpeK"
      },
      "outputs": [],
      "source": [
        "def unique(lst_un):\n",
        "    unique_list = []\n",
        "\n",
        "    for item in lst_un:\n",
        "        if item not in unique_list:\n",
        "            unique_list.append(item)\n",
        "\n",
        "    return unique_list\n",
        "\n",
        "list4 = [1, 2, 2, 3, 4, 4, 5]\n",
        "result = unique(list4)"
      ]
    },
    {
      "cell_type": "code",
      "execution_count": 20,
      "metadata": {
        "id": "-6gLHewgqpeK",
        "outputId": "10927635-1689-46b3-f8b7-2659b8fa41f0"
      },
      "outputs": [
        {
          "name": "stderr",
          "output_type": "stream",
          "text": [
            "....................................................................................................\n",
            "----------------------------------------------------------------------\n",
            "Ran 100 tests in 0.271s\n",
            "\n",
            "OK\n"
          ]
        }
      ],
      "source": [
        "# This will test your function\n",
        "test_unique(unique)"
      ]
    },
    {
      "cell_type": "markdown",
      "metadata": {
        "id": "7MPMfEuHqpeK"
      },
      "source": [
        "## 8. Write a function that returns the mode of a list, i.e.: the element that appears the most times.\n",
        "`NOTE: You should not use count... 🧐`"
      ]
    },
    {
      "cell_type": "code",
      "execution_count": 21,
      "metadata": {
        "id": "0192y_7_qpeK"
      },
      "outputs": [],
      "source": [
        "def mode_counter(arr):\n",
        "    if not arr:\n",
        "        return None\n",
        "\n",
        "    frequency = {}\n",
        "\n",
        "    for item in arr:\n",
        "        frequency[item] = frequency.get(item, 0) + 1\n",
        "\n",
        "\n",
        "    mode = None\n",
        "    max_count = 0\n",
        "    for item, count in frequency.items():\n",
        "        if count > max_count:\n",
        "            max_count = count\n",
        "            mode = item\n",
        "\n",
        "    return mode\n",
        "\n",
        "L6 = [1, 2, 2, 3, 4, 4, 4, 5]\n",
        "result = mode_counter(L6)"
      ]
    },
    {
      "cell_type": "code",
      "execution_count": 22,
      "metadata": {
        "id": "C6B6H-jdqpeK",
        "outputId": "c231e304-f916-41c7-c219-42636b4aa9d8"
      },
      "outputs": [
        {
          "name": "stderr",
          "output_type": "stream",
          "text": [
            "....................................................................................................\n",
            "----------------------------------------------------------------------\n",
            "Ran 100 tests in 0.091s\n",
            "\n",
            "OK\n"
          ]
        }
      ],
      "source": [
        "# This will test your function\n",
        "test_mode(mode_counter)"
      ]
    },
    {
      "cell_type": "markdown",
      "metadata": {
        "id": "JriTAhaiqpeL"
      },
      "source": [
        "## 9. Write a function that calculates the standard deviation of a list.\n",
        "`NOTE: Do not use any libraries or already built functions. 😉`"
      ]
    },
    {
      "cell_type": "code",
      "execution_count": 23,
      "metadata": {
        "id": "4j7gjgiMqpeL"
      },
      "outputs": [],
      "source": [
        "\n",
        "\n",
        "\n",
        "def st_dev(list_sd):\n",
        "\n",
        "    n = 0\n",
        "    total_sum = 0\n",
        "    total_squared_diff = 0\n",
        "\n",
        "    for num in list_sd:\n",
        "        total_sum += num\n",
        "        n += 1\n",
        "\n",
        "    if n == 0:\n",
        "        return None\n",
        "    mean = total_sum / n\n",
        "\n",
        "    for num in list_sd:\n",
        "        squared_diff = (num - mean) * (num - mean)\n",
        "        total_squared_diff += squared_diff\n",
        "\n",
        "    variance = total_squared_diff / n\n",
        "\n",
        "    std_dev = variance ** 0.5\n",
        "\n",
        "    return std_dev\n",
        "\n",
        "L8 = [10, 12, 23, 23, 16, 23, 21, 16]\n",
        "result = st_dev(L8)\n"
      ]
    },
    {
      "cell_type": "code",
      "execution_count": 24,
      "metadata": {
        "colab": {
          "base_uri": "https://localhost:8080/"
        },
        "id": "4-hBX1qOwK3-",
        "outputId": "7247540f-5743-4c52-bb5d-f6634cf7ec1e"
      },
      "outputs": [
        {
          "name": "stdout",
          "output_type": "stream",
          "text": [
            "4.898979485566356\n"
          ]
        }
      ],
      "source": [
        "import math\n",
        "\n",
        "def st_dev(data):\n",
        "    mean = sum(data) / len(data)\n",
        "    return math.sqrt((1/len(data)) * sum((i-mean)**2 for i in data))\n",
        "L8 = [10, 12, 23, 23, 16, 23, 21, 16]\n",
        "result = st_dev(L8)\n",
        "print(result);"
      ]
    },
    {
      "cell_type": "code",
      "execution_count": null,
      "metadata": {
        "colab": {
          "base_uri": "https://localhost:8080/"
        },
        "id": "UIzhnPZ0w_yZ",
        "outputId": "97d9f45f-71ac-4e77-9784-e827889d44fa"
      },
      "outputs": [
        {
          "name": "stdout",
          "output_type": "stream",
          "text": [
            "4.898979485566356\n"
          ]
        }
      ],
      "source": [
        "def mean(data):\n",
        "     n = len(data)\n",
        "     if n < 1:\n",
        "        return('mean requires at least one data point')\n",
        "     return sum(data)/n \n",
        "\n",
        "def _ss(data):\n",
        "     c = mean(data)\n",
        "     ss = sum((x-c)**2 for x in data)\n",
        "     return ss\n",
        "\n",
        "def st_dev(data, ddof=0):\n",
        "    n = len(data)\n",
        "    if n < 2:\n",
        "        return('variance requires at least two data points')\n",
        "    ss = _ss(data)\n",
        "    pvar = ss/(n-ddof)\n",
        "    return pvar**0.5\n",
        "\n",
        "L8 = [10, 12, 23, 23, 16, 23, 21, 16]\n",
        "result = st_dev(L8)\n",
        "print(result);\n"
      ]
    },
    {
      "cell_type": "code",
      "execution_count": 26,
      "metadata": {
        "id": "nbjBjTfXqpeL",
        "outputId": "61fff3d7-f780-4533-9ee8-81ad2f35ee75"
      },
      "outputs": [
        {
          "name": "stderr",
          "output_type": "stream",
          "text": [
            "FF.F.F...F..F"
          ]
        },
        {
          "name": "stderr",
          "output_type": "stream",
          "text": [
            "F..F.F.......F.FF..F.F.FF..FFFFF....F.F....F.FFF.F..FFF.F.F.....F..FFFFF..FFFFFF...F.FF\n",
            "======================================================================\n",
            "FAIL: runTest (mod.testing.test_stdev.<locals>.TestKnown.runTest)\n",
            "----------------------------------------------------------------------\n",
            "Traceback (most recent call last):\n",
            "  File \"c:\\Users\\gogo1\\Desktop\\lab-functions-en-master\\lab-functions-en-master\\mod\\testing.py\", line 142, in runTest\n",
            "    self.assertAlmostEqual(fn(self.input), self.output, delta=5, msg=f\"Should be {self.output}\")\n",
            "AssertionError: 555.1533680009007 != 565.7286681138988 within 5 delta (10.575300112998093 difference) : Should be 565.7286681138988\n",
            "\n",
            "======================================================================\n",
            "FAIL: runTest (mod.testing.test_stdev.<locals>.TestKnown.runTest)\n",
            "----------------------------------------------------------------------\n",
            "Traceback (most recent call last):\n",
            "  File \"c:\\Users\\gogo1\\Desktop\\lab-functions-en-master\\lab-functions-en-master\\mod\\testing.py\", line 142, in runTest\n",
            "    self.assertAlmostEqual(fn(self.input), self.output, delta=5, msg=f\"Should be {self.output}\")\n",
            "AssertionError: 526.3901002108607 != 537.2446463204636 within 5 delta (10.854546109602893 difference) : Should be 537.2446463204636\n",
            "\n",
            "======================================================================\n",
            "FAIL: runTest (mod.testing.test_stdev.<locals>.TestKnown.runTest)\n",
            "----------------------------------------------------------------------\n",
            "Traceback (most recent call last):\n",
            "  File \"c:\\Users\\gogo1\\Desktop\\lab-functions-en-master\\lab-functions-en-master\\mod\\testing.py\", line 142, in runTest\n",
            "    self.assertAlmostEqual(fn(self.input), self.output, delta=5, msg=f\"Should be {self.output}\")\n",
            "AssertionError: 569.9355971336026 != 576.0972421192696 within 5 delta (6.161644985666953 difference) : Should be 576.0972421192696\n",
            "\n",
            "======================================================================\n",
            "FAIL: runTest (mod.testing.test_stdev.<locals>.TestKnown.runTest)\n",
            "----------------------------------------------------------------------\n",
            "Traceback (most recent call last):\n",
            "  File \"c:\\Users\\gogo1\\Desktop\\lab-functions-en-master\\lab-functions-en-master\\mod\\testing.py\", line 142, in runTest\n",
            "    self.assertAlmostEqual(fn(self.input), self.output, delta=5, msg=f\"Should be {self.output}\")\n",
            "AssertionError: 504.92127439169496 != 510.6267806244685 within 5 delta (5.70550623277353 difference) : Should be 510.6267806244685\n",
            "\n",
            "======================================================================\n",
            "FAIL: runTest (mod.testing.test_stdev.<locals>.TestKnown.runTest)\n",
            "----------------------------------------------------------------------\n",
            "Traceback (most recent call last):\n",
            "  File \"c:\\Users\\gogo1\\Desktop\\lab-functions-en-master\\lab-functions-en-master\\mod\\testing.py\", line 142, in runTest\n",
            "    self.assertAlmostEqual(fn(self.input), self.output, delta=5, msg=f\"Should be {self.output}\")\n",
            "AssertionError: 559.7467938401128 != 564.8124789375996 within 5 delta (5.065685097486835 difference) : Should be 564.8124789375996\n",
            "\n",
            "======================================================================\n",
            "FAIL: runTest (mod.testing.test_stdev.<locals>.TestKnown.runTest)\n",
            "----------------------------------------------------------------------\n",
            "Traceback (most recent call last):\n",
            "  File \"c:\\Users\\gogo1\\Desktop\\lab-functions-en-master\\lab-functions-en-master\\mod\\testing.py\", line 142, in runTest\n",
            "    self.assertAlmostEqual(fn(self.input), self.output, delta=5, msg=f\"Should be {self.output}\")\n",
            "AssertionError: 614.0581187997508 != 627.2651806724632 within 5 delta (13.207061872712416 difference) : Should be 627.2651806724632\n",
            "\n",
            "======================================================================\n",
            "FAIL: runTest (mod.testing.test_stdev.<locals>.TestKnown.runTest)\n",
            "----------------------------------------------------------------------\n",
            "Traceback (most recent call last):\n",
            "  File \"c:\\Users\\gogo1\\Desktop\\lab-functions-en-master\\lab-functions-en-master\\mod\\testing.py\", line 142, in runTest\n",
            "    self.assertAlmostEqual(fn(self.input), self.output, delta=5, msg=f\"Should be {self.output}\")\n",
            "AssertionError: 512.6827585806506 != 519.0517327006164 within 5 delta (6.368974119965856 difference) : Should be 519.0517327006164\n",
            "\n",
            "======================================================================\n",
            "FAIL: runTest (mod.testing.test_stdev.<locals>.TestKnown.runTest)\n",
            "----------------------------------------------------------------------\n",
            "Traceback (most recent call last):\n",
            "  File \"c:\\Users\\gogo1\\Desktop\\lab-functions-en-master\\lab-functions-en-master\\mod\\testing.py\", line 142, in runTest\n",
            "    self.assertAlmostEqual(fn(self.input), self.output, delta=5, msg=f\"Should be {self.output}\")\n",
            "AssertionError: 587.8492037848929 != 611.8528501661248 within 5 delta (24.003646381231874 difference) : Should be 611.8528501661248\n",
            "\n",
            "======================================================================\n",
            "FAIL: runTest (mod.testing.test_stdev.<locals>.TestKnown.runTest)\n",
            "----------------------------------------------------------------------\n",
            "Traceback (most recent call last):\n",
            "  File \"c:\\Users\\gogo1\\Desktop\\lab-functions-en-master\\lab-functions-en-master\\mod\\testing.py\", line 142, in runTest\n",
            "    self.assertAlmostEqual(fn(self.input), self.output, delta=5, msg=f\"Should be {self.output}\")\n",
            "AssertionError: 505.33469983896873 != 513.169813585871 within 5 delta (7.835113746902266 difference) : Should be 513.169813585871\n",
            "\n",
            "======================================================================\n",
            "FAIL: runTest (mod.testing.test_stdev.<locals>.TestKnown.runTest)\n",
            "----------------------------------------------------------------------\n",
            "Traceback (most recent call last):\n",
            "  File \"c:\\Users\\gogo1\\Desktop\\lab-functions-en-master\\lab-functions-en-master\\mod\\testing.py\", line 142, in runTest\n",
            "    self.assertAlmostEqual(fn(self.input), self.output, delta=5, msg=f\"Should be {self.output}\")\n",
            "AssertionError: 610.8319606982974 != 627.5701819982634 within 5 delta (16.73822129996597 difference) : Should be 627.5701819982634\n",
            "\n",
            "======================================================================\n",
            "FAIL: runTest (mod.testing.test_stdev.<locals>.TestKnown.runTest)\n",
            "----------------------------------------------------------------------\n",
            "Traceback (most recent call last):\n",
            "  File \"c:\\Users\\gogo1\\Desktop\\lab-functions-en-master\\lab-functions-en-master\\mod\\testing.py\", line 142, in runTest\n",
            "    self.assertAlmostEqual(fn(self.input), self.output, delta=5, msg=f\"Should be {self.output}\")\n",
            "AssertionError: 543.8869784720664 != 550.4797886181832 within 5 delta (6.59281014611679 difference) : Should be 550.4797886181832\n",
            "\n",
            "======================================================================\n",
            "FAIL: runTest (mod.testing.test_stdev.<locals>.TestKnown.runTest)\n",
            "----------------------------------------------------------------------\n",
            "Traceback (most recent call last):\n",
            "  File \"c:\\Users\\gogo1\\Desktop\\lab-functions-en-master\\lab-functions-en-master\\mod\\testing.py\", line 142, in runTest\n",
            "    self.assertAlmostEqual(fn(self.input), self.output, delta=5, msg=f\"Should be {self.output}\")\n",
            "AssertionError: 568.5313153458882 != 573.7713460741636 within 5 delta (5.240030728275428 difference) : Should be 573.7713460741636\n",
            "\n",
            "======================================================================\n",
            "FAIL: runTest (mod.testing.test_stdev.<locals>.TestKnown.runTest)\n",
            "----------------------------------------------------------------------\n",
            "Traceback (most recent call last):\n",
            "  File \"c:\\Users\\gogo1\\Desktop\\lab-functions-en-master\\lab-functions-en-master\\mod\\testing.py\", line 142, in runTest\n",
            "    self.assertAlmostEqual(fn(self.input), self.output, delta=5, msg=f\"Should be {self.output}\")\n",
            "AssertionError: 548.7382823162047 != 561.6515380700476 within 5 delta (12.913255753842918 difference) : Should be 561.6515380700476\n",
            "\n",
            "======================================================================\n",
            "FAIL: runTest (mod.testing.test_stdev.<locals>.TestKnown.runTest)\n",
            "----------------------------------------------------------------------\n",
            "Traceback (most recent call last):\n",
            "  File \"c:\\Users\\gogo1\\Desktop\\lab-functions-en-master\\lab-functions-en-master\\mod\\testing.py\", line 142, in runTest\n",
            "    self.assertAlmostEqual(fn(self.input), self.output, delta=5, msg=f\"Should be {self.output}\")\n",
            "AssertionError: 662.2415076909053 != 672.5094302031171 within 5 delta (10.267922512211726 difference) : Should be 672.5094302031171\n",
            "\n",
            "======================================================================\n",
            "FAIL: runTest (mod.testing.test_stdev.<locals>.TestKnown.runTest)\n",
            "----------------------------------------------------------------------\n",
            "Traceback (most recent call last):\n",
            "  File \"c:\\Users\\gogo1\\Desktop\\lab-functions-en-master\\lab-functions-en-master\\mod\\testing.py\", line 142, in runTest\n",
            "    self.assertAlmostEqual(fn(self.input), self.output, delta=5, msg=f\"Should be {self.output}\")\n",
            "AssertionError: 615.0531691280003 != 620.9389794943161 within 5 delta (5.885810366315809 difference) : Should be 620.9389794943161\n",
            "\n",
            "======================================================================\n",
            "FAIL: runTest (mod.testing.test_stdev.<locals>.TestKnown.runTest)\n",
            "----------------------------------------------------------------------\n",
            "Traceback (most recent call last):\n",
            "  File \"c:\\Users\\gogo1\\Desktop\\lab-functions-en-master\\lab-functions-en-master\\mod\\testing.py\", line 142, in runTest\n",
            "    self.assertAlmostEqual(fn(self.input), self.output, delta=5, msg=f\"Should be {self.output}\")\n",
            "AssertionError: 579.5695490812317 != 599.9114775968043 within 5 delta (20.34192851557259 difference) : Should be 599.9114775968043\n",
            "\n",
            "======================================================================\n",
            "FAIL: runTest (mod.testing.test_stdev.<locals>.TestKnown.runTest)\n",
            "----------------------------------------------------------------------\n",
            "Traceback (most recent call last):\n",
            "  File \"c:\\Users\\gogo1\\Desktop\\lab-functions-en-master\\lab-functions-en-master\\mod\\testing.py\", line 142, in runTest\n",
            "    self.assertAlmostEqual(fn(self.input), self.output, delta=5, msg=f\"Should be {self.output}\")\n",
            "AssertionError: 525.6756992982695 != 532.9267411299712 within 5 delta (7.251041831701741 difference) : Should be 532.9267411299712\n",
            "\n",
            "======================================================================\n",
            "FAIL: runTest (mod.testing.test_stdev.<locals>.TestKnown.runTest)\n",
            "----------------------------------------------------------------------\n",
            "Traceback (most recent call last):\n",
            "  File \"c:\\Users\\gogo1\\Desktop\\lab-functions-en-master\\lab-functions-en-master\\mod\\testing.py\", line 142, in runTest\n",
            "    self.assertAlmostEqual(fn(self.input), self.output, delta=5, msg=f\"Should be {self.output}\")\n",
            "AssertionError: 620.8761211742546 != 626.4950241300726 within 5 delta (5.61890295581793 difference) : Should be 626.4950241300726\n",
            "\n",
            "======================================================================\n",
            "FAIL: runTest (mod.testing.test_stdev.<locals>.TestKnown.runTest)\n",
            "----------------------------------------------------------------------\n",
            "Traceback (most recent call last):\n",
            "  File \"c:\\Users\\gogo1\\Desktop\\lab-functions-en-master\\lab-functions-en-master\\mod\\testing.py\", line 142, in runTest\n",
            "    self.assertAlmostEqual(fn(self.input), self.output, delta=5, msg=f\"Should be {self.output}\")\n",
            "AssertionError: 559.1071674164026 != 564.901178823991 within 5 delta (5.794011407588414 difference) : Should be 564.901178823991\n",
            "\n",
            "======================================================================\n",
            "FAIL: runTest (mod.testing.test_stdev.<locals>.TestKnown.runTest)\n",
            "----------------------------------------------------------------------\n",
            "Traceback (most recent call last):\n",
            "  File \"c:\\Users\\gogo1\\Desktop\\lab-functions-en-master\\lab-functions-en-master\\mod\\testing.py\", line 142, in runTest\n",
            "    self.assertAlmostEqual(fn(self.input), self.output, delta=5, msg=f\"Should be {self.output}\")\n",
            "AssertionError: 539.5386698085572 != 549.0887682055226 within 5 delta (9.550098396965382 difference) : Should be 549.0887682055226\n",
            "\n",
            "======================================================================\n",
            "FAIL: runTest (mod.testing.test_stdev.<locals>.TestKnown.runTest)\n",
            "----------------------------------------------------------------------\n",
            "Traceback (most recent call last):\n",
            "  File \"c:\\Users\\gogo1\\Desktop\\lab-functions-en-master\\lab-functions-en-master\\mod\\testing.py\", line 142, in runTest\n",
            "    self.assertAlmostEqual(fn(self.input), self.output, delta=5, msg=f\"Should be {self.output}\")\n",
            "AssertionError: 519.9152105542652 != 525.5360788878019 within 5 delta (5.620868333536691 difference) : Should be 525.5360788878019\n",
            "\n",
            "======================================================================\n",
            "FAIL: runTest (mod.testing.test_stdev.<locals>.TestKnown.runTest)\n",
            "----------------------------------------------------------------------\n",
            "Traceback (most recent call last):\n",
            "  File \"c:\\Users\\gogo1\\Desktop\\lab-functions-en-master\\lab-functions-en-master\\mod\\testing.py\", line 142, in runTest\n",
            "    self.assertAlmostEqual(fn(self.input), self.output, delta=5, msg=f\"Should be {self.output}\")\n",
            "AssertionError: 517.9546083696533 != 523.0079437260999 within 5 delta (5.05333535644661 difference) : Should be 523.0079437260999\n",
            "\n",
            "======================================================================\n",
            "FAIL: runTest (mod.testing.test_stdev.<locals>.TestKnown.runTest)\n",
            "----------------------------------------------------------------------\n",
            "Traceback (most recent call last):\n",
            "  File \"c:\\Users\\gogo1\\Desktop\\lab-functions-en-master\\lab-functions-en-master\\mod\\testing.py\", line 142, in runTest\n",
            "    self.assertAlmostEqual(fn(self.input), self.output, delta=5, msg=f\"Should be {self.output}\")\n",
            "AssertionError: 515.6303181543925 != 532.5407026697584 within 5 delta (16.910384515365877 difference) : Should be 532.5407026697584\n",
            "\n",
            "======================================================================\n",
            "FAIL: runTest (mod.testing.test_stdev.<locals>.TestKnown.runTest)\n",
            "----------------------------------------------------------------------\n",
            "Traceback (most recent call last):\n",
            "  File \"c:\\Users\\gogo1\\Desktop\\lab-functions-en-master\\lab-functions-en-master\\mod\\testing.py\", line 142, in runTest\n",
            "    self.assertAlmostEqual(fn(self.input), self.output, delta=5, msg=f\"Should be {self.output}\")\n",
            "AssertionError: 533.2488787467765 != 539.55973603357 within 5 delta (6.310857286793407 difference) : Should be 539.55973603357\n",
            "\n",
            "======================================================================\n",
            "FAIL: runTest (mod.testing.test_stdev.<locals>.TestKnown.runTest)\n",
            "----------------------------------------------------------------------\n",
            "Traceback (most recent call last):\n",
            "  File \"c:\\Users\\gogo1\\Desktop\\lab-functions-en-master\\lab-functions-en-master\\mod\\testing.py\", line 142, in runTest\n",
            "    self.assertAlmostEqual(fn(self.input), self.output, delta=5, msg=f\"Should be {self.output}\")\n",
            "AssertionError: 564.7075089324728 != 575.4648090359187 within 5 delta (10.757300103445914 difference) : Should be 575.4648090359187\n",
            "\n",
            "======================================================================\n",
            "FAIL: runTest (mod.testing.test_stdev.<locals>.TestKnown.runTest)\n",
            "----------------------------------------------------------------------\n",
            "Traceback (most recent call last):\n",
            "  File \"c:\\Users\\gogo1\\Desktop\\lab-functions-en-master\\lab-functions-en-master\\mod\\testing.py\", line 142, in runTest\n",
            "    self.assertAlmostEqual(fn(self.input), self.output, delta=5, msg=f\"Should be {self.output}\")\n",
            "AssertionError: 469.7590203392402 != 492.68741703953725 within 5 delta (22.92839670029707 difference) : Should be 492.68741703953725\n",
            "\n",
            "======================================================================\n",
            "FAIL: runTest (mod.testing.test_stdev.<locals>.TestKnown.runTest)\n",
            "----------------------------------------------------------------------\n",
            "Traceback (most recent call last):\n",
            "  File \"c:\\Users\\gogo1\\Desktop\\lab-functions-en-master\\lab-functions-en-master\\mod\\testing.py\", line 142, in runTest\n",
            "    self.assertAlmostEqual(fn(self.input), self.output, delta=5, msg=f\"Should be {self.output}\")\n",
            "AssertionError: 495.19945476545104 != 508.0639205537243 within 5 delta (12.864465788273264 difference) : Should be 508.0639205537243\n",
            "\n",
            "======================================================================\n",
            "FAIL: runTest (mod.testing.test_stdev.<locals>.TestKnown.runTest)\n",
            "----------------------------------------------------------------------\n",
            "Traceback (most recent call last):\n",
            "  File \"c:\\Users\\gogo1\\Desktop\\lab-functions-en-master\\lab-functions-en-master\\mod\\testing.py\", line 142, in runTest\n",
            "    self.assertAlmostEqual(fn(self.input), self.output, delta=5, msg=f\"Should be {self.output}\")\n",
            "AssertionError: 615.2627423134215 != 621.1505582104606 within 5 delta (5.887815897039104 difference) : Should be 621.1505582104606\n",
            "\n",
            "======================================================================\n",
            "FAIL: runTest (mod.testing.test_stdev.<locals>.TestKnown.runTest)\n",
            "----------------------------------------------------------------------\n",
            "Traceback (most recent call last):\n",
            "  File \"c:\\Users\\gogo1\\Desktop\\lab-functions-en-master\\lab-functions-en-master\\mod\\testing.py\", line 142, in runTest\n",
            "    self.assertAlmostEqual(fn(self.input), self.output, delta=5, msg=f\"Should be {self.output}\")\n",
            "AssertionError: 534.6692341999865 != 548.5590598151334 within 5 delta (13.889825615146947 difference) : Should be 548.5590598151334\n",
            "\n",
            "======================================================================\n",
            "FAIL: runTest (mod.testing.test_stdev.<locals>.TestKnown.runTest)\n",
            "----------------------------------------------------------------------\n",
            "Traceback (most recent call last):\n",
            "  File \"c:\\Users\\gogo1\\Desktop\\lab-functions-en-master\\lab-functions-en-master\\mod\\testing.py\", line 142, in runTest\n",
            "    self.assertAlmostEqual(fn(self.input), self.output, delta=5, msg=f\"Should be {self.output}\")\n",
            "AssertionError: 629.555733424455 != 644.3708364690125 within 5 delta (14.815103044557532 difference) : Should be 644.3708364690125\n",
            "\n",
            "======================================================================\n",
            "FAIL: runTest (mod.testing.test_stdev.<locals>.TestKnown.runTest)\n",
            "----------------------------------------------------------------------\n",
            "Traceback (most recent call last):\n",
            "  File \"c:\\Users\\gogo1\\Desktop\\lab-functions-en-master\\lab-functions-en-master\\mod\\testing.py\", line 142, in runTest\n",
            "    self.assertAlmostEqual(fn(self.input), self.output, delta=5, msg=f\"Should be {self.output}\")\n",
            "AssertionError: 558.5419970324341 != 566.6963261310418 within 5 delta (8.154329098607718 difference) : Should be 566.6963261310418\n",
            "\n",
            "======================================================================\n",
            "FAIL: runTest (mod.testing.test_stdev.<locals>.TestKnown.runTest)\n",
            "----------------------------------------------------------------------\n",
            "Traceback (most recent call last):\n",
            "  File \"c:\\Users\\gogo1\\Desktop\\lab-functions-en-master\\lab-functions-en-master\\mod\\testing.py\", line 142, in runTest\n",
            "    self.assertAlmostEqual(fn(self.input), self.output, delta=5, msg=f\"Should be {self.output}\")\n",
            "AssertionError: 556.048145335056 != 561.9324165592708 within 5 delta (5.884271224214785 difference) : Should be 561.9324165592708\n",
            "\n",
            "======================================================================\n",
            "FAIL: runTest (mod.testing.test_stdev.<locals>.TestKnown.runTest)\n",
            "----------------------------------------------------------------------\n",
            "Traceback (most recent call last):\n",
            "  File \"c:\\Users\\gogo1\\Desktop\\lab-functions-en-master\\lab-functions-en-master\\mod\\testing.py\", line 142, in runTest\n",
            "    self.assertAlmostEqual(fn(self.input), self.output, delta=5, msg=f\"Should be {self.output}\")\n",
            "AssertionError: 547.7686007795628 != 577.3988030623009 within 5 delta (29.630202282738082 difference) : Should be 577.3988030623009\n",
            "\n",
            "======================================================================\n",
            "FAIL: runTest (mod.testing.test_stdev.<locals>.TestKnown.runTest)\n",
            "----------------------------------------------------------------------\n",
            "Traceback (most recent call last):\n",
            "  File \"c:\\Users\\gogo1\\Desktop\\lab-functions-en-master\\lab-functions-en-master\\mod\\testing.py\", line 142, in runTest\n",
            "    self.assertAlmostEqual(fn(self.input), self.output, delta=5, msg=f\"Should be {self.output}\")\n",
            "AssertionError: 474.65676693796325 != 484.4445341488194 within 5 delta (9.787767210856146 difference) : Should be 484.4445341488194\n",
            "\n",
            "======================================================================\n",
            "FAIL: runTest (mod.testing.test_stdev.<locals>.TestKnown.runTest)\n",
            "----------------------------------------------------------------------\n",
            "Traceback (most recent call last):\n",
            "  File \"c:\\Users\\gogo1\\Desktop\\lab-functions-en-master\\lab-functions-en-master\\mod\\testing.py\", line 142, in runTest\n",
            "    self.assertAlmostEqual(fn(self.input), self.output, delta=5, msg=f\"Should be {self.output}\")\n",
            "AssertionError: 480.10111014508084 != 488.03720332363696 within 5 delta (7.936093178556121 difference) : Should be 488.03720332363696\n",
            "\n",
            "======================================================================\n",
            "FAIL: runTest (mod.testing.test_stdev.<locals>.TestKnown.runTest)\n",
            "----------------------------------------------------------------------\n",
            "Traceback (most recent call last):\n",
            "  File \"c:\\Users\\gogo1\\Desktop\\lab-functions-en-master\\lab-functions-en-master\\mod\\testing.py\", line 142, in runTest\n",
            "    self.assertAlmostEqual(fn(self.input), self.output, delta=5, msg=f\"Should be {self.output}\")\n",
            "AssertionError: 602.2220969722322 != 624.9554050024356 within 5 delta (22.733308030203375 difference) : Should be 624.9554050024356\n",
            "\n",
            "======================================================================\n",
            "FAIL: runTest (mod.testing.test_stdev.<locals>.TestKnown.runTest)\n",
            "----------------------------------------------------------------------\n",
            "Traceback (most recent call last):\n",
            "  File \"c:\\Users\\gogo1\\Desktop\\lab-functions-en-master\\lab-functions-en-master\\mod\\testing.py\", line 142, in runTest\n",
            "    self.assertAlmostEqual(fn(self.input), self.output, delta=5, msg=f\"Should be {self.output}\")\n",
            "AssertionError: 550.9174565175327 != 561.4120653517407 within 5 delta (10.494608834207952 difference) : Should be 561.4120653517407\n",
            "\n",
            "======================================================================\n",
            "FAIL: runTest (mod.testing.test_stdev.<locals>.TestKnown.runTest)\n",
            "----------------------------------------------------------------------\n",
            "Traceback (most recent call last):\n",
            "  File \"c:\\Users\\gogo1\\Desktop\\lab-functions-en-master\\lab-functions-en-master\\mod\\testing.py\", line 142, in runTest\n",
            "    self.assertAlmostEqual(fn(self.input), self.output, delta=5, msg=f\"Should be {self.output}\")\n",
            "AssertionError: 515.3791033269565 != 520.5073799179216 within 5 delta (5.128276590965129 difference) : Should be 520.5073799179216\n",
            "\n",
            "======================================================================\n",
            "FAIL: runTest (mod.testing.test_stdev.<locals>.TestKnown.runTest)\n",
            "----------------------------------------------------------------------\n",
            "Traceback (most recent call last):\n",
            "  File \"c:\\Users\\gogo1\\Desktop\\lab-functions-en-master\\lab-functions-en-master\\mod\\testing.py\", line 142, in runTest\n",
            "    self.assertAlmostEqual(fn(self.input), self.output, delta=5, msg=f\"Should be {self.output}\")\n",
            "AssertionError: 497.42017430214446 != 504.28146634324895 within 5 delta (6.861292041104491 difference) : Should be 504.28146634324895\n",
            "\n",
            "======================================================================\n",
            "FAIL: runTest (mod.testing.test_stdev.<locals>.TestKnown.runTest)\n",
            "----------------------------------------------------------------------\n",
            "Traceback (most recent call last):\n",
            "  File \"c:\\Users\\gogo1\\Desktop\\lab-functions-en-master\\lab-functions-en-master\\mod\\testing.py\", line 142, in runTest\n",
            "    self.assertAlmostEqual(fn(self.input), self.output, delta=5, msg=f\"Should be {self.output}\")\n",
            "AssertionError: 563.7627844572368 != 569.8576943934244 within 5 delta (6.094909936187605 difference) : Should be 569.8576943934244\n",
            "\n",
            "======================================================================\n",
            "FAIL: runTest (mod.testing.test_stdev.<locals>.TestKnown.runTest)\n",
            "----------------------------------------------------------------------\n",
            "Traceback (most recent call last):\n",
            "  File \"c:\\Users\\gogo1\\Desktop\\lab-functions-en-master\\lab-functions-en-master\\mod\\testing.py\", line 142, in runTest\n",
            "    self.assertAlmostEqual(fn(self.input), self.output, delta=5, msg=f\"Should be {self.output}\")\n",
            "AssertionError: 608.512135691431 != 617.9469950055293 within 5 delta (9.434859314098276 difference) : Should be 617.9469950055293\n",
            "\n",
            "======================================================================\n",
            "FAIL: runTest (mod.testing.test_stdev.<locals>.TestKnown.runTest)\n",
            "----------------------------------------------------------------------\n",
            "Traceback (most recent call last):\n",
            "  File \"c:\\Users\\gogo1\\Desktop\\lab-functions-en-master\\lab-functions-en-master\\mod\\testing.py\", line 142, in runTest\n",
            "    self.assertAlmostEqual(fn(self.input), self.output, delta=5, msg=f\"Should be {self.output}\")\n",
            "AssertionError: 612.7475771810612 != 623.5935090521867 within 5 delta (10.845931871125572 difference) : Should be 623.5935090521867\n",
            "\n",
            "======================================================================\n",
            "FAIL: runTest (mod.testing.test_stdev.<locals>.TestKnown.runTest)\n",
            "----------------------------------------------------------------------\n",
            "Traceback (most recent call last):\n",
            "  File \"c:\\Users\\gogo1\\Desktop\\lab-functions-en-master\\lab-functions-en-master\\mod\\testing.py\", line 142, in runTest\n",
            "    self.assertAlmostEqual(fn(self.input), self.output, delta=5, msg=f\"Should be {self.output}\")\n",
            "AssertionError: 479.82062310528386 != 488.6254056401867 within 5 delta (8.80478253490287 difference) : Should be 488.6254056401867\n",
            "\n",
            "======================================================================\n",
            "FAIL: runTest (mod.testing.test_stdev.<locals>.TestKnown.runTest)\n",
            "----------------------------------------------------------------------\n",
            "Traceback (most recent call last):\n",
            "  File \"c:\\Users\\gogo1\\Desktop\\lab-functions-en-master\\lab-functions-en-master\\mod\\testing.py\", line 142, in runTest\n",
            "    self.assertAlmostEqual(fn(self.input), self.output, delta=5, msg=f\"Should be {self.output}\")\n",
            "AssertionError: 575.6108492687732 != 584.0143718733485 within 5 delta (8.4035226045753 difference) : Should be 584.0143718733485\n",
            "\n",
            "======================================================================\n",
            "FAIL: runTest (mod.testing.test_stdev.<locals>.TestKnown.runTest)\n",
            "----------------------------------------------------------------------\n",
            "Traceback (most recent call last):\n",
            "  File \"c:\\Users\\gogo1\\Desktop\\lab-functions-en-master\\lab-functions-en-master\\mod\\testing.py\", line 142, in runTest\n",
            "    self.assertAlmostEqual(fn(self.input), self.output, delta=5, msg=f\"Should be {self.output}\")\n",
            "AssertionError: 447.31019248894637 != 461.07679276182336 within 5 delta (13.766600272876985 difference) : Should be 461.07679276182336\n",
            "\n",
            "======================================================================\n",
            "FAIL: runTest (mod.testing.test_stdev.<locals>.TestKnown.runTest)\n",
            "----------------------------------------------------------------------\n",
            "Traceback (most recent call last):\n",
            "  File \"c:\\Users\\gogo1\\Desktop\\lab-functions-en-master\\lab-functions-en-master\\mod\\testing.py\", line 142, in runTest\n",
            "    self.assertAlmostEqual(fn(self.input), self.output, delta=5, msg=f\"Should be {self.output}\")\n",
            "AssertionError: 533.6994713515055 != 539.0100446515762 within 5 delta (5.3105733000707005 difference) : Should be 539.0100446515762\n",
            "\n",
            "======================================================================\n",
            "FAIL: runTest (mod.testing.test_stdev.<locals>.TestKnown.runTest)\n",
            "----------------------------------------------------------------------\n",
            "Traceback (most recent call last):\n",
            "  File \"c:\\Users\\gogo1\\Desktop\\lab-functions-en-master\\lab-functions-en-master\\mod\\testing.py\", line 142, in runTest\n",
            "    self.assertAlmostEqual(fn(self.input), self.output, delta=5, msg=f\"Should be {self.output}\")\n",
            "AssertionError: 578.1072990473668 != 583.8597521632043 within 5 delta (5.752453115837511 difference) : Should be 583.8597521632043\n",
            "\n",
            "======================================================================\n",
            "FAIL: runTest (mod.testing.test_stdev.<locals>.TestKnown.runTest)\n",
            "----------------------------------------------------------------------\n",
            "Traceback (most recent call last):\n",
            "  File \"c:\\Users\\gogo1\\Desktop\\lab-functions-en-master\\lab-functions-en-master\\mod\\testing.py\", line 142, in runTest\n",
            "    self.assertAlmostEqual(fn(self.input), self.output, delta=5, msg=f\"Should be {self.output}\")\n",
            "AssertionError: 601.0193341316067 != 609.7938031440965 within 5 delta (8.774469012489817 difference) : Should be 609.7938031440965\n",
            "\n",
            "----------------------------------------------------------------------\n",
            "Ran 100 tests in 0.149s\n",
            "\n",
            "FAILED (failures=48)\n"
          ]
        }
      ],
      "source": [
        "# This will test your function\n",
        "test_stdev(st_dev)"
      ]
    },
    {
      "cell_type": "markdown",
      "metadata": {
        "id": "ACpjH0EtqpeL"
      },
      "source": [
        "## 10. Write a function to check if a string is a pangram, i.e.: if it contains all the letters of the alphabet at least once. Mind that the strings may contain characters that are not letters."
      ]
    },
    {
      "cell_type": "code",
      "execution_count": 27,
      "metadata": {
        "id": "yo0yatVrqpeL"
      },
      "outputs": [],
      "source": [
        "def pangram(string):\n",
        "    alphabet = 'abcdefghijklmnopqrstuvwxyz'\n",
        "    string = string.lower()\n",
        "    for letter in alphabet:\n",
        "        if letter not in string:\n",
        "            return False\n",
        "\n",
        "    return True\n",
        "\n",
        "\n",
        "string2 = \"The quick brown fox jumps over the lazy dog\"\n",
        "result = pangram(string2)"
      ]
    },
    {
      "cell_type": "code",
      "execution_count": 28,
      "metadata": {
        "id": "GanwEUxuqpeL",
        "outputId": "78e17065-0ee5-4473-dff6-b17fdd7346eb"
      },
      "outputs": [
        {
          "name": "stderr",
          "output_type": "stream",
          "text": [
            "..............................\n",
            "----------------------------------------------------------------------\n",
            "Ran 30 tests in 0.039s\n",
            "\n",
            "OK\n"
          ]
        }
      ],
      "source": [
        "# This will test your function\n",
        "test_pangram(pangram)"
      ]
    },
    {
      "cell_type": "markdown",
      "metadata": {
        "id": "9oqjm4hTqpeL"
      },
      "source": [
        "## 11. Write a function that receives a string of comma separated words and returns a string of comma separated words sorted alphabetically.\n",
        "\n",
        "`NOTE: You may use sorted but not split and definitely no join! 🤪`"
      ]
    },
    {
      "cell_type": "code",
      "execution_count": 29,
      "metadata": {
        "id": "GYR7GlqeqpeL"
      },
      "outputs": [],
      "source": [
        "def sort_alpha(string):\n",
        "    words = []\n",
        "\n",
        "    current_word = \"\"\n",
        "    for char in string:\n",
        "        if char == ',':\n",
        "            if current_word:\n",
        "                words.append(current_word.strip())\n",
        "                current_word = \"\"\n",
        "        else:\n",
        "            current_word += char\n",
        "\n",
        "\n",
        "    if current_word:\n",
        "        words.append(current_word.strip())\n",
        "\n",
        "\n",
        "    sorted_words = sorted(words)\n",
        "\n",
        "\n",
        "    result_string = \"\"\n",
        "    for i, word in enumerate(sorted_words):\n",
        "        result_string += word\n",
        "        if i < len(sorted_words) - 1:\n",
        "            result_string += \",\"\n",
        "\n",
        "    return result_string\n",
        "\n",
        "L9 = \"banana, apple, orange, grape, cherry\"\n",
        "result = sort_alpha(L9)"
      ]
    },
    {
      "cell_type": "code",
      "execution_count": 30,
      "metadata": {
        "id": "AxmjO2U0qpeL",
        "outputId": "0390f157-0db2-4b8d-98cc-f536a4c74488"
      },
      "outputs": [
        {
          "name": "stderr",
          "output_type": "stream",
          "text": [
            "....................................................................................................\n",
            "----------------------------------------------------------------------\n",
            "Ran 100 tests in 0.121s\n",
            "\n",
            "OK\n"
          ]
        }
      ],
      "source": [
        "# This will test your function\n",
        "test_alpha(sort_alpha)"
      ]
    },
    {
      "cell_type": "markdown",
      "metadata": {
        "id": "ehlzBB8TqpeM"
      },
      "source": [
        "## 12. Write a function to check if a given password is strong (at least 8 characters, at least one lower case, at least one upper case, at least one number and at least one special character). It should output True if strong and False if not."
      ]
    },
    {
      "cell_type": "code",
      "execution_count": 31,
      "metadata": {
        "id": "UMf28_w7qpeN"
      },
      "outputs": [],
      "source": [
        "def check_pass(password):\n",
        "    if len(password) < 8:\n",
        "        return False\n",
        "\n",
        "    has_lower = False\n",
        "    has_upper = False\n",
        "    has_digit = False\n",
        "    has_special = False\n",
        "\n",
        "    special_characters = \"!@#$%^&*()-_=+[]{}|;:'\\\",.<>?/~`\"\n",
        "\n",
        "\n",
        "    for char in password:\n",
        "        if char.islower():\n",
        "            has_lower = True\n",
        "        elif char.isupper():\n",
        "            has_upper = True\n",
        "        elif char.isdigit():\n",
        "            has_digit = True\n",
        "        elif char in special_characters:\n",
        "            has_special = True\n",
        "\n",
        "\n",
        "    return has_lower and has_upper and has_digit and has_special\n",
        "\n",
        "\n",
        "password = \"StrongP@ss1\"\n",
        "result = check_pass(password)"
      ]
    },
    {
      "cell_type": "code",
      "execution_count": 32,
      "metadata": {
        "id": "M1D3JNU6qpeN",
        "outputId": "5565ba0c-1dd4-4d68-88e3-283d5901b169"
      },
      "outputs": [
        {
          "name": "stderr",
          "output_type": "stream",
          "text": [
            "....................................................................................................\n",
            "----------------------------------------------------------------------\n",
            "Ran 100 tests in 0.105s\n",
            "\n",
            "OK\n"
          ]
        }
      ],
      "source": [
        "# This will test your function\n",
        "test_pass(check_pass)"
      ]
    }
  ],
  "metadata": {
    "colab": {
      "provenance": []
    },
    "kernelspec": {
      "display_name": "Python 3",
      "language": "python",
      "name": "python3"
    },
    "language_info": {
      "codemirror_mode": {
        "name": "ipython",
        "version": 3
      },
      "file_extension": ".py",
      "mimetype": "text/x-python",
      "name": "python",
      "nbconvert_exporter": "python",
      "pygments_lexer": "ipython3",
      "version": "3.11.4"
    }
  },
  "nbformat": 4,
  "nbformat_minor": 0
}
