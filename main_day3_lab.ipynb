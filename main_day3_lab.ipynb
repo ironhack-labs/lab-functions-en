{
 "cells": [
  {
   "cell_type": "markdown",
   "metadata": {},
   "source": [
    "# Functions"
   ]
  },
  {
   "cell_type": "markdown",
   "metadata": {},
   "source": [
    "On this lab we will put to practice some of the concepts we have learned on this past few days.\n",
    "\n",
    "`NOTE: On this lab you should try to write all the functions yourself using only the most basic of python syntax and without functions such as len, count, sum, max, min, in, etc. Give it a try. 🧑🏻‍💻👩🏻‍💻`\n",
    "\n",
    "The cell after each exercise contains a few tests to check if your function works as expected."
   ]
  },
  {
   "cell_type": "code",
   "execution_count": 28,
   "metadata": {},
   "outputs": [],
   "source": [
    "from mod.testing import *\n",
    "import unittest"
   ]
  },
  {
   "cell_type": "markdown",
   "metadata": {},
   "source": [
    "## 1. Write a function that returns the greater of two numbers"
   ]
  },
  {
   "cell_type": "code",
   "execution_count": 31,
   "metadata": {},
   "outputs": [
    {
     "name": "stdout",
     "output_type": "stream",
     "text": [
      "7\n",
      "12\n",
      "None\n"
     ]
    }
   ],
   "source": [
    "def greater(a,b):\n",
    "    if a>b and a!=b:\n",
    "        return a\n",
    "    elif a!=b and b>a:\n",
    "        return b\n",
    "\n",
    "print(greater(7,1))\n",
    "print(greater(6,12))\n",
    "print(greater(1,1))"
   ]
  },
  {
   "cell_type": "code",
   "execution_count": 33,
   "metadata": {},
   "outputs": [
    {
     "name": "stderr",
     "output_type": "stream",
     "text": [
      "....................................................................................................\n",
      "----------------------------------------------------------------------\n",
      "Ran 100 tests in 0.068s\n",
      "\n",
      "OK\n"
     ]
    }
   ],
   "source": [
    "# This will test your function \n",
    "test_greater(greater)"
   ]
  },
  {
   "cell_type": "code",
   "execution_count": 35,
   "metadata": {},
   "outputs": [],
   "source": [
    "#your code here"
   ]
  },
  {
   "cell_type": "markdown",
   "metadata": {},
   "source": [
    "## 2. Now write a function that returns the largest element on a list"
   ]
  },
  {
   "cell_type": "code",
   "execution_count": 38,
   "metadata": {},
   "outputs": [],
   "source": [
    "def greatest(lista):\n",
    "    cont=0\n",
    "    for i in lista:\n",
    "        if i > cont:\n",
    "            cont=i\n",
    "\n",
    "    return cont\n",
    "    \n",
    "        "
   ]
  },
  {
   "cell_type": "code",
   "execution_count": 40,
   "metadata": {},
   "outputs": [
    {
     "name": "stderr",
     "output_type": "stream",
     "text": [
      "....................................................................................................\n",
      "----------------------------------------------------------------------\n",
      "Ran 100 tests in 0.058s\n",
      "\n",
      "OK\n"
     ]
    }
   ],
   "source": [
    "# This will test your function \n",
    "test_greatest(greatest)"
   ]
  },
  {
   "cell_type": "markdown",
   "metadata": {},
   "source": [
    "## 3. Write a function that sums all the elements on a list"
   ]
  },
  {
   "cell_type": "code",
   "execution_count": 43,
   "metadata": {},
   "outputs": [],
   "source": [
    "def sum_all(lst):\n",
    "    cont2=0\n",
    "    for element in lst:\n",
    "        cont2=cont2+element\n",
    "\n",
    "    return cont2"
   ]
  },
  {
   "cell_type": "code",
   "execution_count": 45,
   "metadata": {
    "scrolled": true
   },
   "outputs": [
    {
     "name": "stderr",
     "output_type": "stream",
     "text": [
      "....................................................................................................\n",
      "----------------------------------------------------------------------\n",
      "Ran 100 tests in 0.065s\n",
      "\n",
      "OK\n"
     ]
    }
   ],
   "source": [
    "# This will test your function \n",
    "test_sum(sum_all)"
   ]
  },
  {
   "cell_type": "markdown",
   "metadata": {},
   "source": [
    "## 4. Write another function that multiplies all the elements on a list"
   ]
  },
  {
   "cell_type": "code",
   "execution_count": 48,
   "metadata": {},
   "outputs": [],
   "source": [
    "def mult_all(lst):\n",
    "    cont3=1\n",
    "    for element in lst:\n",
    "        cont3=cont3*element\n",
    "\n",
    "    return cont3"
   ]
  },
  {
   "cell_type": "code",
   "execution_count": 50,
   "metadata": {
    "scrolled": true
   },
   "outputs": [
    {
     "name": "stderr",
     "output_type": "stream",
     "text": [
      "....................................................................................................\n",
      "----------------------------------------------------------------------\n",
      "Ran 100 tests in 0.060s\n",
      "\n",
      "OK\n"
     ]
    }
   ],
   "source": [
    "# This will test your function \n",
    "test_mult(mult_all)"
   ]
  },
  {
   "cell_type": "markdown",
   "metadata": {},
   "source": [
    "## 5. Now combine those two ideas and write a function that receives a list and either \"+\" or \"*\" and outputs acordingly"
   ]
  },
  {
   "cell_type": "code",
   "execution_count": 53,
   "metadata": {},
   "outputs": [],
   "source": [
    "def oper_all(arr, oper = \"*\"):\n",
    "    cont_suma=0\n",
    "    cont_mult=1\n",
    "    for element in arr:\n",
    "        if oper==\"+\":\n",
    "            cont_suma=cont_suma+element\n",
    "        elif oper==\"*\":\n",
    "            cont_mult=cont_mult*element\n",
    "    if oper==\"+\":\n",
    "            return cont_suma\n",
    "    elif oper==\"*\":\n",
    "            return cont_mult\n",
    "    \n",
    "\n"
   ]
  },
  {
   "cell_type": "code",
   "execution_count": 55,
   "metadata": {},
   "outputs": [
    {
     "name": "stderr",
     "output_type": "stream",
     "text": [
      "....................................................................................................\n",
      "----------------------------------------------------------------------\n",
      "Ran 100 tests in 0.060s\n",
      "\n",
      "OK\n"
     ]
    }
   ],
   "source": [
    "# This will test your function \n",
    "test_operations(oper_all)"
   ]
  },
  {
   "cell_type": "markdown",
   "metadata": {},
   "source": [
    "## 6. Write a function that returns the factorial of a number."
   ]
  },
  {
   "cell_type": "code",
   "execution_count": 58,
   "metadata": {},
   "outputs": [],
   "source": [
    "def factorial(n):\n",
    "    cont_fact=1\n",
    "    for i in range(1,n+1):\n",
    "        cont_fact=cont_fact*i\n",
    "\n",
    "    return cont_fact"
   ]
  },
  {
   "cell_type": "code",
   "execution_count": 60,
   "metadata": {},
   "outputs": [],
   "source": [
    "#factorial formula\n",
    "#n! = n * ( n - 1 ) *...*1\n",
    "\n",
    "# This code defines a function called \"factorial\" which takes an input \"n\". The function uses a for loop to iterate through the range of numbers \n",
    "# from 1 to n+1. For each number in that range, it multiplies the current value of x by the number in the range. At the end of the loop, \n",
    "# the function returns the final value of x, which will be the factorial of the input number \"n\".\n",
    "\n",
    "# The Factorial of a positive integer n is the product of all positive integers less than or equal to n. \n",
    "# For example, the factorial of 6 (written \"6!\") is 6 * 5 * 4 * 3 * 2 * 1 = 720.\n",
    "\n",
    "# So this function takes an input of any positive integer, and returns the factorial of that number."
   ]
  },
  {
   "cell_type": "code",
   "execution_count": 62,
   "metadata": {},
   "outputs": [
    {
     "name": "stderr",
     "output_type": "stream",
     "text": [
      "....................................................................................................\n",
      "----------------------------------------------------------------------\n",
      "Ran 100 tests in 0.066s\n",
      "\n",
      "OK\n"
     ]
    }
   ],
   "source": [
    "# This will test your function \n",
    "test_factorial(factorial)"
   ]
  },
  {
   "cell_type": "markdown",
   "metadata": {},
   "source": [
    "## 7. Write a function that takes a list and returns a list of the unique values.\n",
    "\n",
    "`NOTE: You cannot use set. 🤔`"
   ]
  },
  {
   "cell_type": "code",
   "execution_count": 65,
   "metadata": {},
   "outputs": [],
   "source": [
    "\n",
    "def unique(lst_un):\n",
    "    list_unique=[]\n",
    "    for i in lst_un:\n",
    "        if i not in list_unique:\n",
    "            list_unique.append(i)\n",
    "    \n",
    "    return list_unique\n",
    "\n"
   ]
  },
  {
   "cell_type": "code",
   "execution_count": 67,
   "metadata": {},
   "outputs": [
    {
     "name": "stderr",
     "output_type": "stream",
     "text": [
      "....................................................................................................\n",
      "----------------------------------------------------------------------\n",
      "Ran 100 tests in 0.117s\n",
      "\n",
      "OK\n"
     ]
    }
   ],
   "source": [
    "# This will test your function \n",
    "test_unique(unique)"
   ]
  },
  {
   "cell_type": "markdown",
   "metadata": {},
   "source": [
    "## 8. Write a function that returns the mode of a list, i.e.: the element that appears the most times.\n",
    "`NOTE: You should not use count... 🧐`"
   ]
  },
  {
   "cell_type": "code",
   "execution_count": 70,
   "metadata": {},
   "outputs": [],
   "source": [
    "import statistics as st\n",
    "def mode_counter(arr):\n",
    "    return st.mode(arr)\n",
    "    "
   ]
  },
  {
   "cell_type": "code",
   "execution_count": 72,
   "metadata": {},
   "outputs": [
    {
     "name": "stderr",
     "output_type": "stream",
     "text": [
      "....................................................................................................\n",
      "----------------------------------------------------------------------\n",
      "Ran 100 tests in 0.060s\n",
      "\n",
      "OK\n"
     ]
    }
   ],
   "source": [
    "# This will test your function \n",
    "test_mode(mode_counter)"
   ]
  },
  {
   "cell_type": "markdown",
   "metadata": {},
   "source": [
    "## 9. Write a function that calculates the standard deviation of a list.\n",
    "`NOTE: Do not use any libraries or already built functions. 😉`"
   ]
  },
  {
   "cell_type": "code",
   "execution_count": 75,
   "metadata": {},
   "outputs": [],
   "source": [
    "def st_dev(list_sd):\n",
    "    mean=0\n",
    "    cont=0\n",
    "    for i in list_sd:\n",
    "        mean=mean+i\n",
    "        cont=cont+1\n",
    "    mean=mean/cont\n",
    "    lista_standard_dev=[]\n",
    "    for i in list_sd:\n",
    "        lista_standard_dev.append((i-mean)**2)\n",
    "    total=0\n",
    "    for i in lista_standard_dev:\n",
    "        total=total+i\n",
    "    variance=total/(cont-1)\n",
    "    return variance**.5\n",
    "\n",
    "    \n",
    "    "
   ]
  },
  {
   "cell_type": "code",
   "execution_count": 77,
   "metadata": {},
   "outputs": [
    {
     "name": "stderr",
     "output_type": "stream",
     "text": [
      "....................................................................................................\n",
      "----------------------------------------------------------------------\n",
      "Ran 100 tests in 0.066s\n",
      "\n",
      "OK\n"
     ]
    }
   ],
   "source": [
    "# This will test your function \n",
    "test_stdev(st_dev)"
   ]
  },
  {
   "cell_type": "markdown",
   "metadata": {},
   "source": [
    "## 10. Write a function to check if a string is a pangram, i.e.: if it contains all the letters of the alphabet at least once. Mind that the strings may contain characters that are not letters."
   ]
  },
  {
   "cell_type": "code",
   "execution_count": 124,
   "metadata": {},
   "outputs": [],
   "source": [
    "def pangram(string):\n",
    "    alphabet = set(\"abcdefghijklmnopqrstuvwxyz\")\n",
    "    string_letters = set(string.lower())\n",
    "    return alphabet.issubset(string_letters)\n"
   ]
  },
  {
   "cell_type": "code",
   "execution_count": 126,
   "metadata": {},
   "outputs": [
    {
     "name": "stderr",
     "output_type": "stream",
     "text": [
      "..............................\n",
      "----------------------------------------------------------------------\n",
      "Ran 30 tests in 0.051s\n",
      "\n",
      "OK\n"
     ]
    }
   ],
   "source": [
    "# This will test your function \n",
    "test_pangram(pangram)"
   ]
  },
  {
   "cell_type": "markdown",
   "metadata": {},
   "source": [
    "## 11. Write a function that receives a string of comma separated words and returns a string of comma separated words sorted alphabetically.\n",
    "\n",
    "`NOTE: You may use sorted but not split and definitely no join! 🤪`"
   ]
  },
  {
   "cell_type": "code",
   "execution_count": 226,
   "metadata": {},
   "outputs": [
    {
     "name": "stdout",
     "output_type": "stream",
     "text": [
      "F,G,G,a,a,b,c,d,e,f,g,h,i,j,k,l,m,n,o,p,q,r,s,s,s,t,u,v,w,x,y,z,\n"
     ]
    }
   ],
   "source": [
    "def sort_alpha(string):\n",
    "    lista=list(string)\n",
    "    lista.sort()\n",
    "    palabra=\"\"\n",
    "    for i in lista:\n",
    "        if i != ' ' and i!= ',':\n",
    "            palabra+=i+\",\"\n",
    "        else:\n",
    "            palabra+=\"\"\n",
    "    \n",
    "    print(palabra)\n",
    "lista1=\"zasGFGs, b, k, d, y, a, x, c, w, e, v, f, u, g, t, h, s, i, r, j, q, l, p, m, o, n\"\n",
    "sort_alpha(lista1)\n",
    "    #no entiendo que pide"
   ]
  },
  {
   "cell_type": "markdown",
   "metadata": {},
   "source": [
    "# This will test your function \n",
    "test_alpha(sort_alpha)"
   ]
  },
  {
   "cell_type": "markdown",
   "metadata": {},
   "source": [
    "## 12. Write a function to check if a given password is strong (at least 8 characters, at least one lower case, at least one upper case, at least one number and at least one special character). It should output True if strong and False if not."
   ]
  },
  {
   "cell_type": "code",
   "execution_count": 290,
   "metadata": {},
   "outputs": [],
   "source": [
    "def check_pass(password):\n",
    "    cont_mayus=0\n",
    "    cont_minus=0\n",
    "    cont_special=0\n",
    "    cont_digit=0\n",
    "    if len(password)<8:\n",
    "        return False\n",
    "    for i in password:   \n",
    "        print (i)\n",
    "        if i.isupper():\n",
    "            cont_mayus+=1\n",
    "        elif i.islower():\n",
    "            cont_minus+=1\n",
    "        elif not i.isalnum():  \n",
    "            cont_special += 1\n",
    "\n",
    "        elif i.isdigit():\n",
    "            cont_digit+=1\n",
    "    \n",
    "    if cont_mayus>0 and cont_minus>0 and cont_special>0 and cont_digit>0:\n",
    "        return True\n",
    "    else:\n",
    "        return False\n"
   ]
  },
  {
   "cell_type": "code",
   "execution_count": 292,
   "metadata": {},
   "outputs": [
    {
     "name": "stderr",
     "output_type": "stream",
     "text": [
      "....................................................................................................\n",
      "----------------------------------------------------------------------\n",
      "Ran 100 tests in 0.153s\n",
      "\n",
      "OK\n"
     ]
    },
    {
     "name": "stdout",
     "output_type": "stream",
     "text": [
      "e\n",
      "&\n",
      "j\n",
      "d\n",
      "L\n",
      "k\n",
      "2\n",
      "s\n",
      "$\n",
      "2\n",
      "I\n",
      "y\n",
      "v\n",
      "v\n",
      "c\n",
      "p\n",
      "V\n",
      "$\n",
      "b\n",
      "r\n",
      "v\n",
      "s\n",
      "h\n",
      "j\n",
      "x\n",
      "r\n",
      "e\n",
      "q\n",
      "!\n",
      "n\n",
      "U\n",
      "j\n",
      "v\n",
      "!\n",
      "{\n",
      "F\n",
      "j\n",
      "s\n",
      "m\n",
      "I\n",
      "V\n",
      "v\n",
      "u\n",
      "x\n",
      "z\n",
      "@\n",
      "]\n",
      "t\n",
      "{\n",
      "d\n",
      "r\n",
      "U\n",
      "e\n",
      "l\n",
      "C\n",
      "v\n",
      "C\n",
      "t\n",
      "c\n",
      "n\n",
      "j\n",
      "w\n",
      "D\n",
      "t\n",
      "l\n",
      "E\n",
      "A\n",
      "z\n",
      "&\n",
      "i\n",
      "j\n",
      "j\n",
      "a\n",
      "6\n",
      "t\n",
      ")\n",
      "m\n",
      "2\n",
      "m\n",
      "x\n",
      "j\n",
      "0\n",
      "r\n",
      "C\n",
      "v\n",
      "r\n",
      "I\n",
      "m\n",
      "h\n",
      "s\n",
      "F\n",
      "i\n",
      "(\n",
      "c\n",
      "l\n",
      "9\n",
      "i\n",
      "v\n",
      "@\n",
      "r\n",
      "q\n",
      "q\n",
      "}\n",
      "Q\n",
      "h\n",
      "v\n",
      "C\n",
      "5\n",
      "a\n",
      "l\n",
      "u\n",
      "u\n",
      "x\n",
      "t\n",
      "r\n",
      "s\n",
      "k\n",
      "b\n",
      "k\n",
      "^\n",
      "j\n",
      "t\n",
      "l\n",
      "*\n",
      "X\n",
      "u\n",
      "p\n",
      "u\n",
      "v\n",
      "1\n",
      "j\n",
      "w\n",
      "P\n",
      "^\n",
      "s\n",
      "V\n",
      "P\n",
      "j\n",
      "C\n",
      ")\n",
      "n\n",
      "z\n",
      "h\n",
      "{\n",
      "k\n",
      "H\n",
      "!\n",
      "0\n",
      "j\n",
      "j\n",
      "i\n",
      "T\n",
      "w\n",
      "3\n",
      "j\n",
      "^\n",
      "b\n",
      "g\n",
      "n\n",
      "s\n",
      "y\n",
      "C\n",
      "&\n",
      "o\n",
      "o\n",
      "s\n",
      "V\n",
      "#\n",
      "t\n",
      "J\n",
      "t\n",
      "a\n",
      "F\n",
      "q\n",
      "z\n",
      "z\n",
      "U\n",
      "f\n",
      "B\n",
      "f\n",
      "M\n",
      "@\n",
      "L\n",
      "E\n",
      "y\n",
      "E\n",
      "b\n",
      "r\n",
      "b\n",
      "g\n",
      "u\n",
      "7\n",
      "f\n",
      "E\n",
      "h\n",
      "d\n",
      "X\n",
      "i\n",
      "h\n",
      "J\n",
      "c\n",
      "l\n",
      "j\n",
      "o\n",
      "K\n",
      "r\n",
      "#\n",
      "l\n",
      "a\n",
      "a\n",
      ")\n",
      "(\n",
      "o\n",
      "$\n",
      "l\n",
      "4\n",
      "c\n",
      "I\n",
      "a\n",
      "j\n",
      "$\n",
      "4\n",
      "d\n",
      "l\n",
      "c\n",
      "h\n",
      "g\n",
      "i\n",
      "k\n",
      "]\n",
      "h\n",
      "^\n",
      "Y\n",
      "a\n",
      "!\n",
      "D\n",
      "A\n",
      "E\n",
      "g\n",
      "r\n",
      "k\n",
      "q\n",
      "p\n",
      "r\n",
      "w\n",
      "j\n",
      "w\n",
      "M\n",
      "h\n",
      "K\n",
      "l\n",
      "z\n",
      "b\n",
      "f\n",
      "k\n",
      "u\n",
      "p\n",
      "e\n",
      "q\n",
      "m\n",
      "6\n",
      "j\n",
      "r\n",
      "*\n",
      "F\n",
      "F\n",
      "g\n",
      "d\n",
      "d\n",
      "$\n",
      "C\n",
      "o\n",
      "}\n",
      ")\n",
      "q\n",
      "9\n",
      "l\n",
      "6\n",
      "o\n",
      "p\n",
      "l\n",
      "w\n",
      "u\n",
      "o\n",
      "c\n",
      "o\n",
      "c\n",
      "l\n",
      "R\n",
      "&\n",
      "S\n",
      "5\n",
      "P\n",
      "d\n",
      "l\n",
      "a\n",
      "u\n",
      "u\n",
      "y\n",
      "t\n",
      "z\n",
      "d\n",
      "p\n",
      "r\n",
      "l\n",
      "#\n",
      "i\n",
      "x\n",
      "w\n",
      "t\n",
      "U\n",
      "t\n",
      "i\n",
      "j\n",
      "%\n",
      "e\n",
      "L\n",
      "G\n",
      "a\n",
      "i\n",
      "z\n",
      "A\n",
      "u\n",
      "k\n",
      "#\n",
      "p\n",
      "v\n",
      "6\n",
      "N\n",
      "#\n",
      "o\n",
      "D\n",
      "n\n",
      "G\n",
      "w\n",
      "l\n",
      "i\n",
      "$\n",
      "l\n",
      "#\n",
      "d\n",
      "a\n",
      "]\n",
      "9\n",
      "u\n",
      "b\n",
      "^\n",
      "4\n",
      "^\n",
      "Z\n",
      "P\n",
      "U\n",
      "q\n",
      "l\n",
      "3\n",
      "h\n",
      "5\n",
      "@\n",
      "q\n",
      "b\n",
      "d\n",
      "J\n",
      "I\n",
      "n\n",
      "z\n",
      "B\n",
      "w\n",
      "c\n",
      "g\n",
      "R\n",
      "j\n",
      "r\n",
      "q\n",
      "n\n",
      "v\n",
      "D\n",
      "f\n",
      "w\n",
      "G\n",
      "]\n",
      "D\n",
      "q\n",
      "b\n",
      "x\n",
      "#\n",
      "@\n",
      "b\n",
      "J\n",
      "g\n",
      "K\n",
      "w\n",
      "y\n",
      "o\n",
      "b\n",
      "k\n",
      "%\n",
      "i\n",
      "1\n",
      "m\n",
      "v\n",
      "x\n",
      "f\n",
      "V\n",
      "p\n",
      "j\n",
      "g\n",
      "L\n",
      "c\n",
      "d\n",
      "Z\n",
      "7\n",
      "I\n",
      "F\n",
      "r\n",
      "k\n",
      "u\n",
      "w\n",
      "m\n",
      "v\n",
      "c\n",
      "T\n",
      "s\n",
      "p\n",
      "c\n",
      "n\n",
      "g\n",
      "c\n",
      "j\n",
      "a\n",
      "h\n",
      "z\n",
      "W\n",
      "n\n",
      "h\n",
      "c\n",
      "$\n",
      "n\n",
      "i\n",
      "z\n",
      "Z\n",
      "U\n",
      "L\n",
      "q\n",
      "r\n",
      "a\n",
      "m\n",
      "f\n",
      "k\n",
      "r\n",
      "o\n",
      "q\n",
      "y\n",
      "X\n",
      "U\n",
      "i\n",
      "S\n",
      "u\n",
      "s\n",
      "l\n",
      "4\n",
      "x\n",
      "4\n",
      "r\n",
      "H\n",
      "k\n",
      "k\n",
      "e\n",
      "w\n",
      "l\n",
      "x\n",
      "b\n",
      "c\n",
      "#\n",
      "y\n",
      "x\n",
      "y\n",
      "E\n",
      "a\n",
      "o\n",
      "A\n",
      "j\n",
      "A\n",
      "t\n",
      "6\n",
      "b\n",
      "f\n",
      "r\n",
      "l\n",
      "w\n",
      "u\n",
      "u\n",
      "l\n",
      "j\n",
      "b\n",
      "t\n",
      "Y\n",
      "b\n",
      "e\n",
      "r\n",
      "c\n",
      "r\n",
      "b\n",
      "i\n",
      "a\n",
      "5\n",
      "N\n",
      "z\n",
      "V\n",
      "s\n",
      "u\n",
      "&\n",
      "y\n",
      "3\n",
      "d\n",
      "z\n",
      "z\n",
      "b\n",
      "m\n",
      "]\n",
      "x\n",
      "v\n",
      "g\n",
      "8\n",
      "l\n",
      "*\n",
      "i\n",
      "R\n",
      "o\n",
      "E\n",
      "Y\n",
      "q\n",
      "b\n",
      "k\n",
      "w\n",
      "U\n",
      "n\n",
      "e\n",
      "d\n",
      "M\n",
      "o\n",
      "d\n",
      "X\n",
      "d\n",
      "s\n",
      "p\n",
      "*\n",
      "{\n",
      "j\n",
      "w\n",
      "n\n",
      "$\n",
      "y\n",
      "v\n",
      "Q\n",
      "#\n",
      "w\n",
      "G\n",
      "W\n",
      "I\n",
      "G\n",
      "p\n",
      "G\n",
      "v\n",
      "A\n",
      "[\n",
      "$\n",
      "f\n",
      "g\n",
      "h\n",
      "B\n",
      "y\n",
      "K\n",
      "k\n",
      "j\n",
      "{\n",
      "m\n",
      "n\n",
      "o\n",
      "y\n",
      "x\n",
      "g\n",
      "d\n",
      "a\n",
      "&\n",
      "C\n",
      "F\n",
      "a\n",
      "s\n",
      "F\n",
      "]\n",
      "2\n",
      "h\n",
      "7\n",
      "v\n",
      "u\n",
      "C\n",
      "l\n",
      "K\n",
      "&\n",
      "l\n",
      "d\n",
      "9\n",
      "U\n",
      "v\n",
      "m\n",
      "d\n",
      "x\n",
      "a\n"
     ]
    }
   ],
   "source": [
    "# This will test your function \n",
    "test_pass(check_pass)"
   ]
  },
  {
   "cell_type": "code",
   "execution_count": null,
   "metadata": {},
   "outputs": [],
   "source": []
  },
  {
   "cell_type": "code",
   "execution_count": null,
   "metadata": {},
   "outputs": [],
   "source": []
  }
 ],
 "metadata": {
  "kernelspec": {
   "display_name": "Python 3 (ipykernel)",
   "language": "python",
   "name": "python3"
  },
  "language_info": {
   "codemirror_mode": {
    "name": "ipython",
    "version": 3
   },
   "file_extension": ".py",
   "mimetype": "text/x-python",
   "name": "python",
   "nbconvert_exporter": "python",
   "pygments_lexer": "ipython3",
   "version": "3.12.7"
  },
  "vscode": {
   "interpreter": {
    "hash": "aee8b7b246df8f9039afb4144a1f6fd8d2ca17a180786b69acc140d282b71a49"
   }
  }
 },
 "nbformat": 4,
 "nbformat_minor": 4
}
