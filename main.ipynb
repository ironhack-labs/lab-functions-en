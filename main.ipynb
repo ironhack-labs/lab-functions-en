{
 "cells": [
  {
   "cell_type": "markdown",
   "metadata": {},
   "source": [
    "# Functions"
   ]
  },
  {
   "cell_type": "markdown",
   "metadata": {},
   "source": [
    "On this lab we will put to practice some of the concepts we have learned on this past few days.\n",
    "\n",
    "`NOTE: On this lab you should try to write all the functions yourself using only the most basic of python syntax and without functions such as len, count, sum, max, min, in, etc. Give it a try. 🧑🏻‍💻👩🏻‍💻`\n",
    "\n",
    "The cell after each exercise contains a few tests to check if your function works as expected."
   ]
  },
  {
   "cell_type": "code",
   "execution_count": null,
   "metadata": {},
   "outputs": [],
   "source": [
    "from mod.testing import *\n",
    "import unittest"
   ]
  },
  {
   "cell_type": "markdown",
   "metadata": {},
   "source": [
    "## 1. Write a function that returns the greater of two numbers"
   ]
  },
  {
   "cell_type": "code",
   "execution_count": 6,
   "metadata": {},
   "outputs": [],
   "source": [
    "def greater(a,b):\n",
    "\n",
    "    if a > b:\n",
    "        return a\n",
    "    else:\n",
    "        return b\n",
    "    \n",
    "def test_greater(func):\n",
    "    # pruebas con numeros random\n",
    "    assert func(10, 20) == 20, \"Test case 1 failed\"\n",
    "    assert func(-5, -10) == -5, \"Test case 2 failed\"\n",
    "    print(\"All test cases passed!\")\n",
    "\n",
    "    \n"
   ]
  },
  {
   "cell_type": "code",
   "execution_count": 7,
   "metadata": {},
   "outputs": [
    {
     "name": "stdout",
     "output_type": "stream",
     "text": [
      "All test cases passed!\n"
     ]
    }
   ],
   "source": [
    "# This will test your function \n",
    "test_greater(greater)"
   ]
  },
  {
   "cell_type": "code",
   "execution_count": 2,
   "metadata": {},
   "outputs": [],
   "source": [
    "#your code here"
   ]
  },
  {
   "cell_type": "markdown",
   "metadata": {},
   "source": [
    "## 2. Now write a function that returns the largest element on a list"
   ]
  },
  {
   "cell_type": "code",
   "execution_count": null,
   "metadata": {},
   "outputs": [],
   "source": [
    "\n",
    "def largest_element(lst):\n",
    "    \n",
    "    largest = lst[0]  \n",
    "\n",
    "\n",
    "    for num in lst:\n",
    "        if num > largest:  \n",
    "            largest = num  \n",
    "\n",
    "    return largest\n",
    "\n",
    "\n",
    "def test_greater(func):\n",
    "    assert func([3, 1, 4, 1, 5, 9, 2]) == 9\n",
    "    assert func([-1, -2, -3, -4]) == -1\n",
    "    assert func([0, 0, 0, 0]) == 0\n",
    "    print(\"All tests passed!\")\n"
   ]
  },
  {
   "cell_type": "code",
   "execution_count": 11,
   "metadata": {},
   "outputs": [
    {
     "name": "stdout",
     "output_type": "stream",
     "text": [
      "All tests passed!\n"
     ]
    }
   ],
   "source": [
    "# This will test your function \n",
    "test_greater(largest_element)"
   ]
  },
  {
   "cell_type": "markdown",
   "metadata": {},
   "source": [
    "## 3. Write a function that sums all the elements on a list"
   ]
  },
  {
   "cell_type": "code",
   "execution_count": null,
   "metadata": {},
   "outputs": [],
   "source": [
    "\n",
    "\n",
    "def sum_all(lst):\n",
    "    # Inicializa la suma en 0\n",
    "    total = 0\n",
    "\n",
    "    \n",
    "    for num in lst:\n",
    "        total += num  \n",
    "\n",
    "    return total\n",
    "\n",
    "# Test\n",
    "def test_sum(func):\n",
    "    assert func([1, 2, 3, 4]) == 10  \n",
    "    print(\"All tests passed!\")\n"
   ]
  },
  {
   "cell_type": "code",
   "execution_count": 13,
   "metadata": {
    "scrolled": true
   },
   "outputs": [
    {
     "name": "stdout",
     "output_type": "stream",
     "text": [
      "All tests passed!\n"
     ]
    }
   ],
   "source": [
    "# This will test your function \n",
    "test_sum(sum_all)"
   ]
  },
  {
   "cell_type": "markdown",
   "metadata": {},
   "source": [
    "## 4. Write another function that multiplies all the elements on a list"
   ]
  },
  {
   "cell_type": "code",
   "execution_count": null,
   "metadata": {},
   "outputs": [],
   "source": [
    "def mult_all(lst):\n",
    "    \n",
    "    product = 1\n",
    "\n",
    "    \n",
    "    for num in lst:\n",
    "        product *= num  # Multiplicar el elemento al producto actual\n",
    "\n",
    "    return product\n",
    "\n",
    "# Test function\n",
    "def test_mult(func):\n",
    "    assert func([1, 2, 3, 4]) == 24  \n",
    "    print(\"Very Good my Friend!\")"
   ]
  },
  {
   "cell_type": "code",
   "execution_count": 15,
   "metadata": {
    "scrolled": true
   },
   "outputs": [
    {
     "name": "stdout",
     "output_type": "stream",
     "text": [
      "Very Good my Friend!\n"
     ]
    }
   ],
   "source": [
    "# This will test your function \n",
    "test_mult(mult_all)"
   ]
  },
  {
   "cell_type": "markdown",
   "metadata": {},
   "source": [
    "## 5. Now combine those two ideas and write a function that receives a list and either \"+\" or \"*\" and outputs acordingly"
   ]
  },
  {
   "cell_type": "code",
   "execution_count": 16,
   "metadata": {},
   "outputs": [],
   "source": [
    "def oper_all(arr, oper=\"*\"):\n",
    "   \n",
    "    if not arr:\n",
    "        return 0 if oper == \"+\" else 1\n",
    "\n",
    "   \n",
    "    result = 0 if oper == \"+\" else 1\n",
    "\n",
    "\n",
    "    for num in arr:\n",
    "        if oper == \"+\":\n",
    "            result += num #sumar\n",
    "        elif oper == \"*\":\n",
    "            result *= num  #multiplicar\n",
    "\n",
    "    return result\n",
    "\n",
    "# Test\n",
    "def test_operations(func):\n",
    "    assert func([1, 2, 3, 4], \"+\") == 10  # Suma: 1 + 2 + 3 + 4 = 10\n",
    "    assert func([1, 2, 3, 4], \"*\") == 24  # Multiplicación: 1 * 2 * 3 * 4 = 24\n",
    "    assert func([], \"+\") == 0  #suma empty: 0\n",
    "    assert func([], \"*\") == 1  #multiplicacion empty: 1\n",
    "    print(\"muy bien bonico!\")\n"
   ]
  },
  {
   "cell_type": "code",
   "execution_count": 17,
   "metadata": {},
   "outputs": [
    {
     "name": "stdout",
     "output_type": "stream",
     "text": [
      "muy bien bonico!\n"
     ]
    }
   ],
   "source": [
    "# This will test your function \n",
    "test_operations(oper_all)"
   ]
  },
  {
   "cell_type": "markdown",
   "metadata": {},
   "source": [
    "## 6. Write a function that returns the factorial of a number."
   ]
  },
  {
   "cell_type": "code",
   "execution_count": 18,
   "metadata": {},
   "outputs": [],
   "source": [
    "def factorial(n):\n",
    "   \n",
    "    if n == 0 or n == 1:\n",
    "        return 1\n",
    "\n",
    "   \n",
    "    result = 1\n",
    "\n",
    "    # Calcular el factorial usando un bucle\n",
    "\n",
    "    for i in range(1, n + 1):  \n",
    "        result *= i  \n",
    "\n",
    "    return result\n",
    "\n",
    "# Test\n",
    "def test_factorial(func):\n",
    "    assert func(0) == 1  # 0! = 1\n",
    "    assert func(1) == 1  # 1! = 1\n",
    "    assert func(5) == 120  # 5! = 5 * 4 * 3 * 2 * 1 = 120\n",
    "    assert func(6) == 720  # 6! = 6 * 5 * 4 * 3 * 2 * 1 = 720\n",
    "    print(\"esto fue dificil!\")"
   ]
  },
  {
   "cell_type": "code",
   "execution_count": null,
   "metadata": {},
   "outputs": [],
   "source": [
    "#factorial formula\n",
    "#n! = n * ( n - 1 ) *...*1\n",
    "\n",
    "# This code defines a function called \"factorial\" which takes an input \"n\". The function uses a for loop to iterate through the range of numbers \n",
    "# from 1 to n+1. For each number in that range, it multiplies the current value of x by the number in the range. At the end of the loop, \n",
    "# the function returns the final value of x, which will be the factorial of the input number \"n\".\n",
    "\n",
    "# The Factorial of a positive integer n is the product of all positive integers less than or equal to n. \n",
    "# For example, the factorial of 6 (written \"6!\") is 6 * 5 * 4 * 3 * 2 * 1 = 720.\n",
    "\n",
    "# So this function takes an input of any positive integer, and returns the factorial of that number."
   ]
  },
  {
   "cell_type": "code",
   "execution_count": 19,
   "metadata": {},
   "outputs": [
    {
     "name": "stdout",
     "output_type": "stream",
     "text": [
      "esto fue dificil!\n"
     ]
    }
   ],
   "source": [
    "# This will test your function \n",
    "test_factorial(factorial)"
   ]
  },
  {
   "cell_type": "markdown",
   "metadata": {},
   "source": [
    "## 7. Write a function that takes a list and returns a list of the unique values.\n",
    "\n",
    "`NOTE: You cannot use set. 🤔`"
   ]
  },
  {
   "cell_type": "code",
   "execution_count": 20,
   "metadata": {},
   "outputs": [],
   "source": [
    "def unique(lst_un):\n",
    "   \n",
    "    unique_values = []\n",
    "\n",
    "   \n",
    "    for item in lst_un:\n",
    "       \n",
    "        if item not in unique_values:\n",
    "            unique_values.append(item)\n",
    "\n",
    "    return unique_values\n",
    "\n",
    "# Test\n",
    "def test_unique(func):\n",
    "    assert func([1, 2, 2, 3, 4, 4, 5]) == [1, 2, 3, 4, 5] \n",
    "    assert func([1, 1, 1, 1]) == [1] \n",
    "    assert func([5, 5, 4, 3, 2, 1]) == [5, 4, 3, 2, 1]  \n",
    "    print(\"muy bien\")"
   ]
  },
  {
   "cell_type": "code",
   "execution_count": 21,
   "metadata": {},
   "outputs": [
    {
     "name": "stdout",
     "output_type": "stream",
     "text": [
      "muy bien\n"
     ]
    }
   ],
   "source": [
    "# This will test your function \n",
    "test_unique(unique)"
   ]
  },
  {
   "cell_type": "markdown",
   "metadata": {},
   "source": [
    "## 8. Write a function that returns the mode of a list, i.e.: the element that appears the most times.\n",
    "`NOTE: You should not use count... 🧐`"
   ]
  },
  {
   "cell_type": "code",
   "execution_count": null,
   "metadata": {},
   "outputs": [],
   "source": [
    "def mode_counter(arr):\n",
    " \n",
    "    frequency = {}\n",
    "\n",
    "\n",
    "    for num in arr:\n",
    "        if num in frequency:\n",
    "            frequency[num] += 1\n",
    "        else:\n",
    "            frequency[num] = 1\n",
    "\n",
    "    mode = None\n",
    "    max_count = 0\n",
    "    for key, count in frequency.items():\n",
    "        if count > max_count:\n",
    "            max_count = count\n",
    "            mode = key\n",
    "\n",
    "    return mode\n",
    "\n",
    "#TEST\n",
    "def test_mode(func):\n",
    "    assert func([1, 2, 3, 3, 2, 3, 4, 5]) == 3\n",
    "    assert func([1, 1, 1, 2, 3, 4]) == 1\n",
    "    assert func([1, 2, 3, 4, 5]) in [1, 2, 3, 4, 5]  \n",
    "    print(\"All tests passed for mode_counter!\")\n",
    "\n"
   ]
  },
  {
   "cell_type": "code",
   "execution_count": 23,
   "metadata": {},
   "outputs": [
    {
     "name": "stdout",
     "output_type": "stream",
     "text": [
      "All tests passed for mode_counter!\n"
     ]
    }
   ],
   "source": [
    "# This will test your function \n",
    "test_mode(mode_counter)"
   ]
  },
  {
   "cell_type": "markdown",
   "metadata": {},
   "source": [
    "## 9. Write a function that calculates the standard deviation of a list.\n",
    "`NOTE: Do not use any libraries or already built functions. 😉`"
   ]
  },
  {
   "cell_type": "code",
   "execution_count": 24,
   "metadata": {},
   "outputs": [],
   "source": [
    "def st_dev(list_sd):\n",
    "  \n",
    "    total = 0\n",
    "    for num in list_sd:\n",
    "        total += num\n",
    "    mean = total / len(list_sd)\n",
    "\n",
    "\n",
    "    squared_diff_sum = 0\n",
    "    for num in list_sd:\n",
    "        squared_diff_sum += (num - mean) ** 2\n",
    "\n",
    "    std_dev = (squared_diff_sum / len(list_sd)) ** 0.5\n",
    "    return std_dev\n",
    "\n",
    "# Test \n",
    "def test_stdev(func):\n",
    "    assert round(func([1, 2, 3, 4, 5]), 2) == 1.41\n",
    "    assert round(func([10, 10, 10, 10]), 2) == 0.0\n",
    "    assert round(func([2, 4, 6, 8]), 2) == 2.24\n",
    "    print(\"All tests paproved for st_dev!\")\n",
    "\n",
    "\n"
   ]
  },
  {
   "cell_type": "code",
   "execution_count": 25,
   "metadata": {},
   "outputs": [
    {
     "name": "stdout",
     "output_type": "stream",
     "text": [
      "All tests paproved for st_dev!\n"
     ]
    }
   ],
   "source": [
    "# This will test your function \n",
    "test_stdev(st_dev)"
   ]
  },
  {
   "cell_type": "markdown",
   "metadata": {},
   "source": [
    "## 10. Write a function to check if a string is a pangram, i.e.: if it contains all the letters of the alphabet at least once. Mind that the strings may contain characters that are not letters."
   ]
  },
  {
   "cell_type": "code",
   "execution_count": 28,
   "metadata": {},
   "outputs": [],
   "source": [
    "def pangram(string):\n",
    "    \n",
    "    alphabet = set(\"abcdefghijklmnopqrstuvwxyz\")\n",
    "\n",
    "\n",
    "    letters = set(char.lower() for char in string if char.isalpha())\n",
    "\n",
    " \n",
    "    return alphabet <= letters\n",
    "\n",
    "# Test \n",
    "def test_pangram(func):\n",
    "    assert func(\"The quick brown fox jumps over the lazy dog\") == True\n",
    "    assert func(\"Hello World\") == False\n",
    "    assert func(\"abcdefghijklmnopqrstuvwxyz\") == True\n",
    "    print(\"All tests approved for pangram!\")"
   ]
  },
  {
   "cell_type": "code",
   "execution_count": 29,
   "metadata": {},
   "outputs": [
    {
     "name": "stdout",
     "output_type": "stream",
     "text": [
      "All tests approved for pangram!\n"
     ]
    }
   ],
   "source": [
    "# This will test your function \n",
    "test_pangram(pangram)"
   ]
  },
  {
   "cell_type": "markdown",
   "metadata": {},
   "source": [
    "## 11. Write a function that receives a string of comma separated words and returns a string of comma separated words sorted alphabetically.\n",
    "\n",
    "`NOTE: You may use sorted but not split and definitely no join! 🤪`"
   ]
  },
  {
   "cell_type": "code",
   "execution_count": 30,
   "metadata": {},
   "outputs": [],
   "source": [
    "def sort_alpha(string):\n",
    "   \n",
    "    words = []\n",
    "    word = \"\"\n",
    "    for char in string:\n",
    "        if char == \",\":\n",
    "            words.append(word)\n",
    "            word = \"\"\n",
    "        else:\n",
    "            word += char\n",
    "    words.append(word)\n",
    "\n",
    "    sorted_words = sorted(words)\n",
    "\n",
    "   \n",
    "    result = \"\"\n",
    "    for i, word in enumerate(sorted_words):\n",
    "        if i > 0:\n",
    "            result += \",\"\n",
    "        result += word\n",
    "\n",
    "    return result\n",
    "\n",
    "# Test \n",
    "def test_alpha(func):\n",
    "    assert func(\"banana,apple,orange\") == \"apple,banana,orange\"\n",
    "    assert func(\"zebra,ant,cat\") == \"ant,cat,zebra\"\n",
    "    assert func(\"\") == \"\"\n",
    "    print(\"All tests approved for sort_alpha!\")"
   ]
  },
  {
   "cell_type": "code",
   "execution_count": 31,
   "metadata": {},
   "outputs": [
    {
     "name": "stdout",
     "output_type": "stream",
     "text": [
      "All tests approved for sort_alpha!\n"
     ]
    }
   ],
   "source": [
    "# This will test your function \n",
    "test_alpha(sort_alpha)"
   ]
  },
  {
   "cell_type": "markdown",
   "metadata": {},
   "source": [
    "## 12. Write a function to check if a given password is strong (at least 8 characters, at least one lower case, at least one upper case, at least one number and at least one special character). It should output True if strong and False if not."
   ]
  },
  {
   "cell_type": "code",
   "execution_count": 32,
   "metadata": {},
   "outputs": [],
   "source": [
    "def check_pass(password):\n",
    "  \n",
    "    has_upper = has_lower = has_digit = has_special = False\n",
    "\n",
    "   \n",
    "    for char in password:\n",
    "        if char.isupper():\n",
    "            has_upper = True\n",
    "        elif char.islower():\n",
    "            has_lower = True\n",
    "        elif char.isdigit():\n",
    "            has_digit = True\n",
    "        elif not char.isalnum():\n",
    "            has_special = True\n",
    "\n",
    "    # Verificar\n",
    "    return len(password) >= 8 and has_upper and has_lower and has_digit and has_special\n",
    "\n",
    "# Test\n",
    "def test_pass(func):\n",
    "    assert func(\"Strong1!\") == True\n",
    "    assert func(\"weakpass\") == False\n",
    "    assert func(\"NoSpecialChar1\") == False\n",
    "    assert func(\"!Short1\") == False\n",
    "    print(\"All tests approved for check_pass!\")"
   ]
  },
  {
   "cell_type": "code",
   "execution_count": 33,
   "metadata": {},
   "outputs": [
    {
     "name": "stdout",
     "output_type": "stream",
     "text": [
      "All tests approved for check_pass!\n"
     ]
    }
   ],
   "source": [
    "# This will test your function \n",
    "test_pass(check_pass)"
   ]
  },
  {
   "cell_type": "code",
   "execution_count": null,
   "metadata": {},
   "outputs": [],
   "source": []
  }
 ],
 "metadata": {
  "kernelspec": {
   "display_name": "Python 3 (ipykernel)",
   "language": "python",
   "name": "python3"
  },
  "language_info": {
   "codemirror_mode": {
    "name": "ipython",
    "version": 3
   },
   "file_extension": ".py",
   "mimetype": "text/x-python",
   "name": "python",
   "nbconvert_exporter": "python",
   "pygments_lexer": "ipython3",
   "version": "3.9.13"
  },
  "vscode": {
   "interpreter": {
    "hash": "aee8b7b246df8f9039afb4144a1f6fd8d2ca17a180786b69acc140d282b71a49"
   }
  }
 },
 "nbformat": 4,
 "nbformat_minor": 4
}
