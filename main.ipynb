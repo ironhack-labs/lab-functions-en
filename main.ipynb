{
  "cells": [
    {
      "cell_type": "markdown",
      "metadata": {
        "id": "-gPf7wwM_5wC"
      },
      "source": [
        "# Functions"
      ]
    },
    {
      "cell_type": "markdown",
      "metadata": {
        "id": "UlR47cEH_5wD"
      },
      "source": [
        "On this lab we will put to practice some of the concepts we have learned on this past few days.\n",
        "\n",
        "`NOTE: On this lab you should try to write all the functions yourself using only the most basic of python syntax and without functions such as len, count, sum, max, min, in, etc. Give it a try. 🧑🏻‍💻👩🏻‍💻`\n",
        "\n",
        "The cell after each exercise contains a few tests to check if your function works as expected."
      ]
    },
    {
      "cell_type": "code",
      "execution_count": 10,
      "metadata": {
        "colab": {
          "base_uri": "https://localhost:8080/"
        },
        "id": "87IhkU3E_7fV",
        "outputId": "6f065299-4bd3-4bde-d864-0a4e7edee2c9"
      },
      "outputs": [
        {
          "name": "stdout",
          "output_type": "stream",
          "text": [
            "Initialized empty Git repository in C:/Users/007T/OneDrive/Desktop/ironhack2025/lab-functions-en/lab-functions-en/.git/\n",
            "c:\\Users\\007T\\OneDrive\\Desktop\\ironhack2025\\lab-functions-en\\lab-functions-en\n"
          ]
        }
      ],
      "source": [
        "# Initialize Git and configure sparse-checkout\n",
        "!git init lab-functions-en\n",
        "%cd lab-functions-en\n",
        "!git remote add origin https://github.com/ironhack-labs/lab-functions-en.git\n",
        "!git config core.sparseCheckout true"
      ]
    },
    {
      "cell_type": "code",
      "execution_count": 11,
      "metadata": {
        "id": "Z0merX_EAKYw"
      },
      "outputs": [],
      "source": [
        "!echo \"mod/*\" > .git/info/sparse-checkout"
      ]
    },
    {
      "cell_type": "code",
      "execution_count": 12,
      "metadata": {
        "colab": {
          "base_uri": "https://localhost:8080/"
        },
        "id": "iyxcWhC2APkE",
        "outputId": "0d792925-499e-4069-f505-c5c068ef0087"
      },
      "outputs": [
        {
          "name": "stderr",
          "output_type": "stream",
          "text": [
            "From https://github.com/ironhack-labs/lab-functions-en\n",
            " * branch            master     -> FETCH_HEAD\n",
            " * [new branch]      master     -> origin/master\n"
          ]
        }
      ],
      "source": [
        "!git pull origin master"
      ]
    },
    {
      "cell_type": "code",
      "execution_count": 13,
      "metadata": {
        "colab": {
          "base_uri": "https://localhost:8080/"
        },
        "id": "yE8fOdtPATik",
        "outputId": "0d55f7e0-c74c-4f5e-b76c-ab0a34f1f9fb"
      },
      "outputs": [
        {
          "name": "stderr",
          "output_type": "stream",
          "text": [
            "'ls' is not recognized as an internal or external command,\n",
            "operable program or batch file.\n"
          ]
        }
      ],
      "source": [
        "# Check contents of the 'mod' directory\n",
        "!ls mod"
      ]
    },
    {
      "cell_type": "code",
      "execution_count": 14,
      "metadata": {
        "id": "bXvau2fW_5wE"
      },
      "outputs": [
        {
          "ename": "ModuleNotFoundError",
          "evalue": "No module named 'mod'",
          "output_type": "error",
          "traceback": [
            "\u001b[1;31m---------------------------------------------------------------------------\u001b[0m",
            "\u001b[1;31mModuleNotFoundError\u001b[0m                       Traceback (most recent call last)",
            "Cell \u001b[1;32mIn[14], line 1\u001b[0m\n\u001b[1;32m----> 1\u001b[0m \u001b[38;5;28;01mfrom\u001b[39;00m \u001b[38;5;21;01mmod\u001b[39;00m\u001b[38;5;21;01m.\u001b[39;00m\u001b[38;5;21;01mtesting\u001b[39;00m \u001b[38;5;28;01mimport\u001b[39;00m \u001b[38;5;241m*\u001b[39m\n\u001b[0;32m      2\u001b[0m \u001b[38;5;28;01mimport\u001b[39;00m \u001b[38;5;21;01munittest\u001b[39;00m\n",
            "\u001b[1;31mModuleNotFoundError\u001b[0m: No module named 'mod'"
          ]
        }
      ],
      "source": [
        "from mod.testing import *\n",
        "import unittest"
      ]
    },
    {
      "cell_type": "markdown",
      "metadata": {
        "id": "ifMduvWg_5wF"
      },
      "source": [
        "## 1. Write a function that returns the greater of two numbers"
      ]
    },
    {
      "cell_type": "code",
      "execution_count": null,
      "metadata": {
        "id": "tpv-lEw5_5wF"
      },
      "outputs": [],
      "source": [
        "def greater(a,b):\n",
        "  if a>b:\n",
        "    return a\n",
        "  else:\n",
        "    return b"
      ]
    },
    {
      "cell_type": "code",
      "execution_count": null,
      "metadata": {
        "colab": {
          "base_uri": "https://localhost:8080/"
        },
        "id": "Jf5O6jX__5wF",
        "outputId": "e355f216-77de-4c4a-9b76-c6bb530471a2"
      },
      "outputs": [
        {
          "name": "stderr",
          "output_type": "stream",
          "text": [
            "....................................................................................................\n",
            "----------------------------------------------------------------------\n",
            "Ran 100 tests in 0.068s\n",
            "\n",
            "OK\n"
          ]
        }
      ],
      "source": [
        "# This will test your function\n",
        "test_greater(greater)"
      ]
    },
    {
      "cell_type": "markdown",
      "metadata": {
        "id": "m4Y3Flaf_5wG"
      },
      "source": [
        "## 2. Now write a function that returns the largest element on a list"
      ]
    },
    {
      "cell_type": "code",
      "execution_count": null,
      "metadata": {
        "id": "U8m4WLaV_5wG"
      },
      "outputs": [],
      "source": [
        "#your code here\n",
        "def greatest(list):\n",
        "  max = list[0]\n",
        "  for x in list:\n",
        "    if x > max:\n",
        "      max = x\n",
        "  return max"
      ]
    },
    {
      "cell_type": "code",
      "execution_count": null,
      "metadata": {
        "colab": {
          "base_uri": "https://localhost:8080/"
        },
        "id": "5UTO7Ogu_5wG",
        "outputId": "5eae6521-4749-481e-a97b-8a0d270c4a04"
      },
      "outputs": [
        {
          "name": "stderr",
          "output_type": "stream",
          "text": [
            "....................................................................................................\n",
            "----------------------------------------------------------------------\n",
            "Ran 100 tests in 0.067s\n",
            "\n",
            "OK\n"
          ]
        }
      ],
      "source": [
        "# This will test your function\n",
        "test_greatest(greatest)"
      ]
    },
    {
      "cell_type": "markdown",
      "metadata": {
        "id": "jWKkRZ-k_5wG"
      },
      "source": [
        "## 3. Write a function that sums all the elements on a list"
      ]
    },
    {
      "cell_type": "code",
      "execution_count": null,
      "metadata": {
        "id": "WFLQW4eY_5wH"
      },
      "outputs": [],
      "source": [
        "def sum_all(lst):\n",
        "#your code here\n",
        "  sum = 0\n",
        "  for x in lst:\n",
        "    sum += x\n",
        "  return sum"
      ]
    },
    {
      "cell_type": "code",
      "execution_count": null,
      "metadata": {
        "colab": {
          "base_uri": "https://localhost:8080/"
        },
        "id": "761uDkGu_5wH",
        "outputId": "bfb6126b-d1bc-45ae-970a-9c75fe8482d4",
        "scrolled": true
      },
      "outputs": [
        {
          "name": "stderr",
          "output_type": "stream",
          "text": [
            "....................................................................................................\n",
            "----------------------------------------------------------------------\n",
            "Ran 100 tests in 0.118s\n",
            "\n",
            "OK\n"
          ]
        }
      ],
      "source": [
        "# This will test your function\n",
        "test_sum(sum_all)\n"
      ]
    },
    {
      "cell_type": "markdown",
      "metadata": {
        "id": "d4PXgGkF_5wH"
      },
      "source": [
        "## 4. Write another function that multiplies all the elements on a list"
      ]
    },
    {
      "cell_type": "code",
      "execution_count": null,
      "metadata": {
        "id": "UhGLmty8_5wH"
      },
      "outputs": [],
      "source": [
        "def mult_all(lst):\n",
        "  #your code here\n",
        "  mult = 1\n",
        "  for x in lst:\n",
        "    mult *= x\n",
        "  return mult\n"
      ]
    },
    {
      "cell_type": "code",
      "execution_count": null,
      "metadata": {
        "colab": {
          "base_uri": "https://localhost:8080/"
        },
        "id": "WdV3V0Jo_5wH",
        "outputId": "c5c8e629-b62c-4989-9461-2db7fd48c351",
        "scrolled": true
      },
      "outputs": [
        {
          "name": "stderr",
          "output_type": "stream",
          "text": [
            "....................................................................................................\n",
            "----------------------------------------------------------------------\n",
            "Ran 100 tests in 0.083s\n",
            "\n",
            "OK\n"
          ]
        }
      ],
      "source": [
        "# This will test your function\n",
        "test_mult(mult_all)"
      ]
    },
    {
      "cell_type": "markdown",
      "metadata": {
        "id": "j_4-72JM_5wI"
      },
      "source": [
        "## 5. Now combine those two ideas and write a function that receives a list and either \"+\" or \"*\" and outputs acordingly"
      ]
    },
    {
      "cell_type": "code",
      "execution_count": null,
      "metadata": {
        "id": "oV-47Ocp_5wI"
      },
      "outputs": [],
      "source": [
        "def oper_all(arr, oper = \"*\"):\n",
        "#your code here\n",
        "  if oper ==\"*\":\n",
        "    return mult_all(arr)\n",
        "  elif oper ==\"+\":\n",
        "    return sum_all(arr)\n",
        "  else:\n",
        "    raise ValueError(\"Operator must be '+' or '*'\")"
      ]
    },
    {
      "cell_type": "code",
      "execution_count": null,
      "metadata": {
        "colab": {
          "base_uri": "https://localhost:8080/"
        },
        "id": "52rV9n1W_5wI",
        "outputId": "ce5440fe-fcd2-48d0-8cf4-83a3eadc3844"
      },
      "outputs": [
        {
          "name": "stderr",
          "output_type": "stream",
          "text": [
            "....................................................................................................\n",
            "----------------------------------------------------------------------\n",
            "Ran 100 tests in 0.094s\n",
            "\n",
            "OK\n"
          ]
        }
      ],
      "source": [
        "# This will test your function\n",
        "test_operations(oper_all)"
      ]
    },
    {
      "cell_type": "markdown",
      "metadata": {
        "id": "JGZ8uvVr_5wI"
      },
      "source": [
        "## 6. Write a function that returns the factorial of a number."
      ]
    },
    {
      "cell_type": "code",
      "execution_count": null,
      "metadata": {
        "id": "jUEUzf4__5wI"
      },
      "outputs": [],
      "source": [
        "def factorial(n):\n",
        "  #your code here\n",
        "  if n == 0:\n",
        "    return 1\n",
        "  else:\n",
        "    return n * factorial(n-1)\n",
        "\n"
      ]
    },
    {
      "cell_type": "code",
      "execution_count": null,
      "metadata": {
        "id": "cmVZDCOz_5wI"
      },
      "outputs": [],
      "source": [
        "#factorial formula\n",
        "#n! = n * ( n - 1 ) *...*1\n",
        "\n",
        "# This code defines a function called \"factorial\" which takes an input \"n\". The function uses a for loop to iterate through the range of numbers\n",
        "# from 1 to n+1. For each number in that range, it multiplies the current value of x by the number in the range. At the end of the loop,\n",
        "# the function returns the final value of x, which will be the factorial of the input number \"n\".\n",
        "\n",
        "# The Factorial of a positive integer n is the product of all positive integers less than or equal to n.\n",
        "# For example, the factorial of 6 (written \"6!\") is 6 * 5 * 4 * 3 * 2 * 1 = 720.\n",
        "\n",
        "# So this function takes an input of any positive integer, and returns the factorial of that number."
      ]
    },
    {
      "cell_type": "code",
      "execution_count": null,
      "metadata": {
        "colab": {
          "base_uri": "https://localhost:8080/"
        },
        "id": "F6Ttzbct_5wJ",
        "outputId": "e11b20db-6c22-4dd6-9e74-a16b86176023"
      },
      "outputs": [
        {
          "name": "stderr",
          "output_type": "stream",
          "text": [
            "....................................................................................................\n",
            "----------------------------------------------------------------------\n",
            "Ran 100 tests in 0.065s\n",
            "\n",
            "OK\n"
          ]
        }
      ],
      "source": [
        "# This will test your function\n",
        "test_factorial(factorial)"
      ]
    },
    {
      "cell_type": "markdown",
      "metadata": {
        "id": "PvSMjV3d_5wJ"
      },
      "source": [
        "## 7. Write a function that takes a list and returns a list of the unique values.\n",
        "\n",
        "`NOTE: You cannot use set. 🤔`"
      ]
    },
    {
      "cell_type": "code",
      "execution_count": null,
      "metadata": {
        "id": "227DlVcm_5wJ"
      },
      "outputs": [],
      "source": [
        "def unique(lst_un):\n",
        "#your code here\n",
        "  unique_list = []\n",
        "  for x in lst_un:\n",
        "    if x not in unique_list:\n",
        "      unique_list.append(x)\n",
        "  return unique_list"
      ]
    },
    {
      "cell_type": "code",
      "execution_count": null,
      "metadata": {
        "colab": {
          "base_uri": "https://localhost:8080/"
        },
        "id": "gng7tOn__5wJ",
        "outputId": "b21bef12-18ed-456f-97f8-0ac22332a149"
      },
      "outputs": [
        {
          "name": "stderr",
          "output_type": "stream",
          "text": [
            "....................................................................................................\n",
            "----------------------------------------------------------------------\n",
            "Ran 100 tests in 0.176s\n",
            "\n",
            "OK\n"
          ]
        }
      ],
      "source": [
        "# This will test your function\n",
        "test_unique(unique)"
      ]
    },
    {
      "cell_type": "markdown",
      "metadata": {
        "id": "zSKge3-x_5wK"
      },
      "source": [
        "## 8. Write a function that returns the mode of a list, i.e.: the element that appears the most times.\n",
        "`NOTE: You should not use count... 🧐`"
      ]
    },
    {
      "cell_type": "code",
      "execution_count": null,
      "metadata": {
        "id": "F8RCt2xU_5wK"
      },
      "outputs": [],
      "source": [
        "def mode_counter(arr):\n",
        "  #your code here\n",
        "  count = {}\n",
        "  for x in arr:\n",
        "    if x in count:\n",
        "      count[x] += 1\n",
        "    else:\n",
        "      count[x] = 1\n",
        "  return max(count, key=count.get)\n"
      ]
    },
    {
      "cell_type": "code",
      "execution_count": null,
      "metadata": {
        "colab": {
          "base_uri": "https://localhost:8080/"
        },
        "id": "W6F1LMWO_5wK",
        "outputId": "0da7adca-e155-4a38-a90a-b4f515078f0d"
      },
      "outputs": [
        {
          "name": "stderr",
          "output_type": "stream",
          "text": [
            "....................................................................................................\n",
            "----------------------------------------------------------------------\n",
            "Ran 100 tests in 0.063s\n",
            "\n",
            "OK\n"
          ]
        }
      ],
      "source": [
        "# This will test your function\n",
        "test_mode(mode_counter)"
      ]
    },
    {
      "cell_type": "markdown",
      "metadata": {
        "id": "YRSJBgHF_5wK"
      },
      "source": [
        "## 9. Write a function that calculates the standard deviation of a list.\n",
        "`NOTE: Do not use any libraries or already built functions. 😉`"
      ]
    },
    {
      "cell_type": "code",
      "execution_count": null,
      "metadata": {
        "id": "ZN0mKzRK_5wK"
      },
      "outputs": [],
      "source": [
        "\n",
        "def st_dev(list_sd):\n",
        "    n = len(list_sd)\n",
        "    if n <= 1:\n",
        "        return 0\n",
        "    mean = sum(list_sd) / n\n",
        "    variance = sum((x - mean) ** 2 for x in list_sd) / (n - 1)\n",
        "    return variance**0.5"
      ]
    },
    {
      "cell_type": "code",
      "execution_count": null,
      "metadata": {
        "colab": {
          "base_uri": "https://localhost:8080/"
        },
        "id": "5JLWr8OE_5wK",
        "outputId": "e3be8345-fd98-4c64-a464-d05c96ff0efd"
      },
      "outputs": [],
      "source": [
        "# This will test your function\n",
        "test_stdev(st_dev)"
      ]
    },
    {
      "cell_type": "markdown",
      "metadata": {
        "id": "ZjmNl_tr_5wL"
      },
      "source": [
        "## 10. Write a function to check if a string is a pangram, i.e.: if it contains all the letters of the alphabet at least once. Mind that the strings may contain characters that are not letters."
      ]
    },
    {
      "cell_type": "code",
      "execution_count": null,
      "metadata": {
        "id": "vZfh8AxN_5wL"
      },
      "outputs": [],
      "source": [
        "import string\n",
        "def pangram(str):\n",
        "#your code here\n",
        "    letters = set(str.lower())  # Convert to lowercase and create a set of unique characters\n",
        "    return set(string.ascii_lowercase).issubset(letters)  # Check if all letters are present"
      ]
    },
    {
      "cell_type": "code",
      "execution_count": null,
      "metadata": {
        "colab": {
          "base_uri": "https://localhost:8080/"
        },
        "id": "8vh5KgGX_5wL",
        "outputId": "56b5a4e7-626f-42c3-b3f0-18fe0267b832"
      },
      "outputs": [
        {
          "name": "stderr",
          "output_type": "stream",
          "text": [
            "..............................\n",
            "----------------------------------------------------------------------\n",
            "Ran 30 tests in 0.027s\n",
            "\n",
            "OK\n"
          ]
        }
      ],
      "source": [
        "# This will test your function\n",
        "test_pangram(pangram)"
      ]
    },
    {
      "cell_type": "markdown",
      "metadata": {
        "id": "ueKtVuxD_5wL"
      },
      "source": [
        "## 11. Write a function that receives a string of comma separated words and returns a string of comma separated words sorted alphabetically.\n",
        "\n",
        "`NOTE: You may use sorted but not split and definitely no join! 🤪`"
      ]
    },
    {
      "cell_type": "code",
      "execution_count": null,
      "metadata": {
        "id": "94QImEHb_5wM"
      },
      "outputs": [],
      "source": [
        "def sort_alpha(string):\n",
        "# Manually split the string on commas.\n",
        "    words = []     # List to hold individual words.\n",
        "    current = \"\"   # Accumulate characters for the current word.\n",
        "    for c in string:\n",
        "        if c == ',':\n",
        "            words.append(current)\n",
        "            current = \"\"\n",
        "        else:\n",
        "            current += c\n",
        "    # Append the last word.\n",
        "    words.append(current)\n",
        "\n",
        "    # Sort the list of words alphabetically.\n",
        "    sorted_words = sorted(words)\n",
        "\n",
        "    # Build the result string without using join.\n",
        "    result = \"\"\n",
        "    for i in range(len(sorted_words)):\n",
        "        result += sorted_words[i]\n",
        "        if i != len(sorted_words) - 1:\n",
        "            result += \",\"\n",
        "    return result"
      ]
    },
    {
      "cell_type": "code",
      "execution_count": null,
      "metadata": {
        "colab": {
          "base_uri": "https://localhost:8080/"
        },
        "id": "nWJloFz6_5wM",
        "outputId": "76c7ae5b-595f-4656-9542-41048b00b817"
      },
      "outputs": [
        {
          "name": "stderr",
          "output_type": "stream",
          "text": [
            "....................................................................................................\n",
            "----------------------------------------------------------------------\n",
            "Ran 100 tests in 0.108s\n",
            "\n",
            "OK\n"
          ]
        }
      ],
      "source": [
        "# This will test your function\n",
        "test_alpha(sort_alpha)"
      ]
    },
    {
      "cell_type": "markdown",
      "metadata": {
        "id": "Y2K16dKV_5wM"
      },
      "source": [
        "## 12. Write a function to check if a given password is strong (at least 8 characters, at least one lower case, at least one upper case, at least one number and at least one special character). It should output True if strong and False if not."
      ]
    },
    {
      "cell_type": "code",
      "execution_count": null,
      "metadata": {
        "id": "-wfoqGJR_5wS"
      },
      "outputs": [],
      "source": [
        "import re\n",
        "def check_pass(password):\n",
        "#your code here\n",
        "  if (len(password) >= 8 and\n",
        "        re.search(r'[a-z]', password) and   # At least one lowercase letter\n",
        "        re.search(r'[A-Z]', password) and   # At least one uppercase letter\n",
        "        re.search(r'\\d', password) and      # At least one digit\n",
        "        re.search(r'[^a-zA-Z0-9]', password)):  # At least one special character\n",
        "        return True\n",
        "  return False"
      ]
    },
    {
      "cell_type": "code",
      "execution_count": null,
      "metadata": {
        "colab": {
          "base_uri": "https://localhost:8080/"
        },
        "id": "5NTrS5j9_5wS",
        "outputId": "832c3c95-eef2-451e-9d77-1f116a61adae"
      },
      "outputs": [
        {
          "name": "stderr",
          "output_type": "stream",
          "text": [
            "....................................................................................................\n",
            "----------------------------------------------------------------------\n",
            "Ran 100 tests in 0.126s\n",
            "\n",
            "OK\n"
          ]
        }
      ],
      "source": [
        "# This will test your function\n",
        "test_pass(check_pass)"
      ]
    }
  ],
  "metadata": {
    "colab": {
      "provenance": []
    },
    "kernelspec": {
      "display_name": "Python 3",
      "language": "python",
      "name": "python3"
    },
    "language_info": {
      "codemirror_mode": {
        "name": "ipython",
        "version": 3
      },
      "file_extension": ".py",
      "mimetype": "text/x-python",
      "name": "python",
      "nbconvert_exporter": "python",
      "pygments_lexer": "ipython3",
      "version": "3.12.0"
    }
  },
  "nbformat": 4,
  "nbformat_minor": 0
}
