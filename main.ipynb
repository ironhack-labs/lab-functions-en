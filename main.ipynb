{
 "cells": [
  {
   "cell_type": "markdown",
   "metadata": {},
   "source": [
    "# Functions"
   ]
  },
  {
   "cell_type": "markdown",
   "metadata": {},
   "source": [
    "On this lab we will put to practice some of the concepts we have learned on this past few days.\n",
    "\n",
    "`NOTE: On this lab you should try to write all the functions yourself using only the most basic of python syntax and without functions such as len, count, sum, max, min, in, etc. Give it a try. 🧑🏻‍💻👩🏻‍💻`\n",
    "\n",
    "The cell after each exercise contains a few tests to check if your function works as expected."
   ]
  },
  {
   "cell_type": "code",
   "execution_count": 1,
   "metadata": {},
   "outputs": [],
   "source": [
    "from mod.testing import *\n",
    "import unittest"
   ]
  },
  {
   "cell_type": "markdown",
   "metadata": {},
   "source": [
    "## 1. Write a function that returns the greater of two numbers"
   ]
  },
  {
   "cell_type": "code",
   "execution_count": 5,
   "metadata": {},
   "outputs": [],
   "source": [
    "def greater(a,b):\n",
    "#your code here\n",
    "\n",
    "    if a > b:\n",
    "        return a\n",
    "    else:\n",
    "        return b"
   ]
  },
  {
   "cell_type": "code",
   "execution_count": null,
   "metadata": {},
   "outputs": [],
   "source": [
    "# This will test your function \n",
    "test_greater(greater)"
   ]
  },
  {
   "cell_type": "markdown",
   "metadata": {},
   "source": [
    "## 2. Now write a function that returns the largest element on a list"
   ]
  },
  {
   "cell_type": "code",
   "execution_count": null,
   "metadata": {},
   "outputs": [],
   "source": [
    "#your code here\n",
    "def largest_element(numbers):\n",
    "  \n",
    "    if not numbers:\n",
    "        return None\n",
    "    return max(numbers)\n",
    "\n",
    "# Example usage\n",
    "example_list = [3, 7, 2, 9, 5]\n",
    "result = largest_element(example_list)\n",
    "print(\"The largest element is:\", result)\n"
   ]
  },
  {
   "cell_type": "code",
   "execution_count": null,
   "metadata": {},
   "outputs": [],
   "source": [
    "# This will test your function \n",
    "test_greatest(greatest)"
   ]
  },
  {
   "cell_type": "markdown",
   "metadata": {},
   "source": [
    "## 3. Write a function that sums all the elements on a list"
   ]
  },
  {
   "cell_type": "code",
   "execution_count": null,
   "metadata": {},
   "outputs": [],
   "source": [
    "\n",
    "#your code here\n",
    "def sum_of_elements(numbers):\n",
    "    \"\"\"\n",
    "    Returns the sum of all elements in a list.\n",
    "    \"\"\"\n",
    "    return sum(numbers)\n",
    "\n",
    "# Example usage\n",
    "example_list = [3, 7, 2, 9, 5]\n",
    "result = sum_of_elements(example_list)\n",
    "print(\"The sum of the elements is:\", result)\n"
   ]
  },
  {
   "cell_type": "code",
   "execution_count": null,
   "metadata": {
    "scrolled": true
   },
   "outputs": [],
   "source": [
    "# This will test your function \n",
    "test_sum(sum_of_elements)"
   ]
  },
  {
   "cell_type": "markdown",
   "metadata": {},
   "source": [
    "## 4. Write another function that multiplies all the elements on a list"
   ]
  },
  {
   "cell_type": "code",
   "execution_count": null,
   "metadata": {},
   "outputs": [],
   "source": [
    "\n",
    "#your code here\n",
    "def multiply_elements(numbers):\n",
    "    \"\"\"\n",
    "    Returns the product of all elements in a list.\n",
    "    \"\"\"\n",
    "    if not numbers:\n",
    "        return None\n",
    "    product = 1\n",
    "    for num in numbers:\n",
    "        product *= num\n",
    "    return product\n",
    "\n",
    "# Example usage\n",
    "example_list = [3, 7, 2, 9, 5]\n",
    "result = multiply_elements(example_list)\n",
    "print(\"The product of the elements is:\", result)\n"
   ]
  },
  {
   "cell_type": "code",
   "execution_count": null,
   "metadata": {
    "scrolled": true
   },
   "outputs": [],
   "source": [
    "# This will test your function \n",
    "test_mult(multiply_elements)"
   ]
  },
  {
   "cell_type": "markdown",
   "metadata": {},
   "source": [
    "## 5. Now combine those two ideas and write a function that receives a list and either \"+\" or \"*\" and outputs acordingly"
   ]
  },
  {
   "cell_type": "code",
   "execution_count": null,
   "metadata": {},
   "outputs": [],
   "source": [
    "\n",
    "#your code here\n",
    "def calculate_list(numbers, operation):\n",
    "\n",
    "    if not numbers: \n",
    "        return None\n",
    "    \n",
    "    if operation == \"+\":\n",
    "        return sum(numbers)\n",
    "    elif operation == \"*\":\n",
    "        product = 1\n",
    "        for num in numbers:\n",
    "            product *= num\n",
    "        return product\n",
    "    else:\n",
    "        raise ValueError(\"Invalid operation. Use '+' for sum or '*' for product.\")\n",
    "\n",
    "# Example usage\n",
    "example_list = [3, 7, 2, 9, 5]\n",
    "print(\"Sum of the elements:\", calculate_list(example_list, \"+\"))\n",
    "print(\"Product of the elements:\", calculate_list(example_list, \"*\"))\n"
   ]
  },
  {
   "cell_type": "code",
   "execution_count": null,
   "metadata": {},
   "outputs": [],
   "source": [
    "# This will test your function \n",
    "test_operations(calculate_list)"
   ]
  },
  {
   "cell_type": "markdown",
   "metadata": {},
   "source": [
    "## 6. Write a function that returns the factorial of a number."
   ]
  },
  {
   "cell_type": "code",
   "execution_count": null,
   "metadata": {},
   "outputs": [],
   "source": [
    "def factorial(n):\n",
    "#your code here\n",
    "\n",
    "    if n < 0:\n",
    "        raise ValueError(\"Factorial is not defined for negative numbers.\")\n",
    "    if n == 0 or n == 1:\n",
    "        return 1\n",
    "    result = 1\n",
    "    for i in range(2, n + 1):\n",
    "        result *= i\n",
    "    return result\n",
    "\n",
    "# Example usage\n",
    "number = 5\n",
    "print(f\"The factorial of {number} is:\", factorial(number))\n"
   ]
  },
  {
   "cell_type": "code",
   "execution_count": null,
   "metadata": {},
   "outputs": [],
   "source": [
    "#factorial formula\n",
    "#n! = n * ( n - 1 ) *...*1\n",
    "\n",
    "# This code defines a function called \"factorial\" which takes an input \"n\". The function uses a for loop to iterate through the range of numbers \n",
    "# from 1 to n+1. For each number in that range, it multiplies the current value of x by the number in the range. At the end of the loop, \n",
    "# the function returns the final value of x, which will be the factorial of the input number \"n\".\n",
    "\n",
    "# The Factorial of a positive integer n is the product of all positive integers less than or equal to n. \n",
    "# For example, the factorial of 6 (written \"6!\") is 6 * 5 * 4 * 3 * 2 * 1 = 720.\n",
    "\n",
    "# So this function takes an input of any positive integer, and returns the factorial of that number."
   ]
  },
  {
   "cell_type": "code",
   "execution_count": null,
   "metadata": {},
   "outputs": [],
   "source": [
    "# This will test your function \n",
    "test_factorial(factorial)"
   ]
  },
  {
   "cell_type": "markdown",
   "metadata": {},
   "source": [
    "## 7. Write a function that takes a list and returns a list of the unique values.\n",
    "\n",
    "`NOTE: You cannot use set. 🤔`"
   ]
  },
  {
   "cell_type": "code",
   "execution_count": null,
   "metadata": {},
   "outputs": [],
   "source": [
    "\n",
    "#your code here\n",
    "def unique_values(lst):\n",
    "\n",
    "    unique_list = []\n",
    "    for item in lst:\n",
    "        if item not in unique_list:  # Check if the item is already in the unique list\n",
    "            unique_list.append(item)\n",
    "    return unique_list\n",
    "\n",
    "# Example usage\n",
    "example_list = [3, 7, 2, 7, 9, 3, 2, 5, 5]\n",
    "result = unique_values(example_list)\n",
    "print(\"Unique values:\", result)\n"
   ]
  },
  {
   "cell_type": "code",
   "execution_count": null,
   "metadata": {},
   "outputs": [],
   "source": [
    "# This will test your function \n",
    "test_unique(unique_values)"
   ]
  },
  {
   "cell_type": "markdown",
   "metadata": {},
   "source": [
    "## 8. Write a function that returns the mode of a list, i.e.: the element that appears the most times.\n",
    "`NOTE: You should not use count... 🧐`"
   ]
  },
  {
   "cell_type": "code",
   "execution_count": null,
   "metadata": {},
   "outputs": [],
   "source": [
    "\n",
    "#your code here\n",
    "def mode_of_list(lst):\n",
    "\n",
    "    frequency = {}\n",
    "    for item in lst:\n",
    "        \n",
    "        if item in frequency:\n",
    "            frequency[item] += 1\n",
    "        else:\n",
    "            frequency[item] = 1\n",
    "\n",
    "    \n",
    "    max_frequency = max(frequency.values())\n",
    "    modes = [key for key, value in frequency.items() if value == max_frequency]\n",
    "\n",
    "    return modes[0] if len(modes) == 1 else modes  \n",
    "\n",
    "# Example usage\n",
    "example_list = [3, 7, 2, 7, 9, 3, 2, 5, 5, 5]\n",
    "result = mode_of_list(example_list)\n",
    "print(\"Mode of the list:\", result)\n"
   ]
  },
  {
   "cell_type": "code",
   "execution_count": null,
   "metadata": {},
   "outputs": [],
   "source": [
    "# This will test your function \n",
    "test_mode(mode_of_list)"
   ]
  },
  {
   "cell_type": "markdown",
   "metadata": {},
   "source": [
    "## 9. Write a function that calculates the standard deviation of a list.\n",
    "`NOTE: Do not use any libraries or already built functions. 😉`"
   ]
  },
  {
   "cell_type": "code",
   "execution_count": null,
   "metadata": {},
   "outputs": [],
   "source": [
    "\n",
    "#your code here\n",
    "def standard_deviation(lst):\n",
    "\n",
    "    if len(lst) == 0:\n",
    "        raise ValueError(\"The list must not be empty.\")\n",
    "    \n",
    "    # Step 1: Calculate the mean\n",
    "    n = len(lst)\n",
    "    total_sum = 0\n",
    "    for num in lst:\n",
    "        total_sum += num\n",
    "    mean = total_sum / n\n",
    "    \n",
    "    # Step 2: Calculate the variance\n",
    "    variance_sum = 0\n",
    "    for num in lst:\n",
    "        variance_sum += (num - mean) ** 2\n",
    "    variance = variance_sum / n\n",
    "    \n",
    "    # Step 3: Calculate the standard deviation (square root of variance)\n",
    "    std_dev = variance ** 0.5\n",
    "    \n",
    "    return std_dev\n",
    "\n",
    "# Example usage\n",
    "example_list = [10, 12, 23, 23, 16, 23, 21, 16]\n",
    "result = standard_deviation(example_list)\n",
    "print(\"Standard deviation:\", result)\n"
   ]
  },
  {
   "cell_type": "code",
   "execution_count": null,
   "metadata": {},
   "outputs": [],
   "source": [
    "# This will test your function \n",
    "test_stdev(standard_deviation)"
   ]
  },
  {
   "cell_type": "markdown",
   "metadata": {},
   "source": [
    "## 10. Write a function to check if a string is a pangram, i.e.: if it contains all the letters of the alphabet at least once. Mind that the strings may contain characters that are not letters."
   ]
  },
  {
   "cell_type": "code",
   "execution_count": null,
   "metadata": {},
   "outputs": [],
   "source": [
    "\n",
    "#your code here\n",
    "def is_pangram(s):\n",
    "\n",
    "    alphabet = \"abcdefghijklmnopqrstuvwxyz\"\n",
    "    # Convert string to lowercase and filter only alphabetic characters\n",
    "    s = s.lower()\n",
    "    \n",
    "    # Check if each letter of the alphabet is in the string\n",
    "    for letter in alphabet:\n",
    "        if letter not in s:\n",
    "            return False\n",
    "    return True\n",
    "\n",
    "# Example usage\n",
    "example_string = \"The quick brown fox jumps over the lazy dog!\"\n",
    "result = is_pangram(example_string)\n",
    "print(\"Is the string a pangram?\", result)\n"
   ]
  },
  {
   "cell_type": "code",
   "execution_count": null,
   "metadata": {},
   "outputs": [],
   "source": [
    "# This will test your function \n",
    "test_pangram(is_pangram)"
   ]
  },
  {
   "cell_type": "markdown",
   "metadata": {},
   "source": [
    "## 11. Write a function that receives a string of comma separated words and returns a string of comma separated words sorted alphabetically.\n",
    "\n",
    "`NOTE: You may use sorted but not split and definitely no join! 🤪`"
   ]
  },
  {
   "cell_type": "code",
   "execution_count": null,
   "metadata": {},
   "outputs": [],
   "source": [
    "\n",
    "#your code here\n",
    "def sort_comma_separated_words(s):\n",
    "\n",
    "    # Manual implementation of split\n",
    "    words = []\n",
    "    word = \"\"\n",
    "    for char in s:\n",
    "        if char == \",\": \n",
    "            words.append(word)\n",
    "            word = \"\"\n",
    "        else:\n",
    "            word += char\n",
    "    words.append(word)  \n",
    "\n",
    "    # Sort the list\n",
    "    sorted_words = sorted(words)\n",
    "\n",
    "    # Manual implementation of join\n",
    "    sorted_string = \"\"\n",
    "    for i, word in enumerate(sorted_words):\n",
    "        if i > 0:\n",
    "            sorted_string += \",\" \n",
    "        sorted_string += word\n",
    "\n",
    "    return sorted_string\n",
    "\n",
    "# Example usage\n",
    "example_string = \"banana,apple,grape,orange\"\n",
    "result = sort_comma_separated_words(example_string)\n",
    "print(\"Sorted words:\", result)\n"
   ]
  },
  {
   "cell_type": "code",
   "execution_count": null,
   "metadata": {},
   "outputs": [],
   "source": [
    "# This will test your function \n",
    "test_alpha(sort_comma_separated_words)"
   ]
  },
  {
   "cell_type": "markdown",
   "metadata": {},
   "source": [
    "## 12. Write a function to check if a given password is strong (at least 8 characters, at least one lower case, at least one upper case, at least one number and at least one special character). It should output True if strong and False if not."
   ]
  },
  {
   "cell_type": "code",
   "execution_count": null,
   "metadata": {},
   "outputs": [],
   "source": [
    "\n",
    "#your code here\n",
    "def check_pass(password):\n",
    "    if len(password) < 8:\n",
    "        return False  \n",
    "\n",
    "    has_lowercase = False\n",
    "    has_uppercase = False\n",
    "    has_number = False\n",
    "    has_special = False\n",
    "    special_characters = \"!@#$%^&*()-+\"\n",
    "\n",
    "    for char in password:\n",
    "        if char.islower():\n",
    "            has_lowercase = True\n",
    "        elif char.isupper():\n",
    "            has_uppercase = True\n",
    "        elif char.isdigit():\n",
    "            has_number = True\n",
    "        elif char in special_characters:\n",
    "            has_special = True\n",
    "\n",
    "    return has_lowercase and has_uppercase and has_number and has_special\n",
    "\n",
    "# Example usage\n",
    "password = \"Str0ng!Pass\"\n",
    "result = check_pass(password)\n",
    "print(\"Is the password strong?\", result)\n"
   ]
  },
  {
   "cell_type": "code",
   "execution_count": null,
   "metadata": {},
   "outputs": [],
   "source": [
    "# This will test your function \n",
    "test_pass(check_pass)"
   ]
  }
 ],
 "metadata": {
  "kernelspec": {
   "display_name": "base",
   "language": "python",
   "name": "python3"
  },
  "language_info": {
   "codemirror_mode": {
    "name": "ipython",
    "version": 3
   },
   "file_extension": ".py",
   "mimetype": "text/x-python",
   "name": "python",
   "nbconvert_exporter": "python",
   "pygments_lexer": "ipython3",
   "version": "3.12.7"
  }
 },
 "nbformat": 4,
 "nbformat_minor": 4
}
