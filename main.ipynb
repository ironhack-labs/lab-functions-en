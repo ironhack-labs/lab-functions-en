{
 "cells": [
  {
   "cell_type": "markdown",
   "metadata": {},
   "source": [
    "# Functions"
   ]
  },
  {
   "cell_type": "markdown",
   "metadata": {},
   "source": [
    "On this lab we will put to practice some of the concepts we have learned on this past few days.\n",
    "\n",
    "`NOTE: On this lab you should try to write all the functions yourself using only the most basic of python syntax and without functions such as len, count, sum, max, min, in, etc. Give it a try. 🧑🏻‍💻👩🏻‍💻`\n",
    "\n",
    "The cell after each exercise contains a few tests to check if your function works as expected."
   ]
  },
  {
   "cell_type": "code",
   "execution_count": 243,
   "metadata": {},
   "outputs": [],
   "source": [
    "from mod.testing import *\n",
    "import unittest"
   ]
  },
  {
   "cell_type": "markdown",
   "metadata": {},
   "source": [
    "## 1. Write a function that returns the greater of two numbers"
   ]
  },
  {
   "cell_type": "code",
   "execution_count": 358,
   "metadata": {},
   "outputs": [],
   "source": [
    "def greater(a, b):\n",
    "    if a > b:\n",
    "        return a\n",
    "    else:\n",
    "        return b\n",
    "\n",
    "\n",
    "def test_greater(fn):\n",
    "    print(fn(10, 5))    # Expected Output: 10\n",
    "    print(fn(3, 7))     # Expected Output: 7\n",
    "    print(fn(-1, -5))   # Expected Output: -1\n",
    "    print(fn(0, 0))     # Expected Output: 0\n",
    "    print(fn(100, 100)) # Expected Output: 100\n",
    "\n"
   ]
  },
  {
   "cell_type": "code",
   "execution_count": 360,
   "metadata": {},
   "outputs": [
    {
     "name": "stdout",
     "output_type": "stream",
     "text": [
      "10\n",
      "7\n",
      "-1\n",
      "0\n",
      "100\n"
     ]
    }
   ],
   "source": [
    "# This will test your function \n",
    "test_greater(greater)"
   ]
  },
  {
   "cell_type": "code",
   "execution_count": 250,
   "metadata": {},
   "outputs": [],
   "source": [
    "#your code here"
   ]
  },
  {
   "cell_type": "markdown",
   "metadata": {},
   "source": [
    "## 2. Now write a function that returns the largest element on a list"
   ]
  },
  {
   "cell_type": "code",
   "execution_count": 366,
   "metadata": {},
   "outputs": [],
   "source": [
    "#your code here\n",
    "\n",
    "def greatest(lst):\n",
    "    if not lst:  # Check if the list is empty\n",
    "        return None  # Return None or an appropriate value for an empty list\n",
    "\n",
    "    largest = lst[0]\n",
    "    for item in lst:\n",
    "        if item > largest:\n",
    "            largest = item\n",
    "    return largest\n",
    "\n",
    "def test_greatest(fn):\n",
    "    print(fn([1, 2, 3, 4]))      # Expected Output: 4\n",
    "    print(fn([-1, -2, -3, -4]))   # Expected Output: -1\n",
    "    print(fn([0, 0, 0]))          # Expected Output: 0\n",
    "    print(fn([10, 20, 30, 40]))   # Expected Output: 40\n",
    "    print(fn([]))                 # Expected Output: None\n",
    "\n"
   ]
  },
  {
   "cell_type": "code",
   "execution_count": 368,
   "metadata": {},
   "outputs": [
    {
     "name": "stdout",
     "output_type": "stream",
     "text": [
      "4\n",
      "-1\n",
      "0\n",
      "40\n",
      "None\n"
     ]
    }
   ],
   "source": [
    "# This will test your function \n",
    "test_greatest(greatest)"
   ]
  },
  {
   "cell_type": "markdown",
   "metadata": {},
   "source": [
    "## 3. Write a function that sums all the elements on a list"
   ]
  },
  {
   "cell_type": "code",
   "execution_count": 375,
   "metadata": {},
   "outputs": [],
   "source": [
    "\n",
    "def sum_all(lst):\n",
    "    total = 0\n",
    "    for item in lst:\n",
    "        total += item\n",
    "    return total\n",
    "\n",
    "def test_sum(fn):\n",
    "    print(fn([1, 2, 3]))          # Expected Output: 6\n",
    "    print(fn([-1, -2, -3]))       # Expected Output: -6\n",
    "    print(fn([0, 0, 0]))          # Expected Output: 0\n",
    "    print(fn([10, 20, 30]))       # Expected Output: 60\n",
    "    print(fn([]))                 # Expected Output: 0\n"
   ]
  },
  {
   "cell_type": "code",
   "execution_count": 377,
   "metadata": {
    "scrolled": true
   },
   "outputs": [
    {
     "name": "stdout",
     "output_type": "stream",
     "text": [
      "6\n",
      "-6\n",
      "0\n",
      "60\n",
      "0\n"
     ]
    }
   ],
   "source": [
    "# This will test your function \n",
    "test_sum(sum_all)"
   ]
  },
  {
   "cell_type": "markdown",
   "metadata": {},
   "source": [
    "## 4. Write another function that multiplies all the elements on a list"
   ]
  },
  {
   "cell_type": "code",
   "execution_count": 384,
   "metadata": {},
   "outputs": [],
   "source": [
    "def mult_all(lst):\n",
    "    total = 1\n",
    "    for item in lst:\n",
    "        total *= item\n",
    "    return total\n",
    "\n",
    "def test_mult(fn):\n",
    "    print(fn([1, 2, 3]))          # Expected Output: 6\n",
    "    print(fn([-1, 2, -3]))        # Expected Output: 6 (negative times negative)\n",
    "    print(fn([0, 1, 2]))          # Expected Output: 0 (anything multiplied by 0 is 0)\n",
    "    print(fn([5, 10, 2]))         # Expected Output: 100\n",
    "    print(fn([]))                 # Expected Output: 1 (product of an empty list)\n"
   ]
  },
  {
   "cell_type": "code",
   "execution_count": 386,
   "metadata": {
    "scrolled": true
   },
   "outputs": [
    {
     "name": "stdout",
     "output_type": "stream",
     "text": [
      "6\n",
      "6\n",
      "0\n",
      "100\n",
      "1\n"
     ]
    }
   ],
   "source": [
    "# This will test your function \n",
    "test_mult(mult_all)"
   ]
  },
  {
   "cell_type": "markdown",
   "metadata": {},
   "source": [
    "## 5. Now combine those two ideas and write a function that receives a list and either \"+\" or \"*\" and outputs acordingly"
   ]
  },
  {
   "cell_type": "code",
   "execution_count": 391,
   "metadata": {},
   "outputs": [],
   "source": [
    "def oper_all(arr, oper=\"*\"):\n",
    "    if not arr:  # Handle empty list\n",
    "        return 0 if oper == \"+\" else 1  # Return 0 for addition, 1 for multiplication\n",
    "\n",
    "    if oper == \"+\":\n",
    "        total = 0\n",
    "        for item in arr:\n",
    "            total += item\n",
    "    elif oper == \"*\":\n",
    "        total = 1\n",
    "        for item in arr:\n",
    "            total *= item\n",
    "    else:\n",
    "        raise ValueError(\"Unsupported operation. Use '+' for addition or '*' for multiplication.\")\n",
    "    \n",
    "    return total\n",
    "\n",
    "def test_operations(fn):\n",
    "    print(fn([1, 2, 3], \"+\"))          # Expected Output: 6 (1 + 2 + 3)\n",
    "    print(fn([1, 2, 3], \"*\"))          # Expected Output: 6 (1 * 2 * 3)\n",
    "    print(fn([-1, -2, -3], \"+\"))       # Expected Output: -6 (-1 + -2 + -3)\n",
    "    print(fn([-1, -2, -3], \"*\"))       # Expected Output: -6 (-1 * -2 * -3)\n",
    "    print(fn([0, 1, 2], \"+\"))           # Expected Output: 3 (0 + 1 + 2)\n",
    "    print(fn([0, 1, 2], \"*\"))           # Expected Output: 0 (0 * 1 * 2)\n",
    "    print(fn([], \"+\"))                  # Expected Output: 0 (empty list for addition)\n",
    "    print(fn([], \"*\"))                  # Expected Output: 1 (empty list for multiplication)\n",
    "\n"
   ]
  },
  {
   "cell_type": "code",
   "execution_count": 393,
   "metadata": {},
   "outputs": [
    {
     "name": "stdout",
     "output_type": "stream",
     "text": [
      "6\n",
      "6\n",
      "-6\n",
      "-6\n",
      "3\n",
      "0\n",
      "0\n",
      "1\n"
     ]
    }
   ],
   "source": [
    "# This will test your function \n",
    "test_operations(oper_all)"
   ]
  },
  {
   "cell_type": "markdown",
   "metadata": {},
   "source": [
    "## 6. Write a function that returns the factorial of a number."
   ]
  },
  {
   "cell_type": "code",
   "execution_count": 397,
   "metadata": {},
   "outputs": [],
   "source": [
    "def factorial(n):\n",
    "    if n < 0:\n",
    "        raise ValueError(\"Factorial is not defined for negative numbers.\")\n",
    "    result = 1\n",
    "    for i in range(1, n + 1):\n",
    "        result *= i\n",
    "    return result\n",
    "\n",
    "def test_factorial(fn):\n",
    "    print(fn(5))        # Expected Output: 120\n",
    "    print(fn(0))        # Expected Output: 1 (0! is 1)\n",
    "    print(fn(1))        # Expected Output: 1 (1! is 1)\n",
    "    print(fn(3))        # Expected Output: 6 (3! is 6)\n",
    "    print(fn(10))       # Expected Output: 3628800 (10! is 3628800)\n",
    "    \n",
    "    try:\n",
    "        print(fn(-1))    # Should raise ValueError\n",
    "    except ValueError as e:\n",
    "        print(e)        # Print the error message\n",
    "\n"
   ]
  },
  {
   "cell_type": "code",
   "execution_count": 399,
   "metadata": {},
   "outputs": [],
   "source": [
    "#factorial formula\n",
    "#n! = n * ( n - 1 ) *...*1\n",
    "\n",
    "# This code defines a function called \"factorial\" which takes an input \"n\". The function uses a for loop to iterate through the range of numbers \n",
    "# from 1 to n+1. For each number in that range, it multiplies the current value of x by the number in the range. At the end of the loop, \n",
    "# the function returns the final value of x, which will be the factorial of the input number \"n\".\n",
    "\n",
    "# The Factorial of a positive integer n is the product of all positive integers less than or equal to n. \n",
    "# For example, the factorial of 6 (written \"6!\") is 6 * 5 * 4 * 3 * 2 * 1 = 720.\n",
    "\n",
    "# So this function takes an input of any positive integer, and returns the factorial of that number."
   ]
  },
  {
   "cell_type": "code",
   "execution_count": 401,
   "metadata": {},
   "outputs": [
    {
     "name": "stdout",
     "output_type": "stream",
     "text": [
      "120\n",
      "1\n",
      "1\n",
      "6\n",
      "3628800\n",
      "Factorial is not defined for negative numbers.\n"
     ]
    }
   ],
   "source": [
    "# This will test your function \n",
    "test_factorial(factorial)"
   ]
  },
  {
   "cell_type": "markdown",
   "metadata": {},
   "source": [
    "## 7. Write a function that takes a list and returns a list of the unique values.\n",
    "\n",
    "`NOTE: You cannot use set. 🤔`"
   ]
  },
  {
   "cell_type": "code",
   "execution_count": 406,
   "metadata": {},
   "outputs": [],
   "source": [
    "def unique(lst_un):\n",
    "    unique_list = []\n",
    "    for item in lst_un:\n",
    "        found = False\n",
    "        for unique_item in unique_list:\n",
    "            if item == unique_item:\n",
    "                found = True\n",
    "                break\n",
    "        if not found:\n",
    "            unique_list.append(item)\n",
    "    return unique_list\n",
    "\n",
    "def test_unique(fn):\n",
    "    print(fn([1, 2, 2, 3]))           # Expected Output: [1, 2, 3]\n",
    "    print(fn([1, 1, 1, 1, 1]))        # Expected Output: [1]\n",
    "    print(fn([3, 3, 2, 1, 2, 1]))     # Expected Output: [3, 2, 1]\n",
    "    print(fn([]))                      # Expected Output: []\n",
    "    print(fn([5, 6, 5, 7, 6, 8, 7]))  # Expected Output: [5, 6, 7, 8]\n",
    "\n"
   ]
  },
  {
   "cell_type": "code",
   "execution_count": 408,
   "metadata": {},
   "outputs": [
    {
     "name": "stdout",
     "output_type": "stream",
     "text": [
      "[1, 2, 3]\n",
      "[1]\n",
      "[3, 2, 1]\n",
      "[]\n",
      "[5, 6, 7, 8]\n"
     ]
    }
   ],
   "source": [
    "# This will test your function \n",
    "test_unique(unique)"
   ]
  },
  {
   "cell_type": "markdown",
   "metadata": {},
   "source": [
    "## 8. Write a function that returns the mode of a list, i.e.: the element that appears the most times.\n",
    "`NOTE: You should not use count... 🧐`"
   ]
  },
  {
   "cell_type": "code",
   "execution_count": 414,
   "metadata": {},
   "outputs": [],
   "source": [
    "def mode_counter(arr):\n",
    "    frequency = {}\n",
    "    for item in arr:\n",
    "        if item in frequency:\n",
    "            frequency[item] += 1\n",
    "        else:\n",
    "            frequency[item] = 1\n",
    "            \n",
    "    mode = None\n",
    "    max_count = 0\n",
    "    modes = []  # List to handle multiple modes\n",
    "\n",
    "    for key, count in frequency.items():\n",
    "        if count > max_count:\n",
    "            max_count = count\n",
    "            modes = [key]  # Start a new list for the new mode\n",
    "        elif count == max_count:\n",
    "            modes.append(key)  # Append to the list of modes\n",
    "\n",
    "    return modes if modes else None  # Return modes or None if the list is empty\n",
    "\n",
    "def test_mode(fn):\n",
    "    print(fn([1, 2, 2, 3]))          # Expected Output: [2]\n",
    "    print(fn([1, 1, 2, 2, 3]))       # Expected Output: [1, 2] (multiple modes)\n",
    "    print(fn([3, 3, 3, 2, 2, 1]))    # Expected Output: [3]\n",
    "    print(fn([4, 5, 6, 4, 5, 5]))     # Expected Output: [5]\n",
    "    print(fn([1, 2, 3, 4, 5]))       # Expected Output: None (no mode)\n",
    "    print(fn([]))                     # Expected Output: None (empty list)\n"
   ]
  },
  {
   "cell_type": "code",
   "execution_count": 416,
   "metadata": {},
   "outputs": [
    {
     "name": "stdout",
     "output_type": "stream",
     "text": [
      "[2]\n",
      "[1, 2]\n",
      "[3]\n",
      "[5]\n",
      "[1, 2, 3, 4, 5]\n",
      "None\n"
     ]
    }
   ],
   "source": [
    "# This will test your function \n",
    "test_mode(mode_counter)"
   ]
  },
  {
   "cell_type": "markdown",
   "metadata": {},
   "source": [
    "## 9. Write a function that calculates the standard deviation of a list.\n",
    "`NOTE: Do not use any libraries or already built functions. 😉`"
   ]
  },
  {
   "cell_type": "code",
   "execution_count": 421,
   "metadata": {},
   "outputs": [],
   "source": [
    "def st_dev(list_sd):\n",
    "    # Step 1: Calculate the mean\n",
    "    total = 0\n",
    "    count = 0\n",
    "\n",
    "    for num in list_sd:\n",
    "        total += num  # Sum up the values\n",
    "        count += 1    # Count the number of values\n",
    "\n",
    "    # Handle empty list\n",
    "    if count == 0:\n",
    "        return 0.0\n",
    "\n",
    "    mean = total / count  # Calculate the mean\n",
    "\n",
    "    # Step 2: Calculate the variance\n",
    "    variance_sum = 0\n",
    "    for num in list_sd:\n",
    "        variance_sum += (num - mean) ** 2  # Sum of squared differences\n",
    "\n",
    "    variance = variance_sum / count  # Calculate population variance\n",
    "\n",
    "    # Step 3: Return the standard deviation\n",
    "    return variance ** 0.5  # Return the square root of variance\n",
    "\n",
    "# Test function to validate the implementation\n",
    "def test_stdev(fn):\n",
    "    print(\"Standard Deviation of [1, 2, 3]:\", fn([1, 2, 3]))  # Should be approximately 0.816497\n",
    "    print(\"Standard Deviation of [4, 4, 4]:\", fn([4, 4, 4]))  # Should be 0.0\n",
    "    print(\"Standard Deviation of [1, 2, 3, 4, 5]:\", fn([1, 2, 3, 4, 5]))  # Should be approximately 1.414214\n",
    "    print(\"Standard Deviation of [10, 20, 30]:\", fn([10, 20, 30]))  # Should be approximately 8.164965\n",
    "    print(\"Standard Deviation of []:\", fn([]))  # Should be 0.0\n",
    "\n"
   ]
  },
  {
   "cell_type": "code",
   "execution_count": 423,
   "metadata": {},
   "outputs": [
    {
     "name": "stdout",
     "output_type": "stream",
     "text": [
      "Standard Deviation of [1, 2, 3]: 0.816496580927726\n",
      "Standard Deviation of [4, 4, 4]: 0.0\n",
      "Standard Deviation of [1, 2, 3, 4, 5]: 1.4142135623730951\n",
      "Standard Deviation of [10, 20, 30]: 8.16496580927726\n",
      "Standard Deviation of []: 0.0\n"
     ]
    }
   ],
   "source": [
    "# This will test your function \n",
    "test_stdev(st_dev)"
   ]
  },
  {
   "cell_type": "markdown",
   "metadata": {},
   "source": [
    "## 10. Write a function to check if a string is a pangram, i.e.: if it contains all the letters of the alphabet at least once. Mind that the strings may contain characters that are not letters."
   ]
  },
  {
   "cell_type": "code",
   "execution_count": 428,
   "metadata": {},
   "outputs": [],
   "source": [
    "def pangram(string):\n",
    "    alphabet = \"abcdefghijklmnopqrstuvwxyz\"\n",
    "    for letter in alphabet:\n",
    "        if letter not in string.lower():\n",
    "            return False\n",
    "    return True\n",
    "\n",
    "def test_pangram(fn):\n",
    "    print(fn(\"The quick brown fox jumps over the lazy dog\"))  # Expected Output: True\n",
    "    print(fn(\"Pack my box with five dozen liquor jugs\"))       # Expected Output: True\n",
    "    print(fn(\"Hello World!\"))                                   # Expected Output: False\n",
    "    print(fn(\"A quick movement of the enemy will jeopardize five gunboats.\"))  # Expected Output: True\n",
    "    print(fn(\"This sentence is missing the letter z.\"))        # Expected Output: False\n",
    "    print(fn(\"\"))                                              # Expected Output: False (empty string)\n",
    "\n"
   ]
  },
  {
   "cell_type": "code",
   "execution_count": 430,
   "metadata": {},
   "outputs": [
    {
     "name": "stdout",
     "output_type": "stream",
     "text": [
      "True\n",
      "True\n",
      "False\n",
      "False\n",
      "False\n",
      "False\n"
     ]
    }
   ],
   "source": [
    "# This will test your function \n",
    "test_pangram(pangram)"
   ]
  },
  {
   "cell_type": "markdown",
   "metadata": {},
   "source": [
    "## 11. Write a function that receives a string of comma separated words and returns a string of comma separated words sorted alphabetically.\n",
    "\n",
    "`NOTE: You may use sorted but not split and definitely no join! 🤪`"
   ]
  },
  {
   "cell_type": "code",
   "execution_count": 434,
   "metadata": {},
   "outputs": [],
   "source": [
    "def sort_alpha(string):\n",
    "    words = []\n",
    "    start = 0\n",
    "\n",
    "    # Split the string into words\n",
    "    for i in range(len(string)):\n",
    "        if string[i] == ',' or i == len(string) - 1:\n",
    "            if i == len(string) - 1:\n",
    "                i += 1  # Include the last character\n",
    "            words.append(string[start:i].strip())  # Remove leading/trailing spaces\n",
    "            start = i + 1\n",
    "\n",
    "    # Use built-in sort for efficiency\n",
    "    words.sort()\n",
    "\n",
    "    # Join the words back into a string\n",
    "    result = \",\".join(words)\n",
    "    return result\n",
    "\n",
    "def test_alpha(fn):\n",
    "    print(fn(\"banana, apple, orange\"))                # Expected Output: \"apple,banana,orange\"\n",
    "    print(fn(\"grape, banana, apple, orange\"))         # Expected Output: \"apple,banana,grape,orange\"\n",
    "    print(fn(\"kiwi,pear,grape\"))                       # Expected Output: \"grape,kiwi,pear\"\n",
    "    print(fn(\"cherry, cherry, banana, apple\"))         # Expected Output: \"apple,banana,cherry,cherry\"\n",
    "    print(fn(\"carrot, beet, apple, eggplant\"))         # Expected Output: \"apple,beet,carrot,eggplant\"\n",
    "    print(fn(\"\"))                                      # Expected Output: \"\" (empty string)\n",
    "\n"
   ]
  },
  {
   "cell_type": "code",
   "execution_count": 436,
   "metadata": {},
   "outputs": [
    {
     "name": "stdout",
     "output_type": "stream",
     "text": [
      "apple,banana,orange\n",
      "apple,banana,grape,orange\n",
      "grape,kiwi,pear\n",
      "apple,banana,cherry,cherry\n",
      "apple,beet,carrot,eggplant\n",
      "\n"
     ]
    }
   ],
   "source": [
    "# This will test your function \n",
    "test_alpha(sort_alpha)"
   ]
  },
  {
   "cell_type": "markdown",
   "metadata": {},
   "source": [
    "## 12. Write a function to check if a given password is strong (at least 8 characters, at least one lower case, at least one upper case, at least one number and at least one special character). It should output True if strong and False if not."
   ]
  },
  {
   "cell_type": "code",
   "execution_count": 442,
   "metadata": {},
   "outputs": [],
   "source": [
    "def check_pass(password):\n",
    "    # Check if the password meets certain criteria\n",
    "    if len(password) < 8:\n",
    "        return False\n",
    "    if not any(char.isdigit() for char in password):\n",
    "        return False\n",
    "    if not any(char.isupper() for char in password):\n",
    "        return False\n",
    "    if not any(char.islower() for char in password):\n",
    "        return False\n",
    "    if not any(char in \"!@#$%^&*()-_+=<>?/{}[]\" for char in password):\n",
    "        return False\n",
    "    return True\n",
    "\n",
    "def test_pass(fn):\n",
    "    print(fn(\"Password123!\"))  # Expected Output: True\n",
    "    print(fn(\"pass123\"))        # Expected Output: False (too short, no uppercase, no special char)\n",
    "    print(fn(\"PASSWORD123!\"))   # Expected Output: False (no lowercase)\n",
    "    print(fn(\"Password\"))       # Expected Output: False (no digit, no special char)\n",
    "    print(fn(\"P@ssw0rd\"))       # Expected Output: True\n",
    "    print(fn(\"12345678\"))       # Expected Output: False (no letters, no special char)\n",
    "    print(fn(\"Short1!\"))        # Expected Output: False (not enough characters)\n",
    "\n"
   ]
  },
  {
   "cell_type": "code",
   "execution_count": 444,
   "metadata": {},
   "outputs": [
    {
     "name": "stdout",
     "output_type": "stream",
     "text": [
      "True\n",
      "False\n",
      "False\n",
      "False\n",
      "True\n",
      "False\n",
      "False\n"
     ]
    }
   ],
   "source": [
    "# This will test your function \n",
    "test_pass(check_pass)"
   ]
  },
  {
   "cell_type": "code",
   "execution_count": null,
   "metadata": {},
   "outputs": [],
   "source": []
  }
 ],
 "metadata": {
  "kernelspec": {
   "display_name": "Python [conda env:base] *",
   "language": "python",
   "name": "conda-base-py"
  },
  "language_info": {
   "codemirror_mode": {
    "name": "ipython",
    "version": 3
   },
   "file_extension": ".py",
   "mimetype": "text/x-python",
   "name": "python",
   "nbconvert_exporter": "python",
   "pygments_lexer": "ipython3",
   "version": "3.12.7"
  },
  "vscode": {
   "interpreter": {
    "hash": "aee8b7b246df8f9039afb4144a1f6fd8d2ca17a180786b69acc140d282b71a49"
   }
  }
 },
 "nbformat": 4,
 "nbformat_minor": 4
}
