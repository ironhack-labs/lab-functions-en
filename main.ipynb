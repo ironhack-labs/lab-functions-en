{
 "cells": [
  {
   "cell_type": "markdown",
   "metadata": {},
   "source": [
    "# Functions"
   ]
  },
  {
   "cell_type": "markdown",
   "metadata": {},
   "source": [
    "On this lab we will put to practice some of the concepts we have learned on this past few days.\n",
    "\n",
    "`NOTE: On this lab you should try to write all the functions yourself using only the most basic of python syntax and without functions such as len, count, sum, max, min, in, etc. Give it a try. 🧑🏻‍💻👩🏻‍💻`\n",
    "\n",
    "The cell after each exercise contains a few tests to check if your function works as expected."
   ]
  },
  {
   "cell_type": "code",
   "execution_count": 6,
   "metadata": {},
   "outputs": [],
   "source": [
    "from mod.testing import *\n",
    "import unittest"
   ]
  },
  {
   "cell_type": "markdown",
   "metadata": {},
   "source": [
    "## 1. Write a function that returns the greater of two numbers"
   ]
  },
  {
   "cell_type": "code",
   "execution_count": 1,
   "metadata": {},
   "outputs": [],
   "source": [
    "def  greater(a,b):\n",
    "   if a>b:\n",
    "       return a\n",
    "      \n",
    "   elif b>a:\n",
    "       return b\n",
    "       \n",
    "   else:\n",
    "       return\"the numbers are equal\"\n",
    "#your code here\n"
   ]
  },
  {
   "cell_type": "code",
   "execution_count": 2,
   "metadata": {},
   "outputs": [
    {
     "name": "stdout",
     "output_type": "stream",
     "text": [
      "the result:9\n"
     ]
    }
   ],
   "source": [
    "# This will test your function \n",
    "x=9\n",
    "y=8\n",
    "result= greater(x,y)\n",
    "print(f\"the result:{result}\")"
   ]
  },
  {
   "cell_type": "code",
   "execution_count": null,
   "metadata": {},
   "outputs": [],
   "source": [
    "#your code here"
   ]
  },
  {
   "cell_type": "markdown",
   "metadata": {},
   "source": [
    "## 2. Now write a function that returns the largest element on a list"
   ]
  },
  {
   "cell_type": "code",
   "execution_count": null,
   "metadata": {},
   "outputs": [],
   "source": [
    "#your code here\n",
    "#def  largest(numbers):\n",
    "    \n",
    "  "
   ]
  },
  {
   "cell_type": "code",
   "execution_count": 3,
   "metadata": {},
   "outputs": [
    {
     "name": "stdout",
     "output_type": "stream",
     "text": [
      "the largest number is 96\n"
     ]
    }
   ],
   "source": [
    "# This will test your function \n",
    "def  largest(list_numbers):\n",
    "    \n",
    "    largestnum=list_numbers[0]\n",
    "\n",
    "    for number in list_numbers:\n",
    "        if number>largestnum:\n",
    "           largestnum = number\n",
    "\n",
    "    return largestnum\n",
    "    \n",
    "list_numbers=[22,76,88,96,34]   \n",
    "largestnum=largest(list_numbers)\n",
    "print (f\"the largest number is {largestnum}\")"
   ]
  },
  {
   "cell_type": "markdown",
   "metadata": {},
   "source": [
    "## 3. Write a function that sums all the elements on a list"
   ]
  },
  {
   "cell_type": "code",
   "execution_count": 4,
   "metadata": {},
   "outputs": [
    {
     "name": "stdout",
     "output_type": "stream",
     "text": [
      "the total is :10\n"
     ]
    }
   ],
   "source": [
    "def sum_all(numbers):\n",
    "#your code here\n",
    "   \n",
    "   x=0\n",
    "   for num in numbers:\n",
    "      x += num\n",
    "   return x\n",
    "\n",
    "\n",
    "list=[5,2,2,1]\n",
    "total= sum_all(list)\n",
    "print(f\"the total is :{total}\")"
   ]
  },
  {
   "cell_type": "markdown",
   "metadata": {},
   "source": [
    "## 4. Write another function that multiplies all the elements on a list"
   ]
  },
  {
   "cell_type": "code",
   "execution_count": 5,
   "metadata": {},
   "outputs": [
    {
     "name": "stdout",
     "output_type": "stream",
     "text": [
      "the total is 120\n"
     ]
    }
   ],
   "source": [
    "def  mult_all(numbers):\n",
    "#your code here\n",
    "    total=1\n",
    "    for num in numbers:\n",
    "       total *= num\n",
    "    return total \n",
    "\n",
    "\n",
    "list_num=[5,4,3,2,1]  \n",
    "x=mult_all(list_num)\n",
    "print(f\"the total is {x}\")"
   ]
  },
  {
   "cell_type": "markdown",
   "metadata": {},
   "source": [
    "## 5. Now combine those two ideas and write a function that receives a list and either \"+\" or \"*\" and outputs acordingly"
   ]
  },
  {
   "cell_type": "code",
   "execution_count": 6,
   "metadata": {},
   "outputs": [
    {
     "name": "stdout",
     "output_type": "stream",
     "text": [
      "10\n",
      "24\n"
     ]
    }
   ],
   "source": [
    "def oper_all(arr, oper = \"*\"):\n",
    "#your code here\n",
    "   x=0\n",
    "  \n",
    "   if oper == \"+\":\n",
    "       for num in arr:\n",
    "          x += num\n",
    "       return x\n",
    "       \n",
    "   elif oper ==\"*\":\n",
    "      y=1\n",
    "      for num in arr:\n",
    "          y *= num\n",
    "      return y\n",
    "\n",
    "\n",
    "\n",
    "print(oper_all([1,2,3,4],\"+\"))\n",
    "print(oper_all([1,2,3,4],\"*\"))\n",
    "\n"
   ]
  },
  {
   "cell_type": "code",
   "execution_count": null,
   "metadata": {},
   "outputs": [],
   "source": []
  },
  {
   "cell_type": "markdown",
   "metadata": {},
   "source": [
    "## 6. Write a function that returns the factorial of a number."
   ]
  },
  {
   "cell_type": "code",
   "execution_count": 3,
   "metadata": {},
   "outputs": [
    {
     "name": "stdout",
     "output_type": "stream",
     "text": [
      "120\n"
     ]
    }
   ],
   "source": [
    "def factorial_(n):\n",
    "    if n < 0:\n",
    "        return \"Factorial is not defined for negative numbers\"\n",
    "    if n == 0 or n == 1:\n",
    "        return 1\n",
    "    return n * factorial_(n - 1)\n",
    "\n",
    "# Test the function\n",
    "print(factorial_(5)) \n"
   ]
  },
  {
   "cell_type": "code",
   "execution_count": null,
   "metadata": {},
   "outputs": [],
   "source": [
    "#factorial formula\n",
    "#n! = n * ( n - 1 ) *...*1\n",
    "\n",
    "# This code defines a function called \"factorial\" which takes an input \"n\". The function uses a for loop to iterate through the range of numbers \n",
    "# from 1 to n+1. For each number in that range, it multiplies the current value of x by the number in the range. At the end of the loop, \n",
    "# the function returns the final value of x, which will be the factorial of the input number \"n\".\n",
    "\n",
    "# The Factorial of a positive integer n is the product of all positive integers less than or equal to n. \n",
    "# For example, the factorial of 6 (written \"6!\") is 6 * 5 * 4 * 3 * 2 * 1 = 720.\n",
    "\n",
    "# So this function takes an input of any positive integer, and returns the factorial of that number."
   ]
  },
  {
   "cell_type": "markdown",
   "metadata": {},
   "source": [
    "## 7. Write a function that takes a list and returns a list of the unique values.\n",
    "\n",
    "`NOTE: You cannot use set. 🤔`"
   ]
  },
  {
   "cell_type": "code",
   "execution_count": 4,
   "metadata": {},
   "outputs": [
    {
     "name": "stdout",
     "output_type": "stream",
     "text": [
      "[1, 7, 9, 5, 8]\n"
     ]
    }
   ],
   "source": [
    "def unique(lst_un):\n",
    "#your code here\n",
    "   uniqueLst=[]\n",
    "   for x in lst_un:\n",
    "      if x not in uniqueLst:\n",
    "         uniqueLst.append(x)\n",
    "   return uniqueLst\n",
    "\n",
    "print(unique([1,1,7,9,5,5,8]))"
   ]
  },
  {
   "cell_type": "code",
   "execution_count": null,
   "metadata": {},
   "outputs": [],
   "source": []
  },
  {
   "cell_type": "markdown",
   "metadata": {},
   "source": [
    "## 8. Write a function that returns the mode of a list, i.e.: the element that appears the most times.\n",
    "`NOTE: You should not use count... 🧐`"
   ]
  },
  {
   "cell_type": "code",
   "execution_count": 7,
   "metadata": {},
   "outputs": [
    {
     "name": "stdout",
     "output_type": "stream",
     "text": [
      "5\n",
      "[1, 2, 3]\n",
      "7\n"
     ]
    }
   ],
   "source": [
    "\n",
    "\n",
    "def mode(lst):\n",
    "    frequency = {}  # Dictionary to store occurrences of each element\n",
    "\n",
    "    # Count occurrences manually\n",
    "    for num in lst:\n",
    "        if num in frequency:\n",
    "            frequency[num] += 1\n",
    "        else:\n",
    "            frequency[num] = 1\n",
    "\n",
    "    max_count = max(frequency.values())  # Find the highest occurrence\n",
    "    modes = [key for key, value in frequency.items() if value == max_count]  # Find the most frequent elements\n",
    "\n",
    "    return modes if len(modes) > 1 else modes[0]  # Return a list if multiple modes exist\n",
    "\n",
    "# Test the function\n",
    "print(mode([1, 2, 3, 3, 4, 5, 5, 5]))  # Output: 5\n",
    "print(mode([1, 1, 2, 2, 3, 3]))  # Output: [1, 2, 3] (Multiple modes)\n",
    "print(mode([7, 7, 7, 7]))"
   ]
  },
  {
   "cell_type": "code",
   "execution_count": null,
   "metadata": {},
   "outputs": [],
   "source": []
  },
  {
   "cell_type": "markdown",
   "metadata": {},
   "source": [
    "## 9. Write a function that calculates the standard deviation of a list.\n",
    "`NOTE: Do not use any libraries or already built functions. 😉`"
   ]
  },
  {
   "cell_type": "code",
   "execution_count": 9,
   "metadata": {},
   "outputs": [
    {
     "name": "stdout",
     "output_type": "stream",
     "text": [
      "4.898979485566356\n",
      "7.0710678118654755\n"
     ]
    }
   ],
   "source": [
    "def st_dev(list_sd):\n",
    "\n",
    "    if len(list_sd) == 0:\n",
    "        return \"List is empty\"\n",
    "\n",
    "    # Step 1: Calculate the mean (sum of elements divided by count)\n",
    "    total = 0\n",
    "    count = 0\n",
    "    for num in list_sd:\n",
    "        total += num\n",
    "        count += 1\n",
    "    mean = total / count\n",
    "\n",
    "    # Step 2: Calculate squared differences from the mean\n",
    "    squared_diffs = []\n",
    "    for num in list_sd:\n",
    "        diff = num - mean\n",
    "        squared_diffs.append(diff * diff)\n",
    "\n",
    "    # Step 3: Compute the variance (sum of squared differences divided by count)\n",
    "    variance_sum = 0\n",
    "    for sq_diff in squared_diffs:\n",
    "        variance_sum += sq_diff\n",
    "    variance = variance_sum / count\n",
    "\n",
    "    # Step 4: Compute the square root manually (Babylonian method)\n",
    "    x = variance\n",
    "    if x == 0:\n",
    "        return 0  # If variance is 0, standard deviation is also 0\n",
    "\n",
    "    guess = x / 2  # Initial guess\n",
    "    for _ in range(10):  # Perform 10 iterations for approximation\n",
    "        guess = (guess + x / guess) / 2\n",
    "\n",
    "    return guess\n",
    "\n",
    "# Test the function\n",
    "print(st_dev([10, 12, 23, 23, 16, 23, 21, 16]))  # Output: Standard deviation value\n",
    "print(st_dev([5, 10, 15, 20, 25]))  # Output: Standard deviation value\n"
   ]
  },
  {
   "cell_type": "code",
   "execution_count": null,
   "metadata": {},
   "outputs": [],
   "source": []
  },
  {
   "cell_type": "markdown",
   "metadata": {},
   "source": [
    "## 10. Write a function to check if a string is a pangram, i.e.: if it contains all the letters of the alphabet at least once. Mind that the strings may contain characters that are not letters."
   ]
  },
  {
   "cell_type": "code",
   "execution_count": null,
   "metadata": {},
   "outputs": [
    {
     "name": "stdout",
     "output_type": "stream",
     "text": [
      "True\n",
      "False\n"
     ]
    }
   ],
   "source": [
    "def pangram(string):\n",
    "#your code here\n",
    "\n",
    "    alphabet = \"abcdefghijklmnopqrstuvwxyz\"\n",
    "    found_letters = {}\n",
    "\n",
    "    for char in string:\n",
    "        if 'a' <= char <= 'z':  \n",
    "            if char not in found_letters:  \n",
    "                found_letters[char] = True\n",
    "\n",
    "    \n",
    "    for letter in alphabet:\n",
    "        if letter not in found_letters:\n",
    "            return False\n",
    "    \n",
    "    return True\n",
    "\n",
    "# Test the function\n",
    "print(pangram(\"The quick brown fox jumps over the lazy dog\"))  \n",
    "print(pangram(\"Hello World!\"))  "
   ]
  },
  {
   "cell_type": "code",
   "execution_count": null,
   "metadata": {},
   "outputs": [],
   "source": [
    "# This will test your function \n",
    "#test_pangram(pangram)"
   ]
  },
  {
   "cell_type": "markdown",
   "metadata": {},
   "source": [
    "## 11. Write a function that receives a string of comma separated words and returns a string of comma separated words sorted alphabetically.\n",
    "\n",
    "`NOTE: You may use sorted but not split and definitely no join! 🤪`"
   ]
  },
  {
   "cell_type": "code",
   "execution_count": null,
   "metadata": {},
   "outputs": [
    {
     "name": "stdout",
     "output_type": "stream",
     "text": [
      "apple,banana,grape,orange\n",
      "bird,cat,dog,elephant\n"
     ]
    }
   ],
   "source": [
    "def sort_alpha(string):\n",
    "\n",
    "   \n",
    "    words = []\n",
    "    word = \"\"\n",
    "\n",
    "    for char in string:\n",
    "        if char == \",\":  # When a comma is found, store the word\n",
    "            words.append(word)\n",
    "            word = \"\"  # Reset for the next word\n",
    "        else:\n",
    "            word += char  # Build the word character by character\n",
    "\n",
    "    words.append(word)  # Add the last word\n",
    "\n",
    "    \n",
    "    n = len(words)\n",
    "    for i in range(n - 1):\n",
    "        for j in range(n - i - 1):\n",
    "            if words[j] > words[j + 1]:  # Swap if out of order\n",
    "                words[j], words[j + 1] = words[j + 1], words[j]\n",
    "\n",
    "    \n",
    "    sorted_string = \"\"\n",
    "    for i in range(n):\n",
    "        if i > 0:\n",
    "            sorted_string += \",\"  \n",
    "        sorted_string += words[i]\n",
    "\n",
    "    return sorted_string\n",
    "\n",
    "# Test the function\n",
    "print(sort_alpha(\"banana,apple,grape,orange\"))  \n",
    "print(sort_alpha(\"dog,cat,elephant,bird\"))  "
   ]
  },
  {
   "cell_type": "code",
   "execution_count": null,
   "metadata": {},
   "outputs": [],
   "source": [
    "# This will test your function \n",
    "#test_alpha(sort_alpha)"
   ]
  },
  {
   "cell_type": "markdown",
   "metadata": {},
   "source": [
    "## 12. Write a function to check if a given password is strong (at least 8 characters, at least one lower case, at least one upper case, at least one number and at least one special character). It should output True if strong and False if not."
   ]
  },
  {
   "cell_type": "code",
   "execution_count": 15,
   "metadata": {},
   "outputs": [
    {
     "name": "stdout",
     "output_type": "stream",
     "text": [
      "True\n",
      "False\n",
      "False\n",
      "False\n",
      "False\n"
     ]
    }
   ],
   "source": [
    "def check_pass(password):\n",
    "#your code here\n",
    "\n",
    "    \n",
    "    if len(password) < 8:\n",
    "        return False\n",
    "\n",
    "    has_lower = False\n",
    "    has_upper = False\n",
    "    has_digit = False\n",
    "    has_special = False\n",
    "\n",
    "    special_characters = \"!@#$%^&*()-_=+[]{}|;:'\\\",.<>?/\\\\\"\n",
    "\n",
    "    \n",
    "    for char in password:\n",
    "        if 'a' <= char <= 'z':  \n",
    "            has_lower = True\n",
    "        elif 'A' <= char <= 'Z':  \n",
    "            has_upper = True\n",
    "        elif '0' <= char <= '9':  \n",
    "            has_digit = True\n",
    "        else:  \n",
    "            for special in special_characters:\n",
    "                if char == special:\n",
    "                    has_special = True\n",
    "                    break\n",
    "\n",
    "    \n",
    "    return has_lower and has_upper and has_digit and has_special\n",
    "\n",
    "# Test the function\n",
    "print(check_pass(\"Password123!\"))  \n",
    "print(check_pass(\"weakpass\"))  \n",
    "print(check_pass(\"Short1!\"))  \n",
    "print(check_pass(\"NoNumber!\"))  \n",
    "print(check_pass(\"NoSpecial123\")) \n",
    "\n",
    "# Test the function\n"
   ]
  },
  {
   "cell_type": "code",
   "execution_count": null,
   "metadata": {},
   "outputs": [],
   "source": [
    "# This will test your function \n",
    "#test_pass(check_pass)"
   ]
  }
 ],
 "metadata": {
  "kernelspec": {
   "display_name": "Python 3",
   "language": "python",
   "name": "python3"
  },
  "language_info": {
   "codemirror_mode": {
    "name": "ipython",
    "version": 3
   },
   "file_extension": ".py",
   "mimetype": "text/x-python",
   "name": "python",
   "nbconvert_exporter": "python",
   "pygments_lexer": "ipython3",
   "version": "3.11.4"
  }
 },
 "nbformat": 4,
 "nbformat_minor": 4
}
