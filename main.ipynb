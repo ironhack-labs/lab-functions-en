{
 "cells": [
  {
   "cell_type": "markdown",
   "metadata": {},
   "source": [
    "# Functions"
   ]
  },
  {
   "cell_type": "markdown",
   "metadata": {},
   "source": [
    "On this lab we will put to practice some of the concepts we have learned on this past few days.\n",
    "\n",
    "`NOTE: On this lab you should try to write all the functions yourself using only the most basic of python syntax and without functions such as len, count, sum, max, min, in, etc. Give it a try. 🧑🏻‍💻👩🏻‍💻`\n",
    "\n",
    "The cell after each exercise contains a few tests to check if your function works as expected."
   ]
  },
  {
   "cell_type": "code",
   "execution_count": 3,
   "metadata": {},
   "outputs": [],
   "source": [
    "from mod.testing import *\n",
    "import unittest"
   ]
  },
  {
   "cell_type": "markdown",
   "metadata": {},
   "source": [
    "## 1. Write a function that returns the greater of two numbers"
   ]
  },
  {
   "cell_type": "code",
   "execution_count": 4,
   "metadata": {},
   "outputs": [],
   "source": [
    "def greater(a,b):\n",
    "    if a > b: #conditional comparing a to b \n",
    "        return a\n",
    "    else: # if a not greater than b, return b\n",
    "        return b"
   ]
  },
  {
   "cell_type": "code",
   "execution_count": 5,
   "metadata": {},
   "outputs": [
    {
     "name": "stderr",
     "output_type": "stream",
     "text": [
      "....................................................................................................\n",
      "----------------------------------------------------------------------\n",
      "Ran 100 tests in 0.042s\n",
      "\n",
      "OK\n"
     ]
    }
   ],
   "source": [
    "# This will test your function \n",
    "test_greater(greater)"
   ]
  },
  {
   "cell_type": "markdown",
   "metadata": {},
   "source": [
    "## 2. Now write a function that returns the largest element on a list"
   ]
  },
  {
   "cell_type": "code",
   "execution_count": 6,
   "metadata": {},
   "outputs": [],
   "source": [
    "def greatest(lst): \n",
    "    big = 0 # initializing variable for maximum number\n",
    "    for i in lst: # iterating through each element of the list\n",
    "        if i > big:\n",
    "            big = i\n",
    "    return big\n",
    "        "
   ]
  },
  {
   "cell_type": "code",
   "execution_count": 7,
   "metadata": {},
   "outputs": [
    {
     "name": "stderr",
     "output_type": "stream",
     "text": [
      "....................................................................................................\n",
      "----------------------------------------------------------------------\n",
      "Ran 100 tests in 0.030s\n",
      "\n",
      "OK\n"
     ]
    }
   ],
   "source": [
    "# This will test your function \n",
    "test_greatest(greatest)"
   ]
  },
  {
   "cell_type": "markdown",
   "metadata": {},
   "source": [
    "## 3. Write a function that sums all the elements on a list"
   ]
  },
  {
   "cell_type": "code",
   "execution_count": 8,
   "metadata": {},
   "outputs": [],
   "source": [
    "def sum_all(lst):\n",
    "    total = 0 # defining a sum variable\n",
    "    for element in lst: # iterate through each element of the list\n",
    "        total += element # increasing sum variable with each element\n",
    "    return total"
   ]
  },
  {
   "cell_type": "code",
   "execution_count": 9,
   "metadata": {
    "scrolled": true
   },
   "outputs": [
    {
     "name": "stderr",
     "output_type": "stream",
     "text": [
      "....................................................................................................\n",
      "----------------------------------------------------------------------\n",
      "Ran 100 tests in 0.046s\n",
      "\n",
      "OK\n"
     ]
    }
   ],
   "source": [
    "# This will test your function \n",
    "test_sum(sum_all)"
   ]
  },
  {
   "cell_type": "markdown",
   "metadata": {},
   "source": [
    "## 4. Write another function that multiplies all the elements on a list"
   ]
  },
  {
   "cell_type": "code",
   "execution_count": 10,
   "metadata": {},
   "outputs": [],
   "source": [
    "def mult_all(lst):\n",
    "    result = 1 # defining a result variable\n",
    "    for element in lst: # iterate through each element of the list\n",
    "        result *= element # multiplying result variable with each element\n",
    "    return result"
   ]
  },
  {
   "cell_type": "code",
   "execution_count": 11,
   "metadata": {
    "scrolled": true
   },
   "outputs": [
    {
     "name": "stderr",
     "output_type": "stream",
     "text": [
      "....................................................................................................\n",
      "----------------------------------------------------------------------\n",
      "Ran 100 tests in 0.047s\n",
      "\n",
      "OK\n"
     ]
    }
   ],
   "source": [
    "# This will test your function \n",
    "test_mult(mult_all)"
   ]
  },
  {
   "cell_type": "markdown",
   "metadata": {},
   "source": [
    "## 5. Now combine those two ideas and write a function that receives a list and either \"+\" or \"*\" and outputs acordingly"
   ]
  },
  {
   "cell_type": "code",
   "execution_count": 12,
   "metadata": {},
   "outputs": [],
   "source": [
    "def oper_all(arr, oper = \"*\"):\n",
    "    if oper == \"*\": # setting condition to test for multiplication operator\n",
    "        result = 1 # setting result variable to 1 for multiplication \n",
    "        for element in arr: # iterating over input array\n",
    "            result *= element # multiplying result variable with each element\n",
    "    elif oper == \"+\": # setting condition to test for addition operator\n",
    "        result = 0 # setting result variable to 0 for addition\n",
    "        for element in arr: # iterating over input array\n",
    "            result += element # increasing result variable with each element\n",
    "    return result"
   ]
  },
  {
   "cell_type": "code",
   "execution_count": 13,
   "metadata": {},
   "outputs": [
    {
     "name": "stderr",
     "output_type": "stream",
     "text": [
      "....................................................................................................\n",
      "----------------------------------------------------------------------\n",
      "Ran 100 tests in 0.037s\n",
      "\n",
      "OK\n"
     ]
    }
   ],
   "source": [
    "# This will test your function \n",
    "test_operations(oper_all)"
   ]
  },
  {
   "cell_type": "markdown",
   "metadata": {},
   "source": [
    "## 6. Write a function that returns the factorial of a number."
   ]
  },
  {
   "cell_type": "code",
   "execution_count": 14,
   "metadata": {},
   "outputs": [],
   "source": [
    "def factorial(n):\n",
    "    if n < 2: # defining factorial for case n = 1\n",
    "        return 1\n",
    "    else: \n",
    "        return n * factorial(n-1) # defining a formula for calculating the factorial for all other numbers of n"
   ]
  },
  {
   "cell_type": "code",
   "execution_count": 15,
   "metadata": {},
   "outputs": [],
   "source": [
    "#factorial formula\n",
    "#n! = n * ( n - 1 ) *...*1\n",
    "\n",
    "# This code defines a function called \"factorial\" which takes an input \"n\". The function uses a for loop to iterate through the range of numbers \n",
    "# from 1 to n+1. For each number in that range, it multiplies the current value of x by the number in the range. At the end of the loop, \n",
    "# the function returns the final value of x, which will be the factorial of the input number \"n\".\n",
    "\n",
    "# The Factorial of a positive integer n is the product of all positive integers less than or equal to n. \n",
    "# For example, the factorial of 6 (written \"6!\") is 6 * 5 * 4 * 3 * 2 * 1 = 720.\n",
    "\n",
    "# So this function takes an input of any positive integer, and returns the factorial of that number."
   ]
  },
  {
   "cell_type": "code",
   "execution_count": 16,
   "metadata": {},
   "outputs": [
    {
     "name": "stderr",
     "output_type": "stream",
     "text": [
      "....................................................................................................\n",
      "----------------------------------------------------------------------\n",
      "Ran 100 tests in 0.044s\n",
      "\n",
      "OK\n"
     ]
    }
   ],
   "source": [
    "# This will test your function \n",
    "test_factorial(factorial)"
   ]
  },
  {
   "cell_type": "markdown",
   "metadata": {},
   "source": [
    "## 7. Write a function that takes a list and returns a list of the unique values.\n",
    "\n",
    "`NOTE: You cannot use set. 🤔`"
   ]
  },
  {
   "cell_type": "code",
   "execution_count": 17,
   "metadata": {},
   "outputs": [],
   "source": [
    "def unique(lst_un):\n",
    "    new = [] # defining new list to store values\n",
    "    for i in lst_un: # iterating over input list\n",
    "        if i != i+1: # testing if element occurs somewhere else in list\n",
    "            new.append(i) # adding element to new list\n",
    "    return new"
   ]
  },
  {
   "cell_type": "code",
   "execution_count": 18,
   "metadata": {},
   "outputs": [
    {
     "name": "stderr",
     "output_type": "stream",
     "text": [
      "....................................................................................................\n",
      "----------------------------------------------------------------------\n",
      "Ran 100 tests in 0.043s\n",
      "\n",
      "OK\n"
     ]
    }
   ],
   "source": [
    "# This will test your function \n",
    "test_unique(unique)"
   ]
  },
  {
   "cell_type": "markdown",
   "metadata": {},
   "source": [
    "## 8. Write a function that returns the mode of a list, i.e.: the element that appears the most times.\n",
    "`NOTE: You should not use count... 🧐`"
   ]
  },
  {
   "cell_type": "code",
   "execution_count": 174,
   "metadata": {},
   "outputs": [],
   "source": [
    "\n",
    "def mode_counter(arr):\n",
    "    element_frequencies = {} # defining an empty dictionary to pair the elements of the array with their frequencies\n",
    "    count = [] # defining an empty list for the initial frequencies of the elements\n",
    "    counter = 0 # initializing variable as a counter\n",
    "    max = 0 # initializing variable for maximum number\n",
    "   \n",
    "   # setting initial counts to 0 and counting length of array\n",
    "    for i in arr: \n",
    "        count.append(0)\n",
    "        counter += 1\n",
    "    \n",
    "    # populating dictionary with all the elements in the array and a frequency of 0\n",
    "    for i in range(counter):   \n",
    "        element_frequencies.update({arr[i]: count[i]})\n",
    "    \n",
    "    # iterating over the array to update the dictionary with the actual frequencies of the elements\n",
    "    for element in arr: \n",
    "        if element in element_frequencies:\n",
    "                element_frequencies[element] += 1\n",
    "\n",
    "    # calculating the value of the highest frequency       \n",
    "    for count in element_frequencies.values():\n",
    "         if count > max:\n",
    "              max = count\n",
    "\n",
    "    # retrieving the element with the highest frequency from the dictionary\n",
    "    for arr, count in element_frequencies.items():\n",
    "         if count == max:\n",
    "              return(arr)\n"
   ]
  },
  {
   "cell_type": "code",
   "execution_count": 175,
   "metadata": {},
   "outputs": [
    {
     "name": "stderr",
     "output_type": "stream",
     "text": [
      "....................................................................................................\n",
      "----------------------------------------------------------------------\n",
      "Ran 100 tests in 0.051s\n",
      "\n",
      "OK\n"
     ]
    }
   ],
   "source": [
    "# This will test your function \n",
    "test_mode(mode_counter)"
   ]
  },
  {
   "cell_type": "markdown",
   "metadata": {},
   "source": [
    "## 9. Write a function that calculates the standard deviation of a list.\n",
    "`NOTE: Do not use any libraries or already built functions. 😉`"
   ]
  },
  {
   "cell_type": "code",
   "execution_count": 182,
   "metadata": {},
   "outputs": [],
   "source": [
    "\n",
    "def st_dev(list_sd):\n",
    "\n",
    "    total = float(0) # defining a sum variable\n",
    "    length = float(0) # defining a length variable  \n",
    "    difference = float(0) # defining a difference variable\n",
    "\n",
    "    # converting all items in the input list to floats to ensure precise calculations\n",
    "    list_sd = [float(i) for i in list_sd]\n",
    "   \n",
    "    # Step 1: finding the mean of the list\n",
    "    for element in list_sd: # iterate through each element of the list\n",
    "        total += element # increasing sum variable with each element\n",
    "        length += 1 # increasing length variable with each element\n",
    "    \n",
    "    # accounting for cases with only one item in the list\n",
    "    if length < 2:\n",
    "        return 0\n",
    "    \n",
    "    # calculating the mean for all other cases\n",
    "    mean_li = total / length\n",
    "\n",
    "    #Step 2: finding the sum of squared differences between each entry and the mean\n",
    "    for element in list_sd:\n",
    "        difference += (mean_li - element)**2\n",
    "    \n",
    "    # Step 3: divide difference by length and take square root of the result, including manual calculation of the square root via Newton's method\n",
    "    \n",
    "    variance = difference / (length - 1)\n",
    "        \n",
    "    std = variance\n",
    "    epsilon = 0.000001  # threshold for precision purposes\n",
    "    while my_abs(std**2 - variance) > epsilon: # calculating the absolute value by using a manually defined function (see below)\n",
    "        std = (std + variance / std) / 2\n",
    "\n",
    "    return std\n",
    "\n",
    "# manual calculation of the absolute value\n",
    "def my_abs(x):\n",
    "    if x < 0:\n",
    "        return -x\n",
    "    else:\n",
    "        return x\n"
   ]
  },
  {
   "cell_type": "code",
   "execution_count": 183,
   "metadata": {},
   "outputs": [
    {
     "name": "stderr",
     "output_type": "stream",
     "text": [
      "....................................................................................................\n",
      "----------------------------------------------------------------------\n",
      "Ran 100 tests in 0.041s\n",
      "\n",
      "OK\n"
     ]
    }
   ],
   "source": [
    "# This will test your function \n",
    "test_stdev(st_dev)"
   ]
  },
  {
   "cell_type": "markdown",
   "metadata": {},
   "source": [
    "## 10. Write a function to check if a string is a pangram, i.e.: if it contains all the letters of the alphabet at least once. Mind that the strings may contain characters that are not letters."
   ]
  },
  {
   "cell_type": "code",
   "execution_count": 164,
   "metadata": {},
   "outputs": [],
   "source": [
    "\n",
    "def pangram(string):\n",
    "    \n",
    "    str_lower = string.lower() # converting string to lowercase so the function is not case sensitive\n",
    "    alphabet = [\"a\", \"b\", \"c\", \"d\", \"e\", \"f\", \"g\", \"h\", \"i\", \"j\", \"k\", \"l\", \"m\", \"n\", \"o\", \"p\", \"q\", \"r\", \"s\", \"t\", \"u\", \"v\", \"w\", \"x\", \"y\", \"z\"] # creating a reference list of all letters in the alphabet\n",
    "    initial_count = [] # creating empty list to set all letters to zero count\n",
    "    letter_count = {} # creating empty dictionary to add the letters and counts to\n",
    "    counter = 0 # creating a counter and setting it to zero\n",
    "\n",
    "    # filling dictionary with letters and an initial count of zero for each letter\n",
    "    for i in range(0,26): \n",
    "        initial_count.append(0)\n",
    "        letter_count.update({alphabet[i]: initial_count[i]})\n",
    "\n",
    "    # testing whether each letter of the given string is in the alphabet list and updating the value to 1\n",
    "    for character in str_lower:\n",
    "        if character in alphabet:\n",
    "            counter += 1\n",
    "            letter_count.update({character: counter})\n",
    "            counter = 0 \n",
    "        else:\n",
    "           continue\n",
    "\n",
    "    # # adding 1 to the counter if a letter with count 0 is found in the upated dictionary (letters which were not contained in the string)       \n",
    "    for initial_count in letter_count.values():\n",
    "        if initial_count == 0:\n",
    "            counter += 1 \n",
    "    \n",
    "    # if 1 or more letters have a count of zero (i.e. counter > 0), return False\n",
    "    if counter > 0:\n",
    "        return(False)\n",
    "    else:\n",
    "        return(True)"
   ]
  },
  {
   "cell_type": "code",
   "execution_count": 165,
   "metadata": {},
   "outputs": [
    {
     "name": "stderr",
     "output_type": "stream",
     "text": [
      "..............................\n",
      "----------------------------------------------------------------------\n",
      "Ran 30 tests in 0.013s\n",
      "\n",
      "OK\n"
     ]
    }
   ],
   "source": [
    "# This will test your function \n",
    "test_pangram(pangram)"
   ]
  },
  {
   "cell_type": "markdown",
   "metadata": {},
   "source": [
    "## 11. Write a function that receives a string of comma separated words and returns a string of comma separated words sorted alphabetically.\n",
    "\n",
    "`NOTE: You may use sorted but not split and definitely no join! 🤪`"
   ]
  },
  {
   "cell_type": "code",
   "execution_count": 158,
   "metadata": {},
   "outputs": [],
   "source": [
    "def sort_alpha(string):\n",
    "    # creating two empty string variables and an empty list for words to be sorted\n",
    "    temp_string = \"\"\n",
    "    list_for_sorting = []\n",
    "    sorted_string = \"\"\n",
    "\n",
    "    # filling list_for_sorting with words to be sorted\n",
    "    for character in string: # iterating through input string\n",
    "        if character != \",\": # testing to see if it is a character or a comma\n",
    "            temp_string += character # using temporary variable to accumulate and store the words\n",
    "        else:\n",
    "            list_for_sorting.append(temp_string) # if character is a comma, add the accumualted content of the temporary string to the list\n",
    "            temp_string = \"\" # reset temporary string for next iteration\n",
    "            continue # restart loop with next character\n",
    "    list_for_sorting.append(temp_string) # after last iteration, the last word (remaining content of temporary variable) needs to be added to list\n",
    "    list_after_sorting = sorted(list_for_sorting) # sorting of the list we created\n",
    "    \n",
    "    # converting sorted list of words back into a string, seperated by commas\n",
    "    for word in list_after_sorting: # iterate through each word of the sorted list\n",
    "        if word != list_after_sorting[-1]: # if the word is not the last index in the list...\n",
    "            sorted_string += word + \",\" # ...add the word and a comma to the output string \n",
    "        else: # if the word is the last index in the list\n",
    "            sorted_string += word # only add the word to the list (do not add a comma after the last word)\n",
    "\n",
    "    return(sorted_string) # return the sorted string as output\n",
    " \n"
   ]
  },
  {
   "cell_type": "code",
   "execution_count": 159,
   "metadata": {},
   "outputs": [
    {
     "name": "stderr",
     "output_type": "stream",
     "text": [
      "....................................................................................................\n",
      "----------------------------------------------------------------------\n",
      "Ran 100 tests in 0.040s\n",
      "\n",
      "OK\n"
     ]
    }
   ],
   "source": [
    "# This will test your function \n",
    "test_alpha(sort_alpha)"
   ]
  },
  {
   "cell_type": "markdown",
   "metadata": {},
   "source": [
    "## 12. Write a function to check if a given password is strong (at least 8 characters, at least one lower case, at least one upper case, at least one number and at least one special character). It should output True if strong and False if not."
   ]
  },
  {
   "cell_type": "code",
   "execution_count": 203,
   "metadata": {},
   "outputs": [],
   "source": [
    "valid = \"D.rotweissrot\"\n",
    "invalid = \"hello23,H\"\n",
    "\n",
    "def check_pass(password):\n",
    "    \n",
    "    length = 0 # initializing a variable to count the password length\n",
    "    special_characters = [\"@\", \",\", \"*\", \".\", '`', \"!\", \"§\", \"?\", \"'\", \"#\", \"$\", \"%\", \"^\", '\"', \"&\", \"(\", \")\", \"{\", \"}\", \"[\", \"]\", \":\", \";\", \"<\", \">\", \"?\", \"/\", \"~\", \"_\", \"+\", \"-\", \"=\", \"|\", \"\\\\\"] # creating a list of all possible special characters to test password against\n",
    "    l = 0 # initialiszing count variables for all of the requirements\n",
    "    u = 0 # initialiszing count variables for all of the requirements          \n",
    "    d = 0 # initialiszing count variables for all of the requirements\n",
    "    s = 0 # initialiszing count variables for all of the requirements\n",
    "\n",
    "    # checking for length\n",
    "    for i in password:\n",
    "        length += 1\n",
    "\n",
    "    # checking for all other requirements by adding one to each of the count variables if true\n",
    "    if length >= 7:\n",
    "        for i in password:\n",
    "            if i.islower():\n",
    "                l += 1\n",
    "            if i.isupper():\n",
    "                u += 1\n",
    "            if i.isdigit():\n",
    "                d += 1\n",
    "            if i in special_characters:\n",
    "                s += 1\n",
    "    \n",
    "    # testing if all of the conditions were met and all of the characters are accounted for\n",
    "    if (l>=1 and u>=1 and d>=1 and s>=1 and l+s+u+d==length):\n",
    "        return(True)\n",
    "    else:\n",
    "        return(False)\n",
    "    \n"
   ]
  },
  {
   "cell_type": "code",
   "execution_count": 204,
   "metadata": {},
   "outputs": [
    {
     "name": "stderr",
     "output_type": "stream",
     "text": [
      "....................................................................................................\n",
      "----------------------------------------------------------------------\n",
      "Ran 100 tests in 0.042s\n",
      "\n",
      "OK\n"
     ]
    }
   ],
   "source": [
    "# This will test your function \n",
    "test_pass(check_pass)"
   ]
  }
 ],
 "metadata": {
  "kernelspec": {
   "display_name": "Python 3 (ipykernel)",
   "language": "python",
   "name": "python3"
  },
  "language_info": {
   "codemirror_mode": {
    "name": "ipython",
    "version": 3
   },
   "file_extension": ".py",
   "mimetype": "text/x-python",
   "name": "python",
   "nbconvert_exporter": "python",
   "pygments_lexer": "ipython3",
   "version": "3.12.4"
  },
  "vscode": {
   "interpreter": {
    "hash": "aee8b7b246df8f9039afb4144a1f6fd8d2ca17a180786b69acc140d282b71a49"
   }
  }
 },
 "nbformat": 4,
 "nbformat_minor": 4
}
