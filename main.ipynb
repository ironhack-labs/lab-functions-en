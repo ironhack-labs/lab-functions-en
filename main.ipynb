{
 "cells": [
  {
   "cell_type": "markdown",
   "metadata": {},
   "source": [
    "# Functions"
   ]
  },
  {
   "cell_type": "markdown",
   "metadata": {},
   "source": [
    "On this lab we will put to practice some of the concepts we have learned on this past few days.\n",
    "\n",
    "`NOTE: On this lab you should try to write all the functions yourself using only the most basic of python syntax and without functions such as len, count, sum, max, min, in, etc. Give it a try. 🧑🏻‍💻👩🏻‍💻`\n",
    "\n",
    "The cell after each exercise contains a few tests to check if your function works as expected."
   ]
  },
  {
   "cell_type": "code",
   "execution_count": 17,
   "metadata": {},
   "outputs": [],
   "source": [
    "from mod.testing import *\n",
    "import unittest"
   ]
  },
  {
   "cell_type": "markdown",
   "metadata": {},
   "source": [
    "## 1. Write a function that returns the greater of two numbers"
   ]
  },
  {
   "cell_type": "code",
   "execution_count": 18,
   "metadata": {},
   "outputs": [],
   "source": [
    "def greater(a,b):\n",
    "    if a > b:\n",
    "        return a\n",
    "    elif a < b:\n",
    "        return b\n",
    "    else:\n",
    "        print('They are equal')"
   ]
  },
  {
   "cell_type": "code",
   "execution_count": 19,
   "metadata": {},
   "outputs": [
    {
     "name": "stderr",
     "output_type": "stream",
     "text": [
      "....................................................................................................\n",
      "----------------------------------------------------------------------\n",
      "Ran 100 tests in 0.195s\n",
      "\n",
      "OK\n"
     ]
    }
   ],
   "source": [
    "# This will test your function \n",
    "test_greater(greater)"
   ]
  },
  {
   "cell_type": "code",
   "execution_count": 20,
   "metadata": {},
   "outputs": [],
   "source": [
    "#your code here"
   ]
  },
  {
   "cell_type": "markdown",
   "metadata": {},
   "source": [
    "## 2. Now write a function that returns the largest element on a list"
   ]
  },
  {
   "cell_type": "code",
   "execution_count": 61,
   "metadata": {},
   "outputs": [],
   "source": [
    "def greatest(list_input):\n",
    "    largest = list_input[0]\n",
    "    \n",
    "    for num in list_input:\n",
    "        if num > largest:\n",
    "            largest = num\n",
    "    \n",
    "    return largest\n"
   ]
  },
  {
   "cell_type": "code",
   "execution_count": 62,
   "metadata": {},
   "outputs": [
    {
     "name": "stderr",
     "output_type": "stream",
     "text": [
      "............."
     ]
    },
    {
     "name": "stderr",
     "output_type": "stream",
     "text": [
      ".......................................................................................\n",
      "----------------------------------------------------------------------\n",
      "Ran 100 tests in 0.329s\n",
      "\n",
      "OK\n"
     ]
    }
   ],
   "source": [
    "# This will test your function \n",
    "test_greatest(greatest)"
   ]
  },
  {
   "cell_type": "markdown",
   "metadata": {},
   "source": [
    "## 3. Write a function that sums all the elements on a list"
   ]
  },
  {
   "cell_type": "code",
   "execution_count": 23,
   "metadata": {},
   "outputs": [],
   "source": [
    "def sum_all(lst):\n",
    "    sum = 0\n",
    "    for element in lst:\n",
    "        sum += element\n",
    "    return sum"
   ]
  },
  {
   "cell_type": "code",
   "execution_count": 24,
   "metadata": {
    "scrolled": true
   },
   "outputs": [
    {
     "name": "stderr",
     "output_type": "stream",
     "text": [
      ".."
     ]
    },
    {
     "name": "stderr",
     "output_type": "stream",
     "text": [
      "..................................................................................................\n",
      "----------------------------------------------------------------------\n",
      "Ran 100 tests in 0.178s\n",
      "\n",
      "OK\n"
     ]
    }
   ],
   "source": [
    "# This will test your function \n",
    "test_sum(sum_all)"
   ]
  },
  {
   "cell_type": "markdown",
   "metadata": {},
   "source": [
    "## 4. Write another function that multiplies all the elements on a list"
   ]
  },
  {
   "cell_type": "code",
   "execution_count": 25,
   "metadata": {},
   "outputs": [],
   "source": [
    "def mult_all(lst):\n",
    "    product = 1\n",
    "    for element in lst:\n",
    "        product *= element  # Multiply each element\n",
    "    return product"
   ]
  },
  {
   "cell_type": "code",
   "execution_count": 26,
   "metadata": {
    "scrolled": true
   },
   "outputs": [
    {
     "name": "stderr",
     "output_type": "stream",
     "text": [
      "....................................................................................................\n",
      "----------------------------------------------------------------------\n",
      "Ran 100 tests in 0.189s\n",
      "\n",
      "OK\n"
     ]
    }
   ],
   "source": [
    "# This will test your function \n",
    "test_mult(mult_all)"
   ]
  },
  {
   "cell_type": "markdown",
   "metadata": {},
   "source": [
    "## 5. Now combine those two ideas and write a function that receives a list and either \"+\" or \"*\" and outputs acordingly"
   ]
  },
  {
   "cell_type": "code",
   "execution_count": 27,
   "metadata": {},
   "outputs": [],
   "source": [
    "def oper_all(arr, oper=\"*\"):\n",
    "    if oper == \"+\":\n",
    "        return sum_all(arr)\n",
    "    elif oper == \"*\":\n",
    "        return mult_all(arr)\n",
    "    else:\n",
    "        raise ValueError(\"Unsupported operation. Use '+' or '*'.\")\n"
   ]
  },
  {
   "cell_type": "code",
   "execution_count": 28,
   "metadata": {},
   "outputs": [
    {
     "name": "stderr",
     "output_type": "stream",
     "text": [
      "....................................................................................................\n",
      "----------------------------------------------------------------------\n",
      "Ran 100 tests in 0.319s\n",
      "\n",
      "OK\n"
     ]
    }
   ],
   "source": [
    "# This will test your function \n",
    "test_operations(oper_all)"
   ]
  },
  {
   "cell_type": "markdown",
   "metadata": {},
   "source": [
    "## 6. Write a function that returns the factorial of a number."
   ]
  },
  {
   "cell_type": "code",
   "execution_count": 15,
   "metadata": {},
   "outputs": [],
   "source": [
    "def factorial(n):\n",
    "    fact = 1\n",
    "    for i in range(1, n + 1):  # Loop from 1 to n (inclusive)\n",
    "        fact *= i  # Multiply fact by i\n",
    "    return fact  # Return the factorial\n"
   ]
  },
  {
   "cell_type": "code",
   "execution_count": null,
   "metadata": {},
   "outputs": [],
   "source": [
    "#factorial formula\n",
    "#n! = n * ( n - 1 ) *...*1\n",
    "\n",
    "# This code defines a function called \"factorial\" which takes an input \"n\". The function uses a for loop to iterate through the range of numbers \n",
    "# from 1 to n+1. For each number in that range, it multiplies the current value of x by the number in the range. At the end of the loop, \n",
    "# the function returns the final value of x, which will be the factorial of the input number \"n\".\n",
    "\n",
    "# The Factorial of a positive integer n is the product of all positive integers less than or equal to n. \n",
    "# For example, the factorial of 6 (written \"6!\") is 6 * 5 * 4 * 3 * 2 * 1 = 720.\n",
    "\n",
    "# So this function takes an input of any positive integer, and returns the factorial of that number."
   ]
  },
  {
   "cell_type": "code",
   "execution_count": 16,
   "metadata": {},
   "outputs": [
    {
     "name": "stderr",
     "output_type": "stream",
     "text": [
      "....................................................................................................\n",
      "----------------------------------------------------------------------\n",
      "Ran 100 tests in 0.333s\n",
      "\n",
      "OK\n"
     ]
    }
   ],
   "source": [
    "# This will test your function \n",
    "test_factorial(factorial)"
   ]
  },
  {
   "cell_type": "markdown",
   "metadata": {},
   "source": [
    "## 7. Write a function that takes a list and returns a list of the unique values.\n",
    "\n",
    "`NOTE: You cannot use set. 🤔`"
   ]
  },
  {
   "cell_type": "code",
   "execution_count": 63,
   "metadata": {},
   "outputs": [],
   "source": [
    "# def unique(lst_un):\n",
    "#     return list(set(lst_un))  # Convert list to set and back to list\n",
    "\n",
    "\n",
    "def unique(lst_un):\n",
    "    unique_list = []\n",
    "    \n",
    "    for item in lst_un:\n",
    "        if item not in unique_list:\n",
    "            unique_list.append(item)\n",
    "    \n",
    "    return unique_list\n"
   ]
  },
  {
   "cell_type": "code",
   "execution_count": 64,
   "metadata": {},
   "outputs": [
    {
     "name": "stderr",
     "output_type": "stream",
     "text": [
      "....................................................................................................\n",
      "----------------------------------------------------------------------\n",
      "Ran 100 tests in 0.759s\n",
      "\n",
      "OK\n"
     ]
    }
   ],
   "source": [
    "# This will test your function \n",
    "test_unique(unique)"
   ]
  },
  {
   "cell_type": "markdown",
   "metadata": {},
   "source": [
    "## 8. Write a function that returns the mode of a list, i.e.: the element that appears the most times.\n",
    "`NOTE: You should not use count... 🧐`"
   ]
  },
  {
   "cell_type": "code",
   "execution_count": 67,
   "metadata": {},
   "outputs": [],
   "source": [
    "def mode_counter(lst):\n",
    "    # Dictionary to store frequency of each element\n",
    "    frequency = {}\n",
    "\n",
    "    # Count occurrences of each element\n",
    "    for item in lst:\n",
    "        if item in frequency:\n",
    "            frequency[item] += 1\n",
    "        else:\n",
    "            frequency[item] = 1\n",
    "\n",
    "    # Find the maximum frequency\n",
    "    max_count = max(frequency.values())\n",
    "    \n",
    "    # Find all elements with the maximum frequency\n",
    "    modes = [key for key, count in frequency.items() if count == max_count]\n",
    "\n",
    "    # If only one mode, return it as a single value\n",
    "    if len(modes) == 1:\n",
    "        return modes[0]\n",
    "\n",
    "    # If multiple modes, return the list of modes\n",
    "    return modes\n"
   ]
  },
  {
   "cell_type": "code",
   "execution_count": 68,
   "metadata": {},
   "outputs": [
    {
     "name": "stderr",
     "output_type": "stream",
     "text": [
      "....................................................................................................\n",
      "----------------------------------------------------------------------\n",
      "Ran 100 tests in 0.232s\n",
      "\n",
      "OK\n"
     ]
    }
   ],
   "source": [
    "# This will test your function \n",
    "test_mode(mode_counter)"
   ]
  },
  {
   "cell_type": "markdown",
   "metadata": {},
   "source": [
    "## 9. Write a function that calculates the standard deviation of a list.\n",
    "`NOTE: Do not use any libraries or already built functions. 😉`"
   ]
  },
  {
   "cell_type": "code",
   "execution_count": null,
   "metadata": {},
   "outputs": [],
   "source": [
    "# from statistics import stdev\n",
    "\n",
    "# def st_dev(list_sd):\n",
    "#     return stdev(list_sd)\n",
    "\n",
    "\n",
    "def st_dev(data, sample=True):\n",
    "    if len(data) == 0:\n",
    "        raise ValueError(\"The data list cannot be empty.\")\n",
    "    \n",
    "    # calculate the mean\n",
    "    mean = sum(data) / len(data)\n",
    "    \n",
    "    # calculate squared differences from the mean\n",
    "    squared_differences = [(x - mean) ** 2 for x in data]\n",
    "    \n",
    "    # calculate variance\n",
    "    if sample:\n",
    "        # sample standard deviation divide by n-1\n",
    "        variance = sum(squared_differences) / (len(data) - 1)\n",
    "    else:\n",
    "        # population standard deviation divide by n\n",
    "        variance = sum(squared_differences) / len(data)\n",
    "    \n",
    "    # standard deviation is the sqrt of variance\n",
    "    standard_deviation = variance ** 0.5\n",
    "    \n",
    "    return standard_deviation\n"
   ]
  },
  {
   "cell_type": "code",
   "execution_count": 69,
   "metadata": {},
   "outputs": [
    {
     "name": "stderr",
     "output_type": "stream",
     "text": [
      "....................................................................................................\n",
      "----------------------------------------------------------------------\n",
      "Ran 100 tests in 0.346s\n",
      "\n",
      "OK\n"
     ]
    }
   ],
   "source": [
    "# This will test your function \n",
    "test_stdev(st_dev)"
   ]
  },
  {
   "cell_type": "markdown",
   "metadata": {},
   "source": [
    "## 10. Write a function to check if a string is a pangram, i.e.: if it contains all the letters of the alphabet at least once. Mind that the strings may contain characters that are not letters."
   ]
  },
  {
   "cell_type": "code",
   "execution_count": 41,
   "metadata": {},
   "outputs": [],
   "source": [
    "import string\n",
    "\n",
    "def pangram(s):\n",
    "    if len(s) < 26:  # Check if the string is too short\n",
    "        return False\n",
    "    letters = set(c.lower() for c in s if c.isalpha())\n",
    "    # Compare the set of letters in the string to the set of all alphabet letters\n",
    "    return letters >= set(string.ascii_lowercase)\n"
   ]
  },
  {
   "cell_type": "code",
   "execution_count": 42,
   "metadata": {},
   "outputs": [
    {
     "name": "stderr",
     "output_type": "stream",
     "text": [
      "..............................\n",
      "----------------------------------------------------------------------\n",
      "Ran 30 tests in 0.124s\n",
      "\n",
      "OK\n"
     ]
    }
   ],
   "source": [
    "# This will test your function \n",
    "test_pangram(pangram)"
   ]
  },
  {
   "cell_type": "markdown",
   "metadata": {},
   "source": [
    "## 11. Write a function that receives a string of comma separated words and returns a string of comma separated words sorted alphabetically.\n",
    "\n",
    "`NOTE: You may use sorted but not split and definitely no join! 🤪`"
   ]
  },
  {
   "cell_type": "code",
   "execution_count": 57,
   "metadata": {},
   "outputs": [],
   "source": [
    "input_string = \"banana, cherry, apple, strawberry, orange, melon\"\n",
    "\n",
    "def sort_alpha(input_string):\n",
    "    words = []  # store extracted words\n",
    "    current_word = \"\"  # makes each word character by character\n",
    "\n",
    "    for char in input_string:\n",
    "        if char == \",\":\n",
    "            if current_word:\n",
    "                words.append(current_word.strip())  # strip to remove extra spaces\n",
    "            current_word = \"\"  # reset current word\n",
    "        else:\n",
    "            current_word += char\n",
    "\n",
    "    if current_word:  # add the last word\n",
    "        words.append(current_word.strip())\n",
    "\n",
    "    sorted_words = sorted(words) # sort the words alphabetically\n",
    "\n",
    "\n",
    "    return \",\".join(sorted_words) # function needs to return a comma-separated string of sorted words\n"
   ]
  },
  {
   "cell_type": "code",
   "execution_count": 58,
   "metadata": {},
   "outputs": [
    {
     "name": "stderr",
     "output_type": "stream",
     "text": [
      "....................................................................................................\n",
      "----------------------------------------------------------------------\n",
      "Ran 100 tests in 0.190s\n",
      "\n",
      "OK\n"
     ]
    }
   ],
   "source": [
    "# This will test your function \n",
    "test_alpha(sort_alpha)"
   ]
  },
  {
   "cell_type": "markdown",
   "metadata": {},
   "source": [
    "## 12. Write a function to check if a given password is strong (at least 8 characters, at least one lower case, at least one upper case, at least one number and at least one special character). It should output True if strong and False if not."
   ]
  },
  {
   "cell_type": "code",
   "execution_count": 59,
   "metadata": {},
   "outputs": [],
   "source": [
    "def check_pass(password):\n",
    "    has_upper = False    # initialize each requirement\n",
    "    has_lower = False\n",
    "    has_digit = False\n",
    "    has_special = False\n",
    "\n",
    "    special_characters = \"!@#$%^&*()-_=+[]{}|;:'\\\",.<>?/`~\"    # special characters\n",
    "\n",
    "    # Check each character in the password\n",
    "    for char in password:\n",
    "        if char.isupper():\n",
    "            has_upper = True\n",
    "        elif char.islower():\n",
    "            has_lower = True\n",
    "        elif char.isdigit():\n",
    "            has_digit = True\n",
    "        elif char in special_characters:\n",
    "            has_special = True\n",
    "\n",
    "    # Check if all criteria are met\n",
    "    if len(password) >= 8 and has_upper and has_lower and has_digit and has_special:\n",
    "        return True\n",
    "    else:\n",
    "        return False\n"
   ]
  },
  {
   "cell_type": "code",
   "execution_count": 60,
   "metadata": {},
   "outputs": [
    {
     "name": "stderr",
     "output_type": "stream",
     "text": [
      "....................................................................................................\n",
      "----------------------------------------------------------------------\n",
      "Ran 100 tests in 0.318s\n",
      "\n",
      "OK\n"
     ]
    }
   ],
   "source": [
    "# This will test your function \n",
    "test_pass(check_pass)"
   ]
  }
 ],
 "metadata": {
  "kernelspec": {
   "display_name": "Python 3",
   "language": "python",
   "name": "python3"
  },
  "language_info": {
   "codemirror_mode": {
    "name": "ipython",
    "version": 3
   },
   "file_extension": ".py",
   "mimetype": "text/x-python",
   "name": "python",
   "nbconvert_exporter": "python",
   "pygments_lexer": "ipython3",
   "version": "3.10.10"
  }
 },
 "nbformat": 4,
 "nbformat_minor": 4
}
