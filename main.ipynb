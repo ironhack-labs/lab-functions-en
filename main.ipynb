{
  "cells": [
    {
      "cell_type": "markdown",
      "metadata": {
        "id": "4TgUDKQ33SWk"
      },
      "source": [
        "# Functions"
      ]
    },
    {
      "cell_type": "markdown",
      "metadata": {
        "id": "WioUziUy3SWn"
      },
      "source": [
        "On this lab we will put to practice some of the concepts we have learned on this past few days.\n",
        "\n",
        "`NOTE: On this lab you should try to write all the functions yourself using only the most basic of python syntax and without functions such as len, count, sum, max, min, in, etc. Give it a try. 🧑🏻‍💻👩🏻‍💻`\n",
        "\n",
        "The cell after each exercise contains a few tests to check if your function works as expected."
      ]
    },
    {
      "cell_type": "code",
      "execution_count": 7,
      "metadata": {
        "id": "5gv_yXwH3SWo"
      },
      "outputs": [],
      "source": [
        "from mod.testing import *\n",
        "import unittest"
      ]
    },
    {
      "cell_type": "markdown",
      "metadata": {
        "id": "eV5ObtGu3SWp"
      },
      "source": [
        "## 1. Write a function that returns the greater of two numbers"
      ]
    },
    {
      "cell_type": "code",
      "execution_count": 8,
      "metadata": {
        "id": "EMMvC0DF3SWq"
      },
      "outputs": [],
      "source": [
        "def greater(a,b):\n",
        "#your code here\n",
        "    if a > b:\n",
        "      return a\n",
        "    elif b > a:\n",
        "      return b\n",
        "    else:\n",
        "      return \"The numbers are equal\""
      ]
    },
    {
      "cell_type": "code",
      "execution_count": 9,
      "metadata": {
        "id": "GsEl8BPs3SWq",
        "colab": {
          "base_uri": "https://localhost:8080/"
        },
        "outputId": "b71e9821-c16e-465d-f404-5ddb01ea2c64"
      },
      "outputs": [
        {
          "output_type": "stream",
          "name": "stderr",
          "text": [
            "....................................................................................................\n",
            "----------------------------------------------------------------------\n",
            "Ran 100 tests in 0.129s\n",
            "\n",
            "OK\n"
          ]
        }
      ],
      "source": [
        "# This will test your function\n",
        "test_greater(greater)"
      ]
    },
    {
      "cell_type": "markdown",
      "metadata": {
        "id": "R9_I3c3-3SWr"
      },
      "source": [
        "## 2. Now write a function that returns the largest element on a list"
      ]
    },
    {
      "cell_type": "code",
      "execution_count": 12,
      "metadata": {
        "id": "9sTUhXDH3SWr"
      },
      "outputs": [],
      "source": [
        "#your code here\n",
        "def greatest(lst):\n",
        "  max = lst[0]\n",
        "  for num in lst:\n",
        "    if num > max:\n",
        "      max = num\n",
        "  return max\n",
        ""
      ]
    },
    {
      "cell_type": "code",
      "execution_count": 13,
      "metadata": {
        "id": "32cpk7Lt3SWr",
        "colab": {
          "base_uri": "https://localhost:8080/"
        },
        "outputId": "c0a56c84-cbb9-4e51-cc65-ab9ed3fc9e82"
      },
      "outputs": [
        {
          "output_type": "stream",
          "name": "stderr",
          "text": [
            "....................................................................................................\n",
            "----------------------------------------------------------------------\n",
            "Ran 100 tests in 0.170s\n",
            "\n",
            "OK\n"
          ]
        }
      ],
      "source": [
        "# This will test your function\n",
        "test_greatest(greatest)"
      ]
    },
    {
      "cell_type": "markdown",
      "metadata": {
        "id": "RGj8Ic4C3SWs"
      },
      "source": [
        "## 3. Write a function that sums all the elements on a list"
      ]
    },
    {
      "cell_type": "code",
      "execution_count": 14,
      "metadata": {
        "id": "EnjGQ5V_3SWs"
      },
      "outputs": [],
      "source": [
        "#your code here\n",
        "def sum_all(lst):\n",
        "  sum =0\n",
        "  for num in lst:\n",
        "    sum += num\n",
        "  return sum"
      ]
    },
    {
      "cell_type": "code",
      "execution_count": 15,
      "metadata": {
        "scrolled": true,
        "id": "6cnJMdy23SWs",
        "colab": {
          "base_uri": "https://localhost:8080/"
        },
        "outputId": "3fd4ad49-4dbb-47b0-f8fb-27c4f9bf940a"
      },
      "outputs": [
        {
          "output_type": "stream",
          "name": "stderr",
          "text": [
            "....................................................................................................\n",
            "----------------------------------------------------------------------\n",
            "Ran 100 tests in 0.150s\n",
            "\n",
            "OK\n"
          ]
        }
      ],
      "source": [
        "# This will test your function\n",
        "test_sum(sum_all)"
      ]
    },
    {
      "cell_type": "markdown",
      "metadata": {
        "id": "DpFdWzDf3SWs"
      },
      "source": [
        "## 4. Write another function that multiplies all the elements on a list"
      ]
    },
    {
      "cell_type": "code",
      "execution_count": 20,
      "metadata": {
        "id": "disFEqyw3SWs"
      },
      "outputs": [],
      "source": [
        "def mult_all(lst):\n",
        "#your code here\n",
        "  multi = 1\n",
        "  for num in lst:\n",
        "    multi = multi * num\n",
        "  return multi"
      ]
    },
    {
      "cell_type": "code",
      "execution_count": 21,
      "metadata": {
        "scrolled": true,
        "id": "rowpND2u3SWs",
        "colab": {
          "base_uri": "https://localhost:8080/"
        },
        "outputId": "eb23bc24-acb3-4229-93e4-26019daef3d2"
      },
      "outputs": [
        {
          "output_type": "stream",
          "name": "stderr",
          "text": [
            "....................................................................................................\n",
            "----------------------------------------------------------------------\n",
            "Ran 100 tests in 0.146s\n",
            "\n",
            "OK\n"
          ]
        }
      ],
      "source": [
        "# This will test your function\n",
        "test_mult(mult_all)"
      ]
    },
    {
      "cell_type": "markdown",
      "metadata": {
        "id": "oBjijqMy3SWt"
      },
      "source": [
        "## 5. Now combine those two ideas and write a function that receives a list and either \"+\" or \"*\" and outputs acordingly"
      ]
    },
    {
      "cell_type": "code",
      "execution_count": 25,
      "metadata": {
        "id": "AhwujQjq3SWt"
      },
      "outputs": [],
      "source": [
        "def oper_all(arr, oper = \"*\"):\n",
        "#your code here\n",
        "  if oper == \"+\":\n",
        "    sum = 0\n",
        "    for num in arr:\n",
        "      sum += num\n",
        "    return sum\n",
        "\n",
        "  elif oper == \"*\":\n",
        "    multi = 1\n",
        "    for num in arr:\n",
        "      multi = multi * num\n",
        "    return multi"
      ]
    },
    {
      "cell_type": "code",
      "execution_count": 26,
      "metadata": {
        "id": "M7Ao_87H3SWt",
        "colab": {
          "base_uri": "https://localhost:8080/"
        },
        "outputId": "296f6323-ebdc-4deb-85d7-62e84fee5873"
      },
      "outputs": [
        {
          "output_type": "stream",
          "name": "stderr",
          "text": [
            "....................................................................................................\n",
            "----------------------------------------------------------------------\n",
            "Ran 100 tests in 0.152s\n",
            "\n",
            "OK\n"
          ]
        }
      ],
      "source": [
        "# This will test your function\n",
        "test_operations(oper_all)"
      ]
    },
    {
      "cell_type": "markdown",
      "metadata": {
        "id": "Ubht0QU63SWt"
      },
      "source": [
        "## 6. Write a function that returns the factorial of a number."
      ]
    },
    {
      "cell_type": "code",
      "execution_count": 27,
      "metadata": {
        "id": "4py2D-4V3SWt"
      },
      "outputs": [],
      "source": [
        "def factorial(n):\n",
        "  #your code here\n",
        "  if n == 1:\n",
        "    return 1\n",
        "  else:\n",
        "    return n * factorial(n-1)"
      ]
    },
    {
      "cell_type": "code",
      "execution_count": 28,
      "metadata": {
        "id": "fptsN7p43SWt"
      },
      "outputs": [],
      "source": [
        "#factorial formula\n",
        "#n! = n * ( n - 1 ) *...*1\n",
        "\n",
        "# This code defines a function called \"factorial\" which takes an input \"n\". The function uses a for loop to iterate through the range of numbers\n",
        "# from 1 to n+1. For each number in that range, it multiplies the current value of x by the number in the range. At the end of the loop,\n",
        "# the function returns the final value of x, which will be the factorial of the input number \"n\".\n",
        "\n",
        "# The Factorial of a positive integer n is the product of all positive integers less than or equal to n.\n",
        "# For example, the factorial of 6 (written \"6!\") is 6 * 5 * 4 * 3 * 2 * 1 = 720.\n",
        "\n",
        "# So this function takes an input of any positive integer, and returns the factorial of that number."
      ]
    },
    {
      "cell_type": "code",
      "execution_count": 29,
      "metadata": {
        "id": "9g9WGSq-3SWu",
        "colab": {
          "base_uri": "https://localhost:8080/"
        },
        "outputId": "66b03470-23df-4aac-de26-a470777917f6"
      },
      "outputs": [
        {
          "output_type": "stream",
          "name": "stderr",
          "text": [
            "....................................................................................................\n",
            "----------------------------------------------------------------------\n",
            "Ran 100 tests in 0.113s\n",
            "\n",
            "OK\n"
          ]
        }
      ],
      "source": [
        "# This will test your function\n",
        "test_factorial(factorial)"
      ]
    },
    {
      "cell_type": "markdown",
      "metadata": {
        "id": "b0SRaOSG3SWu"
      },
      "source": [
        "## 7. Write a function that takes a list and returns a list of the unique values.\n",
        "\n",
        "`NOTE: You cannot use set. 🤔`"
      ]
    },
    {
      "cell_type": "code",
      "execution_count": 30,
      "metadata": {
        "id": "DI-iCXiN3SWu"
      },
      "outputs": [],
      "source": [
        "def unique(lst_un):\n",
        "  #your code here\n",
        "  unique_list = []\n",
        "  for num in lst_un:\n",
        "    if num not in unique_list:\n",
        "      unique_list.append(num)\n",
        "  return unique_list"
      ]
    },
    {
      "cell_type": "code",
      "execution_count": 31,
      "metadata": {
        "id": "qDBEMfKu3SWu",
        "colab": {
          "base_uri": "https://localhost:8080/"
        },
        "outputId": "530ed951-bc23-4131-baf5-815d693410a8"
      },
      "outputs": [
        {
          "output_type": "stream",
          "name": "stderr",
          "text": [
            "....................................................................................................\n",
            "----------------------------------------------------------------------\n",
            "Ran 100 tests in 0.330s\n",
            "\n",
            "OK\n"
          ]
        }
      ],
      "source": [
        "# This will test your function\n",
        "test_unique(unique)"
      ]
    },
    {
      "cell_type": "markdown",
      "metadata": {
        "id": "v9LPCT0l3SWu"
      },
      "source": [
        "## 8. Write a function that returns the mode of a list, i.e.: the element that appears the most times.\n",
        "`NOTE: You should not use count... 🧐`"
      ]
    },
    {
      "cell_type": "code",
      "execution_count": 37,
      "metadata": {
        "id": "svPJ4nkJ3SWv"
      },
      "outputs": [],
      "source": [
        "def mode_counter(arr):\n",
        "    # Dictionary to store the frequency of each number\n",
        "    count = {}\n",
        "\n",
        "    # Count occurrences of each number in the list\n",
        "    for num in arr:\n",
        "        if num in count:\n",
        "            count[num] += 1  # Increment count if number is already in dictionary\n",
        "        else:\n",
        "            count[num] = 1  # Initialize count if number is not in dictionary\n",
        "\n",
        "    # Variable to track the highest frequency\n",
        "    max = 0\n",
        "\n",
        "    # Iterate through the dictionary to find the mode\n",
        "    for key, value in count.items():\n",
        "        if value > max:\n",
        "            max = value\n",
        "            mode = key\n",
        "\n",
        "    return mode\n",
        "\n",
        ""
      ]
    },
    {
      "cell_type": "code",
      "execution_count": 38,
      "metadata": {
        "id": "7l5WkMJp3SWv",
        "colab": {
          "base_uri": "https://localhost:8080/"
        },
        "outputId": "3b89b5d8-53c2-44d4-99aa-ec7a4ef31f00"
      },
      "outputs": [
        {
          "output_type": "stream",
          "name": "stderr",
          "text": [
            "....................................................................................................\n",
            "----------------------------------------------------------------------\n",
            "Ran 100 tests in 0.124s\n",
            "\n",
            "OK\n"
          ]
        }
      ],
      "source": [
        "# This will test your function\n",
        "test_mode(mode_counter)"
      ]
    },
    {
      "cell_type": "markdown",
      "metadata": {
        "id": "MEYW7Zgq3SWv"
      },
      "source": [
        "## 9. Write a function that calculates the standard deviation of a list.\n",
        "`NOTE: Do not use any libraries or already built functions. 😉`"
      ]
    },
    {
      "cell_type": "code",
      "execution_count": 45,
      "metadata": {
        "id": "TNU3CRi23SWv"
      },
      "outputs": [],
      "source": [
        "def st_dev(lst):\n",
        "\n",
        "    # Step 1: Calculate the mean (average)\n",
        "\n",
        "    total = 0\n",
        "    count = 0\n",
        "\n",
        "    for num in lst:\n",
        "        total += num\n",
        "        count += 1\n",
        "\n",
        "    mean = total / count\n",
        "\n",
        "    # Step 2: Calculate the sum of squared differences from the mean\n",
        "\n",
        "    squared_diff_sum = 0\n",
        "\n",
        "    for num in lst:\n",
        "        squared_diff_sum += (num - mean) ** 2  # Squaring manually\n",
        "\n",
        "    # Step 3: Compute variance and standard deviation\n",
        "    variance = 0\n",
        "    if count > 1:\n",
        "        variance = squared_diff_sum / (count - 1)  # Sample variance (divide by N-1)\n",
        "    else:\n",
        "        variance = 0  # If only one element, standard deviation is 0\n",
        "\n",
        "    std_dev = variance ** 0.5\n",
        "\n",
        "    return std_dev\n",
        "\n",
        "\n",
        "\n"
      ]
    },
    {
      "cell_type": "code",
      "execution_count": 46,
      "metadata": {
        "id": "hULah6M03SWv",
        "colab": {
          "base_uri": "https://localhost:8080/"
        },
        "outputId": "651058b9-00a0-42fe-cc51-0092e0e2d2af"
      },
      "outputs": [
        {
          "output_type": "stream",
          "name": "stderr",
          "text": [
            "....................................................................................................\n",
            "----------------------------------------------------------------------\n",
            "Ran 100 tests in 0.148s\n",
            "\n",
            "OK\n"
          ]
        }
      ],
      "source": [
        "# This will test your function\n",
        "test_stdev(st_dev)"
      ]
    },
    {
      "cell_type": "markdown",
      "metadata": {
        "id": "Rz11s-8A3SWv"
      },
      "source": [
        "## 10. Write a function to check if a string is a pangram, i.e.: if it contains all the letters of the alphabet at least once. Mind that the strings may contain characters that are not letters."
      ]
    },
    {
      "cell_type": "code",
      "execution_count": 54,
      "metadata": {
        "id": "Orlme6q73SWw"
      },
      "outputs": [],
      "source": [
        "def pangram(string):\n",
        "  #your code here\n",
        "  alphabet = \"abcdefghijklmnopqrstuvwxyz\"\n",
        "\n",
        "  # Check if each letter in the alphabet is present in the input string\n",
        "  for char in alphabet:\n",
        "      if char not in  string.lower():\n",
        "          return False\n",
        "\n",
        "  return True"
      ]
    },
    {
      "cell_type": "code",
      "execution_count": 55,
      "metadata": {
        "id": "PmyCI0WH3SWw",
        "colab": {
          "base_uri": "https://localhost:8080/"
        },
        "outputId": "58a35797-c6a3-4e7e-8281-51474a6ceae0"
      },
      "outputs": [
        {
          "output_type": "stream",
          "name": "stderr",
          "text": [
            "..............................\n",
            "----------------------------------------------------------------------\n",
            "Ran 30 tests in 0.043s\n",
            "\n",
            "OK\n"
          ]
        }
      ],
      "source": [
        "# This will test your function\n",
        "test_pangram(pangram)"
      ]
    },
    {
      "cell_type": "markdown",
      "metadata": {
        "id": "m44UveT23SWw"
      },
      "source": [
        "## 11. Write a function that receives a string of comma separated words and returns a string of comma separated words sorted alphabetically.\n",
        "\n",
        "`NOTE: You may use sorted but not split and definitely no join! 🤪`"
      ]
    },
    {
      "cell_type": "code",
      "execution_count": 88,
      "metadata": {
        "id": "8HaJaKa_3SWw"
      },
      "outputs": [],
      "source": [
        "def sort_alpha(string):\n",
        "  #your code here\n",
        "    words = []\n",
        "    word = \"\"\n",
        "\n",
        "    # Step 1:  split the words based on commas\n",
        "    for char in string:\n",
        "        if char == \",\":  # Found a separator\n",
        "            words.append(word)  # Store the word\n",
        "            word = \"\"  # Reset for next word\n",
        "        else:\n",
        "            word += char  # Build the word\n",
        "\n",
        "    words.append(word)  # Add the last word\n",
        "\n",
        "    # Step 2:  sort using  Selection Sort\n",
        "    n = 0\n",
        "    for word in words:\n",
        "        n += 1\n",
        "\n",
        "    for i in range(n):\n",
        "        min_index = i\n",
        "        for j in range(i + 1, n):\n",
        "            if words[j] < words[min_index]:  # Find the smallest word\n",
        "                min_index = j\n",
        "        words[i], words[min_index] = words[min_index], words[i]  # Swap\n",
        "\n",
        "    # Step 3:  join words back into a string\n",
        "    result = \"\"\n",
        "    for i in range(n):\n",
        "        result += words[i]\n",
        "        if i != n - 1:  # Add comma except for the last word\n",
        "            result += \",\"\n",
        "\n",
        "    return result"
      ]
    },
    {
      "cell_type": "code",
      "execution_count": 89,
      "metadata": {
        "id": "e-vsatn53SWw",
        "colab": {
          "base_uri": "https://localhost:8080/"
        },
        "outputId": "4cfbd987-3978-4288-baa1-3cb829e413f8"
      },
      "outputs": [
        {
          "output_type": "stream",
          "name": "stderr",
          "text": [
            "....................................................................................................\n",
            "----------------------------------------------------------------------\n",
            "Ran 100 tests in 0.142s\n",
            "\n",
            "OK\n"
          ]
        }
      ],
      "source": [
        "# This will test your function\n",
        "test_alpha(sort_alpha)"
      ]
    },
    {
      "cell_type": "markdown",
      "metadata": {
        "id": "D2DJPm4u3SWw"
      },
      "source": [
        "## 12. Write a function to check if a given password is strong (at least 8 characters, at least one lower case, at least one upper case, at least one number and at least one special character). It should output True if strong and False if not."
      ]
    },
    {
      "cell_type": "code",
      "execution_count": 76,
      "metadata": {
        "id": "WvCwxX7h3SWy"
      },
      "outputs": [],
      "source": [
        "def check_pass(password):\n",
        "    lower = False\n",
        "    upper = False\n",
        "    number = False\n",
        "    special = False\n",
        "\n",
        "    len_password = 0\n",
        "    for i in password:\n",
        "        len_password += 1\n",
        "\n",
        "    for char in password:\n",
        "        if char in \"abcdefghijklmnopqrstuvwxyz\":\n",
        "            lower = True\n",
        "        elif char in \"ABCDEFGHIJKLMNOPQRSTUVWXYZ\":\n",
        "            upper = True\n",
        "        elif char in \"0123456789\":\n",
        "            number = True\n",
        "        elif char in \"@#$%&*?!^()+=-_\":\n",
        "            special = True\n",
        "\n",
        "    if len_password >= 8 and lower and upper and number and special:\n",
        "        return True\n",
        "    return False\n",
        "\n",
        ""
      ]
    },
    {
      "cell_type": "code",
      "execution_count": 77,
      "metadata": {
        "id": "8hxi2R8S3SWy",
        "colab": {
          "base_uri": "https://localhost:8080/"
        },
        "outputId": "b4cbe6b3-f448-44c9-a1e3-ed79cb8d0d71"
      },
      "outputs": [
        {
          "output_type": "stream",
          "name": "stderr",
          "text": [
            "....................................................................................................\n",
            "----------------------------------------------------------------------\n",
            "Ran 100 tests in 0.146s\n",
            "\n",
            "OK\n"
          ]
        }
      ],
      "source": [
        "# This will test your function\n",
        "test_pass(check_pass)"
      ]
    },
    {
      "cell_type": "code",
      "source": [],
      "metadata": {
        "id": "cph_l9cXB5xw"
      },
      "execution_count": null,
      "outputs": []
    }
  ],
  "metadata": {
    "kernelspec": {
      "display_name": "Python 3 (ipykernel)",
      "language": "python",
      "name": "python3"
    },
    "language_info": {
      "codemirror_mode": {
        "name": "ipython",
        "version": 3
      },
      "file_extension": ".py",
      "mimetype": "text/x-python",
      "name": "python",
      "nbconvert_exporter": "python",
      "pygments_lexer": "ipython3",
      "version": "3.9.13"
    },
    "vscode": {
      "interpreter": {
        "hash": "aee8b7b246df8f9039afb4144a1f6fd8d2ca17a180786b69acc140d282b71a49"
      }
    },
    "colab": {
      "provenance": []
    }
  },
  "nbformat": 4,
  "nbformat_minor": 0
}