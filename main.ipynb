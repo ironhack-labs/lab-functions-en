{
 "cells": [
  {
   "cell_type": "markdown",
   "metadata": {},
   "source": [
    "# Functions"
   ]
  },
  {
   "cell_type": "markdown",
   "metadata": {},
   "source": [
    "On this lab we will put to practice some of the concepts we have learned on this past few days.\n",
    "\n",
    "`NOTE: On this lab you should try to write all the functions yourself using only the most basic of python syntax and without functions such as len, count, sum, max, min, in, etc. Give it a try. 🧑🏻‍💻👩🏻‍💻`\n",
    "\n",
    "The cell after each exercise contains a few tests to check if your function works as expected."
   ]
  },
  {
   "cell_type": "code",
   "execution_count": 51,
   "metadata": {},
   "outputs": [],
   "source": [
    "from mod.testing import *\n",
    "import unittest"
   ]
  },
  {
   "cell_type": "markdown",
   "metadata": {},
   "source": [
    "## 1. Write a function that returns the greater of two numbers"
   ]
  },
  {
   "cell_type": "code",
   "execution_count": 9,
   "metadata": {},
   "outputs": [],
   "source": [
    "def greater(a, b):\n",
    "    if a > b:\n",
    "        return a\n",
    "    else:\n",
    "        return b"
   ]
  },
  {
   "cell_type": "code",
   "execution_count": 107,
   "metadata": {},
   "outputs": [],
   "source": [
    "def greater(a, b):\n",
    "    if a > b:\n",
    "        return a\n",
    "    else:\n",
    "        return b\n",
    "\n",
    "#testing\n",
    "def test_greater(greater):\n",
    "    print(greater(20, 15))   \n",
    "    print(greater(8, 12))   \n",
    "    print(greater(100, 50))  \n",
    "    print(greater(7, 9))     \n",
    "    print(greater(30, 18))   \n",
    "    print(greater(60, 35))   \n",
    "\n"
   ]
  },
  {
   "cell_type": "code",
   "execution_count": 109,
   "metadata": {},
   "outputs": [
    {
     "name": "stdout",
     "output_type": "stream",
     "text": [
      "20\n",
      "12\n",
      "100\n",
      "9\n",
      "30\n",
      "60\n"
     ]
    }
   ],
   "source": [
    "# Testing function \n",
    "test_greater(greater)"
   ]
  },
  {
   "cell_type": "markdown",
   "metadata": {},
   "source": [
    "## 2. Now write a function that returns the largest element on a list"
   ]
  },
  {
   "cell_type": "code",
   "execution_count": 113,
   "metadata": {},
   "outputs": [],
   "source": [
    "def greatest(lst):\n",
    "    largest = lst[0]  \n",
    "    for x in lst:\n",
    "        if x > largest:\n",
    "            largest = x\n",
    "    return largest\n",
    "\n",
    "#testing\n",
    "def test_greatest(greatest):\n",
    "    print(greatest([1, 3, 2, 8, 4]))  \n",
    "    print(greatest([15, 22, 8, 10]))  \n",
    "    print(greatest([100, 50, 30, 200]))  \n",
    "    print(greatest([3, 6, 9, 4, 12]))  \n",
    "    print(greatest([19, 24, 11, 35, 8]))  \n",
    "    print(greatest([0, -5, -10, -1]))  \n",
    "    print(greatest([1024, 512, 256, 128]))  \n",
    "    \n"
   ]
  },
  {
   "cell_type": "code",
   "execution_count": 115,
   "metadata": {},
   "outputs": [
    {
     "name": "stdout",
     "output_type": "stream",
     "text": [
      "8\n",
      "22\n",
      "200\n",
      "12\n",
      "35\n",
      "0\n",
      "1024\n"
     ]
    }
   ],
   "source": [
    "# Testing function \n",
    "test_greatest(greatest)"
   ]
  },
  {
   "cell_type": "markdown",
   "metadata": {},
   "source": [
    "## 3. Write a function that sums all the elements on a list"
   ]
  },
  {
   "cell_type": "code",
   "execution_count": 117,
   "metadata": {},
   "outputs": [],
   "source": [
    "def sum_all(lst):\n",
    "    total = 0  \n",
    "    for num in lst:\n",
    "        total += num  \n",
    "    return total\n",
    "\n",
    "#test\n",
    "def test_sum(sum_all):\n",
    "    print(sum_all([10, 20, 30])) \n",
    "    print(sum_all([7, 3, 1, 9]))  \n",
    "    print(sum_all([1, 1, 1, 1]))  \n",
    "    print(sum_all([15, -25, 35]))  \n",
    "    print(sum_all([-15, 9, -3]))  \n",
    "    \n"
   ]
  },
  {
   "cell_type": "code",
   "execution_count": 119,
   "metadata": {
    "scrolled": true
   },
   "outputs": [
    {
     "name": "stdout",
     "output_type": "stream",
     "text": [
      "60\n",
      "20\n",
      "4\n",
      "25\n",
      "-9\n"
     ]
    }
   ],
   "source": [
    "# Testing function \n",
    "test_sum(sum_all)"
   ]
  },
  {
   "cell_type": "markdown",
   "metadata": {},
   "source": [
    "## 4. Write another function that multiplies all the elements on a list"
   ]
  },
  {
   "cell_type": "code",
   "execution_count": 121,
   "metadata": {},
   "outputs": [],
   "source": [
    "def mult_all(lst):\n",
    "    result = 1  # Start with 1 because multiplying by 1 doesn't change the value\n",
    "    for num in lst:\n",
    "        result *= num  # Multiply each element by the result\n",
    "    return result\n",
    "\n",
    "# This will test your function\n",
    "def test_mult(mult_all):\n",
    "    print(mult_all([1, 2, 3, 4]))  \n",
    "    print(mult_all([2, 3, 5]))     \n",
    "    print(mult_all([7, 3, 1]))     \n",
    "    print(mult_all([5, 0, 10]))    \n",
    "    print(mult_all([3, 5, 2]))           \n",
    "    print(mult_all([-1, 2, -3]))   \n",
    "\n"
   ]
  },
  {
   "cell_type": "code",
   "execution_count": 123,
   "metadata": {},
   "outputs": [
    {
     "name": "stdout",
     "output_type": "stream",
     "text": [
      "24\n",
      "30\n",
      "21\n",
      "0\n",
      "30\n",
      "6\n"
     ]
    }
   ],
   "source": [
    "# Testing function \n",
    "test_mult(mult_all)"
   ]
  },
  {
   "cell_type": "markdown",
   "metadata": {},
   "source": [
    "## 5. Now combine those two ideas and write a function that receives a list and either \"+\" or \"*\" and outputs acordingly"
   ]
  },
  {
   "cell_type": "code",
   "execution_count": 125,
   "metadata": {},
   "outputs": [],
   "source": [
    "def oper_all(list1, oper=\"*\"):\n",
    "    if oper == \"+\":\n",
    "        total = 0  \n",
    "        for num in list1:\n",
    "            total += num  \n",
    "        return total\n",
    "    elif oper == \"*\":\n",
    "        result = 1  \n",
    "        for num in list1:\n",
    "            result *= num  \n",
    "        return result\n",
    "    else:\n",
    "        return \"Invalid operation\"  \n",
    "\n",
    "#testing\n",
    "def test_operations(oper_all):\n",
    "    print(oper_all([17, 2, 32, 4], \"+\"))  \n",
    "    print(oper_all([2, 3, 5], \"*\"))     \n",
    "    print(oper_all([7, 43, 1], \"+\"))     \n",
    "    print(oper_all([5, 0, 10], \"*\"))    \n",
    "    print(oper_all([73, 5, 2], \"-\"))                \n",
    "    print(oper_all([1, 2, 23], \"*\"))     \n",
    "    print(oper_all([1, 2, 3], \"-\"))     \n",
    "\n"
   ]
  },
  {
   "cell_type": "code",
   "execution_count": 127,
   "metadata": {},
   "outputs": [
    {
     "name": "stdout",
     "output_type": "stream",
     "text": [
      "55\n",
      "30\n",
      "51\n",
      "0\n",
      "Invalid operation\n",
      "46\n",
      "Invalid operation\n"
     ]
    }
   ],
   "source": [
    "# Testing function \n",
    "test_operations(oper_all)"
   ]
  },
  {
   "cell_type": "markdown",
   "metadata": {},
   "source": [
    "## 6. Write a function that returns the factorial of a number."
   ]
  },
  {
   "cell_type": "code",
   "execution_count": 129,
   "metadata": {},
   "outputs": [],
   "source": [
    "def factorial(n):\n",
    "    result = 1 \n",
    "    for x in range(1, n + 1):  \n",
    "        result *= x  \n",
    "    return result  \n",
    "\n",
    "# testing\n",
    "def test_factorial(factorial):\n",
    "    print(factorial(45))  \n",
    "    print(factorial(12))  \n",
    "    print(factorial(7))  \n",
    "    print(factorial(25))  \n",
    "    print(factorial(0))  \n",
    "\n"
   ]
  },
  {
   "cell_type": "code",
   "execution_count": 131,
   "metadata": {},
   "outputs": [
    {
     "name": "stdout",
     "output_type": "stream",
     "text": [
      "119622220865480194561963161495657715064383733760000000000\n",
      "479001600\n",
      "5040\n",
      "15511210043330985984000000\n",
      "1\n"
     ]
    }
   ],
   "source": [
    "# Testing function \n",
    "test_factorial(factorial)"
   ]
  },
  {
   "cell_type": "markdown",
   "metadata": {},
   "source": [
    "## 7. Write a function that takes a list and returns a list of the unique values.\n",
    "\n",
    "`NOTE: You cannot use set. 🤔`"
   ]
  },
  {
   "cell_type": "code",
   "execution_count": 137,
   "metadata": {},
   "outputs": [],
   "source": [
    "def unique(lst_un):\n",
    "    unique_values = []  \n",
    "    for num in lst_un:\n",
    "        if num not in unique_values:  \n",
    "            unique_values.append(num)  \n",
    "    return unique_values \n",
    "\n",
    "# testing\n",
    "def test_unique(unique):\n",
    "    print(unique([1, 2, 3, 2, 4, 5]))   \n",
    "    print(unique([7, 8, 8, 7, 10]))    \n",
    "    print(unique([1, 1, 1, 1]))         \n",
    "    print(unique([3, 5, 7, 7, 8, 9]))   \n",
    "    print(unique([0, 0, 0, 0]))         \n"
   ]
  },
  {
   "cell_type": "code",
   "execution_count": 139,
   "metadata": {},
   "outputs": [
    {
     "name": "stdout",
     "output_type": "stream",
     "text": [
      "[1, 2, 3, 4, 5]\n",
      "[7, 8, 10]\n",
      "[1]\n",
      "[3, 5, 7, 8, 9]\n",
      "[0]\n"
     ]
    }
   ],
   "source": [
    "## Testing function \n",
    "test_unique(unique)"
   ]
  },
  {
   "cell_type": "markdown",
   "metadata": {},
   "source": [
    "## 8. Write a function that returns the mode of a list, i.e.: the element that appears the most times.\n",
    "`NOTE: You should not use count... 🧐`"
   ]
  },
  {
   "cell_type": "code",
   "execution_count": 145,
   "metadata": {},
   "outputs": [],
   "source": [
    "def mode_counter(arr):\n",
    "    frequency = {}  \n",
    "    \n",
    "    for num in arr:\n",
    "        if num in frequency:\n",
    "            frequency[num] += 1 \n",
    "        else:\n",
    "            frequency[num] = 1  \n",
    "    \n",
    "    mode = None\n",
    "    max_count = 0\n",
    "    for num, count in frequency.items():\n",
    "        if count > max_count:\n",
    "            mode = num  \n",
    "            max_count = count  \n",
    "    \n",
    "    return mode  \n",
    "\n",
    "# testing\n",
    "def test_mode(mode_counter):\n",
    "    print(mode_counter([1, 2, 3, 2, 4, 5]))  \n",
    "    print(mode_counter([7, 8, 8, 7, 10]))    \n",
    "    print(mode_counter([1, 1, 1, 1]))        \n",
    "    print(mode_counter([3, 5, 7, 7, 8, 9]))  \n",
    "    print(mode_counter([0, 0, 0, 0]))        \n",
    "    print(mode_counter([9, 10, 11, 9, 10, 9])) \n",
    "\n"
   ]
  },
  {
   "cell_type": "code",
   "execution_count": 149,
   "metadata": {},
   "outputs": [
    {
     "name": "stdout",
     "output_type": "stream",
     "text": [
      "2\n",
      "7\n",
      "1\n",
      "7\n",
      "0\n",
      "9\n"
     ]
    }
   ],
   "source": [
    "#Testing function \n",
    "test_mode(mode_counter)"
   ]
  },
  {
   "cell_type": "markdown",
   "metadata": {},
   "source": [
    "## 9. Write a function that calculates the standard deviation of a list.\n",
    "`NOTE: Do not use any libraries or already built functions. 😉`"
   ]
  },
  {
   "cell_type": "code",
   "execution_count": 155,
   "metadata": {},
   "outputs": [],
   "source": [
    "def st_dev(list_sd):\n",
    "    \n",
    "    # 1. Calculate the mean\n",
    "    total = 0\n",
    "    for num in list_sd:\n",
    "        total += num\n",
    "    mean = total / len(list_sd)  \n",
    "\n",
    "    # 2. Calculate the variance \n",
    "    variance = 0\n",
    "    for num in list_sd:\n",
    "        variance += (num - mean) ** 2 \n",
    "    variance /= len(list_sd)  \n",
    "\n",
    "    # 3. Return the square root of the variance (standard deviation)\n",
    "    return variance ** 0.5  \n",
    "\n",
    "# testing\n",
    "def test_stdev(st_dev):\n",
    "    print(st_dev([1, 2, 3, 4, 5]))  \n",
    "    print(st_dev([5, 5, 5, 5]))    \n",
    "    print(st_dev([2, 4, 6, 8]))     \n",
    "    print(st_dev([1, 1, 1, 1, 1])) \n",
    "    print(st_dev([7, 8, 9, 10]))    \n"
   ]
  },
  {
   "cell_type": "code",
   "execution_count": 157,
   "metadata": {},
   "outputs": [
    {
     "name": "stdout",
     "output_type": "stream",
     "text": [
      "1.4142135623730951\n",
      "0.0\n",
      "2.23606797749979\n",
      "0.0\n",
      "1.118033988749895\n"
     ]
    }
   ],
   "source": [
    "#Testing function \n",
    "test_stdev(st_dev)"
   ]
  },
  {
   "cell_type": "markdown",
   "metadata": {},
   "source": [
    "## 10. Write a function to check if a string is a pangram, i.e.: if it contains all the letters of the alphabet at least once. Mind that the strings may contain characters that are not letters."
   ]
  },
  {
   "cell_type": "code",
   "execution_count": 175,
   "metadata": {},
   "outputs": [],
   "source": [
    "def pangram(string):\n",
    "    \n",
    "    alphabet = \"abcdefghijklmnopqrstuvwxyz\"\n",
    "    string = \"\".join([char.lower() for char in string if char.isalpha()]) \n",
    "    \n",
    "    for letter in alphabet:\n",
    "        if letter not in string:\n",
    "            return False  \n",
    "    \n",
    "    return True  \n",
    "\n",
    "# testing\n",
    "def test_pangram(pangram):\n",
    "    print(pangram(\"Hello\"))  \n",
    "    print(pangram(\"my name is Deema\")) \n",
    "    print(pangram(\"i want to adopt a whale\")) \n",
    "    print(pangram(\"I love baking and painting\")) \n",
    "    print(pangram(\"abcdefghijklmnopqrstuvwxyz\"))"
   ]
  },
  {
   "cell_type": "code",
   "execution_count": 177,
   "metadata": {},
   "outputs": [
    {
     "name": "stdout",
     "output_type": "stream",
     "text": [
      "False\n",
      "False\n",
      "False\n",
      "False\n",
      "True\n"
     ]
    }
   ],
   "source": [
    "#Testing function \n",
    "test_pangram(pangram)"
   ]
  },
  {
   "cell_type": "markdown",
   "metadata": {},
   "source": [
    "## 11. Write a function that receives a string of comma separated words and returns a string of comma separated words sorted alphabetically.\n",
    "\n",
    "`NOTE: You may use sorted but not split and definitely no join! 🤪`"
   ]
  },
  {
   "cell_type": "code",
   "execution_count": 195,
   "metadata": {},
   "outputs": [],
   "source": [
    "def sort_alpha(string):\n",
    "    # Step 1: split the string into words (no split or join)\n",
    "    words = []\n",
    "    current_word = \"\"\n",
    "    for char in string:\n",
    "        if char == \",\":\n",
    "            words.append(current_word)  \n",
    "            current_word = \"\" \n",
    "        else:\n",
    "            current_word += char  \n",
    "    \n",
    "    words.append(current_word)\n",
    "    \n",
    "    # Step 2: Sort the words alphabetically\n",
    "    sorted_words = sorted(words)\n",
    "    \n",
    "    # Step 3:  rebuild the sorted string\n",
    "    result = \"\"\n",
    "    for i, word in enumerate(sorted_words):\n",
    "        if i == len(sorted_words) - 1:  \n",
    "            result += word\n",
    "        else:\n",
    "            result += word + \",\"  \n",
    "    \n",
    "    return result \n",
    "    \n",
    "# testing\n",
    "def test_alpha(sort_alpha):\n",
    "    print(sort_alpha(\"banana,apple,orange,grape\"))  \n",
    "    print(sort_alpha(\"dog,cat,elephant,zebra\"))      \n",
    "    print(sort_alpha(\"a,b,c,d,e,f\"))                \n",
    "    print(sort_alpha(\"peach,apple,grape,pear\"))      \n",
    "    print(sort_alpha(\"kiwi,mango,pineapple,pear\"))\n",
    "      \n"
   ]
  },
  {
   "cell_type": "code",
   "execution_count": 199,
   "metadata": {},
   "outputs": [
    {
     "name": "stdout",
     "output_type": "stream",
     "text": [
      "apple,banana,grape,orange\n",
      "cat,dog,elephant,zebra\n",
      "a,b,c,d,e,f\n",
      "apple,grape,peach,pear\n",
      "kiwi,mango,pear,pineapple\n"
     ]
    }
   ],
   "source": [
    "#Testing function \n",
    "test_alpha(sort_alpha)"
   ]
  },
  {
   "cell_type": "markdown",
   "metadata": {},
   "source": [
    "## 12. Write a function to check if a given password is strong (at least 8 characters, at least one lower case, at least one upper case, at least one number and at least one special character). It should output True if strong and False if not."
   ]
  },
  {
   "cell_type": "code",
   "execution_count": 221,
   "metadata": {},
   "outputs": [],
   "source": [
    "def check_pass(password):\n",
    "    # 1. Check length\n",
    "    if len(password) < 8:\n",
    "        return False\n",
    "    \n",
    "    # Initialize flags\n",
    "    has_lower = False\n",
    "    has_upper = False\n",
    "    has_digit = False\n",
    "    has_special = False\n",
    "    \n",
    "    special_characters = \"!@#$%^&*(),.?\\\":{}|<>\"\n",
    "\n",
    "    # 2. Check each character in password\n",
    "    for char in password:\n",
    "        if char.islower():\n",
    "            has_lower = True\n",
    "        elif char.isupper():\n",
    "            has_upper = True\n",
    "        elif char.isdigit():\n",
    "            has_digit = True\n",
    "        elif char in special_characters:\n",
    "            has_special = True\n",
    "\n",
    "    return has_lower and has_upper and has_digit and has_special\n",
    "\n",
    "# testing\n",
    "def test_pass(check_pass):\n",
    "    print(check_pass(\"Deema12345&\"))  \n",
    "    print(check_pass(\"d1e2e3m4a5\"))        \n",
    "    print(check_pass(\"HELLO!\"))         \n",
    "    print(check_pass(\"12345D\"))           \n"
   ]
  },
  {
   "cell_type": "code",
   "execution_count": 223,
   "metadata": {},
   "outputs": [
    {
     "name": "stdout",
     "output_type": "stream",
     "text": [
      "True\n",
      "False\n",
      "False\n",
      "False\n"
     ]
    }
   ],
   "source": [
    "#Testing function \n",
    "test_pass(check_pass)"
   ]
  },
  {
   "cell_type": "code",
   "execution_count": null,
   "metadata": {},
   "outputs": [],
   "source": []
  }
 ],
 "metadata": {
  "kernelspec": {
   "display_name": "Python 3 (ipykernel)",
   "language": "python",
   "name": "python3"
  },
  "language_info": {
   "codemirror_mode": {
    "name": "ipython",
    "version": 3
   },
   "file_extension": ".py",
   "mimetype": "text/x-python",
   "name": "python",
   "nbconvert_exporter": "python",
   "pygments_lexer": "ipython3",
   "version": "3.12.7"
  },
  "vscode": {
   "interpreter": {
    "hash": "aee8b7b246df8f9039afb4144a1f6fd8d2ca17a180786b69acc140d282b71a49"
   }
  }
 },
 "nbformat": 4,
 "nbformat_minor": 4
}
