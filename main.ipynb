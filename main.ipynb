{
 "cells": [
  {
   "cell_type": "markdown",
   "metadata": {},
   "source": [
    "# Functions"
   ]
  },
  {
   "cell_type": "markdown",
   "metadata": {},
   "source": [
    "On this lab we will put to practice some of the concepts we have learned on this past few days.\n",
    "\n",
    "`NOTE: On this lab you should try to write all the functions yourself using only the most basic of python syntax and without functions such as len, count, sum, max, min, in, etc. Give it a try. 🧑🏻‍💻👩🏻‍💻`\n",
    "\n",
    "The cell after each exercise contains a few tests to check if your function works as expected."
   ]
  },
  {
   "cell_type": "code",
   "execution_count": 6,
   "metadata": {},
   "outputs": [],
   "source": [
    "from mod.testing import *\n",
    "import unittest"
   ]
  },
  {
   "cell_type": "markdown",
   "metadata": {},
   "source": [
    "## 1. Write a function that returns the greater of two numbers"
   ]
  },
  {
   "cell_type": "code",
   "execution_count": null,
   "metadata": {},
   "outputs": [],
   "source": [
    "def greater (a, b): \n",
    " return a if a > b  else b\n",
    " print(greater(17, 5))\n",
    "\n",
    "\n"
   ]
  },
  {
   "cell_type": "code",
   "execution_count": 55,
   "metadata": {},
   "outputs": [
    {
     "name": "stdout",
     "output_type": "stream",
     "text": [
      "17\n"
     ]
    }
   ],
   "source": [
    "# This will test your function \n",
    "print(greater(17, 5)) \n"
   ]
  },
  {
   "cell_type": "code",
   "execution_count": 10,
   "metadata": {},
   "outputs": [
    {
     "name": "stdout",
     "output_type": "stream",
     "text": [
      "17\n",
      "5\n"
     ]
    }
   ],
   "source": [
    "#your code here\n",
    "def greater(a, b):\n",
    "    '''\n",
    "    Input: Two numbers (a and b)\n",
    "    Output: The greater of the two numbers\n",
    "    \n",
    "    Example:\n",
    "    Input: 17, 5\n",
    "    Output: 17\n",
    "    '''\n",
    "    return a if a > b else b\n",
    "\n",
    "\n",
    "print(greater(17, 5))  \n",
    "print(greater(5, 3)) "
   ]
  },
  {
   "cell_type": "markdown",
   "metadata": {},
   "source": [
    "## 2. Now write a function that returns the largest element on a list"
   ]
  },
  {
   "cell_type": "code",
   "execution_count": 60,
   "metadata": {},
   "outputs": [],
   "source": [
    "#your code here\n",
    "def largest_element(lst):\n",
    "    if not lst:  # Check if the list is empty\n",
    "        return None  # Return None if the list is empty\n",
    "    largest = lst[0]  # Assume the first element is the largest\n",
    "    for element in lst:\n",
    "        if element > largest:\n",
    "            largest = element\n",
    "    return largest"
   ]
  },
  {
   "cell_type": "code",
   "execution_count": 109,
   "metadata": {},
   "outputs": [
    {
     "name": "stdout",
     "output_type": "stream",
     "text": [
      "15\n"
     ]
    }
   ],
   "source": [
    " \n",
    "numbers = [3, 5, 15, 8, 2]\n",
    "result = largest_element(numbers)\n",
    "print(result) "
   ]
  },
  {
   "cell_type": "markdown",
   "metadata": {},
   "source": [
    "## 3. Write a function that sums all the elements on a list"
   ]
  },
  {
   "cell_type": "code",
   "execution_count": null,
   "metadata": {},
   "outputs": [],
   "source": [
    "def sum_all(lst):\n",
    "#your code here\n",
    "    total = 0 \n",
    "  for element in lst:\n",
    "        total += element  \n",
    "    return total  "
   ]
  },
  {
   "cell_type": "code",
   "execution_count": 108,
   "metadata": {
    "scrolled": true
   },
   "outputs": [
    {
     "name": "stdout",
     "output_type": "stream",
     "text": [
      "15\n"
     ]
    }
   ],
   "source": [
    " \n",
    "numbers = [1, 2, 3, 4, 5]\n",
    "result = sum_all(numbers)\n",
    "print(result)"
   ]
  },
  {
   "cell_type": "markdown",
   "metadata": {},
   "source": [
    "## 4. Write another function that multiplies all the elements on a list"
   ]
  },
  {
   "cell_type": "code",
   "execution_count": 93,
   "metadata": {},
   "outputs": [],
   "source": [
    "def mult_all(lst):\n",
    "    if not lst: \n",
    "        return 1 \n",
    "    product = 1 \n",
    "    for element in lst:\n",
    "        product *= element  \n",
    "    return product  "
   ]
  },
  {
   "cell_type": "code",
   "execution_count": 107,
   "metadata": {
    "scrolled": true
   },
   "outputs": [
    {
     "name": "stdout",
     "output_type": "stream",
     "text": [
      "120\n"
     ]
    }
   ],
   "source": [
    "\n",
    "numbers = [1, 2, 3, 4, 5]\n",
    "result = mult_all(numbers)\n",
    "print(result) "
   ]
  },
  {
   "cell_type": "markdown",
   "metadata": {},
   "source": [
    "## 5. Now combine those two ideas and write a function that receives a list and either \"+\" or \"*\" and outputs acordingly"
   ]
  },
  {
   "cell_type": "code",
   "execution_count": 98,
   "metadata": {},
   "outputs": [],
   "source": [
    "#your code here\n",
    "def oper_all(arr, oper=\"*\"):\n",
    "    if oper == \"+\":\n",
    "        total = 0  \n",
    "        for element in arr:\n",
    "            total += element \n",
    "        return total \n",
    "    elif oper == \"*\":\n",
    "        if not arr: \n",
    "            return 1 \n",
    "        product = 1  \n",
    "        for element in arr:\n",
    "            product *= element \n",
    "        return product  \n",
    "    else:\n",
    "        raise ValueError(\"Invalid operation. Use '+' or '*'.\")"
   ]
  },
  {
   "cell_type": "code",
   "execution_count": null,
   "metadata": {},
   "outputs": [
    {
     "name": "stdout",
     "output_type": "stream",
     "text": [
      "15\n",
      "120\n"
     ]
    }
   ],
   "source": [
    "\n",
    "numbers = [1, 2, 3, 4, 5]\n",
    "\n",
    "sum_result = oper_all(numbers, \"+\")\n",
    "print(sum_result)\n",
    "product_result = oper_all(numbers)\n",
    "print(product_result)"
   ]
  },
  {
   "cell_type": "markdown",
   "metadata": {},
   "source": [
    "## 6. Write a function that returns the factorial of a number."
   ]
  },
  {
   "cell_type": "code",
   "execution_count": 106,
   "metadata": {},
   "outputs": [],
   "source": [
    "\n",
    "def factorial(n):\n",
    "    if n < 0:\n",
    "        raise ValueError(\"Factorial is not defined for negative numbers.\")\n",
    "    elif n == 0 or n == 1:\n",
    "        return 1 \n",
    "    else:\n",
    "        result = 1\n",
    "        for i in range(2, n + 1):\n",
    "            result *= i \n",
    "        return result"
   ]
  },
  {
   "cell_type": "code",
   "execution_count": null,
   "metadata": {},
   "outputs": [],
   "source": [
    "#factorial formula\n",
    "#n! = n * ( n - 1 ) *...*1\n",
    "\n",
    "# This code defines a function called \"factorial\" which takes an input \"n\". The function uses a for loop to iterate through the range of numbers \n",
    "# from 1 to n+1. For each number in that range, it multiplies the current value of x by the number in the range. At the end of the loop, \n",
    "# the function returns the final value of x, which will be the factorial of the input number \"n\".\n",
    "\n",
    "# The Factorial of a positive integer n is the product of all positive integers less than or equal to n. \n",
    "# For example, the factorial of 6 (written \"6!\") is 6 * 5 * 4 * 3 * 2 * 1 = 720.\n",
    "\n",
    "# So this function takes an input of any positive integer, and returns the factorial of that number."
   ]
  },
  {
   "cell_type": "code",
   "execution_count": 102,
   "metadata": {},
   "outputs": [
    {
     "name": "stdout",
     "output_type": "stream",
     "text": [
      "120\n",
      "720\n"
     ]
    }
   ],
   "source": [
    "print(factorial(5)) \n",
    "print(factorial(6))"
   ]
  },
  {
   "cell_type": "markdown",
   "metadata": {},
   "source": [
    "## 7. Write a function that takes a list and returns a list of the unique values.\n",
    "\n",
    "`NOTE: You cannot use set. 🤔`"
   ]
  },
  {
   "cell_type": "code",
   "execution_count": 105,
   "metadata": {},
   "outputs": [],
   "source": [
    "\n",
    "def unique(lst_un):\n",
    "    return list(set(lst_un))"
   ]
  },
  {
   "cell_type": "code",
   "execution_count": null,
   "metadata": {},
   "outputs": [
    {
     "name": "stdout",
     "output_type": "stream",
     "text": [
      "[1, 2, 3, 4, 5, 6]\n"
     ]
    }
   ],
   "source": [
    "# This will test your function \n",
    "numbers = [1, 2, 2, 3, 4, 4, 5,6]\n",
    "unique_values = unique(numbers)\n",
    "print(unique_values) "
   ]
  },
  {
   "cell_type": "markdown",
   "metadata": {},
   "source": [
    "## 8. Write a function that returns the mode of a list, i.e.: the element that appears the most times.\n",
    "`NOTE: You should not use count... 🧐`"
   ]
  },
  {
   "cell_type": "code",
   "execution_count": 114,
   "metadata": {},
   "outputs": [],
   "source": [
    "def mode_counter(arr):\n",
    "    if not arr:\n",
    "        raise ValueError(\"The list is empty.\")\n",
    "    \n",
    "    frequency = {} \n",
    "    for item in arr:\n",
    "        frequency[item] = frequency.get(item, 0) + 1 \n",
    "    \n",
    "    max_count = 0\n",
    "    modes = []\n",
    "    \n",
    "    for key, value in frequency.items():\n",
    "        if value > max_count:\n",
    "            max_count = value\n",
    "            modes = [key]  \n",
    "        elif value == max_count:\n",
    "            modes.append(key) \n",
    "    \n",
    "    if len(modes) == len(arr):\n",
    "        return None\n",
    "    return modes"
   ]
  },
  {
   "cell_type": "code",
   "execution_count": 116,
   "metadata": {},
   "outputs": [
    {
     "name": "stdout",
     "output_type": "stream",
     "text": [
      "[2, 4]\n",
      "None\n",
      "The list is empty.\n"
     ]
    }
   ],
   "source": [
    "numbers = [1, 2, 2, 3, 4, 4, 5]\n",
    "mode_result = mode_counter(numbers)\n",
    "print(mode_result)  \n",
    "\n",
    "numbers2 = [1, 2, 3, 4, 5]\n",
    "mode_result2 = mode_counter(numbers2)\n",
    "print(mode_result2) \n",
    "\n",
    "numbers3 = []\n",
    "try:\n",
    "    mode_result3 = mode_counter(numbers3)\n",
    "except ValueError as e:\n",
    "    print(e)"
   ]
  },
  {
   "cell_type": "markdown",
   "metadata": {},
   "source": [
    "## 9. Write a function that calculates the standard deviation of a list.\n",
    "`NOTE: Do not use any libraries or already built functions. 😉`"
   ]
  },
  {
   "cell_type": "code",
   "execution_count": 2,
   "metadata": {},
   "outputs": [],
   "source": [
    "def st_dev(list_sd):\n",
    "    if not list_sd:\n",
    "        raise ValueError(\"The list is empty.\")\n",
    "    \n",
    "    n = len(list_sd) \n",
    "    mean = sum(list_sd) / n  \n",
    "\n",
    "    # Calculate the variance\n",
    "    variance_sum = 0\n",
    "    for item in list_sd:\n",
    "        variance_sum += (item - mean) ** 2 \n",
    "    \n",
    "    variance = variance_sum / n \n",
    "    standard_deviation = variance ** 0.5 "
   ]
  },
  {
   "cell_type": "code",
   "execution_count": 6,
   "metadata": {},
   "outputs": [
    {
     "name": "stdout",
     "output_type": "stream",
     "text": [
      "None\n",
      "The list is empty.\n"
     ]
    }
   ],
   "source": [
    "data = [10, 12, 23, 23, 16, 23, 25, 16]\n",
    "std_dev_result = st_dev(data)\n",
    "print(std_dev_result) \n",
    "data2 = []\n",
    "try:\n",
    "    std_dev_result2 = st_dev(data2)\n",
    "except ValueError as e:\n",
    "    print(e)"
   ]
  },
  {
   "cell_type": "markdown",
   "metadata": {},
   "source": [
    "## 10. Write a function to check if a string is a pangram, i.e.: if it contains all the letters of the alphabet at least once. Mind that the strings may contain characters that are not letters."
   ]
  },
  {
   "cell_type": "code",
   "execution_count": 124,
   "metadata": {},
   "outputs": [],
   "source": [
    "\n",
    "def pangram(string):\n",
    "\n",
    "    alphabet = set(\"abcdefghijklmnopqrstuvwxyz\")\n",
    "    \n",
    "    string_set = set(string.lower())\n",
    "    \n",
    "    return alphabet.issubset(string_set)"
   ]
  },
  {
   "cell_type": "code",
   "execution_count": 127,
   "metadata": {},
   "outputs": [
    {
     "name": "stdout",
     "output_type": "stream",
     "text": [
      "True\n",
      "False\n"
     ]
    }
   ],
   "source": [
    "test_string1 = \"The quick brown fox jumps over the lazy dog.\"\n",
    "print(pangram(test_string1))\n",
    "test_string2 = \"Hello, world!\"\n",
    "print(pangram(test_string2))"
   ]
  },
  {
   "cell_type": "markdown",
   "metadata": {},
   "source": [
    "## 11. Write a function that receives a string of comma separated words and returns a string of comma separated words sorted alphabetically.\n",
    "\n",
    "`NOTE: You may use sorted but not split and definitely no join! 🤪`"
   ]
  },
  {
   "cell_type": "code",
   "execution_count": 128,
   "metadata": {},
   "outputs": [],
   "source": [
    "def sort_words(input_string):\n",
    "    \n",
    "    words = []\n",
    "    current_word = \"\"\n",
    "    \n",
    "    for char in input_string:\n",
    "        if char == ',':\n",
    "            if current_word: \n",
    "                words.append(current_word)\n",
    "                current_word = \"\" \n",
    "        else:\n",
    "            current_word += char  \n",
    "    \n",
    "    if current_word:\n",
    "        words.append(current_word)\n",
    "    \n",
    "    sorted_words = sorted(words)\n",
    "\n",
    "    result_string = \"\"\n",
    "    for index, word in enumerate(sorted_words):\n",
    "        result_string += word\n",
    "        if index < len(sorted_words) - 1: \n",
    "            result_string += \",\"\n",
    "    \n",
    "    return result_string"
   ]
  },
  {
   "cell_type": "code",
   "execution_count": 129,
   "metadata": {},
   "outputs": [
    {
     "name": "stdout",
     "output_type": "stream",
     "text": [
      "apple,banana,cherry,date\n"
     ]
    }
   ],
   "source": [
    "input_string = \"banana,apple,cherry,date\"\n",
    "sorted_string = sort_words(input_string)\n",
    "print(sorted_string)"
   ]
  },
  {
   "cell_type": "markdown",
   "metadata": {},
   "source": [
    "## 12. Write a function to check if a given password is strong (at least 8 characters, at least one lower case, at least one upper case, at least one number and at least one special character). It should output True if strong and False if not."
   ]
  },
  {
   "cell_type": "code",
   "execution_count": null,
   "metadata": {},
   "outputs": [],
   "source": [
    "def check_pass(password):\n",
    "    if len(password) < 8:\n",
    "        return False  \n",
    "\n",
    "    has_lower = any(char.islower() for char in password)  \n",
    "    has_upper = any(char.isupper() for char in password)  \n",
    "    has_digit = any(char.isdigit() for char in password)  \n",
    "    has_special = any(not char.isalnum() for char in password)  \n",
    "\n",
    "    return has_lower and has_upper and has_digit and has_special "
   ]
  },
  {
   "cell_type": "code",
   "execution_count": 136,
   "metadata": {},
   "outputs": [
    {
     "name": "stdout",
     "output_type": "stream",
     "text": [
      "True\n",
      "False\n",
      "False\n",
      "True\n"
     ]
    }
   ],
   "source": [
    "print(check_pass(\"StrongP@ss1\"))  \n",
    "print(check_pass(\"weakpassword\"))  \n",
    "print(check_pass(\"12345678\"))      \n",
    "print(check_pass(\"Password1!\"))  "
   ]
  }
 ],
 "metadata": {
  "kernelspec": {
   "display_name": "base",
   "language": "python",
   "name": "python3"
  },
  "language_info": {
   "codemirror_mode": {
    "name": "ipython",
    "version": 3
   },
   "file_extension": ".py",
   "mimetype": "text/x-python",
   "name": "python",
   "nbconvert_exporter": "python",
   "pygments_lexer": "ipython3",
   "version": "3.11.7"
  }
 },
 "nbformat": 4,
 "nbformat_minor": 4
}
