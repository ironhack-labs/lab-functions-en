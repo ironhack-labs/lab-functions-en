{
  "cells": [
    {
      "cell_type": "markdown",
      "metadata": {
        "id": "v19A2_xza7YL"
      },
      "source": [
        "# Functions"
      ]
    },
    {
      "cell_type": "markdown",
      "metadata": {
        "id": "-LoEQtzqa7YN"
      },
      "source": [
        "On this lab we will put to practice some of the concepts we have learned on this past few days.\n",
        "\n",
        "`NOTE: On this lab you should try to write all the functions yourself using only the most basic of python syntax and without functions such as len, count, sum, max, min, in, etc. Give it a try. 🧑🏻‍💻👩🏻‍💻`\n",
        "\n",
        "The cell after each exercise contains a few tests to check if your function works as expected."
      ]
    },
    {
      "cell_type": "code",
      "execution_count": 5,
      "metadata": {
        "id": "ajbXykVNa7YO"
      },
      "outputs": [],
      "source": [
        "from mod.testing import *\n",
        "import unittest"
      ]
    },
    {
      "cell_type": "markdown",
      "metadata": {
        "id": "B6iJZ-nla7YQ"
      },
      "source": [
        "## 1. Write a function that returns the greater of two numbers"
      ]
    },
    {
      "cell_type": "code",
      "execution_count": 7,
      "metadata": {
        "id": "bzbP1Mjaa7YQ"
      },
      "outputs": [],
      "source": [
        "def greater(a,b):\n",
        "    if a > b:\n",
        "        return a\n",
        "    else:\n",
        "        return b\n"
      ]
    },
    {
      "cell_type": "code",
      "execution_count": 8,
      "metadata": {
        "colab": {
          "base_uri": "https://localhost:8080/"
        },
        "id": "psUS0dT4a7YQ",
        "outputId": "0ed643b8-90e8-475e-9e93-8f2f595addb5"
      },
      "outputs": [
        {
          "output_type": "stream",
          "name": "stderr",
          "text": [
            "....................................................................................................\n",
            "----------------------------------------------------------------------\n",
            "Ran 100 tests in 0.145s\n",
            "\n",
            "OK\n"
          ]
        }
      ],
      "source": [
        "# This will test your function\n",
        "test_greater(greater)"
      ]
    },
    {
      "cell_type": "code",
      "execution_count": null,
      "metadata": {
        "id": "qb0tXX96a7YR"
      },
      "outputs": [],
      "source": [
        "#your code here"
      ]
    },
    {
      "cell_type": "markdown",
      "metadata": {
        "id": "gIEAEU8ea7YR"
      },
      "source": [
        "## 2. Now write a function that returns the largest element on a list"
      ]
    },
    {
      "cell_type": "code",
      "execution_count": 9,
      "metadata": {
        "id": "PqDbRR0Ma7YR"
      },
      "outputs": [],
      "source": [
        "def greatest(ls):\n",
        "  largest = ls[0]\n",
        "  for i in ls:\n",
        "    if i> largest:\n",
        "      largest = i\n",
        "  return largest\n",
        ""
      ]
    },
    {
      "cell_type": "code",
      "execution_count": 10,
      "metadata": {
        "id": "pJ7XWECla7YR",
        "colab": {
          "base_uri": "https://localhost:8080/"
        },
        "outputId": "240bc8b4-7fbc-49eb-9668-95df81f4a779"
      },
      "outputs": [
        {
          "output_type": "stream",
          "name": "stderr",
          "text": [
            "....................................................................................................\n",
            "----------------------------------------------------------------------\n",
            "Ran 100 tests in 0.099s\n",
            "\n",
            "OK\n"
          ]
        }
      ],
      "source": [
        "# This will test your function\n",
        "test_greatest(greatest)"
      ]
    },
    {
      "cell_type": "markdown",
      "metadata": {
        "id": "SBtWi0K4a7YR"
      },
      "source": [
        "## 3. Write a function that sums all the elements on a list"
      ]
    },
    {
      "cell_type": "code",
      "execution_count": 11,
      "metadata": {
        "id": "kQq2H9t0a7YS"
      },
      "outputs": [],
      "source": [
        "def sum_all(lst):\n",
        "  sum =0\n",
        "  for i in lst:\n",
        "    sum += i\n",
        "  return sum\n"
      ]
    },
    {
      "cell_type": "code",
      "execution_count": 12,
      "metadata": {
        "scrolled": true,
        "id": "JYXVrwgZa7YS",
        "colab": {
          "base_uri": "https://localhost:8080/"
        },
        "outputId": "bda5fd09-d230-40ec-f7b4-611c78b844c5"
      },
      "outputs": [
        {
          "output_type": "stream",
          "name": "stderr",
          "text": [
            "....................................................................................................\n",
            "----------------------------------------------------------------------\n",
            "Ran 100 tests in 0.117s\n",
            "\n",
            "OK\n"
          ]
        }
      ],
      "source": [
        "# This will test your function\n",
        "test_sum(sum_all)"
      ]
    },
    {
      "cell_type": "markdown",
      "metadata": {
        "id": "eTDxqh86a7YS"
      },
      "source": [
        "## 4. Write another function that multiplies all the elements on a list"
      ]
    },
    {
      "cell_type": "code",
      "execution_count": 27,
      "metadata": {
        "id": "V99DI3Qia7YS"
      },
      "outputs": [],
      "source": [
        "def mult_all(lst):\n",
        "  mult = 1\n",
        "  for i in lst:\n",
        "    mult *= i\n",
        "  return mult\n",
        "\n",
        "  # if len(lst) == 0:\n",
        "  #   return 0\n"
      ]
    },
    {
      "cell_type": "code",
      "execution_count": 28,
      "metadata": {
        "scrolled": true,
        "id": "sa-MoCsha7YT",
        "colab": {
          "base_uri": "https://localhost:8080/"
        },
        "outputId": "422f99c7-3356-4252-aae0-61c1a30e3711"
      },
      "outputs": [
        {
          "output_type": "stream",
          "name": "stderr",
          "text": [
            "....................................................................................................\n",
            "----------------------------------------------------------------------\n",
            "Ran 100 tests in 0.143s\n",
            "\n",
            "OK\n"
          ]
        }
      ],
      "source": [
        "# This will test your function\n",
        "test_mult(mult_all)"
      ]
    },
    {
      "cell_type": "markdown",
      "metadata": {
        "id": "d1mjn7Una7YT"
      },
      "source": [
        "## 5. Now combine those two ideas and write a function that receives a list and either \"+\" or \"*\" and outputs acordingly"
      ]
    },
    {
      "cell_type": "code",
      "execution_count": 35,
      "metadata": {
        "id": "axA6RexXa7YT"
      },
      "outputs": [],
      "source": [
        "def oper_all(arr, oper = \"*\"):\n",
        "  if oper == \"+\":\n",
        "    sum =0\n",
        "    for i in arr:\n",
        "       sum += i\n",
        "    return sum\n",
        "\n",
        "  elif oper == \"*\":\n",
        "    mult = 1\n",
        "    for i in arr:\n",
        "      mult *= i\n",
        "    return mult\n",
        "\n",
        "  else:\n",
        "    raise ValueError(\"invalid input\")\n",
        "\n"
      ]
    },
    {
      "cell_type": "code",
      "execution_count": 36,
      "metadata": {
        "id": "QLMsNkVGa7YT",
        "colab": {
          "base_uri": "https://localhost:8080/"
        },
        "outputId": "ec177725-23fe-4928-e2f2-4060fd2cf001"
      },
      "outputs": [
        {
          "output_type": "stream",
          "name": "stderr",
          "text": [
            "....................................................................................................\n",
            "----------------------------------------------------------------------\n",
            "Ran 100 tests in 0.143s\n",
            "\n",
            "OK\n"
          ]
        }
      ],
      "source": [
        "# This will test your function\n",
        "test_operations(oper_all)"
      ]
    },
    {
      "cell_type": "markdown",
      "metadata": {
        "id": "VMYRc1Mea7YT"
      },
      "source": [
        "## 6. Write a function that returns the factorial of a number."
      ]
    },
    {
      "cell_type": "code",
      "execution_count": 25,
      "metadata": {
        "id": "aLGQOL5la7YT"
      },
      "outputs": [],
      "source": [
        "def factorial(n):\n",
        "  if n == 0:\n",
        "    return 1\n",
        "  else:\n",
        "    return n* factorial(n-1)\n"
      ]
    },
    {
      "cell_type": "code",
      "execution_count": null,
      "metadata": {
        "id": "oRx1DXvba7YU"
      },
      "outputs": [],
      "source": [
        "#factorial formula\n",
        "#n! = n * ( n - 1 ) *...*1\n",
        "\n",
        "# This code defines a function called \"factorial\" which takes an input \"n\". The function uses a for loop to iterate through the range of numbers\n",
        "# from 1 to n+1. For each number in that range, it multiplies the current value of x by the number in the range. At the end of the loop,\n",
        "# the function returns the final value of x, which will be the factorial of the input number \"n\".\n",
        "\n",
        "# The Factorial of a positive integer n is the product of all positive integers less than or equal to n.\n",
        "# For example, the factorial of 6 (written \"6!\") is 6 * 5 * 4 * 3 * 2 * 1 = 720.\n",
        "\n",
        "# So this function takes an input of any positive integer, and returns the factorial of that number."
      ]
    },
    {
      "cell_type": "code",
      "execution_count": 26,
      "metadata": {
        "id": "2FZfOJQJa7YU",
        "colab": {
          "base_uri": "https://localhost:8080/"
        },
        "outputId": "5a52b677-5dd0-41ea-855f-3bf4ef4ea383"
      },
      "outputs": [
        {
          "output_type": "stream",
          "name": "stderr",
          "text": [
            "....................................................................................................\n",
            "----------------------------------------------------------------------\n",
            "Ran 100 tests in 0.150s\n",
            "\n",
            "OK\n"
          ]
        }
      ],
      "source": [
        "# This will test your function\n",
        "test_factorial(factorial)"
      ]
    },
    {
      "cell_type": "markdown",
      "metadata": {
        "id": "0HbXelKUa7YU"
      },
      "source": [
        "## 7. Write a function that takes a list and returns a list of the unique values.\n",
        "\n",
        "`NOTE: You cannot use set. 🤔`"
      ]
    },
    {
      "cell_type": "code",
      "execution_count": 39,
      "metadata": {
        "id": "qwDli8Yoa7YU"
      },
      "outputs": [],
      "source": [
        "def unique(lst_un):\n",
        "  uniqe = []\n",
        "  for i in lst_un:\n",
        "    if i not in uniqe:\n",
        "      uniqe.append(i)\n",
        "  return uniqe\n"
      ]
    },
    {
      "cell_type": "code",
      "execution_count": 40,
      "metadata": {
        "id": "-NkE9bora7YU",
        "colab": {
          "base_uri": "https://localhost:8080/"
        },
        "outputId": "feaac785-ad50-4f85-cbe1-86f5a118d172"
      },
      "outputs": [
        {
          "output_type": "stream",
          "name": "stderr",
          "text": [
            "....................................................................................................\n",
            "----------------------------------------------------------------------\n",
            "Ran 100 tests in 0.247s\n",
            "\n",
            "OK\n"
          ]
        }
      ],
      "source": [
        "# This will test your function\n",
        "test_unique(unique)"
      ]
    },
    {
      "cell_type": "markdown",
      "metadata": {
        "id": "sqAccDhoa7YU"
      },
      "source": [
        "## 8. Write a function that returns the mode of a list, i.e.: the element that appears the most times.\n",
        "`NOTE: You should not use count... 🧐`"
      ]
    },
    {
      "cell_type": "code",
      "execution_count": 53,
      "metadata": {
        "id": "qdOER6_ka7YU",
        "colab": {
          "base_uri": "https://localhost:8080/"
        },
        "outputId": "0a7510e7-42c0-4649-c2d9-8790e4934d05"
      },
      "outputs": [
        {
          "output_type": "execute_result",
          "data": {
            "text/plain": [
              "3"
            ]
          },
          "metadata": {},
          "execution_count": 53
        }
      ],
      "source": [
        "def mode_counter(arr):\n",
        "  arr.sort\n",
        "  mode = None\n",
        "  prev = arr[0]\n",
        "  max_countr =0\n",
        "  counter = 0\n",
        "\n",
        "  for i in arr:\n",
        "    if i == prev:\n",
        "      counter += 1\n",
        "\n",
        "    else:\n",
        "      counter = 1\n",
        "      prev = i\n",
        "\n",
        "    if counter > max_countr:\n",
        "        max_countr = counter\n",
        "        mode = prev\n",
        "\n",
        "  return mode\n",
        "\n",
        "mode_counter([1,2,3,3,4,4])\n"
      ]
    },
    {
      "cell_type": "code",
      "execution_count": 54,
      "metadata": {
        "id": "u47mZnVBa7YV",
        "colab": {
          "base_uri": "https://localhost:8080/"
        },
        "outputId": "fba6ead4-e128-4e07-f59f-7edd01f68af4"
      },
      "outputs": [
        {
          "output_type": "stream",
          "name": "stderr",
          "text": [
            "....................................................................................................\n",
            "----------------------------------------------------------------------\n",
            "Ran 100 tests in 0.119s\n",
            "\n",
            "OK\n"
          ]
        }
      ],
      "source": [
        "# This will test your function\n",
        "test_mode(mode_counter)"
      ]
    },
    {
      "cell_type": "markdown",
      "metadata": {
        "id": "owFw4fvPa7YV"
      },
      "source": [
        "## 9. Write a function that calculates the standard deviation of a list.\n",
        "`NOTE: Do not use any libraries or already built functions. 😉`"
      ]
    },
    {
      "cell_type": "code",
      "execution_count": 85,
      "metadata": {
        "id": "uGFOLO9Qa7YV"
      },
      "outputs": [],
      "source": [
        "def st_dev(list_sd):\n",
        "  # if len(list_sd) == 0:\n",
        "  #   return 0\n",
        "\n",
        "  mean = sum(list_sd) / len(list_sd)\n",
        "  variance = sum((x - mean) ** 2 for x in list_sd) / (len(list_sd)-1)\n",
        "  std_dev = variance ** 0.5\n",
        "  return std_dev"
      ]
    },
    {
      "cell_type": "code",
      "execution_count": 86,
      "metadata": {
        "id": "58nYpwd6a7YV",
        "colab": {
          "base_uri": "https://localhost:8080/"
        },
        "outputId": "c9fd0f7d-d737-4d94-ecc0-8dee9dd8600b"
      },
      "outputs": [
        {
          "output_type": "stream",
          "name": "stderr",
          "text": [
            "....................................................................................................\n",
            "----------------------------------------------------------------------\n",
            "Ran 100 tests in 0.164s\n",
            "\n",
            "OK\n"
          ]
        }
      ],
      "source": [
        "# This will test your function\n",
        "test_stdev(st_dev)"
      ]
    },
    {
      "cell_type": "markdown",
      "metadata": {
        "id": "WtT4OPyCa7YV"
      },
      "source": [
        "## 10. Write a function to check if a string is a pangram, i.e.: if it contains all the letters of the alphabet at least once. Mind that the strings may contain characters that are not letters."
      ]
    },
    {
      "cell_type": "code",
      "execution_count": 61,
      "metadata": {
        "id": "75Zw2qZka7YV"
      },
      "outputs": [],
      "source": [
        "def pangram(string):\n",
        "    string = string.lower()\n",
        "    alphabet = set('abcdefghijklmnopqrstuvwxyz')\n",
        "    letters_in_string = set(char for char in string if char.isalpha())\n",
        "    return letters_in_string == alphabet\n"
      ]
    },
    {
      "cell_type": "code",
      "execution_count": 62,
      "metadata": {
        "id": "eHRpRbFKa7YW",
        "colab": {
          "base_uri": "https://localhost:8080/"
        },
        "outputId": "8279e20c-c6fc-4eec-e496-0211f46109c4"
      },
      "outputs": [
        {
          "output_type": "stream",
          "name": "stderr",
          "text": [
            "..............................\n",
            "----------------------------------------------------------------------\n",
            "Ran 30 tests in 0.052s\n",
            "\n",
            "OK\n"
          ]
        }
      ],
      "source": [
        "# This will test your function\n",
        "test_pangram(pangram)"
      ]
    },
    {
      "cell_type": "markdown",
      "metadata": {
        "id": "pFLfowaza7YW"
      },
      "source": [
        "## 11. Write a function that receives a string of comma separated words and returns a string of comma separated words sorted alphabetically.\n",
        "\n",
        "`NOTE: You may use sorted but not split and definitely no join! 🤪`"
      ]
    },
    {
      "cell_type": "code",
      "execution_count": 81,
      "metadata": {
        "id": "mxBxQuz7a7YW"
      },
      "outputs": [],
      "source": [
        "def sort_alpha(string):\n",
        "  words = []\n",
        "  word_start = 0\n",
        "\n",
        "  # remove the comma\n",
        "  for i, char in enumerate(string + ','):\n",
        "    if char == ',':\n",
        "      word = string[word_start:i]\n",
        "      words.append(word)\n",
        "      word_start = i + 1\n",
        "\n",
        "  # sort\n",
        "  words.sort()\n",
        "\n",
        "  # put the comma back\n",
        "  result = words[0]\n",
        "  for word in words[1:]:\n",
        "    result += ',' + word\n",
        "\n",
        "  return result\n"
      ]
    },
    {
      "cell_type": "code",
      "execution_count": 82,
      "metadata": {
        "id": "GA4IPi3Na7YW",
        "colab": {
          "base_uri": "https://localhost:8080/"
        },
        "outputId": "74c28b9f-b61b-43d4-c37b-5ad96184f801"
      },
      "outputs": [
        {
          "output_type": "stream",
          "name": "stderr",
          "text": [
            "....................................................................................................\n",
            "----------------------------------------------------------------------\n",
            "Ran 100 tests in 0.124s\n",
            "\n",
            "OK\n"
          ]
        }
      ],
      "source": [
        "# This will test your function\n",
        "test_alpha(sort_alpha)"
      ]
    },
    {
      "cell_type": "markdown",
      "metadata": {
        "id": "8axG_UA4a7YW"
      },
      "source": [
        "## 12. Write a function to check if a given password is strong (at least 8 characters, at least one lower case, at least one upper case, at least one number and at least one special character). It should output True if strong and False if not."
      ]
    },
    {
      "cell_type": "code",
      "execution_count": 69,
      "metadata": {
        "id": "sQ6M3tTya7Yj"
      },
      "outputs": [],
      "source": [
        "def check_pass(password):\n",
        "  if len(password) < 8 or password.lower() == password or password.upper() == password:\n",
        "    return False\n",
        "\n",
        "  elif not any(i.isdigit() for i in password):\n",
        "    return False\n",
        "\n",
        "  elif not any(not i.isalnum() for i in password):\n",
        "    return False\n",
        "\n",
        "  else:\n",
        "    return True\n"
      ]
    },
    {
      "cell_type": "code",
      "execution_count": 70,
      "metadata": {
        "id": "b8bMwTFGa7Yj",
        "colab": {
          "base_uri": "https://localhost:8080/"
        },
        "outputId": "49aa3a8e-f4df-4aff-d724-d982b6a9d9d1"
      },
      "outputs": [
        {
          "output_type": "stream",
          "name": "stderr",
          "text": [
            "....................................................................................................\n",
            "----------------------------------------------------------------------\n",
            "Ran 100 tests in 0.119s\n",
            "\n",
            "OK\n"
          ]
        }
      ],
      "source": [
        "# This will test your function\n",
        "test_pass(check_pass)"
      ]
    }
  ],
  "metadata": {
    "kernelspec": {
      "display_name": "Python 3 (ipykernel)",
      "language": "python",
      "name": "python3"
    },
    "language_info": {
      "codemirror_mode": {
        "name": "ipython",
        "version": 3
      },
      "file_extension": ".py",
      "mimetype": "text/x-python",
      "name": "python",
      "nbconvert_exporter": "python",
      "pygments_lexer": "ipython3",
      "version": "3.9.13"
    },
    "vscode": {
      "interpreter": {
        "hash": "aee8b7b246df8f9039afb4144a1f6fd8d2ca17a180786b69acc140d282b71a49"
      }
    },
    "colab": {
      "provenance": []
    }
  },
  "nbformat": 4,
  "nbformat_minor": 0
}