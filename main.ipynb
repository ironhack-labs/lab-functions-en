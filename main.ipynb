{
 "cells": [
  {
   "cell_type": "markdown",
   "metadata": {},
   "source": [
    "# Functions"
   ]
  },
  {
   "cell_type": "markdown",
   "metadata": {},
   "source": [
    "On this lab we will put to practice some of the concepts we have learned on this past few days.\n",
    "\n",
    "`NOTE: On this lab you should try to write all the functions yourself using only the most basic of python syntax and without functions such as len, count, sum, max, min, in, etc. Give it a try. 🧑🏻‍💻👩🏻‍💻`\n",
    "\n",
    "The cell after each exercise contains a few tests to check if your function works as expected."
   ]
  },
  {
   "cell_type": "code",
   "execution_count": 160,
   "metadata": {},
   "outputs": [],
   "source": [
    "from mod.testing import *\n",
    "import unittest"
   ]
  },
  {
   "cell_type": "markdown",
   "metadata": {},
   "source": [
    "## 1. Write a function that returns the greater of two numbers"
   ]
  },
  {
   "cell_type": "code",
   "execution_count": 190,
   "metadata": {},
   "outputs": [
    {
     "name": "stdout",
     "output_type": "stream",
     "text": [
      "2\n",
      "4\n",
      "5\n"
     ]
    }
   ],
   "source": [
    "# we assume both a and b are integers of different values\n",
    "\n",
    "def greater(a: int, b: int) -> int:\n",
    "    \"\"\"Returns the greater of two numbers\n",
    "\n",
    "    Args:\n",
    "        a (int): first number\n",
    "        b (int): second number\n",
    "\n",
    "    Returns:\n",
    "        int: greater number or None\n",
    "    \"\"\"\n",
    "    \n",
    "    return a if a > b else b    \n",
    "\n",
    "print(greater(1, 2))\n",
    "print(greater(4, 3))\n",
    "print(greater(5, 5))"
   ]
  },
  {
   "cell_type": "code",
   "execution_count": 191,
   "metadata": {},
   "outputs": [
    {
     "name": "stderr",
     "output_type": "stream",
     "text": [
      "....................................................................................................\n",
      "----------------------------------------------------------------------\n",
      "Ran 100 tests in 0.052s\n",
      "\n",
      "OK\n"
     ]
    }
   ],
   "source": [
    "# This will test your function\n",
    "test_greater(greater)"
   ]
  },
  {
   "cell_type": "markdown",
   "metadata": {},
   "source": [
    "## 2. Now write a function that returns the largest element on a list"
   ]
  },
  {
   "cell_type": "code",
   "execution_count": 163,
   "metadata": {},
   "outputs": [
    {
     "name": "stdout",
     "output_type": "stream",
     "text": [
      "9\n",
      "15\n",
      "-2\n",
      "3\n",
      "5\n"
     ]
    }
   ],
   "source": [
    "# we assume that the list is not empty and only contains integers\n",
    "\n",
    "def greatest(lst: list[int]) -> int:\n",
    "    \"\"\"Returns the greatest integer of a list\n",
    "\n",
    "    Args:\n",
    "        lst (list): list of integers (should contains at least 1 element)\n",
    "\n",
    "    Returns:\n",
    "        int: largest element of the list\n",
    "    \"\"\"\n",
    "\n",
    "    largest = lst[0]\n",
    "\n",
    "    for element in lst[1:]:\n",
    "        if largest < element:\n",
    "            largest = element\n",
    "\n",
    "    return largest\n",
    "\n",
    "print(greatest([1, 3, 5, 7, 9]))\n",
    "print(greatest([-2, 10, -4, 15, 7]))\n",
    "print(greatest([-2, -4, -6, -8, -10]))\n",
    "print(greatest([3]))\n",
    "print(greatest([5, 5, 5]))\n"
   ]
  },
  {
   "cell_type": "code",
   "execution_count": 164,
   "metadata": {},
   "outputs": [
    {
     "name": "stderr",
     "output_type": "stream",
     "text": [
      "....................................................................................................\n",
      "----------------------------------------------------------------------\n",
      "Ran 100 tests in 0.055s\n",
      "\n",
      "OK\n"
     ]
    }
   ],
   "source": [
    "# This will test your function \n",
    "test_greatest(greatest)"
   ]
  },
  {
   "cell_type": "markdown",
   "metadata": {},
   "source": [
    "## 3. Write a function that sums all the elements on a list"
   ]
  },
  {
   "cell_type": "code",
   "execution_count": 165,
   "metadata": {},
   "outputs": [
    {
     "name": "stdout",
     "output_type": "stream",
     "text": [
      "25\n",
      "26\n",
      "-30\n"
     ]
    }
   ],
   "source": [
    "# we assume that the list is not empty and only contains integers\n",
    "\n",
    "def sum_all(lst: list[int]) -> int:\n",
    "    \"\"\"Sum all elements of a list\n",
    "\n",
    "    Args:\n",
    "        lst (list): list of integers (should contains at least 1 element)\n",
    "\n",
    "    Returns:\n",
    "        int: sum of all integers\n",
    "    \"\"\"\n",
    "\n",
    "    result = lst[0]\n",
    "\n",
    "    for element in lst[1:]:\n",
    "        result += element\n",
    "        \n",
    "    return result\n",
    "\n",
    "print(sum_all([1, 3, 5, 7, 9]))\n",
    "print(sum_all([-2, 10, -4, 15, 7]))\n",
    "print(sum_all([-2, -4, -6, -8, -10]))"
   ]
  },
  {
   "cell_type": "code",
   "execution_count": 166,
   "metadata": {
    "scrolled": true
   },
   "outputs": [
    {
     "name": "stderr",
     "output_type": "stream",
     "text": [
      "....................................................................................................\n",
      "----------------------------------------------------------------------\n",
      "Ran 100 tests in 0.064s\n",
      "\n",
      "OK\n"
     ]
    }
   ],
   "source": [
    "# This will test your function \n",
    "test_sum(sum_all)"
   ]
  },
  {
   "cell_type": "markdown",
   "metadata": {},
   "source": [
    "## 4. Write another function that multiplies all the elements on a list"
   ]
  },
  {
   "cell_type": "code",
   "execution_count": 167,
   "metadata": {},
   "outputs": [
    {
     "name": "stdout",
     "output_type": "stream",
     "text": [
      "120\n",
      "-945\n",
      "5\n"
     ]
    }
   ],
   "source": [
    "# We assume that the list contains only integers and is not empty\n",
    "\n",
    "def mult_all(lst: list[int]) -> int:\n",
    "    \"\"\"Multiplies all elements of a list\n",
    "\n",
    "    Args:\n",
    "        lst (list): list of integers\n",
    "\n",
    "    Returns:\n",
    "        int: product result\n",
    "    \"\"\"\n",
    "\n",
    "    result = lst[0]\n",
    "\n",
    "    for element in lst[1:]:\n",
    "        result *= element\n",
    "    \n",
    "    return result\n",
    "\n",
    "print(mult_all([1, 2, 3, 4, 5]))\n",
    "print(mult_all([-1, 3, -5, 7, -9]))\n",
    "print(mult_all([5]))\n",
    "    "
   ]
  },
  {
   "cell_type": "code",
   "execution_count": 168,
   "metadata": {
    "scrolled": true
   },
   "outputs": [
    {
     "name": "stderr",
     "output_type": "stream",
     "text": [
      "....................................................................................................\n",
      "----------------------------------------------------------------------\n",
      "Ran 100 tests in 0.069s\n",
      "\n",
      "OK\n"
     ]
    }
   ],
   "source": [
    "# This will test your function \n",
    "test_mult(mult_all)"
   ]
  },
  {
   "cell_type": "markdown",
   "metadata": {},
   "source": [
    "## 5. Now combine those two ideas and write a function that receives a list and either \"+\" or \"*\" and outputs acordingly"
   ]
  },
  {
   "cell_type": "code",
   "execution_count": 192,
   "metadata": {},
   "outputs": [
    {
     "name": "stdout",
     "output_type": "stream",
     "text": [
      "15\n",
      "120\n",
      "120\n"
     ]
    }
   ],
   "source": [
    "# we assume the list only contains integers and is not empty\n",
    "\n",
    "def oper_all(arr: list[int], oper: str = \"*\") -> int:\n",
    "    \"\"\"Adds or multiplies all elements of a list\n",
    "\n",
    "    Args:\n",
    "        arr (list[int]): list of integers\n",
    "        oper (str, optional): Operator. Defaults to \"*\".\n",
    "\n",
    "    Returns:\n",
    "        int: operation result\n",
    "    \"\"\"\n",
    "        \n",
    "    result = arr[0]\n",
    "\n",
    "    if oper == '+':\n",
    "        for element in arr[1:]:\n",
    "            result += element\n",
    "    else:\n",
    "        for element in arr[1:]:\n",
    "            result *= element\n",
    "\n",
    "    return result\n",
    "\n",
    "print(oper_all([1, 2, 3, 4, 5], \"+\"))\n",
    "print(oper_all([1, 2, 3, 4, 5], \"*\"))\n",
    "print(oper_all([1, 2, 3, 4, 5]))\n",
    "    "
   ]
  },
  {
   "cell_type": "code",
   "execution_count": 193,
   "metadata": {},
   "outputs": [
    {
     "name": "stderr",
     "output_type": "stream",
     "text": [
      "....................................................................................................\n",
      "----------------------------------------------------------------------\n",
      "Ran 100 tests in 0.092s\n",
      "\n",
      "OK\n"
     ]
    }
   ],
   "source": [
    "# This will test your function \n",
    "test_operations(oper_all)"
   ]
  },
  {
   "cell_type": "markdown",
   "metadata": {},
   "source": [
    "## 6. Write a function that returns the factorial of a number."
   ]
  },
  {
   "cell_type": "code",
   "execution_count": 171,
   "metadata": {},
   "outputs": [
    {
     "name": "stdout",
     "output_type": "stream",
     "text": [
      "1\n",
      "720\n",
      "30414093201713378043612608166064768844377641568960512000000000000\n"
     ]
    }
   ],
   "source": [
    "def factorial(n:int) -> int:\n",
    "    \"\"\"Returns the factorial of an integer\n",
    "\n",
    "    Args:\n",
    "        n (int): input integer\n",
    "\n",
    "    Returns:\n",
    "        int: factorial of the input integer\n",
    "    \"\"\"\n",
    "    \n",
    "    result = 1\n",
    "    \n",
    "    for number in range(1, n+1):\n",
    "        result *= number\n",
    "    \n",
    "    return result\n",
    "\n",
    "print(factorial(0))\n",
    "print(factorial(6))\n",
    "print(factorial(50))\n"
   ]
  },
  {
   "cell_type": "code",
   "execution_count": 172,
   "metadata": {},
   "outputs": [],
   "source": [
    "#factorial formula\n",
    "#n! = n * ( n - 1 ) *...*1\n",
    "\n",
    "# This code defines a function called \"factorial\" which takes an input \"n\". The function uses a for loop to iterate through the range of numbers \n",
    "# from 1 to n+1. For each number in that range, it multiplies the current value of x by the number in the range. At the end of the loop, \n",
    "# the function returns the final value of x, which will be the factorial of the input number \"n\".\n",
    "\n",
    "# The Factorial of a positive integer n is the product of all positive integers less than or equal to n. \n",
    "# For example, the factorial of 6 (written \"6!\") is 6 * 5 * 4 * 3 * 2 * 1 = 720.\n",
    "\n",
    "# So this function takes an input of any positive integer, and returns the factorial of that number."
   ]
  },
  {
   "cell_type": "code",
   "execution_count": 173,
   "metadata": {},
   "outputs": [
    {
     "name": "stderr",
     "output_type": "stream",
     "text": [
      "....................................................................................................\n",
      "----------------------------------------------------------------------\n",
      "Ran 100 tests in 0.081s\n",
      "\n",
      "OK\n"
     ]
    }
   ],
   "source": [
    "# This will test your function \n",
    "test_factorial(factorial)"
   ]
  },
  {
   "cell_type": "code",
   "execution_count": 174,
   "metadata": {},
   "outputs": [
    {
     "name": "stdout",
     "output_type": "stream",
     "text": [
      "1\n",
      "720\n",
      "30414093201713378043612608166064768844377641568960512000000000000\n"
     ]
    }
   ],
   "source": [
    "# Just for fun: Factorial using a recursive function\n",
    "\n",
    "def factorial_rec(n:int) -> int:\n",
    "    \"\"\"Returns the factorial of an integer\n",
    "\n",
    "    Args:\n",
    "        n (int): input integer\n",
    "\n",
    "    Returns:\n",
    "        int: factorial of the input integer\n",
    "    \"\"\"\n",
    "\n",
    "    if n == 0:\n",
    "        return 1\n",
    "\n",
    "    return n * factorial_rec(n-1)\n",
    "\n",
    "print(factorial_rec(0))\n",
    "print(factorial_rec(6))\n",
    "print(factorial_rec(50))"
   ]
  },
  {
   "cell_type": "code",
   "execution_count": 175,
   "metadata": {},
   "outputs": [
    {
     "name": "stderr",
     "output_type": "stream",
     "text": [
      "....................................................................................................\n",
      "----------------------------------------------------------------------\n",
      "Ran 100 tests in 0.075s\n",
      "\n",
      "OK\n"
     ]
    }
   ],
   "source": [
    "test_factorial(factorial_rec)"
   ]
  },
  {
   "cell_type": "markdown",
   "metadata": {},
   "source": [
    "## 7. Write a function that takes a list and returns a list of the unique values.\n",
    "\n",
    "`NOTE: You cannot use set. 🤔`"
   ]
  },
  {
   "cell_type": "code",
   "execution_count": 176,
   "metadata": {},
   "outputs": [
    {
     "name": "stdout",
     "output_type": "stream",
     "text": [
      "[1]\n",
      "[1, 2, 3, 4, 5]\n",
      "[1]\n",
      "[1, 2, 3, 4, 5]\n"
     ]
    }
   ],
   "source": [
    "# using a for loop\n",
    "def unique(lst_un: list) -> list:\n",
    "    \"\"\"removes duplicates from a list\n",
    "\n",
    "    Args:\n",
    "        lst_un (list): list of elements\n",
    "\n",
    "    Returns:\n",
    "        list: list of unique elements\n",
    "    \"\"\"\n",
    "\n",
    "    new_list = []\n",
    "    for n in lst_un:\n",
    "        if n not in new_list:\n",
    "            new_list.append(n)\n",
    "    return new_list\n",
    "\n",
    "# using list comprehension\n",
    "def unique2(lst_un: list) -> list:\n",
    "    return [n for i, n in enumerate(lst_un) if n not in lst_un[:i]]\n",
    "\n",
    "print(unique([1, 1, 1]))\n",
    "print(unique([1, 1, 2, 3, 4, 4, 5, 1]))\n",
    "\n",
    "print(unique2([1, 1, 1]))\n",
    "print(unique2([1, 1, 2, 3, 4, 4, 5, 1]))"
   ]
  },
  {
   "cell_type": "code",
   "execution_count": 177,
   "metadata": {},
   "outputs": [
    {
     "name": "stderr",
     "output_type": "stream",
     "text": [
      ".............................."
     ]
    },
    {
     "name": "stderr",
     "output_type": "stream",
     "text": [
      "......................................................................\n",
      "----------------------------------------------------------------------\n",
      "Ran 100 tests in 0.194s\n",
      "\n",
      "OK\n",
      "....................................................................................................\n",
      "----------------------------------------------------------------------\n",
      "Ran 100 tests in 0.259s\n",
      "\n",
      "OK\n"
     ]
    }
   ],
   "source": [
    "# This will test your function \n",
    "test_unique(unique)\n",
    "test_unique(unique2)"
   ]
  },
  {
   "cell_type": "markdown",
   "metadata": {},
   "source": [
    "## 8. Write a function that returns the mode of a list, i.e.: the element that appears the most times.\n",
    "`NOTE: You should not use count... 🧐`"
   ]
  },
  {
   "cell_type": "code",
   "execution_count": 178,
   "metadata": {},
   "outputs": [
    {
     "name": "stdout",
     "output_type": "stream",
     "text": [
      "List mode of [1, 1, 1, 2, 2, 3] is 1\n"
     ]
    }
   ],
   "source": [
    "def mode_counter(arr: list) -> int:\n",
    "    \"\"\"Return the mode of a list\n",
    "\n",
    "    Args:\n",
    "        arr (list): input list\n",
    "\n",
    "    Returns:\n",
    "        int: mode element\n",
    "    \"\"\"\n",
    "\n",
    "    list_mode = None\n",
    "    max_count = 0\n",
    "    count_dic = {}\n",
    "    \n",
    "    for element in arr:\n",
    "        count_dic[element] = count_dic.get(element, 0) + 1\n",
    "    \n",
    "        if count_dic[element] > max_count:\n",
    "            max_count = count_dic[element]\n",
    "            list_mode = element\n",
    "    \n",
    "    return list_mode\n",
    "\n",
    "arr = [1, 1, 1, 2, 2, 3]\n",
    "mode = mode_counter(arr)\n",
    "print(f\"List mode of {arr} is {mode}\")\n"
   ]
  },
  {
   "cell_type": "code",
   "execution_count": 179,
   "metadata": {},
   "outputs": [
    {
     "name": "stderr",
     "output_type": "stream",
     "text": [
      "....................................................................................................\n",
      "----------------------------------------------------------------------\n",
      "Ran 100 tests in 0.074s\n",
      "\n",
      "OK\n"
     ]
    }
   ],
   "source": [
    "# This will test your function \n",
    "test_mode(mode_counter)"
   ]
  },
  {
   "cell_type": "markdown",
   "metadata": {},
   "source": [
    "## 9. Write a function that calculates the standard deviation of a list.\n",
    "`NOTE: Do not use any libraries or already built functions. 😉`"
   ]
  },
  {
   "cell_type": "markdown",
   "metadata": {},
   "source": [
    "Here’s how you can calculate the standard deviation of a list in Python:\n",
    "\n",
    "- Calculate the Mean: Find the average of all the numbers in the list. Add up all the numbers and then divide by the total count of numbers.\n",
    "- Find the Variance: For each number in the list, subtract the mean and square the result. Then, calculate the average of these squared differences.\n",
    "- Standard Deviation: Take the square root of the variance to get the standard deviation.\n",
    "- To summarize, the standard deviation measures how spread out the numbers in your list are around the mean."
   ]
  },
  {
   "cell_type": "code",
   "execution_count": 180,
   "metadata": {},
   "outputs": [
    {
     "data": {
      "text/plain": [
       "1.0"
      ]
     },
     "execution_count": 180,
     "metadata": {},
     "output_type": "execute_result"
    }
   ],
   "source": [
    "# we assume that all elements are either int or floats\n",
    "\n",
    "def st_dev(list_sd: list) -> float:\n",
    "    \"\"\"Calculates the standard deviation of a list\n",
    "\n",
    "    Args:\n",
    "        list_sd (list): list of elements\n",
    "\n",
    "    Returns:\n",
    "        float: standard deviation of the list\n",
    "    \"\"\"\n",
    "\n",
    "    # calculates mean\n",
    "    mean = 0\n",
    "    list_len = 0\n",
    "\n",
    "    for element in list_sd:\n",
    "        mean += element\n",
    "        list_len += 1\n",
    "    mean /= list_len\n",
    "\n",
    "    # find variance\n",
    "    variance = 0\n",
    "    for element in list_sd:\n",
    "        variance += (element - mean) ** 2\n",
    "    variance /= list_len - 1\n",
    "\n",
    "    # returns the standard deviation (square root of variance)\n",
    "    return variance ** 0.5\n",
    "\n",
    "\n",
    "st_dev([1, 2, 3])"
   ]
  },
  {
   "cell_type": "code",
   "execution_count": 181,
   "metadata": {},
   "outputs": [
    {
     "name": "stderr",
     "output_type": "stream",
     "text": [
      "....................................................................................................\n",
      "----------------------------------------------------------------------\n",
      "Ran 100 tests in 0.079s\n",
      "\n",
      "OK\n"
     ]
    }
   ],
   "source": [
    "# This will test your function \n",
    "test_stdev(st_dev)"
   ]
  },
  {
   "cell_type": "markdown",
   "metadata": {},
   "source": [
    "## 10. Write a function to check if a string is a pangram, i.e.: if it contains all the letters of the alphabet at least once. Mind that the strings may contain characters that are not letters."
   ]
  },
  {
   "cell_type": "code",
   "execution_count": 182,
   "metadata": {},
   "outputs": [
    {
     "name": "stdout",
     "output_type": "stream",
     "text": [
      "True\n",
      "False\n"
     ]
    }
   ],
   "source": [
    "def pangram(string: str) -> bool:\n",
    "    \"\"\"Checks if a string is a pangram\n",
    "\n",
    "    Args:\n",
    "        string (str): input string\n",
    "\n",
    "    Returns:\n",
    "        bool: True if it is, False if not\n",
    "    \"\"\"\n",
    "    \n",
    "    for letter in \"abcdefghijklmnopqrstuvwxyz\":\n",
    "        if letter not in string.lower():\n",
    "            return False\n",
    "    \n",
    "    return True\n",
    "\n",
    "print(pangram(\"The quick brown fox jumps over the lazy dog\"))\n",
    "print(pangram(\"The quick brown lion jumps over the lazy cat\"))"
   ]
  },
  {
   "cell_type": "code",
   "execution_count": 183,
   "metadata": {},
   "outputs": [
    {
     "name": "stderr",
     "output_type": "stream",
     "text": [
      "..............................\n",
      "----------------------------------------------------------------------\n",
      "Ran 30 tests in 0.018s\n",
      "\n",
      "OK\n"
     ]
    }
   ],
   "source": [
    "# This will test your function \n",
    "test_pangram(pangram)"
   ]
  },
  {
   "cell_type": "markdown",
   "metadata": {},
   "source": [
    "## 11. Write a function that receives a string of comma separated words and returns a string of comma separated words sorted alphabetically.\n",
    "\n",
    "`NOTE: You may use sorted but not split and definitely no join! 🤪`"
   ]
  },
  {
   "cell_type": "code",
   "execution_count": 184,
   "metadata": {},
   "outputs": [
    {
     "name": "stdout",
     "output_type": "stream",
     "text": [
      "banana,apple,watermelon,pear,strawberry\n",
      "apple,banana,pear,strawberry,watermelon\n"
     ]
    }
   ],
   "source": [
    "def sort_alpha(string: str) -> str:\n",
    "    \"\"\"Return a comma-separated list of sorted words from an unsorted one\n",
    "\n",
    "    Args:\n",
    "        string (string): unsorted string\n",
    "\n",
    "    Returns:\n",
    "        string: sorted string\n",
    "    \"\"\"\n",
    "\n",
    "    # split words the hardcore way!\n",
    "    lst = []\n",
    "    lst_len = 0\n",
    "    new_word = ''\n",
    "    for letter in string:\n",
    "        if letter == ',':\n",
    "            lst.append(new_word)\n",
    "            lst_len += 1\n",
    "            new_word = ''\n",
    "        else:\n",
    "            new_word += letter\n",
    "    lst.append(new_word) # append last word\n",
    "    \n",
    "    # sort the list using a bubble sort algorithm\n",
    "    for i in range(lst_len):\n",
    "        for j in range(0, lst_len-i):\n",
    "            if lst[j] > lst[j+1]:\n",
    "                lst[j], lst[j+1] = lst[j+1], lst[j]  # swap adjacent words in the list\n",
    "\n",
    "    # join sorted words in a comma-separated string\n",
    "    sorted_string = ''\n",
    "    for word in lst:\n",
    "        sorted_string += f\"{word},\"\n",
    "\n",
    "    # return sorted string without the last comma\n",
    "    return sorted_string[:-1]\n",
    "\n",
    "string = \"banana,apple,watermelon,pear,strawberry\"\n",
    "print(string)\n",
    "print(sort_alpha(string))"
   ]
  },
  {
   "cell_type": "code",
   "execution_count": 185,
   "metadata": {},
   "outputs": [
    {
     "name": "stderr",
     "output_type": "stream",
     "text": [
      "....................................................................................................\n",
      "----------------------------------------------------------------------\n",
      "Ran 100 tests in 0.080s\n",
      "\n",
      "OK\n"
     ]
    }
   ],
   "source": [
    "# This will test your function \n",
    "test_alpha(sort_alpha)"
   ]
  },
  {
   "cell_type": "markdown",
   "metadata": {},
   "source": [
    "## 12. Write a function to check if a given password is strong (at least 8 characters, at least one lower case, at least one upper case, at least one number and at least one special character). It should output True if strong and False if not."
   ]
  },
  {
   "cell_type": "code",
   "execution_count": 186,
   "metadata": {},
   "outputs": [],
   "source": [
    "def check_pass(password: str) -> bool:\n",
    "    \"\"\"Check if a password is strong\n",
    "\n",
    "    Args:\n",
    "        password (str): password string\n",
    "\n",
    "    Returns:\n",
    "        bool: True if all tests passed, False if not\n",
    "    \"\"\"\n",
    "\n",
    "    pwd_len = 0\n",
    "    lowercase = False\n",
    "    uppercase = False\n",
    "    digit = False\n",
    "    special_char = False\n",
    "\n",
    "    for letter in password:\n",
    "        pwd_len += 1\n",
    "        if letter != letter.upper():\n",
    "            lowercase = True\n",
    "        elif letter != letter.lower():\n",
    "             uppercase = True\n",
    "        elif letter.isdigit():\n",
    "            digit = True\n",
    "        elif not letter.isalnum():\n",
    "            special_char = True\n",
    "    \n",
    "    if pwd_len >= 8 and lowercase and uppercase and digit and special_char:\n",
    "        return True\n",
    "    \n",
    "    return False"
   ]
  },
  {
   "cell_type": "code",
   "execution_count": 187,
   "metadata": {},
   "outputs": [
    {
     "name": "stderr",
     "output_type": "stream",
     "text": [
      "....................................................................................................\n",
      "----------------------------------------------------------------------\n",
      "Ran 100 tests in 0.085s\n",
      "\n",
      "OK\n"
     ]
    }
   ],
   "source": [
    "# This will test your function \n",
    "test_pass(check_pass)"
   ]
  }
 ],
 "metadata": {
  "kernelspec": {
   "display_name": "Python 3 (ipykernel)",
   "language": "python",
   "name": "python3"
  },
  "language_info": {
   "codemirror_mode": {
    "name": "ipython",
    "version": 3
   },
   "file_extension": ".py",
   "mimetype": "text/x-python",
   "name": "python",
   "nbconvert_exporter": "python",
   "pygments_lexer": "ipython3",
   "version": "3.12.2"
  },
  "vscode": {
   "interpreter": {
    "hash": "aee8b7b246df8f9039afb4144a1f6fd8d2ca17a180786b69acc140d282b71a49"
   }
  }
 },
 "nbformat": 4,
 "nbformat_minor": 4
}
