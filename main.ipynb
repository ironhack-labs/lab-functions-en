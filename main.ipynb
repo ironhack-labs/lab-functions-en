{
 "cells": [
  {
   "cell_type": "markdown",
   "metadata": {},
   "source": [
    "# Functions"
   ]
  },
  {
   "cell_type": "markdown",
   "metadata": {},
   "source": [
    "On this lab we will put to practice some of the concepts we have learned on this past few days.\n",
    "\n",
    "`NOTE: On this lab you should try to write all the functions yourself using only the most basic of python syntax and without functions such as len, count, sum, max, min, in, etc. Give it a try. 🧑🏻‍💻👩🏻‍💻`\n",
    "\n",
    "The cell after each exercise contains a few tests to check if your function works as expected."
   ]
  },
  {
   "cell_type": "code",
   "execution_count": null,
   "metadata": {},
   "outputs": [],
   "source": [
    "from mod.testing import *\n",
    "import unittest"
   ]
  },
  {
   "cell_type": "markdown",
   "metadata": {},
   "source": [
    "## 1. Write a function that returns the greater of two numbers"
   ]
  },
  {
   "cell_type": "code",
   "execution_count": null,
   "metadata": {},
   "outputs": [],
   "source": [
    "def greater(a, b):\n",
    "    if a > b:\n",
    "        return a\n",
    "    else:\n",
    "        return b\n",
    "\n",
    "def test_greater(func):\n",
    "    test_cases = [(3, 5), (9, 1), (8, 8)]\n",
    "    for a, b in test_cases:\n",
    "        result = func(a, b)\n",
    "        print(f\"greater({a}, {b}) = {result}\")\n",
    "\n",
    "# Test the greater function\n",
    "test_greater(greater)"
   ]
  },
  {
   "cell_type": "code",
   "execution_count": null,
   "metadata": {},
   "outputs": [],
   "source": []
  },
  {
   "cell_type": "code",
   "execution_count": null,
   "metadata": {},
   "outputs": [],
   "source": [
    "#your code here"
   ]
  },
  {
   "cell_type": "markdown",
   "metadata": {},
   "source": [
    "## 2. Now write a function that returns the largest element on a list"
   ]
  },
  {
   "cell_type": "code",
   "execution_count": null,
   "metadata": {},
   "outputs": [],
   "source": [
    "def greater(a, b):\n",
    "    return a if a > b else b\n",
    "\n",
    "def greatest(numbers):\n",
    "    greatest_number = numbers[0]\n",
    "    for number in numbers:\n",
    "        if number > greatest_number:\n",
    "            greatest_number = number\n",
    "    return greatest_number\n",
    "\n",
    "def test_greatest(func):\n",
    "    test_cases = [\n",
    "        [3, 5, 9, 1, 8],\n",
    "        [5, 9, 22, 18, 7, 13],\n",
    "        [8, 2, 1, 0, 7, 12]\n",
    "    ]\n",
    "    for numbers in test_cases:\n",
    "        result = func(numbers)\n",
    "        print(f\"greatest({numbers}) = {result}\")\n",
    "\n",
    "\n",
    "# Test the greatest function\n",
    "test_greatest(greatest)"
   ]
  },
  {
   "cell_type": "code",
   "execution_count": null,
   "metadata": {},
   "outputs": [],
   "source": []
  },
  {
   "cell_type": "markdown",
   "metadata": {},
   "source": [
    "## 3. Write a function that sums all the elements on a list"
   ]
  },
  {
   "cell_type": "code",
   "execution_count": null,
   "metadata": {},
   "outputs": [],
   "source": [
    "def sum_all(lst):\n",
    "    total_sum = 0\n",
    "    for number in lst:\n",
    "        total_sum += number #sum total\n",
    "    return total_sum\n",
    "\n",
    "def test_sum(func):\n",
    "    test_cases = [\n",
    "        [1, 2, 3, 4, 5],\n",
    "        [10, 20, 30],\n",
    "        [5, 5, 5, 5, 5, 5, 5, 5, 5, 5]\n",
    "    ]\n",
    "    \n",
    "    for numbers in test_cases:\n",
    "        result = func(numbers)\n",
    "        print(f\"sum_all({numbers}) = {result}\")\n",
    "\n",
    "# Test the sum_all function\n",
    "test_sum(sum_all)"
   ]
  },
  {
   "cell_type": "code",
   "execution_count": null,
   "metadata": {
    "scrolled": true
   },
   "outputs": [],
   "source": []
  },
  {
   "cell_type": "markdown",
   "metadata": {},
   "source": [
    "## 4. Write another function that multiplies all the elements on a list"
   ]
  },
  {
   "cell_type": "code",
   "execution_count": null,
   "metadata": {},
   "outputs": [],
   "source": [
    "def mult_all(lst):\n",
    "    result = 1\n",
    "    for number in lst:\n",
    "        result *= number # multiplication total\n",
    "    return result\n",
    "\n",
    "def test_mult(func):\n",
    "    test_cases = [\n",
    "        [1, 2, 3, 4, 5],\n",
    "        [10, 20, 30],\n",
    "        [5, 5, 5, 5, 5, 5, 5, 5, 5, 5]\n",
    "    ]\n",
    "    \n",
    "    for numbers in test_cases:\n",
    "        result = func(numbers)\n",
    "        print(f\"mult_all({numbers}) = {result}\")\n",
    "\n",
    "# Test the mult_all function\n",
    "test_mult(mult_all)"
   ]
  },
  {
   "cell_type": "code",
   "execution_count": null,
   "metadata": {
    "scrolled": true
   },
   "outputs": [],
   "source": [
    "def mult_all(lst):\n",
    "    result = 1 #1 whole result from the multiplie function\n",
    "    for number in lst:\n",
    "        result *= number # multiplication total\n",
    "    return result\n",
    "\n",
    "def test_mult(func):\n",
    "    test_cases = [\n",
    "        [1, 2, 3, 4, 5], #5\n",
    "        [10, 20, 30], #3\n",
    "        [5, 5, 5, 5, 5, 5, 5, 5, 5, 5] #10\n",
    "    ]\n",
    "    \n",
    "    for numbers in test_cases:\n",
    "        result = func(numbers)\n",
    "        comma_formatted_result = '{:,}'.format(result) # this enables to put commas in the result\n",
    "        print(f\"mult_all({numbers}) = {comma_formatted_result}\")\n",
    "\n",
    "# Test the mult_all function\n",
    "test_mult(mult_all)"
   ]
  },
  {
   "cell_type": "markdown",
   "metadata": {},
   "source": [
    "## 5. Now combine those two ideas and write a function that receives a list and either \"+\" or \"*\" and outputs acordingly"
   ]
  },
  {
   "cell_type": "code",
   "execution_count": null,
   "metadata": {},
   "outputs": [],
   "source": [
    "def oper_all(array, oper = \"*\"): # need to decide what the operation will do\n",
    "    result = 0 if oper == \"+\" else 1 #it takes a list of numbers and an operator (\"+\" or \"*\") as arguments\n",
    "    for number in array: # array is designated to the numbers (\"+\" or \"*\")\n",
    "        if oper == \"+\": # sum\n",
    "            result += number\n",
    "        elif oper == \"*\": # multiply\n",
    "            result *= number\n",
    "    return result\n",
    "\n",
    "def test_operations(func): \n",
    "    test_cases = [\n",
    "        ([1, 2, 3, 4, 5], \"+\"),\n",
    "        ([1, 2, 3, 4, 5], \"*\"),\n",
    "        ([3, 6, 9, 12], \"+\"),\n",
    "        ([3, 6, 9, 12], \"*\")\n",
    "    ]\n",
    "    for array, oper in test_cases:\n",
    "        result = func(array, oper)\n",
    "        print(f\"{oper}_all_number_cases({array}) = {result}\")\n",
    "\n",
    "# Test the oper_all function\n",
    "test_operations(oper_all)"
   ]
  },
  {
   "cell_type": "code",
   "execution_count": null,
   "metadata": {},
   "outputs": [],
   "source": []
  },
  {
   "cell_type": "markdown",
   "metadata": {},
   "source": [
    "## 6. Write a function that returns the factorial of a number."
   ]
  },
  {
   "cell_type": "code",
   "execution_count": null,
   "metadata": {},
   "outputs": [],
   "source": [
    "def factorial(n):\n",
    "    result = 1 #value of 1\n",
    "    for i in range(1, n + 1):  #factorial function for loop to accumulate the product of all positive integers less than or equal to n\n",
    "        result *= i\n",
    "    return result\n",
    "\n",
    "def test_factorial(func):\n",
    "    test_cases = [3, 5, 7, 10, -15, 0, 100]\n",
    "    for n in test_cases:\n",
    "        result = func(n)\n",
    "        print(f\"factorial({n}) = {result}\")\n",
    "\n",
    "# Test the factorial function\n",
    "test_factorial(factorial)"
   ]
  },
  {
   "cell_type": "code",
   "execution_count": null,
   "metadata": {},
   "outputs": [],
   "source": [
    "#factorial formula\n",
    "#n! = n * ( n - 1 ) *...*1\n",
    "\n",
    "# This code defines a function called \"factorial\" which takes an input \"n\". The function uses a for loop to iterate through the range of numbers \n",
    "# from 1 to n+1. For each number in that range, it multiplies the current value of x by the number in the range. At the end of the loop, \n",
    "# the function returns the final value of x, which will be the factorial of the input number \"n\".\n",
    "\n",
    "# The Factorial of a positive integer n is the product of all positive integers less than or equal to n. \n",
    "# For example, the factorial of 6 (written \"6!\") is 6 * 5 * 4 * 3 * 2 * 1 = 720.\n",
    "\n",
    "# So this function takes an input of any positive integer, and returns the factorial of that number."
   ]
  },
  {
   "cell_type": "code",
   "execution_count": null,
   "metadata": {},
   "outputs": [],
   "source": []
  },
  {
   "cell_type": "markdown",
   "metadata": {},
   "source": [
    "## 7. Write a function that takes a list and returns a list of the unique values.\n",
    "\n",
    "`NOTE: You cannot use set. 🤔`"
   ]
  },
  {
   "cell_type": "code",
   "execution_count": null,
   "metadata": {},
   "outputs": [],
   "source": [
    "def unique(lst_un):\n",
    "    unique_values = []\n",
    "    for value in lst_un:\n",
    "        if value not in unique_values: # if the value is not unique, eliminate it\n",
    "            unique_values.append(value) #.append() on a list, you provide the element that you want to add as an argument to the method, and it adds that element to the end of the list\n",
    "    return unique_values # add the 'value' to the 'unique_value' list \n",
    "\n",
    "def test_unique(func): # not a set of values\n",
    "    test_cases = [\n",
    "        [3, 5, 2, 5, 7, 1, 3],\n",
    "        [\"apple\", \"orange\", \"banana\", \"apple\", \"pear\", \"banana\"],\n",
    "        [1, 2, 3, 4, 5],\n",
    "        [1, 1, 1, 1, 1, 1]\n",
    "    ]\n",
    "    for lst in test_cases:\n",
    "        result = func(lst)\n",
    "        print(f\"unique({lst}) = {result}\")\n",
    "\n",
    "# Test the unique function\n",
    "test_unique(unique)"
   ]
  },
  {
   "cell_type": "code",
   "execution_count": null,
   "metadata": {},
   "outputs": [],
   "source": []
  },
  {
   "cell_type": "markdown",
   "metadata": {},
   "source": [
    "## 8. Write a function that returns the mode of a list, i.e.: the element that appears the most times.\n",
    "`NOTE: You should not use count... 🧐`"
   ]
  },
  {
   "cell_type": "code",
   "execution_count": null,
   "metadata": {},
   "outputs": [],
   "source": [
    "def unique(lst_un):\n",
    "    \n",
    "    unique_values = []\n",
    "    \n",
    "    for value in lst_un:\n",
    "        \n",
    "        if value not in unique_values: # if the value is not unique, eliminate it\n",
    "            unique_values.append(value) #.append() on a list, you provide the element that you want to add as an argument to the method, and it adds that element to the end of the list\n",
    "    return unique_values # add the 'value' to the 'unique_value' list \n",
    "\n",
    "def find_mode(input_list):\n",
    "    frequency = {}  # Create an empty dictionary to store the frequency of each element\n",
    "    for item in input_list:\n",
    "        if item in frequency:\n",
    "            frequency[item] += 1\n",
    "        else:\n",
    "            frequency[item] = 1\n",
    "\n",
    "    max_frequency = max(frequency.values())  # Find the highest frequency\n",
    "\n",
    "    mode = [key for key, value in frequency.items() if value == max_frequency]  # Find the mode(s)\n",
    "\n",
    "    return mode\n",
    "\n",
    "# Example usage:\n",
    "input_list = [1, 2, 2, 3, 3, 3, 4, 4, 4, 4]\n",
    "print(find_mode(input_list))  # Output: [4]\n",
    "\n",
    "# Sample usage of the mode_counter function\n",
    "test_input = [1, 2, 2, 3, 3, 3, 4, 4, 4, 4]\n",
    "print(mode_counter(test_input))  # Output: [4]\n",
    "\n"
   ]
  },
  {
   "cell_type": "code",
   "execution_count": null,
   "metadata": {},
   "outputs": [],
   "source": [
    "# This will test your function \n",
    "#test_mode(mode_counter)"
   ]
  },
  {
   "cell_type": "markdown",
   "metadata": {},
   "source": [
    "## 9. Write a function that calculates the standard deviation of a list.\n",
    "`NOTE: Do not use any libraries or already built functions. 😉`"
   ]
  },
  {
   "cell_type": "code",
   "execution_count": null,
   "metadata": {},
   "outputs": [],
   "source": [
    "def st_dev(list_sd):\n",
    "    # Step 1: Calculate the mean\n",
    "    n = len(list_sd)\n",
    "    mean = sum(list_sd) / n\n",
    "\n",
    "    # Step 2: Calculate the sum of squared differences from the mean\n",
    "    sum_squared_diff = sum((x - mean) ** 2 for x in list_sd)\n",
    "\n",
    "    # Step 3: Calculate the variance\n",
    "    variance = sum_squared_diff / n\n",
    "\n",
    "    # Step 4: Calculate the standard deviation\n",
    "    std_dev = variance ** 0.5\n",
    "\n",
    "    return std_dev\n",
    "\n",
    "# Test the function\n",
    "test_input = [1, 2, 3, 4, 5]\n",
    "print(st_dev(test_input))"
   ]
  },
  {
   "cell_type": "code",
   "execution_count": null,
   "metadata": {},
   "outputs": [],
   "source": []
  },
  {
   "cell_type": "markdown",
   "metadata": {},
   "source": [
    "## 10. Write a function to check if a string is a pangram, i.e.: if it contains all the letters of the alphabet at least once. Mind that the strings may contain characters that are not letters."
   ]
  },
  {
   "cell_type": "code",
   "execution_count": null,
   "metadata": {},
   "outputs": [],
   "source": [
    "\n",
    "def pangram(string):\n",
    "    alphabet = \"abcdefghijklmnopqrstuvwxyz\"  # Define the lowercase alphabet\n",
    "\n",
    "    # Convert the input string to lowercase\n",
    "    string = string.lower()\n",
    "\n",
    "    for char in alphabet:\n",
    "        if char not in string:\n",
    "            return False\n",
    "\n",
    "    return True\n",
    "\n",
    "# Test the function\n",
    "test_string = \"The quick brown fox jumps over the lazy dog\"\n",
    "print(pangram(test_string))  # Output: True\n",
    "# This will test your function \n",
    "#test_pangram(pangram)"
   ]
  },
  {
   "cell_type": "code",
   "execution_count": null,
   "metadata": {},
   "outputs": [],
   "source": []
  },
  {
   "cell_type": "markdown",
   "metadata": {},
   "source": [
    "## 11. Write a function that receives a string of comma separated words and returns a string of comma separated words sorted alphabetically.\n",
    "\n",
    "`NOTE: You may use sorted but not split and definitely no join! 🤪`"
   ]
  },
  {
   "cell_type": "code",
   "execution_count": null,
   "metadata": {},
   "outputs": [],
   "source": [
    "def sort_alpha(string):\n",
    "    words = [\"\"]\n",
    "    current_word_index = 0\n",
    "\n",
    "    # Iterate through each character in the input string\n",
    "    for char in string:\n",
    "        if char == \",\":\n",
    "            # Move to the next word\n",
    "            current_word_index += 1\n",
    "            words.append(\"\")\n",
    "        else:\n",
    "            # Add the character to the current word\n",
    "            words[current_word_index] += char\n",
    "    \n",
    "    # Sort the words alphabetically\n",
    "    sorted_words = sorted(words)\n",
    "\n",
    "    # Concatenate the sorted words into a single string\n",
    "    sorted_string = \"\"\n",
    "    for word in sorted_words:\n",
    "        sorted_string += word + \",\"\n",
    "    \n",
    "    # Remove the trailing comma\n",
    "    sorted_string = sorted_string[:-1]\n",
    "\n",
    "    return sorted_string\n",
    "\n",
    "# Example usage:\n",
    "test_input = \"zebra,apple,banana,carrot\"\n",
    "print(sort_alpha(test_input))  # Output: 'apple,banana,carrot,zebra'"
   ]
  },
  {
   "cell_type": "code",
   "execution_count": null,
   "metadata": {},
   "outputs": [],
   "source": []
  },
  {
   "cell_type": "markdown",
   "metadata": {},
   "source": [
    "## 12. Write a function to check if a given password is strong (at least 8 characters, at least one lower case, at least one upper case, at least one number and at least one special character). It should output True if strong and False if not."
   ]
  },
  {
   "cell_type": "code",
   "execution_count": null,
   "metadata": {},
   "outputs": [],
   "source": [
    "import re\n",
    "\n",
    "def check_pass(password):\n",
    "    # Define the patterns for lower case, upper case, number, and special character\n",
    "    lower_case = re.compile(r'[a-z]')\n",
    "    upper_case = re.compile(r'[A-Z]')\n",
    "    digit = re.compile(r'[0-9]')\n",
    "    special_char = re.compile(r'[^a-zA-Z0-9\\s]')  # Any character that is not a letter, digit, or whitespace\n",
    "\n",
    "    # Check for the conditions of a strong password\n",
    "    if (len(password) >= 8 and\n",
    "        lower_case.search(password) and\n",
    "        upper_case.search(password) and\n",
    "        digit.search(password) and\n",
    "        special_char.search(password)):\n",
    "        return True\n",
    "    else:\n",
    "        return False\n",
    "\n",
    "# Test the function\n",
    "#test_password = \"StrongP@ssw0rd\"\n",
    "#print(check_pass(test_password))  # Output: True"
   ]
  },
  {
   "cell_type": "code",
   "execution_count": null,
   "metadata": {},
   "outputs": [],
   "source": [
    "# Ask the user to input a password\n",
    "user_password = input(\"Please enter your password: \")\n",
    "\n",
    "# Check the strength of the password\n",
    "if check_pass(user_password):\n",
    "    print(\"The password is strong.\")\n",
    "else:\n",
    "    print(\"The password is not strong.\")"
   ]
  }
 ],
 "metadata": {
  "kernelspec": {
   "display_name": "Python 3 (ipykernel)",
   "language": "python",
   "name": "python3"
  },
  "language_info": {
   "codemirror_mode": {
    "name": "ipython",
    "version": 3
   },
   "file_extension": ".py",
   "mimetype": "text/x-python",
   "name": "python",
   "nbconvert_exporter": "python",
   "pygments_lexer": "ipython3",
   "version": "3.9.13"
  },
  "vscode": {
   "interpreter": {
    "hash": "aee8b7b246df8f9039afb4144a1f6fd8d2ca17a180786b69acc140d282b71a49"
   }
  }
 },
 "nbformat": 4,
 "nbformat_minor": 4
}
