{
 "cells": [
  {
   "cell_type": "markdown",
   "metadata": {},
   "source": [
    "# Functions"
   ]
  },
  {
   "cell_type": "markdown",
   "metadata": {},
   "source": [
    "On this lab we will put to practice some of the concepts we have learned on this past few days.\n",
    "\n",
    "`NOTE: On this lab you should try to write all the functions yourself using only the most basic of python syntax and without functions such as len, count, sum, max, min, in, etc. Give it a try. 🧑🏻‍💻👩🏻‍💻`\n",
    "\n",
    "The cell after each exercise contains a few tests to check if your function works as expected."
   ]
  },
  {
   "cell_type": "code",
   "execution_count": null,
   "metadata": {},
   "outputs": [],
   "source": [
    "from mod.testing import *\n",
    "import unittest"
   ]
  },
  {
   "cell_type": "markdown",
   "metadata": {},
   "source": [
    "## 1. Write a function that returns the greater of two numbers"
   ]
  },
  {
   "cell_type": "code",
   "execution_count": 6,
   "metadata": {},
   "outputs": [],
   "source": [
    "def greater(a,b):\n",
    "#function has been defined above. I npw need to include the conditions for the outcome \n",
    "    if a > b:\n",
    "        return a\n",
    "    else:\n",
    "        return b"
   ]
  },
  {
   "cell_type": "code",
   "execution_count": 13,
   "metadata": {},
   "outputs": [
    {
     "name": "stdout",
     "output_type": "stream",
     "text": [
      "38\n",
      "97\n",
      "13\n"
     ]
    }
   ],
   "source": [
    "def greater(a, b):\n",
    "  \"\"\"Finds the greater of two numbers.\n",
    "\n",
    "  Args:\n",
    "    a: The first number.\n",
    "    b: The second number.\n",
    "\n",
    "  Returns:\n",
    "    The greater of the two numbers.\n",
    "  \"\"\"\n",
    "\n",
    "  if a > b:\n",
    "    return a\n",
    "  else:\n",
    "    return b\n",
    "\n",
    "print(greater(14, 38))  \n",
    "print(greater(20, 97)) \n",
    "print(greater(13, 13))  "
   ]
  },
  {
   "cell_type": "markdown",
   "metadata": {},
   "source": [
    "## 2. Now write a function that returns the largest element on a list"
   ]
  },
  {
   "cell_type": "code",
   "execution_count": 18,
   "metadata": {},
   "outputs": [],
   "source": [
    "#your code here\n",
    "def largest(list):\n",
    "  \"\"\"Finds the largest element in a list.\n",
    "\n",
    "  Args:\n",
    "    list: A list of numbers.\n",
    "\n",
    "  Returns:\n",
    "    The largest number in the list.\n",
    "  \"\"\"\n",
    "\n",
    "  largest = list[0]  \n",
    "  for num in list[1:]:\n",
    "    if num > largest:\n",
    "      largest = num\n",
    "  return largest\n"
   ]
  },
  {
   "cell_type": "code",
   "execution_count": 38,
   "metadata": {},
   "outputs": [
    {
     "name": "stdout",
     "output_type": "stream",
     "text": [
      "5\n",
      "4\n",
      "14\n"
     ]
    }
   ],
   "source": [
    "# This will test your function \n",
    "##test_greatest(greatest)\n",
    "#your code here\n",
    "def largest(lst):\n",
    "  \"\"\"Finds the largest element in a list.\n",
    "\n",
    "  Args:\n",
    "    lst: A list of numbers.\n",
    "\n",
    "  Returns:\n",
    "    The largest number in the list.\n",
    "  \"\"\"\n",
    "\n",
    "  largest = lst[0]\n",
    "  for num in lst[1:]:\n",
    "    if num > largest:\n",
    "      largest = num\n",
    "  return largest\n",
    "\n",
    "# Test cases\n",
    "print(largest([5]))  # Should output 5\n",
    "print(largest([2, 3, 4]))  # Should output 4\n",
    "print(largest([10, 14, 13, 10]))  # Should output 14"
   ]
  },
  {
   "cell_type": "markdown",
   "metadata": {},
   "source": [
    "## 3. Write a function that sums all the elements on a list"
   ]
  },
  {
   "cell_type": "code",
   "execution_count": 39,
   "metadata": {},
   "outputs": [],
   "source": [
    "def sum_all(lst):\n",
    "    \"\"\"Sums all elements in a list.\n",
    "    Args:\n",
    "        lst: A list of numbers.\n",
    "    Returns:\n",
    "        The sum of all numbers in the list.\n",
    "    \"\"\"\n",
    "    total = 0\n",
    "    for num in lst:\n",
    "        total += num\n",
    "    return total"
   ]
  },
  {
   "cell_type": "code",
   "execution_count": 40,
   "metadata": {
    "scrolled": true
   },
   "outputs": [
    {
     "name": "stdout",
     "output_type": "stream",
     "text": [
      "Sum of [] is 0\n",
      "Sum of [5] is 5\n",
      "Sum of [1, 2, 3, 4, 5] is 15\n",
      "Tests completed!\n"
     ]
    }
   ],
   "source": [
    "# This will test your function \n",
    "def sum_all(lst):\n",
    "    \"\"\"Sums all elements in a list.\n",
    "    Args:\n",
    "        lst: A list of numbers.\n",
    "    Returns:\n",
    "        The sum of all numbers in the list.\n",
    "    \"\"\"\n",
    "    total = 0\n",
    "    for num in lst:\n",
    "        total += num\n",
    "    return total\n",
    "\n",
    "def test_sum(sum_function):\n",
    "    \"\"\"Tests the given sum function with simple inputs.\n",
    "    Args:\n",
    "        sum_function: A function that takes a list and returns the sum of its elements.\n",
    "    \"\"\"\n",
    "    # Test case 1: Empty list\n",
    "    result = sum_function([])\n",
    "    print(f\"Sum of [] is {result}\")\n",
    "    \n",
    "    # Test case 2: List with one element\n",
    "    result = sum_function([5])\n",
    "    print(f\"Sum of [5] is {result}\")\n",
    "    \n",
    "    # Test case 3: List with multiple positive integers\n",
    "    result = sum_function([1, 2, 3, 4, 5])\n",
    "    print(f\"Sum of [1, 2, 3, 4, 5] is {result}\")\n",
    "    \n",
    "    print(\"Tests completed!\")\n",
    "\n",
    "# Run the test\n",
    "test_sum(sum_all)"
   ]
  },
  {
   "cell_type": "markdown",
   "metadata": {},
   "source": [
    "## 4. Write another function that multiplies all the elements on a list"
   ]
  },
  {
   "cell_type": "code",
   "execution_count": 41,
   "metadata": {},
   "outputs": [],
   "source": [
    "def mult_all(lst):\n",
    "#your code here\n",
    "    \"\"\"Multiplies all elements in a list.\n",
    "    Args:\n",
    "        lst: A list of numbers.\n",
    "    Returns:\n",
    "        The product of all numbers in the list.\n",
    "    \"\"\"\n",
    "    product = 1\n",
    "    for num in lst:\n",
    "        product *= num\n",
    "    return product"
   ]
  },
  {
   "cell_type": "code",
   "execution_count": 42,
   "metadata": {
    "scrolled": true
   },
   "outputs": [],
   "source": [
    "# This will test your function \n",
    "def test_mult(mult_all):\n",
    "\n",
    "    \"\"\"Tests the given multiply function with simple inputs.\n",
    "    Args:\n",
    "        multiply_function: A function that takes a list and returns the product of its elements.\n",
    "    \"\"\"\n",
    "    # Test case 1: Empty list\n",
    "    result = mult_function([])\n",
    "    print(f\"Product of [] is {result}\")\n",
    "    \n",
    "    # Test case 2: List with one element\n",
    "    result = mult_function([5])\n",
    "    print(f\"Product of [5] is {result}\")\n",
    "    \n",
    "    # Test case 3: List with multiple positive integers\n",
    "    result = mult_function([1, 2, 3, 4, 5])\n",
    "    print(f\"Product of [1, 2, 3, 4, 5] is {result}\")\n",
    "    \n",
    "    print(\"Tests completed!\")"
   ]
  },
  {
   "cell_type": "markdown",
   "metadata": {},
   "source": [
    "## 5. Now combine those two ideas and write a function that receives a list and either \"+\" or \"*\" and outputs acordingly"
   ]
  },
  {
   "cell_type": "code",
   "execution_count": 44,
   "metadata": {},
   "outputs": [],
   "source": [
    "def oper_all(arr, oper = \"*\"):\n",
    "#your code here\n",
    "  \"\"\"Performs the specified operation on a list of numbers.\n",
    "\n",
    "  Args:\n",
    "    arr: A list of numbers.\n",
    "    oper: The operator to use (\"+\" for addition, \"*\" for multiplication).\n",
    "\n",
    "  Returns:\n",
    "    The result of the operation on the list.\n",
    "  \"\"\"\n",
    "\n",
    "  if oper == \"+\":\n",
    "    return sum(arr)\n",
    "  elif oper == \"*\":\n",
    "    product = 1\n",
    "    for num in arr:\n",
    "      product *= num\n",
    "    return product\n",
    "  else:\n",
    "    raise ValueError(\"Invalid input. The operator should '+' or '*'.\")"
   ]
  },
  {
   "cell_type": "code",
   "execution_count": 52,
   "metadata": {},
   "outputs": [],
   "source": [
    "import unittest\n",
    "\n",
    "def oper_all(arr, oper=\"*\"):\n",
    "  # ... (your function definition here)\n",
    "\n",
    "  def test_addition():\n",
    "    result = oper_all([1, 2, 3], \"+\")\n",
    "    assert result == 6\n",
    "\n",
    "def test_multiplication():\n",
    "  result = oper_all([2, 3, 4], \"*\")\n",
    "  assert result == 24\n",
    "\n",
    "def test_invalid_operator():\n",
    "  try:\n",
    "    oper_all([1, 2, 3], \"-\")\n",
    "    assert False\n",
    "  except ValueError:\n",
    "    pass"
   ]
  },
  {
   "cell_type": "markdown",
   "metadata": {},
   "source": [
    "## 6. Write a function that returns the factorial of a number."
   ]
  },
  {
   "cell_type": "code",
   "execution_count": 54,
   "metadata": {},
   "outputs": [],
   "source": [
    "def factorial(n):\n",
    "#your code here\n",
    "\n",
    "  if n == 0:\n",
    "    return 1\n",
    "  else:\n",
    "    return n * factorial(n - 1)"
   ]
  },
  {
   "cell_type": "code",
   "execution_count": 55,
   "metadata": {},
   "outputs": [],
   "source": [
    "#factorial formula\n",
    "#n! = n * ( n - 1 ) *...*1\n",
    "\n",
    "# This code defines a function called \"factorial\" which takes an input \"n\". The function uses a for loop to iterate through the range of numbers \n",
    "# from 1 to n+1. For each number in that range, it multiplies the current value of x by the number in the range. At the end of the loop, \n",
    "# the function returns the final value of x, which will be the factorial of the input number \"n\".\n",
    "\n",
    "# The Factorial of a positive integer n is the product of all positive integers less than or equal to n. \n",
    "# For example, the factorial of 6 (written \"6!\") is 6 * 5 * 4 * 3 * 2 * 1 = 720.\n",
    "\n",
    "# So this function takes an input of any positive integer, and returns the factorial of that number."
   ]
  },
  {
   "cell_type": "code",
   "execution_count": null,
   "metadata": {},
   "outputs": [
    {
     "ename": "",
     "evalue": "",
     "output_type": "error",
     "traceback": [
      "\u001b[1;31mThe Kernel crashed while executing code in the current cell or a previous cell. \n",
      "\u001b[1;31mPlease review the code in the cell(s) to identify a possible cause of the failure. \n",
      "\u001b[1;31mClick <a href='https://aka.ms/vscodeJupyterKernelCrash'>here</a> for more info. \n",
      "\u001b[1;31mView Jupyter <a href='command:jupyter.viewOutput'>log</a> for further details."
     ]
    }
   ],
   "source": [
    "import unittest\n",
    "\n",
    "def factorial(n):\n",
    "  \"\"\"Calculates the factorial of a number.\n",
    "\n",
    "  Args:\n",
    "    n: The number to calculate the factorial of.\n",
    "\n",
    "  Returns:\n",
    "    The factorial of the number.\n",
    "  \"\"\"\n",
    "\n",
    "  if n == 0:\n",
    "    return 1\n",
    "  else:\n",
    "    return n * factorial(n - 1)\n",
    "\n",
    "def test_factorial_0():\n",
    "  result = factorial(0)\n",
    "  assert result == 1\n",
    "  print(\"Test passed: Factorial of 0 is 1.\")\n",
    "\n",
    "def test_factorial_positive():\n",
    "  result = factorial(5)\n",
    "  assert result == 120\n",
    "  print(\"Test passed: Factorial of 5 is 120.\")\n",
    "\n",
    "def test_factorial_negative():\n",
    "  try:\n",
    "    factorial(-1)\n",
    "    assert False\n",
    "  except ValueError:\n",
    "    print(\"Test passed: Factorial of a negative number raises a ValueError.\")\n",
    "\n",
    "if __name__ == '__main__':\n",
    "  test_factorial_0()\n",
    "  test_factorial_positive()\n",
    "  test_factorial_negative()\n",
    "  print(\"All tests passed!\")"
   ]
  },
  {
   "cell_type": "markdown",
   "metadata": {},
   "source": [
    "## 7. Write a function that takes a list and returns a list of the unique values.\n",
    "\n",
    "`NOTE: You cannot use set. 🤔`"
   ]
  },
  {
   "cell_type": "code",
   "execution_count": null,
   "metadata": {},
   "outputs": [],
   "source": [
    "def unique(lst_un):\n",
    "#your code here\n",
    "  \"\"\"Finds unique values in a list without using set.\n",
    "\n",
    "  Args:\n",
    "    lst_un: The input list.\n",
    "\n",
    "  Returns:\n",
    "    A list of unique values.\n",
    "  \"\"\"\n",
    "\n",
    "  unique_values = []\n",
    "  for item in lst_un:\n",
    "    if item not in unique_values:\n",
    "      unique_values.append(item)\n",
    "  return unique_values"
   ]
  },
  {
   "cell_type": "code",
   "execution_count": null,
   "metadata": {},
   "outputs": [],
   "source": [
    "# This will test your function \n",
    "test_unique(unique)"
   ]
  },
  {
   "cell_type": "markdown",
   "metadata": {},
   "source": [
    "## 8. Write a function that returns the mode of a list, i.e.: the element that appears the most times.\n",
    "`NOTE: You should not use count... 🧐`"
   ]
  },
  {
   "cell_type": "code",
   "execution_count": null,
   "metadata": {},
   "outputs": [],
   "source": [
    "def mode_counter(arr):\n",
    "#your code here\n",
    "\n",
    "  \"\"\"Finds the mode of a list.\n",
    "\n",
    "  Args:\n",
    "    arr: The input list.\n",
    "\n",
    "  Returns:\n",
    "    The mode of the list, or None if there is no mode.\n",
    "  \"\"\"\n",
    "\n",
    "  max_count = 0\n",
    "  mode = None\n",
    "  for item in arr:\n",
    "    count = 0\n",
    "    for num in arr:\n",
    "      if num == item:\n",
    "        count += 1\n",
    "    if count > max_count:\n",
    "      max_count = count\n",
    "      mode = item\n",
    "  return mode"
   ]
  },
  {
   "cell_type": "code",
   "execution_count": null,
   "metadata": {},
   "outputs": [],
   "source": [
    "# This will test your function \n",
    "test_mode(mode_counter)"
   ]
  },
  {
   "cell_type": "markdown",
   "metadata": {},
   "source": [
    "## 9. Write a function that calculates the standard deviation of a list.\n",
    "`NOTE: Do not use any libraries or already built functions. 😉`"
   ]
  },
  {
   "cell_type": "code",
   "execution_count": null,
   "metadata": {},
   "outputs": [],
   "source": [
    "def st_dev(list_sd):\n",
    "#your code here\n",
    "  \"\"\"Calculates the standard deviation of a list.\n",
    "\n",
    "  Args:\n",
    "    lst_sd: The input list.\n",
    "\n",
    "  Returns:\n",
    "    The standard deviation of the list.\n",
    "  \"\"\"\n",
    "\n",
    "  n = len(lst_sd)\n",
    "  mean = sum(lst_sd) / n\n",
    "  variance = sum((x - mean) ** 2 for x in lst_sd) / n\n",
    "  standard_deviation = (variance) ** 0.5\n",
    "  return standard_deviation"
   ]
  },
  {
   "cell_type": "code",
   "execution_count": null,
   "metadata": {},
   "outputs": [],
   "source": [
    "# This will test your function \n",
    "import unittest\n",
    "\n",
    "def st_dev(lst_sd):\n",
    "  # ... (your function definition here)\n",
    "\n",
    "class TestStDev(unittest.TestCase):\n",
    "  def test_empty_list(self):\n",
    "    with self.assertRaises(ValueError):\n",
    "      st_dev([])\n",
    "\n",
    "  def test_single_element(self):\n",
    "    self.assertEqual(st_dev([5]), 0)\n",
    "\n",
    "  def test_multiple_elements(self):\n",
    "    self.assertAlmostEqual(st_dev([1, 2, 3, 4, 5]), 1.5811388300841898, places=10)\n",
    "\n",
    "if __name__ == '__main__':\n",
    "  unittest.main()"
   ]
  },
  {
   "cell_type": "markdown",
   "metadata": {},
   "source": [
    "## 10. Write a function to check if a string is a pangram, i.e.: if it contains all the letters of the alphabet at least once. Mind that the strings may contain characters that are not letters."
   ]
  },
  {
   "cell_type": "code",
   "execution_count": null,
   "metadata": {},
   "outputs": [],
   "source": [
    "def pangram(string):\n",
    "#your code here\n",
    "def st_dev(lst_sd):\n",
    "  \"\"\"Calculates the standard deviation of a list.\n",
    "\n",
    "  Args:\n",
    "    lst_sd: The input list.\n",
    "\n",
    "  Returns:\n",
    "    The standard deviation of the list.\n",
    "  \"\"\"\n",
    "\n",
    "  n = len(lst_sd)\n",
    "  mean = sum(lst_sd) / n\n",
    "  variance = sum((x - mean) ** 2 for x in lst_sd) / n\n",
    "  standard_deviation = (variance) ** 0.5\n",
    "  return standard_deviation"
   ]
  },
  {
   "cell_type": "code",
   "execution_count": null,
   "metadata": {},
   "outputs": [],
   "source": [
    "# This will test your function \n",
    "# ... (your function definitions)\n",
    "\n",
    "# Call the test function\n",
    "test_pangram()"
   ]
  },
  {
   "cell_type": "markdown",
   "metadata": {},
   "source": [
    "## 11. Write a function that receives a string of comma separated words and returns a string of comma separated words sorted alphabetically.\n",
    "\n",
    "`NOTE: You may use sorted but not split and definitely no join! 🤪`"
   ]
  },
  {
   "cell_type": "code",
   "execution_count": null,
   "metadata": {},
   "outputs": [],
   "source": [
    " def sort_alpha(string):\n",
    "#your code here\n",
    "  \"\"\"Sorts a string of comma-separated words alphabetically.\n",
    "\n",
    "  Args:\n",
    "    string: The input string.\n",
    "\n",
    "  Returns:\n",
    "    The sorted string.\n",
    "  \"\"\"\n",
    "\n",
    "  sorted_words = []\n",
    "  current_word = \"\"\n",
    "  for char in string:\n",
    "    if char != \",\":\n",
    "      current_word += char\n",
    "    else:\n",
    "      sorted_words.append(current_word)\n",
    "      current_word = \"\"\n",
    "  if current_word:\n",
    "    sorted_words.append(current_word)\n",
    "  sorted_words.sort()\n",
    "  sorted_string = \"\"\n",
    "  for word in sorted_words:\n",
    "    sorted_string += word + \",\"\n",
    "  return sorted_string[:-1]"
   ]
  },
  {
   "cell_type": "code",
   "execution_count": null,
   "metadata": {},
   "outputs": [],
   "source": [
    "# This will test your function \n",
    "\n",
    "import unittest\n",
    "\n",
    "def sort_alpha(string):\n",
    "\n",
    "class TestSortAlpha(unittest.TestCase):\n",
    "  def test_sorting(self):\n",
    "    self.assertEqual(sort_alpha(\"apple,banana,cherry\"), \"apple,banana,cherry\")\n",
    "    self.assertEqual(sort_alpha(\"cherry,apple,banana\"), \"apple,banana,cherry\")\n",
    "    self.assertEqual(sort_alpha(\"banana,apple,cherry,date\"), \"apple,banana,cherry,date\")\n",
    "\n",
    "if __name__ == '__main__':\n",
    "  unittest.main()"
   ]
  },
  {
   "cell_type": "markdown",
   "metadata": {},
   "source": [
    "## 12. Write a function to check if a given password is strong (at least 8 characters, at least one lower case, at least one upper case, at least one number and at least one special character). It should output True if strong and False if not."
   ]
  },
  {
   "cell_type": "code",
   "execution_count": null,
   "metadata": {},
   "outputs": [],
   "source": [
    "def check_pass(password):\n",
    "#your code here\n",
    "import re\n",
    "\n",
    "  \"\"\"Checks if a password is strong.\n",
    "\n",
    "  Args:\n",
    "    password: The password to check.\n",
    "\n",
    "  Returns:\n",
    "    True if the password is strong, False otherwise.\n",
    "  \"\"\"\n",
    "\n",
    "  if len(password) < 8:\n",
    "    return False\n",
    "\n",
    "  if not any(char.islower() for char in password):\n",
    "    return False\n",
    "\n",
    "  if not any(char.isupper() for char in password):\n",
    "    return False\n",
    "\n",
    "  if not any(char.isdigit() for char in password):\n",
    "    return False\n",
    "\n",
    "  if not any(char in \"!@#\\$%^&*(),.?\":{}|<>\" for char in password):\n",
    "    return False\n",
    "\n",
    "  return True"
   ]
  },
  {
   "cell_type": "code",
   "execution_count": null,
   "metadata": {},
   "outputs": [],
   "source": [
    "# This will test your function \n",
    "test_pass(check_pass)\n",
    "test_pass()"
   ]
  }
 ],
 "metadata": {
  "kernelspec": {
   "display_name": "Python 3 (ipykernel)",
   "language": "python",
   "name": "python3"
  },
  "language_info": {
   "codemirror_mode": {
    "name": "ipython",
    "version": 3
   },
   "file_extension": ".py",
   "mimetype": "text/x-python",
   "name": "python",
   "nbconvert_exporter": "python",
   "pygments_lexer": "ipython3",
   "version": "3.10.5"
  },
  "vscode": {
   "interpreter": {
    "hash": "aee8b7b246df8f9039afb4144a1f6fd8d2ca17a180786b69acc140d282b71a49"
   }
  }
 },
 "nbformat": 4,
 "nbformat_minor": 4
}
