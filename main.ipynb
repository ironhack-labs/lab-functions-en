{
 "cells": [
  {
   "cell_type": "markdown",
   "metadata": {},
   "source": [
    "# Functions"
   ]
  },
  {
   "cell_type": "markdown",
   "metadata": {},
   "source": [
    "On this lab we will put to practice some of the concepts we have learned on this past few days.\n",
    "\n",
    "`NOTE: On this lab you should try to write all the functions yourself using only the most basic of python syntax and without functions such as len, count, sum, max, min, in, etc. Give it a try. 🧑🏻‍💻👩🏻‍💻`\n",
    "\n",
    "The cell after each exercise contains a few tests to check if your function works as expected."
   ]
  },
  {
   "cell_type": "code",
   "execution_count": 6,
   "metadata": {},
   "outputs": [],
   "source": [
    "from mod.testing import *\n",
    "import unittest"
   ]
  },
  {
   "cell_type": "markdown",
   "metadata": {},
   "source": [
    "## 1. Write a function that returns the greater of two numbers"
   ]
  },
  {
   "cell_type": "code",
   "execution_count": 87,
   "metadata": {},
   "outputs": [],
   "source": [
    "def greater(a,b):\n",
    "#your code here\n",
    "    #return max(a,b)\n",
    "    if a > b:\n",
    "        return a\n",
    "    else:\n",
    "        return b"
   ]
  },
  {
   "cell_type": "code",
   "execution_count": 88,
   "metadata": {},
   "outputs": [
    {
     "name": "stderr",
     "output_type": "stream",
     "text": [
      "....................................................................................................\n",
      "----------------------------------------------------------------------\n",
      "Ran 100 tests in 0.642s\n",
      "\n",
      "OK\n"
     ]
    }
   ],
   "source": [
    "# This will test your function \n",
    "test_greater(greater)"
   ]
  },
  {
   "cell_type": "code",
   "execution_count": null,
   "metadata": {},
   "outputs": [],
   "source": [
    "#your code here"
   ]
  },
  {
   "cell_type": "markdown",
   "metadata": {},
   "source": [
    "## 2. Now write a function that returns the largest element on a list"
   ]
  },
  {
   "cell_type": "code",
   "execution_count": 91,
   "metadata": {},
   "outputs": [],
   "source": [
    "#your code here\n",
    "def greatest(lst):\n",
    "    if not lst:\n",
    "        return None  \n",
    "    \n",
    "    largest = lst[0]  \n",
    "\n",
    "    for number in lst:\n",
    "        if number > largest:  \n",
    "            largest = number  \n",
    "    \n",
    "    return largest"
   ]
  },
  {
   "cell_type": "code",
   "execution_count": 92,
   "metadata": {},
   "outputs": [
    {
     "name": "stderr",
     "output_type": "stream",
     "text": [
      "....................................................................................................\n",
      "----------------------------------------------------------------------\n",
      "Ran 100 tests in 0.403s\n",
      "\n",
      "OK\n"
     ]
    }
   ],
   "source": [
    "# This will test your function \n",
    "test_greatest(greatest)"
   ]
  },
  {
   "cell_type": "markdown",
   "metadata": {},
   "source": [
    "## 3. Write a function that sums all the elements on a list"
   ]
  },
  {
   "cell_type": "code",
   "execution_count": 93,
   "metadata": {},
   "outputs": [],
   "source": [
    "def sum_all(lst):\n",
    "#your code here\n",
    "    #return sum(lst)\n",
    "    total = 0  \n",
    "\n",
    "    for number in lst:\n",
    "        total += number  \n",
    "    \n",
    "    return total"
   ]
  },
  {
   "cell_type": "code",
   "execution_count": 94,
   "metadata": {
    "scrolled": true
   },
   "outputs": [
    {
     "name": "stderr",
     "output_type": "stream",
     "text": [
      "....................................................................................................\n",
      "----------------------------------------------------------------------\n",
      "Ran 100 tests in 0.630s\n",
      "\n",
      "OK\n"
     ]
    }
   ],
   "source": [
    "# This will test your function \n",
    "test_sum(sum_all)"
   ]
  },
  {
   "cell_type": "markdown",
   "metadata": {},
   "source": [
    "## 4. Write another function that multiplies all the elements on a list"
   ]
  },
  {
   "cell_type": "code",
   "execution_count": 28,
   "metadata": {},
   "outputs": [],
   "source": [
    "def mult_all(lst):\n",
    "#your code here\n",
    "    multi = 1\n",
    "    for element in lst:\n",
    "        multi *= element\n",
    "    return multi\n"
   ]
  },
  {
   "cell_type": "code",
   "execution_count": 29,
   "metadata": {
    "scrolled": true
   },
   "outputs": [
    {
     "name": "stderr",
     "output_type": "stream",
     "text": [
      "....................................................................................................\n",
      "----------------------------------------------------------------------\n",
      "Ran 100 tests in 0.926s\n",
      "\n",
      "OK\n"
     ]
    }
   ],
   "source": [
    "# This will test your function \n",
    "test_mult(mult_all)"
   ]
  },
  {
   "cell_type": "markdown",
   "metadata": {},
   "source": [
    "## 5. Now combine those two ideas and write a function that receives a list and either \"+\" or \"*\" and outputs acordingly"
   ]
  },
  {
   "cell_type": "code",
   "execution_count": 95,
   "metadata": {},
   "outputs": [],
   "source": [
    "def oper_all(arr, oper = \"*\"):\n",
    "#your code here\n",
    "    if oper == \"+\":\n",
    "        total = 0  \n",
    "        for number in arr:\n",
    "            total += number  \n",
    "        return total\n",
    "    elif oper == \"*\":\n",
    "        multi = 1\n",
    "        for element in arr:\n",
    "            multi *= element\n",
    "        return multi\n",
    "    else: \n",
    "        return None"
   ]
  },
  {
   "cell_type": "code",
   "execution_count": 96,
   "metadata": {},
   "outputs": [
    {
     "name": "stderr",
     "output_type": "stream",
     "text": [
      "....................................................................................................\n",
      "----------------------------------------------------------------------\n",
      "Ran 100 tests in 0.423s\n",
      "\n",
      "OK\n"
     ]
    }
   ],
   "source": [
    "# This will test your function \n",
    "test_operations(oper_all)"
   ]
  },
  {
   "cell_type": "markdown",
   "metadata": {},
   "source": [
    "## 6. Write a function that returns the factorial of a number."
   ]
  },
  {
   "cell_type": "code",
   "execution_count": 38,
   "metadata": {},
   "outputs": [],
   "source": [
    "def factorial(n):\n",
    "#your code here\n",
    "    x = n + 1\n",
    "    factorial = 1\n",
    "    for number in range(1, x):\n",
    "        factorial *= number\n",
    "    return factorial\n"
   ]
  },
  {
   "cell_type": "code",
   "execution_count": null,
   "metadata": {},
   "outputs": [],
   "source": [
    "#factorial formula\n",
    "#n! = n * ( n - 1 ) *...*1\n",
    "\n",
    "# This code defines a function called \"factorial\" which takes an input \"n\". The function uses a for loop to iterate through the range of numbers \n",
    "# from 1 to n+1. For each number in that range, it multiplies the current value of x by the number in the range. At the end of the loop, \n",
    "# the function returns the final value of x, which will be the factorial of the input number \"n\".\n",
    "\n",
    "# The Factorial of a positive integer n is the product of all positive integers less than or equal to n. \n",
    "# For example, the factorial of 6 (written \"6!\") is 6 * 5 * 4 * 3 * 2 * 1 = 720.\n",
    "\n",
    "# So this function takes an input of any positive integer, and returns the factorial of that number."
   ]
  },
  {
   "cell_type": "code",
   "execution_count": 39,
   "metadata": {},
   "outputs": [
    {
     "name": "stderr",
     "output_type": "stream",
     "text": [
      "....................................................................................................\n",
      "----------------------------------------------------------------------\n",
      "Ran 100 tests in 0.620s\n",
      "\n",
      "OK\n"
     ]
    }
   ],
   "source": [
    "# This will test your function \n",
    "test_factorial(factorial)"
   ]
  },
  {
   "cell_type": "markdown",
   "metadata": {},
   "source": [
    "## 7. Write a function that takes a list and returns a list of the unique values.\n",
    "\n",
    "`NOTE: You cannot use set. 🤔`"
   ]
  },
  {
   "cell_type": "code",
   "execution_count": null,
   "metadata": {},
   "outputs": [],
   "source": []
  },
  {
   "cell_type": "code",
   "execution_count": 44,
   "metadata": {},
   "outputs": [],
   "source": [
    "def unique(lst_un):\n",
    "#your code here\n",
    "    lst_unique =[]\n",
    "    for element in lst_un:\n",
    "            if element not in lst_unique:\n",
    "                lst_unique.append(element)\n",
    "    return lst_unique\n",
    "                \n"
   ]
  },
  {
   "cell_type": "code",
   "execution_count": 45,
   "metadata": {},
   "outputs": [
    {
     "name": "stderr",
     "output_type": "stream",
     "text": [
      "....................................................................................................\n",
      "----------------------------------------------------------------------\n",
      "Ran 100 tests in 0.936s\n",
      "\n",
      "OK\n"
     ]
    }
   ],
   "source": [
    "# This will test your function \n",
    "test_unique(unique)"
   ]
  },
  {
   "cell_type": "markdown",
   "metadata": {},
   "source": [
    "## 8. Write a function that returns the mode of a list, i.e.: the element that appears the most times.\n",
    "`NOTE: You should not use count... 🧐`"
   ]
  },
  {
   "cell_type": "code",
   "execution_count": 111,
   "metadata": {},
   "outputs": [],
   "source": [
    "def mode_counter(arr):\n",
    "   #return mode(arr)\n",
    "#your code here\n",
    "    if not arr:\n",
    "        return None  \n",
    "    \n",
    "    frequency = {}  \n",
    "    \n",
    "   \n",
    "    for element in arr:\n",
    "        if element not in frequency:\n",
    "            frequency[element] = 1\n",
    "        else:\n",
    "            frequency[element] += 1\n",
    "    \n",
    "    \n",
    "    mode1 = None\n",
    "    max_count = 0\n",
    "    \n",
    "    for element, count1 in frequency.items():\n",
    "        if count1 > max_count:\n",
    "            max_count = count1\n",
    "            mode1 = element\n",
    "    \n",
    "    return mode1"
   ]
  },
  {
   "cell_type": "code",
   "execution_count": 112,
   "metadata": {},
   "outputs": [
    {
     "name": "stderr",
     "output_type": "stream",
     "text": [
      "....................................................................................................\n",
      "----------------------------------------------------------------------\n",
      "Ran 100 tests in 0.484s\n",
      "\n",
      "OK\n"
     ]
    }
   ],
   "source": [
    "# This will test your function \n",
    "test_mode(mode_counter)"
   ]
  },
  {
   "cell_type": "markdown",
   "metadata": {},
   "source": [
    "## 9. Write a function that calculates the standard deviation of a list.\n",
    "`NOTE: Do not use any libraries or already built functions. 😉`"
   ]
  },
  {
   "cell_type": "markdown",
   "metadata": {},
   "source": [
    "def st_dev(list_sd):\n",
    "#your code here\n",
    "    mean = sum(list_sd) / len(list_sd) # calculate mean of the list\n",
    "\n",
    "    variance_sum = 0 # calculate variance\n",
    "    for value in list_sd:\n",
    "            variance_sum += (value - mean) ** 2\n",
    "    variance = variance_sum / (len(list_sd)-1)\n",
    "\n",
    "    standard_deviation = variance ** 0.5\n",
    "    \n",
    "    return standard_deviation\n",
    "\n",
    "\n"
   ]
  },
  {
   "cell_type": "code",
   "execution_count": 109,
   "metadata": {},
   "outputs": [],
   "source": [
    "def st_dev(list_sd):\n",
    "    \n",
    "    count = 0\n",
    "    for _ in list_sd:\n",
    "        count += 1\n",
    "    \n",
    "    \n",
    "    total_sum = 0\n",
    "    for value in list_sd:\n",
    "        total_sum += value\n",
    "    \n",
    "    \n",
    "    mean = total_sum / count\n",
    "    \n",
    "    \n",
    "    variance_sum = 0\n",
    "    for value in list_sd:\n",
    "        variance_sum += (value - mean) ** 2\n",
    "    variance = variance_sum / (count - 1)\n",
    "    \n",
    "    \n",
    "    standard_deviation = variance ** 0.5\n",
    "    \n",
    "    return standard_deviation"
   ]
  },
  {
   "cell_type": "code",
   "execution_count": 110,
   "metadata": {},
   "outputs": [
    {
     "name": "stderr",
     "output_type": "stream",
     "text": [
      "....................................................................................................\n",
      "----------------------------------------------------------------------\n",
      "Ran 100 tests in 0.377s\n",
      "\n",
      "OK\n"
     ]
    }
   ],
   "source": [
    "# This will test your function \n",
    "test_stdev(st_dev)"
   ]
  },
  {
   "cell_type": "markdown",
   "metadata": {},
   "source": [
    "## 10. Write a function to check if a string is a pangram, i.e.: if it contains all the letters of the alphabet at least once. Mind that the strings may contain characters that are not letters."
   ]
  },
  {
   "cell_type": "markdown",
   "metadata": {},
   "source": [
    "def pangram(string):\n",
    "#your code here\n",
    "    alphabet = set(\"abcdefghijklmnopqrstuvwxyz\")\n",
    "\n",
    "    input_string_set = set(string.lower()) #compare small characters\n",
    "\n",
    "    return alphabet <= input_string_set #is string part of the alphabet?"
   ]
  },
  {
   "cell_type": "code",
   "execution_count": 105,
   "metadata": {},
   "outputs": [],
   "source": [
    "def pangram(string):\n",
    "    \n",
    "    alphabet_seen = [False] * 26  \n",
    "\n",
    "    \n",
    "    alphabet = \"abcdefghijklmnopqrstuvwxyz\"\n",
    "    \n",
    "    \n",
    "    string = string.lower()\n",
    "\n",
    "    \n",
    "    for char in string:\n",
    "        for index in range(26):\n",
    "            if char == alphabet[index]:\n",
    "                alphabet_seen[index] = True\n",
    "                break\n",
    "    \n",
    "    \n",
    "    for seen in alphabet_seen:\n",
    "        if not seen:\n",
    "            return False\n",
    "    \n",
    "    return True"
   ]
  },
  {
   "cell_type": "code",
   "execution_count": 106,
   "metadata": {},
   "outputs": [
    {
     "name": "stderr",
     "output_type": "stream",
     "text": [
      "..............................\n",
      "----------------------------------------------------------------------\n",
      "Ran 30 tests in 0.217s\n",
      "\n",
      "OK\n"
     ]
    }
   ],
   "source": [
    "# This will test your function \n",
    "test_pangram(pangram)"
   ]
  },
  {
   "cell_type": "markdown",
   "metadata": {},
   "source": [
    "## 11. Write a function that receives a string of comma separated words and returns a string of comma separated words sorted alphabetically.\n",
    "\n",
    "`NOTE: You may use sorted but not split and definitely no join! 🤪`"
   ]
  },
  {
   "cell_type": "markdown",
   "metadata": {},
   "source": [
    "def sort_alpha(string):\n",
    "    words = []\n",
    "    word = ''\n",
    "    \n",
    "    # manual separation\n",
    "    for char in string:\n",
    "        if char == ',':\n",
    "            words.append(word)  # insert the collected letter\n",
    "            word = ''  #word on empty again\n",
    "        else:\n",
    "            word += char  # bring sign and word together\n",
    "    \n",
    "    words.append(word)  # insert last word\n",
    "\n",
    "    # sorting\n",
    "    sorted_words = sorted(words)\n",
    "    \n",
    "    # join words\n",
    "    result = \"\"\n",
    "    for i, word in enumerate(sorted_words):\n",
    "        if i > 0:\n",
    "            result += \",\"\n",
    "        result += word\n",
    "    \n",
    "    return result"
   ]
  },
  {
   "cell_type": "code",
   "execution_count": 103,
   "metadata": {},
   "outputs": [],
   "source": [
    "def sort_alpha(string):\n",
    "    \n",
    "    words = []\n",
    "    word = ''\n",
    "    for char in string:\n",
    "        if char == ',':\n",
    "            words.append(word)\n",
    "            word = ''\n",
    "        else:\n",
    "            word += char\n",
    "    words.append(word)\n",
    "\n",
    "    \n",
    "    n = 0\n",
    "    for _ in words:\n",
    "        n += 1\n",
    "\n",
    "    \n",
    "    for i in range(n):\n",
    "        for j in range(0, n - i - 1):\n",
    "            if words[j] > words[j + 1]:\n",
    "                \n",
    "                words[j], words[j + 1] = words[j + 1], words[j]\n",
    "\n",
    "    \n",
    "    result = \"\"\n",
    "    count = 0\n",
    "    for word in words:\n",
    "        if count > 0:\n",
    "            result += \",\"\n",
    "        result += word\n",
    "        count += 1\n",
    "\n",
    "    return result"
   ]
  },
  {
   "cell_type": "code",
   "execution_count": 104,
   "metadata": {},
   "outputs": [
    {
     "name": "stderr",
     "output_type": "stream",
     "text": [
      "....................................................................................................\n",
      "----------------------------------------------------------------------\n",
      "Ran 100 tests in 0.655s\n",
      "\n",
      "OK\n"
     ]
    }
   ],
   "source": [
    "# This will test your function \n",
    "test_alpha(sort_alpha)"
   ]
  },
  {
   "cell_type": "markdown",
   "metadata": {},
   "source": [
    "## 12. Write a function to check if a given password is strong (at least 8 characters, at least one lower case, at least one upper case, at least one number and at least one special character). It should output True if strong and False if not."
   ]
  },
  {
   "cell_type": "code",
   "execution_count": 82,
   "metadata": {},
   "outputs": [],
   "source": [
    "def check_pass(password):\n",
    "#your code here\n",
    "\n",
    "    # check for length\n",
    "    if len(password) < 8:\n",
    "        return False\n",
    "\n",
    "    # variables for the different criteria\n",
    "    has_lower = False\n",
    "    has_upper = False\n",
    "    has_digit = False\n",
    "    has_special = False\n",
    "\n",
    "    # special characters\n",
    "    special_characters = \"!\\\"#$%&'()*+,-./:;<=>?@[\\\\]^_`{|}~\"\n",
    "\n",
    "    # check caracters in password\n",
    "    for char in password:\n",
    "        if char.islower():\n",
    "            has_lower = True\n",
    "        if char.isupper():\n",
    "            has_upper = True\n",
    "        if char.isdigit():\n",
    "            has_digit = True\n",
    "        if char in special_characters:\n",
    "            has_special = True\n",
    "\n",
    "    # all criteria have to be fullfilled\n",
    "\n",
    "    return has_lower and has_upper and has_digit and has_special"
   ]
  },
  {
   "cell_type": "code",
   "execution_count": 83,
   "metadata": {},
   "outputs": [
    {
     "name": "stderr",
     "output_type": "stream",
     "text": [
      "....................................................................................................\n",
      "----------------------------------------------------------------------\n",
      "Ran 100 tests in 1.212s\n",
      "\n",
      "OK\n"
     ]
    }
   ],
   "source": [
    "# This will test your function \n",
    "test_pass(check_pass)"
   ]
  }
 ],
 "metadata": {
  "kernelspec": {
   "display_name": "base",
   "language": "python",
   "name": "python3"
  },
  "language_info": {
   "codemirror_mode": {
    "name": "ipython",
    "version": 3
   },
   "file_extension": ".py",
   "mimetype": "text/x-python",
   "name": "python",
   "nbconvert_exporter": "python",
   "pygments_lexer": "ipython3",
   "version": "3.12.7"
  }
 },
 "nbformat": 4,
 "nbformat_minor": 4
}
