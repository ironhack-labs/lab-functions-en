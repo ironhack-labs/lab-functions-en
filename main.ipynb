{
 "cells": [
  {
   "cell_type": "markdown",
   "metadata": {},
   "source": [
    "# Functions"
   ]
  },
  {
   "cell_type": "markdown",
   "metadata": {},
   "source": [
    "On this lab we will put to practice some of the concepts we have learned on this past few days.\n",
    "\n",
    "`NOTE: On this lab you should try to write all the functions yourself using only the most basic of python syntax and without functions such as len, count, sum, max, min, in, etc. Give it a try. 🧑🏻‍💻👩🏻‍💻`\n",
    "\n",
    "The cell after each exercise contains a few tests to check if your function works as expected."
   ]
  },
  {
   "cell_type": "code",
   "execution_count": null,
   "metadata": {},
   "outputs": [],
   "source": [
    "from mod.testing import *\n",
    "import unittest"
   ]
  },
  {
   "cell_type": "markdown",
   "metadata": {},
   "source": [
    "## 1. Write a function that returns the greater of two numbers"
   ]
  },
  {
   "cell_type": "code",
   "execution_count": null,
   "metadata": {},
   "outputs": [],
   "source": [
    "def greater(a, b):\n",
    "    \"\"\"\n",
    "    Get the greater of two numbers (not using max()).\n",
    "    \"\"\"\n",
    "    return a if a > b else b"
   ]
  },
  {
   "cell_type": "code",
   "execution_count": null,
   "metadata": {},
   "outputs": [],
   "source": [
    "# This will test your function \n",
    "test_greater(greater)"
   ]
  },
  {
   "cell_type": "markdown",
   "metadata": {},
   "source": [
    "## 2. Now write a function that returns the largest element on a list"
   ]
  },
  {
   "cell_type": "code",
   "execution_count": null,
   "metadata": {},
   "outputs": [],
   "source": [
    "def greatest(value_list):\n",
    "    \"\"\"\n",
    "    Finding the largest element in a list (not using max()).\n",
    "    \"\"\"\n",
    "    result = value_list[0]\n",
    "    for value in value_list:\n",
    "        if value > result:\n",
    "            result = value\n",
    "    return result"
   ]
  },
  {
   "cell_type": "code",
   "execution_count": null,
   "metadata": {},
   "outputs": [],
   "source": [
    "# This will test your function \n",
    "test_greatest(greatest)"
   ]
  },
  {
   "cell_type": "markdown",
   "metadata": {},
   "source": [
    "## 3. Write a function that sums all the elements on a list"
   ]
  },
  {
   "cell_type": "code",
   "execution_count": null,
   "metadata": {},
   "outputs": [],
   "source": [
    "def sum_all(lst):\n",
    "    \"\"\"\n",
    "    Calculate the sum of all elements in a list (not using sum()).\n",
    "    \"\"\"\n",
    "    result = 0\n",
    "    for element in lst:\n",
    "        result += element\n",
    "    return result"
   ]
  },
  {
   "cell_type": "code",
   "execution_count": null,
   "metadata": {
    "scrolled": true
   },
   "outputs": [],
   "source": [
    "# This will test your function \n",
    "test_sum(sum_all)"
   ]
  },
  {
   "cell_type": "markdown",
   "metadata": {},
   "source": [
    "## 4. Write another function that multiplies all the elements on a list"
   ]
  },
  {
   "cell_type": "code",
   "execution_count": null,
   "metadata": {},
   "outputs": [],
   "source": [
    "def mult_all(lst):\n",
    "    \"\"\"\n",
    "    Multiply all elements in a list.\n",
    "    \"\"\"\n",
    "    result = 1\n",
    "    for element in lst:\n",
    "        result *= element\n",
    "    return result"
   ]
  },
  {
   "cell_type": "code",
   "execution_count": null,
   "metadata": {
    "scrolled": true
   },
   "outputs": [],
   "source": [
    "# This will test your function \n",
    "test_mult(mult_all)"
   ]
  },
  {
   "cell_type": "markdown",
   "metadata": {},
   "source": [
    "## 5. Now combine those two ideas and write a function that receives a list and either \"+\" or \"*\" and outputs acordingly"
   ]
  },
  {
   "cell_type": "code",
   "execution_count": null,
   "metadata": {},
   "outputs": [],
   "source": [
    "def oper_all(arr, oper = \"*\"):\n",
    "    \"\"\"\n",
    "    Multiply or sum all elements in a list (not using sum()).\n",
    "    \"\"\"\n",
    "    if oper == '*':\n",
    "        result = 1\n",
    "        for element in arr:\n",
    "            result *= element\n",
    "        return result\n",
    "    else:\n",
    "        result = 0\n",
    "        for element in arr:\n",
    "            result += element\n",
    "        return result"
   ]
  },
  {
   "cell_type": "code",
   "execution_count": null,
   "metadata": {},
   "outputs": [],
   "source": [
    "# This will test your function \n",
    "test_operations(oper_all)"
   ]
  },
  {
   "cell_type": "markdown",
   "metadata": {},
   "source": [
    "## 6. Write a function that returns the factorial of a number."
   ]
  },
  {
   "cell_type": "code",
   "execution_count": null,
   "metadata": {},
   "outputs": [],
   "source": [
    "def factorial(n):\n",
    "    \"\"\"\n",
    "    Calculate the factorial of n.\n",
    "    \"\"\"\n",
    "    result = 1\n",
    "    for num in range(1, n + 1):\n",
    "        result *= num\n",
    "    return result"
   ]
  },
  {
   "cell_type": "code",
   "execution_count": null,
   "metadata": {},
   "outputs": [],
   "source": [
    "#factorial formula\n",
    "#n! = n * ( n - 1 ) *...*1\n",
    "\n",
    "# This code defines a function called \"factorial\" which takes an input \"n\". The function uses a for loop to iterate through the range of numbers \n",
    "# from 1 to n+1. For each number in that range, it multiplies the current value of x by the number in the range. At the end of the loop, \n",
    "# the function returns the final value of x, which will be the factorial of the input number \"n\".\n",
    "\n",
    "# The Factorial of a positive integer n is the product of all positive integers less than or equal to n. \n",
    "# For example, the factorial of 6 (written \"6!\") is 6 * 5 * 4 * 3 * 2 * 1 = 720.\n",
    "\n",
    "# So this function takes an input of any positive integer, and returns the factorial of that number."
   ]
  },
  {
   "cell_type": "code",
   "execution_count": null,
   "metadata": {},
   "outputs": [],
   "source": [
    "# This will test your function \n",
    "test_factorial(factorial)"
   ]
  },
  {
   "cell_type": "markdown",
   "metadata": {},
   "source": [
    "## 7. Write a function that takes a list and returns a list of the unique values.\n",
    "\n",
    "`NOTE: You cannot use set. 🤔`"
   ]
  },
  {
   "cell_type": "code",
   "execution_count": null,
   "metadata": {},
   "outputs": [],
   "source": [
    "def unique(lst_un):\n",
    "    \"\"\"\n",
    "    Get list of unique values.\n",
    "    \"\"\"\n",
    "    result = []\n",
    "    for value in lst_un:\n",
    "        if not value in result:\n",
    "            result.append(value)\n",
    "    return result"
   ]
  },
  {
   "cell_type": "code",
   "execution_count": null,
   "metadata": {},
   "outputs": [],
   "source": [
    "# This will test your function \n",
    "test_unique(unique)"
   ]
  },
  {
   "cell_type": "markdown",
   "metadata": {},
   "source": [
    "## 8. Write a function that returns the mode of a list, i.e.: the element that appears the most times.\n",
    "`NOTE: You should not use count... 🧐`"
   ]
  },
  {
   "cell_type": "code",
   "execution_count": null,
   "metadata": {},
   "outputs": [],
   "source": [
    "def mode_counter(arr):\n",
    "    \"\"\"\n",
    "    Calculate the mode of a list (not using count()).\n",
    "    \"\"\"\n",
    "    freq_dict = {}\n",
    "    for element in arr:\n",
    "        if not element in freq_dict:\n",
    "            freq_dict[element] = 1\n",
    "        else:\n",
    "            freq_dict[element] += 1\n",
    "    max_count = 0\n",
    "    mode = None\n",
    "    for entry, count in freq_dict.items():\n",
    "        if count > max_count:\n",
    "            max_count = count\n",
    "            mode = entry\n",
    "    return mode"
   ]
  },
  {
   "cell_type": "code",
   "execution_count": null,
   "metadata": {},
   "outputs": [],
   "source": [
    "# This will test your function \n",
    "test_mode(mode_counter)"
   ]
  },
  {
   "cell_type": "markdown",
   "metadata": {},
   "source": [
    "## 9. Write a function that calculates the standard deviation of a list.\n",
    "`NOTE: Do not use any libraries or already built functions. 😉`"
   ]
  },
  {
   "cell_type": "code",
   "execution_count": null,
   "metadata": {},
   "outputs": [],
   "source": [
    "def st_dev(list_sd):\n",
    "    \"\"\"\n",
    "    Calculate the standard deviation of a list\n",
    "    (no libraries or built-in functions, not even len())\n",
    "    \"\"\"\n",
    "    # 1. Calculate the mean\n",
    "    mean = 0\n",
    "    item_count = 0\n",
    "    for num in list_sd:\n",
    "        mean += num\n",
    "        item_count += 1\n",
    "    mean /= item_count\n",
    "    # 2. Calculate mean deviations\n",
    "    mean_dev = [num - mean for num in list_sd]\n",
    "    # 3. Square mean deviations\n",
    "    square_dev = [dev ** 2 for dev in mean_dev]\n",
    "    # 4. Find the mean of the squared deviations\n",
    "    sum_squared = 0\n",
    "    for square in square_dev:\n",
    "        sum_squared += square\n",
    "    variance = sum_squared / (item_count - 1)\n",
    "    standard_deviation = variance ** 0.5\n",
    "    return standard_deviation"
   ]
  },
  {
   "cell_type": "code",
   "execution_count": null,
   "metadata": {},
   "outputs": [],
   "source": [
    "# This will test your function \n",
    "test_stdev(st_dev)"
   ]
  },
  {
   "cell_type": "markdown",
   "metadata": {},
   "source": [
    "## 10. Write a function to check if a string is a pangram, i.e.: if it contains all the letters of the alphabet at least once. Mind that the strings may contain characters that are not letters."
   ]
  },
  {
   "cell_type": "code",
   "execution_count": null,
   "metadata": {},
   "outputs": [],
   "source": [
    "def pangram(string):\n",
    "    \"\"\" \n",
    "    Check if input string is a pangram.\n",
    "    \"\"\"\n",
    "    letters = []\n",
    "    alphabet = 'abcdefghijklmnopqrstuvwxyz'\n",
    "    for char in string.lower():\n",
    "        if char in alphabet and char not in letters:\n",
    "            letters.append(char)\n",
    "    for letter in alphabet:\n",
    "        if letter not in letters:\n",
    "            return False\n",
    "    return True"
   ]
  },
  {
   "cell_type": "code",
   "execution_count": null,
   "metadata": {},
   "outputs": [],
   "source": [
    "# This will test your function \n",
    "test_pangram(pangram)"
   ]
  },
  {
   "cell_type": "markdown",
   "metadata": {},
   "source": [
    "## 11. Write a function that receives a string of comma separated words and returns a string of comma separated words sorted alphabetically.\n",
    "\n",
    "`NOTE: You may use sorted but not split and definitely no join! 🤪`"
   ]
  },
  {
   "cell_type": "code",
   "execution_count": null,
   "metadata": {},
   "outputs": [],
   "source": [
    "def sort_alpha(string):\n",
    "    \"\"\"\n",
    "    Sort string of comma separated words not using split() and join().\n",
    "    \"\"\"\n",
    "    word_list = []\n",
    "    word = ''\n",
    "    for letter in string:\n",
    "        if letter != ',':\n",
    "            word += letter\n",
    "        else:\n",
    "            word_list.append(word)\n",
    "            word = ''\n",
    "    word_list.append(word)\n",
    "    result = ''\n",
    "    for index, word in enumerate(sorted(word_list)):\n",
    "        if index > 0:\n",
    "            result += ','\n",
    "        result += word\n",
    "    return result"
   ]
  },
  {
   "cell_type": "code",
   "execution_count": null,
   "metadata": {},
   "outputs": [],
   "source": [
    "# This will test your function \n",
    "test_alpha(sort_alpha)"
   ]
  },
  {
   "cell_type": "markdown",
   "metadata": {},
   "source": [
    "## 12. Write a function to check if a given password is strong (at least 8 characters, at least one lower case, at least one upper case, at least one number and at least one special character). It should output True if strong and False if not."
   ]
  },
  {
   "cell_type": "code",
   "execution_count": null,
   "metadata": {},
   "outputs": [],
   "source": [
    "def check_pass(password):\n",
    "    \"\"\"\n",
    "    Check password for at least:\n",
    "    - 8 characters\n",
    "    - one lower case letter\n",
    "    - one upper case letter\n",
    "    - one number\n",
    "    - one special character\n",
    "    \"\"\"\n",
    "    length = 0\n",
    "    lower_case = False\n",
    "    upper_case = False\n",
    "    number_check = False\n",
    "    special_char = False\n",
    "    for letter in password:\n",
    "        length += 1\n",
    "        if letter.islower():\n",
    "            lower_case = True\n",
    "        if letter.isupper():\n",
    "            upper_case = True\n",
    "        if letter in '0123456789':\n",
    "            number_check = True\n",
    "        if not letter.isdigit() and not letter.isalpha():\n",
    "            special_char = True\n",
    "    return length > 7 and lower_case and upper_case and number_check and special_char"
   ]
  },
  {
   "cell_type": "code",
   "execution_count": null,
   "metadata": {},
   "outputs": [],
   "source": [
    "# This will test your function \n",
    "test_pass(check_pass)"
   ]
  }
 ],
 "metadata": {
  "kernelspec": {
   "display_name": "Python 3 (ipykernel)",
   "language": "python",
   "name": "python3"
  },
  "language_info": {
   "codemirror_mode": {
    "name": "ipython",
    "version": 3
   },
   "file_extension": ".py",
   "mimetype": "text/x-python",
   "name": "python",
   "nbconvert_exporter": "python",
   "pygments_lexer": "ipython3",
   "version": "3.12.3"
  },
  "vscode": {
   "interpreter": {
    "hash": "aee8b7b246df8f9039afb4144a1f6fd8d2ca17a180786b69acc140d282b71a49"
   }
  }
 },
 "nbformat": 4,
 "nbformat_minor": 4
}
