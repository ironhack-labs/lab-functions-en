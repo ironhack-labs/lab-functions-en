{
 "cells": [
  {
   "cell_type": "markdown",
   "metadata": {},
   "source": [
    "# Functions"
   ]
  },
  {
   "cell_type": "markdown",
   "metadata": {},
   "source": [
    "On this lab we will put to practice some of the concepts we have learned on this past few days.\n",
    "\n",
    "`NOTE: On this lab you should try to write all the functions yourself using only the most basic of python syntax and without functions such as len, count, sum, max, min, in, etc. Give it a try. 🧑🏻‍💻👩🏻‍💻`\n",
    "\n",
    "The cell after each exercise contains a few tests to check if your function works as expected."
   ]
  },
  {
   "cell_type": "code",
   "execution_count": 64,
   "metadata": {},
   "outputs": [],
   "source": [
    "from mod.testing import *\n",
    "import unittest"
   ]
  },
  {
   "cell_type": "markdown",
   "metadata": {},
   "source": [
    "## 1. Write a function that returns the greater of two numbers"
   ]
  },
  {
   "cell_type": "code",
   "execution_count": 65,
   "metadata": {},
   "outputs": [],
   "source": [
    "\n",
    "def greater(a, b):\n",
    "    if a > b:\n",
    "        return a\n",
    "    else:\n",
    "        return b"
   ]
  },
  {
   "cell_type": "code",
   "execution_count": 66,
   "metadata": {},
   "outputs": [],
   "source": [
    "def test_greater(greater_func):\n",
    "    assert greater_func(10, 5) == 10, \"Test case 1 failed\"\n",
    "    assert greater_func(-1, -5) == -1, \"Test case 2 failed\"\n",
    "    assert greater_func(0, 0) == 0, \"Test case 3 failed\"\n",
    "    assert greater_func(100, 50) == 100, \"Test case 4 failed\"\n",
    "    assert greater_func(-10, 10) == 10, \"Test case 5 failed\"\n",
    "    print(\"All test cases passed! 🎉\")"
   ]
  },
  {
   "cell_type": "code",
   "execution_count": 67,
   "metadata": {},
   "outputs": [],
   "source": [
    "def test_greater(greater_func):\n",
    "    # Test case 1: a > b\n",
    "    assert greater_func(10, 5) == 10, \"Test case 1 failed\"\n",
    "    \n",
    "    # Test case 2: b > a\n",
    "    assert greater_func(-1, -5) == -1, \"Test case 2 failed\"\n",
    "    \n",
    "    # Test case 3: a == b\n",
    "    assert greater_func(0, 0) == 0, \"Test case 3 failed\"\n",
    "    \n",
    "    # Test case 4: Negative and positive numbers\n",
    "    assert greater_func(-3, 2) == 2, \"Test case 4 failed\"\n",
    "    \n",
    "    # Test case 5: Large numbers\n",
    "    assert greater_func(1000000, 999999) == 1000000, \"Test case 5 failed\"\n",
    "    \n",
    "    print(\"All test cases passed! 🎉\")"
   ]
  },
  {
   "cell_type": "markdown",
   "metadata": {},
   "source": [
    "## 2. Now write a function that returns the largest element on a list"
   ]
  },
  {
   "cell_type": "code",
   "execution_count": 68,
   "metadata": {},
   "outputs": [],
   "source": [
    "def find_largest(lst):\n",
    "    \n",
    "    largest = lst[0]\n",
    "    \n",
    "    \n",
    "    for number in lst:\n",
    "        if number > largest:\n",
    "            largest = number\n",
    "    \n",
    "    return largest"
   ]
  },
  {
   "cell_type": "code",
   "execution_count": 69,
   "metadata": {},
   "outputs": [],
   "source": [
    "def find_largest(lst):\n",
    "    largest = lst[0]  \n",
    "    for number in lst:\n",
    "        if number > largest:\n",
    "            largest = number\n",
    "    return largest"
   ]
  },
  {
   "cell_type": "markdown",
   "metadata": {},
   "source": [
    "## 3. Write a function that sums all the elements on a list"
   ]
  },
  {
   "cell_type": "code",
   "execution_count": 70,
   "metadata": {},
   "outputs": [],
   "source": [
    "def sum_list(lst):\n",
    "    return sum(lst)\n"
   ]
  },
  {
   "cell_type": "code",
   "execution_count": 71,
   "metadata": {
    "scrolled": true
   },
   "outputs": [
    {
     "name": "stdout",
     "output_type": "stream",
     "text": [
      "10\n",
      "30\n"
     ]
    }
   ],
   "source": [
    "print(sum_all([1, 2, 3, 4]))  # Output: 10\n",
    "print(sum_all([5, 10, 15]))   # Output: 30\n"
   ]
  },
  {
   "cell_type": "markdown",
   "metadata": {},
   "source": [
    "## 4. Write another function that multiplies all the elements on a list"
   ]
  },
  {
   "cell_type": "code",
   "execution_count": 72,
   "metadata": {},
   "outputs": [],
   "source": [
    "def multiply_list(lst):\n",
    "    result = 1\n",
    "    for num in lst:\n",
    "        result *= num\n",
    "    return result\n"
   ]
  },
  {
   "cell_type": "code",
   "execution_count": 73,
   "metadata": {
    "scrolled": true
   },
   "outputs": [
    {
     "name": "stdout",
     "output_type": "stream",
     "text": [
      "24\n",
      "100\n"
     ]
    }
   ],
   "source": [
    "print(multiply_list([1, 2, 3, 4])) \n",
    "print(multiply_list([5, 10, 2]))    \n"
   ]
  },
  {
   "cell_type": "markdown",
   "metadata": {},
   "source": [
    "## 5. Now combine those two ideas and write a function that receives a list and either \"+\" or \"*\" and outputs acordingly"
   ]
  },
  {
   "cell_type": "code",
   "execution_count": 74,
   "metadata": {},
   "outputs": [],
   "source": [
    "def operate_list(lst, operation):\n",
    "    if operation == \"+\":\n",
    "        return sum(lst)\n",
    "    elif operation == \"*\":\n",
    "        result = 1\n",
    "        for num in lst:\n",
    "            result *= num\n",
    "        return result\n",
    "    else:\n",
    "        return \"Invalid operation\"\n"
   ]
  },
  {
   "cell_type": "code",
   "execution_count": 75,
   "metadata": {},
   "outputs": [
    {
     "name": "stdout",
     "output_type": "stream",
     "text": [
      "All tests passed!\n"
     ]
    }
   ],
   "source": [
    "def operate_list(lst, operation):\n",
    "    if operation == \"+\":\n",
    "        return sum(lst)\n",
    "    elif operation == \"*\":\n",
    "        result = 1\n",
    "        for num in lst:\n",
    "            result *= num\n",
    "        return result\n",
    "    else:\n",
    "        return \"Invalid operation\"\n",
    "\n",
    "def test_operate_list():\n",
    "    assert operate_list([1, 2, 3, 4], \"+\") == 10\n",
    "    assert operate_list([5, 10, 2], \"+\") == 17\n",
    "    assert operate_list([1, 2, 3, 4], \"*\") == 24\n",
    "    assert operate_list([5, 10, 2], \"*\") == 100\n",
    "    assert operate_list([1, 2, 3], \"/\") == \"Invalid operation\"\n",
    "\n",
    "    print(\"All tests passed!\")\n",
    "\n",
    "test_operate_list()\n"
   ]
  },
  {
   "cell_type": "markdown",
   "metadata": {},
   "source": [
    "## 6. Write a function that returns the factorial of a number."
   ]
  },
  {
   "cell_type": "code",
   "execution_count": 76,
   "metadata": {},
   "outputs": [],
   "source": [
    "def factorial(n):\n",
    "    if n == 0 or n == 1:\n",
    "        return 1\n",
    "    return n * factorial(n - 1)\n"
   ]
  },
  {
   "cell_type": "code",
   "execution_count": 77,
   "metadata": {},
   "outputs": [],
   "source": [
    "#factorial formula\n",
    "#n! = n * ( n - 1 ) *...*1\n",
    "\n",
    "# This code defines a function called \"factorial\" which takes an input \"n\". The function uses a for loop to iterate through the range of numbers \n",
    "# from 1 to n+1. For each number in that range, it multiplies the current value of x by the number in the range. At the end of the loop, \n",
    "# the function returns the final value of x, which will be the factorial of the input number \"n\".\n",
    "\n",
    "# The Factorial of a positive integer n is the product of all positive integers less than or equal to n. \n",
    "# For example, the factorial of 6 (written \"6!\") is 6 * 5 * 4 * 3 * 2 * 1 = 720.\n",
    "\n",
    "# So this function takes an input of any positive integer, and returns the factorial of that number."
   ]
  },
  {
   "cell_type": "code",
   "execution_count": 78,
   "metadata": {},
   "outputs": [
    {
     "name": "stdout",
     "output_type": "stream",
     "text": [
      "All tests passed!\n"
     ]
    }
   ],
   "source": [
    "def factorial(n):\n",
    "    x = 1\n",
    "    for i in range(1, n + 1):\n",
    "        x *= i\n",
    "    return x\n",
    "def test_factorial():\n",
    "    assert factorial(6) == 720\n",
    "    assert factorial(5) == 120\n",
    "    assert factorial(4) == 24\n",
    "    assert factorial(3) == 6\n",
    "    assert factorial(2) == 2\n",
    "    assert factorial(1) == 1\n",
    "    assert factorial(0) == 1  # Factorial of 0 is 1\n",
    "    \n",
    "    print(\"All tests passed!\")\n",
    "\n",
    "# Run the tests\n",
    "test_factorial()\n"
   ]
  },
  {
   "cell_type": "markdown",
   "metadata": {},
   "source": [
    "## 7. Write a function that takes a list and returns a list of the unique values.\n",
    "\n",
    "`NOTE: You cannot use set. 🤔`"
   ]
  },
  {
   "cell_type": "code",
   "execution_count": 79,
   "metadata": {},
   "outputs": [],
   "source": [
    "def unique(lst_un):\n",
    "    unique_list = [] \n",
    "    for item in lst_un:  \n",
    "        if item not in unique_list:  \n",
    "            unique_list.append(item)  \n",
    "    return unique_list"
   ]
  },
  {
   "cell_type": "code",
   "execution_count": 80,
   "metadata": {},
   "outputs": [],
   "source": [
    "def test_unique(unique_func):\n",
    "    assert unique_func([1, 2, 2, 3, 4, 4, 5]) == [1, 2, 3, 4, 5], \"Test case 1 failed\"\n",
    "    assert unique_func([\"a\", \"b\", \"a\", \"c\"]) == [\"a\", \"b\", \"c\"], \"Test case 2 failed\"\n",
    "    assert unique_func([1, 1, 1, 1]) == [1], \"Test case 3 failed\"\n",
    "    assert unique_func([]) == [], \"Test case 4 failed\"\n",
    "    assert unique_func([1, \"a\", 1, \"a\", True, False, True]) == [1, \"a\", True, False], \"Test case 5 failed\"\n",
    "    print(\"All test cases passed! 🎉\")"
   ]
  },
  {
   "cell_type": "markdown",
   "metadata": {},
   "source": [
    "## 8. Write a function that returns the mode of a list, i.e.: the element that appears the most times.\n",
    "`NOTE: You should not use count... 🧐`"
   ]
  },
  {
   "cell_type": "code",
   "execution_count": 81,
   "metadata": {},
   "outputs": [],
   "source": [
    "def mode_counter(arr):\n",
    "    frequency = {}\n",
    "    for num in arr:\n",
    "        if num in frequency:\n",
    "            frequency[num] += 1\n",
    "        else:\n",
    "            frequency[num] = 1\n",
    "\n",
    "    max_count = 0\n",
    "    mode = None\n",
    "    for num, count in frequency.items():\n",
    "        if count > max_count:\n",
    "            max_count = count\n",
    "            mode = num\n",
    "    return mode"
   ]
  },
  {
   "cell_type": "code",
   "execution_count": 82,
   "metadata": {},
   "outputs": [],
   "source": [
    "def test_mode(mode_func):\n",
    "    assert mode_func([1, 2, 2, 3, 4, 4, 4]) == 4, \"Test case 1 failed\"\n",
    "    assert mode_func([1, 1, 2, 2]) in [1, 2], \"Test case 2 failed\"\n",
    "    assert mode_func([10]) == 10, \"Test case 3 failed\"\n",
    "    assert mode_func([]) is None, \"Test case 4 failed\"\n",
    "    assert mode_func([5, 5, 5, 2, 2, 2, 2]) == 2, \"Test case 5 failed\"\n",
    "    print(\"All test cases passed! 🎉\")"
   ]
  },
  {
   "cell_type": "markdown",
   "metadata": {},
   "source": [
    "## 9. Write a function that calculates the standard deviation of a list.\n",
    "`NOTE: Do not use any libraries or already built functions. 😉`"
   ]
  },
  {
   "cell_type": "code",
   "execution_count": 83,
   "metadata": {},
   "outputs": [],
   "source": [
    "def st_dev(list_sd):\n",
    "    n = 0\n",
    "    total = 0\n",
    "    for num in list_sd:\n",
    "        total += num\n",
    "        n += 1\n",
    "\n",
    "    mean = total / n\n",
    "\n",
    "    variance = 0\n",
    "    for num in list_sd:\n",
    "        variance += (num - mean) ** 2\n",
    "\n",
    "    variance /= n\n",
    "    return variance ** 0.5"
   ]
  },
  {
   "cell_type": "code",
   "execution_count": 84,
   "metadata": {},
   "outputs": [],
   "source": [
    "def test_stdev(st_dev_func):\n",
    "    assert abs(st_dev_func([10, 12, 23, 23, 16, 23, 21, 16]) - 4.898979485566356) < 1e-6, \"Test case 1 failed\"\n",
    "    assert abs(st_dev_func([1, 2, 3, 4, 5]) - 1.4142135623730951) < 1e-6, \"Test case 2 failed\"\n",
    "    assert st_dev_func([10]) == 0.0, \"Test case 3 failed\"\n",
    "    assert abs(st_dev_func([2, 4, 4, 4, 5, 5, 7, 9]) - 2.0) < 1e-6, \"Test case 4 failed\"\n",
    "    print(\"All test cases passed! 🎉\")"
   ]
  },
  {
   "cell_type": "markdown",
   "metadata": {},
   "source": [
    "## 10. Write a function to check if a string is a pangram, i.e.: if it contains all the letters of the alphabet at least once. Mind that the strings may contain characters that are not letters."
   ]
  },
  {
   "cell_type": "code",
   "execution_count": 85,
   "metadata": {},
   "outputs": [],
   "source": [
    "import string\n",
    "\n",
    "def is_pangram(s):\n",
    "    return set(string.ascii_lowercase).issubset(set(s.lower()))\n"
   ]
  },
  {
   "cell_type": "code",
   "execution_count": 86,
   "metadata": {},
   "outputs": [
    {
     "name": "stdout",
     "output_type": "stream",
     "text": [
      "True\n"
     ]
    }
   ],
   "source": [
    "import string\n",
    "\n",
    "def is_pangram(s):\n",
    "    return set(string.ascii_lowercase).issubset(set(s.lower()))\n",
    "\n",
    "pangram = \"The quick brown fox jumps over the lazy dog\"\n",
    "print(is_pangram(pangram))\n"
   ]
  },
  {
   "cell_type": "markdown",
   "metadata": {},
   "source": [
    "## 11. Write a function that receives a string of comma separated words and returns a string of comma separated words sorted alphabetically.\n",
    "\n",
    "`NOTE: You may use sorted but not split and definitely no join! 🤪`"
   ]
  },
  {
   "cell_type": "code",
   "execution_count": null,
   "metadata": {},
   "outputs": [],
   "source": [
    "def sort_alpha(string):\n",
    "    words = \"\"\n",
    "    word = \"\"\n",
    "    \n",
    "    for char in string + \",\":\n",
    "        if char != \",\":\n",
    "            word += char\n",
    "        else:\n",
    "            if words:\n",
    "                words += \",\"\n",
    "            words += word\n",
    "            word = \"\"\n",
    "    \n",
    "    return \",\".join(sorted(words.split(\",\")))\n"
   ]
  },
  {
   "cell_type": "code",
   "execution_count": 91,
   "metadata": {},
   "outputs": [
    {
     "name": "stdout",
     "output_type": "stream",
     "text": [
      "All tests passed!\n"
     ]
    }
   ],
   "source": [
    "def test_sort_alpha():\n",
    "    assert sort_alpha(\"banana,apple,orange,grape\") == \"apple,banana,grape,orange\"\n",
    "    assert sort_alpha(\"dog,cat,elephant\") == \"cat,dog,elephant\"\n",
    "    assert sort_alpha(\"zebra,apple,banana\") == \"apple,banana,zebra\"\n",
    "    assert sort_alpha(\"cherry,apple\") == \"apple,cherry\"\n",
    "    assert sort_alpha(\"kiwi,apple,banana,grape\") == \"apple,banana,grape,kiwi\"\n",
    "    \n",
    "    print(\"All tests passed!\")\n",
    "\n",
    "# Run the tests\n",
    "test_sort_alpha()\n"
   ]
  },
  {
   "cell_type": "markdown",
   "metadata": {},
   "source": [
    "## 12. Write a function to check if a given password is strong (at least 8 characters, at least one lower case, at least one upper case, at least one number and at least one special character). It should output True if strong and False if not."
   ]
  },
  {
   "cell_type": "code",
   "execution_count": 89,
   "metadata": {},
   "outputs": [],
   "source": [
    "import string\n",
    "\n",
    "def check_pass(password):\n",
    "    if len(password) >= 8 and \\\n",
    "       any(c.islower() for c in password) and \\\n",
    "       any(c.isupper() for c in password) and \\\n",
    "       any(c.isdigit() for c in password) and \\\n",
    "       any(c in string.punctuation for c in password):\n",
    "        return True\n",
    "    return False\n"
   ]
  },
  {
   "cell_type": "code",
   "execution_count": 90,
   "metadata": {},
   "outputs": [
    {
     "name": "stdout",
     "output_type": "stream",
     "text": [
      "True\n",
      "False\n",
      "False\n",
      "True\n",
      "True\n"
     ]
    }
   ],
   "source": [
    "# Sample test cases\n",
    "print(check_pass(\"Password123!\"))  # True\n",
    "print(check_pass(\"password\"))      # False\n",
    "print(check_pass(\"PASSWORD123\"))   # False\n",
    "print(check_pass(\"Pass123!\"))      # False\n",
    "print(check_pass(\"P@ssw0rd123\"))   # True\n"
   ]
  }
 ],
 "metadata": {
  "kernelspec": {
   "display_name": "Python 3",
   "language": "python",
   "name": "python3"
  },
  "language_info": {
   "codemirror_mode": {
    "name": "ipython",
    "version": 3
   },
   "file_extension": ".py",
   "mimetype": "text/x-python",
   "name": "python",
   "nbconvert_exporter": "python",
   "pygments_lexer": "ipython3",
   "version": "3.11.7"
  }
 },
 "nbformat": 4,
 "nbformat_minor": 4
}
