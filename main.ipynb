{
 "cells": [
  {
   "cell_type": "markdown",
   "metadata": {},
   "source": [
    "# Functions"
   ]
  },
  {
   "cell_type": "markdown",
   "metadata": {},
   "source": [
    "On this lab we will put to practice some of the concepts we have learned on this past few days.\n",
    "\n",
    "`NOTE: On this lab you should try to write all the functions yourself using only the most basic of python syntax and without functions such as len, count, sum, max, min, in, etc. Give it a try. 🧑🏻‍💻👩🏻‍💻`\n",
    "\n",
    "The cell after each exercise contains a few tests to check if your function works as expected."
   ]
  },
  {
   "cell_type": "code",
   "execution_count": 1,
   "metadata": {},
   "outputs": [
    {
     "ename": "ModuleNotFoundError",
     "evalue": "No module named 'mod'",
     "output_type": "error",
     "traceback": [
      "\u001b[1;31m---------------------------------------------------------------------------\u001b[0m",
      "\u001b[1;31mModuleNotFoundError\u001b[0m                       Traceback (most recent call last)",
      "Input \u001b[1;32mIn [1]\u001b[0m, in \u001b[0;36m<cell line: 1>\u001b[1;34m()\u001b[0m\n\u001b[1;32m----> 1\u001b[0m \u001b[38;5;28;01mfrom\u001b[39;00m \u001b[38;5;21;01mmod\u001b[39;00m\u001b[38;5;21;01m.\u001b[39;00m\u001b[38;5;21;01mtesting\u001b[39;00m \u001b[38;5;28;01mimport\u001b[39;00m \u001b[38;5;241m*\u001b[39m\n\u001b[0;32m      2\u001b[0m \u001b[38;5;28;01mimport\u001b[39;00m \u001b[38;5;21;01munittest\u001b[39;00m\n",
      "\u001b[1;31mModuleNotFoundError\u001b[0m: No module named 'mod'"
     ]
    }
   ],
   "source": [
    "from mod.testing import *\n",
    "import unittest\n"
   ]
  },
  {
   "cell_type": "markdown",
   "metadata": {},
   "source": [
    "## 1. Write a function that returns the greater of two numbers"
   ]
  },
  {
   "cell_type": "code",
   "execution_count": 2,
   "metadata": {},
   "outputs": [
    {
     "data": {
      "text/plain": [
       "20"
      ]
     },
     "execution_count": 2,
     "metadata": {},
     "output_type": "execute_result"
    }
   ],
   "source": [
    "def greater_two(a,b):\n",
    "    greater= a if a > b else b\n",
    "    return greater\n",
    "    \n",
    "greater_two(10,20)\n",
    "\n"
   ]
  },
  {
   "cell_type": "code",
   "execution_count": 3,
   "metadata": {},
   "outputs": [
    {
     "name": "stdout",
     "output_type": "stream",
     "text": [
      "20\n",
      "30\n",
      "100\n"
     ]
    }
   ],
   "source": [
    "# This will test your function \n",
    "print(greater_two(10, 20))  \n",
    "print(greater_two(30, 20))  \n",
    "print(greater_two(100, 100))  \n"
   ]
  },
  {
   "cell_type": "code",
   "execution_count": 4,
   "metadata": {},
   "outputs": [],
   "source": [
    "#your code here"
   ]
  },
  {
   "cell_type": "markdown",
   "metadata": {},
   "source": [
    "## 2. Now write a function that returns the largest element on a list"
   ]
  },
  {
   "cell_type": "code",
   "execution_count": 5,
   "metadata": {},
   "outputs": [
    {
     "name": "stdout",
     "output_type": "stream",
     "text": [
      "the largest element is: 20\n"
     ]
    }
   ],
   "source": [
    "def largest_element(a, b, c):\n",
    "    largest = a if a >= b and a >= c else b if b >= c else c\n",
    "    return largest\n",
    "\n",
    "print(f\"the largest element is: {largest_element(5,10,20)}\")\n",
    "\n"
   ]
  },
  {
   "cell_type": "code",
   "execution_count": 6,
   "metadata": {},
   "outputs": [
    {
     "name": "stdout",
     "output_type": "stream",
     "text": [
      "The largest element is: 20\n"
     ]
    }
   ],
   "source": [
    "test_greater = largest_element(5, 10, 20)\n",
    "print(\"The largest element is:\", test_greater)"
   ]
  },
  {
   "cell_type": "markdown",
   "metadata": {},
   "source": [
    "## 3. Write a function that sums all the elements on a list"
   ]
  },
  {
   "cell_type": "code",
   "execution_count": 7,
   "metadata": {},
   "outputs": [],
   "source": [
    "def sum_all(lst):\n",
    "    total = 0\n",
    "    for i in lst:\n",
    "        total += i\n",
    "    return total"
   ]
  },
  {
   "cell_type": "code",
   "execution_count": 8,
   "metadata": {
    "scrolled": true
   },
   "outputs": [
    {
     "name": "stdout",
     "output_type": "stream",
     "text": [
      "6\n",
      "60\n",
      "0\n"
     ]
    }
   ],
   "source": [
    "# This will test your function \n",
    "print(sum_all([1, 2, 3])) \n",
    "print(sum_all([10, 20, 30])) \n",
    "print(sum_all([0, 0, 0])) \n"
   ]
  },
  {
   "cell_type": "markdown",
   "metadata": {},
   "source": [
    "## 4. Write another function that multiplies all the elements on a list"
   ]
  },
  {
   "cell_type": "code",
   "execution_count": 9,
   "metadata": {},
   "outputs": [],
   "source": [
    "def mult_all(lst):\n",
    "    total = 1\n",
    "    for num in lst:\n",
    "        total *= num\n",
    "    return total\n"
   ]
  },
  {
   "cell_type": "code",
   "execution_count": 10,
   "metadata": {
    "scrolled": true
   },
   "outputs": [
    {
     "name": "stdout",
     "output_type": "stream",
     "text": [
      "6\n",
      "50\n",
      "0\n"
     ]
    }
   ],
   "source": [
    "# This will test your function \n",
    "print(mult_all([1, 2, 3])) \n",
    "print(mult_all([10, 5]))  \n",
    "print(mult_all([1, 0, 5])) \n"
   ]
  },
  {
   "cell_type": "markdown",
   "metadata": {},
   "source": [
    "## 5. Now combine those two ideas and write a function that receives a list and either \"+\" or \"*\" and outputs acordingly"
   ]
  },
  {
   "cell_type": "code",
   "execution_count": 11,
   "metadata": {},
   "outputs": [],
   "source": [
    "def oper_all(numbers, oper=\"*\"):\n",
    "    if oper == \"+\":\n",
    "        return sum_all(numbers)\n",
    "    elif oper == \"*\":\n",
    "        return mult_all(numbers)\n",
    "    else:\n",
    "        return \"n/a\""
   ]
  },
  {
   "cell_type": "code",
   "execution_count": 12,
   "metadata": {},
   "outputs": [
    {
     "name": "stdout",
     "output_type": "stream",
     "text": [
      "6\n",
      "6\n",
      "6\n",
      "n/a\n"
     ]
    }
   ],
   "source": [
    "print(oper_all([1, 2, 3], \"+\")) \n",
    "print(oper_all([1, 2, 3], \"*\"))  \n",
    "print(oper_all([1, 2, 3])) \n",
    "print(oper_all([1, 2, 3], \"/\")) \n",
    "\n"
   ]
  },
  {
   "cell_type": "markdown",
   "metadata": {},
   "source": [
    "## 6. Write a function that returns the factorial of a number."
   ]
  },
  {
   "cell_type": "code",
   "execution_count": 13,
   "metadata": {},
   "outputs": [],
   "source": [
    "def factorial(n):\n",
    "    result = 1\n",
    "    for i in range(1, n+1):\n",
    "        result *= i\n",
    "    return result\n"
   ]
  },
  {
   "cell_type": "code",
   "execution_count": 14,
   "metadata": {},
   "outputs": [],
   "source": [
    "#factorial formula\n",
    "#n! = n * ( n - 1 ) *...*1\n",
    "\n",
    "# This code defines a function called \"factorial\" which takes an input \"n\". The function uses a for loop to iterate through the range of numbers \n",
    "# from 1 to n+1. For each number in that range, it multiplies the current value of x by the number in the range. At the end of the loop, \n",
    "# the function returns the final value of x, which will be the factorial of the input number \"n\".\n",
    "\n",
    "# The Factorial of a positive integer n is the product of all positive integers less than or equal to n. \n",
    "# For example, the factorial of 6 (written \"6!\") is 6 * 5 * 4 * 3 * 2 * 1 = 720.\n",
    "\n",
    "# So this function takes an input of any positive integer, and returns the factorial of that number.\n",
    "\n"
   ]
  },
  {
   "cell_type": "code",
   "execution_count": 15,
   "metadata": {},
   "outputs": [
    {
     "name": "stdout",
     "output_type": "stream",
     "text": [
      "120\n"
     ]
    }
   ],
   "source": [
    "# This will test your function \n",
    "print(factorial(5))"
   ]
  },
  {
   "cell_type": "markdown",
   "metadata": {},
   "source": [
    "## 7. Write a function that takes a list and returns a list of the unique values.\n",
    "\n",
    "`NOTE: You cannot use set. 🤔`"
   ]
  },
  {
   "cell_type": "code",
   "execution_count": 16,
   "metadata": {},
   "outputs": [],
   "source": [
    "def unique(lst_un):\n",
    "    unique_lst = []\n",
    "    [unique_lst := unique_lst + [item] for item in lst_un if item not in unique_lst]\n",
    "    return unique_lst"
   ]
  },
  {
   "cell_type": "code",
   "execution_count": 17,
   "metadata": {},
   "outputs": [
    {
     "name": "stdout",
     "output_type": "stream",
     "text": [
      "[1, 2, 3]\n"
     ]
    }
   ],
   "source": [
    "# This will test your function \n",
    "print(unique([1, 2, 3, 2, 1]))"
   ]
  },
  {
   "cell_type": "markdown",
   "metadata": {},
   "source": [
    "## 8. Write a function that returns the mode of a list, i.e.: the element that appears the most times.\n",
    "`NOTE: You should not use count... 🧐`"
   ]
  },
  {
   "cell_type": "code",
   "execution_count": 13,
   "metadata": {},
   "outputs": [],
   "source": [
    "def mode_counter(lst_):\n",
    "    unique_elements = [] \n",
    "    counts = []\n",
    "\n",
    "    for item in lst_:\n",
    "        if item not in unique_elements:\n",
    "            unique_elements += [item] \n",
    "            counts += [0]  \n",
    "\n",
    "    for i in range(len(unique_elements)):\n",
    "        for item in lst_:\n",
    "            if item == unique_elements[i]:\n",
    "                counts[i] += 1\n",
    "\n",
    "    max_count = counts[0]\n",
    "    mode = unique_elements[0]\n",
    "    \n",
    "    for i in range(1, len(counts)):\n",
    "        if counts[i] > max_count:\n",
    "            max_count = counts[i]\n",
    "            mode = unique_elements[i]\n",
    "\n",
    "    return mode\n"
   ]
  },
  {
   "cell_type": "code",
   "execution_count": 14,
   "metadata": {},
   "outputs": [
    {
     "name": "stdout",
     "output_type": "stream",
     "text": [
      "1\n"
     ]
    }
   ],
   "source": [
    "# This will test your function \n",
    "print(mode_counter([1, 2, 3, 2, 1]))"
   ]
  },
  {
   "cell_type": "markdown",
   "metadata": {},
   "source": [
    "## 9. Write a function that calculates the standard deviation of a list.\n",
    "`NOTE: Do not use any libraries or already built functions. 😉`"
   ]
  },
  {
   "cell_type": "code",
   "execution_count": 2,
   "metadata": {
    "tags": []
   },
   "outputs": [],
   "source": [
    "def st_dev(list_sd):\n",
    "    n = 0\n",
    "    mean = 0\n",
    "    for num in list_sd:\n",
    "        mean += num\n",
    "        n += 1\n",
    "    \n",
    "    if n == 0:\n",
    "        return 0\n",
    "    \n",
    "    mean = mean / n\n",
    "    variance_sum = 0\n",
    "    for num in list_sd:\n",
    "        variance_sum += (num - mean) * (num - mean)\n",
    "\n",
    "    variance = variance_sum / n  \n",
    "    stdev = variance ** 0.5 \n",
    "\n",
    "    return stdev"
   ]
  },
  {
   "cell_type": "code",
   "execution_count": 3,
   "metadata": {},
   "outputs": [
    {
     "name": "stdout",
     "output_type": "stream",
     "text": [
      "1.4142135623730951\n"
     ]
    }
   ],
   "source": [
    "# This will test your function \n",
    "arr = [1, 2, 3, 4, 5]\n",
    "print(st_dev(arr))"
   ]
  },
  {
   "cell_type": "markdown",
   "metadata": {},
   "source": [
    "## 10. Write a function to check if a string is a pangram, i.e.: if it contains all the letters of the alphabet at least once. Mind that the strings may contain characters that are not letters."
   ]
  },
  {
   "cell_type": "code",
   "execution_count": 17,
   "metadata": {},
   "outputs": [],
   "source": [
    "def pangram(string):\n",
    "    alphabet = \"abcdefghijklmnopqrstuvwxyz\"\n",
    "    seen = \"\"  \n",
    "    \n",
    "    for char in string:\n",
    "       \n",
    "        if 'a' <= char <= 'z' or 'A' <= char <= 'Z':\n",
    "            if 'A' <= char <= 'Z':\n",
    "                char = chr(ord(char) + 32)\n",
    "            if char not in seen:\n",
    "                seen += char \n",
    "                \n",
    "    return all(char in seen for char in alphabet)\n"
   ]
  },
  {
   "cell_type": "code",
   "execution_count": 16,
   "metadata": {},
   "outputs": [
    {
     "name": "stdout",
     "output_type": "stream",
     "text": [
      "True\n"
     ]
    }
   ],
   "source": [
    "print(pangram(\"The quick brown fox jumps over the lazy dog\"))\n"
   ]
  },
  {
   "cell_type": "markdown",
   "metadata": {},
   "source": [
    "## 11. Write a function that receives a string of comma separated words and returns a string of comma separated words sorted alphabetically.\n",
    "\n",
    "`NOTE: You may use sorted but not split and definitely no join! 🤪`"
   ]
  },
  {
   "cell_type": "code",
   "execution_count": 7,
   "metadata": {},
   "outputs": [],
   "source": [
    "def sort_alpha(string):\n",
    "    words = [] \n",
    "    word = \"\"\n",
    "\n",
    "    for char in string:\n",
    "        if char == \",\":  \n",
    "            words = words + [word]  \n",
    "            word = \"\"\n",
    "        else:\n",
    "            word = word + char \n",
    "\n",
    "    words = words + [word]\n",
    "\n",
    "    n = 0\n",
    "    for _ in words:\n",
    "        n += 1  \n",
    "\n",
    "    for i in words:\n",
    "        for j in words:\n",
    "            if i > j:\n",
    "                \n",
    "                temp = i\n",
    "                i = j\n",
    "                j = temp\n",
    "\n",
    "    sorted_string = words[0]\n",
    "    for i in words[1:]:\n",
    "        sorted_string = sorted_string + \",\" + i \n",
    "    \n",
    "    return sorted_string\n"
   ]
  },
  {
   "cell_type": "code",
   "execution_count": 8,
   "metadata": {},
   "outputs": [
    {
     "name": "stdout",
     "output_type": "stream",
     "text": [
      "banana,apple,cherry,orange\n",
      "dog,cat,elephant,bird\n"
     ]
    }
   ],
   "source": [
    "# This will test your function \n",
    "string1 = \"banana,apple,cherry,orange\"\n",
    "string2 = \"dog,cat,elephant,bird\"\n",
    "\n",
    "print(sort_alpha(string1))  \n",
    "print(sort_alpha(string2)) \n"
   ]
  },
  {
   "cell_type": "markdown",
   "metadata": {},
   "source": [
    "## 12. Write a function to check if a given password is strong (at least 8 characters, at least one lower case, at least one upper case, at least one number and at least one special character). It should output True if strong and False if not."
   ]
  },
  {
   "cell_type": "code",
   "execution_count": 10,
   "metadata": {},
   "outputs": [],
   "source": [
    "def check_pass(password):\n",
    "    has_lower = False\n",
    "    has_upper = False\n",
    "    has_digit = False\n",
    "    has_special = False\n",
    "    length = 0\n",
    "\n",
    "    for char in password:\n",
    "        length += 1\n",
    "        if 'a' <= char <= 'z':\n",
    "            has_lower = True\n",
    "        elif 'A' <= char <= 'Z':\n",
    "            has_upper = True\n",
    "        elif '0' <= char <= '9':\n",
    "            has_digit = True\n",
    "        else:\n",
    "            has_special = True\n",
    "\n",
    "    if length >= 8 and has_lower and has_upper and has_digit and has_special:\n",
    "        return True\n",
    "    else:\n",
    "        return False\n"
   ]
  },
  {
   "cell_type": "code",
   "execution_count": 11,
   "metadata": {},
   "outputs": [
    {
     "name": "stdout",
     "output_type": "stream",
     "text": [
      "True\n",
      "False\n",
      "False\n",
      "False\n"
     ]
    }
   ],
   "source": [
    "# This will test your function \n",
    "print(check_pass(\"Password123!\")) \n",
    "print(check_pass(\"password123\"))   \n",
    "print(check_pass(\"PASSWORD123!\"))  \n",
    "print(check_pass(\"Pass123\"))     \n"
   ]
  },
  {
   "cell_type": "code",
   "execution_count": null,
   "metadata": {},
   "outputs": [],
   "source": []
  }
 ],
 "metadata": {
  "kernelspec": {
   "display_name": "Python 3 (ipykernel)",
   "language": "python",
   "name": "python3"
  },
  "language_info": {
   "codemirror_mode": {
    "name": "ipython",
    "version": 3
   },
   "file_extension": ".py",
   "mimetype": "text/x-python",
   "name": "python",
   "nbconvert_exporter": "python",
   "pygments_lexer": "ipython3",
   "version": "3.9.12"
  },
  "vscode": {
   "interpreter": {
    "hash": "aee8b7b246df8f9039afb4144a1f6fd8d2ca17a180786b69acc140d282b71a49"
   }
  }
 },
 "nbformat": 4,
 "nbformat_minor": 4
}
