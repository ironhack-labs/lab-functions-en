{
 "cells": [
  {
   "cell_type": "markdown",
   "metadata": {},
   "source": [
    "# Functions"
   ]
  },
  {
   "cell_type": "markdown",
   "metadata": {},
   "source": [
    "On this lab we will put to practice some of the concepts we have learned on this past few days.\n",
    "\n",
    "`NOTE: On this lab you should try to write all the functions yourself using only the most basic of python syntax and without functions such as len, count, sum, max, min, in, etc. Give it a try. 🧑🏻‍💻👩🏻‍💻`\n",
    "\n",
    "The cell after each exercise contains a few tests to check if your function works as expected."
   ]
  },
  {
   "cell_type": "code",
   "execution_count": null,
   "metadata": {},
   "outputs": [],
   "source": [
    "from mod.testing import *\n",
    "import unittest"
   ]
  },
  {
   "cell_type": "markdown",
   "metadata": {},
   "source": [
    "## 1. Write a function that returns the greater of two numbers"
   ]
  },
  {
   "metadata": {},
   "cell_type": "code",
   "outputs": [],
   "execution_count": null,
   "source": [
    "def greater(a,b):\n",
    "    return a if a > b else b"
   ]
  },
  {
   "metadata": {},
   "cell_type": "code",
   "outputs": [],
   "execution_count": null,
   "source": [
    "# This will test your function \n",
    "test_greater(greater)"
   ]
  },
  {
   "metadata": {},
   "cell_type": "code",
   "outputs": [],
   "execution_count": null,
   "source": "#your code here"
  },
  {
   "metadata": {},
   "cell_type": "markdown",
   "source": "## 2. Now write a function that returns the largest element on a list"
  },
  {
   "metadata": {},
   "cell_type": "code",
   "outputs": [],
   "execution_count": null,
   "source": [
    "def greatest(list):\n",
    "  largest = 0\n",
    "\n",
    "  for i in list:\n",
    "      if i > largest:\n",
    "          largest = i\n",
    "  return largest"
   ]
  },
  {
   "metadata": {},
   "cell_type": "code",
   "outputs": [],
   "execution_count": null,
   "source": [
    "# This will test your function \n",
    "test_greatest(greatest)"
   ]
  },
  {
   "metadata": {},
   "cell_type": "markdown",
   "source": "## 3. Write a function that sums all the elements on a list"
  },
  {
   "metadata": {},
   "cell_type": "code",
   "outputs": [],
   "execution_count": null,
   "source": [
    "def sum_all(lst):\n",
    "  summary = 0\n",
    "  for i in lst:\n",
    "      summary += i\n",
    "  return summary"
   ]
  },
  {
   "metadata": {},
   "cell_type": "code",
   "outputs": [],
   "execution_count": null,
   "source": [
    "# This will test your function \n",
    "test_sum(sum_all)"
   ]
  },
  {
   "metadata": {},
   "cell_type": "markdown",
   "source": "## 4. Write another function that multiplies all the elements on a list"
  },
  {
   "metadata": {},
   "cell_type": "code",
   "outputs": [],
   "execution_count": null,
   "source": [
    "def mult_all(lst):\n",
    "  sum = 1  \n",
    "  for num in lst:\n",
    "     sum *= num\n",
    "  return sum "
   ]
  },
  {
   "metadata": {},
   "cell_type": "code",
   "outputs": [],
   "execution_count": null,
   "source": [
    "# This will test your function \n",
    "test_mult(mult_all)"
   ]
  },
  {
   "metadata": {},
   "cell_type": "markdown",
   "source": "## 5. Now combine those two ideas and write a function that receives a list and either \"+\" or \"*\" and outputs acordingly"
  },
  {
   "metadata": {},
   "cell_type": "code",
   "outputs": [],
   "execution_count": null,
   "source": [
    "def oper_all(arr, oper = \"*\"):\n",
    "  sum = 1 if oper == '*' else 0\n",
    "  for itm in arr: \n",
    "    if oper == '*': \n",
    "      sum *= itm \n",
    "    else:\n",
    "      sum += itm\n",
    "  return sum        \n",
    "#your code here"
   ]
  },
  {
   "metadata": {},
   "cell_type": "code",
   "outputs": [],
   "execution_count": null,
   "source": [
    "# This will test your function \n",
    "test_operations(oper_all)"
   ]
  },
  {
   "metadata": {},
   "cell_type": "markdown",
   "source": "## 6. Write a function that returns the factorial of a number."
  },
  {
   "metadata": {},
   "cell_type": "code",
   "outputs": [],
   "execution_count": null,
   "source": [
    "def factorial(n):\n",
    "  result = 1\n",
    "  for i in range(1, n + 1):\n",
    "      result *= i\n",
    "  return result"
   ]
  },
  {
   "metadata": {},
   "cell_type": "code",
   "outputs": [],
   "execution_count": null,
   "source": [
    "#factorial formula\n",
    "#n! = n * ( n - 1 ) *...*1\n",
    "\n",
    "# This code defines a function called \"factorial\" which takes an input \"n\". The function uses a for loop to iterate through the range of numbers \n",
    "# from 1 to n+1. For each number in that range, it multiplies the current value of x by the number in the range. At the end of the loop, \n",
    "# the function returns the final value of x, which will be the factorial of the input number \"n\".\n",
    "\n",
    "# The Factorial of a positive integer n is the product of all positive integers less than or equal to n. \n",
    "# For example, the factorial of 6 (written \"6!\") is 6 * 5 * 4 * 3 * 2 * 1 = 720.\n",
    "\n",
    "# So this function takes an input of any positive integer, and returns the factorial of that number."
   ]
  },
  {
   "metadata": {},
   "cell_type": "code",
   "outputs": [],
   "execution_count": null,
   "source": [
    "# This will test your function \n",
    "test_factorial(factorial)"
   ]
  },
  {
   "metadata": {},
   "cell_type": "markdown",
   "source": [
    "## 7. Write a function that takes a list and returns a list of the unique values.\n",
    "\n",
    "`NOTE: You cannot use set. 🤔`"
   ]
  },
  {
   "metadata": {},
   "cell_type": "code",
   "outputs": [],
   "execution_count": null,
   "source": [
    "def unique(lst_un):\n",
    "    unique_list = []\n",
    "    for i in lst_un:\n",
    "        if i not in unique_list:\n",
    "            unique_list.append(i)\n",
    "    return unique_list\n",
    "#your code here"
   ]
  },
  {
   "metadata": {},
   "cell_type": "code",
   "outputs": [],
   "execution_count": null,
   "source": [
    "# This will test your function \n",
    "test_unique(unique)"
   ]
  },
  {
   "metadata": {},
   "cell_type": "markdown",
   "source": [
    "## 8. Write a function that returns the mode of a list, i.e.: the element that appears the most times.\n",
    "`NOTE: You should not use count... 🧐`"
   ]
  },
  {
   "metadata": {},
   "cell_type": "code",
   "outputs": [],
   "execution_count": null,
   "source": [
    "def mode_counter(arr):\n",
    "    obj = {}\n",
    "    for item in arr:        \n",
    "        if item in obj:\n",
    "            obj[item] += 1\n",
    "        else:\n",
    "            obj[item] = 1 \n",
    "    \n",
    "    most = 0 \n",
    "    most_num = 0\n",
    "    for num, count in obj.items():\n",
    "        if count > most:\n",
    "            most = count\n",
    "            most_num = num\n",
    "            \n",
    "    return most_num"
   ]
  },
  {
   "metadata": {},
   "cell_type": "code",
   "outputs": [],
   "execution_count": null,
   "source": [
    "# This will test your function \n",
    "test_mode(mode_counter)"
   ]
  },
  {
   "metadata": {},
   "cell_type": "markdown",
   "source": [
    "## 9. Write a function that calculates the standard deviation of a list.\n",
    "`NOTE: Do not use any libraries or already built functions. 😉`"
   ]
  },
  {
   "metadata": {},
   "cell_type": "code",
   "outputs": [],
   "execution_count": null,
   "source": [
    "def st_dev(list_sd):\n",
    "  length = 0\n",
    "  summary = 0\n",
    "  for item in list_sd:\n",
    "      length += 1 \n",
    "      summary += item\n",
    "    \n",
    "  avg = summary / length\n",
    "  squared_diff = [(x - avg) ** 2 for x in list_sd]\n",
    "\n",
    "  squared_summary = 0\n",
    "  for item in squared_diff:\n",
    "      squared_summary += item\n",
    "\n",
    "  if length > 1:\n",
    "    return (squared_summary / (length - 1)) ** 0.5\n",
    "  else:\n",
    "    return 0"
   ]
  },
  {
   "metadata": {},
   "cell_type": "code",
   "outputs": [],
   "execution_count": null,
   "source": [
    "# This will test your function \n",
    "test_stdev(st_dev)"
   ]
  },
  {
   "metadata": {},
   "cell_type": "markdown",
   "source": "## 10. Write a function to check if a string is a pangram, i.e.: if it contains all the letters of the alphabet at least once. Mind that the strings may contain characters that are not letters."
  },
  {
   "metadata": {},
   "cell_type": "code",
   "outputs": [],
   "execution_count": null,
   "source": [
    "def pangram(string):\n",
    "  text = string.lower()\n",
    "  chars = ['a', 'b', 'c', 'd', 'e', 'f', 'g', 'h', 'i', 'j', 'k', 'l', 'm', 'n', 'o', 'p', 'q', 'r', 's', 't', 'u', 'v', 'w', 'x', 'y', 'z']\n",
    "  for char in text:\n",
    "      if char in chars:\n",
    "          chars.remove(char)\n",
    "  return len(chars) == 0   \n",
    "  "
   ]
  },
  {
   "metadata": {},
   "cell_type": "code",
   "outputs": [],
   "execution_count": null,
   "source": [
    "# This will test your function \n",
    "test_pangram(pangram)"
   ]
  },
  {
   "metadata": {},
   "cell_type": "markdown",
   "source": [
    "## 11. Write a function that receives a string of comma separated words and returns a string of comma separated words sorted alphabetically.\n",
    "\n",
    "`NOTE: You may use sorted but not split and definitely no join! 🤪`"
   ]
  },
  {
   "metadata": {},
   "cell_type": "code",
   "outputs": [],
   "execution_count": null,
   "source": [
    "def sort_alpha(string):\n",
    "  words = []\n",
    "  word = \"\"\n",
    "  \n",
    "  for char in string:\n",
    "      if char == ',':\n",
    "          words.append(word)\n",
    "          word = \"\"\n",
    "      else:\n",
    "          word += char\n",
    "  words.append(word)\n",
    "  \n",
    "  text = \"\"        \n",
    "  words.sort() \n",
    "  for xword in words:\n",
    "      if xword == words[-1]:\n",
    "        text += xword\n",
    "      else:\n",
    "        text += f\"{xword},\"\n",
    "         \n",
    "  return text      "
   ]
  },
  {
   "metadata": {},
   "cell_type": "code",
   "outputs": [],
   "execution_count": null,
   "source": [
    "# This will test your function \n",
    "test_alpha(sort_alpha)"
   ]
  },
  {
   "metadata": {},
   "cell_type": "markdown",
   "source": "## 12. Write a function to check if a given password is strong (at least 8 characters, at least one lower case, at least one upper case, at least one number and at least one special character). It should output True if strong and False if not."
  },
  {
   "metadata": {},
   "cell_type": "code",
   "outputs": [],
   "execution_count": null,
   "source": [
    "def check_pass(password):\n",
    "  if len(password) < 8:\n",
    "    return False\n",
    "    \n",
    "  # Initialisiere Flags für die verschiedenen Kriterien\n",
    "  has_lower = False\n",
    "  has_upper = False\n",
    "  has_digit = False\n",
    "  has_special = False\n",
    "  \n",
    "  # Definiere die Menge an Sonderzeichen\n",
    "  special_characters = ['%', '#', '$', '^', '&', '*', '(', ')', '!', '?', '.', '#', ',', ':', ';', '§', '/', '\\\\', '@', '[', ']', '*', '{', '}']\n",
    "  \n",
    "  # Überprüfe jedes Zeichen im Passwort\n",
    "  for char in password:\n",
    "      if char.islower():\n",
    "          has_lower = True\n",
    "      elif char.isupper():\n",
    "          has_upper = True\n",
    "      elif char.isdigit():\n",
    "          has_digit = True\n",
    "      elif char in special_characters:\n",
    "          has_special = True\n",
    "     \n",
    "  return has_lower and has_upper and has_digit and has_special"
   ]
  },
  {
   "cell_type": "code",
   "execution_count": null,
   "metadata": {},
   "outputs": [],
   "source": [
    "# This will test your function \n",
    "test_pass(check_pass)"
   ]
  }
 ],
 "metadata": {
  "kernelspec": {
   "display_name": "Python 3 (ipykernel)",
   "language": "python",
   "name": "python3"
  },
  "language_info": {
   "codemirror_mode": {
    "name": "ipython",
    "version": 3
   },
   "file_extension": ".py",
   "mimetype": "text/x-python",
   "name": "python",
   "nbconvert_exporter": "python",
   "pygments_lexer": "ipython3",
   "version": "3.9.13"
  },
  "vscode": {
   "interpreter": {
    "hash": "aee8b7b246df8f9039afb4144a1f6fd8d2ca17a180786b69acc140d282b71a49"
   }
  }
 },
 "nbformat": 4,
 "nbformat_minor": 4
}
