{
 "cells": [
  {
   "cell_type": "markdown",
   "metadata": {},
   "source": [
    "# Functions"
   ]
  },
  {
   "cell_type": "markdown",
   "metadata": {},
   "source": [
    "On this lab we will put to practice some of the concepts we have learned on this past few days.\n",
    "\n",
    "`NOTE: On this lab you should try to write all the functions yourself using only the most basic of python syntax and without functions such as len, count, sum, max, min, in, etc. Give it a try. 🧑🏻‍💻👩🏻‍💻`\n",
    "\n",
    "The cell after each exercise contains a few tests to check if your function works as expected."
   ]
  },
  {
   "cell_type": "code",
   "execution_count": 1,
   "metadata": {},
   "outputs": [],
   "source": [
    "from mod.testing import *\n",
    "import unittest"
   ]
  },
  {
   "cell_type": "markdown",
   "metadata": {},
   "source": [
    "## 1. Write a function that returns the greater of two numbers"
   ]
  },
  {
   "cell_type": "code",
   "execution_count": 2,
   "metadata": {},
   "outputs": [],
   "source": [
    "def greater(a, b):\n",
    "    if a > b:\n",
    "        return a\n",
    "    else:\n",
    "        return b"
   ]
  },
  {
   "cell_type": "code",
   "execution_count": null,
   "metadata": {},
   "outputs": [
    {
     "name": "stderr",
     "output_type": "stream",
     "text": [
      "....................................................................................................\n",
      "----------------------------------------------------------------------\n",
      "Ran 100 tests in 0.064s\n",
      "\n",
      "OK\n"
     ]
    }
   ],
   "source": [
    "test_greater(greater)"
   ]
  },
  {
   "cell_type": "markdown",
   "metadata": {},
   "source": [
    "## 2. Now write a function that returns the largest element on a list"
   ]
  },
  {
   "cell_type": "code",
   "execution_count": 4,
   "metadata": {},
   "outputs": [],
   "source": [
    "def greatest(lst):\n",
    "    largest = lst[0]\n",
    "    for element in lst:\n",
    "        if element > largest:\n",
    "            largest = element\n",
    "    return largest"
   ]
  },
  {
   "cell_type": "code",
   "execution_count": 5,
   "metadata": {},
   "outputs": [
    {
     "name": "stderr",
     "output_type": "stream",
     "text": [
      "....................................................................................................\n",
      "----------------------------------------------------------------------\n",
      "Ran 100 tests in 0.065s\n",
      "\n",
      "OK\n"
     ]
    }
   ],
   "source": [
    "test_greatest(greatest)"
   ]
  },
  {
   "cell_type": "markdown",
   "metadata": {},
   "source": [
    "## 3. Write a function that sums all the elements on a list"
   ]
  },
  {
   "cell_type": "code",
   "execution_count": 6,
   "metadata": {},
   "outputs": [],
   "source": [
    "def sum_all(lst):\n",
    "    total = 0\n",
    "    for element in lst:\n",
    "        total += element\n",
    "    return total"
   ]
  },
  {
   "cell_type": "code",
   "execution_count": 7,
   "metadata": {
    "scrolled": true
   },
   "outputs": [
    {
     "name": "stderr",
     "output_type": "stream",
     "text": [
      "....................................................................................................\n",
      "----------------------------------------------------------------------\n",
      "Ran 100 tests in 0.070s\n",
      "\n",
      "OK\n"
     ]
    }
   ],
   "source": [
    "test_sum(sum_all)"
   ]
  },
  {
   "cell_type": "markdown",
   "metadata": {},
   "source": [
    "## 4. Write another function that multiplies all the elements on a list"
   ]
  },
  {
   "cell_type": "code",
   "execution_count": 8,
   "metadata": {},
   "outputs": [],
   "source": [
    "def mult_all(lst):\n",
    "    product = 1\n",
    "    for element in lst:\n",
    "        product *= element\n",
    "    return product"
   ]
  },
  {
   "cell_type": "code",
   "execution_count": 9,
   "metadata": {
    "scrolled": true
   },
   "outputs": [
    {
     "name": "stderr",
     "output_type": "stream",
     "text": [
      "....................................................................................................\n",
      "----------------------------------------------------------------------\n",
      "Ran 100 tests in 0.066s\n",
      "\n",
      "OK\n"
     ]
    }
   ],
   "source": [
    "test_mult(mult_all)"
   ]
  },
  {
   "cell_type": "markdown",
   "metadata": {},
   "source": [
    "## 5. Now combine those two ideas and write a function that receives a list and either \"+\" or \"*\" and outputs acordingly"
   ]
  },
  {
   "cell_type": "code",
   "execution_count": 10,
   "metadata": {},
   "outputs": [],
   "source": [
    "def oper_all(arr, oper=\"*\"):\n",
    "    if oper == \"+\":\n",
    "        result = 0\n",
    "        for element in arr:\n",
    "            result += element\n",
    "    else:\n",
    "        result = 1\n",
    "        for element in arr:\n",
    "            result *= element\n",
    "    return result"
   ]
  },
  {
   "cell_type": "code",
   "execution_count": 11,
   "metadata": {},
   "outputs": [
    {
     "name": "stderr",
     "output_type": "stream",
     "text": [
      "....................................................................................................\n",
      "----------------------------------------------------------------------\n",
      "Ran 100 tests in 0.069s\n",
      "\n",
      "OK\n"
     ]
    }
   ],
   "source": [
    "test_operations(oper_all)"
   ]
  },
  {
   "cell_type": "markdown",
   "metadata": {},
   "source": [
    "## 6. Write a function that returns the factorial of a number."
   ]
  },
  {
   "cell_type": "code",
   "execution_count": 12,
   "metadata": {},
   "outputs": [],
   "source": [
    "def factorial(n):\n",
    "    result = 1\n",
    "    for i in range(1, n + 1):\n",
    "        result *= i\n",
    "    return result"
   ]
  },
  {
   "cell_type": "code",
   "execution_count": null,
   "metadata": {},
   "outputs": [],
   "source": [
    "#factorial formula\n",
    "#n! = n * ( n - 1 ) *...*1\n",
    "\n",
    "# This code defines a function called \"factorial\" which takes an input \"n\". The function uses a for loop to iterate through the range of numbers \n",
    "# from 1 to n+1. For each number in that range, it multiplies the current value of x by the number in the range. At the end of the loop, \n",
    "# the function returns the final value of x, which will be the factorial of the input number \"n\".\n",
    "\n",
    "# The Factorial of a positive integer n is the product of all positive integers less than or equal to n. \n",
    "# For example, the factorial of 6 (written \"6!\") is 6 * 5 * 4 * 3 * 2 * 1 = 720.\n",
    "\n",
    "# So this function takes an input of any positive integer, and returns the factorial of that number."
   ]
  },
  {
   "cell_type": "code",
   "execution_count": 13,
   "metadata": {},
   "outputs": [
    {
     "name": "stderr",
     "output_type": "stream",
     "text": [
      "....................................................................................................\n",
      "----------------------------------------------------------------------\n",
      "Ran 100 tests in 0.064s\n",
      "\n",
      "OK\n"
     ]
    }
   ],
   "source": [
    "test_factorial(factorial)"
   ]
  },
  {
   "cell_type": "markdown",
   "metadata": {},
   "source": [
    "## 7. Write a function that takes a list and returns a list of the unique values.\n",
    "\n",
    "`NOTE: You cannot use set. 🤔`"
   ]
  },
  {
   "cell_type": "code",
   "execution_count": 14,
   "metadata": {},
   "outputs": [],
   "source": [
    "def unique(lst_un):\n",
    "    unique_list = []\n",
    "    for element in lst_un:\n",
    "        is_unique = True\n",
    "        for unique_element in unique_list:\n",
    "            if element == unique_element:\n",
    "                is_unique = False\n",
    "                break\n",
    "        if is_unique:\n",
    "            unique_list.append(element)\n",
    "    return unique_list"
   ]
  },
  {
   "cell_type": "code",
   "execution_count": 15,
   "metadata": {},
   "outputs": [
    {
     "name": "stderr",
     "output_type": "stream",
     "text": [
      "....................................................................................................\n",
      "----------------------------------------------------------------------\n",
      "Ran 100 tests in 0.204s\n",
      "\n",
      "OK\n"
     ]
    }
   ],
   "source": [
    "test_unique(unique)"
   ]
  },
  {
   "cell_type": "markdown",
   "metadata": {},
   "source": [
    "## 8. Write a function that returns the mode of a list, i.e.: the element that appears the most times.\n",
    "`NOTE: You should not use count... 🧐`"
   ]
  },
  {
   "cell_type": "code",
   "execution_count": 16,
   "metadata": {},
   "outputs": [],
   "source": [
    "def mode_counter(arr):\n",
    "    max_count = 0\n",
    "    mode = None\n",
    "    for element in arr:\n",
    "        count = 0\n",
    "        for value in arr:\n",
    "            if value == element:\n",
    "                count += 1\n",
    "        if count > max_count:\n",
    "            max_count = count\n",
    "            mode = element\n",
    "    return mode"
   ]
  },
  {
   "cell_type": "code",
   "execution_count": 17,
   "metadata": {},
   "outputs": [
    {
     "name": "stderr",
     "output_type": "stream",
     "text": [
      "....................................................................................................\n",
      "----------------------------------------------------------------------\n",
      "Ran 100 tests in 0.157s\n",
      "\n",
      "OK\n"
     ]
    }
   ],
   "source": [
    "test_mode(mode_counter)"
   ]
  },
  {
   "cell_type": "markdown",
   "metadata": {},
   "source": [
    "## 9. Write a function that calculates the standard deviation of a list.\n",
    "`NOTE: Do not use any libraries or already built functions. 😉`"
   ]
  },
  {
   "cell_type": "code",
   "execution_count": 26,
   "metadata": {},
   "outputs": [],
   "source": [
    "def st_dev(list_sd):\n",
    "    total = 0\n",
    "    for value in list_sd:\n",
    "        total += value\n",
    "    mean = total / len(list_sd)\n",
    "\n",
    "    variance_sum = 0\n",
    "    for value in list_sd:\n",
    "        variance_sum += (value - mean) * (value - mean)\n",
    "    variance = variance_sum / len(list_sd)\n",
    "\n",
    "    std_deviation = 0\n",
    "    increment = 0.01\n",
    "    while std_deviation * std_deviation < variance:\n",
    "        std_deviation += increment\n",
    "    return std_deviation"
   ]
  },
  {
   "cell_type": "code",
   "execution_count": 27,
   "metadata": {},
   "outputs": [
    {
     "name": "stderr",
     "output_type": "stream",
     "text": [
      "...FFF.F..F.FF.F..F..FFF.F.....FFFFF.FF.F.F..F..F......F.FF..F.....F..F.F..F.FFF.F..F.FFF.F.FFFFF..F\n",
      "======================================================================\n",
      "FAIL: runTest (mod.testing.test_stdev.<locals>.TestKnown.runTest)\n",
      "----------------------------------------------------------------------\n",
      "Traceback (most recent call last):\n",
      "  File \"c:\\Users\\jurge\\Downloads\\Ironhack\\1\\lab-functions-en-1\\mod\\testing.py\", line 142, in runTest\n",
      "    self.assertAlmostEqual(fn(self.input), self.output, delta=5, msg=f\"Should be {self.output}\")\n",
      "AssertionError: 492.21999999969734 != 518.8379751371756 within 5 delta (26.617975137478254 difference) : Should be 518.8379751371756\n",
      "\n",
      "======================================================================\n",
      "FAIL: runTest (mod.testing.test_stdev.<locals>.TestKnown.runTest)\n",
      "----------------------------------------------------------------------\n",
      "Traceback (most recent call last):\n",
      "  File \"c:\\Users\\jurge\\Downloads\\Ironhack\\1\\lab-functions-en-1\\mod\\testing.py\", line 142, in runTest\n",
      "    self.assertAlmostEqual(fn(self.input), self.output, delta=5, msg=f\"Should be {self.output}\")\n",
      "AssertionError: 511.9499999996794 != 518.3063671651183 within 5 delta (6.3563671654389395 difference) : Should be 518.3063671651183\n",
      "\n",
      "======================================================================\n",
      "FAIL: runTest (mod.testing.test_stdev.<locals>.TestKnown.runTest)\n",
      "----------------------------------------------------------------------\n",
      "Traceback (most recent call last):\n",
      "  File \"c:\\Users\\jurge\\Downloads\\Ironhack\\1\\lab-functions-en-1\\mod\\testing.py\", line 142, in runTest\n",
      "    self.assertAlmostEqual(fn(self.input), self.output, delta=5, msg=f\"Should be {self.output}\")\n",
      "AssertionError: 571.3499999996254 != 591.3998969354308 within 5 delta (20.04989693580535 difference) : Should be 591.3998969354308\n",
      "\n",
      "======================================================================\n",
      "FAIL: runTest (mod.testing.test_stdev.<locals>.TestKnown.runTest)\n",
      "----------------------------------------------------------------------\n",
      "Traceback (most recent call last):\n",
      "  File \"c:\\Users\\jurge\\Downloads\\Ironhack\\1\\lab-functions-en-1\\mod\\testing.py\", line 142, in runTest\n",
      "    self.assertAlmostEqual(fn(self.input), self.output, delta=5, msg=f\"Should be {self.output}\")\n",
      "AssertionError: 618.5199999995825 != 638.8013775814827 within 5 delta (20.281377581900188 difference) : Should be 638.8013775814827\n",
      "\n",
      "======================================================================\n",
      "FAIL: runTest (mod.testing.test_stdev.<locals>.TestKnown.runTest)\n",
      "----------------------------------------------------------------------\n",
      "Traceback (most recent call last):\n",
      "  File \"c:\\Users\\jurge\\Downloads\\Ironhack\\1\\lab-functions-en-1\\mod\\testing.py\", line 142, in runTest\n",
      "    self.assertAlmostEqual(fn(self.input), self.output, delta=5, msg=f\"Should be {self.output}\")\n",
      "AssertionError: 550.889999999644 != 559.1737259503761 within 5 delta (8.283725950732105 difference) : Should be 559.1737259503761\n",
      "\n",
      "======================================================================\n",
      "FAIL: runTest (mod.testing.test_stdev.<locals>.TestKnown.runTest)\n",
      "----------------------------------------------------------------------\n",
      "Traceback (most recent call last):\n",
      "  File \"c:\\Users\\jurge\\Downloads\\Ironhack\\1\\lab-functions-en-1\\mod\\testing.py\", line 142, in runTest\n",
      "    self.assertAlmostEqual(fn(self.input), self.output, delta=5, msg=f\"Should be {self.output}\")\n",
      "AssertionError: 561.889999999634 != 578.1747960359754 within 5 delta (16.28479603634139 difference) : Should be 578.1747960359754\n",
      "\n",
      "======================================================================\n",
      "FAIL: runTest (mod.testing.test_stdev.<locals>.TestKnown.runTest)\n",
      "----------------------------------------------------------------------\n",
      "Traceback (most recent call last):\n",
      "  File \"c:\\Users\\jurge\\Downloads\\Ironhack\\1\\lab-functions-en-1\\mod\\testing.py\", line 142, in runTest\n",
      "    self.assertAlmostEqual(fn(self.input), self.output, delta=5, msg=f\"Should be {self.output}\")\n",
      "AssertionError: 548.4399999996463 != 569.1423516867432 within 5 delta (20.702351687096893 difference) : Should be 569.1423516867432\n",
      "\n",
      "======================================================================\n",
      "FAIL: runTest (mod.testing.test_stdev.<locals>.TestKnown.runTest)\n",
      "----------------------------------------------------------------------\n",
      "Traceback (most recent call last):\n",
      "  File \"c:\\Users\\jurge\\Downloads\\Ironhack\\1\\lab-functions-en-1\\mod\\testing.py\", line 142, in runTest\n",
      "    self.assertAlmostEqual(fn(self.input), self.output, delta=5, msg=f\"Should be {self.output}\")\n",
      "AssertionError: 506.04999999968476 != 520.711529286635 within 5 delta (14.66152928695027 difference) : Should be 520.711529286635\n",
      "\n",
      "======================================================================\n",
      "FAIL: runTest (mod.testing.test_stdev.<locals>.TestKnown.runTest)\n",
      "----------------------------------------------------------------------\n",
      "Traceback (most recent call last):\n",
      "  File \"c:\\Users\\jurge\\Downloads\\Ironhack\\1\\lab-functions-en-1\\mod\\testing.py\", line 142, in runTest\n",
      "    self.assertAlmostEqual(fn(self.input), self.output, delta=5, msg=f\"Should be {self.output}\")\n",
      "AssertionError: 482.83999999970587 != 491.09086758957864 within 5 delta (8.250867589872769 difference) : Should be 491.09086758957864\n",
      "\n",
      "======================================================================\n",
      "FAIL: runTest (mod.testing.test_stdev.<locals>.TestKnown.runTest)\n",
      "----------------------------------------------------------------------\n",
      "Traceback (most recent call last):\n",
      "  File \"c:\\Users\\jurge\\Downloads\\Ironhack\\1\\lab-functions-en-1\\mod\\testing.py\", line 142, in runTest\n",
      "    self.assertAlmostEqual(fn(self.input), self.output, delta=5, msg=f\"Should be {self.output}\")\n",
      "AssertionError: 508.7299999996823 != 521.29009381031 within 5 delta (12.560093810627734 difference) : Should be 521.29009381031\n",
      "\n",
      "======================================================================\n",
      "FAIL: runTest (mod.testing.test_stdev.<locals>.TestKnown.runTest)\n",
      "----------------------------------------------------------------------\n",
      "Traceback (most recent call last):\n",
      "  File \"c:\\Users\\jurge\\Downloads\\Ironhack\\1\\lab-functions-en-1\\mod\\testing.py\", line 142, in runTest\n",
      "    self.assertAlmostEqual(fn(self.input), self.output, delta=5, msg=f\"Should be {self.output}\")\n",
      "AssertionError: 627.2399999995746 != 638.7433222711857 within 5 delta (11.503322271611069 difference) : Should be 638.7433222711857\n",
      "\n",
      "======================================================================\n",
      "FAIL: runTest (mod.testing.test_stdev.<locals>.TestKnown.runTest)\n",
      "----------------------------------------------------------------------\n",
      "Traceback (most recent call last):\n",
      "  File \"c:\\Users\\jurge\\Downloads\\Ironhack\\1\\lab-functions-en-1\\mod\\testing.py\", line 142, in runTest\n",
      "    self.assertAlmostEqual(fn(self.input), self.output, delta=5, msg=f\"Should be {self.output}\")\n",
      "AssertionError: 462.9899999997239 != 479.23162706665386 within 5 delta (16.241627066929937 difference) : Should be 479.23162706665386\n",
      "\n",
      "======================================================================\n",
      "FAIL: runTest (mod.testing.test_stdev.<locals>.TestKnown.runTest)\n",
      "----------------------------------------------------------------------\n",
      "Traceback (most recent call last):\n",
      "  File \"c:\\Users\\jurge\\Downloads\\Ironhack\\1\\lab-functions-en-1\\mod\\testing.py\", line 142, in runTest\n",
      "    self.assertAlmostEqual(fn(self.input), self.output, delta=5, msg=f\"Should be {self.output}\")\n",
      "AssertionError: 571.3999999996254 != 576.6661516900836 within 5 delta (5.266151690458173 difference) : Should be 576.6661516900836\n",
      "\n",
      "======================================================================\n",
      "FAIL: runTest (mod.testing.test_stdev.<locals>.TestKnown.runTest)\n",
      "----------------------------------------------------------------------\n",
      "Traceback (most recent call last):\n",
      "  File \"c:\\Users\\jurge\\Downloads\\Ironhack\\1\\lab-functions-en-1\\mod\\testing.py\", line 142, in runTest\n",
      "    self.assertAlmostEqual(fn(self.input), self.output, delta=5, msg=f\"Should be {self.output}\")\n",
      "AssertionError: 539.5799999996543 != 548.2046356796385 within 5 delta (8.62463567998418 difference) : Should be 548.2046356796385\n",
      "\n",
      "======================================================================\n",
      "FAIL: runTest (mod.testing.test_stdev.<locals>.TestKnown.runTest)\n",
      "----------------------------------------------------------------------\n",
      "Traceback (most recent call last):\n",
      "  File \"c:\\Users\\jurge\\Downloads\\Ironhack\\1\\lab-functions-en-1\\mod\\testing.py\", line 142, in runTest\n",
      "    self.assertAlmostEqual(fn(self.input), self.output, delta=5, msg=f\"Should be {self.output}\")\n",
      "AssertionError: 748.6299999994642 != 781.9184401008183 within 5 delta (33.28844010135413 difference) : Should be 781.9184401008183\n",
      "\n",
      "======================================================================\n",
      "FAIL: runTest (mod.testing.test_stdev.<locals>.TestKnown.runTest)\n",
      "----------------------------------------------------------------------\n",
      "Traceback (most recent call last):\n",
      "  File \"c:\\Users\\jurge\\Downloads\\Ironhack\\1\\lab-functions-en-1\\mod\\testing.py\", line 142, in runTest\n",
      "    self.assertAlmostEqual(fn(self.input), self.output, delta=5, msg=f\"Should be {self.output}\")\n",
      "AssertionError: 543.169999999651 != 549.9115283610539 within 5 delta (6.741528361402857 difference) : Should be 549.9115283610539\n",
      "\n",
      "======================================================================\n",
      "FAIL: runTest (mod.testing.test_stdev.<locals>.TestKnown.runTest)\n",
      "----------------------------------------------------------------------\n",
      "Traceback (most recent call last):\n",
      "  File \"c:\\Users\\jurge\\Downloads\\Ironhack\\1\\lab-functions-en-1\\mod\\testing.py\", line 142, in runTest\n",
      "    self.assertAlmostEqual(fn(self.input), self.output, delta=5, msg=f\"Should be {self.output}\")\n",
      "AssertionError: 537.3599999996563 != 544.9779630028448 within 5 delta (7.617963003188493 difference) : Should be 544.9779630028448\n",
      "\n",
      "======================================================================\n",
      "FAIL: runTest (mod.testing.test_stdev.<locals>.TestKnown.runTest)\n",
      "----------------------------------------------------------------------\n",
      "Traceback (most recent call last):\n",
      "  File \"c:\\Users\\jurge\\Downloads\\Ironhack\\1\\lab-functions-en-1\\mod\\testing.py\", line 142, in runTest\n",
      "    self.assertAlmostEqual(fn(self.input), self.output, delta=5, msg=f\"Should be {self.output}\")\n",
      "AssertionError: 581.0899999996166 != 606.9255358448894 within 5 delta (25.83553584527283 difference) : Should be 606.9255358448894\n",
      "\n",
      "======================================================================\n",
      "FAIL: runTest (mod.testing.test_stdev.<locals>.TestKnown.runTest)\n",
      "----------------------------------------------------------------------\n",
      "Traceback (most recent call last):\n",
      "  File \"c:\\Users\\jurge\\Downloads\\Ironhack\\1\\lab-functions-en-1\\mod\\testing.py\", line 142, in runTest\n",
      "    self.assertAlmostEqual(fn(self.input), self.output, delta=5, msg=f\"Should be {self.output}\")\n",
      "AssertionError: 542.9699999996512 != 552.2473261097805 within 5 delta (9.277326110129252 difference) : Should be 552.2473261097805\n",
      "\n",
      "======================================================================\n",
      "FAIL: runTest (mod.testing.test_stdev.<locals>.TestKnown.runTest)\n",
      "----------------------------------------------------------------------\n",
      "Traceback (most recent call last):\n",
      "  File \"c:\\Users\\jurge\\Downloads\\Ironhack\\1\\lab-functions-en-1\\mod\\testing.py\", line 142, in runTest\n",
      "    self.assertAlmostEqual(fn(self.input), self.output, delta=5, msg=f\"Should be {self.output}\")\n",
      "AssertionError: 621.5999999995797 != 634.4162014534833 within 5 delta (12.816201453903545 difference) : Should be 634.4162014534833\n",
      "\n",
      "======================================================================\n",
      "FAIL: runTest (mod.testing.test_stdev.<locals>.TestKnown.runTest)\n",
      "----------------------------------------------------------------------\n",
      "Traceback (most recent call last):\n",
      "  File \"c:\\Users\\jurge\\Downloads\\Ironhack\\1\\lab-functions-en-1\\mod\\testing.py\", line 142, in runTest\n",
      "    self.assertAlmostEqual(fn(self.input), self.output, delta=5, msg=f\"Should be {self.output}\")\n",
      "AssertionError: 592.9799999996058 != 606.304590875738 within 5 delta (13.32459087613222 difference) : Should be 606.304590875738\n",
      "\n",
      "======================================================================\n",
      "FAIL: runTest (mod.testing.test_stdev.<locals>.TestKnown.runTest)\n",
      "----------------------------------------------------------------------\n",
      "Traceback (most recent call last):\n",
      "  File \"c:\\Users\\jurge\\Downloads\\Ironhack\\1\\lab-functions-en-1\\mod\\testing.py\", line 142, in runTest\n",
      "    self.assertAlmostEqual(fn(self.input), self.output, delta=5, msg=f\"Should be {self.output}\")\n",
      "AssertionError: 608.9799999995912 != 614.2018988335055 within 5 delta (5.221898833914338 difference) : Should be 614.2018988335055\n",
      "\n",
      "======================================================================\n",
      "FAIL: runTest (mod.testing.test_stdev.<locals>.TestKnown.runTest)\n",
      "----------------------------------------------------------------------\n",
      "Traceback (most recent call last):\n",
      "  File \"c:\\Users\\jurge\\Downloads\\Ironhack\\1\\lab-functions-en-1\\mod\\testing.py\", line 142, in runTest\n",
      "    self.assertAlmostEqual(fn(self.input), self.output, delta=5, msg=f\"Should be {self.output}\")\n",
      "AssertionError: 553.4599999996417 != 565.354356941771 within 5 delta (11.89435694212932 difference) : Should be 565.354356941771\n",
      "\n",
      "======================================================================\n",
      "FAIL: runTest (mod.testing.test_stdev.<locals>.TestKnown.runTest)\n",
      "----------------------------------------------------------------------\n",
      "Traceback (most recent call last):\n",
      "  File \"c:\\Users\\jurge\\Downloads\\Ironhack\\1\\lab-functions-en-1\\mod\\testing.py\", line 142, in runTest\n",
      "    self.assertAlmostEqual(fn(self.input), self.output, delta=5, msg=f\"Should be {self.output}\")\n",
      "AssertionError: 467.7099999997196 != 479.85384562165876 within 5 delta (12.143845621939136 difference) : Should be 479.85384562165876\n",
      "\n",
      "======================================================================\n",
      "FAIL: runTest (mod.testing.test_stdev.<locals>.TestKnown.runTest)\n",
      "----------------------------------------------------------------------\n",
      "Traceback (most recent call last):\n",
      "  File \"c:\\Users\\jurge\\Downloads\\Ironhack\\1\\lab-functions-en-1\\mod\\testing.py\", line 142, in runTest\n",
      "    self.assertAlmostEqual(fn(self.input), self.output, delta=5, msg=f\"Should be {self.output}\")\n",
      "AssertionError: 573.8999999996231 != 578.9918156212495 within 5 delta (5.091815621626438 difference) : Should be 578.9918156212495\n",
      "\n",
      "======================================================================\n",
      "FAIL: runTest (mod.testing.test_stdev.<locals>.TestKnown.runTest)\n",
      "----------------------------------------------------------------------\n",
      "Traceback (most recent call last):\n",
      "  File \"c:\\Users\\jurge\\Downloads\\Ironhack\\1\\lab-functions-en-1\\mod\\testing.py\", line 142, in runTest\n",
      "    self.assertAlmostEqual(fn(self.input), self.output, delta=5, msg=f\"Should be {self.output}\")\n",
      "AssertionError: 502.73999999968777 != 507.7412711523188 within 5 delta (5.001271152631034 difference) : Should be 507.7412711523188\n",
      "\n",
      "======================================================================\n",
      "FAIL: runTest (mod.testing.test_stdev.<locals>.TestKnown.runTest)\n",
      "----------------------------------------------------------------------\n",
      "Traceback (most recent call last):\n",
      "  File \"c:\\Users\\jurge\\Downloads\\Ironhack\\1\\lab-functions-en-1\\mod\\testing.py\", line 142, in runTest\n",
      "    self.assertAlmostEqual(fn(self.input), self.output, delta=5, msg=f\"Should be {self.output}\")\n",
      "AssertionError: 608.5699999995916 != 614.6163687897628 within 5 delta (6.0463687901711864 difference) : Should be 614.6163687897628\n",
      "\n",
      "======================================================================\n",
      "FAIL: runTest (mod.testing.test_stdev.<locals>.TestKnown.runTest)\n",
      "----------------------------------------------------------------------\n",
      "Traceback (most recent call last):\n",
      "  File \"c:\\Users\\jurge\\Downloads\\Ironhack\\1\\lab-functions-en-1\\mod\\testing.py\", line 142, in runTest\n",
      "    self.assertAlmostEqual(fn(self.input), self.output, delta=5, msg=f\"Should be {self.output}\")\n",
      "AssertionError: 534.0199999996594 != 541.8086533147313 within 5 delta (7.788653315071883 difference) : Should be 541.8086533147313\n",
      "\n",
      "======================================================================\n",
      "FAIL: runTest (mod.testing.test_stdev.<locals>.TestKnown.runTest)\n",
      "----------------------------------------------------------------------\n",
      "Traceback (most recent call last):\n",
      "  File \"c:\\Users\\jurge\\Downloads\\Ironhack\\1\\lab-functions-en-1\\mod\\testing.py\", line 142, in runTest\n",
      "    self.assertAlmostEqual(fn(self.input), self.output, delta=5, msg=f\"Should be {self.output}\")\n",
      "AssertionError: 561.3199999996345 != 570.5915568348192 within 5 delta (9.271556835184697 difference) : Should be 570.5915568348192\n",
      "\n",
      "======================================================================\n",
      "FAIL: runTest (mod.testing.test_stdev.<locals>.TestKnown.runTest)\n",
      "----------------------------------------------------------------------\n",
      "Traceback (most recent call last):\n",
      "  File \"c:\\Users\\jurge\\Downloads\\Ironhack\\1\\lab-functions-en-1\\mod\\testing.py\", line 142, in runTest\n",
      "    self.assertAlmostEqual(fn(self.input), self.output, delta=5, msg=f\"Should be {self.output}\")\n",
      "AssertionError: 553.9499999996412 != 572.1163051921058 within 5 delta (18.166305192464506 difference) : Should be 572.1163051921058\n",
      "\n",
      "======================================================================\n",
      "FAIL: runTest (mod.testing.test_stdev.<locals>.TestKnown.runTest)\n",
      "----------------------------------------------------------------------\n",
      "Traceback (most recent call last):\n",
      "  File \"c:\\Users\\jurge\\Downloads\\Ironhack\\1\\lab-functions-en-1\\mod\\testing.py\", line 142, in runTest\n",
      "    self.assertAlmostEqual(fn(self.input), self.output, delta=5, msg=f\"Should be {self.output}\")\n",
      "AssertionError: 651.8199999995522 != 661.926215218841 within 5 delta (10.106215219288742 difference) : Should be 661.926215218841\n",
      "\n",
      "======================================================================\n",
      "FAIL: runTest (mod.testing.test_stdev.<locals>.TestKnown.runTest)\n",
      "----------------------------------------------------------------------\n",
      "Traceback (most recent call last):\n",
      "  File \"c:\\Users\\jurge\\Downloads\\Ironhack\\1\\lab-functions-en-1\\mod\\testing.py\", line 142, in runTest\n",
      "    self.assertAlmostEqual(fn(self.input), self.output, delta=5, msg=f\"Should be {self.output}\")\n",
      "AssertionError: 571.6699999996251 != 578.1256390659859 within 5 delta (6.455639066360732 difference) : Should be 578.1256390659859\n",
      "\n",
      "======================================================================\n",
      "FAIL: runTest (mod.testing.test_stdev.<locals>.TestKnown.runTest)\n",
      "----------------------------------------------------------------------\n",
      "Traceback (most recent call last):\n",
      "  File \"c:\\Users\\jurge\\Downloads\\Ironhack\\1\\lab-functions-en-1\\mod\\testing.py\", line 142, in runTest\n",
      "    self.assertAlmostEqual(fn(self.input), self.output, delta=5, msg=f\"Should be {self.output}\")\n",
      "AssertionError: 546.4299999996481 != 554.6456409163623 within 5 delta (8.215640916714165 difference) : Should be 554.6456409163623\n",
      "\n",
      "======================================================================\n",
      "FAIL: runTest (mod.testing.test_stdev.<locals>.TestKnown.runTest)\n",
      "----------------------------------------------------------------------\n",
      "Traceback (most recent call last):\n",
      "  File \"c:\\Users\\jurge\\Downloads\\Ironhack\\1\\lab-functions-en-1\\mod\\testing.py\", line 142, in runTest\n",
      "    self.assertAlmostEqual(fn(self.input), self.output, delta=5, msg=f\"Should be {self.output}\")\n",
      "AssertionError: 370.519999999808 != 386.98769653921465 within 5 delta (16.46769653940663 difference) : Should be 386.98769653921465\n",
      "\n",
      "======================================================================\n",
      "FAIL: runTest (mod.testing.test_stdev.<locals>.TestKnown.runTest)\n",
      "----------------------------------------------------------------------\n",
      "Traceback (most recent call last):\n",
      "  File \"c:\\Users\\jurge\\Downloads\\Ironhack\\1\\lab-functions-en-1\\mod\\testing.py\", line 142, in runTest\n",
      "    self.assertAlmostEqual(fn(self.input), self.output, delta=5, msg=f\"Should be {self.output}\")\n",
      "AssertionError: 615.0299999995857 != 625.1900803428824 within 5 delta (10.160080343296727 difference) : Should be 625.1900803428824\n",
      "\n",
      "======================================================================\n",
      "FAIL: runTest (mod.testing.test_stdev.<locals>.TestKnown.runTest)\n",
      "----------------------------------------------------------------------\n",
      "Traceback (most recent call last):\n",
      "  File \"c:\\Users\\jurge\\Downloads\\Ironhack\\1\\lab-functions-en-1\\mod\\testing.py\", line 142, in runTest\n",
      "    self.assertAlmostEqual(fn(self.input), self.output, delta=5, msg=f\"Should be {self.output}\")\n",
      "AssertionError: 613.7799999995868 != 619.0460063027185 within 5 delta (5.2660063031316895 difference) : Should be 619.0460063027185\n",
      "\n",
      "======================================================================\n",
      "FAIL: runTest (mod.testing.test_stdev.<locals>.TestKnown.runTest)\n",
      "----------------------------------------------------------------------\n",
      "Traceback (most recent call last):\n",
      "  File \"c:\\Users\\jurge\\Downloads\\Ironhack\\1\\lab-functions-en-1\\mod\\testing.py\", line 142, in runTest\n",
      "    self.assertAlmostEqual(fn(self.input), self.output, delta=5, msg=f\"Should be {self.output}\")\n",
      "AssertionError: 489.66999999969966 != 509.66130030211343 within 5 delta (19.991300302413777 difference) : Should be 509.66130030211343\n",
      "\n",
      "======================================================================\n",
      "FAIL: runTest (mod.testing.test_stdev.<locals>.TestKnown.runTest)\n",
      "----------------------------------------------------------------------\n",
      "Traceback (most recent call last):\n",
      "  File \"c:\\Users\\jurge\\Downloads\\Ironhack\\1\\lab-functions-en-1\\mod\\testing.py\", line 142, in runTest\n",
      "    self.assertAlmostEqual(fn(self.input), self.output, delta=5, msg=f\"Should be {self.output}\")\n",
      "AssertionError: 453.05999999973295 != 473.19618424906895 within 5 delta (20.136184249335997 difference) : Should be 473.19618424906895\n",
      "\n",
      "======================================================================\n",
      "FAIL: runTest (mod.testing.test_stdev.<locals>.TestKnown.runTest)\n",
      "----------------------------------------------------------------------\n",
      "Traceback (most recent call last):\n",
      "  File \"c:\\Users\\jurge\\Downloads\\Ironhack\\1\\lab-functions-en-1\\mod\\testing.py\", line 142, in runTest\n",
      "    self.assertAlmostEqual(fn(self.input), self.output, delta=5, msg=f\"Should be {self.output}\")\n",
      "AssertionError: 612.2299999995882 != 618.7002161360609 within 5 delta (6.470216136472686 difference) : Should be 618.7002161360609\n",
      "\n",
      "======================================================================\n",
      "FAIL: runTest (mod.testing.test_stdev.<locals>.TestKnown.runTest)\n",
      "----------------------------------------------------------------------\n",
      "Traceback (most recent call last):\n",
      "  File \"c:\\Users\\jurge\\Downloads\\Ironhack\\1\\lab-functions-en-1\\mod\\testing.py\", line 142, in runTest\n",
      "    self.assertAlmostEqual(fn(self.input), self.output, delta=5, msg=f\"Should be {self.output}\")\n",
      "AssertionError: 577.8299999996195 != 586.2650976357729 within 5 delta (8.435097636153387 difference) : Should be 586.2650976357729\n",
      "\n",
      "======================================================================\n",
      "FAIL: runTest (mod.testing.test_stdev.<locals>.TestKnown.runTest)\n",
      "----------------------------------------------------------------------\n",
      "Traceback (most recent call last):\n",
      "  File \"c:\\Users\\jurge\\Downloads\\Ironhack\\1\\lab-functions-en-1\\mod\\testing.py\", line 142, in runTest\n",
      "    self.assertAlmostEqual(fn(self.input), self.output, delta=5, msg=f\"Should be {self.output}\")\n",
      "AssertionError: 507.58999999968336 != 515.9755599780126 within 5 delta (8.38555997832924 difference) : Should be 515.9755599780126\n",
      "\n",
      "======================================================================\n",
      "FAIL: runTest (mod.testing.test_stdev.<locals>.TestKnown.runTest)\n",
      "----------------------------------------------------------------------\n",
      "Traceback (most recent call last):\n",
      "  File \"c:\\Users\\jurge\\Downloads\\Ironhack\\1\\lab-functions-en-1\\mod\\testing.py\", line 142, in runTest\n",
      "    self.assertAlmostEqual(fn(self.input), self.output, delta=5, msg=f\"Should be {self.output}\")\n",
      "AssertionError: 619.9699999995812 != 636.9522781797414 within 5 delta (16.982278180160165 difference) : Should be 636.9522781797414\n",
      "\n",
      "======================================================================\n",
      "FAIL: runTest (mod.testing.test_stdev.<locals>.TestKnown.runTest)\n",
      "----------------------------------------------------------------------\n",
      "Traceback (most recent call last):\n",
      "  File \"c:\\Users\\jurge\\Downloads\\Ironhack\\1\\lab-functions-en-1\\mod\\testing.py\", line 142, in runTest\n",
      "    self.assertAlmostEqual(fn(self.input), self.output, delta=5, msg=f\"Should be {self.output}\")\n",
      "AssertionError: 539.949999999654 != 545.6547485452033 within 5 delta (5.704748545549364 difference) : Should be 545.6547485452033\n",
      "\n",
      "======================================================================\n",
      "FAIL: runTest (mod.testing.test_stdev.<locals>.TestKnown.runTest)\n",
      "----------------------------------------------------------------------\n",
      "Traceback (most recent call last):\n",
      "  File \"c:\\Users\\jurge\\Downloads\\Ironhack\\1\\lab-functions-en-1\\mod\\testing.py\", line 142, in runTest\n",
      "    self.assertAlmostEqual(fn(self.input), self.output, delta=5, msg=f\"Should be {self.output}\")\n",
      "AssertionError: 585.6699999996124 != 592.5953558828769 within 5 delta (6.925355883264501 difference) : Should be 592.5953558828769\n",
      "\n",
      "======================================================================\n",
      "FAIL: runTest (mod.testing.test_stdev.<locals>.TestKnown.runTest)\n",
      "----------------------------------------------------------------------\n",
      "Traceback (most recent call last):\n",
      "  File \"c:\\Users\\jurge\\Downloads\\Ironhack\\1\\lab-functions-en-1\\mod\\testing.py\", line 142, in runTest\n",
      "    self.assertAlmostEqual(fn(self.input), self.output, delta=5, msg=f\"Should be {self.output}\")\n",
      "AssertionError: 610.0199999995903 != 631.4261635377488 within 5 delta (21.40616353815858 difference) : Should be 631.4261635377488\n",
      "\n",
      "======================================================================\n",
      "FAIL: runTest (mod.testing.test_stdev.<locals>.TestKnown.runTest)\n",
      "----------------------------------------------------------------------\n",
      "Traceback (most recent call last):\n",
      "  File \"c:\\Users\\jurge\\Downloads\\Ironhack\\1\\lab-functions-en-1\\mod\\testing.py\", line 142, in runTest\n",
      "    self.assertAlmostEqual(fn(self.input), self.output, delta=5, msg=f\"Should be {self.output}\")\n",
      "AssertionError: 505.9999999996848 != 511.71074926084066 within 5 delta (5.710749261155854 difference) : Should be 511.71074926084066\n",
      "\n",
      "======================================================================\n",
      "FAIL: runTest (mod.testing.test_stdev.<locals>.TestKnown.runTest)\n",
      "----------------------------------------------------------------------\n",
      "Traceback (most recent call last):\n",
      "  File \"c:\\Users\\jurge\\Downloads\\Ironhack\\1\\lab-functions-en-1\\mod\\testing.py\", line 142, in runTest\n",
      "    self.assertAlmostEqual(fn(self.input), self.output, delta=5, msg=f\"Should be {self.output}\")\n",
      "AssertionError: 519.8699999996722 != 526.0198058076165 within 5 delta (6.14980580794429 difference) : Should be 526.0198058076165\n",
      "\n",
      "----------------------------------------------------------------------\n",
      "Ran 100 tests in 0.331s\n",
      "\n",
      "FAILED (failures=47)\n"
     ]
    }
   ],
   "source": [
    "test_stdev(st_dev)"
   ]
  },
  {
   "cell_type": "markdown",
   "metadata": {},
   "source": [
    "## 10. Write a function to check if a string is a pangram, i.e.: if it contains all the letters of the alphabet at least once. Mind that the strings may contain characters that are not letters."
   ]
  },
  {
   "cell_type": "code",
   "execution_count": 18,
   "metadata": {},
   "outputs": [],
   "source": [
    "def pangram(string):\n",
    "    alphabet = \"abcdefghijklmnopqrstuvwxyz\"\n",
    "    for letter in alphabet:\n",
    "        found = False\n",
    "        for char in string.lower():\n",
    "            if char == letter:\n",
    "                found = True\n",
    "                break\n",
    "        if not found:\n",
    "            return False\n",
    "    return True"
   ]
  },
  {
   "cell_type": "code",
   "execution_count": 19,
   "metadata": {},
   "outputs": [
    {
     "name": "stderr",
     "output_type": "stream",
     "text": [
      "..............................\n",
      "----------------------------------------------------------------------\n",
      "Ran 30 tests in 0.024s\n",
      "\n",
      "OK\n"
     ]
    }
   ],
   "source": [
    "test_pangram(pangram)"
   ]
  },
  {
   "cell_type": "markdown",
   "metadata": {},
   "source": [
    "## 11. Write a function that receives a string of comma separated words and returns a string of comma separated words sorted alphabetically.\n",
    "\n",
    "`NOTE: You may use sorted but not split and definitely no join! 🤪`"
   ]
  },
  {
   "cell_type": "code",
   "execution_count": 24,
   "metadata": {},
   "outputs": [],
   "source": [
    "def sort_alpha(string):\n",
    "    words = []\n",
    "    word = \"\"\n",
    "    for char in string:\n",
    "        if char == \",\":\n",
    "            words.append(word)\n",
    "            word = \"\"\n",
    "        else:\n",
    "            word += char\n",
    "    words.append(word)\n",
    "\n",
    "    for i in range(len(words)):\n",
    "        for j in range(len(words) - i - 1):\n",
    "            if words[j] > words[j + 1]:\n",
    "                temp = words[j]\n",
    "                words[j] = words[j + 1]\n",
    "                words[j + 1] = temp\n",
    "\n",
    "    result = \"\"\n",
    "    for i in range(len(words)):\n",
    "        result += words[i]\n",
    "        if i < len(words) - 1:\n",
    "            result += \",\"\n",
    "    return result"
   ]
  },
  {
   "cell_type": "code",
   "execution_count": 25,
   "metadata": {},
   "outputs": [
    {
     "name": "stderr",
     "output_type": "stream",
     "text": [
      "....................................................................................................\n",
      "----------------------------------------------------------------------\n",
      "Ran 100 tests in 0.070s\n",
      "\n",
      "OK\n"
     ]
    }
   ],
   "source": [
    "test_alpha(sort_alpha)"
   ]
  },
  {
   "cell_type": "markdown",
   "metadata": {},
   "source": [
    "## 12. Write a function to check if a given password is strong (at least 8 characters, at least one lower case, at least one upper case, at least one number and at least one special character). It should output True if strong and False if not."
   ]
  },
  {
   "cell_type": "code",
   "execution_count": 20,
   "metadata": {},
   "outputs": [],
   "source": [
    "def check_pass(password):\n",
    "    has_upper = False\n",
    "    has_lower = False\n",
    "    has_digit = False\n",
    "    has_special = False\n",
    "    length = 0\n",
    "\n",
    "    for char in password:\n",
    "        length += 1\n",
    "        if 'A' <= char <= 'Z':\n",
    "            has_upper = True\n",
    "        elif 'a' <= char <= 'z':\n",
    "            has_lower = True\n",
    "        elif '0' <= char <= '9':\n",
    "            has_digit = True\n",
    "        else:\n",
    "            has_special = True\n",
    "\n",
    "    return length >= 8 and has_upper and has_lower and has_digit and has_special"
   ]
  },
  {
   "cell_type": "code",
   "execution_count": 21,
   "metadata": {},
   "outputs": [
    {
     "name": "stderr",
     "output_type": "stream",
     "text": [
      "....................................................................................................\n",
      "----------------------------------------------------------------------\n",
      "Ran 100 tests in 0.089s\n",
      "\n",
      "OK\n"
     ]
    }
   ],
   "source": [
    "test_pass(check_pass)"
   ]
  }
 ],
 "metadata": {
  "kernelspec": {
   "display_name": "base",
   "language": "python",
   "name": "python3"
  },
  "language_info": {
   "codemirror_mode": {
    "name": "ipython",
    "version": 3
   },
   "file_extension": ".py",
   "mimetype": "text/x-python",
   "name": "python",
   "nbconvert_exporter": "python",
   "pygments_lexer": "ipython3",
   "version": "3.12.7"
  }
 },
 "nbformat": 4,
 "nbformat_minor": 4
}
