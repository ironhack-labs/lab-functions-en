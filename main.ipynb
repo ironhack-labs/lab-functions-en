{
 "cells": [
  {
   "cell_type": "markdown",
   "metadata": {},
   "source": [
    "# Functions"
   ]
  },
  {
   "cell_type": "markdown",
   "metadata": {},
   "source": [
    "On this lab we will put to practice some of the concepts we have learned on this past few days.\n",
    "\n",
    "`NOTE: On this lab you should try to write all the functions yourself using only the most basic of python syntax and without functions such as len, count, sum, max, min, in, etc. Give it a try. 🧑🏻‍💻👩🏻‍💻`\n",
    "\n",
    "The cell after each exercise contains a few tests to check if your function works as expected."
   ]
  },
  {
   "cell_type": "code",
   "execution_count": 97,
   "metadata": {},
   "outputs": [],
   "source": [
    "from mod.testing import *\n",
    "import unittest"
   ]
  },
  {
   "cell_type": "markdown",
   "metadata": {},
   "source": [
    "## 1. Write a function that returns the greater of two numbers"
   ]
  },
  {
   "cell_type": "code",
   "execution_count": 3,
   "metadata": {},
   "outputs": [],
   "source": [
    "def greater(a,b):\n",
    "#your code here\n",
    "    if a > b:\n",
    "        return a\n",
    "    elif a < b:\n",
    "        return b\n",
    "    else:\n",
    "        print(f\"{a} equals {b}\")"
   ]
  },
  {
   "cell_type": "code",
   "execution_count": 5,
   "metadata": {},
   "outputs": [
    {
     "name": "stderr",
     "output_type": "stream",
     "text": [
      "....................................................................................................\n",
      "----------------------------------------------------------------------\n",
      "Ran 100 tests in 0.038s\n",
      "\n",
      "OK\n"
     ]
    },
    {
     "name": "stdout",
     "output_type": "stream",
     "text": [
      "5 equals 5\n"
     ]
    },
    {
     "data": {
      "text/plain": [
       "20"
      ]
     },
     "execution_count": 5,
     "metadata": {},
     "output_type": "execute_result"
    }
   ],
   "source": [
    "# This will test your function \n",
    "test_greater(greater)\n",
    "\n",
    "greater(5,5)\n",
    "greater(8,20)"
   ]
  },
  {
   "cell_type": "code",
   "execution_count": 7,
   "metadata": {},
   "outputs": [
    {
     "data": {
      "text/plain": [
       "65321"
      ]
     },
     "execution_count": 7,
     "metadata": {},
     "output_type": "execute_result"
    }
   ],
   "source": [
    "#your code here\n",
    "greater(6,7)\n",
    "greater(123,65321)"
   ]
  },
  {
   "cell_type": "markdown",
   "metadata": {},
   "source": [
    "## 2. Now write a function that returns the largest element on a list"
   ]
  },
  {
   "cell_type": "code",
   "execution_count": 123,
   "metadata": {},
   "outputs": [
    {
     "name": "stdout",
     "output_type": "stream",
     "text": [
      "[2, 4, 8, 5, 8, 4, 4, 3, 9, 1]\n"
     ]
    }
   ],
   "source": [
    "#Creating my own list filled with random numbers to use it for the next block of problems\n",
    "import random\n",
    "my_list = [random.randint(1,10) for i in range(10)]\n",
    "print(my_list)"
   ]
  },
  {
   "cell_type": "code",
   "execution_count": 61,
   "metadata": {},
   "outputs": [],
   "source": [
    "#your code here\n",
    "def greatest(ls):\n",
    "    max_ls = 0\n",
    "    for i in ls:\n",
    "        if max_ls < i:\n",
    "            max_ls = i       \n",
    "    return max_ls"
   ]
  },
  {
   "cell_type": "code",
   "execution_count": 113,
   "metadata": {},
   "outputs": [
    {
     "name": "stderr",
     "output_type": "stream",
     "text": [
      "....................................................................................................\n",
      "----------------------------------------------------------------------\n",
      "Ran 100 tests in 0.038s\n",
      "\n",
      "OK\n"
     ]
    },
    {
     "data": {
      "text/plain": [
       "10"
      ]
     },
     "execution_count": 113,
     "metadata": {},
     "output_type": "execute_result"
    }
   ],
   "source": [
    "# This will test your function \n",
    "test_greatest(greatest)\n",
    "\n",
    "greatest(my_list)"
   ]
  },
  {
   "cell_type": "markdown",
   "metadata": {},
   "source": [
    "## 3. Write a function that sums all the elements on a list"
   ]
  },
  {
   "cell_type": "code",
   "execution_count": 65,
   "metadata": {},
   "outputs": [],
   "source": [
    "def sum_all(lst):\n",
    "    sum_ls = 0\n",
    "    for i in lst:\n",
    "        sum_ls += i\n",
    "    return sum_ls"
   ]
  },
  {
   "cell_type": "code",
   "execution_count": 119,
   "metadata": {
    "scrolled": true
   },
   "outputs": [
    {
     "name": "stderr",
     "output_type": "stream",
     "text": [
      "....................................................................................................\n",
      "----------------------------------------------------------------------\n",
      "Ran 100 tests in 0.041s\n",
      "\n",
      "OK\n"
     ]
    },
    {
     "data": {
      "text/plain": [
       "67"
      ]
     },
     "execution_count": 119,
     "metadata": {},
     "output_type": "execute_result"
    }
   ],
   "source": [
    "# This will test your function \n",
    "test_sum(sum_all)\n",
    "\n",
    "sum_all(my_list)"
   ]
  },
  {
   "cell_type": "markdown",
   "metadata": {},
   "source": [
    "## 4. Write another function that multiplies all the elements on a list"
   ]
  },
  {
   "cell_type": "code",
   "execution_count": 77,
   "metadata": {},
   "outputs": [],
   "source": [
    "def mult_all(lst):\n",
    "    mult_ls = 1\n",
    "    for i in lst:\n",
    "        mult_ls *= i\n",
    "    return mult_ls"
   ]
  },
  {
   "cell_type": "code",
   "execution_count": 125,
   "metadata": {
    "scrolled": true
   },
   "outputs": [
    {
     "name": "stderr",
     "output_type": "stream",
     "text": [
      "....................................................................................................\n",
      "----------------------------------------------------------------------\n",
      "Ran 100 tests in 0.037s\n",
      "\n",
      "OK\n"
     ]
    },
    {
     "data": {
      "text/plain": [
       "1105920"
      ]
     },
     "execution_count": 125,
     "metadata": {},
     "output_type": "execute_result"
    }
   ],
   "source": [
    "# This will test your function \n",
    "test_mult(mult_all)\n",
    "\n",
    "mult_all(my_list)"
   ]
  },
  {
   "cell_type": "markdown",
   "metadata": {},
   "source": [
    "## 5. Now combine those two ideas and write a function that receives a list and either \"+\" or \"*\" and outputs acordingly"
   ]
  },
  {
   "cell_type": "code",
   "execution_count": 143,
   "metadata": {},
   "outputs": [],
   "source": [
    "def oper_all(arr, oper = \"*\"):\n",
    "    if oper == \"*\":\n",
    "        mult_ls = 1\n",
    "        for i in arr:\n",
    "            mult_ls *= i\n",
    "        return mult_ls\n",
    "    elif oper == \"+\":\n",
    "        sum_ls = 0\n",
    "        for i in arr:\n",
    "            sum_ls += i\n",
    "        return sum_ls\n",
    "    else:\n",
    "        return None\n",
    "    "
   ]
  },
  {
   "cell_type": "code",
   "execution_count": 147,
   "metadata": {},
   "outputs": [
    {
     "name": "stderr",
     "output_type": "stream",
     "text": [
      "....................................................................................................\n",
      "----------------------------------------------------------------------\n",
      "Ran 100 tests in 0.042s\n",
      "\n",
      "OK\n"
     ]
    },
    {
     "data": {
      "text/plain": [
       "1105920"
      ]
     },
     "execution_count": 147,
     "metadata": {},
     "output_type": "execute_result"
    }
   ],
   "source": [
    "# This will test your function \n",
    "test_operations(oper_all)\n",
    "\n",
    "oper_all(my_list)"
   ]
  },
  {
   "cell_type": "markdown",
   "metadata": {},
   "source": [
    "## 6. Write a function that returns the factorial of a number."
   ]
  },
  {
   "cell_type": "code",
   "execution_count": 157,
   "metadata": {},
   "outputs": [],
   "source": [
    "def factorial(n):\n",
    "    i = 1\n",
    "    n_fact = 1\n",
    "    \n",
    "    while i <= n:\n",
    "        n_fact *= i\n",
    "        i += 1\n",
    "    return n_fact\n",
    "#your code here"
   ]
  },
  {
   "cell_type": "code",
   "execution_count": null,
   "metadata": {},
   "outputs": [],
   "source": [
    "#factorial formula\n",
    "#n! = n * ( n - 1 ) *...*1\n",
    "\n",
    "# This code defines a function called \"factorial\" which takes an input \"n\". The function uses a for loop to iterate through the range of numbers \n",
    "# from 1 to n+1. For each number in that range, it multiplies the current value of x by the number in the range. At the end of the loop, \n",
    "# the function returns the final value of x, which will be the factorial of the input number \"n\".\n",
    "\n",
    "# The Factorial of a positive integer n is the product of all positive integers less than or equal to n. \n",
    "# For example, the factorial of 6 (written \"6!\") is 6 * 5 * 4 * 3 * 2 * 1 = 720.\n",
    "\n",
    "# So this function takes an input of any positive integer, and returns the factorial of that number."
   ]
  },
  {
   "cell_type": "code",
   "execution_count": 181,
   "metadata": {},
   "outputs": [
    {
     "name": "stderr",
     "output_type": "stream",
     "text": [
      "....................................................................................................\n",
      "----------------------------------------------------------------------\n",
      "Ran 100 tests in 0.041s\n",
      "\n",
      "OK\n"
     ]
    },
    {
     "name": "stdout",
     "output_type": "stream",
     "text": [
      "Factorial of 1 is 1\n"
     ]
    }
   ],
   "source": [
    "# This will test your function \n",
    "test_factorial(factorial)\n",
    "\n",
    "#testing for fun\n",
    "my_num = random.randint(1,10)\n",
    "print(f\"Factorial of {my_num} is {factorial(my_num)}\")"
   ]
  },
  {
   "cell_type": "markdown",
   "metadata": {},
   "source": [
    "## 7. Write a function that takes a list and returns a list of the unique values.\n",
    "\n",
    "`NOTE: You cannot use set. 🤔`"
   ]
  },
  {
   "cell_type": "code",
   "execution_count": 221,
   "metadata": {},
   "outputs": [],
   "source": [
    "def unique(lst_un):\n",
    "    new_lst = []\n",
    "\n",
    "    for i in lst_un:\n",
    "        if i not in new_lst:\n",
    "            new_lst.append(i)\n",
    "    return new_lst\n",
    "    "
   ]
  },
  {
   "cell_type": "code",
   "execution_count": 227,
   "metadata": {},
   "outputs": [
    {
     "name": "stderr",
     "output_type": "stream",
     "text": [
      "....................................................................................................\n",
      "----------------------------------------------------------------------\n",
      "Ran 100 tests in 0.111s\n",
      "\n",
      "OK\n"
     ]
    },
    {
     "name": "stdout",
     "output_type": "stream",
     "text": [
      "[2, 4, 8, 5, 8, 4, 4, 3, 9, 1] [2, 4, 8, 5, 3, 9, 1]\n"
     ]
    }
   ],
   "source": [
    "# This will test your function \n",
    "test_unique(unique)\n",
    "\n",
    "print(my_list,unique(my_list))"
   ]
  },
  {
   "cell_type": "markdown",
   "metadata": {},
   "source": [
    "## 8. Write a function that returns the mode of a list, i.e.: the element that appears the most times.\n",
    "`NOTE: You should not use count... 🧐`"
   ]
  },
  {
   "cell_type": "code",
   "execution_count": 305,
   "metadata": {},
   "outputs": [],
   "source": [
    "def mode_counter(arr):\n",
    "    count_dict = dict()\n",
    "    my_mode = None\n",
    "    max_count = 0\n",
    "    \n",
    "    for i in arr:\n",
    "        if i in count_dict:\n",
    "            count_dict[i] += 1\n",
    "        else:\n",
    "            count_dict[i] = 1\n",
    "\n",
    "    for i,j in count_dict.items():\n",
    "        if j > max_count:\n",
    "            max_count = j\n",
    "            my_mode = i\n",
    "\n",
    "    return my_mode\n",
    "\n",
    "\n",
    "#returns the count of mode element....not the mode itself!!!\n",
    "def mode_count(arr):\n",
    "    count_ls = []\n",
    "    mode_ls = 0\n",
    "    \n",
    "    for i in arr:\n",
    "        count_i = 0\n",
    "        for j in arr:\n",
    "            if i == j:\n",
    "                count_i += 1\n",
    "        count_ls.append(count_i)\n",
    "\n",
    "    for k in count_ls:\n",
    "        if k > mode_ls:\n",
    "            mode_ls = k\n",
    "\n",
    "    return mode_ls\n",
    "        "
   ]
  },
  {
   "cell_type": "code",
   "execution_count": 307,
   "metadata": {},
   "outputs": [
    {
     "name": "stderr",
     "output_type": "stream",
     "text": [
      "....................................................................................................\n",
      "----------------------------------------------------------------------\n",
      "Ran 100 tests in 0.051s\n",
      "\n",
      "OK\n"
     ]
    },
    {
     "name": "stdout",
     "output_type": "stream",
     "text": [
      "[2, 4, 8, 5, 8, 4, 4, 3, 9, 1] 4 3\n"
     ]
    }
   ],
   "source": [
    "# This will test your function \n",
    "test_mode(mode_counter)\n",
    "\n",
    "print(my_list, mode_counter(my_list), mode_count(my_list))"
   ]
  },
  {
   "cell_type": "markdown",
   "metadata": {},
   "source": [
    "## 9. Write a function that calculates the standard deviation of a list.\n",
    "`NOTE: Do not use any libraries or already built functions. 😉`"
   ]
  },
  {
   "cell_type": "code",
   "execution_count": 7,
   "metadata": {},
   "outputs": [],
   "source": [
    "def st_dev(list_sd):\n",
    "    count_ls = 0\n",
    "    my_sum = 0\n",
    "    sum_of_sqr = 0 #sum of squares \n",
    "    \n",
    "    for i in list_sd: #getting my count\n",
    "        count_ls += 1\n",
    "\n",
    "    for i in list_sd: #getting my sum\n",
    "        my_sum += i\n",
    "        \n",
    "    my_avg = my_sum / count_ls\n",
    "\n",
    "    for i in list_sd:\n",
    "        sqr_unit = (i - my_avg) ** 2\n",
    "        sum_of_sqr += sqr_unit\n",
    "\n",
    "    my_st_dev = (sum_of_sqr/(count_ls - 1)) ** .5\n",
    "    \n",
    "    return my_st_dev"
   ]
  },
  {
   "cell_type": "code",
   "execution_count": 9,
   "metadata": {},
   "outputs": [
    {
     "ename": "NameError",
     "evalue": "name 'test_stdev' is not defined",
     "output_type": "error",
     "traceback": [
      "\u001b[1;31m---------------------------------------------------------------------------\u001b[0m",
      "\u001b[1;31mNameError\u001b[0m                                 Traceback (most recent call last)",
      "Cell \u001b[1;32mIn[9], line 2\u001b[0m\n\u001b[0;32m      1\u001b[0m \u001b[38;5;66;03m# This will test your function \u001b[39;00m\n\u001b[1;32m----> 2\u001b[0m \u001b[43mtest_stdev\u001b[49m(st_dev)\n\u001b[0;32m      4\u001b[0m \u001b[38;5;28mprint\u001b[39m(st_dev(my_list),my_list)\n",
      "\u001b[1;31mNameError\u001b[0m: name 'test_stdev' is not defined"
     ]
    }
   ],
   "source": [
    "# This will test your function \n",
    "test_stdev(st_dev)\n",
    "\n",
    "print(st_dev(my_list),my_list)"
   ]
  },
  {
   "cell_type": "markdown",
   "metadata": {},
   "source": [
    "## 10. Write a function to check if a string is a pangram, i.e.: if it contains all the letters of the alphabet at least once. Mind that the strings may contain characters that are not letters."
   ]
  },
  {
   "cell_type": "code",
   "execution_count": 365,
   "metadata": {},
   "outputs": [],
   "source": [
    "def pangram(string):   \n",
    "    my_alpha = 'abcdefghijklmnopqrstuvwxyz'\n",
    "    my_alpha_len = 0\n",
    "    common_let = 0\n",
    "    my_lower_str = \"\"\n",
    "\n",
    "    #finding the length of alphabet\n",
    "    for i in my_alpha: \n",
    "        my_alpha_len += 1\n",
    "\n",
    "    #manually lowercasing\n",
    "    for j in string:\n",
    "        if \"A\" <= j <= \"Z\":\n",
    "            my_lower_str += chr( ord(j) + 32 )  #ASCII\n",
    "        else:\n",
    "            my_lower_str += j\n",
    " \n",
    "    #comparing the lower cased string with the alphabet\n",
    "    for k in my_alpha:\n",
    "        for l in my_lower_str:\n",
    "            if k == l:\n",
    "                common_let += 1\n",
    "                break\n",
    "            \n",
    "    if common_let >= my_alpha_len:\n",
    "        return True\n",
    "    else:\n",
    "        return False"
   ]
  },
  {
   "cell_type": "code",
   "execution_count": 367,
   "metadata": {},
   "outputs": [
    {
     "name": "stderr",
     "output_type": "stream",
     "text": [
      "..............................\n",
      "----------------------------------------------------------------------\n",
      "Ran 30 tests in 0.012s\n",
      "\n",
      "OK\n"
     ]
    }
   ],
   "source": [
    "# This will test your function \n",
    "test_pangram(pangram)"
   ]
  },
  {
   "cell_type": "code",
   "execution_count": 369,
   "metadata": {},
   "outputs": [
    {
     "name": "stdout",
     "output_type": "stream",
     "text": [
      "False True\n"
     ]
    }
   ],
   "source": [
    "my_str = 'aaasd56'\n",
    "my_str_1 = '34abcdefghijklMMMMnopqrstuvWWWWxyzßbnv'\n",
    "\n",
    "print(pangram(my_str),pangram(my_str_1))"
   ]
  },
  {
   "cell_type": "markdown",
   "metadata": {},
   "source": [
    "## 11. Write a function that receives a string of comma separated words and returns a string of comma separated words sorted alphabetically.\n",
    "\n",
    "`NOTE: You may use sorted but not split and definitely no join! 🤪`"
   ]
  },
  {
   "cell_type": "code",
   "execution_count": 423,
   "metadata": {},
   "outputs": [],
   "source": [
    "def sort_alpha(string):\n",
    "    sorted_string = ''\n",
    "    my_list = []\n",
    "    word = ''\n",
    "\n",
    "    #cutting words and adding to my list\n",
    "    for i in string:\n",
    "        if i != ',':\n",
    "            word += i\n",
    "        else:\n",
    "            my_list.append(word)\n",
    "            word = ''\n",
    "\n",
    "    #for the last word\n",
    "    if word:\n",
    "        my_list.append(word)\n",
    "\n",
    "    #cleaning sideeffects of list-to-str conversion\n",
    "    for j in str(sorted(my_list)):\n",
    "        if j not in \"[]' \":\n",
    "            sorted_string += j\n",
    "    \n",
    "    return sorted_string\n"
   ]
  },
  {
   "cell_type": "code",
   "execution_count": 425,
   "metadata": {},
   "outputs": [
    {
     "name": "stderr",
     "output_type": "stream",
     "text": [
      "....................................................................................................\n",
      "----------------------------------------------------------------------\n",
      "Ran 100 tests in 0.038s\n",
      "\n",
      "OK\n"
     ]
    }
   ],
   "source": [
    "# This will test your function \n",
    "test_alpha(sort_alpha)"
   ]
  },
  {
   "cell_type": "markdown",
   "metadata": {},
   "source": [
    "## 12. Write a function to check if a given password is strong (at least 8 characters, at least one lower case, at least one upper case, at least one number and at least one special character). It should output True if strong and False if not."
   ]
  },
  {
   "cell_type": "code",
   "execution_count": 445,
   "metadata": {},
   "outputs": [],
   "source": [
    "def check_pass(password):\n",
    "    pass_len = 0\n",
    "    low_case_count = 0\n",
    "    up_case_count = 0\n",
    "    num_count = 0\n",
    "    char_count = 0\n",
    "\n",
    "    #contains at least 1 lower/upper case, num, special char\n",
    "    for char in password:\n",
    "        pass_len += 1\n",
    "        if \"a\" <= char <= \"z\":\n",
    "            low_case_count += 1\n",
    "        elif \"A\" <= char <= \"Z\":\n",
    "            up_case_count += 1\n",
    "        elif char in \"1234567890\":\n",
    "            num_count += 1\n",
    "        elif char in '!\"§@$%&/()=?{[]}#+,.;:-_*^°':\n",
    "            char_count += 1\n",
    "    \n",
    "    #at least 1 special character\n",
    "    if pass_len >= 8 and low_case_count > 0 and up_case_count > 0 and num_count > 0 and char_count > 0:\n",
    "        return True\n",
    "    else:\n",
    "        return False"
   ]
  },
  {
   "cell_type": "code",
   "execution_count": 447,
   "metadata": {},
   "outputs": [
    {
     "name": "stderr",
     "output_type": "stream",
     "text": [
      "....................................................................................................\n",
      "----------------------------------------------------------------------\n",
      "Ran 100 tests in 0.037s\n",
      "\n",
      "OK\n"
     ]
    }
   ],
   "source": [
    "# This will test your function \n",
    "test_pass(check_pass)"
   ]
  }
 ],
 "metadata": {
  "kernelspec": {
   "display_name": "base",
   "language": "python",
   "name": "python3"
  },
  "language_info": {
   "codemirror_mode": {
    "name": "ipython",
    "version": 3
   },
   "file_extension": ".py",
   "mimetype": "text/x-python",
   "name": "python",
   "nbconvert_exporter": "python",
   "pygments_lexer": "ipython3",
   "version": "3.12.4"
  }
 },
 "nbformat": 4,
 "nbformat_minor": 4
}
