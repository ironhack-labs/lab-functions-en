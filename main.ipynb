{
 "cells": [
  {
   "cell_type": "markdown",
   "metadata": {},
   "source": [
    "# Functions"
   ]
  },
  {
   "cell_type": "markdown",
   "metadata": {},
   "source": [
    "On this lab we will put to practice some of the concepts we have learned on this past few days.\n",
    "\n",
    "`NOTE: On this lab you should try to write all the functions yourself using only the most basic of python syntax and without functions such as len, count, sum, max, min, in, etc. Give it a try. 🧑🏻‍💻👩🏻‍💻`\n",
    "\n",
    "The cell after each exercise contains a few tests to check if your function works as expected."
   ]
  },
  {
   "cell_type": "code",
   "execution_count": 209,
   "metadata": {},
   "outputs": [],
   "source": [
    "# from mod.testing import *\n",
    "import unittest"
   ]
  },
  {
   "cell_type": "markdown",
   "metadata": {},
   "source": [
    "## 1. Write a function that returns the greater of two numbers"
   ]
  },
  {
   "cell_type": "code",
   "execution_count": 212,
   "metadata": {},
   "outputs": [],
   "source": [
    "# Function that returns the greater of two numbers\n",
    "def greater(a,b):\n",
    "    \"\"\"\n",
    "    Returns the greater of two numbers.\n",
    "\n",
    "    Parameters:\n",
    "    a,b : two numbers to be compared.\n",
    "\n",
    "    Returns whether a and b are the same and if they are not, which is greater.\n",
    "    \"\"\"\n",
    "    if a > b :\n",
    "        print(a, \"is greater than \",b)\n",
    "    elif a < b:\n",
    "        print(b, \"is greater than \",a)\n",
    "    else:\n",
    "        print(\"Both numbers are the same\")"
   ]
  },
  {
   "cell_type": "code",
   "execution_count": 214,
   "metadata": {},
   "outputs": [
    {
     "name": "stdout",
     "output_type": "stream",
     "text": [
      "4 is greater than  2\n",
      "9 is greater than  3\n",
      "Both numbers are the same\n"
     ]
    }
   ],
   "source": [
    "# Testing the function\n",
    "#test_greater(greater)\n",
    "greater(2,4)\n",
    "greater(9,3)\n",
    "greater(5,5)"
   ]
  },
  {
   "cell_type": "markdown",
   "metadata": {},
   "source": [
    "## 2. Now write a function that returns the largest element on a list"
   ]
  },
  {
   "cell_type": "code",
   "execution_count": 217,
   "metadata": {},
   "outputs": [],
   "source": [
    "def greatest(numbers: list) -> int:\n",
    "    \"\"\"\n",
    "    Returns the largest element within a list.\n",
    "\n",
    "    Parameters:\n",
    "    list (int): list of numbers\n",
    "\n",
    "    Returns:\n",
    "    The largest element on the list.\n",
    "    \"\"\"\n",
    "    \n",
    "    if not numbers:\n",
    "        raise ValueError(\"The list is empty. There are no numbers to compare.\")\n",
    "\n",
    "    greatest = max(numbers)\n",
    "    return greatest"
   ]
  },
  {
   "cell_type": "code",
   "execution_count": 219,
   "metadata": {},
   "outputs": [
    {
     "name": "stdout",
     "output_type": "stream",
     "text": [
      "89\n"
     ]
    }
   ],
   "source": [
    "# Testing the function \n",
    "numbers = [15,89,34, 7, 65]\n",
    "print(greatest(numbers))"
   ]
  },
  {
   "cell_type": "markdown",
   "metadata": {},
   "source": [
    "## 3. Write a function that sums all the elements on a list"
   ]
  },
  {
   "cell_type": "code",
   "execution_count": 222,
   "metadata": {},
   "outputs": [],
   "source": [
    "def sum_all(*numbers: list) -> int:\n",
    "    \"\"\"\n",
    "    Adds all the elements on a list.\n",
    "\n",
    "    Parameters:\n",
    "    numbers: list of numbers\n",
    "\n",
    "    Returns:\n",
    "    total : the total of the addition of all the elements.\n",
    "    \"\"\"\n",
    "    total = sum(numbers)\n",
    "    return total"
   ]
  },
  {
   "cell_type": "code",
   "execution_count": 224,
   "metadata": {
    "scrolled": true
   },
   "outputs": [
    {
     "name": "stdout",
     "output_type": "stream",
     "text": [
      "The sum of these numbers is 172\n"
     ]
    }
   ],
   "source": [
    "# Testing the function \n",
    "numbers = [90,45,17,20]\n",
    "total = sum(numbers)\n",
    "print(f\"The sum of these numbers is {total}\")"
   ]
  },
  {
   "cell_type": "markdown",
   "metadata": {},
   "source": [
    "## 4. Write another function that multiplies all the elements on a list"
   ]
  },
  {
   "cell_type": "code",
   "execution_count": 227,
   "metadata": {},
   "outputs": [
    {
     "name": "stdout",
     "output_type": "stream",
     "text": [
      "The product of all elements in the list [1, 2, 3, 4, 5] is: 120\n"
     ]
    }
   ],
   "source": [
    "def mult_all(numbers):\n",
    "    \"\"\"\n",
    "    Multiplies all elements in a list.\n",
    "\n",
    "    Parameters:\n",
    "        numbers (list): A list of integers or floats.\n",
    "\n",
    "    Returns:\n",
    "        float: The product of all elements in the list.\n",
    "    \"\"\"\n",
    "    product = 1\n",
    "    for num in numbers:\n",
    "        product *= num\n",
    "    return product\n",
    "\n",
    "# Testing the function\n",
    "numbers = [1, 2, 3, 4, 5]\n",
    "total_product = mult_all(numbers)\n",
    "print(f\"The product of all elements in the list {numbers} is: {total_product}\")"
   ]
  },
  {
   "cell_type": "code",
   "execution_count": 229,
   "metadata": {
    "scrolled": true
   },
   "outputs": [
    {
     "name": "stdout",
     "output_type": "stream",
     "text": [
      "The product of all elements in the list [1, 2, 3, 4, 5] is: 120\n"
     ]
    }
   ],
   "source": [
    "# Testing the function \n",
    "numbers = [1, 2, 3, 4, 5]\n",
    "total_product = mult_all(numbers)\n",
    "print(f\"The product of all elements in the list {numbers} is: {total_product}\")"
   ]
  },
  {
   "cell_type": "markdown",
   "metadata": {},
   "source": [
    "## 5. Now combine those two ideas and write a function that receives a list and either \"+\" or \"*\" and outputs acordingly"
   ]
  },
  {
   "cell_type": "code",
   "execution_count": 274,
   "metadata": {},
   "outputs": [
    {
     "name": "stdout",
     "output_type": "stream",
     "text": [
      "The sum is 20.\n",
      "The product is 1008.\n",
      "I can only add or multiply. This operation is not recognized\n"
     ]
    }
   ],
   "source": [
    "def oper_all(*args, oper):\n",
    "    \"\"\"\n",
    "    Receives a list and the command whether to add or multiply the numbers in the list.\n",
    "    The output will depend on the operation indicated by the user.\n",
    "\n",
    "    Arguments:\n",
    "    args: list of numbers and what operation to perform.\n",
    "\n",
    "    Returns:\n",
    "    Either the total or the product of the elements on the list.\n",
    "    If an erroneous operation is entered, the user will also receive a message that the operation is not recognized.\n",
    "    \"\"\"\n",
    "    if oper == \"add\":\n",
    "        result = sum(args)\n",
    "        print(f\"The sum is {result}.\")\n",
    "    \n",
    "    if oper == \"multiply\":\n",
    "        result = 1\n",
    "        for value in args:\n",
    "            result *= value\n",
    "        # return result\n",
    "        print(f\"The product is {result}.\")\n",
    "    elif oper != \"add\" and oper != \"multiply\": \n",
    "        print(f\"I can only add or multiply. This operation is not recognized\")  \n",
    "\n",
    "# Testing the function \n",
    "oper_all(5,7,8, oper= \"add\")\n",
    "oper_all(9,7,8,2, oper= \"multiply\")\n",
    "oper_all(5,7,2, oper= \"divide\")"
   ]
  },
  {
   "cell_type": "code",
   "execution_count": 278,
   "metadata": {},
   "outputs": [
    {
     "name": "stdout",
     "output_type": "stream",
     "text": [
      "The sum is 20.\n",
      "The sum is 24.\n",
      "The product is 70.\n"
     ]
    }
   ],
   "source": [
    "# Testing the function \n",
    "oper_all(5,7,8, oper= \"add\")\n",
    "oper_all(3,7,8,6, oper= \"add\")\n",
    "oper_all(5,7,2, oper= \"multiply\")"
   ]
  },
  {
   "cell_type": "markdown",
   "metadata": {},
   "source": [
    "## 6. Write a function that returns the factorial of a number."
   ]
  },
  {
   "cell_type": "code",
   "execution_count": 283,
   "metadata": {},
   "outputs": [
    {
     "name": "stdin",
     "output_type": "stream",
     "text": [
      "Enter a number:  7\n"
     ]
    },
    {
     "name": "stdout",
     "output_type": "stream",
     "text": [
      "5040\n"
     ]
    }
   ],
   "source": [
    "# Asks user to enter number for which factorial will be calculated.\n",
    "n = int(input(\"Enter a number: \"))\n",
    "\n",
    "def factorial(n):\n",
    "    \"\"\"\n",
    "    Returns the factorial of a number.\n",
    "\n",
    "    Arguments:\n",
    "        n : the number for which the factorial will be calculated.\n",
    "\n",
    "    Returns:\n",
    "        The calculation of the factorial for the number entered.\n",
    "    \"\"\"\n",
    "    if n == 1 or n == 0:\n",
    "        return 1\n",
    "    else:\n",
    "        fact = 1\n",
    "        for number in range(1, n+1):\n",
    "            fact = fact * number\n",
    "        return fact\n",
    "\n",
    "# Extracts and presents the result.\n",
    "result = factorial(n)\n",
    "print(result)"
   ]
  },
  {
   "cell_type": "code",
   "execution_count": 285,
   "metadata": {},
   "outputs": [],
   "source": [
    "#factorial formula\n",
    "#n! = n * ( n - 1 ) *...*1\n",
    "\n",
    "# This code defines a function called \"factorial\" which takes an input \"n\". The function uses a for loop to iterate through the range of numbers \n",
    "# from 1 to n+1. For each number in that range, it multiplies the current value of x by the number in the range. At the end of the loop, \n",
    "# the function returns the final value of x, which will be the factorial of the input number \"n\".\n",
    "\n",
    "# The Factorial of a positive integer n is the product of all positive integers less than or equal to n. \n",
    "# For example, the factorial of 6 (written \"6!\") is 6 * 5 * 4 * 3 * 2 * 1 = 720.\n",
    "\n",
    "# So this function takes an input of any positive integer, and returns the factorial of that number."
   ]
  },
  {
   "cell_type": "code",
   "execution_count": 287,
   "metadata": {},
   "outputs": [
    {
     "name": "stdout",
     "output_type": "stream",
     "text": [
      "120\n"
     ]
    }
   ],
   "source": [
    "# In this test we are entering testing numbers (as opposed to asking the user for its input).\n",
    "n = 5\n",
    "\n",
    "# This function returns the factorial of a number.\n",
    "def factorial(n):\n",
    "    \"\"\"\n",
    "    Returns the factorial of a number.\n",
    "\n",
    "    Arguments:\n",
    "        n : number for which the factorial will be calculated.\n",
    "\n",
    "    Returns:\n",
    "        The value of that number's factorial.\n",
    "    \"\"\"\n",
    "    \n",
    "    if n == 1 or n == 0:\n",
    "        return 1\n",
    "    else:\n",
    "        fact = 1\n",
    "        for number in range(1, n+1):\n",
    "            fact = fact * number\n",
    "        return fact\n",
    "\n",
    "# Extracts and presents the result.\n",
    "result = factorial(n)\n",
    "print(result)"
   ]
  },
  {
   "cell_type": "markdown",
   "metadata": {},
   "source": [
    "## 7. Write a function that takes a list and returns a list of the unique values.\n",
    "\n",
    "`NOTE: You cannot use set. 🤔`"
   ]
  },
  {
   "cell_type": "code",
   "execution_count": 290,
   "metadata": {},
   "outputs": [],
   "source": [
    "def unique(original_list):\n",
    "    \"\"\"\n",
    "    Function that takes a list and returns a list of the unique values present within that list.\n",
    "\n",
    "    Parameters:\n",
    "        original_list (list): list of values from which its unique values will be pulled.\n",
    "\n",
    "    Returns:\n",
    "        unique_list: the list of unique values pulled from the original_list.\n",
    "    \"\"\"   \n",
    "    unique_values = []\n",
    "    for item in original_list:\n",
    "        if item not in unique_values:\n",
    "            unique_values.append(item)\n",
    "    return unique_values"
   ]
  },
  {
   "cell_type": "code",
   "execution_count": 292,
   "metadata": {},
   "outputs": [
    {
     "name": "stdout",
     "output_type": "stream",
     "text": [
      "Original list: [1, 5, 3, 3, 5, 2, 7, 9, 8, 8]\n",
      "Resulting list: [1, 5, 3, 2, 7, 9, 8]\n"
     ]
    }
   ],
   "source": [
    "# This will test your function \n",
    "original_list = [1,5,3,3,5,2,7,9,8,8]\n",
    "final_list = unique(original_list)\n",
    "print(f\"Original list: {original_list}\")\n",
    "print(f\"Resulting list: {final_list}\")"
   ]
  },
  {
   "cell_type": "markdown",
   "metadata": {},
   "source": [
    "## 8. Write a function that returns the mode of a list, i.e.: the element that appears the most times.\n",
    "`NOTE: You should not use count... 🧐`"
   ]
  },
  {
   "cell_type": "code",
   "execution_count": 295,
   "metadata": {},
   "outputs": [],
   "source": [
    "def mode_counter(arr):\n",
    "    \"\"\"\n",
    "    Finds the mode (or element that appears the most times) of a list.\n",
    "\n",
    "    Parameters:\n",
    "        arr (list) = list of values.\n",
    "\n",
    "    Returns:\n",
    "        The mode -most repeated value- of the list. If there are many, it will return just one.\n",
    "    \"\"\"\n",
    "    #Calculates the number of times a value exists within a list.\n",
    "    calc_frequency = {}\n",
    "    \n",
    "    for item in arr:\n",
    "        if item in calc_frequency:\n",
    "            calc_frequency[item] += 1\n",
    "        else:\n",
    "            calc_frequency[item] = 1\n",
    "\n",
    "    # Finds the largest frequency count.\n",
    "    largest_freq = max(calc_frequency.values())\n",
    "\n",
    "    # Finds the mode (s).\n",
    "    mode = [key for key, value in calc_frequency.items() if value == largest_freq]\n",
    "\n",
    "    return mode[0]\n"
   ]
  },
  {
   "cell_type": "code",
   "execution_count": 297,
   "metadata": {},
   "outputs": [
    {
     "name": "stdout",
     "output_type": "stream",
     "text": [
      "The mode of the list [1, 5, 9, 4, 6, 5, 4, 4, 8, 3, 9, 9, 9, 9] is: 9\n"
     ]
    }
   ],
   "source": [
    "# Tests the function.\n",
    "arr = [1,5,9,4,6,5,4,4,8,3,9,9,9,9]\n",
    "mode = mode_counter(arr)\n",
    "print(f\"The mode of the list {arr} is: {mode}\")\n"
   ]
  },
  {
   "cell_type": "markdown",
   "metadata": {},
   "source": [
    "## 9. Write a function that calculates the standard deviation of a list.\n",
    "`NOTE: Do not use any libraries or already built functions. 😉`"
   ]
  },
  {
   "cell_type": "code",
   "execution_count": 300,
   "metadata": {},
   "outputs": [],
   "source": [
    "def st_dev(list_sd):\n",
    "    \"\"\" \n",
    "    Calculates the standard deviation of a list without using any libraries or already built functions.\n",
    "\n",
    "    Parameters:\n",
    "        list_sd (list): list of values.\n",
    "\n",
    "    Returns:\n",
    "        The standard deviation for the list of values provided.\n",
    "    \"\"\"\n",
    "    # Checks to make sure there are values in the list.\n",
    "    if not list_sd:\n",
    "        raise ValueError(\"The input list is empty. Standard deviation cannot be calculated\")\n",
    "    \n",
    "    else:\n",
    "        # Calculates the mean.\n",
    "        n = len(list_sd)\n",
    "        total = 0\n",
    "        for num in list_sd:\n",
    "            total += num\n",
    "        mean = total / n\n",
    "        \n",
    "        # Calculates the variance of the list.\n",
    "        variance_sum = 0\n",
    "        for num in list_sd:\n",
    "            variance_sum += (num - mean) ** 2\n",
    "        variance = variance_sum / n\n",
    "\n",
    "        # Calculate the standard deviation.\n",
    "        std_deviation = 0\n",
    "        precision = 1e-10\n",
    "        while std_deviation ** 2 < variance - precision or standard_deviation ** 2 > variance + precision:\n",
    "            std_deviation += precision\n",
    "            if std_deviation **2 > variance:\n",
    "                std_deviation -= precision\n",
    "                break\n",
    "        \n",
    "        return std_deviation"
   ]
  },
  {
   "cell_type": "code",
   "execution_count": null,
   "metadata": {},
   "outputs": [],
   "source": [
    "# Tests the function.\n",
    "list_sd= [10, 20, 30, 40, 50]\n",
    "standard_deviation = st_dev(list_sd)\n",
    "print(f\"The standard deviation of the list {list_sd} is: {standard_deviation}\")"
   ]
  },
  {
   "cell_type": "markdown",
   "metadata": {},
   "source": [
    "## 10. Write a function to check if a string is a pangram, i.e.: if it contains all the letters of the alphabet at least once. Mind that the strings may contain characters that are not letters."
   ]
  },
  {
   "cell_type": "code",
   "execution_count": null,
   "metadata": {},
   "outputs": [],
   "source": [
    "def pangram(string) -> bool:\n",
    "    \"\"\"\n",
    "    Checks if a provided string contains all the letters of the alphabet at least once.\n",
    "\n",
    "    Parameters:\n",
    "        string (str): input string\n",
    "\n",
    "    Returns:\n",
    "        Returns True or False, depending on whether the string entered is a pangram or not.\n",
    "    \"\"\"\n",
    "    # Create a set for the alphabet letters.\n",
    "    alphabet = set(\"abcdefghijklmnopqrstuvwxyz\")\n",
    "\n",
    "    # Converts the string entered to lower case and extracts only alphabetic letters.\n",
    "    sentence_letters = set()\n",
    "    for char in string:\n",
    "        if char.isalpha():\n",
    "            sentence_letters.add(char.lower())\n",
    "\n",
    "    # Checks if it is a pangram.\n",
    "    return alphabet.issubset(sentence_letters)\n",
    "\n",
    "# Tests the function.\n",
    "input_string = \"This has been a coding-intense weekend.\"\n",
    "is_pangram = pangram(input_string)\n",
    "print(f\"Is the sentence a pangram? {is_pangram}\")"
   ]
  },
  {
   "cell_type": "code",
   "execution_count": null,
   "metadata": {},
   "outputs": [],
   "source": [
    "# Tests the function.\n",
    "input_string = \"How now brown cow.\"\n",
    "is_pangram = pangram(input_string)\n",
    "print(f\"Is the sentence a pangram? {is_pangram}\")"
   ]
  },
  {
   "cell_type": "markdown",
   "metadata": {},
   "source": [
    "## 11. Write a function that receives a string of comma separated words and returns a string of comma separated words sorted alphabetically.\n",
    "\n",
    "`NOTE: You may use sorted but not split and definitely no join! 🤪`"
   ]
  },
  {
   "cell_type": "code",
   "execution_count": null,
   "metadata": {},
   "outputs": [],
   "source": [
    "def sort_alpha(input_string: str) -> str:\n",
    "    \"\"\"\n",
    "    Receives a string of comma separated words, and returns the same string but ordered alphabetically.\n",
    "\n",
    "    Arguments\n",
    "        input_string: list of words separated by comma.\n",
    "\n",
    "    Returns\n",
    "        The same list but in alphabetical order.\n",
    "    \"\"\"\n",
    "    words = []\n",
    "    current_word = \" \"\n",
    "    for char in input_string:\n",
    "        if char == \",\":\n",
    "            words.append(current_word)\n",
    "            current_word = \" \"\n",
    "\n",
    "        else:\n",
    "            current_word += char\n",
    "    words.append(current_word)\n",
    "\n",
    "    sorted_words = sorted(words)\n",
    "\n",
    "    result = \" \"\n",
    "    for i, word in enumerate(sorted_words):\n",
    "        if i > 0:\n",
    "            result += \",\"\n",
    "        result += word\n",
    "    return result"
   ]
  },
  {
   "cell_type": "code",
   "execution_count": null,
   "metadata": {},
   "outputs": [],
   "source": [
    "# Testing the function\n",
    "input_string = \"banana,apple,grape,orange\"\n",
    "sorted_string = sort_alpha(input_string)\n",
    "print(f\"Sorted string: {sorted_string}\")"
   ]
  },
  {
   "cell_type": "markdown",
   "metadata": {},
   "source": [
    "## 12. Write a function to check if a given password is strong (at least 8 characters, at least one lower case, at least one upper case, at least one number and at least one special character). It should output True if strong and False if not."
   ]
  },
  {
   "cell_type": "code",
   "execution_count": null,
   "metadata": {},
   "outputs": [],
   "source": [
    "def check_pass(password: str) -> bool:\n",
    "    \"\"\"\n",
    "    Checks the strength of a password (contain at least: 8 characters, 1 lower case letter, 1 upper case letter, 1 digit and 1 special character..\n",
    "\n",
    "    Parameters:\n",
    "        password (str): password to be checked.\n",
    "\n",
    "    Returns:\n",
    "        If the password is strong, it will respond True. Otherwise, it will responde as False.\n",
    "    \"\"\"\n",
    "    special_characters = \"!@#$%^&*()-_=+[]{}|;:'\\\",.<>?/`~\"\n",
    "\n",
    "    has_lower = False\n",
    "    has_upper = False\n",
    "    has_digit = False\n",
    "    has_special = False\n",
    "\n",
    "    # Checks the length of the password\n",
    "    if len(password) < 8:\n",
    "        return False\n",
    "\n",
    "    # Checks the content of the password for presence of lower and upper case, digit and special characters.\n",
    "    for char in password:\n",
    "        if char.islower():\n",
    "            has_lower = True  \n",
    "        elif char.isupper():\n",
    "            has_upper = True  \n",
    "        elif char.isdigit():\n",
    "            has_digit = True  \n",
    "        elif char in special_characters:\n",
    "            has_special = True  \n",
    "\n",
    "    # Returns True if all conditions of a strong password is met.\n",
    "    return has_lower and has_upper and has_digit and has_special\n",
    "\n",
    "# Testing\n",
    "password = \"StrongPass1!\"\n",
    "is_strong = check_pass(password)\n",
    "print(f\"Is the password '{password}' strong? {is_strong}\")"
   ]
  },
  {
   "cell_type": "code",
   "execution_count": null,
   "metadata": {},
   "outputs": [],
   "source": [
    "# Tests the function\n",
    "password = \"Chyt#4Ply!\"\n",
    "is_strong = check_pass(password)\n",
    "print(f\"Is the password '{password}' strong? {is_strong}\")"
   ]
  }
 ],
 "metadata": {
  "kernelspec": {
   "display_name": "Python 3 (ipykernel)",
   "language": "python",
   "name": "python3"
  },
  "language_info": {
   "codemirror_mode": {
    "name": "ipython",
    "version": 3
   },
   "file_extension": ".py",
   "mimetype": "text/x-python",
   "name": "python",
   "nbconvert_exporter": "python",
   "pygments_lexer": "ipython3",
   "version": "3.12.7"
  },
  "vscode": {
   "interpreter": {
    "hash": "aee8b7b246df8f9039afb4144a1f6fd8d2ca17a180786b69acc140d282b71a49"
   }
  }
 },
 "nbformat": 4,
 "nbformat_minor": 4
}
