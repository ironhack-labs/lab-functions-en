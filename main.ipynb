{
 "cells": [
  {
   "cell_type": "markdown",
   "metadata": {},
   "source": [
    "# Functions"
   ]
  },
  {
   "cell_type": "markdown",
   "metadata": {},
   "source": [
    "On this lab we will put to practice some of the concepts we have learned on this past few days.\n",
    "\n",
    "`NOTE: On this lab you should try to write all the functions yourself using only the most basic of python syntax and without functions such as len, count, sum, max, min, in, etc. Give it a try. 🧑🏻‍💻👩🏻‍💻`\n",
    "\n",
    "The cell after each exercise contains a few tests to check if your function works as expected."
   ]
  },
  {
   "cell_type": "code",
   "execution_count": 1,
   "metadata": {},
   "outputs": [],
   "source": [
    "from mod.testing import *\n",
    "import unittest"
   ]
  },
  {
   "cell_type": "markdown",
   "metadata": {},
   "source": [
    "## 1. Write a function that returns the greater of two numbers"
   ]
  },
  {
   "cell_type": "code",
   "execution_count": 2,
   "metadata": {},
   "outputs": [],
   "source": [
    "def greater(a,b):\n",
    "#your code here\n",
    "    if a > b:\n",
    "        return(a)\n",
    "    else:\n",
    "        return(b)\n"
   ]
  },
  {
   "cell_type": "code",
   "execution_count": 3,
   "metadata": {},
   "outputs": [
    {
     "name": "stderr",
     "output_type": "stream",
     "text": [
      "....................................................................................................\n",
      "----------------------------------------------------------------------\n",
      "Ran 100 tests in 0.041s\n",
      "\n",
      "OK\n"
     ]
    }
   ],
   "source": [
    "# This will test your function \n",
    "test_greater(greater)"
   ]
  },
  {
   "cell_type": "code",
   "execution_count": null,
   "metadata": {},
   "outputs": [],
   "source": [
    "#your code here"
   ]
  },
  {
   "cell_type": "markdown",
   "metadata": {},
   "source": [
    "## 2. Now write a function that returns the largest element on a list"
   ]
  },
  {
   "cell_type": "code",
   "execution_count": 6,
   "metadata": {},
   "outputs": [],
   "source": [
    "#your code here\n",
    "def greatest(lst):\n",
    "    if not lst:\n",
    "        return None #returns none if list is empty\n",
    "    largest = lst[0] #assume the first element is the largest for now\n",
    "\n",
    "    for i in lst[1:]:\n",
    "        if i > largest:\n",
    "            largest = i\n",
    "\n",
    "    return largest \n",
    "\n",
    "    "
   ]
  },
  {
   "cell_type": "code",
   "execution_count": 7,
   "metadata": {},
   "outputs": [
    {
     "name": "stderr",
     "output_type": "stream",
     "text": [
      "....................................................................................................\n",
      "----------------------------------------------------------------------\n",
      "Ran 100 tests in 0.036s\n",
      "\n",
      "OK\n"
     ]
    }
   ],
   "source": [
    "# This will test your function \n",
    "test_greatest(greatest)"
   ]
  },
  {
   "cell_type": "code",
   "execution_count": 11,
   "metadata": {},
   "outputs": [
    {
     "data": {
      "text/plain": [
       "100"
      ]
     },
     "execution_count": 11,
     "metadata": {},
     "output_type": "execute_result"
    }
   ],
   "source": [
    "greatest([1, 5, 100, 23])"
   ]
  },
  {
   "cell_type": "markdown",
   "metadata": {},
   "source": [
    "## 3. Write a function that sums all the elements on a list"
   ]
  },
  {
   "cell_type": "code",
   "execution_count": 12,
   "metadata": {},
   "outputs": [],
   "source": [
    "def sum_all(lst):\n",
    "#your code here\n",
    "\n",
    "    sum = 0\n",
    "    for i in lst:\n",
    "        sum += i\n",
    "    return sum"
   ]
  },
  {
   "cell_type": "code",
   "execution_count": 13,
   "metadata": {
    "scrolled": true
   },
   "outputs": [
    {
     "name": "stderr",
     "output_type": "stream",
     "text": [
      "....................................................................................................\n",
      "----------------------------------------------------------------------\n",
      "Ran 100 tests in 0.039s\n",
      "\n",
      "OK\n"
     ]
    }
   ],
   "source": [
    "# This will test your function \n",
    "test_sum(sum_all)"
   ]
  },
  {
   "cell_type": "markdown",
   "metadata": {},
   "source": [
    "## 4. Write another function that multiplies all the elements on a list"
   ]
  },
  {
   "cell_type": "code",
   "execution_count": 18,
   "metadata": {},
   "outputs": [],
   "source": [
    "def mult_all(lst):\n",
    "#your code here\n",
    "    multiplied = 1\n",
    "    for i in lst:\n",
    "        multiplied *= i\n",
    "    return multiplied "
   ]
  },
  {
   "cell_type": "code",
   "execution_count": 19,
   "metadata": {
    "scrolled": true
   },
   "outputs": [
    {
     "name": "stderr",
     "output_type": "stream",
     "text": [
      "....................................................................................................\n",
      "----------------------------------------------------------------------\n",
      "Ran 100 tests in 0.034s\n",
      "\n",
      "OK\n"
     ]
    }
   ],
   "source": [
    "# This will test your function \n",
    "test_mult(mult_all)"
   ]
  },
  {
   "cell_type": "markdown",
   "metadata": {},
   "source": [
    "## 5. Now combine those two ideas and write a function that receives a list and either \"+\" or \"*\" and outputs acordingly"
   ]
  },
  {
   "cell_type": "code",
   "execution_count": 23,
   "metadata": {},
   "outputs": [],
   "source": [
    "def oper_all(arr, oper = \"*\"):\n",
    "#your code here\n",
    "    if oper == \"*\":\n",
    "        multiplied = 1\n",
    "        for i in arr:\n",
    "            multiplied *= i\n",
    "        return multiplied\n",
    "    elif oper == \"+\":\n",
    "        sum = 0\n",
    "        for i in arr:\n",
    "            sum += i\n",
    "        return sum"
   ]
  },
  {
   "cell_type": "code",
   "execution_count": 24,
   "metadata": {},
   "outputs": [
    {
     "name": "stderr",
     "output_type": "stream",
     "text": [
      "....................................................................................................\n",
      "----------------------------------------------------------------------\n",
      "Ran 100 tests in 0.031s\n",
      "\n",
      "OK\n"
     ]
    }
   ],
   "source": [
    "# This will test your function \n",
    "test_operations(oper_all)"
   ]
  },
  {
   "cell_type": "markdown",
   "metadata": {},
   "source": [
    "## 6. Write a function that returns the factorial of a number."
   ]
  },
  {
   "cell_type": "code",
   "execution_count": 25,
   "metadata": {},
   "outputs": [],
   "source": [
    "def factorial(n):\n",
    "#your code here\n",
    "\n",
    "    factorial_sum=1\n",
    "    for num in range(1,n+1):\n",
    "        factorial_sum *= num\n",
    "    return factorial_sum"
   ]
  },
  {
   "cell_type": "code",
   "execution_count": null,
   "metadata": {},
   "outputs": [],
   "source": [
    "#factorial formula\n",
    "#n! = n * ( n - 1 ) *...*1\n",
    "\n",
    "# This code defines a function called \"factorial\" which takes an input \"n\". The function uses a for loop to iterate through the range of numbers \n",
    "# from 1 to n+1. For each number in that range, it multiplies the current value of x by the number in the range. At the end of the loop, \n",
    "# the function returns the final value of x, which will be the factorial of the input number \"n\".\n",
    "\n",
    "# The Factorial of a positive integer n is the product of all positive integers less than or equal to n. \n",
    "# For example, the factorial of 6 (written \"6!\") is 6 * 5 * 4 * 3 * 2 * 1 = 720.\n",
    "\n",
    "# So this function takes an input of any positive integer, and returns the factorial of that number."
   ]
  },
  {
   "cell_type": "code",
   "execution_count": 26,
   "metadata": {},
   "outputs": [
    {
     "name": "stderr",
     "output_type": "stream",
     "text": [
      "....................................................................................................\n",
      "----------------------------------------------------------------------\n",
      "Ran 100 tests in 0.037s\n",
      "\n",
      "OK\n"
     ]
    }
   ],
   "source": [
    "# This will test your function \n",
    "test_factorial(factorial)"
   ]
  },
  {
   "cell_type": "markdown",
   "metadata": {},
   "source": [
    "## 7. Write a function that takes a list and returns a list of the unique values.\n",
    "\n",
    "`NOTE: You cannot use set. 🤔`"
   ]
  },
  {
   "cell_type": "code",
   "execution_count": 27,
   "metadata": {},
   "outputs": [],
   "source": [
    "def unique(lst_un):\n",
    "#your code here\n",
    "    unique_lst = []\n",
    "    for i in lst_un:\n",
    "        if i not in unique_lst:\n",
    "            unique_lst.append(i)\n",
    "    return unique_lst\n"
   ]
  },
  {
   "cell_type": "code",
   "execution_count": 28,
   "metadata": {},
   "outputs": [
    {
     "name": "stderr",
     "output_type": "stream",
     "text": [
      "....................................................................................................\n",
      "----------------------------------------------------------------------\n",
      "Ran 100 tests in 0.063s\n",
      "\n",
      "OK\n"
     ]
    }
   ],
   "source": [
    "# This will test your function \n",
    "test_unique(unique)"
   ]
  },
  {
   "cell_type": "markdown",
   "metadata": {},
   "source": [
    "## 8. Write a function that returns the mode of a list, i.e.: the element that appears the most times.\n",
    "`NOTE: You should not use count... 🧐`"
   ]
  },
  {
   "cell_type": "code",
   "execution_count": 31,
   "metadata": {},
   "outputs": [],
   "source": [
    "def mode_counter(arr):\n",
    "#your code here\n",
    "    freq_dict = {}\n",
    "\n",
    "    for i in arr:\n",
    "        if i in freq_dict:\n",
    "            freq_dict[i] += 1\n",
    "        else:\n",
    "            freq_dict[i] = 1\n",
    "    max_freq = 0\n",
    "    i_freq = None\n",
    "\n",
    "    for key, value in freq_dict.items():\n",
    "        if value > max_freq:\n",
    "            max_freq = value\n",
    "            i_freq = key\n",
    "    return i_freq"
   ]
  },
  {
   "cell_type": "code",
   "execution_count": 32,
   "metadata": {},
   "outputs": [
    {
     "name": "stderr",
     "output_type": "stream",
     "text": [
      "....................................................................................................\n",
      "----------------------------------------------------------------------\n",
      "Ran 100 tests in 0.035s\n",
      "\n",
      "OK\n"
     ]
    }
   ],
   "source": [
    "# This will test your function \n",
    "test_mode(mode_counter)"
   ]
  },
  {
   "cell_type": "code",
   "execution_count": 33,
   "metadata": {},
   "outputs": [
    {
     "data": {
      "text/plain": [
       "4"
      ]
     },
     "execution_count": 33,
     "metadata": {},
     "output_type": "execute_result"
    }
   ],
   "source": [
    "mode_counter([1,2,4,4,4,5,6])"
   ]
  },
  {
   "cell_type": "markdown",
   "metadata": {},
   "source": [
    "## 9. Write a function that calculates the standard deviation of a list.\n",
    "`NOTE: Do not use any libraries or already built functions. 😉`"
   ]
  },
  {
   "cell_type": "code",
   "execution_count": 34,
   "metadata": {},
   "outputs": [],
   "source": [
    "def st_dev(list_sd):\n",
    "#your code here\n",
    "    \n",
    "    #calculating mean\n",
    "    list_sum = 0\n",
    "    list_count = 0\n",
    "    for i in list_sd:\n",
    "        list_sum += i\n",
    "        list_count += 1\n",
    "    \n",
    "    list_mean = list_sum / list_count\n",
    "\n",
    "    dev_sum = 0\n",
    "    for i in list_sd:\n",
    "        dev_sum += (i - list_mean) ** 2\n",
    "\n",
    "    return (dev_sum / (list_count -1)) ** 0.5\n"
   ]
  },
  {
   "cell_type": "code",
   "execution_count": 35,
   "metadata": {},
   "outputs": [
    {
     "name": "stderr",
     "output_type": "stream",
     "text": [
      "....................................................................................................\n",
      "----------------------------------------------------------------------\n",
      "Ran 100 tests in 0.035s\n",
      "\n",
      "OK\n"
     ]
    }
   ],
   "source": [
    "# This will test your function \n",
    "test_stdev(st_dev)"
   ]
  },
  {
   "cell_type": "markdown",
   "metadata": {},
   "source": [
    "## 10. Write a function to check if a string is a pangram, i.e.: if it contains all the letters of the alphabet at least once. Mind that the strings may contain characters that are not letters."
   ]
  },
  {
   "cell_type": "code",
   "execution_count": 50,
   "metadata": {},
   "outputs": [],
   "source": [
    "def pangram(string):\n",
    "#your code here\n",
    "\n",
    "    unique_letters = []\n",
    "    for char in string.lower():\n",
    "        if \"a\" <= char <= \"z\":\n",
    "            if char not in unique_letters:\n",
    "                unique_letters.append(char)\n",
    "\n",
    "    return len(unique_letters) == 26\n",
    "  "
   ]
  },
  {
   "cell_type": "code",
   "execution_count": 48,
   "metadata": {},
   "outputs": [],
   "source": [
    "test_pangrams = \"Waltz, nymph, for quick jigs vex Bud.\""
   ]
  },
  {
   "cell_type": "code",
   "execution_count": 51,
   "metadata": {},
   "outputs": [
    {
     "data": {
      "text/plain": [
       "True"
      ]
     },
     "execution_count": 51,
     "metadata": {},
     "output_type": "execute_result"
    }
   ],
   "source": [
    "pangram(test_pangrams)"
   ]
  },
  {
   "cell_type": "code",
   "execution_count": 52,
   "metadata": {},
   "outputs": [
    {
     "name": "stderr",
     "output_type": "stream",
     "text": [
      "..............................\n",
      "----------------------------------------------------------------------\n",
      "Ran 30 tests in 0.013s\n",
      "\n",
      "OK\n"
     ]
    }
   ],
   "source": [
    "# This will test your function \n",
    "test_pangram(pangram)"
   ]
  },
  {
   "cell_type": "markdown",
   "metadata": {},
   "source": [
    "## 11. Write a function that receives a string of comma separated words and returns a string of comma separated words sorted alphabetically.\n",
    "\n",
    "`NOTE: You may use sorted but not split and definitely no join! 🤪`"
   ]
  },
  {
   "cell_type": "code",
   "execution_count": 75,
   "metadata": {},
   "outputs": [],
   "source": [
    "sort_alpha_test = \"Apple, Kiwi, Orange,Banana\""
   ]
  },
  {
   "cell_type": "code",
   "execution_count": 77,
   "metadata": {},
   "outputs": [],
   "source": [
    "def sort_alpha(string):\n",
    "#your code here\n",
    "    words = [] #list to store words\n",
    "    word = \"\" #temporary storage for single words\n",
    "\n",
    "    for char in string:\n",
    "        if char == \",\":\n",
    "            words.append(word) #store completed word\n",
    "            word = \"\" #emptying word variable\n",
    "        elif char == \" \":\n",
    "            pass\n",
    "        else:\n",
    "            word += char\n",
    "\n",
    "    words.append(word)  #for last word\n",
    "\n",
    "    sorted_words =sorted(words)\n",
    "    print(sorted_words)\n",
    "\n",
    "    #manually splitting into comma separated string\n",
    "\n",
    "    result = \"\"\n",
    "    for i in range(len(sorted_words)):\n",
    "        result +=  sorted_words[i]\n",
    "        if i != len(sorted_words) -1:\n",
    "            result += \",\"\n",
    "        \n",
    "    return result\n"
   ]
  },
  {
   "cell_type": "code",
   "execution_count": 78,
   "metadata": {},
   "outputs": [
    {
     "name": "stdout",
     "output_type": "stream",
     "text": [
      "['Apple', 'Banana', 'Kiwi', 'Orange']\n"
     ]
    },
    {
     "data": {
      "text/plain": [
       "'Apple,Banana,Kiwi,Orange'"
      ]
     },
     "execution_count": 78,
     "metadata": {},
     "output_type": "execute_result"
    }
   ],
   "source": [
    "sort_alpha(sort_alpha_test)"
   ]
  },
  {
   "cell_type": "code",
   "execution_count": 79,
   "metadata": {},
   "outputs": [
    {
     "name": "stderr",
     "output_type": "stream",
     "text": [
      "....................................................................................................\n",
      "----------------------------------------------------------------------\n",
      "Ran 100 tests in 0.022s\n",
      "\n",
      "OK\n"
     ]
    },
    {
     "name": "stdout",
     "output_type": "stream",
     "text": [
      "['jiprnanpbc', 'kymlly', 'lfhqg', 'mptys', 'nrtwurvd', 'opcb', 'zhzppzv']\n",
      "['aklgegja', 'bixamhsz', 'ctbd', 'fdgtauzy', 'fpxk', 'frlsjiay', 'kjeegufqz', 'ljpb', 'nuerzfeerp', 'oswzdsfnf', 'ponbwiccqw', 'poxk', 'qskyrljwh', 'snwaaqfvt', 'tlgueyb', 'uarlyod', 'vleziisxeg', 'wytcxostx', 'xvihwk', 'ycqnwocmx', 'zupumsxr']\n",
      "['bauiyjy', 'bgae', 'cwau', 'gbsr', 'gxloeu', 'iatchbvmo', 'ibsudj', 'okospjhve', 'otjr', 'pdxzblal', 'qvzoaddbh', 'tjoj', 'umanelqk', 'wdogrpiw', 'zwdwthvqo']\n",
      "['bdrr', 'bqkdqhb', 'drtion', 'innx', 'kxtehg', 'lenels', 'pkbpibpq', 'qidpzf', 'vhqpqmhqgr', 'vlnnnc', 'wicn', 'wvyhuie', 'wwegz', 'xzkwan', 'zdzohkqux', 'zrnexj', 'zrrhqki']\n",
      "['eexyoqadk', 'guereyfd', 'jsjvkgtr', 'ldbxuj', 'lrwyode', 'mazct', 'mdzhdk', 'mjetltw', 'odqva', 'qfejxulgmd', 'qundiq', 'tdnrv', 'tnew', 'trhkpw', 'ucrzob', 'ulhdsl', 'vgnza', 'vlzyqdqld', 'vpqlfwt', 'xlisugnecd', 'xowqyykzv', 'ztlsd', 'zvtqvzb', 'zzhjtuwczs']\n",
      "['bnbzo', 'kywxgujb', 'lmmpmborl', 'mxmiqxdit', 'nkdbxytjh', 'qltykrjdn', 'rqeddwmxx', 'tlbj', 'vnehwoqb', 'xxcq', 'yyaylagdiv']\n",
      "['ajcjewm', 'boqspm', 'bpnqdm', 'cjqpd', 'dqmdyfylxz', 'eilchnazl', 'evdup', 'hyvpe', 'kapjfr', 'nacvaylv', 'nfiu', 'pleencx', 'pztcb', 'rwvuvrqos', 'tgsest', 'txnnped', 'vnsf', 'vqcwnv', 'wuuslfuhq', 'ztcaxdu']\n",
      "['ajtkqdp', 'blenvd', 'cmlix', 'eakgsuahar', 'iuoalg', 'jocwavrdm', 'kswyv', 'nyexxsuwzl', 'oqtflszyal', 'pcju', 'qavlrxe', 'vvxixvu', 'wwlptjokd', 'xrfeuq', 'xxczaq', 'xypfa', 'zspfb']\n",
      "['bnjnzjmtsa', 'dnqw', 'gtqxmw', 'kbbikmf', 'kxkuhijk', 'mdvk', 'plzhnni', 'setsyerdrm', 'sjsoszlv', 'tzrsmds', 'uebnvsswmw', 'vdfpk', 'vwsyvdpjek', 'wukqeihx', 'wxvozh', 'yqwaz']\n",
      "['aaiza', 'adakhtx', 'aokukyaz', 'bbxiiaf', 'evvzeosemg', 'fgfkiukuh', 'gkvlgico', 'iolku', 'jwbznyhess', 'kjud', 'kpdtyloto', 'lobaowasbz', 'mizbrjsbm', 'mznoeocnmx', 'nulthlcoz', 'oexnohmtk', 'pauxgr', 'pwjit', 'rkglzbjbs', 'strekq', 'tckqzezuxn', 'ybkfseld', 'ykgvzay']\n",
      "['gbix', 'gymq', 'mnijn', 'nrypp', 'rbctvor', 'rdksbwqk', 'siwnatcglq', 'tpabviuuiu']\n",
      "['aaochfit', 'bwbnse', 'cgugncg', 'dijb', 'epdeiayj', 'gkqcsthzb', 'ifngn', 'ixafoaj', 'jeqdk', 'jgol', 'mrxflrnw', 'nuic', 'onvzorbh', 'pauwf', 'qjygpq', 'qllmpao', 'qllvjasb', 'rknynlab', 'sksqzhdxgg', 'srkhonkle', 'szmvi', 'uajbz', 'uwuanmt', 'uxwngdqjaf', 'wtjsndh']\n",
      "['chqmlz', 'dyccpir', 'eeuzpqdpw', 'fgwikuus', 'fjzavdafy', 'gkcgjxghiq', 'gqfhioa', 'hbss', 'niphufhry', 'peoru', 'pyeidkhqr', 'qoyq', 'rxjlydpmg', 'segihuyj', 'szbsv', 'ufyaw', 'uxvjdiqvja', 'uxwmqku', 'xotdjglemq', 'ylisep']\n",
      "['ahbrz', 'bvkzccw', 'citgtj', 'csyaheotp', 'diiurrlg', 'euzlzebybc', 'jazghkut', 'lccj', 'lhkuze', 'ltcterh', 'lyjxvxas', 'ouivefedle', 'ovczc', 'qgcw', 'rwta', 'skbp', 'sqlyheh', 'wgeuij', 'xcgkdbhmi', 'zmlnp', 'zvikygcvd']\n",
      "['bhngqdnuzl', 'bhzdpt', 'bmckqb', 'caweqzyn', 'colcwwqol', 'eqjhruzjh', 'eyfc', 'fowc', 'fstxkql', 'kcbnxwamvp', 'liell', 'mcvhv', 'nkvqtlhy', 'oewr', 'prswzztyfl', 'rfapevqf', 'unwzcn', 'uvkogwp', 'xohv', 'ypsibehbj', 'zadqrnoenj', 'zjgnrfnanc', 'zmcbwzoni']\n",
      "['aaqyih', 'bbgprunii', 'lxxmk', 'qitgiul', 'sksje', 'sndkbdnqvn', 'wmjgmvr', 'xgkq', 'zfmgjcicw']\n",
      "['bjyqfamg', 'dbafsrgnin', 'dclkr', 'debb', 'eplzftpt', 'gljfsw', 'itxmbkkf', 'jntfgunhfb', 'leadlrwm', 'ptjdpdlygq', 'qgrgtcnu', 'qltu', 'sfdvyuolb', 'srdbfgdmn', 'teowohk', 'vmhrjjuoar', 'wgeces', 'xkcxrbv', 'zzlvqm']\n",
      "['fdjrm', 'gjrgjfh', 'jxyokmfhtn', 'khsfo', 'qqfm', 'tkpkzds', 'uspyvof', 'ztuobdt']\n",
      "['acdwk', 'bncs', 'dyuf', 'edyfomgwmy', 'gaxz', 'qodh', 'snwxsljd']\n",
      "['anhiuexhvp', 'cbhvmtscra', 'cctjzljcgt', 'cwwugb', 'eayqafla', 'enfduovbn', 'fwuo', 'gtxemrbbu', 'hdkn', 'hvkps', 'keuuobbjk', 'lckgwhaeq', 'mvug', 'ofhifdsm', 'pjqqqa', 'pnkd', 'prhatqak', 'qigxgl', 'rofmzqllfw', 'rugprav', 'vewxyrjb', 'vkexobid', 'xkxhola', 'yojky', 'yovdo']\n",
      "['aveuakmbf', 'eblpnfycxr', 'fzwpjzve', 'geqkzxc', 'irkhcnqccs', 'jlasv', 'jzkcsarzcm', 'kbvyfis', 'lkucscr', 'miobwyu', 'nmauyphj', 'ntyqudx', 'oryipne', 'pdehboh', 'pivhlew', 'ricsvc', 'smhfyftr', 'tcotfoqgx', 'ueudsegkk', 'vmsl', 'woly', 'woyeifslj', 'wukgiv']\n",
      "['bilcigev', 'bvwo', 'cemllmvzbx', 'ctlzlvkzg', 'dkikgo', 'figattpbt', 'ilve', 'iwpapxj', 'jrisvevem', 'kcvyhxg', 'kyuxeypn', 'kzztf', 'lhkuvtow', 'mokxy', 'ohjqv', 'pwlafcbkv', 'rguivk', 'slzda', 'towbbb', 'umpu', 'vnmqgl', 'vublflucio', 'vvyieziccb', 'ydxczhabm']\n",
      "['anohvz', 'ediklfqnvs', 'ejxu', 'eqel', 'eupjzzge', 'eygxb', 'hzxdorm', 'omnrxsoqek', 'orob', 'ostymjhmcp', 'pwqt', 'qqgvmz', 'stuyghnmt', 'ttmymgol', 'tyykrm', 'wwbz', 'xhrqyw', 'ynrz', 'zayqrxyueu', 'zheye', 'zrzgusmo']\n",
      "['edekggqju', 'eervwesqh', 'ewlkdl', 'fzit', 'gbdbcuz', 'ofoctdoz', 'oippe', 'qafrebd', 'qlarcv', 'tmvcrkmdoa', 'ufowx', 'ycpikqgiip', 'zshdc']\n",
      "['djznrcfm', 'fwdea', 'hphbx', 'hpiehnxb', 'irujorlw', 'jloexps', 'leimhbsho', 'lkomge', 'lobdpr', 'nhgc', 'nuzlntna', 'oebsc', 'ojsqdbncor', 'ptubm', 'qnzgvfdwys', 'tcowkjn', 'ujtt', 'ynkdympwv', 'zwivuge']\n",
      "['ayodkrygn', 'fnsi', 'gdenolfrgp', 'giiapqeqbe', 'issmtd', 'ivmviewexs', 'kahflkjfsa', 'llfnlfuy', 'mzkijg', 'nmitckprsm', 'qhdutkkrk', 'raidx', 'tbowll', 'vxcqgalitn', 'ynodqqiq', 'yrsqhitk']\n",
      "['edaxqgufc', 'fzjdka', 'htnwrtmaku', 'vjtzarfal', 'yselvf', 'zpbmn']\n",
      "['dxhesrodml', 'hugfbuxc', 'kryooyv', 'mhyce', 'nlwxhshetm', 'npdeeg', 'obxabsay', 'okjiebquow', 'phgfzxze', 'pvzixt', 'qdpbdg', 'rochplje', 'sdeawkfig', 'sdkat', 'whsig', 'ytczoupev', 'yuhca', 'yxovvxcgwi', 'zbaxyectpl', 'zjwh', 'zvizjhomj']\n",
      "['dfxhe', 'ghgn', 'krfolk', 'kxhgefdp', 'liejmrvxp', 'lzvccyo', 'nflpelmz', 'nstvjwf', 'nzxwhryt', 'pfmntzist', 'qfrvvs', 'qxsx', 'rjalpaq', 'rwbagu', 'sllakyvuo', 'uylzklox', 'vxey', 'waahubkgr', 'wnlqt', 'xorqbsg', 'youefoqz', 'zdokqohqkf']\n",
      "['arquoevjr', 'bpfckhc', 'egswwd', 'evxsk', 'gpijuy', 'hlrj', 'lpkzqwcl', 'obcprz', 'owsn', 'pqah', 'ptxqcauut', 'qtglx', 'quhiu', 'tksjobxoe', 'tlqetzrw', 'uiapv', 'uidblcu', 'uxptok', 'vvemjba', 'wrwkyl', 'xazndx']\n",
      "['byvarxxo', 'dmrs', 'fuzkhxpirr', 'idiakovou', 'jigbn', 'lsxtinqsuj', 'mqzevzbek', 'mrbxrh', 'mvjbvvybh', 'mzrtbrfpr', 'pemtxbe', 'rsitpmzlzk', 'tzolxopopr', 'wsmjd', 'yumpd']\n",
      "['dqbvuijsll', 'pgifahfj', 'uloatbmmvh', 'vjxtqkcfe', 'vvvrndsq', 'wjslm', 'xnknegja', 'zcgoafhqy']\n",
      "['heckw', 'lrexnugli', 'nbjswmq', 'nqcjft', 'ougma', 'pushjql']\n",
      "['bjegrti', 'brvqdahka', 'fqnepmhkza', 'hxnkuesu', 'ifpkypjx', 'inujtcbr', 'iyxbapgbo', 'iyxtbrlrs', 'jrcix', 'kzsx', 'lnuwll', 'lphxgqarkv', 'lwewyn', 'mjrlih', 'mzpap', 'rrzthlmgdj', 'srgmi', 'uaqanrtkz', 'wrldqvsvs', 'yobnu']\n",
      "['bcpt', 'dqxde', 'elzwbwctdb', 'fouqdrr', 'gjzntu', 'kxglajrrt', 'miukamjyj', 'vuxgtdh', 'ybwelbdvd']\n",
      "['kwzaie', 'mvnlross', 'xgmqsv', 'xlxxi']\n",
      "['bfiyjwqkr', 'fioe', 'fznhguo', 'gtcbx', 'hldmguui', 'ikkzdr', 'izssbdbsgi', 'kmpa', 'lifzesdjdp', 'qpbhsab', 'ubjamqfwu', 'xyjrnik']\n",
      "['bezqp', 'boalryql', 'bsnkrnysmh', 'clvjsnxafn', 'dezi', 'dgacvrxlk', 'eukzwzsw', 'hdkut', 'herxlml', 'hhftvb', 'hpglciyke', 'hxuti', 'ipay', 'jaganvhg', 'mctddjxb', 'nddvwuwhxr', 'okhzkj', 'qmqxbiro', 'tbgez', 'tfrueerz', 'uexovt', 'xksb', 'ytycfnexl', 'ywiihjwks', 'zwhhjyf']\n",
      "['aoxvpel', 'dvxvxu', 'kqqp', 'zbnehaxg']\n",
      "['aoiafs', 'bqmkczatq', 'btpdzwho', 'byzudfbty', 'cuplkg', 'dvcqhdmuh', 'hcnzvrcgns', 'ists', 'jekpyyrjv', 'jluiuj', 'laivx', 'ljowloez', 'mmgfn', 'ntgvqkyiw', 'nyqkpyhq', 'pyqxbrmye', 'rjgqivj', 'rkklqpw', 'shiddbo', 'snchmgf', 'ssllttb', 'txgwsqcn', 'wmfkvzgtrz', 'wzmpogesch', 'xycauauog']\n",
      "['abakvmq', 'bjqb', 'chez', 'emacwa', 'ewudvz', 'fyykvo', 'iweaiwi', 'jkucnqgr', 'kbvny', 'kcuugntahv', 'nductk', 'oypi', 'pcoesb', 'prlztjzc', 'ptpf', 'pyxp', 'qsjgvenlh', 'sntqxaujj', 'sowubxgcu', 'tpydvqawbv', 'twfwwrrer', 'ubrp', 'vnfpjczrg', 'yhtvtnpcfm', 'yydxly']\n",
      "['clumv', 'ginamyqf', 'hsxab', 'imauexbfr', 'mmpgpq', 'sdzt', 'simbo', 'svsqtgnyjd', 'tahpmwq', 'tcdnwrnt', 'tpejz', 'vrqacupa', 'wyncgbm', 'xuqe', 'xvyqkxwvxd']\n",
      "['cnpq', 'dsdkh', 'hwhjlojrxi', 'measnb', 'mrwqgeodpf', 'mtvhg', 'ovlutg', 'rlqdoqfws', 'svyyaaee', 'tnfhlvwq', 'topi', 'udnu']\n",
      "['bvupzkgq', 'czjl', 'hrvqlaig', 'lbtsrvit', 'nbrosibipb', 'tsgmza']\n",
      "['fuxqrca', 'joseuarzl', 'npqrmuj', 'sqfcscupac', 'xuwcylk']\n",
      "['cmvs', 'fuwecc', 'gyugm', 'jookjeyyvd', 'jwcypjaic', 'ltorvfthw', 'mcdh', 'mmtgs', 'mwxeiualh', 'qvmpcykd', 'rvhg', 'tyex', 'ulhx', 'wmaakin', 'yhtsnkg', 'zekbs', 'ztrwni']\n",
      "['jdraosi', 'mipuwe', 'qdqohaaf', 'qtqs', 'xinlqcovoh', 'xobfh']\n",
      "['cgpmqpqzlo', 'fkter', 'fzejfqai', 'gkpw', 'gtisewi', 'lhecgomfgp', 'prdxshr', 'riuzpgtcxv', 'skzbnqt', 'vejskzay', 'vfgvxs', 'vzvuevoocx', 'wqvj', 'xombkuca', 'ypuey', 'znxv']\n",
      "['admhebsecg', 'ainfjjamzf', 'arahuydq', 'ayokpd', 'ejtywv', 'ejzpyxvcuo', 'fdactc', 'fqsyrm', 'gjssqyldi', 'imjs', 'julxalc', 'lclgstyuq', 'ouksr', 'plpyrffhs', 'vgxamu', 'wfbixnxk', 'yrdpziv']\n",
      "['ademluxiz', 'aezogle', 'byvocwwrm', 'cvsgz', 'doimu', 'eeiwqp', 'gofeg', 'gpaf', 'jcinmtoaze', 'kdpqfzoc', 'mmtef', 'mpev', 'nywyqwcwpf', 'soagrfthuj', 'tkmc', 'wkjnmvookj', 'ywtmyn', 'zdigf']\n",
      "['doeyzozxvf', 'enrlb', 'fqmvnwmk', 'fziszdleg', 'gmwc', 'gzkiua', 'iavnhffu', 'jnhbmtaj', 'lmvnmru', 'matkig', 'nerlqwxy', 'pgti', 'qtwugg', 'rqxwrqeyr', 'rxihju', 'sfiwjs', 'tbtcb', 'txuwkyod', 'vihdtjkuri', 'zopvj', 'zrud']\n",
      "['ahswmz', 'cdujv', 'iopl', 'juhyka', 'jzke', 'ouof']\n",
      "['afty', 'avsxozcpsj', 'cnmxuihn', 'dkhtugivok', 'kfkbl', 'kpgi', 'ofqbarqkv', 'oohhdbd', 'oykkfjwnpn', 'pfgqjgcwb', 'ryqoyytvf', 'wjoe', 'wrilhy', 'yybjh', 'zwtu']\n",
      "['aebqwykbec', 'dspbouzopv', 'dygiyhbax', 'fmxstjeq', 'htluy', 'irpuad', 'ixhfks', 'ixxouqxb', 'jpcmlj', 'kpzjq', 'lpdktu', 'nfnpbqpkzn', 'rigm', 'rwbd', 'shiayz', 'sojycyuhig', 'tfunkdrvkq', 'vrpufgfz', 'vydxe', 'walx', 'wbvv', 'wkhgts', 'xime']\n",
      "['dzyvsacdy', 'emlpjwmn', 'fjgqxqs', 'illg', 'pxvbmojbzm', 'uvpvzyzop', 'vmwpok', 'zaecvntkn', 'zjwf']\n",
      "['aoroaldh', 'ddkwjvoszi', 'icnlmp', 'lbap', 'mabhlf', 'mijdyipf', 'qsrmxwv', 'tcovza', 'urlydha', 'vlxxvry', 'vnbltf', 'xhhakczx']\n",
      "['auduzij', 'bxwvgmwax', 'kfcleg', 'kloewe', 'kzlon', 'mbomil', 'mlgge', 'mlxahjrry', 'oefu', 'qldnotov', 'rapzrskjr', 'uomhjn', 'uqgpgsgycq', 'xzwg', 'zvpp']\n",
      "['atinpynlwa', 'bgsx', 'boxciq', 'bxdqft', 'fjyi', 'hjmsuzrt', 'hrcuv', 'iagzyidhl', 'ioexbtla', 'keyayfanc', 'mnugq', 'mtpchxxdac', 'mvzusbh', 'odem', 'rthkfclps', 'tkmsltcmp', 'urbaygns', 'uzxydoun', 'vjqweva']\n",
      "['bkeqqykcxc', 'dbzevgkx', 'fajj', 'iaplcvys', 'kpwj', 'ldee', 'liymwtourh', 'lrovtzz', 'pbknjpvezs', 'pjbnm', 'pumhbyr', 'rtvz', 'rvxfge', 'sbpgtdmlok', 'syuuhvta', 'tgbzeg', 'vvxgcvv', 'vwzkq', 'whnsfupw', 'xubjygisj', 'xxjbkq', 'yoxzksz', 'yxjtxmjzhr']\n",
      "['btihawaf', 'clmcw', 'cqkczjm', 'goqkysnqb', 'gxhwnbzr', 'hsffbgjfv', 'ibccterkjw', 'ipnublqh', 'jhwrrzjc', 'jitwnfl', 'jlqgbl', 'jowgej', 'jyhbqzgbp', 'lvfroggip', 'mmrbbyeth', 'mogkavfcgt', 'ocwlgobc', 'qsbbklqx', 'tpewrpieb', 'tqkro', 'tvkqk', 'uluormmtkv', 'yyxnwlm']\n",
      "['cqolamxqdm', 'dbplav', 'eoxvpdx', 'ivwmjh', 'lfoqb', 'pgbyethcb', 'qjbpl', 'qkczpos', 'qxsmkolrmj', 'ulzxvxyc', 'uvsnkc', 'vdqwfp', 'vfiqdq', 'vswhogm', 'wvfse', 'yebzyxv']\n",
      "['ceiywpbth', 'fzdntnxl', 'gycmy', 'hlthzwsbx', 'zqwh']\n",
      "['alex', 'ccyvqr', 'dqavckmgv', 'dqbp', 'eiun', 'fdjez', 'gqxob', 'guzzqy', 'imzyppcfh', 'lyzbkcdglv', 'mdbvq', 'obqfrqdxu', 'ohfhgla', 'qihoqf', 'wbuopa', 'xipza']\n",
      "['abqqv', 'arahqxs', 'cjov', 'dfmqncrvz', 'fnpb', 'fqwgjcwu', 'fryprqfvw', 'hkszbqyh', 'intknyugoj', 'jgvcq', 'krpfxjj', 'lgtjnofs', 'mjwuybqepk', 'ofzioskp', 'qinwxqkcur', 'qsvejs', 'srmft', 'szjgaiakd', 'utyczulzv', 'wmbwvlwr', 'wmluebhos', 'xiey', 'zdpybmwitz']\n",
      "['fpmnwjkkh', 'jxicfqmhm', 'mmtslkr', 'wmlbwhfdh', 'wvgpfjx']\n",
      "['hqdchyj', 'mmuoqba', 'pjebketg', 'zxms']\n",
      "['adxekdhvh', 'beaix', 'bxdfrrbgkv', 'dlyqt', 'duirddknfm', 'efjdr', 'egjiaqtu', 'kzejjbc', 'nxnmyyfht', 'plfyned', 'siws', 'tghrtpdg', 'xfdao', 'xyvpevc', 'ybfitypczz', 'ycqjxk', 'ynfiwtm', 'zljswcty']\n",
      "['bpbfslhz', 'ennxykrs', 'kebltqfud', 'ovpkws', 'owutgi', 'rwqi', 'slkea', 'xdwchkabgl', 'xpnvqss', 'xrojk', 'ymkgkcfzw', 'yrgucxz', 'yysgnjh', 'zymnkiiczf']\n",
      "['aqco', 'ivqyahbh', 'lbohpicmom', 'lgrzeqvrh', 'mlpxb', 'ncei', 'ozzgwhjfah', 'pupdoaormr', 'sgcajn', 'thsrajm', 'tzguyqnxy', 'veyztp', 'wvwxr', 'xdzickhs', 'yxxabii']\n",
      "['cnnhqyrquy', 'ivzjv', 'jjsthqcbx', 'slnws', 'sxvr', 'usirubg', 'ypveadm']\n",
      "['apnx', 'cduysxm', 'csjlumb', 'ekmen', 'fotkfwb', 'guqotm', 'kfokougzvj', 'lcjui', 'lzrsejbc', 'mjufguxuzt', 'pyih', 'raswxwehtl', 'tcwdm', 'wwdwsdjry', 'ydektgohu']\n",
      "['aprcx', 'barukh', 'cwdr', 'dczafemzuc', 'djtb', 'goavoqfrr', 'hvcdvwyhj', 'kmiuju', 'kwnulz', 'oqqscw', 'smyh', 'tiipxnbpuo', 'tskll', 'uenc', 'vepevgmff', 'xrpreuo', 'yxck']\n",
      "['bqliewibc', 'emqtticy', 'gkwmjhavhg', 'gtkxxrry', 'jpbzpvwwm', 'qegqu']\n",
      "['aqkritg', 'cnkzmlltmy', 'jrkjruixb', 'mosn', 'qbuvpww', 'qjkeqgcb', 'rrmnfih', 'wajqmzm']\n",
      "['anguo', 'ezrdxql', 'fsibm', 'gafvlbfy', 'gffddcmnbo', 'irwfzjcnv', 'jkcjneyp', 'ksqabfpz', 'mlbecsdy', 'mopqiwr', 'qhkg', 'qrhuhgoq', 'rnylxeyfv', 'whjdzx', 'xnybtzwk']\n",
      "['dvpylogk', 'epjagpfwu', 'gfcnrmc', 'hcgh', 'krjgcz', 'ospzk', 'ouzxkm', 'qfacn', 'ritgkz', 'rvfxymaw', 'sdfznbqzet', 'ukxlqylv', 'xvgalmfvu', 'xzmivlga', 'zbhaupdqf', 'zddq', 'zqlzgqgjrm']\n",
      "['aghlouxujq', 'dxaya', 'fuajbrotyi', 'khbnt', 'kymk', 'llectqo', 'lqacrjwqcy', 'pglv', 'qizvitypsa', 'rjbwwx', 'rvuxknjp', 'rwfvsulk', 'rxuygutz', 'ryvzpkja', 'sajn', 'vxcjqonse', 'vzrrabyszm']\n",
      "['cnnwr', 'fxetolwkut', 'kosgt', 'lkcd', 'vnvcnuhy']\n",
      "['aegsw', 'auinyzl', 'bdaa', 'dmllge', 'efwwkkqoex', 'eyumcai', 'ffuy', 'hemipi', 'julrsrj', 'kfyqrug', 'lkgh', 'naaielpttn', 'oesro', 'pvnawwizdd', 'pxdvccs', 'rkcnkonezq', 'rueip', 'tpyjfrin', 'udwpmr', 'uxpudqnqr', 'vooly', 'yfslrj', 'zxvofnxwy']\n",
      "['aqomw', 'buit', 'dkzxmsgcg', 'ecivu', 'etlmgzcrb', 'gbeyy', 'hhfxtu', 'icoivlg', 'kgzkytug', 'kvixdxz', 'pmph', 'tbplurke', 'telfyii', 'xqlgodmse']\n",
      "['attcjstjs', 'cxwlywlbus', 'dezesh', 'dzeaons', 'elxsumtbpu', 'heqfcrkvsi', 'irbjqv', 'jvcclgbbif', 'kdoqbcqbe', 'kqles', 'luhsljxemd', 'moct', 'okpatv', 'rbcfugugj', 'srdqbrkdow', 'vmducddaz']\n",
      "['eavikoi', 'enaofp', 'guhqslaey', 'hina', 'hungrflkj', 'nqjbbamles', 'qnzhlpv', 'xaws']\n",
      "['afptjzeids', 'agxchvhebt', 'bsqdnwl', 'cudyzw', 'cyuxmabjv', 'czooa', 'dkejyattn', 'dmvuu', 'ellpqpbq', 'ffhqv', 'ltejbsqtnm', 'mdvaxgzq', 'mwbozlan', 'rnltsctyq', 'tqvdehplue', 'vgjmfzw', 'xgmqyuxbbs', 'zzhvvxjfs']\n",
      "['aupn', 'bacessx', 'bzqwyw', 'decm', 'dugzpq', 'eqtiydz', 'hhjfy', 'ixtmm', 'kfxzlkctf', 'lqft', 'moulf', 'oerujpjp', 'qctrpuwow', 'qgqdofatmn', 'qizxlkpfy', 'vuyvvgbh', 'wgnsuztoe', 'wpbdicuqy', 'ynyqhmvozz']\n",
      "['cntcp', 'dztjc', 'ejwqa', 'eoixztic', 'falgyujjh', 'ifwx', 'iovm', 'ityd', 'jisp', 'luuctytkx', 'mapxpmty', 'stvzkzopqq', 'tflcgasx', 'tnbk', 'xerccbdguz', 'ydge', 'ztnqhb']\n",
      "['fwneqqdjn', 'okyscphe', 'qhgyifi', 'tthbnf', 'yzydejnmm']\n",
      "['atvki', 'evflddjhjd', 'gkxygz', 'hgxezf', 'jhqgu', 'jjwc', 'kjzbv', 'loibjyii', 'mdvt', 'mmsehgdn', 'mnlnih', 'nmwatvkro', 'ohdxats', 'qfmp', 'tixdxcn', 'usgruxy', 'vcnoucm', 'wnsfq', 'xezlsvmt', 'yfxcigq']\n",
      "['bpyejalk', 'cxvieqlv', 'minypr', 'uhddpv', 'vhvflikaa', 'xtpxrgj', 'yawilt', 'ycxcfpu', 'yjefuwskw', 'ykhw', 'yqtcdyu']\n",
      "['ccuk', 'emmbgetkiq', 'ikmh', 'rrlbdogdb', 'xhgopwug', 'ynmu']\n",
      "['adwwv', 'aqxqix', 'eeyzdfizwq', 'etli', 'foawlxma', 'gcurd', 'gsulm', 'khkeunx', 'kskvfvy', 'lfhvmuy', 'lzmhqnqzmt', 'nzqmqe', 'pmae', 'pmdwdx', 'pwfk', 'qmbwl', 'ssbaufywxz', 'surs', 'tnkrydng', 'uobwhpxpp', 'uucwdgo', 'vqbwerwazw', 'wapnffowih', 'wxvowlzq']\n",
      "['cvizevrcb', 'daauisa', 'ggjgrpt', 'kvkdnlr', 'mizqjlsss', 'tageuuifzv', 'urbtzcf', 'wjlbbfqbgp', 'wvomccl', 'zbcpae']\n",
      "['azmbiddr', 'bysbful', 'dbuuivyf', 'dcpfdchcr', 'fponcd', 'hbqquenoq', 'hxqjxjmr', 'ifck', 'jfqlqyp', 'mgibm', 'mrdonghxg', 'qcrw', 'qfulivab', 'qsnotnw', 'tzgi', 'useqlsldac', 'uwsdpuelj', 'uzylsescj', 'zkyfw', 'zxhetsld']\n",
      "['gbfphxvwz', 'gggwa', 'hcvnbexhwi', 'hpli', 'mcre', 'mjinpz', 'pnocgrlqwb', 'rcxdze', 'tjnplojtmm', 'xzqhi']\n",
      "['cyzfxgbt', 'eibsmghqzc', 'fybrotfay', 'glbvx', 'hgwpn', 'hkxh', 'kgssrphbc', 'lqsfkregr', 'mswpnhyx', 'nvqbbdnvnf', 'odgw', 'olysvpsdub', 'sdav', 'sulvia', 'tjsgyhjyhy', 'tyumn', 'vvbzyfpnvo', 'xsbzfagnua']\n",
      "['aszqvcy', 'bqcojgepm', 'brmn', 'djxaskv', 'mrlxal', 'nhpi', 'paiyxi', 'rnpw', 'senz', 'trlgjdpa', 'uukfxx', 'vhvvk', 'wbinpwfvom', 'wplrykv', 'xssrnenq']\n",
      "['dxhf', 'hocfdbmfc', 'ipeqy', 'kbsbi', 'qjaof', 'ulpbz', 'xmovjr', 'xqrmrt']\n",
      "['bcvg', 'cijlmc', 'daegz', 'dgwym', 'fdieu', 'iilk', 'jfbcukpprk', 'jjhwd', 'pkoz', 'pqhgzwr', 'ycrh']\n",
      "['bfzog', 'bvdxjxlo', 'dqmz', 'eazblkk', 'fkksspwvu', 'knwyxxnrd', 'latmnjtvep', 'levucc', 'mesaijfp', 'nancp', 'rhamdhyi', 'rundytaob', 'rwgyppsju', 'uetyuups', 'unjimdbv', 'vsbsl', 'vtcevawbv', 'vzdhvey', 'wmlgvkwd', 'wwpxblha', 'xiizb', 'zghrrspm', 'zpcmtrkyum', 'zzezax']\n",
      "['akkbueji', 'cmtlmjkzat', 'dzyf', 'gizohno', 'kuatapmiof', 'lktoc', 'lnmvgbtds', 'lownxucg', 'nbxpwzl', 'ofdac', 'phewrlf', 'syjlcub', 'utvjmldtp', 'vexuwu', 'wxysqhjm', 'ylqxejwkr']\n",
      "['anrt', 'bgosn', 'bhdkw', 'bvsimlyffn', 'dmrqnktta', 'dxvreeh', 'edxneshkq', 'hgpmnx', 'ipatb', 'jbzaqc', 'narx', 'ncqmbj', 'ojecxdcdhh', 'qkvdmldlr', 'tgvl', 'ucwhnmsn', 'vhtvzl', 'vthiymque', 'vudsnmmof', 'wbzeb', 'wqgxlwivvx', 'wyoxmmv', 'yamsv']\n"
     ]
    }
   ],
   "source": [
    "# This will test your function \n",
    "test_alpha(sort_alpha)"
   ]
  },
  {
   "cell_type": "markdown",
   "metadata": {},
   "source": [
    "## 12. Write a function to check if a given password is strong (at least 8 characters, at least one lower case, at least one upper case, at least one number and at least one special character). It should output True if strong and False if not."
   ]
  },
  {
   "cell_type": "code",
   "execution_count": 91,
   "metadata": {},
   "outputs": [],
   "source": [
    "def check_pass(password):\n",
    "#your code here\n",
    "\n",
    "    password_length = 0\n",
    "    lower_count = 0\n",
    "    upper_count = 0\n",
    "    num_count = 0\n",
    "    sp_count = 0\n",
    "\n",
    "    for i in password:\n",
    "        password_length += 1\n",
    "        if 'a' <= i <= 'z':\n",
    "            lower_count += 1\n",
    "        elif 'A' <= i <= 'Z':\n",
    "            upper_count += 1\n",
    "        if \"0\" <= i <= \"9\":\n",
    "            num_count += 1\n",
    "        elif not ('a' <= i.lower() <= 'z'):\n",
    "            sp_count += 1\n",
    "\n",
    "    return password_length >= 8 and lower_count >= 1 and upper_count >= 1 and num_count >=1 and sp_count >= 1"
   ]
  },
  {
   "cell_type": "code",
   "execution_count": 86,
   "metadata": {},
   "outputs": [],
   "source": [
    "pass_test = \"Password123!!\""
   ]
  },
  {
   "cell_type": "code",
   "execution_count": 89,
   "metadata": {},
   "outputs": [
    {
     "name": "stdout",
     "output_type": "stream",
     "text": [
      "13\n",
      "7\n",
      "1\n",
      "3\n",
      "2\n"
     ]
    },
    {
     "data": {
      "text/plain": [
       "True"
      ]
     },
     "execution_count": 89,
     "metadata": {},
     "output_type": "execute_result"
    }
   ],
   "source": [
    "check_pass(pass_test)"
   ]
  },
  {
   "cell_type": "code",
   "execution_count": 92,
   "metadata": {},
   "outputs": [
    {
     "name": "stderr",
     "output_type": "stream",
     "text": [
      "....................................................................................................\n",
      "----------------------------------------------------------------------\n",
      "Ran 100 tests in 0.029s\n",
      "\n",
      "OK\n"
     ]
    }
   ],
   "source": [
    "# This will test your function \n",
    "test_pass(check_pass)"
   ]
  }
 ],
 "metadata": {
  "kernelspec": {
   "display_name": ".venv",
   "language": "python",
   "name": "python3"
  },
  "language_info": {
   "codemirror_mode": {
    "name": "ipython",
    "version": 3
   },
   "file_extension": ".py",
   "mimetype": "text/x-python",
   "name": "python",
   "nbconvert_exporter": "python",
   "pygments_lexer": "ipython3",
   "version": "3.12.4"
  }
 },
 "nbformat": 4,
 "nbformat_minor": 4
}
