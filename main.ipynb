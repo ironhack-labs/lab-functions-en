{
 "cells": [
  {
   "cell_type": "markdown",
   "metadata": {},
   "source": [
    "# Functions"
   ]
  },
  {
   "cell_type": "markdown",
   "metadata": {},
   "source": []
  },
  {
   "cell_type": "markdown",
   "metadata": {},
   "source": [
    "On this lab we will put to practice some of the concepts we have learned on this past few days.\n",
    "\n",
    "`NOTE: On this lab you should try to write all the functions yourself using only the most basic of python syntax and without functions such as len, count, sum, max, min, in, etc. Give it a try. 🧑🏻‍💻👩🏻‍💻`\n",
    "\n",
    "The cell after each exercise contains a few tests to check if your function works as expected."
   ]
  },
  {
   "cell_type": "code",
   "execution_count": 1,
   "metadata": {},
   "outputs": [],
   "source": [
    "from mod.testing import *\n",
    "import unittest"
   ]
  },
  {
   "cell_type": "markdown",
   "metadata": {},
   "source": [
    "## 1. Write a function that returns the greater of two numbers"
   ]
  },
  {
   "cell_type": "code",
   "execution_count": 2,
   "metadata": {},
   "outputs": [],
   "source": [
    "def greater(a:int,b:int) -> int:\n",
    "#your code here\n",
    "    if a > b:\n",
    "        return a\n",
    "    else:\n",
    "        return b\n",
    "    \n",
    "# a = 5\n",
    "# b = 6"
   ]
  },
  {
   "cell_type": "code",
   "execution_count": 3,
   "metadata": {},
   "outputs": [
    {
     "name": "stderr",
     "output_type": "stream",
     "text": [
      "....................................................................................................\n",
      "----------------------------------------------------------------------\n",
      "Ran 100 tests in 0.022s\n",
      "\n",
      "OK\n"
     ]
    }
   ],
   "source": [
    "# This will test your function \n",
    "test_greater(greater) "
   ]
  },
  {
   "cell_type": "code",
   "execution_count": 4,
   "metadata": {},
   "outputs": [],
   "source": [
    "#your code here"
   ]
  },
  {
   "cell_type": "markdown",
   "metadata": {},
   "source": [
    "## 2. Now write a function that returns the largest element on a list\n",
    "\n",
    "\n"
   ]
  },
  {
   "cell_type": "code",
   "execution_count": 5,
   "metadata": {},
   "outputs": [
    {
     "data": {
      "text/plain": [
       "50"
      ]
     },
     "execution_count": 5,
     "metadata": {},
     "output_type": "execute_result"
    }
   ],
   "source": [
    "# #your code here\n",
    "def greatest (ls):\n",
    "    largest = 0\n",
    "    for num in ls:\n",
    "        if num > largest:\n",
    "            largest = num\n",
    "    # print(largest)\n",
    "    return largest\n",
    "\n",
    "greatest([1, 2, 50, 30])"
   ]
  },
  {
   "cell_type": "code",
   "execution_count": 6,
   "metadata": {},
   "outputs": [
    {
     "name": "stderr",
     "output_type": "stream",
     "text": [
      "....................................................................................................\n",
      "----------------------------------------------------------------------\n",
      "Ran 100 tests in 0.114s\n",
      "\n",
      "OK\n"
     ]
    }
   ],
   "source": [
    "# This will test your function \n",
    "test_greatest(greatest)"
   ]
  },
  {
   "cell_type": "markdown",
   "metadata": {},
   "source": [
    "## 3. Write a function that sums all the elements on a list"
   ]
  },
  {
   "cell_type": "code",
   "execution_count": 7,
   "metadata": {},
   "outputs": [
    {
     "data": {
      "text/plain": [
       "12"
      ]
     },
     "execution_count": 7,
     "metadata": {},
     "output_type": "execute_result"
    }
   ],
   "source": [
    "def sum_all(lista):\n",
    "#your code here\n",
    "    suma = 0\n",
    "    for i in lista:\n",
    "        suma += i\n",
    "        \n",
    "    # print(suma)\n",
    "    return suma\n",
    "\n",
    "\n",
    "sum_all([10,1,1])"
   ]
  },
  {
   "cell_type": "code",
   "execution_count": 8,
   "metadata": {
    "scrolled": true
   },
   "outputs": [
    {
     "name": "stderr",
     "output_type": "stream",
     "text": [
      "."
     ]
    },
    {
     "name": "stderr",
     "output_type": "stream",
     "text": [
      "...................................................................................................\n",
      "----------------------------------------------------------------------\n",
      "Ran 100 tests in 0.040s\n",
      "\n",
      "OK\n"
     ]
    }
   ],
   "source": [
    "# This will test your function \n",
    "test_sum(sum_all)"
   ]
  },
  {
   "cell_type": "markdown",
   "metadata": {},
   "source": [
    "## 4. Write another function that multiplies all the elements on a list"
   ]
  },
  {
   "cell_type": "code",
   "execution_count": 9,
   "metadata": {},
   "outputs": [],
   "source": [
    " #your code here\n",
    "def mult_all(lst):\n",
    "    multi = 1\n",
    "    for i in lst:\n",
    "        multi *= i\n",
    "        \n",
    "    # print(multi)\n",
    "    return multi\n",
    "\n",
    "\n",
    "# mult_all([2,3,10])\n"
   ]
  },
  {
   "cell_type": "code",
   "execution_count": 10,
   "metadata": {
    "scrolled": true
   },
   "outputs": [
    {
     "name": "stderr",
     "output_type": "stream",
     "text": [
      "....................................................................................................\n",
      "----------------------------------------------------------------------\n",
      "Ran 100 tests in 0.017s\n",
      "\n",
      "OK\n"
     ]
    }
   ],
   "source": [
    "# This will test your function \n",
    "test_mult(mult_all)"
   ]
  },
  {
   "cell_type": "markdown",
   "metadata": {},
   "source": [
    "## 5. Now combine those two ideas and write a function that receives a list and either \"+\" or \"*\" and outputs acordingly"
   ]
  },
  {
   "cell_type": "code",
   "execution_count": 11,
   "metadata": {},
   "outputs": [
    {
     "data": {
      "text/plain": [
       "160"
      ]
     },
     "execution_count": 11,
     "metadata": {},
     "output_type": "execute_result"
    }
   ],
   "source": [
    "def oper_all(arr, oper = \"*\"):\n",
    " if oper == \"+\":\n",
    "  suma = 0\n",
    "  for i in arr:\n",
    "      suma += i\n",
    "      \n",
    "  # print(suma)\n",
    "  return suma\n",
    " elif oper == \"*\":\n",
    "  multi = 1\n",
    "  for i in arr:\n",
    "      multi *= i\n",
    "      \n",
    "  # print(multi)\n",
    "  return multi\n",
    " else:\n",
    "  return \"Watch out. This is not permitted\"\n",
    "\n",
    "#your code here\n",
    "\n",
    "oper_all([5,2,4,4],\"*\")"
   ]
  },
  {
   "cell_type": "code",
   "execution_count": 12,
   "metadata": {},
   "outputs": [
    {
     "name": "stderr",
     "output_type": "stream",
     "text": [
      "....................................................................................................\n",
      "----------------------------------------------------------------------\n",
      "Ran 100 tests in 0.123s\n",
      "\n",
      "OK\n"
     ]
    }
   ],
   "source": [
    "# This will test your function \n",
    "test_operations(oper_all)"
   ]
  },
  {
   "cell_type": "markdown",
   "metadata": {},
   "source": [
    "## 6. Write a function that returns the factorial of a number."
   ]
  },
  {
   "cell_type": "code",
   "execution_count": 13,
   "metadata": {},
   "outputs": [
    {
     "data": {
      "text/plain": [
       "120"
      ]
     },
     "execution_count": 13,
     "metadata": {},
     "output_type": "execute_result"
    }
   ],
   "source": [
    "def factorial(n):\n",
    "    x = 1\n",
    "    for i in range(1, n+1):\n",
    "     x *= i\n",
    "    # while n !=1:\n",
    "    #  multip = n * (n-1)\n",
    "    return x\n",
    "\n",
    "\n",
    " # for i in lst:\n",
    " #    multi *= i\n",
    "    \n",
    " # # print(multi)\n",
    " # return multi\n",
    " \n",
    " \n",
    "#your code here\n",
    "\n",
    "factorial(5)\n"
   ]
  },
  {
   "cell_type": "code",
   "execution_count": 14,
   "metadata": {},
   "outputs": [],
   "source": [
    "#factorial formula\n",
    "#n! = n * ( n - 1 ) *...*1\n",
    "\n",
    "# This code defines a function called \"factorial\" which takes an input \"n\". The function uses a for loop to iterate through the range of numbers \n",
    "# from 1 to n+1. For each number in that range, it multiplies the current value of x by the number in the range. At the end of the loop, \n",
    "# the function returns the final value of x, which will be the factorial of the input number \"n\".\n",
    "\n",
    "# The Factorial of a positive integer n is the product of all positive integers less than or equal to n. \n",
    "# For example, the factorial of 6 (written \"6!\") is 6 * 5 * 4 * 3 * 2 * 1 = 720.\n",
    "\n",
    "# So this function takes an input of any positive integer, and returns the factorial of that number."
   ]
  },
  {
   "cell_type": "code",
   "execution_count": 15,
   "metadata": {},
   "outputs": [
    {
     "name": "stderr",
     "output_type": "stream",
     "text": [
      "....................................................................................................\n",
      "----------------------------------------------------------------------\n",
      "Ran 100 tests in 0.067s\n",
      "\n",
      "OK\n"
     ]
    }
   ],
   "source": [
    "# This will test your function \n",
    "test_factorial(factorial)"
   ]
  },
  {
   "cell_type": "markdown",
   "metadata": {},
   "source": [
    "## 7. Write a function that takes a list and returns a list of the unique values.\n",
    "\n",
    "`NOTE: You cannot use set. 🤔`"
   ]
  },
  {
   "cell_type": "code",
   "execution_count": 16,
   "metadata": {},
   "outputs": [],
   "source": [
    "def unique(lst_un):\n",
    "    result = []\n",
    "    for i in lst_un:\n",
    "      if i not in result:\n",
    "         result.append(i)\n",
    "    \n",
    "         \n",
    "\n",
    "\n",
    "\n",
    "\n",
    "\n",
    "    return result\n",
    "#your code here"
   ]
  },
  {
   "cell_type": "code",
   "execution_count": 17,
   "metadata": {},
   "outputs": [
    {
     "name": "stderr",
     "output_type": "stream",
     "text": [
      "....................................................................................................\n",
      "----------------------------------------------------------------------\n",
      "Ran 100 tests in 0.042s\n",
      "\n",
      "OK\n"
     ]
    }
   ],
   "source": [
    "# This will test your function \n",
    "test_unique(unique)"
   ]
  },
  {
   "cell_type": "markdown",
   "metadata": {},
   "source": [
    "## 8. Write a function that returns the mode of a list, i.e.: the element that appears the most times.\n",
    "`NOTE: You should not use count... 🧐`"
   ]
  },
  {
   "cell_type": "code",
   "execution_count": 18,
   "metadata": {},
   "outputs": [
    {
     "data": {
      "text/plain": [
       "'print(mode_counter([\"Paris\", \"Berlin\", \"London\", \"London\", \"London\", \"Paris\"]))\\nprint(mode_counter([\"Paris\"]))\\nprint(mode_counter([1]))\\n'"
      ]
     },
     "execution_count": 18,
     "metadata": {},
     "output_type": "execute_result"
    }
   ],
   "source": [
    "def mode_counter(arr) :\n",
    "    dict_counter = {}\n",
    "    for element in arr:\n",
    "        if element not in dict_counter.keys():\n",
    "           dict_counter[element] = 1  \n",
    "        else:\n",
    "           dict_counter[element] += 1     \n",
    "    # return dict_counter\n",
    "\t # Find the element with the maximum count\n",
    "    mode = max(dict_counter, key=dict_counter.get)\n",
    "    return mode\n",
    "\t# for element in dict_counter:\n",
    "    \n",
    "#your code here\n",
    "\n",
    "\"\"\"print(mode_counter([\"Paris\", \"Berlin\", \"London\", \"London\", \"London\", \"Paris\"]))\n",
    "print(mode_counter([\"Paris\"]))\n",
    "print(mode_counter([1]))\n",
    "\"\"\"\n",
    "\n"
   ]
  },
  {
   "cell_type": "code",
   "execution_count": 19,
   "metadata": {},
   "outputs": [
    {
     "name": "stderr",
     "output_type": "stream",
     "text": [
      "....................................................................................................\n",
      "----------------------------------------------------------------------\n",
      "Ran 100 tests in 0.122s\n",
      "\n",
      "OK\n"
     ]
    }
   ],
   "source": [
    "# This will test your function \n",
    "test_mode(mode_counter)"
   ]
  },
  {
   "cell_type": "markdown",
   "metadata": {},
   "source": [
    "## 9. Write a function that calculates the standard deviation of a list.\n",
    "NOTE: Do not use any libraries or already built functions. 😉"
   ]
  },
  {
   "cell_type": "code",
   "execution_count": 20,
   "metadata": {},
   "outputs": [
    {
     "data": {
      "text/plain": [
       "1.8257418583505538"
      ]
     },
     "execution_count": 20,
     "metadata": {},
     "output_type": "execute_result"
    }
   ],
   "source": [
    "#your code here\n",
    "def st_dev(list_sd):\n",
    "    # first sum all the numbers.\n",
    "    total_sum = 0\n",
    "    count = 0\n",
    "    for num in list_sd:\n",
    "        total_sum += num\n",
    "        count += 1  # Manually count elements\n",
    "    # count numbers with len()?\n",
    "    mean = total_sum / count\n",
    "    # print(\"Mean:\",mean)\n",
    "    \n",
    "    squared_diffs_sum = 0\n",
    "    for num in list_sd:\n",
    "        diff = mean - num\n",
    "        squared_diff = diff ** 2\n",
    "        # print(squared_diff)\n",
    "     # Step 3: Calculate the variance\n",
    "        squared_diffs_sum += squared_diff  # Add to the sum of squared differences\n",
    "\n",
    "        variance = squared_diffs_sum / (count - 1)\n",
    "\t\n",
    "\t# Step 4: Calculate the standard deviation\n",
    "    std_deviation = variance ** 0.5  # Take the square root by raising to the power of 0.5\n",
    "    \n",
    "    return std_deviation\n",
    "\n",
    "st_dev([ 3, 2, 5, 6])\n"
   ]
  },
  {
   "cell_type": "code",
   "execution_count": 21,
   "metadata": {},
   "outputs": [
    {
     "name": "stderr",
     "output_type": "stream",
     "text": [
      "....................................................................................................\n",
      "----------------------------------------------------------------------\n",
      "Ran 100 tests in 0.061s\n",
      "\n",
      "OK\n"
     ]
    }
   ],
   "source": [
    "# This will test your function \n",
    "test_stdev(st_dev)"
   ]
  },
  {
   "cell_type": "markdown",
   "metadata": {},
   "source": [
    "## 10. Write a function to check if a string is a pangram, i.e.: if it contains all the letters of the alphabet at least once. Mind that the strings may contain characters that are not letters."
   ]
  },
  {
   "cell_type": "code",
   "execution_count": 22,
   "metadata": {},
   "outputs": [],
   "source": [
    "# Write your code HERE\n",
    "def pangram(string):\n",
    "\t# alphabet_set = {'a', 'b', 'c', 'd', 'e', 'f', 'g', 'h', 'i', 'j', 'k', 'l', 'm', 'n', 'o', 'p', 'q', 'r', 's', 't', 'u', 'v', 'w', 'x', 'y', 'z'}\n",
    "\talphabet_set = set('abcdefghijklmnopqrstuvwxyz')  # Correct way to create a set\n",
    "\n",
    "\tinput_string = string.lower()\n",
    "\tfor char in input_string:\n",
    "\t\tif char.isalpha() and char in alphabet_set :  # Combine checks using 'and'\n",
    "\t\t\talphabet_set.remove(char)\t\t\t# Remove the letter from the set\n",
    " \t\t\t# If alphabet_set is empty, we've seen every letter\n",
    "\treturn len(alphabet_set) == 0\n",
    "\n",
    "# Testing the function\n",
    "# print(pangram(\"The quick brown fox jumps over the lazy dog\"))  # Should return True\n",
    "\t\t\t\n"
   ]
  },
  {
   "cell_type": "code",
   "execution_count": 23,
   "metadata": {},
   "outputs": [
    {
     "name": "stderr",
     "output_type": "stream",
     "text": [
      "..............................\n",
      "----------------------------------------------------------------------\n",
      "Ran 30 tests in 0.008s\n",
      "\n",
      "OK\n"
     ]
    }
   ],
   "source": [
    "# This will test your function \n",
    "test_pangram(pangram)"
   ]
  },
  {
   "cell_type": "markdown",
   "metadata": {},
   "source": [
    "## 11. Write a function that receives a string of comma separated words and returns a string of comma separated words sorted alphabetically.\n",
    "\n",
    "`NOTE: You may use sorted but not split and definitely no join! 🤪`"
   ]
  },
  {
   "cell_type": "code",
   "execution_count": 47,
   "metadata": {},
   "outputs": [
    {
     "name": "stdout",
     "output_type": "stream",
     "text": [
      "ant,cat,zebra\n"
     ]
    },
    {
     "data": {
      "text/plain": [
       "'Input: \"zebra,ant,cat\"\\nShould become: \"ant,cat,zebra\"'"
      ]
     },
     "execution_count": 47,
     "metadata": {},
     "output_type": "execute_result"
    }
   ],
   "source": [
    "#your code here\n",
    "def sort_alpha(string):\n",
    "\tcomma_separated = string \n",
    "\twords = []\t\t# This will store complete words like [\"apple\", \"banana\"]\n",
    "\tcurrent_word = \"\" # Temporary string to build each word\n",
    "\tfor char in string:\n",
    "\t\tif char == \",\":\n",
    "            # When we hit a comma, save the current_word and reset it\n",
    "\t\t\twords.append(current_word)\n",
    "\t\t\tcurrent_word = \"\"\t# reset current_word after finding a comma!\n",
    "\t\telse:\n",
    "\t\t\tcurrent_word += char\n",
    "\t\n",
    "\t# Don't forget the last word after the last comma!\n",
    "\twords.append(current_word)\n",
    "\t# Now sort with sorted() as allowed\n",
    "\tsorted_words = sorted(words)\n",
    "\t# print(sorted_words)\n",
    "\n",
    "\t# Now iterate backwards and build the string\n",
    "\tsorted_string = \"\"\n",
    "\tis_first_word = True  # 🚩 Flag to track position\n",
    "\n",
    "\tfor char in sorted_words:\n",
    "\t\tif is_first_word:\n",
    "\t\t\tsorted_string += char\n",
    "\t\t\tis_first_word = False  # 📍 First word done!\n",
    "\t\telse:\n",
    "\t\t\tsorted_string += \",\" + char  # Add comma before word\n",
    "\n",
    "\treturn sorted_string\n",
    "\n",
    "\n",
    "\n",
    "print(sort_alpha(\"zebra,ant,cat\"))\n",
    "'''Input: \"zebra,ant,cat\"\n",
    "Should become: \"ant,cat,zebra\"'''\t"
   ]
  },
  {
   "cell_type": "code",
   "execution_count": 48,
   "metadata": {},
   "outputs": [
    {
     "name": "stderr",
     "output_type": "stream",
     "text": [
      "....................................................................................................\n",
      "----------------------------------------------------------------------\n",
      "Ran 100 tests in 0.035s\n",
      "\n",
      "OK\n"
     ]
    }
   ],
   "source": [
    "# This will test your function \n",
    "test_alpha(sort_alpha)"
   ]
  },
  {
   "cell_type": "markdown",
   "metadata": {},
   "source": [
    "## 12. Write a function to check if a given password is strong (at least 8 characters, at least one lower case, at least one upper case, at least one number and at least one special character). It should output True if strong and False if not."
   ]
  },
  {
   "cell_type": "code",
   "execution_count": 60,
   "metadata": {},
   "outputs": [
    {
     "name": "stdout",
     "output_type": "stream",
     "text": [
      "True\n",
      "False\n"
     ]
    }
   ],
   "source": [
    "#your code here\n",
    "def check_pass(password):\n",
    "    if len(password) < 8:\n",
    "        return False\n",
    "\t\n",
    "\t# Initialize flags for each requirement\n",
    "    has_lower = False\n",
    "    has_upper = False\n",
    "    has_digit = False\n",
    "    has_special = False\n",
    "    special_characters = \"!@#$%^&*()-_=+[{]}\\\\|;:'\\\",<.>/?`~\"\n",
    "\n",
    "\t# Iterate through each character in password\n",
    "    for char in password:\n",
    "        if char.islower():\n",
    "                has_lower = True\n",
    "        elif char.isupper():\n",
    "                has_upper = True\n",
    "        elif char.isdigit():\n",
    "                has_digit = True\n",
    "        elif char in special_characters:\n",
    "                has_special = True\n",
    "            \n",
    "\t# Check if all conditions for a strong password are true\n",
    "    return has_lower and has_upper and has_digit and has_special\n",
    "\n",
    "# Example usage:\n",
    "print(check_pass(\"Aa1!example\"))  # Should return True\n",
    "print(check_pass(\"weak\"))         # Should return False\n",
    "\n",
    "    \n",
    "        "
   ]
  },
  {
   "cell_type": "code",
   "execution_count": 61,
   "metadata": {},
   "outputs": [
    {
     "name": "stderr",
     "output_type": "stream",
     "text": [
      "....................................................................................................\n",
      "----------------------------------------------------------------------\n",
      "Ran 100 tests in 0.040s\n",
      "\n",
      "OK\n"
     ]
    }
   ],
   "source": [
    "# This will test your function \n",
    "test_pass(check_pass)"
   ]
  }
 ],
 "metadata": {
  "kernelspec": {
   "display_name": "base",
   "language": "python",
   "name": "python3"
  },
  "language_info": {
   "codemirror_mode": {
    "name": "ipython",
    "version": 3
   },
   "file_extension": ".py",
   "mimetype": "text/x-python",
   "name": "python",
   "nbconvert_exporter": "python",
   "pygments_lexer": "ipython3",
   "version": "3.12.7"
  }
 },
 "nbformat": 4,
 "nbformat_minor": 4
}
