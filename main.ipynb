{
 "cells": [
  {
   "cell_type": "markdown",
   "metadata": {},
   "source": [
    "# Functions"
   ]
  },
  {
   "cell_type": "markdown",
   "metadata": {},
   "source": [
    "On this lab we will put to practice some of the concepts we have learned on this past few days.\n",
    "\n",
    "`NOTE: On this lab you should try to write all the functions yourself using only the most basic of python syntax and without functions such as len, count, sum, max, min, in, etc. Give it a try. 🧑🏻‍💻👩🏻‍💻`\n",
    "\n",
    "The cell after each exercise contains a few tests to check if your function works as expected."
   ]
  },
  {
   "cell_type": "code",
   "execution_count": 2,
   "metadata": {},
   "outputs": [],
   "source": [
    "from mod.testing import *\n",
    "import unittest"
   ]
  },
  {
   "cell_type": "markdown",
   "metadata": {},
   "source": [
    "## 1. Write a function that returns the greater of two numbers"
   ]
  },
  {
   "cell_type": "code",
   "execution_count": 9,
   "metadata": {},
   "outputs": [],
   "source": [
    "def greater(a,b):\n",
    "#your code here\n",
    "    if a > b:\n",
    "        return a\n",
    "    if b > a:\n",
    "        return b"
   ]
  },
  {
   "cell_type": "code",
   "execution_count": 11,
   "metadata": {},
   "outputs": [
    {
     "name": "stderr",
     "output_type": "stream",
     "text": [
      "....................................................................................................\n",
      "----------------------------------------------------------------------\n",
      "Ran 100 tests in 0.037s\n",
      "\n",
      "OK\n"
     ]
    }
   ],
   "source": [
    "# This will test your function \n",
    "test_greater(greater)"
   ]
  },
  {
   "cell_type": "markdown",
   "metadata": {},
   "source": [
    "## 2. Now write a function that returns the largest element on a list"
   ]
  },
  {
   "cell_type": "code",
   "execution_count": 17,
   "metadata": {},
   "outputs": [],
   "source": [
    "#your code here\n",
    "def greatest(a_list):\n",
    "    largest = a_list[0]\n",
    "    for num in a_list:\n",
    "        if num > largest:\n",
    "            largest = num\n",
    "    return largest"
   ]
  },
  {
   "cell_type": "code",
   "execution_count": 19,
   "metadata": {},
   "outputs": [
    {
     "name": "stderr",
     "output_type": "stream",
     "text": [
      "....................................................................................................\n",
      "----------------------------------------------------------------------\n",
      "Ran 100 tests in 0.038s\n",
      "\n",
      "OK\n"
     ]
    }
   ],
   "source": [
    "# This will test your function \n",
    "test_greatest(greatest)"
   ]
  },
  {
   "cell_type": "markdown",
   "metadata": {},
   "source": [
    "## 3. Write a function that sums all the elements on a list"
   ]
  },
  {
   "cell_type": "code",
   "execution_count": 25,
   "metadata": {},
   "outputs": [],
   "source": [
    "def sum_all(lst):\n",
    "#your code here\n",
    "    lst_sum = 0\n",
    "    for num in lst:\n",
    "        lst_sum += num\n",
    "    return lst_sum"
   ]
  },
  {
   "cell_type": "code",
   "execution_count": 27,
   "metadata": {
    "scrolled": true
   },
   "outputs": [
    {
     "name": "stderr",
     "output_type": "stream",
     "text": [
      "....................................................................................................\n",
      "----------------------------------------------------------------------\n",
      "Ran 100 tests in 0.037s\n",
      "\n",
      "OK\n"
     ]
    }
   ],
   "source": [
    "# This will test your function \n",
    "test_sum(sum_all)"
   ]
  },
  {
   "cell_type": "markdown",
   "metadata": {},
   "source": [
    "## 4. Write another function that multiplies all the elements on a list"
   ]
  },
  {
   "cell_type": "code",
   "execution_count": 38,
   "metadata": {},
   "outputs": [],
   "source": [
    "def mult_all(lst):\n",
    "#your code here\n",
    "    lst_mult = 1\n",
    "    for num in lst:\n",
    "        lst_mult *= num\n",
    "    return lst_mult"
   ]
  },
  {
   "cell_type": "code",
   "execution_count": 40,
   "metadata": {
    "scrolled": true
   },
   "outputs": [
    {
     "name": "stderr",
     "output_type": "stream",
     "text": [
      "....................................................................................................\n",
      "----------------------------------------------------------------------\n",
      "Ran 100 tests in 0.040s\n",
      "\n",
      "OK\n"
     ]
    }
   ],
   "source": [
    "# This will test your function \n",
    "test_mult(mult_all)"
   ]
  },
  {
   "cell_type": "markdown",
   "metadata": {},
   "source": [
    "## 5. Now combine those two ideas and write a function that receives a list and either \"+\" or \"*\" and outputs acordingly"
   ]
  },
  {
   "cell_type": "code",
   "execution_count": 55,
   "metadata": {},
   "outputs": [],
   "source": [
    "def oper_all(arr, oper = \"*\"):\n",
    "#your code here\n",
    "    if oper == '*':\n",
    "        lst_mult = 1\n",
    "        for num in arr:\n",
    "            lst_mult *= num\n",
    "        return lst_mult\n",
    "    if oper == '+':\n",
    "        lst_sum = 0\n",
    "        for num in arr:\n",
    "            lst_sum += num\n",
    "        return lst_sum"
   ]
  },
  {
   "cell_type": "code",
   "execution_count": 57,
   "metadata": {},
   "outputs": [
    {
     "name": "stderr",
     "output_type": "stream",
     "text": [
      "....................................................................................................\n",
      "----------------------------------------------------------------------\n",
      "Ran 100 tests in 0.034s\n",
      "\n",
      "OK\n"
     ]
    }
   ],
   "source": [
    "# This will test your function \n",
    "test_operations(oper_all)"
   ]
  },
  {
   "cell_type": "markdown",
   "metadata": {},
   "source": [
    "## 6. Write a function that returns the factorial of a number."
   ]
  },
  {
   "cell_type": "code",
   "execution_count": 74,
   "metadata": {},
   "outputs": [],
   "source": [
    "def factorial(n):\n",
    "#your code here\n",
    "    fact = 1\n",
    "    for num in range(1, n+1):\n",
    "        fact *= num\n",
    "    return fact"
   ]
  },
  {
   "cell_type": "code",
   "execution_count": 76,
   "metadata": {},
   "outputs": [],
   "source": [
    "#factorial formula\n",
    "#n! = n * ( n - 1 ) *...*1\n",
    "\n",
    "# This code defines a function called \"factorial\" which takes an input \"n\". The function uses a for loop to iterate through the range of numbers \n",
    "# from 1 to n+1. For each number in that range, it multiplies the current value of x by the number in the range. At the end of the loop, \n",
    "# the function returns the final value of x, which will be the factorial of the input number \"n\".\n",
    "\n",
    "# The Factorial of a positive integer n is the product of all positive integers less than or equal to n. \n",
    "# For example, the factorial of 6 (written \"6!\") is 6 * 5 * 4 * 3 * 2 * 1 = 720.\n",
    "\n",
    "# So this function takes an input of any positive integer, and returns the factorial of that number."
   ]
  },
  {
   "cell_type": "code",
   "execution_count": 78,
   "metadata": {},
   "outputs": [
    {
     "name": "stderr",
     "output_type": "stream",
     "text": [
      "....................................................................................................\n",
      "----------------------------------------------------------------------\n",
      "Ran 100 tests in 0.039s\n",
      "\n",
      "OK\n"
     ]
    }
   ],
   "source": [
    "# This will test your function \n",
    "test_factorial(factorial)"
   ]
  },
  {
   "cell_type": "markdown",
   "metadata": {},
   "source": [
    "## 7. Write a function that takes a list and returns a list of the unique values.\n",
    "\n",
    "`NOTE: You cannot use set. 🤔`"
   ]
  },
  {
   "cell_type": "code",
   "execution_count": 89,
   "metadata": {},
   "outputs": [],
   "source": [
    "def unique(lst_un):\n",
    "#your code here\n",
    "    temp_list = []\n",
    "    for num in lst_un:\n",
    "        if num not in temp_list:\n",
    "            temp_list.append(num)\n",
    "    return temp_list"
   ]
  },
  {
   "cell_type": "code",
   "execution_count": 91,
   "metadata": {},
   "outputs": [
    {
     "name": "stderr",
     "output_type": "stream",
     "text": [
      "....................................................................................................\n",
      "----------------------------------------------------------------------\n",
      "Ran 100 tests in 0.078s\n",
      "\n",
      "OK\n"
     ]
    }
   ],
   "source": [
    "# This will test your function \n",
    "test_unique(unique)"
   ]
  },
  {
   "cell_type": "markdown",
   "metadata": {},
   "source": [
    "## 8. Write a function that returns the mode of a list, i.e.: the element that appears the most times.\n",
    "`NOTE: You should not use count... 🧐`"
   ]
  },
  {
   "cell_type": "code",
   "execution_count": 93,
   "metadata": {},
   "outputs": [],
   "source": [
    "def mode_counter(arr):\n",
    "#your code here\n",
    "    frequency = {}\n",
    "    \n",
    "    for num in arr:\n",
    "        if num in frequency:\n",
    "            frequency[num] += 1\n",
    "        else:\n",
    "            frequency[num] = 1\n",
    "\n",
    "    max_count = 0\n",
    "    for val in frequency.values():\n",
    "        if val > max_count:\n",
    "            max_count = val\n",
    "\n",
    "    mode = []\n",
    "    for key, val in frequency.items():\n",
    "        if val == max_count:\n",
    "            mode.append(key)\n",
    "\n",
    "    return mode[0] if len(mode) == 1 else mode"
   ]
  },
  {
   "cell_type": "code",
   "execution_count": 95,
   "metadata": {},
   "outputs": [
    {
     "name": "stderr",
     "output_type": "stream",
     "text": [
      "....................................................................................................\n",
      "----------------------------------------------------------------------\n",
      "Ran 100 tests in 0.040s\n",
      "\n",
      "OK\n"
     ]
    }
   ],
   "source": [
    "# This will test your function \n",
    "test_mode(mode_counter)"
   ]
  },
  {
   "cell_type": "markdown",
   "metadata": {},
   "source": [
    "## 9. Write a function that calculates the standard deviation of a list.\n",
    "`NOTE: Do not use any libraries or already built functions. 😉`"
   ]
  },
  {
   "cell_type": "code",
   "execution_count": 145,
   "metadata": {},
   "outputs": [],
   "source": [
    "def st_dev(list_sd):\n",
    "    total_sum = 0\n",
    "    n = 0\n",
    "    for num in list_sd:\n",
    "        total_sum += num\n",
    "        n += 1 \n",
    "    mean = total_sum / n\n",
    "\n",
    "    squared_diff_sum = 0\n",
    "    for num in list_sd:\n",
    "        squared_diff_sum += (num - mean) ** 2\n",
    "    variance = squared_diff_sum / (n - 1)\n",
    "\n",
    "    std = variance ** 0.5\n",
    "\n",
    "    return std"
   ]
  },
  {
   "cell_type": "code",
   "execution_count": 147,
   "metadata": {},
   "outputs": [
    {
     "name": "stderr",
     "output_type": "stream",
     "text": [
      "....................................................................................................\n",
      "----------------------------------------------------------------------\n",
      "Ran 100 tests in 0.039s\n",
      "\n",
      "OK\n"
     ]
    }
   ],
   "source": [
    "# This will test your function \n",
    "test_stdev(st_dev)"
   ]
  },
  {
   "cell_type": "markdown",
   "metadata": {},
   "source": [
    "## 10. Write a function to check if a string is a pangram, i.e.: if it contains all the letters of the alphabet at least once. Mind that the strings may contain characters that are not letters."
   ]
  },
  {
   "cell_type": "code",
   "execution_count": 198,
   "metadata": {},
   "outputs": [],
   "source": [
    "def pangram(string):\n",
    "#your code here\n",
    "    alphabet = \"abcdefghijklmnopqrstuvwxyz\"\n",
    "    string = string.lower()\n",
    "\n",
    "    for letter in alphabet:\n",
    "        if letter not in string:\n",
    "            return False  \n",
    "\n",
    "    return True  "
   ]
  },
  {
   "cell_type": "code",
   "execution_count": 200,
   "metadata": {},
   "outputs": [
    {
     "name": "stderr",
     "output_type": "stream",
     "text": [
      "..............................\n",
      "----------------------------------------------------------------------\n",
      "Ran 30 tests in 0.009s\n",
      "\n",
      "OK\n"
     ]
    }
   ],
   "source": [
    "# This will test your function \n",
    "test_pangram(pangram)"
   ]
  },
  {
   "cell_type": "markdown",
   "metadata": {},
   "source": [
    "## 11. Write a function that receives a string of comma separated words and returns a string of comma separated words sorted alphabetically.\n",
    "\n",
    "`NOTE: You may use sorted but not split and definitely no join! 🤪`"
   ]
  },
  {
   "cell_type": "code",
   "execution_count": 182,
   "metadata": {},
   "outputs": [],
   "source": [
    "def sort_alpha(string):\n",
    "#your code here\n",
    "    word_list = []\n",
    "    current_word = ''\n",
    "    for char in string:\n",
    "        if char == ',':\n",
    "            word_list.append(current_word.strip())  # Add the word without leading/trailing spaces\n",
    "            current_word = ''\n",
    "        else:\n",
    "            current_word += char\n",
    "            \n",
    "    word_list.append(current_word.strip())\n",
    "\n",
    "    for i in range(len(word_list) - 1):\n",
    "        for k in range(i + 1, len(word_list)):\n",
    "             if word_list[i] > word_list[k]:\n",
    "                word_list[i], word_list[k] = word_list[k], word_list[i]\n",
    "\n",
    "    sorted_string = \"\"\n",
    "    for i in range(len(word_list)):\n",
    "        sorted_string += word_list[i]\n",
    "        if i != len(word_list) - 1:  \n",
    "            sorted_string += \",\"\n",
    "\n",
    "    return sorted_string"
   ]
  },
  {
   "cell_type": "code",
   "execution_count": 184,
   "metadata": {},
   "outputs": [
    {
     "name": "stderr",
     "output_type": "stream",
     "text": [
      "....................................................................................................\n",
      "----------------------------------------------------------------------\n",
      "Ran 100 tests in 0.041s\n",
      "\n",
      "OK\n"
     ]
    }
   ],
   "source": [
    "# This will test your function \n",
    "test_alpha(sort_alpha)"
   ]
  },
  {
   "cell_type": "markdown",
   "metadata": {},
   "source": [
    "## 12. Write a function to check if a given password is strong (at least 8 characters, at least one lower case, at least one upper case, at least one number and at least one special character). It should output True if strong and False if not."
   ]
  },
  {
   "cell_type": "code",
   "execution_count": 232,
   "metadata": {
    "scrolled": true
   },
   "outputs": [
    {
     "name": "stderr",
     "output_type": "stream",
     "text": [
      "<>:3: SyntaxWarning: invalid escape sequence '\\|'\n",
      "<>:3: SyntaxWarning: invalid escape sequence '\\|'\n",
      "C:\\Users\\andre\\AppData\\Local\\Temp\\ipykernel_60196\\1006283800.py:3: SyntaxWarning: invalid escape sequence '\\|'\n",
      "  special_char = \"~!@#$%^&*()-_+={}[]\\|\\\\:;<>,./?\"\n"
     ]
    }
   ],
   "source": [
    "def check_pass(password):\n",
    "#your code here\n",
    "    special_char = \"~!@#$%^&*()-_+={}[]\\|\\\\:;<>,./?\"\n",
    "    alphabet_lower = \"abcdefghijklmnopqrstuvwxyz\"\n",
    "    alphabet_upper = \"ABCDEFGHIJKLMNOPQRSTUVWXYZ\"\n",
    "    digits = \"0123456789\"\n",
    "    \n",
    "    has_lower = False\n",
    "    has_upper = False\n",
    "    has_digit = False\n",
    "    has_special = False\n",
    "    \n",
    "    if len(password) < 8:\n",
    "        return False\n",
    "\n",
    "    for char in password:\n",
    "        for lower in alphabet_lower:\n",
    "            if char == lower:\n",
    "                has_lower = True\n",
    "                break\n",
    "\n",
    "        for upper in alphabet_upper:\n",
    "            if char == upper:\n",
    "                has_upper = True\n",
    "                break\n",
    "\n",
    "        for digit in digits:\n",
    "            if char == digit:\n",
    "                has_digit = True\n",
    "                break\n",
    "\n",
    "        for special in special_char:\n",
    "            if char == special:\n",
    "                has_special = True\n",
    "                break\n",
    "\n",
    "    return has_lower and has_upper and has_digit and has_special\n",
    "\n",
    "    \n",
    "    "
   ]
  },
  {
   "cell_type": "code",
   "execution_count": 234,
   "metadata": {},
   "outputs": [
    {
     "name": "stderr",
     "output_type": "stream",
     "text": [
      "....................................................................................................\n",
      "----------------------------------------------------------------------\n",
      "Ran 100 tests in 0.038s\n",
      "\n",
      "OK\n"
     ]
    }
   ],
   "source": [
    "# This will test your function \n",
    "test_pass(check_pass)"
   ]
  },
  {
   "cell_type": "code",
   "execution_count": null,
   "metadata": {},
   "outputs": [],
   "source": []
  }
 ],
 "metadata": {
  "kernelspec": {
   "display_name": "Python 3 (ipykernel)",
   "language": "python",
   "name": "python3"
  },
  "language_info": {
   "codemirror_mode": {
    "name": "ipython",
    "version": 3
   },
   "file_extension": ".py",
   "mimetype": "text/x-python",
   "name": "python",
   "nbconvert_exporter": "python",
   "pygments_lexer": "ipython3",
   "version": "3.12.7"
  },
  "vscode": {
   "interpreter": {
    "hash": "aee8b7b246df8f9039afb4144a1f6fd8d2ca17a180786b69acc140d282b71a49"
   }
  }
 },
 "nbformat": 4,
 "nbformat_minor": 4
}
