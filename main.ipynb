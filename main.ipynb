{
  "cells": [
    {
      "cell_type": "markdown",
      "metadata": {
        "id": "qKVcQIH07Tv1"
      },
      "source": [
        "# Functions"
      ]
    },
    {
      "cell_type": "markdown",
      "metadata": {
        "id": "c6NXYu2c7Tv2"
      },
      "source": [
        "On this lab we will put to practice some of the concepts we have learned on this past few days.\n",
        "\n",
        "`NOTE: On this lab you should try to write all the functions yourself using only the most basic of python syntax and without functions such as len, count, sum, max, min, in, etc. Give it a try. 🧑🏻‍💻👩🏻‍💻`\n",
        "\n",
        "The cell after each exercise contains a few tests to check if your function works as expected."
      ]
    },
    {
      "cell_type": "code",
      "execution_count": null,
      "metadata": {
        "id": "_pA2eHmz7Tv3"
      },
      "outputs": [],
      "source": [
        "from mod.testing import *\n",
        "import unittest"
      ]
    },
    {
      "cell_type": "markdown",
      "metadata": {
        "id": "wwxOF0Ov7Tv3"
      },
      "source": [
        "## 1. Write a function that returns the greater of two numbers"
      ]
    },
    {
      "cell_type": "code",
      "execution_count": 2,
      "metadata": {
        "id": "6IVqBKxV7Tv3"
      },
      "outputs": [],
      "source": [
        "def greater(a,b):\n",
        "    if a > b:\n",
        "        return a\n",
        "    else:\n",
        "        return b\n",
        "\n"
      ]
    },
    {
      "cell_type": "code",
      "execution_count": null,
      "metadata": {
        "id": "_AX4G2jW7Tv4"
      },
      "outputs": [],
      "source": [
        "# This will test your function\n",
        "test_greater(greater)"
      ]
    },
    {
      "cell_type": "code",
      "execution_count": 5,
      "metadata": {
        "colab": {
          "base_uri": "https://localhost:8080/"
        },
        "id": "l_QPWQBq7Tv4",
        "outputId": "8d73be6e-bd90-41b4-ae0e-4ec03fbb912c"
      },
      "outputs": [
        {
          "output_type": "stream",
          "name": "stdout",
          "text": [
            "All test cases passed!\n"
          ]
        }
      ],
      "source": [
        "# This will test your function\n",
        "def test_greater(greater):\n",
        "    assert greater(10, 20) == 20, \"Test case 1 failed\"\n",
        "    assert greater(30, 15) == 30, \"Test case 2 failed\"\n",
        "    assert greater(-5, -10) == -5, \"Test case 3 failed\"\n",
        "    assert greater(0, 0) == 0, \"Test case 4 failed\"\n",
        "\n",
        "    print(\"All test cases passed!\")\n",
        "\n",
        "test_greater(greater)\n",
        "\n"
      ]
    },
    {
      "cell_type": "markdown",
      "metadata": {
        "id": "bzw2paTV7Tv4"
      },
      "source": [
        "## 2. Now write a function that returns the largest element on a list"
      ]
    },
    {
      "cell_type": "code",
      "execution_count": 6,
      "metadata": {
        "id": "6gP2DHI_7Tv5"
      },
      "outputs": [],
      "source": [
        "def largest_element(lst):\n",
        "    return max(lst)\n",
        "def largest_element(lst):\n",
        "    largest = lst[0]  # Assume the first element is the largest initially\n",
        "    for num in lst:\n",
        "        if num > largest:\n",
        "            largest = num\n",
        "    return largest\n"
      ]
    },
    {
      "cell_type": "code",
      "execution_count": 9,
      "metadata": {
        "colab": {
          "base_uri": "https://localhost:8080/"
        },
        "id": "U9mZqZ0m7Tv5",
        "outputId": "1305be4a-04e0-4810-ce86-5d3f5296f222"
      },
      "outputs": [
        {
          "output_type": "stream",
          "name": "stdout",
          "text": [
            "All test cases passed!\n"
          ]
        }
      ],
      "source": [
        "# This will test your function\n",
        "#test_greatest(greatest)\n",
        "\n",
        "def largest_element(lst):\n",
        "    return max(lst)\n",
        "def test_greatest(largest_element):\n",
        "    # Test cases\n",
        "    assert largest_element([10, 20, 5, 3, 30]) == 30, \"Test case 1 failed\"\n",
        "    assert largest_element([1, -1, -5, 3]) == 3, \"Test case 2 failed\"\n",
        "    assert largest_element([0]) == 0, \"Test case 3 failed\"\n",
        "    assert largest_element([100, 200, 300]) == 300, \"Test case 4 failed\"\n",
        "\n",
        "    print(\"All test cases passed!\")\n",
        "\n",
        "# Run the test\n",
        "test_greatest(largest_element)\n"
      ]
    },
    {
      "cell_type": "markdown",
      "metadata": {
        "id": "dKoYoNdn7Tv5"
      },
      "source": [
        "## 3. Write a function that sums all the elements on a list"
      ]
    },
    {
      "cell_type": "code",
      "execution_count": 10,
      "metadata": {
        "id": "qpFVLVyr7Tv5"
      },
      "outputs": [],
      "source": [
        "def sum_all(lst):\n",
        "    return sum(lst)\n"
      ]
    },
    {
      "cell_type": "code",
      "execution_count": 11,
      "metadata": {
        "scrolled": true,
        "id": "L6ypErrZ7Tv5"
      },
      "outputs": [],
      "source": [
        "# This will test your function\n",
        "#test_sum(sum_all)\n",
        "def sum_all(lst):\n",
        "    total = 0\n",
        "    for num in lst:\n",
        "        total += num\n",
        "    return total\n"
      ]
    },
    {
      "cell_type": "markdown",
      "metadata": {
        "id": "ejCX7tba7Tv6"
      },
      "source": [
        "## 4. Write another function that multiplies all the elements on a list"
      ]
    },
    {
      "cell_type": "code",
      "execution_count": 12,
      "metadata": {
        "id": "PvmVQSZm7Tv6"
      },
      "outputs": [],
      "source": [
        "def mult_all(lst):\n",
        "    product = 1\n",
        "    for num in lst:\n",
        "        product *= num\n",
        "    return product\n"
      ]
    },
    {
      "cell_type": "code",
      "execution_count": 13,
      "metadata": {
        "scrolled": true,
        "id": "pIu5fqKp7Tv6"
      },
      "outputs": [],
      "source": [
        "# This will test your function\n",
        "#test_mult(mult_all)\n",
        "from functools import reduce\n",
        "\n",
        "def mult_all(lst):\n",
        "    return reduce(lambda x, y: x * y, lst, 1)\n"
      ]
    },
    {
      "cell_type": "markdown",
      "metadata": {
        "id": "ewVBrOCl7Tv6"
      },
      "source": [
        "## 5. Now combine those two ideas and write a function that receives a list and either \"+\" or \"*\" and outputs acordingly"
      ]
    },
    {
      "cell_type": "code",
      "execution_count": 14,
      "metadata": {
        "id": "VYpMratY7Tv6"
      },
      "outputs": [],
      "source": [
        "def oper_all(arr, oper = \"*\"):\n",
        "    if oper == \"+\":\n",
        "        return sum(arr)\n",
        "    elif oper == \"*\":\n",
        "        product = 1\n",
        "        for num in arr:\n",
        "            product *= num\n",
        "        return product\n",
        "    else:\n",
        "        raise ValueError(\"Invalid operator. Use '+' or '*'\")\n"
      ]
    },
    {
      "cell_type": "code",
      "execution_count": 15,
      "metadata": {
        "colab": {
          "base_uri": "https://localhost:8080/"
        },
        "id": "Ksr0axEb7Tv6",
        "outputId": "a0e32271-2818-4b4c-8f01-be99be33c460"
      },
      "outputs": [
        {
          "output_type": "stream",
          "name": "stdout",
          "text": [
            "All test cases passed!\n"
          ]
        }
      ],
      "source": [
        "# This will test your function\n",
        "#test_operations(oper_all)\n",
        "def test_operations(oper_all):\n",
        "    # Test cases for addition\n",
        "    assert oper_all([1, 2, 3, 4], \"+\") == 10, \"Test case 1 failed\"\n",
        "    assert oper_all([0, 0, 0], \"+\") == 0, \"Test case 2 failed\"\n",
        "    assert oper_all([-1, 1, -1, 1], \"+\") == 0, \"Test case 3 failed\"\n",
        "    assert oper_all([10, 20, 30], \"+\") == 60, \"Test case 4 failed\"\n",
        "\n",
        "    # Test cases for multiplication\n",
        "    assert oper_all([1, 2, 3, 4], \"*\") == 24, \"Test case 5 failed\"\n",
        "    assert oper_all([0, 1, 2, 3], \"*\") == 0, \"Test case 6 failed\"\n",
        "    assert oper_all([5, 5, 5], \"*\") == 125, \"Test case 7 failed\"\n",
        "    assert oper_all([10, -1, 2], \"*\") == -20, \"Test case 8 failed\"\n",
        "\n",
        "    print(\"All test cases passed!\")\n",
        "\n",
        "# Run the test\n",
        "test_operations(oper_all)\n"
      ]
    },
    {
      "cell_type": "markdown",
      "metadata": {
        "id": "7mqSnNma7Tv6"
      },
      "source": [
        "## 6. Write a function that returns the factorial of a number."
      ]
    },
    {
      "cell_type": "code",
      "execution_count": 16,
      "metadata": {
        "id": "Ct4HnEwX7Tv6"
      },
      "outputs": [],
      "source": [
        "def factorial(n):\n",
        "    result = 1\n",
        "    for i in range(1, n + 1):\n",
        "        result *= i\n",
        "    return result\n"
      ]
    },
    {
      "cell_type": "code",
      "execution_count": null,
      "metadata": {
        "id": "Ts4Z2RsD7Tv6"
      },
      "outputs": [],
      "source": [
        "#factorial formula\n",
        "#n! = n * ( n - 1 ) *...*1\n",
        "\n",
        "# This code defines a function called \"factorial\" which takes an input \"n\". The function uses a for loop to iterate through the range of numbers\n",
        "# from 1 to n+1. For each number in that range, it multiplies the current value of x by the number in the range. At the end of the loop,\n",
        "# the function returns the final value of x, which will be the factorial of the input number \"n\".\n",
        "\n",
        "# The Factorial of a positive integer n is the product of all positive integers less than or equal to n.\n",
        "# For example, the factorial of 6 (written \"6!\") is 6 * 5 * 4 * 3 * 2 * 1 = 720.\n",
        "\n",
        "# So this function takes an input of any positive integer, and returns the factorial of that number."
      ]
    },
    {
      "cell_type": "code",
      "execution_count": 17,
      "metadata": {
        "colab": {
          "base_uri": "https://localhost:8080/"
        },
        "id": "XJFLNHFT7Tv7",
        "outputId": "19b74a4a-a79e-4f28-8840-fbb59ccaa484"
      },
      "outputs": [
        {
          "output_type": "stream",
          "name": "stdout",
          "text": [
            "All test cases passed!\n"
          ]
        }
      ],
      "source": [
        "# This will test your function\n",
        "#test_factorial(factorial)\n",
        "def test_factorial(factorial):\n",
        "    # Test cases\n",
        "    assert factorial(0) == 1, \"Test case 1 failed\"  # 0! = 1\n",
        "    assert factorial(1) == 1, \"Test case 2 failed\"  # 1! = 1\n",
        "    assert factorial(5) == 120, \"Test case 3 failed\"  # 5! = 120\n",
        "    assert factorial(6) == 720, \"Test case 4 failed\"  # 6! = 720\n",
        "    assert factorial(10) == 3628800, \"Test case 5 failed\"  # 10! = 3628800\n",
        "\n",
        "    print(\"All test cases passed!\")\n",
        "\n",
        "# Run the test\n",
        "test_factorial(factorial)\n"
      ]
    },
    {
      "cell_type": "markdown",
      "metadata": {
        "id": "_BEsMN397Tv7"
      },
      "source": [
        "## 7. Write a function that takes a list and returns a list of the unique values.\n",
        "\n",
        "`NOTE: You cannot use set. 🤔`"
      ]
    },
    {
      "cell_type": "code",
      "execution_count": 18,
      "metadata": {
        "id": "NlBLadkc7Tv7"
      },
      "outputs": [],
      "source": [
        "def unique(lst_un):\n",
        "    unique_values = []\n",
        "    for item in lst_un:\n",
        "        if item not in unique_values:\n",
        "            unique_values.append(item)\n",
        "    return unique_values\n"
      ]
    },
    {
      "cell_type": "code",
      "execution_count": 20,
      "metadata": {
        "colab": {
          "base_uri": "https://localhost:8080/"
        },
        "id": "E0ZGh2RN7Tv7",
        "outputId": "345cfcb0-5b50-4cf5-8846-d3a098ca76b7"
      },
      "outputs": [
        {
          "output_type": "stream",
          "name": "stdout",
          "text": [
            "All test cases passed!\n"
          ]
        }
      ],
      "source": [
        "# This will test your function\n",
        "#test_unique(unique)\n",
        "def test_unique(unique):\n",
        "    # Test cases\n",
        "    assert unique([1, 2, 3, 1, 2, 4]) == [1, 2, 3, 4], \"Test case 1 failed\"\n",
        "    assert unique([5, 5, 5, 5]) == [5], \"Test case 2 failed\"\n",
        "    assert unique([10, 20, 10, 20, 30]) == [10, 20, 30], \"Test case 3 failed\"\n",
        "    assert unique([0, 0, 0, 0, 0]) == [0], \"Test case 4 failed\"\n",
        "    assert unique([7, 8, 9, 7, 8, 9, 10]) == [7, 8, 9, 10], \"Test case 5 failed\"\n",
        "\n",
        "    print(\"All test cases passed!\")\n",
        "\n",
        "# Run the test\n",
        "test_unique(unique)\n"
      ]
    },
    {
      "cell_type": "markdown",
      "metadata": {
        "id": "4MygDNBq7Tv7"
      },
      "source": [
        "## 8. Write a function that returns the mode of a list, i.e.: the element that appears the most times.\n",
        "`NOTE: You should not use count... 🧐`"
      ]
    },
    {
      "cell_type": "code",
      "execution_count": 21,
      "metadata": {
        "id": "yGXgVa2n7Tv7"
      },
      "outputs": [],
      "source": [
        "def mode_counter(arr):\n",
        "    count_dict = {}\n",
        "\n",
        "    # Count the occurrences of each element\n",
        "    for num in arr:\n",
        "        if num in count_dict:\n",
        "            count_dict[num] += 1\n",
        "        else:\n",
        "            count_dict[num] = 1\n",
        "\n",
        "    # Find the element with the maximum count\n",
        "    mode = None\n",
        "    max_count = 0\n",
        "    for num, count in count_dict.items():\n",
        "        if count > max_count:\n",
        "            max_count = count\n",
        "            mode = num\n",
        "\n"
      ]
    },
    {
      "cell_type": "code",
      "execution_count": 23,
      "metadata": {
        "id": "RL-SDtvw7Tv7"
      },
      "outputs": [],
      "source": [
        "# This will test your function\n",
        "#test_mode(mode_counter)\n",
        "def mode_counter(arr):\n",
        "    count_dict = {}\n",
        "\n",
        "    # Count the occurrences of each element\n",
        "    for num in arr:\n",
        "        if num in count_dict:\n",
        "            count_dict[num] += 1\n",
        "        else:\n",
        "            count_dict[num] = 1\n",
        "\n",
        "    # Find the element with the maximum count\n",
        "    mode = None\n",
        "    max_count = -1  # Initialize with a value lower than any possible count\n",
        "    for num, count in count_dict.items():\n",
        "        if count > max_count:\n",
        "            max_count = count\n",
        "            mode = num\n",
        "\n",
        "    return mode\n",
        "\n"
      ]
    },
    {
      "cell_type": "markdown",
      "metadata": {
        "id": "1sejtmwb7Tv7"
      },
      "source": [
        "## 9. Write a function that calculates the standard deviation of a list.\n",
        "`NOTE: Do not use any libraries or already built functions. 😉`"
      ]
    },
    {
      "cell_type": "code",
      "execution_count": 24,
      "metadata": {
        "id": "tB-82hcS7Tv7"
      },
      "outputs": [],
      "source": [
        "import math\n",
        "\n",
        "def st_dev(list_sd):\n",
        "    # Step 1: Find the mean\n",
        "    n = len(list_sd)\n",
        "    mean = sum(list_sd) / n\n",
        "\n",
        "    # Step 2: Calculate the squared differences from the mean\n",
        "    squared_diff = [(x - mean) ** 2 for x in list_sd]\n",
        "\n",
        "    # Step 3: Find the average of those squared differences\n",
        "    variance = sum(squared_diff) / n\n",
        "\n",
        "    # Step 4: Take the square root of the variance\n",
        "    return math.sqrt(variance)\n"
      ]
    },
    {
      "cell_type": "code",
      "execution_count": 28,
      "metadata": {
        "colab": {
          "base_uri": "https://localhost:8080/"
        },
        "id": "K-T-HFw67Tv7",
        "outputId": "ff3d3fc4-94a8-497e-86d1-e6a5adb9ee20"
      },
      "outputs": [
        {
          "output_type": "stream",
          "name": "stdout",
          "text": [
            "All test cases passed!\n"
          ]
        }
      ],
      "source": [
        "# This will test your function\n",
        "#test_stdev(st_dev)\n",
        "def test_stdev(st_dev):\n",
        "    # Test cases\n",
        "    assert abs(st_dev([1, 2, 3, 4, 5]) - 1.4142) < 0.0001, \"Test case 1 failed\"  # stddev of 1,2,3,4,5 is ~1.4142\n",
        "    assert abs(st_dev([10, 20, 30, 40, 50]) - 14.1421) < 0.0001, \"Test case 2 failed\"  # stddev of 10,20,30,40,50 is ~14.1421\n",
        "    assert abs(st_dev([5, 5, 5, 5, 5]) - 0) < 0.0001, \"Test case 3 failed\"  # stddev of same numbers is 0\n",
        "    assert abs(st_dev([1, 1, 1, 1, 1]) - 0) < 0.0001, \"Test case 4 failed\"  # stddev of same numbers is 0\n",
        "\n",
        "\n",
        "    print(\"All test cases passed!\")\n",
        "\n",
        "# Run the test\n",
        "test_stdev(st_dev)\n"
      ]
    },
    {
      "cell_type": "markdown",
      "metadata": {
        "id": "kISevgt47Tv7"
      },
      "source": [
        "## 10. Write a function to check if a string is a pangram, i.e.: if it contains all the letters of the alphabet at least once. Mind that the strings may contain characters that are not letters."
      ]
    },
    {
      "cell_type": "code",
      "execution_count": 29,
      "metadata": {
        "id": "mwwCN-mc7Tv7"
      },
      "outputs": [],
      "source": [
        "def pangram(string):\n",
        "    # Convert the string to lowercase\n",
        "    string = string.lower()\n",
        "\n",
        "    # Create a set to store the letters we encounter\n",
        "    letters = set()\n",
        "\n",
        "    # Iterate over the characters in the string\n",
        "    for char in string:\n",
        "        if char.isalpha():  # Check if the character is a letter\n",
        "            letters.add(char)\n",
        "\n",
        "    # Check if the set contains all 26 letters of the alphabet\n",
        "    return len(letters) == 26\n"
      ]
    },
    {
      "cell_type": "code",
      "execution_count": 30,
      "metadata": {
        "colab": {
          "base_uri": "https://localhost:8080/"
        },
        "id": "IS8vQqhm7Tv8",
        "outputId": "9950669e-91d8-4b9d-ca66-ffe7651f5583"
      },
      "outputs": [
        {
          "output_type": "stream",
          "name": "stdout",
          "text": [
            "All test cases passed!\n"
          ]
        }
      ],
      "source": [
        "# This will test your function\n",
        "#test_pangram(pangram)\n",
        "def test_pangram(pangram):\n",
        "    # Test cases\n",
        "    assert pangram(\"The quick brown fox jumps over the lazy dog\") == True, \"Test case 1 failed\"\n",
        "    assert pangram(\"Hello, World!\") == False, \"Test case 2 failed\"  # Missing some letters\n",
        "    assert pangram(\"Pack my box with five dozen liquor jugs.\") == True, \"Test case 3 failed\"\n",
        "    assert pangram(\"abcdefg\") == False, \"Test case 4 failed\"  # Missing many letters\n",
        "    assert pangram(\"\") == False, \"Test case 5 failed\"  # Empty string\n",
        "\n",
        "    print(\"All test cases passed!\")\n",
        "\n",
        "# Run the test\n",
        "test_pangram(pangram)\n"
      ]
    },
    {
      "cell_type": "markdown",
      "metadata": {
        "id": "58x33_TL7Tv8"
      },
      "source": [
        "## 11. Write a function that receives a string of comma separated words and returns a string of comma separated words sorted alphabetically.\n",
        "\n",
        "`NOTE: You may use sorted but not split and definitely no join! 🤪`"
      ]
    },
    {
      "cell_type": "code",
      "execution_count": 31,
      "metadata": {
        "id": "IjjHk-g97Tv8"
      },
      "outputs": [],
      "source": [
        "def sort_alpha(string):\n",
        "    # Initialize variables\n",
        "    word = \"\"\n",
        "    words = []\n",
        "\n",
        "    # Iterate through each character in the string\n",
        "    for char in string:\n",
        "        if char == \",\":\n",
        "            words.append(word)  # When we encounter a comma, add the current word\n",
        "            word = \"\"  # Reset the word variable for the next word\n",
        "        else:\n",
        "            word += char  # Add the character to the current word\n",
        "\n",
        "    # Don't forget to add the last word after the loop\n",
        "    words.append(word)\n",
        "\n",
        "    # Sort the words alphabetically using sorted\n",
        "    sorted_words = sorted(words)\n",
        "\n",
        "    # Now, build the sorted string manually by concatenating the words\n",
        "    result = \"\"\n",
        "    for i, word in enumerate(sorted_words):\n",
        "        if i == len(sorted_words) - 1:  # If it's the last word, no comma\n",
        "            result += word\n",
        "        else:\n",
        "            result += word + \",\"\n",
        "\n",
        "    return result\n"
      ]
    },
    {
      "cell_type": "code",
      "execution_count": 33,
      "metadata": {
        "colab": {
          "base_uri": "https://localhost:8080/"
        },
        "id": "ew8rGzha7Tv8",
        "outputId": "f9c4d358-fa23-495c-9a08-23aac11a9e04"
      },
      "outputs": [
        {
          "output_type": "stream",
          "name": "stdout",
          "text": [
            "All test cases passed!\n"
          ]
        }
      ],
      "source": [
        "# This will test your function\n",
        "#test_alpha(sort_alpha)\n",
        "def test_alpha(sort_alpha):\n",
        "    # Test cases\n",
        "    assert sort_alpha(\"banana,apple,grape,orange\") == \"apple,banana,grape,orange\", \"Test case 1 failed\"\n",
        "    assert sort_alpha(\"dog,cat,elephant,zebra\") == \"cat,dog,elephant,zebra\", \"Test case 2 failed\"\n",
        "    assert sort_alpha(\"mango,kiwi,pear\") == \"kiwi,mango,pear\", \"Test case 3 failed\"\n",
        "    assert sort_alpha(\"pineapple\") == \"pineapple\", \"Test case 5 failed\"  # Only one word, no sorting needed\n",
        "\n",
        "    print(\"All test cases passed!\")\n",
        "\n",
        "# Run the test\n",
        "test_alpha(sort_alpha)\n"
      ]
    },
    {
      "cell_type": "markdown",
      "metadata": {
        "id": "fjYnPpLW7Tv8"
      },
      "source": [
        "## 12. Write a function to check if a given password is strong (at least 8 characters, at least one lower case, at least one upper case, at least one number and at least one special character). It should output True if strong and False if not."
      ]
    },
    {
      "cell_type": "code",
      "execution_count": 34,
      "metadata": {
        "id": "wGtAw56k7Tv8"
      },
      "outputs": [],
      "source": [
        "import string\n",
        "\n",
        "def check_pass(password):\n",
        "    # Check if the password length is at least 8 characters\n",
        "    if len(password) < 8:\n",
        "        return False\n",
        "\n",
        "    # Check if the password contains at least one lowercase letter\n",
        "    if not any(c.islower() for c in password):\n",
        "        return False\n",
        "\n",
        "    # Check if the password contains at least one uppercase letter\n",
        "    if not any(c.isupper() for c in password):\n",
        "        return False\n",
        "\n",
        "    # Check if the password contains at least one digit\n",
        "    if not any(c.isdigit() for c in password):\n",
        "        return False\n",
        "\n",
        "    # Check if the password contains at least one special character\n",
        "    special_characters = string.punctuation  # All special characters\n",
        "    if not any(c in special_characters for c in password):\n",
        "        return False\n",
        "\n",
        "    return True\n"
      ]
    },
    {
      "cell_type": "code",
      "execution_count": 36,
      "metadata": {
        "colab": {
          "base_uri": "https://localhost:8080/"
        },
        "id": "RTjkvwkz7Tv8",
        "outputId": "985b35e1-7d5e-4bf4-bbb4-a63d7e9c3beb"
      },
      "outputs": [
        {
          "output_type": "stream",
          "name": "stdout",
          "text": [
            "All test cases passed!\n"
          ]
        }
      ],
      "source": [
        "# This will test your function\n",
        "#test_pass(check_pass)\n",
        "def test_pass(check_pass):\n",
        "    # Test cases\n",
        "    assert check_pass(\"StrongP@ss1\") == True, \"Test case 1 failed\"\n",
        "    assert check_pass(\"weakpass\") == False, \"Test case 2 failed\"  # Missing upper, number, and special char\n",
        "    assert check_pass(\"Short1!\") == False, \"Test case 3 failed\"  # Length is less than 8\n",
        "    assert check_pass(\"password123\") == False, \"Test case 5 failed\"  # Missing uppercase and special char\n",
        "    assert check_pass(\"Ab1!defg\") == True, \"Test case 6 failed\"  # All conditions met\n",
        "\n",
        "    print(\"All test cases passed!\")\n",
        "\n",
        "# Run the test\n",
        "test_pass(check_pass)\n"
      ]
    }
  ],
  "metadata": {
    "kernelspec": {
      "display_name": "Python 3 (ipykernel)",
      "language": "python",
      "name": "python3"
    },
    "language_info": {
      "codemirror_mode": {
        "name": "ipython",
        "version": 3
      },
      "file_extension": ".py",
      "mimetype": "text/x-python",
      "name": "python",
      "nbconvert_exporter": "python",
      "pygments_lexer": "ipython3",
      "version": "3.9.13"
    },
    "vscode": {
      "interpreter": {
        "hash": "aee8b7b246df8f9039afb4144a1f6fd8d2ca17a180786b69acc140d282b71a49"
      }
    },
    "colab": {
      "provenance": []
    }
  },
  "nbformat": 4,
  "nbformat_minor": 0
}