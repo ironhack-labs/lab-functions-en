{
 "cells": [
  {
   "cell_type": "markdown",
   "metadata": {},
   "source": [
    "# Functions"
   ]
  },
  {
   "cell_type": "markdown",
   "metadata": {},
   "source": [
    "On this lab we will put to practice some of the concepts we have learned on this past few days.\n",
    "\n",
    "`NOTE: On this lab you should try to write all the functions yourself using only the most basic of python syntax and without functions such as len, count, sum, max, min, in, etc. Give it a try. 🧑🏻‍💻👩🏻‍💻`\n",
    "\n",
    "The cell after each exercise contains a few tests to check if your function works as expected."
   ]
  },
  {
   "cell_type": "code",
   "execution_count": 14,
   "metadata": {},
   "outputs": [],
   "source": [
    "from mod.testing import *\n",
    "import unittest"
   ]
  },
  {
   "cell_type": "markdown",
   "metadata": {},
   "source": [
    "## 1. Write a function that returns the greater of two numbers"
   ]
  },
  {
   "cell_type": "code",
   "execution_count": 15,
   "metadata": {},
   "outputs": [
    {
     "name": "stdout",
     "output_type": "stream",
     "text": [
      "Invalid Input\n"
     ]
    }
   ],
   "source": [
    "def greater(a: float, b: float):\n",
    "    \"\"\"\n",
    "    Returns the larger value of two vales:\n",
    "\n",
    "    Parameters:\n",
    "    a: first value\n",
    "    b: second value\n",
    "\n",
    "    Returns:\n",
    "    Returns the higher value, if applicable\n",
    "\n",
    "    Raises:\n",
    "    Error for non numeric input\n",
    "\n",
    "    Example:\n",
    "    >>> greater(4,8)\n",
    "    8\n",
    "    \"\"\"\n",
    "#your code here\n",
    "    try:\n",
    "        if a > b:\n",
    "            return a\n",
    "        elif b > a:\n",
    "            return b\n",
    "        else:\n",
    "            print(\"Numbers are equal\")\n",
    "            return \n",
    "    except:\n",
    "        print(\"Invalid Input\")\n",
    "    \n",
    "greater(\"a\",5)\n",
    "    "
   ]
  },
  {
   "cell_type": "code",
   "execution_count": 16,
   "metadata": {},
   "outputs": [
    {
     "name": "stderr",
     "output_type": "stream",
     "text": [
      "....................................................................................................\n",
      "----------------------------------------------------------------------\n",
      "Ran 100 tests in 0.120s\n",
      "\n",
      "OK\n"
     ]
    }
   ],
   "source": [
    "# This will test your function \n",
    "test_greater(greater)"
   ]
  },
  {
   "cell_type": "markdown",
   "metadata": {},
   "source": [
    "## 2. Now write a function that returns the largest element on a list"
   ]
  },
  {
   "cell_type": "code",
   "execution_count": 17,
   "metadata": {},
   "outputs": [
    {
     "data": {
      "text/plain": [
       "821"
      ]
     },
     "execution_count": 17,
     "metadata": {},
     "output_type": "execute_result"
    }
   ],
   "source": [
    "import random\n",
    "example_list = [random.randint(0, 1000) for _ in range(10)]\n",
    "#your code here\n",
    "\n",
    "\n",
    "def greatest(list):\n",
    "    \"\"\"\n",
    "    Checks for largest value in list.\n",
    "\n",
    "    Parameters:\n",
    "    list: list of int or float\n",
    "\n",
    "    Returns:\n",
    "    Greatest value in list\n",
    "\n",
    "    Example:\n",
    "    >>>greatest([1,2,3])\n",
    "    3\n",
    "    \"\"\"\n",
    "    value = float(\"-inf\")\n",
    "    for element in list:\n",
    "        if element > value:\n",
    "            value = element\n",
    "    return value\n",
    "\n",
    "greatest(example_list)"
   ]
  },
  {
   "cell_type": "code",
   "execution_count": 18,
   "metadata": {},
   "outputs": [
    {
     "name": "stderr",
     "output_type": "stream",
     "text": [
      "....................................................................................................\n",
      "----------------------------------------------------------------------\n",
      "Ran 100 tests in 0.130s\n",
      "\n",
      "OK\n"
     ]
    }
   ],
   "source": [
    "# This will test your function \n",
    "test_greatest(greatest)"
   ]
  },
  {
   "cell_type": "markdown",
   "metadata": {},
   "source": [
    "## 3. Write a function that sums all the elements on a list"
   ]
  },
  {
   "cell_type": "code",
   "execution_count": 19,
   "metadata": {},
   "outputs": [
    {
     "data": {
      "text/plain": [
       "4434"
      ]
     },
     "execution_count": 19,
     "metadata": {},
     "output_type": "execute_result"
    }
   ],
   "source": [
    "def sum_all(lst):\n",
    "    \"\"\"\n",
    "    Calculate the sum of values in a list\n",
    "\n",
    "    Parameters:\n",
    "    list: list with int or float\n",
    "\n",
    "    Return:\n",
    "    Returns the sum\n",
    "\n",
    "    Example:\n",
    "    >>> sum_all([1,2,3])\n",
    "    6\n",
    "    \n",
    "    \"\"\"\n",
    "#your code here\n",
    "    sum = 0\n",
    "    for num in lst:\n",
    "        sum += num\n",
    "    return sum\n",
    "\n",
    "\n",
    "sum_all(example_list)"
   ]
  },
  {
   "cell_type": "code",
   "execution_count": 20,
   "metadata": {
    "scrolled": true
   },
   "outputs": [
    {
     "name": "stderr",
     "output_type": "stream",
     "text": [
      "......"
     ]
    },
    {
     "name": "stderr",
     "output_type": "stream",
     "text": [
      "..............................................................................................\n",
      "----------------------------------------------------------------------\n",
      "Ran 100 tests in 0.134s\n",
      "\n",
      "OK\n"
     ]
    }
   ],
   "source": [
    "# This will test your function \n",
    "test_sum(sum_all)"
   ]
  },
  {
   "cell_type": "markdown",
   "metadata": {},
   "source": [
    "## 4. Write another function that multiplies all the elements on a list"
   ]
  },
  {
   "cell_type": "code",
   "execution_count": 21,
   "metadata": {},
   "outputs": [
    {
     "data": {
      "text/plain": [
       "7893336407479422661386240"
      ]
     },
     "execution_count": 21,
     "metadata": {},
     "output_type": "execute_result"
    }
   ],
   "source": [
    "def mult_all(lst: list):\n",
    "#your code here\n",
    "    \"\"\"\n",
    "    Calculate the product of values in a list\n",
    "\n",
    "    Parameters:\n",
    "    list: list with int or float\n",
    "\n",
    "    Return:\n",
    "    Returns the product\n",
    "\n",
    "    Example:\n",
    "    >>> mult_all([1,2,3])\n",
    "    6\n",
    "    \n",
    "    \"\"\"\n",
    "#your code here\n",
    "    product = lst.pop() # get one value of the list to start multiplication and remove that one from the list to not be double counted\n",
    "    for num in lst:\n",
    "        product *= num\n",
    "    return product\n",
    "\n",
    "\n",
    "mult_all(example_list)"
   ]
  },
  {
   "cell_type": "code",
   "execution_count": 22,
   "metadata": {
    "scrolled": true
   },
   "outputs": [
    {
     "name": "stderr",
     "output_type": "stream",
     "text": [
      "....................................................................................................\n",
      "----------------------------------------------------------------------\n",
      "Ran 100 tests in 0.143s\n",
      "\n",
      "OK\n"
     ]
    }
   ],
   "source": [
    "# This will test your function \n",
    "test_mult(mult_all)"
   ]
  },
  {
   "cell_type": "markdown",
   "metadata": {},
   "source": [
    "## 5. Now combine those two ideas and write a function that receives a list and either \"+\" or \"*\" and outputs acordingly"
   ]
  },
  {
   "cell_type": "code",
   "execution_count": 23,
   "metadata": {},
   "outputs": [],
   "source": [
    "def oper_all(arr, oper = \"*\"):\n",
    "    \"\"\"\n",
    "    Calculate product or sum of values in list\n",
    "\n",
    "    Parameters:\n",
    "    arr: list with int or float\n",
    "    oper: Chosen operator. Either \"*\" (default) or \"+\"\n",
    "\n",
    "    Returns:\n",
    "    Sum or product of values in list\n",
    "\n",
    "    Example:\n",
    "    >>> oper_all([1,2,3], \"*\"):\n",
    "    6    \n",
    "    \"\"\"\n",
    "#your code here\n",
    "    if oper == \"*\":\n",
    "        return mult_all(arr)\n",
    "    elif oper == \"+\":\n",
    "        return sum_all(arr)"
   ]
  },
  {
   "cell_type": "code",
   "execution_count": 24,
   "metadata": {},
   "outputs": [
    {
     "name": "stderr",
     "output_type": "stream",
     "text": [
      "....................................................................................................\n",
      "----------------------------------------------------------------------\n",
      "Ran 100 tests in 0.157s\n",
      "\n",
      "OK\n"
     ]
    }
   ],
   "source": [
    "# This will test your function \n",
    "test_operations(oper_all)"
   ]
  },
  {
   "cell_type": "markdown",
   "metadata": {},
   "source": [
    "## 6. Write a function that returns the factorial of a number."
   ]
  },
  {
   "cell_type": "code",
   "execution_count": 25,
   "metadata": {},
   "outputs": [
    {
     "data": {
      "text/plain": [
       "720"
      ]
     },
     "execution_count": 25,
     "metadata": {},
     "output_type": "execute_result"
    }
   ],
   "source": [
    "def factorial(n):\n",
    "    \"\"\"\n",
    "    Returns the factorial of a number \n",
    "\n",
    "    Parameters:\n",
    "    n: number for factorial\n",
    "\n",
    "    Return:\n",
    "    Returns the factorial\n",
    "\n",
    "    Example:\n",
    "    >>> factorial(6)\n",
    "    720\n",
    "    \n",
    "    \"\"\"\n",
    "    if n < 0:\n",
    "        raise ValueError(\"Factorial is not defined for negative numbers.\")\n",
    "    if n == 0 or n == 1:\n",
    "        return 1\n",
    "    return n * factorial(n - 1)"
   ]
  },
  {
   "cell_type": "code",
   "execution_count": 26,
   "metadata": {},
   "outputs": [],
   "source": [
    "#factorial formula\n",
    "#n! = n * ( n - 1 ) *...*1\n",
    "\n",
    "# This code defines a function called \"factorial\" which takes an input \"n\". The function uses a for loop to iterate through the range of numbers \n",
    "# from 1 to n+1. For each number in that range, it multiplies the current value of x by the number in the range. At the end of the loop, \n",
    "# the function returns the final value of x, which will be the factorial of the input number \"n\".\n",
    "\n",
    "# The Factorial of a positive integer n is the product of all positive integers less than or equal to n. \n",
    "# For example, the factorial of 6 (written \"6!\") is 6 * 5 * 4 * 3 * 2 * 1 = 720.\n",
    "\n",
    "# So this function takes an input of any positive integer, and returns the factorial of that number."
   ]
  },
  {
   "cell_type": "code",
   "execution_count": 27,
   "metadata": {},
   "outputs": [
    {
     "name": "stderr",
     "output_type": "stream",
     "text": [
      "....................................................................................................\n",
      "----------------------------------------------------------------------\n",
      "Ran 100 tests in 0.134s\n",
      "\n",
      "OK\n"
     ]
    }
   ],
   "source": [
    "# This will test your function \n",
    "test_factorial(factorial)"
   ]
  },
  {
   "cell_type": "markdown",
   "metadata": {},
   "source": [
    "## 7. Write a function that takes a list and returns a list of the unique values.\n",
    "\n",
    "`NOTE: You cannot use set. 🤔`"
   ]
  },
  {
   "cell_type": "code",
   "execution_count": 28,
   "metadata": {},
   "outputs": [],
   "source": [
    "def unique(lst_un):\n",
    "    \"\"\"\n",
    "    Creates a list with unique items\n",
    "\n",
    "    Parameters:\n",
    "    lst_un: a list\n",
    "\n",
    "    Return:\n",
    "    returns a list with unique items\n",
    "\n",
    "    Example:\n",
    "    >>> unique(test_list = [1, 2, 3, 2, 4, 5, 1, 6, 3, 7, 8, 5, 9, 10, 6])\n",
    "    [1, 2, 3, 4, 5, 6, 7, 8, 9, 10]\n",
    "    \"\"\"\n",
    "#your code here\n",
    "    values = []\n",
    "    for element in lst_un:\n",
    "        if element in values:\n",
    "            continue\n",
    "        else:\n",
    "            values.append(element)\n",
    "    return values"
   ]
  },
  {
   "cell_type": "code",
   "execution_count": 29,
   "metadata": {},
   "outputs": [
    {
     "name": "stderr",
     "output_type": "stream",
     "text": [
      "....................................................................................................\n",
      "----------------------------------------------------------------------\n",
      "Ran 100 tests in 0.286s\n",
      "\n",
      "OK\n"
     ]
    }
   ],
   "source": [
    "# This will test your function \n",
    "test_unique(unique)"
   ]
  },
  {
   "cell_type": "markdown",
   "metadata": {},
   "source": [
    "## 8. Write a function that returns the mode of a list, i.e.: the element that appears the most times.\n",
    "`NOTE: You should not use count... 🧐`"
   ]
  },
  {
   "cell_type": "code",
   "execution_count": 30,
   "metadata": {},
   "outputs": [],
   "source": [
    "def mode_counter(arr):\n",
    "#your code here\n",
    "    \"\"\"\n",
    "    Count value or word with highest occurence\n",
    "\n",
    "    Paramenter:\n",
    "    arr: List with number or words\n",
    "\n",
    "    Return:\n",
    "    Returns the value with the highest occurences    \n",
    "    \"\"\"\n",
    "    word_count = {}\n",
    "    highest_mode = 0\n",
    "    highest_mode_element = None\n",
    "\n",
    "    for word in arr:\n",
    "        if word in word_count.keys():\n",
    "            word_count[word] += 1\n",
    "        else:\n",
    "            word_count[word] = 1\n",
    "\n",
    "    for key in word_count:\n",
    "        if word_count[key] > highest_mode:\n",
    "            highest_mode = word_count[key]\n",
    "            highest_mode_element = key\n",
    "\n",
    "    return highest_mode_element"
   ]
  },
  {
   "cell_type": "code",
   "execution_count": 31,
   "metadata": {},
   "outputs": [
    {
     "name": "stderr",
     "output_type": "stream",
     "text": [
      "....................................................................................................\n",
      "----------------------------------------------------------------------\n",
      "Ran 100 tests in 0.134s\n",
      "\n",
      "OK\n"
     ]
    }
   ],
   "source": [
    "# This will test your function \n",
    "test_mode(mode_counter)"
   ]
  },
  {
   "cell_type": "markdown",
   "metadata": {},
   "source": [
    "## 9. Write a function that calculates the standard deviation of a list.\n",
    "`NOTE: Do not use any libraries or already built functions. 😉`"
   ]
  },
  {
   "cell_type": "code",
   "execution_count": 32,
   "metadata": {},
   "outputs": [],
   "source": [
    "def st_dev(list_sd):\n",
    "#your code here\n",
    "    sum = 0\n",
    "    length = 0\n",
    "    variance_squares = 0\n",
    "\n",
    "    for num in list_sd:\n",
    "        sum += num\n",
    "        length += 1\n",
    "    average = sum / length\n",
    "\n",
    "    for num in list_sd:\n",
    "        variance_squares += (num - average)**2\n",
    "\n",
    "    variance = variance_squares / (length - 1) # Bessel's correction\n",
    "    sd = variance**(1/2)\n",
    "\n",
    "    return sd\n",
    "\n"
   ]
  },
  {
   "cell_type": "code",
   "execution_count": 33,
   "metadata": {},
   "outputs": [
    {
     "name": "stderr",
     "output_type": "stream",
     "text": [
      "....................................................................................................\n",
      "----------------------------------------------------------------------\n",
      "Ran 100 tests in 0.092s\n",
      "\n",
      "OK\n"
     ]
    }
   ],
   "source": [
    "# This will test your function \n",
    "test_stdev(st_dev)"
   ]
  },
  {
   "cell_type": "markdown",
   "metadata": {},
   "source": [
    "## 10. Write a function to check if a string is a pangram, i.e.: if it contains all the letters of the alphabet at least once. Mind that the strings may contain characters that are not letters."
   ]
  },
  {
   "cell_type": "code",
   "execution_count": 41,
   "metadata": {},
   "outputs": [],
   "source": [
    "def pangram(string):\n",
    "#your code here --> Impossible\n",
    "    alphabet = ['a', 'b', 'c', 'd', 'e', 'f', 'g', 'h', 'i', 'j', 'k', 'l', 'm', 'n', 'o', 'p', 'q', 'r', 's', 't', 'u', 'v', 'w', 'x', 'y', 'z']\n",
    "    \n",
    "    for letter in alphabet:\n",
    "        if letter in string.lower():\n",
    "            continue\n",
    "        else:\n",
    "            return False\n",
    "    return True\n",
    "\n"
   ]
  },
  {
   "cell_type": "code",
   "execution_count": 42,
   "metadata": {},
   "outputs": [
    {
     "name": "stderr",
     "output_type": "stream",
     "text": [
      "..............................\n",
      "----------------------------------------------------------------------\n",
      "Ran 30 tests in 0.018s\n",
      "\n",
      "OK\n"
     ]
    }
   ],
   "source": [
    "# This will test your function \n",
    "test_pangram(pangram)"
   ]
  },
  {
   "cell_type": "markdown",
   "metadata": {},
   "source": [
    "## 11. Write a function that receives a string of comma separated words and returns a string of comma separated words sorted alphabetically.\n",
    "\n",
    "`NOTE: You may use sorted but not split and definitely no join! 🤪`"
   ]
  },
  {
   "cell_type": "code",
   "execution_count": 61,
   "metadata": {},
   "outputs": [],
   "source": [
    "def sort_alpha(string):\n",
    "    # extract words\n",
    "    words = []\n",
    "    word = \"\"\n",
    "    for character in string:\n",
    "        if character == \",\":\n",
    "            words.append(word)\n",
    "            word = \"\"\n",
    "        else:\n",
    "            word += character\n",
    "    words.append(word)\n",
    "\n",
    "    # sort words\n",
    "    words.sort(key=lambda w: w.lower())\n",
    "\n",
    "    # turn into string\n",
    "    word_string = \"\"\n",
    "    for i in range(len(words)):\n",
    "        word_string += words[i]\n",
    "        if i < len(words) - 1:  # Add a comma except for the last word\n",
    "            word_string += \",\"\n",
    "\n",
    "    return word_string"
   ]
  },
  {
   "cell_type": "code",
   "execution_count": 62,
   "metadata": {},
   "outputs": [
    {
     "name": "stderr",
     "output_type": "stream",
     "text": [
      "....................................................................................................\n",
      "----------------------------------------------------------------------\n",
      "Ran 100 tests in 0.096s\n",
      "\n",
      "OK\n"
     ]
    }
   ],
   "source": [
    "# This will test your function \n",
    "test_alpha(sort_alpha)"
   ]
  },
  {
   "cell_type": "markdown",
   "metadata": {},
   "source": [
    "## 12. Write a function to check if a given password is strong (at least 8 characters, at least one lower case, at least one upper case, at least one number and at least one special character). It should output True if strong and False if not."
   ]
  },
  {
   "cell_type": "code",
   "execution_count": 63,
   "metadata": {},
   "outputs": [],
   "source": [
    "def check_pass(password):\n",
    "#your code here\n",
    "    requirements_met = 0\n",
    "    length = 0\n",
    "    lowercase_letters = [\"a\", \"b\", \"c\", \"d\", \"e\", \"f\", \"g\", \"h\", \"i\", \"j\", \"k\", \"l\", \"m\", \"n\", \"o\", \"p\", \"q\", \"r\", \"s\", \"t\", \"u\", \"v\", \"w\", \"x\", \"y\", \"z\"]\n",
    "    uppercase_letters = [\"A\", \"B\", \"C\", \"D\", \"E\", \"F\", \"G\", \"H\", \"I\", \"J\", \"K\", \"L\", \"M\", \"N\", \"O\", \"P\", \"Q\", \"R\", \"S\", \"T\", \"U\", \"V\", \"W\", \"X\", \"Y\", \"Z\"]\n",
    "    digits = [\"0\", \"1\", \"2\", \"3\", \"4\", \"5\", \"6\", \"7\", \"8\", \"9\"]\n",
    "    special_characters = [\"!\", \"\\\"\", \"#\", \"$\", \"%\", \"&\", \"'\", \"(\", \")\", \"*\", \"+\", \",\", \"-\", \".\", \"/\", \":\", \";\", \"<\", \"=\", \">\", \"?\", \"@\", \"[\", \"\\\\\", \"]\", \"^\", \"_\", \"{\", \"|\", \"}\", \"~\"]\n",
    "\n",
    "\n",
    "    for char in lowercase_letters:\n",
    "        if char in password:\n",
    "            requirements_met += 1\n",
    "            break\n",
    "    for char in uppercase_letters:\n",
    "        if char in password:\n",
    "            requirements_met += 1\n",
    "            break\n",
    "    for char in digits:\n",
    "        if char in password:\n",
    "            requirements_met += 1\n",
    "            break\n",
    "    for char in special_characters:\n",
    "        if char in password:\n",
    "            requirements_met += 1\n",
    "            break\n",
    "    for char in password:\n",
    "        length += 1\n",
    "        if length > 7:\n",
    "            requirements_met += 1\n",
    "            break\n",
    "    if requirements_met == 5:\n",
    "        return True\n",
    "    else:\n",
    "        return False\n"
   ]
  },
  {
   "cell_type": "code",
   "execution_count": 64,
   "metadata": {},
   "outputs": [
    {
     "name": "stderr",
     "output_type": "stream",
     "text": [
      "....................................................................................................\n",
      "----------------------------------------------------------------------\n",
      "Ran 100 tests in 0.062s\n",
      "\n",
      "OK\n"
     ]
    }
   ],
   "source": [
    "# This will test your function \n",
    "test_pass(check_pass)"
   ]
  }
 ],
 "metadata": {
  "kernelspec": {
   "display_name": "datasci_env",
   "language": "python",
   "name": "python3"
  },
  "language_info": {
   "codemirror_mode": {
    "name": "ipython",
    "version": 3
   },
   "file_extension": ".py",
   "mimetype": "text/x-python",
   "name": "python",
   "nbconvert_exporter": "python",
   "pygments_lexer": "ipython3",
   "version": "3.8.20"
  }
 },
 "nbformat": 4,
 "nbformat_minor": 4
}
