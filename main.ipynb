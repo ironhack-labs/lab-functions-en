{
 "cells": [
  {
   "cell_type": "markdown",
   "metadata": {},
   "source": [
    "# Functions"
   ]
  },
  {
   "cell_type": "markdown",
   "metadata": {},
   "source": [
    "On this lab we will put to practice some of the concepts we have learned on this past few days.\n",
    "\n",
    "`NOTE: On this lab you should try to write all the functions yourself using only the most basic of python syntax and without functions such as len, count, sum, max, min, in, etc. Give it a try. 🧑🏻‍💻👩🏻‍💻`\n",
    "\n",
    "The cell after each exercise contains a few tests to check if your function works as expected."
   ]
  },
  {
   "cell_type": "code",
   "execution_count": 1,
   "metadata": {},
   "outputs": [],
   "source": [
    "from mod.testing import *\n",
    "import unittest"
   ]
  },
  {
   "cell_type": "markdown",
   "metadata": {},
   "source": [
    "## 1. Write a function that returns the greater of two numbers"
   ]
  },
  {
   "cell_type": "code",
   "execution_count": 2,
   "metadata": {},
   "outputs": [],
   "source": [
    "def greater(a,b):\n",
    "    if a>b:\n",
    "        return a\n",
    "    elif b>a:\n",
    "        return b\n",
    "    else:\n",
    "        return \"equal\"\n",
    "#your code here"
   ]
  },
  {
   "cell_type": "code",
   "execution_count": 3,
   "metadata": {},
   "outputs": [
    {
     "name": "stderr",
     "output_type": "stream",
     "text": [
      "....................................................................................................\n",
      "----------------------------------------------------------------------\n",
      "Ran 100 tests in 0.066s\n",
      "\n",
      "OK\n"
     ]
    }
   ],
   "source": [
    "# This will test your function \n",
    "test_greater(greater)"
   ]
  },
  {
   "cell_type": "markdown",
   "metadata": {},
   "source": [
    "## 2. Now write a function that returns the largest element on a list"
   ]
  },
  {
   "cell_type": "code",
   "execution_count": null,
   "metadata": {},
   "outputs": [],
   "source": [
    "#your code here\n",
    "def greatest(mylist):\n",
    "    if mylist==[0]: # Verify if the list is empty\n",
    "        return \"Empty List\"\n",
    "    largest_num=mylist[0] # Assign the first number of the list as the largest prior to start comparing the numbers\n",
    "    for num in mylist: # check the all numbers in the list \n",
    "        if num>largest_num: # compare each number on the list against the number assigned as the largest\n",
    "            largest_num=num # when the number is grater than the assigned as the largest, assign this number to the largest variable\n",
    "    return largest_num # when finish the comparison of all numvers in the list, then return the largest value\n"
   ]
  },
  {
   "cell_type": "code",
   "execution_count": 10,
   "metadata": {},
   "outputs": [
    {
     "name": "stderr",
     "output_type": "stream",
     "text": [
      "....................................................................................................\n",
      "----------------------------------------------------------------------\n",
      "Ran 100 tests in 0.075s\n",
      "\n",
      "OK\n"
     ]
    }
   ],
   "source": [
    "# This will test your function \n",
    "test_greatest(greatest)"
   ]
  },
  {
   "cell_type": "markdown",
   "metadata": {},
   "source": [
    "## 3. Write a function that sums all the elements on a list"
   ]
  },
  {
   "cell_type": "code",
   "execution_count": 11,
   "metadata": {},
   "outputs": [],
   "source": [
    "def sum_all(lst):\n",
    "    if lst==[0]: # Verify if the list is empty\n",
    "        return \"Empty List\"\n",
    "    total=0 # define the variable to store the sum of all numbers of the list\n",
    "    for num in lst: # check the all numbers in the list \n",
    "        total+=num # Sum each number in the list\n",
    "    return total # Return the total sum\n",
    "#your code here"
   ]
  },
  {
   "cell_type": "code",
   "execution_count": 12,
   "metadata": {
    "scrolled": true
   },
   "outputs": [
    {
     "name": "stderr",
     "output_type": "stream",
     "text": [
      "....................................................................................................\n",
      "----------------------------------------------------------------------\n",
      "Ran 100 tests in 0.087s\n",
      "\n",
      "OK\n"
     ]
    }
   ],
   "source": [
    "# This will test your function \n",
    "test_sum(sum_all)"
   ]
  },
  {
   "cell_type": "markdown",
   "metadata": {},
   "source": [
    "## 4. Write another function that multiplies all the elements on a list"
   ]
  },
  {
   "cell_type": "code",
   "execution_count": 36,
   "metadata": {},
   "outputs": [],
   "source": [
    "def mult_all(lst):\n",
    "    if lst==[0]: # Verify if the list is empty\n",
    "        return \"Empty List\"\n",
    "    total=1 # define the variable to store the sum of all numbers of the list\n",
    "    for num in lst: # check the all numbers in the list \n",
    "        total*=num # Multiply each number in the list\n",
    "    return total # Return the total multi\n",
    "#your code here"
   ]
  },
  {
   "cell_type": "code",
   "execution_count": 21,
   "metadata": {
    "scrolled": true
   },
   "outputs": [
    {
     "name": "stderr",
     "output_type": "stream",
     "text": [
      "....................................................................................................\n",
      "----------------------------------------------------------------------\n",
      "Ran 100 tests in 0.073s\n",
      "\n",
      "OK\n"
     ]
    }
   ],
   "source": [
    "# This will test your function \n",
    "test_mult(mult_all)"
   ]
  },
  {
   "cell_type": "markdown",
   "metadata": {},
   "source": [
    "## 5. Now combine those two ideas and write a function that receives a list and either \"+\" or \"*\" and outputs acordingly"
   ]
  },
  {
   "cell_type": "code",
   "execution_count": 34,
   "metadata": {},
   "outputs": [],
   "source": [
    "def oper_all(arr, oper = \"*\"):\n",
    "    if arr==[0]: # Verify if the list is empty\n",
    "        return \"Empty List\"\n",
    "    elif oper==\"*\":\n",
    "        total=1 # define the variable to store the multi of all numbers of the list\n",
    "        for num in arr: # check the all numbers in the list \n",
    "            total*=num # Multiply each number in the list\n",
    "    else:\n",
    "        total=0 # define the variable to store the sum of all numbers of the list\n",
    "        for num in arr: # check the all numbers in the list \n",
    "            total+=num # Sum each number in the list\n",
    "    return total # Return the total multi or sum\n",
    "#your code here"
   ]
  },
  {
   "cell_type": "code",
   "execution_count": 35,
   "metadata": {},
   "outputs": [
    {
     "name": "stderr",
     "output_type": "stream",
     "text": [
      "....................................................................................................\n",
      "----------------------------------------------------------------------\n",
      "Ran 100 tests in 0.078s\n",
      "\n",
      "OK\n"
     ]
    }
   ],
   "source": [
    "# This will test your function \n",
    "test_operations(oper_all)"
   ]
  },
  {
   "cell_type": "markdown",
   "metadata": {},
   "source": [
    "## 6. Write a function that returns the factorial of a number."
   ]
  },
  {
   "cell_type": "code",
   "execution_count": 32,
   "metadata": {},
   "outputs": [],
   "source": [
    "def factorial(n):\n",
    "    fac_total=1 # define the variable to store the multi of all numbers of the range\n",
    "    for num in range(1, n+1): # check the all numbers within the range. This range is from 1 to n+1 to include thw n value\n",
    "        fac_total*=num # Multiply each number within the range \n",
    "    return fac_total # Return the multiplication of all num that is the factorial\n",
    "\n",
    "#your code here"
   ]
  },
  {
   "cell_type": "code",
   "execution_count": null,
   "metadata": {},
   "outputs": [],
   "source": [
    "#factorial formula\n",
    "#n! = n * ( n - 1 ) *...*1\n",
    "\n",
    "# This code defines a function called \"factorial\" which takes an input \"n\". The function uses a for loop to iterate through the range of numbers \n",
    "# from 1 to n+1. For each number in that range, it multiplies the current value of x by the number in the range. At the end of the loop, \n",
    "# the function returns the final value of x, which will be the factorial of the input number \"n\".\n",
    "\n",
    "# The Factorial of a positive integer n is the product of all positive integers less than or equal to n. \n",
    "# For example, the factorial of 6 (written \"6!\") is 6 * 5 * 4 * 3 * 2 * 1 = 720.\n",
    "\n",
    "# So this function takes an input of any positive integer, and returns the factorial of that number."
   ]
  },
  {
   "cell_type": "code",
   "execution_count": 33,
   "metadata": {},
   "outputs": [
    {
     "name": "stderr",
     "output_type": "stream",
     "text": [
      "....................................................................................................\n",
      "----------------------------------------------------------------------\n",
      "Ran 100 tests in 0.079s\n",
      "\n",
      "OK\n"
     ]
    }
   ],
   "source": [
    "# This will test your function \n",
    "test_factorial(factorial)"
   ]
  },
  {
   "cell_type": "markdown",
   "metadata": {},
   "source": [
    "## 7. Write a function that takes a list and returns a list of the unique values.\n",
    "\n",
    "`NOTE: You cannot use set. 🤔`"
   ]
  },
  {
   "cell_type": "code",
   "execution_count": 39,
   "metadata": {},
   "outputs": [],
   "source": [
    "def unique(lst_un):\n",
    "    new_lst_un=[] # New list to store the unique values\n",
    "    for num in lst_un: #evaluate all items within the original list\n",
    "        found=False # verify if items are in the new list\n",
    "        for unique_num in new_lst_un:\n",
    "            if unique_num==num: # if the item is already in the new list the code will\n",
    "                found=True\n",
    "                break\n",
    "        if not found:\n",
    "            new_lst_un.append(num)\n",
    "    return new_lst_un\n",
    "\n",
    "#your code here"
   ]
  },
  {
   "cell_type": "code",
   "execution_count": 38,
   "metadata": {},
   "outputs": [
    {
     "name": "stderr",
     "output_type": "stream",
     "text": [
      "....................................................................................................\n",
      "----------------------------------------------------------------------\n",
      "Ran 100 tests in 0.307s\n",
      "\n",
      "OK\n"
     ]
    }
   ],
   "source": [
    "# This will test your function \n",
    "test_unique(unique)"
   ]
  },
  {
   "cell_type": "markdown",
   "metadata": {},
   "source": [
    "## 8. Write a function that returns the mode of a list, i.e.: the element that appears the most times.\n",
    "`NOTE: You should not use count... 🧐`"
   ]
  },
  {
   "cell_type": "code",
   "execution_count": 42,
   "metadata": {},
   "outputs": [],
   "source": [
    "def mode_counter(arr):\n",
    "    freq_dict={} # Define a dictionary to input each num with its frequency\n",
    "    for num in arr: # Verify all num in list\n",
    "        if freq_dict.get(num, 'Not found')==\"Not found\": # confirm if num from list is in the new dictionary\n",
    "            freq_dict[num]=1 # Add the num into the dict If the num is not in the dict\n",
    "        else:\n",
    "            freq_dict[num]+=1 # The freq for the num that is already in the dict will be updated +1\n",
    "    freq_max=0 # Define new variable to store the maximun freq\n",
    "    mode = None # Define new variable to store the num associated to the max freq\n",
    "    for num, freq in freq_dict.items(): # Verify all items in dict\n",
    "        if freq>freq_max: # compare freq from dict with the max freq\n",
    "            freq_max=freq # update variable\n",
    "            mode=num # update variable\n",
    "    return mode # return Mode that is the num asociated to the max freq\n",
    "\n",
    "\n",
    "\n",
    "#your code here"
   ]
  },
  {
   "cell_type": "code",
   "execution_count": 43,
   "metadata": {},
   "outputs": [
    {
     "name": "stderr",
     "output_type": "stream",
     "text": [
      "....................................................................................................\n",
      "----------------------------------------------------------------------\n",
      "Ran 100 tests in 0.076s\n",
      "\n",
      "OK\n"
     ]
    }
   ],
   "source": [
    "# This will test your function \n",
    "test_mode(mode_counter)"
   ]
  },
  {
   "cell_type": "markdown",
   "metadata": {},
   "source": [
    "## 9. Write a function that calculates the standard deviation of a list.\n",
    "`NOTE: Do not use any libraries or already built functions. 😉`"
   ]
  },
  {
   "cell_type": "code",
   "execution_count": 50,
   "metadata": {},
   "outputs": [],
   "source": [
    "def st_dev(list_sd):\n",
    "    n=0 # Define variable for the total count of numbers in the list.\n",
    "    total=0 # Define variable for the total sum of the numbers in the list\n",
    "    dev=0 # Define the variable to store the sum of the deviations\n",
    "    stdev= None # Define the variable where the final std deviation will be calculated and stored.\n",
    "    for num in list_sd: # Verify all numbers in list \n",
    "        total+=num # Total variable updated with the sum of each number in the list.\n",
    "        n+=1 # n variable updated with the counting of each number in the list.\n",
    "    avg=total/n # Define variable where the average calculation is stored.\n",
    "    for num in list_sd:  # Verify all numbers in list\n",
    "        dev+=(num-avg)**2 # Variable updated with the sum of each number the deviation\n",
    "    stdev=(dev/(n-1))**0.5 # Variable updated with the final calculation of the std deviation\n",
    "    return stdev # Return the final result\n",
    "\n",
    "        \n",
    "\n",
    "#your code here"
   ]
  },
  {
   "cell_type": "code",
   "execution_count": 51,
   "metadata": {},
   "outputs": [
    {
     "name": "stderr",
     "output_type": "stream",
     "text": [
      "....................................................................................................\n",
      "----------------------------------------------------------------------\n",
      "Ran 100 tests in 0.063s\n",
      "\n",
      "OK\n"
     ]
    }
   ],
   "source": [
    "# This will test your function \n",
    "test_stdev(st_dev)"
   ]
  },
  {
   "cell_type": "markdown",
   "metadata": {},
   "source": [
    "## 10. Write a function to check if a string is a pangram, i.e.: if it contains all the letters of the alphabet at least once. Mind that the strings may contain characters that are not letters."
   ]
  },
  {
   "cell_type": "code",
   "execution_count": 56,
   "metadata": {},
   "outputs": [],
   "source": [
    "def pangram(string):\n",
    "    alphabet_lst=[chr(x) for x in range (97, 123)] # create a list of the alfabet using as source the ASCII.\n",
    "    string=string.lower() # converting letters of provided string into lower case letters.\n",
    "    for letter in alphabet_lst: # Verify each letter of the alphabet list \n",
    "        if letter not in string: # Confirm if letter of alphabet is in the string\n",
    "            return False\n",
    "    return True\n",
    "\n",
    "\n",
    "#your code here)"
   ]
  },
  {
   "cell_type": "code",
   "execution_count": 57,
   "metadata": {},
   "outputs": [
    {
     "name": "stderr",
     "output_type": "stream",
     "text": [
      "..............................\n",
      "----------------------------------------------------------------------\n",
      "Ran 30 tests in 0.021s\n",
      "\n",
      "OK\n"
     ]
    }
   ],
   "source": [
    "# This will test your function \n",
    "test_pangram(pangram)"
   ]
  },
  {
   "cell_type": "markdown",
   "metadata": {},
   "source": [
    "## 11. Write a function that receives a string of comma separated words and returns a string of comma separated words sorted alphabetically.\n",
    "\n",
    "`NOTE: You may use sorted but not split and definitely no join! 🤪`"
   ]
  },
  {
   "cell_type": "code",
   "execution_count": 60,
   "metadata": {},
   "outputs": [],
   "source": [
    "def sort_alpha(string):\n",
    "    words_list=[] # New list to store words from string.\n",
    "    word=\"\" # Variable to construct each word\n",
    "    # Manual Words extraction process\n",
    "    for char in string: \n",
    "        if char==\",\": # to find commas\n",
    "            if word: # If there is a word constructed\n",
    "                words_list.append(word) # To add word to new list\n",
    "                word=\"\" # to reset the variable for the construction of the next word\n",
    "        else:\n",
    "            word+=char # Words construction character by character\n",
    "    if word: # To add the last word to the new list\n",
    "        words_list.append(word)\n",
    "    # Words sorting within the list using the key so the process is not case sensitive. \n",
    "    sorted_words=sorted(words_list, key=str.lower) \n",
    "    # New string reconstruction\n",
    "    sorted_string=\"\" \n",
    "    for i, word in enumerate(sorted_words):\n",
    "        if i>0: # to include commas between words in the new string\n",
    "            sorted_string+=\",\"\n",
    "        sorted_string+=word\n",
    "    return sorted_string\n",
    "\n",
    "\n",
    "#your code here"
   ]
  },
  {
   "cell_type": "code",
   "execution_count": 61,
   "metadata": {},
   "outputs": [
    {
     "name": "stderr",
     "output_type": "stream",
     "text": [
      "....................................................................................................\n",
      "----------------------------------------------------------------------\n",
      "Ran 100 tests in 0.078s\n",
      "\n",
      "OK\n"
     ]
    }
   ],
   "source": [
    "# This will test your function \n",
    "test_alpha(sort_alpha)"
   ]
  },
  {
   "cell_type": "markdown",
   "metadata": {},
   "source": [
    "## 12. Write a function to check if a given password is strong (at least 8 characters, at least one lower case, at least one upper case, at least one number and at least one special character). It should output True if strong and False if not."
   ]
  },
  {
   "cell_type": "code",
   "execution_count": 62,
   "metadata": {},
   "outputs": [],
   "source": [
    "def check_pass(password):\n",
    "    if len(password)<8: # First verification, the password length\n",
    "        return False\n",
    "    # Definition of conditional variables\n",
    "    has_lower=False\n",
    "    has_upper=False\n",
    "    has_digit=False\n",
    "    has_special=False\n",
    "    # Password string evaluation\n",
    "    for char in password:\n",
    "        if char.islower():\n",
    "            has_lower=True\n",
    "        elif char.isupper():\n",
    "            has_upper=True\n",
    "        elif char.isdigit():\n",
    "            has_digit=True\n",
    "        elif not char.isalnum():\n",
    "            has_special=True\n",
    "    return has_lower and has_upper and has_digit and has_special\n",
    "#your code here"
   ]
  },
  {
   "cell_type": "code",
   "execution_count": 63,
   "metadata": {},
   "outputs": [
    {
     "name": "stderr",
     "output_type": "stream",
     "text": [
      "....................................................................................................\n",
      "----------------------------------------------------------------------\n",
      "Ran 100 tests in 0.065s\n",
      "\n",
      "OK\n"
     ]
    }
   ],
   "source": [
    "# This will test your function \n",
    "test_pass(check_pass)"
   ]
  }
 ],
 "metadata": {
  "kernelspec": {
   "display_name": "Python 3",
   "language": "python",
   "name": "python3"
  },
  "language_info": {
   "codemirror_mode": {
    "name": "ipython",
    "version": 3
   },
   "file_extension": ".py",
   "mimetype": "text/x-python",
   "name": "python",
   "nbconvert_exporter": "python",
   "pygments_lexer": "ipython3",
   "version": "3.13.0"
  }
 },
 "nbformat": 4,
 "nbformat_minor": 4
}
