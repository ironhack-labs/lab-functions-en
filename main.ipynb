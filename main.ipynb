{
 "cells": [
  {
   "cell_type": "markdown",
   "metadata": {},
   "source": [
    "# Functions"
   ]
  },
  {
   "cell_type": "markdown",
   "metadata": {},
   "source": [
    "On this lab we will put to practice some of the concepts we have learned on this past few days.\n",
    "\n",
    "`NOTE: On this lab you should try to write all the functions yourself using only the most basic of python syntax and without functions such as len, count, sum, max, min, in, etc. Give it a try. 🧑🏻‍💻👩🏻‍💻`\n",
    "\n",
    "The cell after each exercise contains a few tests to check if your function works as expected."
   ]
  },
  {
   "cell_type": "code",
   "execution_count": 10,
   "metadata": {},
   "outputs": [],
   "source": [
    "#THIS IS GIVEN ALREADY\n",
    "\n",
    "# Import all functions and classes from the module \"testing\" located in the \"mod\" folder.\n",
    "# This means you have a folder named \"mod\" that contains a file named \"testing.py\".\n",
    "# All the functions in \"testing.py\" will be available for use in this file.\n",
    "from mod.testing import *\n",
    "\n",
    "# Import the unittest module, which is part of Python's standard library.\n",
    "# This module provides a framework for writing and running tests for your code.\n",
    "import unittest\n"
   ]
  },
  {
   "cell_type": "markdown",
   "metadata": {},
   "source": [
    "## 1. Write a function that returns the greater of two numbers"
   ]
  },
  {
   "cell_type": "code",
   "execution_count": 12,
   "metadata": {},
   "outputs": [],
   "source": [
    "def greater(a,b): \n",
    "    #your code here\n",
    "    if a > b:\n",
    "        return a\n",
    "    else: \n",
    "        return b\n"
   ]
  },
  {
   "cell_type": "code",
   "execution_count": 16,
   "metadata": {},
   "outputs": [
    {
     "name": "stderr",
     "output_type": "stream",
     "text": [
      "....................................................................................................\n",
      "----------------------------------------------------------------------\n",
      "Ran 100 tests in 0.217s\n",
      "\n",
      "OK\n"
     ]
    }
   ],
   "source": [
    "#THIS IS GIVEN ALREADY\n",
    "\n",
    "# This will test your function using the `test_greater` function from the `testing.py` module.\n",
    "test_greater(greater)"
   ]
  },
  {
   "cell_type": "code",
   "execution_count": 20,
   "metadata": {},
   "outputs": [
    {
     "name": "stdout",
     "output_type": "stream",
     "text": [
      "The greater number is: 20\n"
     ]
    }
   ],
   "source": [
    "#your code here\n",
    "\n",
    "#Example usage of the greater function\n",
    "\n",
    "result = greater(10,20)\n",
    "print(\"The greater number is:\", result)\n"
   ]
  },
  {
   "cell_type": "markdown",
   "metadata": {},
   "source": [
    "## 2. Now write a function that returns the largest element on a list"
   ]
  },
  {
   "cell_type": "code",
   "execution_count": 28,
   "metadata": {},
   "outputs": [],
   "source": [
    "#your code here\n",
    "def greatest(my_list):\n",
    "    #Initialize the first element as the largest\n",
    "    # This assumes that the list is not empty and has at least one element\n",
    "    largest = my_list[0]\n",
    "    #Loop through the list\n",
    "    for num in my_list:\n",
    "        # Check if the current number is greater than the current largest number\n",
    "        if num > largest:\n",
    "             # If so, update 'largest' to be the current number\n",
    "            largest = num\n",
    "    return largest"
   ]
  },
  {
   "cell_type": "code",
   "execution_count": 26,
   "metadata": {},
   "outputs": [
    {
     "name": "stderr",
     "output_type": "stream",
     "text": [
      "....................................................................................................\n",
      "----------------------------------------------------------------------\n",
      "Ran 100 tests in 0.190s\n",
      "\n",
      "OK\n"
     ]
    }
   ],
   "source": [
    "# This will test your function \n",
    "test_greatest(greatest)"
   ]
  },
  {
   "cell_type": "code",
   "execution_count": 30,
   "metadata": {},
   "outputs": [
    {
     "name": "stdout",
     "output_type": "stream",
     "text": [
      "The greatest number in [3, 8, 1, 14, 7] is 14\n"
     ]
    }
   ],
   "source": [
    "# Example usage:\n",
    "example_list = [3, 8, 1, 14, 7]\n",
    "result = greatest(example_list)\n",
    "print(f\"The greatest number in {example_list} is {result}\")"
   ]
  },
  {
   "cell_type": "markdown",
   "metadata": {},
   "source": [
    "## 3. Write a function that sums all the elements on a list"
   ]
  },
  {
   "cell_type": "code",
   "execution_count": 44,
   "metadata": {},
   "outputs": [],
   "source": [
    "def sum_all(lst):\n",
    "    #your code here\n",
    "    # Initialize a variable to store the total sum, starting at 0\n",
    "    total_sum = 0\n",
    "     # Loop through each element in the list\n",
    "    for num in lst:\n",
    "         # Add the current element to the total\n",
    "        total_sum += num\n",
    "    return total_sum\n"
   ]
  },
  {
   "cell_type": "code",
   "execution_count": 38,
   "metadata": {
    "scrolled": true
   },
   "outputs": [
    {
     "name": "stderr",
     "output_type": "stream",
     "text": [
      "....................................................................................................\n",
      "----------------------------------------------------------------------\n",
      "Ran 100 tests in 0.164s\n",
      "\n",
      "OK\n"
     ]
    }
   ],
   "source": [
    "# This will test your function \n",
    "test_sum(sum_all)"
   ]
  },
  {
   "cell_type": "code",
   "execution_count": 52,
   "metadata": {},
   "outputs": [
    {
     "name": "stdout",
     "output_type": "stream",
     "text": [
      "The sum of all elements in [3, 5, 1, 8, -2] is 15\n"
     ]
    }
   ],
   "source": [
    "# Example usage:\n",
    "example_lst = [3,5,1,8,-2]\n",
    "result = sum_all(example_lst)\n",
    "print(f\"The sum of all elements in {example_lst} is {result}\")"
   ]
  },
  {
   "cell_type": "markdown",
   "metadata": {},
   "source": [
    "## 4. Write another function that multiplies all the elements on a list"
   ]
  },
  {
   "cell_type": "code",
   "execution_count": 48,
   "metadata": {},
   "outputs": [],
   "source": [
    "def mult_all(list1):\n",
    "#your code here\n",
    "     # Initialize a variable to store the product, starting at 1 (since multiplying by 1 has no effect)\n",
    "    product = 1\n",
    "    # Loop through each element in the list\n",
    "    for num in list1:\n",
    "        # Multiply the current element with the running product\n",
    "        product *= num\n",
    "    return product\n",
    "        "
   ]
  },
  {
   "cell_type": "code",
   "execution_count": 50,
   "metadata": {
    "scrolled": true
   },
   "outputs": [
    {
     "name": "stderr",
     "output_type": "stream",
     "text": [
      "....................................................................................................\n",
      "----------------------------------------------------------------------\n",
      "Ran 100 tests in 0.284s\n",
      "\n",
      "OK\n"
     ]
    }
   ],
   "source": [
    "# This will test your function \n",
    "test_mult(mult_all)"
   ]
  },
  {
   "cell_type": "code",
   "execution_count": 56,
   "metadata": {},
   "outputs": [
    {
     "name": "stdout",
     "output_type": "stream",
     "text": [
      "The product of all elements in [2, 3, 4] is 24\n"
     ]
    }
   ],
   "source": [
    "# Example usage:\n",
    "example_list1 = [2, 3, 4]\n",
    "result = mult_all(example_list1)\n",
    "print(f\"The product of all elements in {example_list1} is {result}\")"
   ]
  },
  {
   "cell_type": "markdown",
   "metadata": {},
   "source": [
    "## 5. Now combine those two ideas and write a function that receives a list and either \"+\" or \"*\" and outputs acordingly"
   ]
  },
  {
   "cell_type": "code",
   "execution_count": 66,
   "metadata": {},
   "outputs": [],
   "source": [
    "def oper_all(array, oper = \"*\"):\n",
    "    #your code here\n",
    "    if oper == \"+\":  # If the operator is \"+\" (addition)\n",
    "        result = 0  # Initialize the sum to 0\n",
    "        for num in array: # Iterate through each number in the list\n",
    "            result += num  # Add each element to the result\n",
    "    elif oper == \"*\":  # If the operator is \"*\" (multiplication)\n",
    "        result = 1  # Initialize the product to 1\n",
    "        for num in array: # Iterate through each number in the list\n",
    "            result *= num  # Multiply each element with the result\n",
    "    else:  # If the operator is not valid\n",
    "        raise ValueError(\"Invalid operator. Use '+' for addition or '*' for multiplication.\")\n",
    "\n",
    "    return result"
   ]
  },
  {
   "cell_type": "code",
   "execution_count": 60,
   "metadata": {},
   "outputs": [
    {
     "name": "stderr",
     "output_type": "stream",
     "text": [
      "....................................................................................................\n",
      "----------------------------------------------------------------------\n",
      "Ran 100 tests in 0.176s\n",
      "\n",
      "OK\n"
     ]
    }
   ],
   "source": [
    "# This will test your function \n",
    "test_operations(oper_all)"
   ]
  },
  {
   "cell_type": "code",
   "execution_count": 62,
   "metadata": {},
   "outputs": [
    {
     "name": "stdout",
     "output_type": "stream",
     "text": [
      "The sum of all elements in [1, 2, 3, 4] is 10\n",
      "The product of all elements in [2, 3, 4] is 24\n",
      "Error: Invalid operator. Use '+' for addition or '*' for multiplication.\n"
     ]
    }
   ],
   "source": [
    "# Example usage:\n",
    "\n",
    "# Example 1: Perform addition on the list\n",
    "my_list1 = [1, 2, 3, 4]\n",
    "result_add = oper_all(my_list1, \"+\")\n",
    "print(f\"The sum of all elements in {my_list1} is {result_add}\") \n",
    "\n",
    "# Example 2: Perform multiplication on the list\n",
    "my_list2 = [2, 3, 4]\n",
    "result_mult = oper_all(my_list2, \"*\")\n",
    "print(f\"The product of all elements in {my_list2} is {result_mult}\") \n",
    "\n",
    "# Example 3: Handle an invalid operator\n",
    "try:\n",
    "    invalid_result = oper_all(example_list1, \"-\")\n",
    "except ValueError as e:\n",
    "    print(f\"Error: {e}\") "
   ]
  },
  {
   "cell_type": "markdown",
   "metadata": {},
   "source": [
    "## 6. Write a function that returns the factorial of a number."
   ]
  },
  {
   "cell_type": "code",
   "execution_count": 76,
   "metadata": {},
   "outputs": [],
   "source": [
    "def factorial(n):\n",
    "    \n",
    "#your code here\n",
    "    \n",
    "    # Check if the input is a negative number\n",
    "    if n < 0:\n",
    "        # Raise a ValueError with a message if n is negative\n",
    "        raise ValueError(\"Factorial is not defined for negative numbers\")\n",
    "        \n",
    "    # Start with a result of 1 (since multiplying by 1 won't change the result)\n",
    "    result = 1\n",
    "    \n",
    "    # Loop through each number from 1 to n (inclusive)\n",
    "    for i in range(1, n + 1):\n",
    "        result *= i  # Multiply the current result by the current number i\n",
    "    \n",
    "    # Return the final result which is the factorial of n\n",
    "    return result"
   ]
  },
  {
   "cell_type": "code",
   "execution_count": 70,
   "metadata": {},
   "outputs": [],
   "source": [
    "#factorial formula\n",
    "#n! = n * ( n - 1 ) *...*1\n",
    "\n",
    "# This code defines a function called \"factorial\" which takes an input \"n\". The function uses a for loop to iterate through the range of numbers \n",
    "# from 1 to n+1. For each number in that range, it multiplies the current value of x by the number in the range. At the end of the loop, \n",
    "# the function returns the final value of x, which will be the factorial of the input number \"n\".\n",
    "\n",
    "# The Factorial of a positive integer n is the product of all positive integers less than or equal to n. \n",
    "# For example, the factorial of 6 (written \"6!\") is 6 * 5 * 4 * 3 * 2 * 1 = 720.\n",
    "\n",
    "# So this function takes an input of any positive integer, and returns the factorial of that number."
   ]
  },
  {
   "cell_type": "code",
   "execution_count": 72,
   "metadata": {},
   "outputs": [
    {
     "name": "stderr",
     "output_type": "stream",
     "text": [
      "....................................................................................................\n",
      "----------------------------------------------------------------------\n",
      "Ran 100 tests in 0.278s\n",
      "\n",
      "OK\n"
     ]
    }
   ],
   "source": [
    "# This will test your function \n",
    "test_factorial(factorial)"
   ]
  },
  {
   "cell_type": "code",
   "execution_count": 78,
   "metadata": {},
   "outputs": [
    {
     "name": "stdout",
     "output_type": "stream",
     "text": [
      "120\n",
      "6\n",
      "1\n",
      "1\n"
     ]
    },
    {
     "ename": "ValueError",
     "evalue": "Factorial is not defined for negative numbers",
     "output_type": "error",
     "traceback": [
      "\u001b[1;31m---------------------------------------------------------------------------\u001b[0m",
      "\u001b[1;31mValueError\u001b[0m                                Traceback (most recent call last)",
      "Cell \u001b[1;32mIn[78], line 7\u001b[0m\n\u001b[0;32m      5\u001b[0m \u001b[38;5;28mprint\u001b[39m(factorial(\u001b[38;5;241m1\u001b[39m))  \u001b[38;5;66;03m# Should print 1 (1! = 1)\u001b[39;00m\n\u001b[0;32m      6\u001b[0m \u001b[38;5;28mprint\u001b[39m(factorial(\u001b[38;5;241m0\u001b[39m))  \u001b[38;5;66;03m# Should print 1 (0! is defined as 1)\u001b[39;00m\n\u001b[1;32m----> 7\u001b[0m \u001b[38;5;28mprint\u001b[39m(factorial(\u001b[38;5;241m-\u001b[39m\u001b[38;5;241m2\u001b[39m))\n",
      "Cell \u001b[1;32mIn[76], line 8\u001b[0m, in \u001b[0;36mfactorial\u001b[1;34m(n)\u001b[0m\n\u001b[0;32m      1\u001b[0m \u001b[38;5;28;01mdef\u001b[39;00m \u001b[38;5;21mfactorial\u001b[39m(n):\n\u001b[0;32m      2\u001b[0m     \n\u001b[0;32m      3\u001b[0m \u001b[38;5;66;03m#your code here\u001b[39;00m\n\u001b[0;32m      4\u001b[0m     \n\u001b[0;32m      5\u001b[0m     \u001b[38;5;66;03m# Check if the input is a negative number\u001b[39;00m\n\u001b[0;32m      6\u001b[0m     \u001b[38;5;28;01mif\u001b[39;00m n \u001b[38;5;241m<\u001b[39m \u001b[38;5;241m0\u001b[39m:\n\u001b[0;32m      7\u001b[0m         \u001b[38;5;66;03m# Raise a ValueError with a message if n is negative\u001b[39;00m\n\u001b[1;32m----> 8\u001b[0m         \u001b[38;5;28;01mraise\u001b[39;00m \u001b[38;5;167;01mValueError\u001b[39;00m(\u001b[38;5;124m\"\u001b[39m\u001b[38;5;124mFactorial is not defined for negative numbers\u001b[39m\u001b[38;5;124m\"\u001b[39m)\n\u001b[0;32m     10\u001b[0m     \u001b[38;5;66;03m# Start with a result of 1 (since multiplying by 1 won't change the result)\u001b[39;00m\n\u001b[0;32m     11\u001b[0m     result \u001b[38;5;241m=\u001b[39m \u001b[38;5;241m1\u001b[39m\n",
      "\u001b[1;31mValueError\u001b[0m: Factorial is not defined for negative numbers"
     ]
    }
   ],
   "source": [
    "# Example usage:\n",
    "\n",
    "print(factorial(5))  # Should print 120 (5! = 5 * 4 * 3 * 2 * 1 = 120)\n",
    "print(factorial(3))  # Should print 6 (3! = 3 * 2 * 1 = 6)\n",
    "print(factorial(1))  # Should print 1 (1! = 1)\n",
    "print(factorial(0))  # Should print 1 (0! is defined as 1)\n",
    "print(factorial(-2))\n"
   ]
  },
  {
   "cell_type": "markdown",
   "metadata": {},
   "source": [
    "## 7. Write a function that takes a list and returns a list of the unique values.\n",
    "\n",
    "`NOTE: You cannot use set. 🤔`"
   ]
  },
  {
   "cell_type": "code",
   "execution_count": 86,
   "metadata": {},
   "outputs": [],
   "source": [
    "def unique(lst_un):\n",
    "#your code here\n",
    "    #Initialize an empty list to store the unique values\n",
    "    unique_values = []\n",
    "    # Loop through each element in the input list\n",
    "    #For each element in the list, check if it is already present in the unique_values list.\n",
    "    for item in lst_un:\n",
    "        # If the item is not already in the unique_values list, append it, ensuring uniqueness.\n",
    "        if item not in unique_values:\n",
    "            unique_values.append(item)\n",
    "    # Return the list of unique values\n",
    "    return unique_values"
   ]
  },
  {
   "cell_type": "code",
   "execution_count": 88,
   "metadata": {},
   "outputs": [
    {
     "name": "stderr",
     "output_type": "stream",
     "text": [
      "....................................................................................................\n",
      "----------------------------------------------------------------------\n",
      "Ran 100 tests in 0.448s\n",
      "\n",
      "OK\n"
     ]
    }
   ],
   "source": [
    "# This will test your function \n",
    "test_unique(unique)"
   ]
  },
  {
   "cell_type": "code",
   "execution_count": 90,
   "metadata": {},
   "outputs": [
    {
     "name": "stdout",
     "output_type": "stream",
     "text": [
      "[1, 2, 3, 4, 5]\n",
      "['apple', 'banana', 'cherry']\n",
      "[10, 20, 30]\n"
     ]
    }
   ],
   "source": [
    "# Example usage:\n",
    "\n",
    "print(unique([1, 2, 2, 3, 4, 4, 5]))\n",
    "print(unique(['apple', 'banana', 'apple', 'cherry']))\n",
    "print(unique([10, 10, 20, 20, 20, 30]))"
   ]
  },
  {
   "cell_type": "markdown",
   "metadata": {},
   "source": [
    "## 8. Write a function that returns the mode of a list, i.e.: the element that appears the most times.\n",
    "`NOTE: You should not use count... 🧐`"
   ]
  },
  {
   "cell_type": "code",
   "execution_count": 92,
   "metadata": {},
   "outputs": [],
   "source": [
    "def mode_counter(array1):\n",
    "    \n",
    "    #your code here\n",
    "    \n",
    "    mode = None  # Variable to store the mode #None serves as a placeholder to signify that no mode has been identify\n",
    "    max_count = 0  # Variable to store the highest frequency of any element\n",
    "    index = 0  # Start from the first index\n",
    "\n",
    "    # Outer loop to iterate through each element in the list manually\n",
    "    while True:\n",
    "        try:\n",
    "            current = array1[index]  # Get the current element\n",
    "        except IndexError:\n",
    "            break  # Exit loop if index goes out of range\n",
    "\n",
    "        count = 0  # Variable to count occurrences of the current element\n",
    "        inner_index = 0  # Start the inner loop from the first index\n",
    "\n",
    "        # Inner loop to compare each element with the current one\n",
    "        while True:\n",
    "            try:\n",
    "                if array1[inner_index] == current:\n",
    "                    count += 1  # Increment count if a match is found\n",
    "            except IndexError:\n",
    "                break  # Exit inner loop if index goes out of range\n",
    "            inner_index += 1\n",
    "\n",
    "        # Update mode if the current element has a higher count\n",
    "        if count > max_count:\n",
    "            max_count = count\n",
    "            mode = current\n",
    "\n",
    "        index += 1\n",
    "\n",
    "    return mode"
   ]
  },
  {
   "cell_type": "code",
   "execution_count": 94,
   "metadata": {},
   "outputs": [
    {
     "name": "stderr",
     "output_type": "stream",
     "text": [
      "....................................................................................................\n",
      "----------------------------------------------------------------------\n",
      "Ran 100 tests in 0.844s\n",
      "\n",
      "OK\n"
     ]
    }
   ],
   "source": [
    "# This will test your function \n",
    "test_mode(mode_counter)"
   ]
  },
  {
   "cell_type": "code",
   "execution_count": 96,
   "metadata": {},
   "outputs": [
    {
     "name": "stdout",
     "output_type": "stream",
     "text": [
      "6\n",
      "10\n"
     ]
    }
   ],
   "source": [
    "# Example usage:\n",
    "\n",
    "print(mode_counter([1, 2, 3, 4, 5, 6, 6]))\n",
    "print(mode_counter([10, 10, 20, 20, 30]))"
   ]
  },
  {
   "cell_type": "markdown",
   "metadata": {},
   "source": [
    "## 9. Write a function that calculates the standard deviation of a list.\n",
    "`NOTE: Do not use any libraries or already built functions. 😉`"
   ]
  },
  {
   "cell_type": "code",
   "execution_count": 193,
   "metadata": {},
   "outputs": [],
   "source": [
    "#given\n",
    "\n",
    "# I added sample=TRUE to handle standard deviations for populations and samples\n",
    "\n",
    "def st_dev(list_sd, sample=True):\n",
    "\n",
    "    #Your code here\n",
    "    \n",
    "    # Step 1: Handle edge case for empty list\n",
    "    if not list_sd:  # Check if the list is empty\n",
    "        return 0  # Return 0 or a suitable value for an empty list\n",
    "\n",
    "    # Step 2: Initialize variables for the summation and count of elements\n",
    "    total_sum = 0  # Holds the total sum of elements in the list\n",
    "    count = 0  # Counts the number of elements in the list\n",
    "\n",
    "    # Step 3: Calculate the total sum and count of elements\n",
    "    for i in list_sd:\n",
    "        total_sum += i  # Add each element to the total sum\n",
    "        count += 1  # Increment the count for each element\n",
    "\n",
    "    # Step 4: Calculate the mean (average)\n",
    "    mean = total_sum / count  # Divide the total sum by the number of elements\n",
    "\n",
    "    # Step 5: Calculate the sum of squared differences from the mean\n",
    "    sum_squared_diff = 0  # Holds the summation of squared differences\n",
    "    for i in list_sd:\n",
    "        sum_squared_diff += (i - mean) ** 2  # Add the square of the difference between each element and the mean\n",
    "\n",
    "    # Step 6: Calculate the standard deviation\n",
    "    # If `sample` is True, use (count - 1) for the denominator (sample standard deviation)\n",
    "    # Otherwise, use count for the denominator (population standard deviation)\n",
    "    denominator = count - 1 if sample else count\n",
    "    return (sum_squared_diff / denominator) ** (1 / 2)  # Square root of the variance\n"
   ]
  },
  {
   "cell_type": "code",
   "execution_count": 195,
   "metadata": {},
   "outputs": [
    {
     "name": "stderr",
     "output_type": "stream",
     "text": [
      "....................................................................................................\n",
      "----------------------------------------------------------------------\n",
      "Ran 100 tests in 0.172s\n",
      "\n",
      "OK\n"
     ]
    }
   ],
   "source": [
    "# This will test your function \n",
    "test_stdev(st_dev)"
   ]
  },
  {
   "cell_type": "code",
   "execution_count": 199,
   "metadata": {},
   "outputs": [
    {
     "name": "stdout",
     "output_type": "stream",
     "text": [
      "15.811388300841896\n",
      "14.142135623730951\n",
      "0\n"
     ]
    }
   ],
   "source": [
    "# Example usage:\n",
    "\n",
    "# Example list\n",
    "numbers = [10, 20, 30, 40, 50]\n",
    "\n",
    "# Sample standard deviation\n",
    "print(st_dev(numbers))\n",
    "\n",
    "# Population standard deviation\n",
    "print(st_dev(numbers, sample=False))\n",
    "\n",
    "# Empty list\n",
    "print(st_dev([]))  # Output: 0"
   ]
  },
  {
   "cell_type": "markdown",
   "metadata": {},
   "source": [
    "## 10. Write a function to check if a string is a pangram, i.e.: if it contains all the letters of the alphabet at least once. Mind that the strings may contain characters that are not letters."
   ]
  },
  {
   "cell_type": "code",
   "execution_count": 118,
   "metadata": {},
   "outputs": [],
   "source": [
    "def pangram(string):\n",
    "    \n",
    "#your code here\n",
    "\n",
    " # Define the alphabet\n",
    "    alphabet = \"abcdefghijklmnopqrstuvwxyz\"\n",
    "    # Convert the string to lowercase\n",
    "    string = string.lower()\n",
    "    \n",
    "    # Check if all letters in the alphabet are present in the string\n",
    "    for letter in alphabet:\n",
    "        found = False\n",
    "        for char in string:\n",
    "            if char == letter:\n",
    "                found = True\n",
    "                break\n",
    "        if not found:\n",
    "            return False\n",
    "    return True"
   ]
  },
  {
   "cell_type": "code",
   "execution_count": 120,
   "metadata": {},
   "outputs": [
    {
     "name": "stderr",
     "output_type": "stream",
     "text": [
      "..............................\n",
      "----------------------------------------------------------------------\n",
      "Ran 30 tests in 0.126s\n",
      "\n",
      "OK\n"
     ]
    }
   ],
   "source": [
    "# This will test your function \n",
    "test_pangram(pangram)"
   ]
  },
  {
   "cell_type": "code",
   "execution_count": 122,
   "metadata": {},
   "outputs": [
    {
     "name": "stdout",
     "output_type": "stream",
     "text": [
      "True\n",
      "False\n"
     ]
    }
   ],
   "source": [
    "# Example usage:\n",
    "\n",
    "example1 = \"The quick brown fox jumps over the lazy dog.\"\n",
    "print(pangram(example1))  # Output: True\n",
    "\n",
    "example2 = \"Hello World!\"\n",
    "print(pangram(example2))  # Output: False"
   ]
  },
  {
   "cell_type": "markdown",
   "metadata": {},
   "source": [
    "## 11. Write a function that receives a string of comma separated words and returns a string of comma separated words sorted alphabetically.\n",
    "\n",
    "`NOTE: You may use sorted but not split and definitely no join! 🤪`"
   ]
  },
  {
   "cell_type": "code",
   "execution_count": 140,
   "metadata": {},
   "outputs": [],
   "source": [
    "def sort_alpha(string):\n",
    "#your code here\n",
    "    \n",
    "     # Initialize a list to store words\n",
    "    words = []\n",
    "    # Temporary variable to build each word\n",
    "    current_word = \"\"\n",
    "    \n",
    "    # Iterate over each character in the string\n",
    "    for char in string:\n",
    "        # Check if the character is a comma\n",
    "        if char == \",\":\n",
    "            # Add the current word to the list and reset the current word\n",
    "            words = append_word(words, current_word)\n",
    "            current_word = \"\"  # Reset for the next word\n",
    "        else:\n",
    "            # Add the character to the current word\n",
    "            current_word = add_char_to_word(current_word, char)\n",
    "    \n",
    "    # Add the last word to the list (if there's any word left in current_word)\n",
    "    if current_word != \"\":\n",
    "        words = append_word(words, current_word)\n",
    "    \n",
    "    # Sort the words alphabetically (manually)\n",
    "    sorted_words = sort_words(words)\n",
    "    \n",
    "    # Return the sorted words as a comma-separated string\n",
    "    return join_words(sorted_words)\n",
    "\n",
    "# Function to append a word to the list\n",
    "def append_word(word_list, word):\n",
    "    word_list = word_list + [word]  # Adding word to the list\n",
    "    return word_list\n",
    "\n",
    "# Function to add a character to the current word\n",
    "def add_char_to_word(current_word, char):\n",
    "    current_word = current_word + char\n",
    "    return current_word\n",
    "\n",
    "# Function to manually sort words alphabetically\n",
    "def sort_words(words):\n",
    "    # Bubble sort (not using any restricted functions)\n",
    "    for i in range(len(words)):\n",
    "        for j in range(0, len(words)-i-1):\n",
    "            if words[j] > words[j+1]:\n",
    "                # Swap words[j] and words[j+1]\n",
    "                words[j], words[j+1] = words[j+1], words[j]\n",
    "    return words\n",
    "\n",
    "# Function to manually join the sorted words into a comma-separated string\n",
    "def join_words(words):\n",
    "    result = \"\"\n",
    "    for word in words:\n",
    "        if result != \"\":\n",
    "            result = result + \",\"  # Add a comma between words\n",
    "        result = result + word\n",
    "    return result"
   ]
  },
  {
   "cell_type": "code",
   "execution_count": 142,
   "metadata": {},
   "outputs": [
    {
     "name": "stderr",
     "output_type": "stream",
     "text": [
      "....................................................................................................\n",
      "----------------------------------------------------------------------\n",
      "Ran 100 tests in 0.174s\n",
      "\n",
      "OK\n"
     ]
    }
   ],
   "source": [
    "# This will test your function \n",
    "test_alpha(sort_alpha)"
   ]
  },
  {
   "cell_type": "code",
   "execution_count": 144,
   "metadata": {},
   "outputs": [
    {
     "name": "stdout",
     "output_type": "stream",
     "text": [
      "apple,banana,grape,orange\n"
     ]
    }
   ],
   "source": [
    "# Example usage:\n",
    "\n",
    "input_string = \"orange,banana,apple,grape\"\n",
    "print(sort_alpha(input_string))"
   ]
  },
  {
   "cell_type": "markdown",
   "metadata": {},
   "source": [
    "## 12. Write a function to check if a given password is strong (at least 8 characters, at least one lower case, at least one upper case, at least one number and at least one special character). It should output True if strong and False if not."
   ]
  },
  {
   "cell_type": "code",
   "execution_count": 146,
   "metadata": {},
   "outputs": [],
   "source": [
    "def check_pass(password):\n",
    "#your code here\n",
    "\n",
    "    # Initialize variables to track password strength criteria\n",
    "    has_lower = False\n",
    "    has_upper = False\n",
    "    has_number = False\n",
    "    has_special = False\n",
    "    char_count = 0  # To count the number of characters\n",
    "    \n",
    "    # Define a set of special characters\n",
    "    special_characters = \"!@#$%^&*()-_=+[]{}|;:',.<>?/`~\\\"\\\\\"\n",
    "    \n",
    "    # Iterate through each character in the password\n",
    "    for char in password:\n",
    "        char_count += 1  # Increment character count\n",
    "        \n",
    "        # Check for lowercase letters\n",
    "        if 'a' <= char <= 'z':\n",
    "            has_lower = True\n",
    "        \n",
    "        # Check for uppercase letters\n",
    "        if 'A' <= char <= 'Z':\n",
    "            has_upper = True\n",
    "        \n",
    "        # Check for digits\n",
    "        if '0' <= char <= '9':\n",
    "            has_number = True\n",
    "        \n",
    "        # Check for special characters\n",
    "        for special in special_characters:\n",
    "            if char == special:\n",
    "                has_special = True\n",
    "                break  # Exit the loop once a match is found\n",
    "    \n",
    "    # Check if password meets all criteria\n",
    "    if char_count >= 8 and has_lower and has_upper and has_number and has_special:\n",
    "        return True\n",
    "    return False"
   ]
  },
  {
   "cell_type": "code",
   "execution_count": 148,
   "metadata": {},
   "outputs": [
    {
     "name": "stderr",
     "output_type": "stream",
     "text": [
      "....................................................................................................\n",
      "----------------------------------------------------------------------\n",
      "Ran 100 tests in 0.212s\n",
      "\n",
      "OK\n"
     ]
    }
   ],
   "source": [
    "# This will test your function \n",
    "test_pass(check_pass)"
   ]
  },
  {
   "cell_type": "code",
   "execution_count": 150,
   "metadata": {},
   "outputs": [
    {
     "name": "stdout",
     "output_type": "stream",
     "text": [
      "True\n",
      "False\n",
      "False\n",
      "True\n"
     ]
    }
   ],
   "source": [
    "# Example usage:\n",
    "\n",
    "print(check_pass(\"Strong1!\"))  \n",
    "print(check_pass(\"weakpass\"))  \n",
    "print(check_pass(\"WeakPass1\"))  \n",
    "print(check_pass(\"StrongPass1!\"))"
   ]
  },
  {
   "cell_type": "code",
   "execution_count": null,
   "metadata": {},
   "outputs": [],
   "source": []
  }
 ],
 "metadata": {
  "kernelspec": {
   "display_name": "Python 3 (ipykernel)",
   "language": "python",
   "name": "python3"
  },
  "language_info": {
   "codemirror_mode": {
    "name": "ipython",
    "version": 3
   },
   "file_extension": ".py",
   "mimetype": "text/x-python",
   "name": "python",
   "nbconvert_exporter": "python",
   "pygments_lexer": "ipython3",
   "version": "3.12.7"
  },
  "vscode": {
   "interpreter": {
    "hash": "aee8b7b246df8f9039afb4144a1f6fd8d2ca17a180786b69acc140d282b71a49"
   }
  }
 },
 "nbformat": 4,
 "nbformat_minor": 4
}
