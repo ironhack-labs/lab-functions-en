{
 "cells": [
  {
   "cell_type": "markdown",
   "metadata": {},
   "source": [
    "# Functions"
   ]
  },
  {
   "cell_type": "markdown",
   "metadata": {},
   "source": [
    "On this lab we will put to practice some of the concepts we have learned on this past few days.\n",
    "\n",
    "`NOTE: On this lab you should try to write all the functions yourself using only the most basic of python syntax and without functions such as len, count, sum, max, min, in, etc. Give it a try. 🧑🏻‍💻👩🏻‍💻`\n",
    "\n",
    "The cell after each exercise contains a few tests to check if your function works as expected."
   ]
  },
  {
   "cell_type": "code",
   "execution_count": 14,
   "metadata": {},
   "outputs": [],
   "source": [
    "from mod.testing import *\n",
    "import unittest"
   ]
  },
  {
   "cell_type": "markdown",
   "metadata": {},
   "source": [
    "## 1. Write a function that returns the greater of two numbers"
   ]
  },
  {
   "cell_type": "code",
   "execution_count": 38,
   "metadata": {},
   "outputs": [],
   "source": [
    "def greater(a,b):\n",
    "    if a < b:\n",
    "        return b\n",
    "    elif a > b:\n",
    "        return a\n",
    "    else:\n",
    "        print(\"the numbers are equal!\")\n",
    "#your code here"
   ]
  },
  {
   "cell_type": "code",
   "execution_count": 40,
   "metadata": {},
   "outputs": [
    {
     "name": "stderr",
     "output_type": "stream",
     "text": [
      "....................................................................................................\n",
      "----------------------------------------------------------------------\n",
      "Ran 100 tests in 0.056s\n",
      "\n",
      "OK\n"
     ]
    }
   ],
   "source": [
    "# This will test your function \n",
    "test_greater(greater)"
   ]
  },
  {
   "cell_type": "markdown",
   "metadata": {},
   "source": [
    "## 2. Now write a function that returns the largest element on a list"
   ]
  },
  {
   "cell_type": "code",
   "execution_count": 42,
   "metadata": {},
   "outputs": [
    {
     "name": "stdout",
     "output_type": "stream",
     "text": [
      "5\n"
     ]
    }
   ],
   "source": [
    "def greatest(list_):\n",
    "    greater_of_list=list_[0]\n",
    "    for element in list_:\n",
    "        if element > greater_of_list:\n",
    "            greater_of_list = element\n",
    "    return greater_of_list\n",
    "\n",
    "print(greatest([1,3,5]))\n",
    "    "
   ]
  },
  {
   "cell_type": "code",
   "execution_count": 44,
   "metadata": {},
   "outputs": [
    {
     "name": "stderr",
     "output_type": "stream",
     "text": [
      "....................................................................................................\n",
      "----------------------------------------------------------------------\n",
      "Ran 100 tests in 0.031s\n",
      "\n",
      "OK\n"
     ]
    }
   ],
   "source": [
    "# This will test your function \n",
    "test_greatest(greatest)"
   ]
  },
  {
   "cell_type": "markdown",
   "metadata": {},
   "source": [
    "## 3. Write a function that sums all the elements on a list"
   ]
  },
  {
   "cell_type": "code",
   "execution_count": 46,
   "metadata": {},
   "outputs": [
    {
     "name": "stdout",
     "output_type": "stream",
     "text": [
      "10\n"
     ]
    }
   ],
   "source": [
    "def sum_all(lst):\n",
    "    sum_=0\n",
    "    for element in lst:\n",
    "        sum_+=element\n",
    "    return sum_\n",
    "print(sum_all([1,3,2,4]))"
   ]
  },
  {
   "cell_type": "code",
   "execution_count": 48,
   "metadata": {
    "scrolled": true
   },
   "outputs": [
    {
     "name": "stderr",
     "output_type": "stream",
     "text": [
      "....................................................................................................\n",
      "----------------------------------------------------------------------\n",
      "Ran 100 tests in 0.036s\n",
      "\n",
      "OK\n"
     ]
    }
   ],
   "source": [
    "# This will test your function \n",
    "test_sum(sum_all)"
   ]
  },
  {
   "cell_type": "markdown",
   "metadata": {},
   "source": [
    "## 4. Write another function that multiplies all the elements on a list"
   ]
  },
  {
   "cell_type": "code",
   "execution_count": 50,
   "metadata": {},
   "outputs": [
    {
     "name": "stdout",
     "output_type": "stream",
     "text": [
      "24\n"
     ]
    }
   ],
   "source": [
    "def mult_all(lst):\n",
    "    mult_=1\n",
    "    for element in lst:\n",
    "        mult_ *= element\n",
    "    return mult_\n",
    "print(mult_all([1,3,2,4]))\n",
    "#your code here"
   ]
  },
  {
   "cell_type": "code",
   "execution_count": 52,
   "metadata": {
    "scrolled": true
   },
   "outputs": [
    {
     "name": "stderr",
     "output_type": "stream",
     "text": [
      "....................................................................................................\n",
      "----------------------------------------------------------------------\n",
      "Ran 100 tests in 0.034s\n",
      "\n",
      "OK\n"
     ]
    }
   ],
   "source": [
    "# This will test your function \n",
    "test_mult(mult_all)"
   ]
  },
  {
   "cell_type": "markdown",
   "metadata": {},
   "source": [
    "## 5. Now combine those two ideas and write a function that receives a list and either \"+\" or \"*\" and outputs acordingly"
   ]
  },
  {
   "cell_type": "code",
   "execution_count": 54,
   "metadata": {},
   "outputs": [
    {
     "name": "stdout",
     "output_type": "stream",
     "text": [
      "105\n"
     ]
    }
   ],
   "source": [
    "def oper_all(arr, oper = \"*\"):\n",
    "    if oper == \"+\":\n",
    "        result=0\n",
    "        for element in arr:\n",
    "            result+=element\n",
    "        return result\n",
    "    if oper == \"*\":\n",
    "        result=1\n",
    "        for element in arr:\n",
    "            result*=element\n",
    "        return result\n",
    "#your code here\n",
    "print(oper_all([1,3,5,7],\"*\"))"
   ]
  },
  {
   "cell_type": "code",
   "execution_count": 56,
   "metadata": {},
   "outputs": [
    {
     "name": "stderr",
     "output_type": "stream",
     "text": [
      "....................................................................................................\n",
      "----------------------------------------------------------------------\n",
      "Ran 100 tests in 0.032s\n",
      "\n",
      "OK\n"
     ]
    }
   ],
   "source": [
    "# This will test your function \n",
    "test_operations(oper_all)"
   ]
  },
  {
   "cell_type": "markdown",
   "metadata": {},
   "source": [
    "## 6. Write a function that returns the factorial of a number."
   ]
  },
  {
   "cell_type": "code",
   "execution_count": 58,
   "metadata": {},
   "outputs": [
    {
     "name": "stdout",
     "output_type": "stream",
     "text": [
      "120\n"
     ]
    }
   ],
   "source": [
    "def factorial(n):\n",
    "    i=n\n",
    "    fact=1\n",
    "    while i >= 1:\n",
    "        fact *= i\n",
    "        i -= 1\n",
    "    return fact\n",
    "\n",
    "print(factorial(5))\n",
    "\n",
    "#your code here"
   ]
  },
  {
   "cell_type": "code",
   "execution_count": null,
   "metadata": {},
   "outputs": [],
   "source": [
    "#factorial formula\n",
    "#n! = n * ( n - 1 ) *...*1\n",
    "\n",
    "# This code defines a function called \"factorial\" which takes an input \"n\". The function uses a for loop to iterate through the range of numbers \n",
    "# from 1 to n+1. For each number in that range, it multiplies the current value of x by the number in the range. At the end of the loop, \n",
    "# the function returns the final value of x, which will be the factorial of the input number \"n\".\n",
    "\n",
    "# The Factorial of a positive integer n is the product of all positive integers less than or equal to n. \n",
    "# For example, the factorial of 6 (written \"6!\") is 6 * 5 * 4 * 3 * 2 * 1 = 720.\n",
    "\n",
    "# So this function takes an input of any positive integer, and returns the factorial of that number."
   ]
  },
  {
   "cell_type": "code",
   "execution_count": 60,
   "metadata": {},
   "outputs": [
    {
     "name": "stderr",
     "output_type": "stream",
     "text": [
      "....................................................................................................\n",
      "----------------------------------------------------------------------\n",
      "Ran 100 tests in 0.061s\n",
      "\n",
      "OK\n"
     ]
    }
   ],
   "source": [
    "# This will test your function \n",
    "test_factorial(factorial)"
   ]
  },
  {
   "cell_type": "markdown",
   "metadata": {},
   "source": [
    "## 7. Write a function that takes a list and returns a list of the unique values.\n",
    "\n",
    "`NOTE: You cannot use set. 🤔`"
   ]
  },
  {
   "cell_type": "code",
   "execution_count": 319,
   "metadata": {},
   "outputs": [
    {
     "data": {
      "text/plain": [
       "dict_keys([5, 3, 10, 0])"
      ]
     },
     "execution_count": 319,
     "metadata": {},
     "output_type": "execute_result"
    }
   ],
   "source": [
    "def unique(lst_un):\n",
    "    A={} \n",
    "    for element in lst_un:\n",
    "        times=0\n",
    "        for element_2 in lst_un:\n",
    "            if element == element_2:\n",
    "                times += 1\n",
    "        A[element]=times\n",
    "    lst_un_value = A.keys()\n",
    "    return lst_un_value\n",
    "unique([5,3,10,10,0,10])"
   ]
  },
  {
   "cell_type": "code",
   "execution_count": 190,
   "metadata": {},
   "outputs": [
    {
     "name": "stderr",
     "output_type": "stream",
     "text": [
      "....................................................................................................\n",
      "----------------------------------------------------------------------\n",
      "Ran 100 tests in 0.337s\n",
      "\n",
      "OK\n"
     ]
    }
   ],
   "source": [
    "# This will test your function \n",
    "test_unique(unique)"
   ]
  },
  {
   "cell_type": "markdown",
   "metadata": {},
   "source": [
    "## 8. Write a function that returns the mode of a list, i.e.: the element that appears the most times.\n",
    "`NOTE: You should not use count... 🧐`"
   ]
  },
  {
   "cell_type": "code",
   "execution_count": 62,
   "metadata": {},
   "outputs": [
    {
     "name": "stdout",
     "output_type": "stream",
     "text": [
      "5\n"
     ]
    }
   ],
   "source": [
    "def mode_counter(arr):\n",
    "    count_= { }\n",
    "    for element in arr:\n",
    "        if element in count_:\n",
    "            count_[element]+=1\n",
    "        else:\n",
    "            count_[element]=1\n",
    "    mode_=0\n",
    "    times=0\n",
    "    for j in count_:\n",
    "        if count_[j] > times:\n",
    "            mode_ = j\n",
    "            times=count_[j]\n",
    "    return mode_\n",
    "    #return print(\"The mode is \", mode_, \"and appears\", times, \"times!\")\n",
    "print(mode_counter([5,4,2,5,5]))\n",
    "#your code here"
   ]
  },
  {
   "cell_type": "code",
   "execution_count": 64,
   "metadata": {},
   "outputs": [
    {
     "name": "stderr",
     "output_type": "stream",
     "text": [
      "....................................................................................................\n",
      "----------------------------------------------------------------------\n",
      "Ran 100 tests in 0.051s\n",
      "\n",
      "OK\n"
     ]
    }
   ],
   "source": [
    "# This will test your function \n",
    "test_mode(mode_counter)"
   ]
  },
  {
   "cell_type": "markdown",
   "metadata": {},
   "source": [
    "## 9. Write a function that calculates the standard deviation of a list.\n",
    "`NOTE: Do not use any libraries or already built functions. 😉`"
   ]
  },
  {
   "cell_type": "markdown",
   "metadata": {},
   "source": []
  },
  {
   "cell_type": "code",
   "execution_count": 16,
   "metadata": {},
   "outputs": [
    {
     "name": "stdout",
     "output_type": "stream",
     "text": [
      "2.516611478423583\n"
     ]
    }
   ],
   "source": [
    "def st_dev(list_sd):\n",
    "    sum_=0\n",
    "    avg=0\n",
    "    sum_sq_dev=0\n",
    "    variance=0\n",
    "    length=0\n",
    "    for element in list_sd:\n",
    "        sum_+=element\n",
    "        length+=1\n",
    "    avg=sum_/length\n",
    "    sq_dev= []\n",
    "    for element in list_sd:\n",
    "        sq_dev=sq_dev+[(element-avg)**2]\n",
    "    for element in sq_dev:\n",
    "        sum_sq_dev += element\n",
    "    variance=sum_sq_dev/(length-1)\n",
    "    st_dev_= variance**0.5\n",
    "    return st_dev_\n",
    "print(st_dev([5,3,9,5]))\n",
    "#your code here"
   ]
  },
  {
   "cell_type": "code",
   "execution_count": 18,
   "metadata": {},
   "outputs": [
    {
     "name": "stderr",
     "output_type": "stream",
     "text": [
      "....................................................................................................\n",
      "----------------------------------------------------------------------\n",
      "Ran 100 tests in 0.059s\n",
      "\n",
      "OK\n"
     ]
    }
   ],
   "source": [
    "# This will test your function \n",
    "test_stdev(st_dev)\n",
    "\n",
    "### MY FUNCTION MAKES THE CORRECT CALCULATION BUT THE TEST DOES NOT APROVE???"
   ]
  },
  {
   "cell_type": "markdown",
   "metadata": {},
   "source": [
    "## 10. Write a function to check if a string is a pangram, i.e.: if it contains all the letters of the alphabet at least once. Mind that the strings may contain characters that are not letters."
   ]
  },
  {
   "cell_type": "code",
   "execution_count": 325,
   "metadata": {},
   "outputs": [
    {
     "name": "stdout",
     "output_type": "stream",
     "text": [
      "['a', 'c', 'b', 'd', 'e', 'f', 'g', 'h', 'i', 'j', 'k', 'l', 'm', 'n', 'o', 'p', 'q', 'r', 's', 't', 'u', 'v', 'w', 'x', 'y', 'z']\n",
      "The string is a pangram\n"
     ]
    }
   ],
   "source": [
    "def pangram(string_):\n",
    "    import string\n",
    "    \n",
    "    def is_special_character(char):\n",
    "        return char in string.punctuation\n",
    "    \n",
    "    #trasnformar numa lista\n",
    "    lista=[]\n",
    "    for char in string_:\n",
    "        if char.isalpha():\n",
    "            if char != \" \":\n",
    "                if not(is_special_character(char)):\n",
    "                    lista.append(char)\n",
    "    for i in range(len(lista)):\n",
    "        lista[i]=lista[i].lower()               \n",
    "    lista=list(unique(lista))\n",
    "   \n",
    "    print(lista)\n",
    "    if len(lista) == 26:\n",
    "        return print(\"The string is a pangram\")\n",
    "    return print(\"The string is not a pangram\")\n",
    "\n",
    "pangram(\"Aaccbccdefghijklmnopqrstuvwxyz123\")   \n"
   ]
  },
  {
   "cell_type": "code",
   "execution_count": 315,
   "metadata": {},
   "outputs": [
    {
     "name": "stderr",
     "output_type": "stream",
     "text": [
      "FFFFFFFFFFFFFFFFFFFFFFFFFFFFFF\n",
      "======================================================================\n",
      "FAIL: runTest (mod.testing.test_pangram.<locals>.TestKnown.runTest)\n",
      "----------------------------------------------------------------------\n",
      "Traceback (most recent call last):\n",
      "  File \"/Users/tiagovhp/Ironhack/Day 3/lab-functions-en/mod/testing.py\", line 172, in runTest\n",
      "    self.assertEqual(fn(self.input), self.output, f\"Should be {self.output}\")\n",
      "AssertionError: None != True : Should be True\n",
      "\n",
      "======================================================================\n",
      "FAIL: runTest (mod.testing.test_pangram.<locals>.TestKnown.runTest)\n",
      "----------------------------------------------------------------------\n",
      "Traceback (most recent call last):\n",
      "  File \"/Users/tiagovhp/Ironhack/Day 3/lab-functions-en/mod/testing.py\", line 172, in runTest\n",
      "    self.assertEqual(fn(self.input), self.output, f\"Should be {self.output}\")\n",
      "AssertionError: None != True : Should be True\n",
      "\n",
      "======================================================================\n",
      "FAIL: runTest (mod.testing.test_pangram.<locals>.TestKnown.runTest)\n",
      "----------------------------------------------------------------------\n",
      "Traceback (most recent call last):\n",
      "  File \"/Users/tiagovhp/Ironhack/Day 3/lab-functions-en/mod/testing.py\", line 172, in runTest\n",
      "    self.assertEqual(fn(self.input), self.output, f\"Should be {self.output}\")\n",
      "AssertionError: None != True : Should be True\n",
      "\n",
      "======================================================================\n",
      "FAIL: runTest (mod.testing.test_pangram.<locals>.TestKnown.runTest)\n",
      "----------------------------------------------------------------------\n",
      "Traceback (most recent call last):\n",
      "  File \"/Users/tiagovhp/Ironhack/Day 3/lab-functions-en/mod/testing.py\", line 172, in runTest\n",
      "    self.assertEqual(fn(self.input), self.output, f\"Should be {self.output}\")\n",
      "AssertionError: None != True : Should be True\n",
      "\n",
      "======================================================================\n",
      "FAIL: runTest (mod.testing.test_pangram.<locals>.TestKnown.runTest)\n",
      "----------------------------------------------------------------------\n",
      "Traceback (most recent call last):\n",
      "  File \"/Users/tiagovhp/Ironhack/Day 3/lab-functions-en/mod/testing.py\", line 172, in runTest\n",
      "    self.assertEqual(fn(self.input), self.output, f\"Should be {self.output}\")\n",
      "AssertionError: None != True : Should be True\n",
      "\n",
      "======================================================================\n",
      "FAIL: runTest (mod.testing.test_pangram.<locals>.TestKnown.runTest)\n",
      "----------------------------------------------------------------------\n",
      "Traceback (most recent call last):\n",
      "  File \"/Users/tiagovhp/Ironhack/Day 3/lab-functions-en/mod/testing.py\", line 172, in runTest\n",
      "    self.assertEqual(fn(self.input), self.output, f\"Should be {self.output}\")\n",
      "AssertionError: None != True : Should be True\n",
      "\n",
      "======================================================================\n",
      "FAIL: runTest (mod.testing.test_pangram.<locals>.TestKnown.runTest)\n",
      "----------------------------------------------------------------------\n",
      "Traceback (most recent call last):\n",
      "  File \"/Users/tiagovhp/Ironhack/Day 3/lab-functions-en/mod/testing.py\", line 172, in runTest\n",
      "    self.assertEqual(fn(self.input), self.output, f\"Should be {self.output}\")\n",
      "AssertionError: None != True : Should be True\n",
      "\n",
      "======================================================================\n",
      "FAIL: runTest (mod.testing.test_pangram.<locals>.TestKnown.runTest)\n",
      "----------------------------------------------------------------------\n",
      "Traceback (most recent call last):\n",
      "  File \"/Users/tiagovhp/Ironhack/Day 3/lab-functions-en/mod/testing.py\", line 172, in runTest\n",
      "    self.assertEqual(fn(self.input), self.output, f\"Should be {self.output}\")\n",
      "AssertionError: None != True : Should be True\n",
      "\n",
      "======================================================================\n",
      "FAIL: runTest (mod.testing.test_pangram.<locals>.TestKnown.runTest)\n",
      "----------------------------------------------------------------------\n",
      "Traceback (most recent call last):\n",
      "  File \"/Users/tiagovhp/Ironhack/Day 3/lab-functions-en/mod/testing.py\", line 172, in runTest\n",
      "    self.assertEqual(fn(self.input), self.output, f\"Should be {self.output}\")\n",
      "AssertionError: None != True : Should be True\n",
      "\n",
      "======================================================================\n",
      "FAIL: runTest (mod.testing.test_pangram.<locals>.TestKnown.runTest)\n",
      "----------------------------------------------------------------------\n",
      "Traceback (most recent call last):\n",
      "  File \"/Users/tiagovhp/Ironhack/Day 3/lab-functions-en/mod/testing.py\", line 172, in runTest\n",
      "    self.assertEqual(fn(self.input), self.output, f\"Should be {self.output}\")\n",
      "AssertionError: None != True : Should be True\n",
      "\n",
      "======================================================================\n",
      "FAIL: runTest (mod.testing.test_pangram.<locals>.TestKnown.runTest)\n",
      "----------------------------------------------------------------------\n",
      "Traceback (most recent call last):\n",
      "  File \"/Users/tiagovhp/Ironhack/Day 3/lab-functions-en/mod/testing.py\", line 172, in runTest\n",
      "    self.assertEqual(fn(self.input), self.output, f\"Should be {self.output}\")\n",
      "AssertionError: None != True : Should be True\n",
      "\n",
      "======================================================================\n",
      "FAIL: runTest (mod.testing.test_pangram.<locals>.TestKnown.runTest)\n",
      "----------------------------------------------------------------------\n",
      "Traceback (most recent call last):\n",
      "  File \"/Users/tiagovhp/Ironhack/Day 3/lab-functions-en/mod/testing.py\", line 172, in runTest\n",
      "    self.assertEqual(fn(self.input), self.output, f\"Should be {self.output}\")\n",
      "AssertionError: None != True : Should be True\n",
      "\n",
      "======================================================================\n",
      "FAIL: runTest (mod.testing.test_pangram.<locals>.TestKnown.runTest)\n",
      "----------------------------------------------------------------------\n",
      "Traceback (most recent call last):\n",
      "  File \"/Users/tiagovhp/Ironhack/Day 3/lab-functions-en/mod/testing.py\", line 172, in runTest\n",
      "    self.assertEqual(fn(self.input), self.output, f\"Should be {self.output}\")\n",
      "AssertionError: None != True : Should be True\n",
      "\n",
      "======================================================================\n",
      "FAIL: runTest (mod.testing.test_pangram.<locals>.TestKnown.runTest)\n",
      "----------------------------------------------------------------------\n",
      "Traceback (most recent call last):\n",
      "  File \"/Users/tiagovhp/Ironhack/Day 3/lab-functions-en/mod/testing.py\", line 172, in runTest\n",
      "    self.assertEqual(fn(self.input), self.output, f\"Should be {self.output}\")\n",
      "AssertionError: None != True : Should be True\n",
      "\n",
      "======================================================================\n",
      "FAIL: runTest (mod.testing.test_pangram.<locals>.TestKnown.runTest)\n",
      "----------------------------------------------------------------------\n",
      "Traceback (most recent call last):\n",
      "  File \"/Users/tiagovhp/Ironhack/Day 3/lab-functions-en/mod/testing.py\", line 172, in runTest\n",
      "    self.assertEqual(fn(self.input), self.output, f\"Should be {self.output}\")\n",
      "AssertionError: None != True : Should be True\n",
      "\n",
      "======================================================================\n",
      "FAIL: runTest (mod.testing.test_pangram.<locals>.TestKnown.runTest)\n",
      "----------------------------------------------------------------------\n",
      "Traceback (most recent call last):\n",
      "  File \"/Users/tiagovhp/Ironhack/Day 3/lab-functions-en/mod/testing.py\", line 172, in runTest\n",
      "    self.assertEqual(fn(self.input), self.output, f\"Should be {self.output}\")\n",
      "AssertionError: None != False : Should be False\n",
      "\n",
      "======================================================================\n",
      "FAIL: runTest (mod.testing.test_pangram.<locals>.TestKnown.runTest)\n",
      "----------------------------------------------------------------------\n",
      "Traceback (most recent call last):\n",
      "  File \"/Users/tiagovhp/Ironhack/Day 3/lab-functions-en/mod/testing.py\", line 172, in runTest\n",
      "    self.assertEqual(fn(self.input), self.output, f\"Should be {self.output}\")\n",
      "AssertionError: None != False : Should be False\n",
      "\n",
      "======================================================================\n",
      "FAIL: runTest (mod.testing.test_pangram.<locals>.TestKnown.runTest)\n",
      "----------------------------------------------------------------------\n",
      "Traceback (most recent call last):\n",
      "  File \"/Users/tiagovhp/Ironhack/Day 3/lab-functions-en/mod/testing.py\", line 172, in runTest\n",
      "    self.assertEqual(fn(self.input), self.output, f\"Should be {self.output}\")\n",
      "AssertionError: None != False : Should be False\n",
      "\n",
      "======================================================================\n",
      "FAIL: runTest (mod.testing.test_pangram.<locals>.TestKnown.runTest)\n",
      "----------------------------------------------------------------------\n",
      "Traceback (most recent call last):\n",
      "  File \"/Users/tiagovhp/Ironhack/Day 3/lab-functions-en/mod/testing.py\", line 172, in runTest\n",
      "    self.assertEqual(fn(self.input), self.output, f\"Should be {self.output}\")\n",
      "AssertionError: None != False : Should be False\n",
      "\n",
      "======================================================================\n",
      "FAIL: runTest (mod.testing.test_pangram.<locals>.TestKnown.runTest)\n",
      "----------------------------------------------------------------------\n",
      "Traceback (most recent call last):\n",
      "  File \"/Users/tiagovhp/Ironhack/Day 3/lab-functions-en/mod/testing.py\", line 172, in runTest\n",
      "    self.assertEqual(fn(self.input), self.output, f\"Should be {self.output}\")\n",
      "AssertionError: None != False : Should be False\n",
      "\n",
      "======================================================================\n",
      "FAIL: runTest (mod.testing.test_pangram.<locals>.TestKnown.runTest)\n",
      "----------------------------------------------------------------------\n",
      "Traceback (most recent call last):\n",
      "  File \"/Users/tiagovhp/Ironhack/Day 3/lab-functions-en/mod/testing.py\", line 172, in runTest\n",
      "    self.assertEqual(fn(self.input), self.output, f\"Should be {self.output}\")\n",
      "AssertionError: None != False : Should be False\n",
      "\n",
      "======================================================================\n",
      "FAIL: runTest (mod.testing.test_pangram.<locals>.TestKnown.runTest)\n",
      "----------------------------------------------------------------------\n",
      "Traceback (most recent call last):\n",
      "  File \"/Users/tiagovhp/Ironhack/Day 3/lab-functions-en/mod/testing.py\", line 172, in runTest\n",
      "    self.assertEqual(fn(self.input), self.output, f\"Should be {self.output}\")\n",
      "AssertionError: None != False : Should be False\n",
      "\n",
      "======================================================================\n",
      "FAIL: runTest (mod.testing.test_pangram.<locals>.TestKnown.runTest)\n",
      "----------------------------------------------------------------------\n",
      "Traceback (most recent call last):\n",
      "  File \"/Users/tiagovhp/Ironhack/Day 3/lab-functions-en/mod/testing.py\", line 172, in runTest\n",
      "    self.assertEqual(fn(self.input), self.output, f\"Should be {self.output}\")\n",
      "AssertionError: None != False : Should be False\n",
      "\n",
      "======================================================================\n",
      "FAIL: runTest (mod.testing.test_pangram.<locals>.TestKnown.runTest)\n",
      "----------------------------------------------------------------------\n",
      "Traceback (most recent call last):\n",
      "  File \"/Users/tiagovhp/Ironhack/Day 3/lab-functions-en/mod/testing.py\", line 172, in runTest\n",
      "    self.assertEqual(fn(self.input), self.output, f\"Should be {self.output}\")\n",
      "AssertionError: None != False : Should be False\n",
      "\n",
      "======================================================================\n",
      "FAIL: runTest (mod.testing.test_pangram.<locals>.TestKnown.runTest)\n",
      "----------------------------------------------------------------------\n",
      "Traceback (most recent call last):\n",
      "  File \"/Users/tiagovhp/Ironhack/Day 3/lab-functions-en/mod/testing.py\", line 172, in runTest\n",
      "    self.assertEqual(fn(self.input), self.output, f\"Should be {self.output}\")\n",
      "AssertionError: None != False : Should be False\n",
      "\n",
      "======================================================================\n",
      "FAIL: runTest (mod.testing.test_pangram.<locals>.TestKnown.runTest)\n",
      "----------------------------------------------------------------------\n",
      "Traceback (most recent call last):\n",
      "  File \"/Users/tiagovhp/Ironhack/Day 3/lab-functions-en/mod/testing.py\", line 172, in runTest\n",
      "    self.assertEqual(fn(self.input), self.output, f\"Should be {self.output}\")\n",
      "AssertionError: None != True : Should be True\n",
      "\n",
      "======================================================================\n",
      "FAIL: runTest (mod.testing.test_pangram.<locals>.TestKnown.runTest)\n",
      "----------------------------------------------------------------------\n",
      "Traceback (most recent call last):\n",
      "  File \"/Users/tiagovhp/Ironhack/Day 3/lab-functions-en/mod/testing.py\", line 172, in runTest\n",
      "    self.assertEqual(fn(self.input), self.output, f\"Should be {self.output}\")\n",
      "AssertionError: None != False : Should be False\n",
      "\n",
      "======================================================================\n",
      "FAIL: runTest (mod.testing.test_pangram.<locals>.TestKnown.runTest)\n",
      "----------------------------------------------------------------------\n",
      "Traceback (most recent call last):\n",
      "  File \"/Users/tiagovhp/Ironhack/Day 3/lab-functions-en/mod/testing.py\", line 172, in runTest\n",
      "    self.assertEqual(fn(self.input), self.output, f\"Should be {self.output}\")\n",
      "AssertionError: None != False : Should be False\n",
      "\n",
      "======================================================================\n",
      "FAIL: runTest (mod.testing.test_pangram.<locals>.TestKnown.runTest)\n",
      "----------------------------------------------------------------------\n",
      "Traceback (most recent call last):\n",
      "  File \"/Users/tiagovhp/Ironhack/Day 3/lab-functions-en/mod/testing.py\", line 172, in runTest\n",
      "    self.assertEqual(fn(self.input), self.output, f\"Should be {self.output}\")\n",
      "AssertionError: None != False : Should be False\n",
      "\n",
      "======================================================================\n",
      "FAIL: runTest (mod.testing.test_pangram.<locals>.TestKnown.runTest)\n",
      "----------------------------------------------------------------------\n",
      "Traceback (most recent call last):\n",
      "  File \"/Users/tiagovhp/Ironhack/Day 3/lab-functions-en/mod/testing.py\", line 172, in runTest\n",
      "    self.assertEqual(fn(self.input), self.output, f\"Should be {self.output}\")\n",
      "AssertionError: None != False : Should be False\n",
      "\n",
      "----------------------------------------------------------------------\n",
      "Ran 30 tests in 0.023s\n",
      "\n",
      "FAILED (failures=30)\n"
     ]
    },
    {
     "name": "stdout",
     "output_type": "stream",
     "text": [
      "['w', 'a', 'l', 't', 'z', 'n', 'y', 'm', 'p', 'h', 'f', 'o', 'r', 'q', 'u', 'i', 'c', 'k', 'j', 'g', 's', 'v', 'e', 'x', 'b', 'd']\n",
      "The string is a pangram\n",
      "['s', 'p', 'h', 'i', 'n', 'x', 'o', 'f', 'b', 'l', 'a', 'c', 'k', 'q', 'u', 'r', 't', 'z', 'j', 'd', 'g', 'e', 'm', 'y', 'v', 'w']\n",
      "The string is a pangram\n",
      "['p', 'a', 'c', 'k', 'm', 'y', 'b', 'o', 'x', 'w', 'i', 't', 'h', 'f', 'v', 'e', 'd', 'z', 'n', 'l', 'q', 'u', 'r', 'j', 'g', 's']\n",
      "The string is a pangram\n",
      "['g', 'l', 'i', 'b', 'j', 'o', 'c', 'k', 's', 'q', 'u', 'z', 'n', 'y', 'm', 'p', 'h', 't', 'v', 'e', 'x', 'd', 'w', 'a', 'r', 'f']\n",
      "The string is a pangram\n",
      "['j', 'a', 'c', 'k', 'd', 'w', 's', 'l', 'o', 'v', 'e', 'm', 'y', 'b', 'i', 'g', 'p', 'h', 'n', 'x', 'f', 'q', 'u', 'r', 't', 'z']\n",
      "The string is a pangram\n",
      "['t', 'h', 'e', 'f', 'i', 'v', 'b', 'o', 'x', 'n', 'g', 'w', 'z', 'a', 'r', 'd', 's', 'j', 'u', 'm', 'p', 'q', 'c', 'k', 'l', 'y']\n",
      "The string is a pangram\n",
      "['h', 'o', 'w', 'v', 'e', 'x', 'i', 'n', 'g', 'l', 'y', 'q', 'u', 'c', 'k', 'd', 'a', 'f', 't', 'z', 'b', 'r', 's', 'j', 'm', 'p']\n",
      "The string is a pangram\n",
      "['q', 'u', 'i', 'c', 'k', 'z', 'e', 'p', 'h', 'y', 'r', 's', 'b', 'l', 'o', 'w', 'v', 'x', 'n', 'g', 'd', 'a', 'f', 't', 'j', 'm']\n",
      "The string is a pangram\n",
      "['t', 'w', 'o', 'd', 'r', 'i', 'v', 'e', 'n', 'j', 'c', 'k', 's', 'h', 'l', 'p', 'f', 'a', 'x', 'm', 'y', 'b', 'g', 'q', 'u', 'z']\n",
      "The string is a pangram\n",
      "['t', 'h', 'e', 'j', 'a', 'y', 'p', 'i', 'g', 'f', 'o', 'x', 'z', 'b', 'r', 'n', 'd', 'm', 'w', 'l', 'v', 's', 'q', 'u', 'c', 'k']\n",
      "The string is a pangram\n",
      "['s', 'y', 'm', 'p', 'a', 't', 'h', 'i', 'z', 'n', 'g', 'w', 'o', 'u', 'l', 'd', 'f', 'x', 'q', 'k', 'e', 'r', 'b', 'j', 'c', 'v']\n",
      "The string is a pangram\n",
      "['a', 'w', 'i', 'z', 'r', 'd', 's', 'j', 'o', 'b', 't', 'v', 'e', 'x', 'c', 'h', 'u', 'm', 'p', 'q', 'k', 'l', 'y', 'n', 'f', 'g']\n",
      "The string is a pangram\n",
      "['w', 'a', 't', 'c', 'h', 'j', 'e', 'o', 'p', 'r', 'd', 'y', 'l', 'x', 'b', 'k', 's', 'f', 'u', 'n', 'v', 'q', 'i', 'z', 'g', 'm']\n",
      "The string is a pangram\n",
      "['b', 'y', 'j', 'o', 'v', 'e', 'm', 'q', 'u', 'i', 'c', 'k', 's', 't', 'd', 'f', 'l', 'x', 'g', 'r', 'a', 'p', 'h', 'w', 'n', 'z']\n",
      "The string is a pangram\n",
      "['w', 'a', 'x', 'y', 'n', 'd', 'q', 'u', 'i', 'v', 'e', 'r', 'g', 'j', 'o', 'c', 'k', 's', 'f', 'm', 'b', 'l', 't', 'h', 'p', 'z']\n",
      "The string is a pangram\n",
      "['e', 'd', 'h', 'w', 'p', 't', 'k', 'm', 'b', 'i', 'f', 'q', 'c', 'j', 'u', 'o', 'l', 'v', 's', 'x', 'a', 'r', 'n', 'z', 'g']\n",
      "The string is not a pangram\n",
      "['i', 'g', 'q', 'p', 'd', 'n', 'z', 'm', 'h', 's', 'l', 'j', 'f', 'y', 'v', 'w', 'x', 'c', 'a', 'r', 'u', 'k']\n",
      "The string is not a pangram\n",
      "['h', 'p', 'g', 'j', 'd', 'r', 'c', 'n', 'k', 'o', 'u', 'y', 'e', 's', 'v', 'l', 'i']\n",
      "The string is not a pangram\n",
      "['y', 'c', 'j', 'i', 'b', 'o', 'd', 'g', 'u', 'v', 'q', 'p', 'x', 't', 'z', 'r', 'w', 'k', 'e', 'f', 'n', 'l', 'a', 'h']\n",
      "The string is not a pangram\n",
      "['o', 'j', 'g', 'p', 'w', 'd', 'f', 'a', 'c', 's', 'q', 'l', 'k', 'v', 'b', 'z', 'x', 'u', 'n', 'e', 't', 'i', 'm', 'r', 'y']\n",
      "The string is not a pangram\n",
      "['g', 'k', 'e', 'r', 'w', 'q', 'm', 'd', 'a', 'h', 't', 'c', 'f', 'l', 'n', 'i', 'v', 'b', 's', 'z', 'u', 'j', 'x', 'p', 'y']\n",
      "The string is not a pangram\n",
      "['n', 'h', 'r', 'c', 't', 'o', 'k', 'b', 's', 'g', 'f', 'j', 'e', 'v', 'l', 'x', 'w', 'a', 'p', 'y', 'i', 'd', 'm']\n",
      "The string is not a pangram\n",
      "['q', 'x', 'b', 'h', 's', 'c', 'w', 'i', 'n', 't', 'l', 'v', 'f', 'z', 'a', 'u', 'm', 'g', 'k', 'p', 'r', 'd', 'o']\n",
      "The string is not a pangram\n",
      "['t', 'd', 'w', 's', 'v', 'n', 'e', 'q', 'f', 'k', 'l', 'a', 'c', 'm', 'u', 'r', 'x', 'i', 'y', 'g']\n",
      "The string is not a pangram\n",
      "['i', 'u', 'o', 't', 'k', 'd', 'm', 'q', 'h', 'p', 'e', 'j', 'v', 'n', 'g', 'b', 's', 'a']\n",
      "The string is not a pangram\n",
      "['n', 'x', 't', 'v', 'a', 'f', 'g', 'c', 'w', 'h', 'u', 'p', 'j', 'b', 'r', 'o', 's', 'l', 'z', 'q', 'm', 'i', 'y', 'k', 'e', 'd']\n",
      "The string is a pangram\n",
      "['r', 'g', 'k', 'q', 'j', 'y', 'd', 'b', 'u', 'c', 'f', 's', 'i', 'p', 'm', 'x', 'l', 'w', 'z', 'h', 'n', 'e', 'a']\n",
      "The string is not a pangram\n",
      "['d', 'k', 'z', 'h', 'j', 'b', 't', 's', 'q', 'v', 'p', 'l', 'i', 'x', 'u', 'r', 'a', 'f', 'n', 'm', 'w']\n",
      "The string is not a pangram\n",
      "['r', 'w', 'i', 'q', 'c', 'v', 'z', 'o', 'b', 'g', 'k', 'a', 'p', 'x', 'y']\n",
      "The string is not a pangram\n",
      "['u', 'h', 'w', 'm', 'i', 'a', 's', 'k', 'l', 'o', 'v', 'r', 'z', 'x', 't', 'e', 'n', 'j', 'q', 'b', 'd', 'c', 'g', 'f', 'p']\n",
      "The string is not a pangram\n"
     ]
    }
   ],
   "source": [
    "# This will test your function \n",
    "test_pangram(pangram)\n"
   ]
  },
  {
   "cell_type": "code",
   "execution_count": 259,
   "metadata": {},
   "outputs": [
    {
     "name": "stdout",
     "output_type": "stream",
     "text": [
      "Help on function test_pangram in module mod.testing:\n",
      "\n",
      "test_pangram(fn)\n",
      "\n"
     ]
    }
   ],
   "source": [
    "help(test_pangram)"
   ]
  },
  {
   "cell_type": "markdown",
   "metadata": {},
   "source": [
    "## 11. Write a function that receives a string of comma separated words and returns a string of comma separated words sorted alphabetically.\n",
    "\n",
    "`NOTE: You may use sorted but not split and definitely no join! 🤪`"
   ]
  },
  {
   "cell_type": "code",
   "execution_count": 144,
   "metadata": {},
   "outputs": [
    {
     "data": {
      "text/plain": [
       "'antonio,beatriz,carlos,joao'"
      ]
     },
     "execution_count": 144,
     "metadata": {},
     "output_type": "execute_result"
    }
   ],
   "source": [
    "def sort_alpha(string):\n",
    "    word=\"\"\n",
    "    string_sorted=\"\"\n",
    "    list_of_words= []\n",
    "    list_of_aplh_order=[]\n",
    "    i=0\n",
    "    # separate the string (separated by commas) into a list of words\n",
    "    for character in string:\n",
    "        if character != \",\":\n",
    "            word+=character\n",
    "        else:\n",
    "            list_of_words.append(word)\n",
    "            word=\"\"\n",
    "    list_of_words.append(word)\n",
    "\n",
    "    # order alphabetically\n",
    "    list_of_words.sort()\n",
    "    for element in list_of_words:\n",
    "        if element != list_of_words[len(list_of_words)-1]:\n",
    "            string_sorted += element+\",\"\n",
    "        else:\n",
    "            string_sorted += element\n",
    "    \n",
    "    return string_sorted\n",
    "    \n",
    "sort_alpha(\"carlos,beatriz,antonio,joao\")\n",
    "    #your code here"
   ]
  },
  {
   "cell_type": "code",
   "execution_count": 146,
   "metadata": {},
   "outputs": [
    {
     "name": "stderr",
     "output_type": "stream",
     "text": [
      "....................................................................................................\n",
      "----------------------------------------------------------------------\n",
      "Ran 100 tests in 0.028s\n",
      "\n",
      "OK\n"
     ]
    }
   ],
   "source": [
    "# This will test your function \n",
    "test_alpha(sort_alpha)"
   ]
  },
  {
   "cell_type": "markdown",
   "metadata": {},
   "source": [
    "## 12. Write a function to check if a given password is strong (at least 8 characters, at least one lower case, at least one upper case, at least one number and at least one special character). It should output True if strong and False if not."
   ]
  },
  {
   "cell_type": "code",
   "execution_count": 174,
   "metadata": {},
   "outputs": [
    {
     "data": {
      "text/plain": [
       "True"
      ]
     },
     "execution_count": 174,
     "metadata": {},
     "output_type": "execute_result"
    }
   ],
   "source": [
    "def check_pass(password):\n",
    "    \n",
    "    import string\n",
    "\n",
    "    def is_special_character(char):\n",
    "        return char in string.punctuation\n",
    "\n",
    "    one_upper = False\n",
    "    one_lower = False\n",
    "    one_digit = False\n",
    "    one_special = False\n",
    "    \n",
    "    for char in password:\n",
    "        if char.isupper():\n",
    "            one_upper = True\n",
    "        if char.islower():\n",
    "            one_lower = True\n",
    "        if char.isdigit():\n",
    "            one_digit=True\n",
    "        if is_special_character(char):\n",
    "            one_special = True\n",
    "            \n",
    "    if len(password) >= 8 and one_upper == True and one_lower == True and one_digit == True and one_special == True:\n",
    "        return True\n",
    "    else:\n",
    "        return False\n",
    "\n",
    "check_pass(\"Descambou_12\")\n",
    "#your code here"
   ]
  },
  {
   "cell_type": "code",
   "execution_count": 176,
   "metadata": {},
   "outputs": [
    {
     "name": "stderr",
     "output_type": "stream",
     "text": [
      "....................................................................................................\n",
      "----------------------------------------------------------------------\n",
      "Ran 100 tests in 0.034s\n",
      "\n",
      "OK\n"
     ]
    }
   ],
   "source": [
    "# This will test your function \n",
    "test_pass(check_pass)"
   ]
  },
  {
   "cell_type": "code",
   "execution_count": null,
   "metadata": {},
   "outputs": [],
   "source": []
  }
 ],
 "metadata": {
  "kernelspec": {
   "display_name": "Python 3 (ipykernel)",
   "language": "python",
   "name": "python3"
  },
  "language_info": {
   "codemirror_mode": {
    "name": "ipython",
    "version": 3
   },
   "file_extension": ".py",
   "mimetype": "text/x-python",
   "name": "python",
   "nbconvert_exporter": "python",
   "pygments_lexer": "ipython3",
   "version": "3.12.4"
  },
  "vscode": {
   "interpreter": {
    "hash": "aee8b7b246df8f9039afb4144a1f6fd8d2ca17a180786b69acc140d282b71a49"
   }
  }
 },
 "nbformat": 4,
 "nbformat_minor": 4
}
