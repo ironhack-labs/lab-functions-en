{
 "cells": [
  {
   "cell_type": "markdown",
   "metadata": {},
   "source": [
    "# Functions"
   ]
  },
  {
   "cell_type": "markdown",
   "metadata": {},
   "source": [
    "On this lab we will put to practice some of the concepts we have learned on this past few days.\n",
    "\n",
    "`NOTE: On this lab you should try to write all the functions yourself using only the most basic of python syntax and without functions such as len, count, sum, max, min, in, etc. Give it a try. 🧑🏻‍💻👩🏻‍💻`\n",
    "\n",
    "The cell after each exercise contains a few tests to check if your function works as expected."
   ]
  },
  {
   "cell_type": "code",
   "execution_count": 1,
   "metadata": {},
   "outputs": [],
   "source": [
    "from mod.testing import *\n",
    "import unittest"
   ]
  },
  {
   "cell_type": "markdown",
   "metadata": {},
   "source": [
    "## 1. Write a function that returns the greater of two numbers"
   ]
  },
  {
   "cell_type": "code",
   "execution_count": 2,
   "metadata": {},
   "outputs": [],
   "source": [
    "def greater(a, b):\n",
    "\n",
    "    \"\"\"\n",
    "    This functions returns the greater number between a and b\n",
    "\n",
    "    arg1 = first number, float\n",
    "    arg2 = second number. float\n",
    "    \"\"\"\n",
    "    try:\n",
    "        a = float(a) \n",
    "        b = float(b) \n",
    "        \n",
    "        if a > b:\n",
    "            return a\n",
    "        elif b > a:\n",
    "            return b\n",
    "        elif a == b:\n",
    "            return (f\"{a} and {b}  are equals\")\n",
    "        \n",
    "    except:\n",
    "        return (\"Sorry, you need to numbers\")\n",
    "    \n"
   ]
  },
  {
   "cell_type": "code",
   "execution_count": 3,
   "metadata": {},
   "outputs": [
    {
     "name": "stderr",
     "output_type": "stream",
     "text": [
      "....................................................................................................\n",
      "----------------------------------------------------------------------\n",
      "Ran 100 tests in 0.086s\n",
      "\n",
      "OK\n"
     ]
    }
   ],
   "source": [
    "# This will test your function \n",
    "test_greater(greater)"
   ]
  },
  {
   "cell_type": "markdown",
   "metadata": {},
   "source": [
    "## 2. Now write a function that returns the largest element on a list"
   ]
  },
  {
   "cell_type": "code",
   "execution_count": 4,
   "metadata": {},
   "outputs": [
    {
     "data": {
      "text/plain": [
       "907"
      ]
     },
     "execution_count": 4,
     "metadata": {},
     "output_type": "execute_result"
    }
   ],
   "source": [
    "def greatest(numbers):\n",
    "    largest = numbers[0]\n",
    "    for i in range(1, len(numbers)):\n",
    "        if numbers[i] > largest:\n",
    "            largest = numbers[i]\n",
    "        else:\n",
    "            continue\n",
    "    return largest\n",
    "\n",
    "numbers = [907, 456, 8, 3, 6, 5, 4, 66]\n",
    "    \n",
    "greatest(numbers)"
   ]
  },
  {
   "cell_type": "code",
   "execution_count": 5,
   "metadata": {},
   "outputs": [
    {
     "name": "stderr",
     "output_type": "stream",
     "text": [
      "....................................................................................................\n",
      "----------------------------------------------------------------------\n",
      "Ran 100 tests in 0.109s\n",
      "\n",
      "OK\n"
     ]
    }
   ],
   "source": [
    "# This will test your function \n",
    "test_greatest(greatest)"
   ]
  },
  {
   "cell_type": "markdown",
   "metadata": {},
   "source": [
    "## 3. Write a function that sums all the elements on a list"
   ]
  },
  {
   "cell_type": "code",
   "execution_count": 6,
   "metadata": {},
   "outputs": [],
   "source": [
    "def sum_all(lst):\n",
    "    total_sum = 0\n",
    "    for element in lst:\n",
    "        total_sum += element\n",
    "    return total_sum"
   ]
  },
  {
   "cell_type": "code",
   "execution_count": 62,
   "metadata": {
    "scrolled": true
   },
   "outputs": [
    {
     "name": "stderr",
     "output_type": "stream",
     "text": [
      "....................................................................................................\n",
      "----------------------------------------------------------------------\n",
      "Ran 100 tests in 0.084s\n",
      "\n",
      "OK\n"
     ]
    }
   ],
   "source": [
    "# This will test your function \n",
    "test_sum(sum_all)"
   ]
  },
  {
   "cell_type": "markdown",
   "metadata": {},
   "source": [
    "## 4. Write another function that multiplies all the elements on a list"
   ]
  },
  {
   "cell_type": "code",
   "execution_count": 7,
   "metadata": {},
   "outputs": [],
   "source": [
    "def mult_all(lst):\n",
    "    total_mult = 1\n",
    "    for element in lst:\n",
    "        total_mult *= element\n",
    "    return total_mult"
   ]
  },
  {
   "cell_type": "code",
   "execution_count": 8,
   "metadata": {
    "scrolled": true
   },
   "outputs": [
    {
     "name": "stderr",
     "output_type": "stream",
     "text": [
      "....................................................................................................\n",
      "----------------------------------------------------------------------\n",
      "Ran 100 tests in 0.104s\n",
      "\n",
      "OK\n"
     ]
    }
   ],
   "source": [
    "# This will test your function \n",
    "test_mult(mult_all)"
   ]
  },
  {
   "cell_type": "markdown",
   "metadata": {},
   "source": [
    "## 5. Now combine those two ideas and write a function that receives a list and either \"+\" or \"*\" and outputs acordingly"
   ]
  },
  {
   "cell_type": "code",
   "execution_count": 9,
   "metadata": {},
   "outputs": [],
   "source": [
    "def oper_all(arr, oper = \"*\"):\n",
    "    if oper == \"+\":\n",
    "        total_sum = 0\n",
    "        for element in arr:\n",
    "            total_sum += element\n",
    "        return total_sum\n",
    "    elif oper == \"*\":\n",
    "        total_mult = 1\n",
    "        for element in arr:\n",
    "            total_mult *= element\n",
    "    else: \n",
    "        return (\"wrong operator\")\n",
    "    return total_mult\n"
   ]
  },
  {
   "cell_type": "code",
   "execution_count": 10,
   "metadata": {},
   "outputs": [
    {
     "name": "stderr",
     "output_type": "stream",
     "text": [
      "....................................................................................................\n",
      "----------------------------------------------------------------------\n",
      "Ran 100 tests in 0.098s\n",
      "\n",
      "OK\n"
     ]
    }
   ],
   "source": [
    "# This will test your function \n",
    "test_operations(oper_all)"
   ]
  },
  {
   "cell_type": "markdown",
   "metadata": {},
   "source": [
    "## 6. Write a function that returns the factorial of a number."
   ]
  },
  {
   "cell_type": "code",
   "execution_count": 11,
   "metadata": {},
   "outputs": [],
   "source": [
    "def factorial(n):\n",
    "    fact = 1\n",
    "    for n in range(1, n+1):\n",
    "        fact *= n\n",
    "    return fact"
   ]
  },
  {
   "cell_type": "code",
   "execution_count": 12,
   "metadata": {},
   "outputs": [],
   "source": [
    "#factorial formula\n",
    "#n! = n * ( n - 1 ) *...*1\n",
    "\n",
    "# This code defines a function called \"factorial\" which takes an input \"n\". The function uses a for loop to iterate through the range of numbers \n",
    "# from 1 to n+1. For each number in that range, it multiplies the current value of x by the number in the range. At the end of the loop, \n",
    "# the function returns the final value of x, which will be the factorial of the input number \"n\".\n",
    "\n",
    "# The Factorial of a positive integer n is the product of all positive integers less than or equal to n. \n",
    "# For example, the factorial of 6 (written \"6!\") is 6 * 5 * 4 * 3 * 2 * 1 = 720.\n",
    "\n",
    "# So this function takes an input of any positive integer, and returns the factorial of that number."
   ]
  },
  {
   "cell_type": "code",
   "execution_count": 13,
   "metadata": {},
   "outputs": [
    {
     "name": "stderr",
     "output_type": "stream",
     "text": [
      "....................................................................................................\n",
      "----------------------------------------------------------------------\n",
      "Ran 100 tests in 0.107s\n",
      "\n",
      "OK\n"
     ]
    }
   ],
   "source": [
    "# This will test your function \n",
    "test_factorial(factorial)"
   ]
  },
  {
   "cell_type": "markdown",
   "metadata": {},
   "source": [
    "## 7. Write a function that takes a list and returns a list of the unique values.\n",
    "\n",
    "`NOTE: You cannot use set. 🤔`"
   ]
  },
  {
   "cell_type": "code",
   "execution_count": 14,
   "metadata": {},
   "outputs": [],
   "source": [
    "def unique(lst_un):\n",
    "    lst = []\n",
    "    for element in lst_un:\n",
    "        if element not in lst:\n",
    "            lst.append(element)\n",
    "        else:\n",
    "            continue\n",
    "    return lst"
   ]
  },
  {
   "cell_type": "code",
   "execution_count": 15,
   "metadata": {},
   "outputs": [
    {
     "name": "stderr",
     "output_type": "stream",
     "text": [
      "....................................................................................................\n",
      "----------------------------------------------------------------------\n",
      "Ran 100 tests in 0.180s\n",
      "\n",
      "OK\n"
     ]
    }
   ],
   "source": [
    "# This will test your function \n",
    "test_unique(unique)\n"
   ]
  },
  {
   "cell_type": "markdown",
   "metadata": {},
   "source": [
    "## 8. Write a function that returns the mode of a list, i.e.: the element that appears the most times.\n",
    "`NOTE: You should not use count... 🧐`"
   ]
  },
  {
   "cell_type": "code",
   "execution_count": 16,
   "metadata": {},
   "outputs": [
    {
     "data": {
      "text/plain": [
       "3"
      ]
     },
     "execution_count": 16,
     "metadata": {},
     "output_type": "execute_result"
    }
   ],
   "source": [
    "def mode_counter(arr):\n",
    "    element_times = {}\n",
    "    for element in arr:\n",
    "        if element not in element_times:\n",
    "            element_times[element] = {\"name\" : element, \"freq\" : 1}\n",
    "        elif element in element_times:\n",
    "            \n",
    "            element_times[element][\"freq\"] += 1 # I need to change the frequency\n",
    "    \n",
    "    mode = None\n",
    "    mode_freq = 0\n",
    "    for element in element_times:            \n",
    "        if element_times[element][\"freq\"] > mode_freq:\n",
    "            mode = element_times[element][\"name\"]\n",
    "            mode_freq = element_times[element][\"freq\"]\n",
    "\n",
    "        else:\n",
    "            continue\n",
    "    return (mode)\n",
    "\n",
    "lst = [0,4,3,1,1,2,3,3,4,4,4,5,3,3,4,45,5,3,3,23,5,4]\n",
    "mode_counter(lst)\n"
   ]
  },
  {
   "cell_type": "code",
   "execution_count": 17,
   "metadata": {},
   "outputs": [
    {
     "name": "stderr",
     "output_type": "stream",
     "text": [
      "...................."
     ]
    },
    {
     "name": "stderr",
     "output_type": "stream",
     "text": [
      "................................................................................\n",
      "----------------------------------------------------------------------\n",
      "Ran 100 tests in 0.108s\n",
      "\n",
      "OK\n"
     ]
    }
   ],
   "source": [
    "# This will test your function \n",
    "test_mode(mode_counter)"
   ]
  },
  {
   "cell_type": "markdown",
   "metadata": {},
   "source": [
    "## 9. Write a function that calculates the standard deviation of a list.\n",
    "`NOTE: Do not use any libraries or already built functions. 😉`"
   ]
  },
  {
   "cell_type": "code",
   "execution_count": 74,
   "metadata": {},
   "outputs": [
    {
     "data": {
      "text/plain": [
       "2.280350850198276"
      ]
     },
     "execution_count": 74,
     "metadata": {},
     "output_type": "execute_result"
    }
   ],
   "source": [
    "def st_dev(list_sd):\n",
    "    total_sum = 0 \n",
    "    variance = 0\n",
    "    n = 0\n",
    "    for element in list_sd:\n",
    "        n += 1\n",
    "        total_sum += element\n",
    "    median = total_sum / n\n",
    "    for element in list_sd:\n",
    "        variance += (element - median) ** 2\n",
    "\n",
    "    sd = (variance / (n-1)) ** 0.5\n",
    "\n",
    "    return sd\n",
    "\n",
    "list_sd = [5,7,3,7,2]\n",
    "st_dev(list_sd)"
   ]
  },
  {
   "cell_type": "code",
   "execution_count": 75,
   "metadata": {},
   "outputs": [
    {
     "name": "stderr",
     "output_type": "stream",
     "text": [
      "....................................................................................................\n",
      "----------------------------------------------------------------------\n",
      "Ran 100 tests in 0.093s\n",
      "\n",
      "OK\n"
     ]
    }
   ],
   "source": [
    "# This will test your function \n",
    "test_stdev(st_dev)"
   ]
  },
  {
   "cell_type": "markdown",
   "metadata": {},
   "source": [
    "## 10. Write a function to check if a string is a pangram, i.e.: if it contains all the letters of the alphabet at least once. Mind that the strings may contain characters that are not letters."
   ]
  },
  {
   "cell_type": "code",
   "execution_count": 50,
   "metadata": {},
   "outputs": [
    {
     "name": "stdout",
     "output_type": "stream",
     "text": [
      "True\n",
      "False\n"
     ]
    }
   ],
   "source": [
    "def pangram(sentence):\n",
    "    alphabet_list = [\"a\", \"A\", \"b\", \"B\", \"c\", \"C\", \"d\", \"D\", \"e\", \"E\", \"f\", \"F\", \"g\", \"G\", \"h\", \"H\", \"i\", \"I\", \"j\", \"J\", \"k\", \"K\", \"l\", \"L\", \"m\", \"M\", \"n\", \"N\", \"o\", \"O\", \"p\", \"P\", \"q\", \"Q\", \"r\", \"R\", \"s\", \"S\", \"t\", \"T\", \"u\", \"U\", \"v\", \"V\", \"w\", \"W\", \"x\", \"X\", \"y\", \"Y\", \"z\", \"Z\"] \n",
    "    lenght_of_alphabet = 0 # len(alphabet)\n",
    "    amount_of_letters_in_alphabet = 0\n",
    "    letters_in_alphabet = []\n",
    "\n",
    "    for element in alphabet_list:\n",
    "        lenght_of_alphabet += 1\n",
    "\n",
    "    i = 0\n",
    "    while i < lenght_of_alphabet:\n",
    "        if alphabet_list[i] in sentence:\n",
    "            if i % 2 == 0 or i == 0:\n",
    "                i += 2\n",
    "            elif i % 2 != 0:\n",
    "                i += 1\n",
    "            amount_of_letters_in_alphabet += 1\n",
    "        else:\n",
    "            i += 1\n",
    "    \n",
    "    if amount_of_letters_in_alphabet == int(lenght_of_alphabet / 2):\n",
    "        return True\n",
    "    else:\n",
    "        return False\n",
    "\n",
    "    \n",
    "\n",
    "print(pangram(\"aAbBcCdDeEfFgGhHiIjJkKlLmMnNoOpPqQrRsStTuUvVwWxXyYzZ\"))\n",
    "print(pangram(\"abcdefghijklmnopqrstuvwxy\"))"
   ]
  },
  {
   "cell_type": "code",
   "execution_count": 52,
   "metadata": {},
   "outputs": [
    {
     "name": "stderr",
     "output_type": "stream",
     "text": [
      "..............................\n",
      "----------------------------------------------------------------------\n",
      "Ran 30 tests in 0.058s\n",
      "\n",
      "OK\n"
     ]
    }
   ],
   "source": [
    "# This will test your function \n",
    "test_pangram(pangram)"
   ]
  },
  {
   "cell_type": "markdown",
   "metadata": {},
   "source": [
    "## 11. Write a function that receives a string of comma separated words and returns a string of comma separated words sorted alphabetically.\n",
    "\n",
    "`NOTE: You may use sorted but not split and definitely no join! 🤪`"
   ]
  },
  {
   "cell_type": "code",
   "execution_count": 116,
   "metadata": {},
   "outputs": [
    {
     "name": "stdout",
     "output_type": "stream",
     "text": [
      "['Dani', 'cafe', 'hola', 'llamo', 'me', 'quiero', 'un', 'y']\n",
      "y\n"
     ]
    },
    {
     "data": {
      "text/plain": [
       "'Dani,cafe,hola,llamo,me,quiero,un,y'"
      ]
     },
     "execution_count": 116,
     "metadata": {},
     "output_type": "execute_result"
    }
   ],
   "source": [
    "def sort_alpha(string):\n",
    "    length_string = 0\n",
    "    string_sorted = \"\"\n",
    "    word_count = 1\n",
    "    first_letter = 0\n",
    "\n",
    "    for element in string:\n",
    "        length_string += 1\n",
    "    \n",
    "    for i in range(length_string):\n",
    "        if string[i] == \",\":\n",
    "            word_count += 1\n",
    "\n",
    "    words = [\"\"] * word_count\n",
    "    word_index = 0\n",
    "\n",
    "    for i in range(length_string + 1):\n",
    "        if i == (length_string) or string[i] == \",\":\n",
    "            word = \"\"\n",
    "            for j in range(first_letter, i):\n",
    "                word += string[j]\n",
    "                first_letter = i + 1\n",
    "            words[word_index] = word\n",
    "            word_index += 1\n",
    "        else:\n",
    "            pass\n",
    "\n",
    "    for i in range(word_count):\n",
    "        for j in range(0, word_count - i -1):\n",
    "            if words[j] > words[j + 1]:\n",
    "                words[j], words[j + 1] = words[j + 1], words [j]\n",
    "            else:\n",
    "                pass\n",
    "    print(words)\n",
    "\n",
    "    for i in range(word_count):\n",
    "        if i < (word_count-1):\n",
    "            string_sorted += words[i] + \",\"\n",
    "\n",
    "        elif i == (word_count-1):\n",
    "            string_sorted += words[-1]\n",
    "            print(words[-1])\n",
    "\n",
    "    \n",
    "    return string_sorted\n",
    "\n",
    "\n",
    "\n",
    "sentence = \"hola,me,llamo,Dani,y,quiero,un,cafe\"\n",
    "sort_alpha(sentence)\n"
   ]
  },
  {
   "cell_type": "code",
   "execution_count": 117,
   "metadata": {},
   "outputs": [
    {
     "name": "stderr",
     "output_type": "stream",
     "text": [
      "......................................................................................."
     ]
    },
    {
     "name": "stdout",
     "output_type": "stream",
     "text": [
      "['acovkwnol', 'agae', 'ckck', 'coqatmrpl', 'cvubkhirm', 'czjmtcl', 'fjsghaxlxh', 'kalrrkvev', 'knaurjww', 'leruedhyk', 'lxlcyaznog', 'muzvdnblpn', 'osiofdoog', 'rtekjnoaaw', 'tdlwgnq', 'tlmrzz', 'tnaooqhdo', 'wkfoyolxi', 'wrwikqv', 'zdufjbo', 'zzxfb']\n",
      "zzxfb\n",
      "['afguzzdtzs', 'aifl', 'cebgxrgvnz', 'ckzsh', 'hsdug', 'lehxuc', 'mepimb', 'phapwljdkj', 'rpmmhfkn', 'slzsb', 'vftwoos', 'wjfzof', 'wtvs', 'xiya', 'zixejkk']\n",
      "zixejkk\n",
      "['aldnaqx', 'bvoluyyn', 'cjzqadyay', 'eorft', 'etrgsubr', 'iruxxgtv', 'jqogwdjbaw', 'piuffwxtvg', 'pnolbxbu', 'qlkep', 'uwnbqx', 'uzefldeo', 'vezdnt', 'vsdidmffxi', 'xqbeg']\n",
      "xqbeg\n",
      "['aakch', 'ccosqj', 'dzmkkq', 'efyt', 'evsodj', 'fqaoj', 'gerrfkue', 'guhimbv', 'htghb', 'ienaewvvu', 'kzecvvw', 'luveirq', 'mnojqzhlh', 'ndaieq', 'notby', 'paao', 'qxmih', 'rcdnhfmkv', 'saiqvrtjhu', 'tgmqqtcmi', 'txesa']\n",
      "txesa\n",
      "['arant', 'fohi', 'hpmxbtk', 'icwl', 'jtojtmhzd', 'kfdo', 'ltdjwmwcj', 'mzjrvph', 'nnatmn', 'nsryggq', 'nwnanhpd', 'oevfmxng', 'paokr', 'qspxxaxb', 'qxktbrfnyh', 'raiccvk', 'tprse', 'zvchd']\n",
      "zvchd\n",
      "['dhgb', 'eelqa', 'esst', 'etgkzp', 'gziwb', 'jjxtivzbh', 'jzrcmgvee', 'leyqvmytoy', 'mdsvc', 'nihicud', 'nyzz', 'supp', 'uhxwavv', 'ujch', 'wxitg', 'ygypfvwgg', 'ywudotkv', 'zfakfogbrm']\n",
      "zfakfogbrm\n",
      "['abxjewmlws', 'aivcyvtdz', 'ajqypeurso', 'ckjnulkco', 'dnnbwze', 'ezbszq', 'gbifnjzamr', 'hbxaiil', 'ioqa', 'jmmdbz', 'knhz', 'kpkbukesxg', 'lczqfrq', 'mavaaelpc', 'ofljwjiuht', 'osndlnr', 'otgwuf', 'pachlm', 'plpz', 'ppigboqf', 'pumllau', 'rdomf', 'rothrnm', 'vuzkzkzamh', 'yhleita']\n",
      "yhleita\n",
      "['dwqoiw', 'eynkejcnm', 'iwclgzc', 'kljk', 'lpmwytnj', 'msfi', 'ntxnhe', 'qjxny', 'rkmqsflxbi', 'sjzycf', 'vgfqbtt', 'xbxoo', 'zrpwwkox']\n",
      "zrpwwkox\n",
      "['bwbtm', 'fptrjf', 'hgnjoylne', 'igabm', 'lecqqifmeh', 'mkoldtrvpx', 'sdvcncl', 'tauh', 'udvvoro', 'wslds', 'xbswvvyqyr', 'zylzav']\n",
      "zylzav\n",
      "['aioqaqk', 'alrukvzk', 'bcqiw', 'behrqd', 'bhavugxiz', 'csmry', 'dhgauk', 'gohva', 'gshvvtcp', 'hpuyu', 'hqkbqubx', 'hsnsu', 'hxhverw', 'imaeeps', 'jheujff', 'jidrvb', 'kapkgsghh', 'kynrbyfxln', 'oenfdle', 'sntiud', 'stkkaleen', 'swze', 'szqnp', 'uvhbtyzic', 'vscf']\n",
      "vscf\n",
      "['ajsfv', 'anuzue', 'cshbfgjan', 'dcfrcyvxvc', 'ddsqz', 'eppmzm', 'fhftpjtm', 'kgalvzklb', 'kiuadajjdb', 'mcrw', 'oqoclyuqir', 'oqrgcvoq', 'ouwqaa', 'pkmcvuoed', 'qbvaazn', 'sjjc', 'vetzrx', 'vhtllmy', 'wjftqko', 'yyet', 'zqgzckwr']\n",
      "zqgzckwr\n",
      "['ahsckwa', 'axez', 'ceckjvvng', 'dfgdhaz', 'dzky', 'eidohfaa', 'htrwinyqsb', 'ibfcdo', 'kqitstm', 'lsdwr', 'ncdv', 'qavlxhkcy', 'qmirps', 'qucxfdtoyn', 'tlxxhqzk', 'ustlbrwc', 'vdojeaxxg', 'wqfyfnqlws', 'wrtxedarfq', 'wxmz']\n",
      "wxmz\n",
      "['eeyidcu', 'efketruvz', 'fawpis', 'fcvtqric', 'gbfzwaxabo', 'ghqcx', 'guevhwnwgz', 'gunke', 'hvdvgjjt', 'jtlii', 'llewn', 'lsbhxg', 'mgjxsrno', 'nfeuarhyci', 'ohzuukmbhd', 'qxtoesdj', 'rlpfa', 'rxalbi', 'uhpakxw', 'vasw', 'xesmelevwy', 'zloccunoh']\n",
      "zloccunoh\n",
      "['bjzv', 'elifk', 'fvtjxrrmz', 'jawqj', 'jgubegvqjd', 'qtzwgqpvin', 'rihfde', 'upablp', 'vmbz', 'wybh', 'yobk', 'zhqzumaj']\n",
      "zhqzumaj\n",
      "['gffcyof', 'gpio', 'qaozk', 'vxadtsueln', 'wqrrvpzb']\n",
      "wqrrvpzb\n",
      "['allfpk', 'iedb', 'imragw', 'pewxbgd']\n",
      "pewxbgd\n",
      "['agjgkwnmz', 'asgq', 'cvsaa', 'cwtrucn', 'jkjgxa', 'mfikewtqk', 'nyysu', 'pznnlxka', 'rbre', 'tgbfq', 'wbzvjy', 'xfeybq']\n",
      "xfeybq\n",
      "['awdlyd', 'cdjwgwvrpe', 'jglmmyruoy', 'jqtyb', 'keocibf', 'klwly', 'kmwlbg', 'kykrrreur', 'lwoocpk', 'nplsytm', 'opdqskn', 'qafzsnvtm', 'roxzuk', 'stbltb', 'vabhwig', 'wdjjkakbv', 'ykdqg', 'zfvkfsgiid']\n",
      "zfvkfsgiid\n",
      "['cmhlq', 'gxnmg', 'ijduvsknm', 'jzlf', 'nqombtrtf', 'orelduc', 'swwjgq', 'tvgehqjjnp', 'ubbrpnn', 'whukhxhumw', 'wkinfzk', 'ybbnjqwjeb']\n",
      "ybbnjqwjeb\n",
      "['bnhxpgoal', 'frzaratvdc', 'fsfllo', 'ikphskzu', 'ixpnarjpa', 'jkupond', 'jofzoof', 'kjodzejwb', 'mzbu', 'tenhxvg', 'uqpeqjz', 'wpwb', 'wsnkbqxxl', 'xbxmrtirw', 'xeqbe', 'yhkjl']\n",
      "yhkjl\n",
      "['aotcj', 'ggwgvyfhb', 'glkyuglw', 'hqusoix', 'jukb', 'kijhhsycj', 'sbelhxaene', 'uozcievot', 'vgyeqe', 'wkxwss']\n",
      "wkxwss\n",
      "['fqalz', 'gjbsg', 'ktbszk', 'lpydvnafxp', 'ofhhpkbq', 'qhigbnu', 'rcwviwt', 'uqrw', 'xssel', 'zopbdex', 'zxfdfexq']\n",
      "zxfdfexq\n",
      "['cxmtnj', 'ebdri', 'etvhbuz', 'groofypdz', 'gwldzagw', 'mwsvtfzndu', 'obnjydfaav', 'qmfxbiqrb', 'qqzw', 'ttygbxv', 'unqz', 'xqwkey', 'xyxozbmp', 'yibfmhcu', 'yqxfdny']\n",
      "yqxfdny\n",
      "['ijvbi', 'mnxr', 'oxqkrfkv', 'plpvdrp', 'qjgqfufzjl', 'tsbgv', 'vrnhqjhemt', 'ydedtot']\n",
      "ydedtot\n",
      "['cuuvitvky', 'enawtrf', 'hmvjffxjp', 'ilzeih', 'ljadwd', 'vlfwlax', 'xhnwwysxb', 'yagbnkfy']\n",
      "yagbnkfy\n",
      "['azmwotso', 'bykmi', 'fplrbtnve', 'gqvsfoc', 'guopqfv', 'hlgox', 'inaaom', 'jktjwy', 'jmbpwouzor', 'kvxg', 'ljyjrzrnia', 'lreexgo', 'mviqytdx', 'njngpw', 'pchyqrtz', 'pmwb', 'qcgy', 'qwpcs', 'sfda', 'sylegtdtu', 'zrcv']\n",
      "zrcv\n",
      "['afwcjb', 'bkyp', 'bpuxefo', 'ffpnole', 'fpbuaazehx', 'govdjlgnx', 'gqlzdvrx', 'jnqofle', 'kxsbgc', 'lujbpaenx', 'psoete', 'wnpbzml', 'wukkmfgo', 'zvoge']\n",
      "zvoge\n",
      "['evymue', 'klps', 'mnlmc', 'nshwf']\n",
      "nshwf\n",
      "['egaxyo', 'mfvgggr', 'oriw', 'sbhbfmymew', 'syqqpaj', 'txqeyi', 'vzvg', 'wkdlwccy', 'wvlkestm', 'xloj']\n",
      "xloj\n",
      "['mlqruec', 'paigm', 'vcvxxq', 'yvko']\n",
      "yvko\n",
      "['arwrws', 'ghmuvbei', 'kuwrj', 'oaosjn', 'pxtetr']\n",
      "pxtetr\n",
      "['ezmgr', 'gbgxelr', 'gzqmoizpph', 'nhhgsjni', 'nubidv', 'osqavsxvi', 'pzkakzmag', 'sahtmf', 'vnryngxorn', 'zffklzs']\n",
      "zffklzs\n",
      "['aetyyigvj', 'akxps', 'dhdngbod', 'gnuwnag', 'hyebfpiux', 'ifvyxa', 'mfew', 'mqqzl', 'nnsofbbmp', 'qrljfniigg', 'rekc', 'shpknblof', 'vnrdbpj', 'wclzx', 'wqmtih']\n",
      "wqmtih\n",
      "['bnvhpf', 'cgvjhmhdy', 'dsfm', 'eecjoirgw', 'hfchib', 'jhkyi', 'lbingd', 'lfwq', 'rhrpo']\n",
      "rhrpo\n",
      "['aiyyomvn', 'dnbq', 'eppipet', 'fphsoraja', 'gubrkhh', 'hevvedqcs', 'istqvshynl', 'pfoamsxsju', 'rhddwlhfl', 'toqmdktav', 'uakxfzivda', 'utbbv', 'xkawlqtb']\n",
      "xkawlqtb\n",
      "['adhjgpoe', 'bozxnpzla', 'dbhetuerl', 'dcbsjf', 'dggdbqch', 'dnhdbxxx', 'eyee', 'ffkcsbb', 'ggxvomealz', 'hkikmvpbn', 'ilzc', 'jtkdeitdlz', 'mdwmood', 'menwnqff', 'phjfdpgws', 'qxxnqzpg', 'shwbopqpa', 'sjvpslfnkb', 'sonjwfkci', 'uapf', 'uuqmcmnuwx', 'vsfthlu']\n",
      "vsfthlu\n",
      "['bcscchjd', 'czqb', 'fpyjpfv', 'gcrsbzj', 'hsptxysuhh', 'klbd', 'kqmjnuc', 'ljmnnc', 'lxtudzcipo', 'nbvtgj', 'oshg', 'rtcygup', 'tpnkhokqls', 'vqgm', 'wcnmsg', 'wiacgvsxx', 'zjsgzdzbq', 'znjpye', 'ztdejb']\n",
      "ztdejb\n",
      "['avrwaqagss', 'cglx', 'dazcak', 'fofqcs', 'jbaddglse', 'koiz', 'konhkxfgfb', 'ksps', 'lkmo', 'nklzxy', 'obpnr', 'ovjggura', 'pjtyheldjc', 'pnluuht', 'vgdtl', 'xblmbrlqlb', 'yenpus', 'yrjxgxxmb', 'zrzckb', 'zwbyuq']\n",
      "zwbyuq\n",
      "['gezidqjfig', 'gqbsa', 'kamu', 'lcpxrmucm', 'lxozzhfvt', 'mahpndqbm', 'owyibrdj', 'rygtljgdn', 'uctcpw', 'vjfgpv', 'vjmti', 'wfbmrrjen']\n",
      "wfbmrrjen\n",
      "['afnezmbygw', 'mnmrok', 'negkmvcyp', 'njqgky', 'qiqyy', 'spbnsr', 'ubmyrucjz', 'vmjbtreqvt', 'wqrzampdz']\n",
      "wqrzampdz\n",
      "['bqpddrxniu', 'ewblffavy', 'hlxeqgjzzd', 'jjyr', 'jrzetjjgve', 'ntnxws', 'qsqeuaaubi', 'ufbfqgy', 'wett', 'wtxkac', 'yszcndmcql', 'zchzumyyx']\n",
      "zchzumyyx\n",
      "['dmshacorn', 'fgltilqvjq', 'fxzk', 'gbiyjpsix', 'gweqwpavhn', 'lhogvktznf', 'mzkrsqlthb', 'rszicaldp', 'tpxnwfjis', 'xbdbssy', 'xgihsdgobj']\n",
      "xgihsdgobj\n",
      "['aorbepnite', 'ctqpnda', 'dtgniwyba', 'kwtozcwg', 'qjgrtf', 'rbzjmkqy', 'vgiqc', 'woenoofb']\n",
      "woenoofb\n",
      "['bjyn', 'hmje', 'lonu', 'lpvlmutu', 'lwhxu', 'nlpsjjr', 'nuqptxvscj', 'rfrqxjk', 'swutd', 'wcocchb', 'yiazzkpwxj']\n",
      "yiazzkpwxj\n",
      "['clcwyz', 'dryvckql', 'dsmwbalvy', 'dspc', 'etver', 'hgjzqxc', 'hnggobv', 'hpctkeg', 'iodrftepux', 'iywo', 'lfxuz', 'nsipavph', 'nxsvt', 'ofynjum', 'pnlnuvfk', 'qsjacp', 'rfjugeqlqx', 'uaoyxqxh', 'ucxnezn', 'utjlhe', 'vllwljjkri', 'vwktmw', 'zvzo']\n",
      "zvzo\n",
      "['gazi', 'jhrtnjwgp', 'kdsrmcn', 'kqqo', 'pkkfouhjhs', 'qnuklxxak', 'rawuw', 'sjxrudqolr', 'umqxd', 'vpzvl', 'vyxd', 'yveqzidbv']\n",
      "yveqzidbv\n",
      "['cfrhuzie', 'dnqw', 'dpqtmwq', 'dsuecgnj', 'fngdy', 'fxtdwujov', 'ixznep', 'krtoh', 'lietnjfxt', 'lijpe', 'lqvefmst', 'mlduz', 'mzzfobhq', 'nrvl', 'nuxh', 'ocxqytxxj', 'oeptqxfzic', 'pfup', 'pkdannxj', 'qbtlgfaww', 'rphs', 'suvq', 'tydvuzgo', 'vfbkarvyn', 'ypjfj']\n",
      "ypjfj\n",
      "['gphwxtcewl', 'ipdmxcuvf', 'nfmdceu', 'njrorzjb', 'nkbhd', 'nxaqii', 'tktawvuk', 'udktnil', 'wtbpwexqr']\n",
      "wtbpwexqr\n",
      "['bpltbkmy', 'dkwsnrbma', 'ecqsbzjiq', 'eeehreda', 'iseegj', 'owhztnw', 'pfjtpv', 'qkpbwrpmgl', 'swqs', 'txbur', 'xmaoxcir', 'zokd']\n",
      "zokd\n",
      "['aeup', 'bhznldrs', 'bnuqiaxol', 'ckmqpfhgpc', 'fmnmsy', 'gkljj', 'nyfaxv', 'obxltogohl', 'odbpagp', 'robjmdjir', 'vzrl', 'wbvuyjq', 'wewfae']\n",
      "wewfae\n",
      "['csrru', 'drpvrgfns', 'kujtbjou', 'lulppvitpy', 'wwrevx', 'xmytbhb', 'yvsxh']\n",
      "yvsxh\n",
      "['dlummkd', 'gnavfbu', 'lsryb', 'qmmsmqcbai']\n",
      "qmmsmqcbai\n",
      "['ahlbgkcvb', 'deftnoxh', 'jwsjwwom', 'omcvjhai', 'pxiwqyyt', 'qpvamf', 'rhqzrkdknn', 'ryrm', 'vdlelworq', 'vfbwsz', 'vptnrnk', 'wevp', 'zlxbbkwkh']\n",
      "zlxbbkwkh\n",
      "['aguasfe', 'beapw', 'cmzl', 'dujkhkuvf', 'fzet', 'gyox', 'gypv', 'jfrkyjd', 'kufiywbrog', 'nhqulzze', 'nmqwsom', 'qikwyhj', 'shvuzhhxa', 'sjkhfw', 'tjllu', 'uujx', 'vaahxxpkv', 'vjptmhj', 'zcluajjsuk']\n",
      "zcluajjsuk\n",
      "['bitpcyxsw', 'ktlqtkkkg', 'nxfmadr', 'oferjewzwd', 'sirmid']\n",
      "sirmid\n",
      "['dgbnm', 'gtlrqjetv', 'kkxhw', 'lsoy', 'rkiyljrw', 'sgzuq', 'srgqq']\n",
      "srgqq\n",
      "['axtpsp', 'ehtitbk', 'hgshajyjmc', 'hksqxs', 'lhtveiu', 'nhyro', 'qllvobz', 'sjiyiyfg', 'vbarmokv', 'zchcrzk', 'zshbcihqk']\n",
      "zshbcihqk\n",
      "['dzcjivxnf', 'gati', 'gpuqu', 'hpik', 'kxhh', 'mmodxic', 'ofdsoawz', 'qjcpu', 'qqfn', 'swhljc', 'wfbgm', 'xzeyxolnpd']\n",
      "xzeyxolnpd\n",
      "['aslb', 'brhuhyvwx', 'coemfjbd', 'gjfsj', 'iukvmkagu', 'jbkpveqs', 'khmi', 'mbvjswjmk', 'mxyukjl', 'mzczztas', 'mzruoel', 'nhhsw', 'pjuzi', 'plhoxhxc', 'twqmqzzppx', 'udyvhj', 'vhzpjajwrm', 'vtaogll', 'wzmhf', 'xrztovxkx', 'zstv']\n",
      "zstv\n",
      "['byfhqjthl', 'cqhhq', 'ddqmjx', 'doyjq', 'genotdpfq', 'ijdrd', 'iuuhf', 'ivykwfzov', 'jcpg', 'kbvlhvrcmx', 'lbbme', 'mbncssr', 'ogze', 'qsiki', 'rbcfsheff', 'rhfhcycvjd', 'seydxtxxug', 'tkdphg', 'twqaiadcxr', 'xvjua', 'yjgyiippry']\n",
      "yjgyiippry\n",
      "['baakxjagk', 'bkjsdlqeu', 'bsxcvomlx', 'demaicqu', 'efcycy', 'ehqj', 'eqxseq', 'evjoknwfk', 'gbyt', 'hdvyxxaytd', 'kxhjatpuhh', 'mcwhsqo', 'naju', 'nsapptbd', 'pqjslwd', 'pvfqqvulvx', 'vfdrllhlr']\n",
      "vfdrllhlr\n",
      "['epttzx', 'fjpdevblji', 'fujh', 'gvytoamffd', 'llzi', 'ltbkzkytep', 'lutymo', 'npsnayhqcv', 'oljw', 'ozqjml', 'plovf', 'ppkiuq', 'pvsmfbcsoz', 'qyff', 'seggd', 'srhgfnclni', 'tgpzj', 'towwuxuuv', 'vlapjiig', 'xkdlcacfck', 'zaeyj', 'zjwwlydx']\n",
      "zjwwlydx\n",
      "['ahxcadhztq', 'anuh', 'djabgowuay', 'djeqyccjic', 'euxyoea', 'fkbppt', 'flwlsrhbni', 'fqlxmh', 'fzdow', 'inltfv', 'iomeoidgx', 'kadav', 'lfxm', 'nhoj', 'oqbaw', 'plpglozkgu', 'qdvlfbrlqj', 'rgkrastvq', 'rwsnk', 'spzaklo', 'tcsqxvry', 'tjeyqpk', 'tsaozx', 'tytbnie', 'xjlzahyap']\n",
      "xjlzahyap\n",
      "['crqlxpflku', 'ekcy', 'fhjiy', 'fuiiff', 'hgqwrt', 'hyafbl', 'icntketke', 'iemvslmr', 'imciy', 'kksjmzn', 'lfzcphsh', 'lildhvm', 'moaudwiu', 'nqcxx', 'piopopvus', 'uecewpobq']\n",
      "uecewpobq\n",
      "['djzsztvsev', 'dpvm', 'dytaqyg', 'feegkmhet', 'izbzm', 'jtdvqs', 'kcvpp', 'lykuppyszz', 'mqxmuopn', 'oqvwed', 'qxaynemm', 'rrhi', 'rtzjt', 'sgsziswm', 'thxwt', 'uleqw', 'urayvayr', 'vsoquo', 'xsyjwpea', 'ychnenyeos']\n",
      "ychnenyeos\n",
      "['axeyvmswk', 'bruudubiju', 'cjuxjnop', 'cjvuxtpfvr', 'dkchehjrqq', 'eiynxlf', 'fksntquv', 'gpze', 'hdqi', 'hqglmxdw', 'jzpu', 'mfempbfhi', 'mwlaeagf', 'mxqwnmtugz', 'ocnq', 'pivqutjoj', 'qqtdy', 'rmakaghafp', 'scfdyou', 'sdurluum', 'wffbeqbftx', 'ybpkrxb']\n",
      "ybpkrxb\n",
      "['dephbm', 'dsgmq', 'dvuys', 'ewjkum', 'ffzs', 'gfjoxgsru', 'ghfkmnct', 'gyitl', 'ifmtzkpdy', 'jifmcggq', 'klctfwm', 'kskajsbrr', 'lfdwtlof', 'lnwqwzk', 'lpycefh', 'lshspmuk', 'ltrwhinsmq', 'obtcza', 'qqdeivccvc', 'uoyrsvgfd', 'wcle', 'wdpggdvf', 'ypbuzudoj', 'yylebgslc', 'zhrvngf']\n",
      "zhrvngf\n",
      "['cwws', 'dljnjc', 'hwtebknqjp', 'mfnroliof', 'pifgdqhmj', 'swph', 'vtbjsxpotq', 'wwmteklm', 'ygancpo', 'yvgw']\n",
      "yvgw\n",
      "['bmobtpfk', 'dyayir', 'kvaaft', 'lbewy', 'louvxbqtx', 'mrsceusjev', 'mxwhiiluk', 'nyamhyu', 'sfjnse', 'yrcfsuf', 'zooveffv']\n",
      "zooveffv\n",
      "['dszbwd', 'gzqyuejvc', 'kmbhlykfq', 'tplpwrepca', 'yztzhuvohw']\n",
      "yztzhuvohw\n",
      "['hssagol', 'hzszi', 'jhxhbpu', 'jooes', 'mbsacvgym', 'nydziq', 'oaklc', 'oihxf', 'pajlk', 'scev', 'ucbzoclk']\n",
      "ucbzoclk\n",
      "['buyb', 'bxrygkidd', 'dfrjubgnlh', 'elhkmgjl', 'ftacu', 'jnwxo', 'kaglcyju', 'knxs', 'lbhvx', 'lnbdt', 'nvnkcwpfd', 'oeimyhsr', 'rtzprrkgme', 'sjkrmqfrst', 'vlqmurj', 'wimpwhw', 'yvnup']\n",
      "yvnup\n",
      "['cyrsav', 'eury', 'hugctbc', 'jqshevu', 'kewt', 'kgxxanu', 'kxpz', 'okgquw', 'ugjdrv']\n",
      "ugjdrv\n",
      "['amgqq', 'desscd', 'fzsots', 'gkfxiinsw', 'gwqkugvss', 'lauddw', 'mnmykmzg', 'njif', 'qzyzl', 'snvmsx', 'tpgsr', 'tsheu', 'ubpru', 'usscfdiej', 'vdvlnws']\n",
      "vdvlnws\n",
      "['blbbxkaj', 'cqfavy', 'cshnizu', 'fdbg', 'fhuhekfq', 'gkiqoik', 'hmny', 'hqcpfypmct', 'iyxwsnffuh', 'jhpsgd', 'nxccqba', 'obuiun', 'ozqgfnuy', 'quhfhixt', 'rufx', 'sgnkghknhj', 'sxjkyhao', 'uzomdgwe', 'wkne', 'xboulwz', 'xrrjlxahr', 'zhbvwp', 'zlfmcamfm', 'znhewhyuz']\n",
      "znhewhyuz\n",
      "['achavrpz', 'bxnkoxft', 'cyena', 'ebaflydbb', 'gaixtm', 'hmgzlh', 'ilkxsr', 'ipvktuo', 'ismy', 'jvwt', 'kcjawgb', 'npbhuzg', 'owbbdl', 'phoma', 'qbkpo', 'tsnblh', 'vgwajl', 'wbgxgd', 'wbwbaqev', 'wkuxygo', 'wrbygfmosp', 'xftpggqal', 'xnvwoqk', 'ypkimts', 'zgwfmwn']\n",
      "zgwfmwn\n",
      "['auzzti', 'bychycv', 'dfjjye', 'eusyck', 'fajibii', 'giodhyueh', 'hlna', 'hwjooij', 'inclrqom', 'kmxmqnpgm', 'lgorkj', 'lzozm', 'oypu', 'pdooroodll', 'pgayr', 'pjmwc', 'qndxsmzx', 'rosfvgdin', 'rzsvrgwd', 'tihxxfs', 'vmgmky', 'vpui', 'xacfzug', 'zeobvsk']\n",
      "zeobvsk\n",
      "['axrj', 'eyiw', 'ibdhy', 'pbbq', 'uswuia', 'ybzp']\n",
      "ybzp\n",
      "['angcizjth', 'egxgbts', 'emkmadnr', 'hpmgfgavg', 'mnhfhvzcer', 'ngaeqm', 'pfut', 'pgxxo', 'rqfeu', 'thwllf', 'tmbnxwxh', 'uvhmttrq', 'wkkn']\n",
      "wkkn\n",
      "['cczuvxshf', 'cyyo', 'fbtx', 'nlxo', 'txixxa', 'wpdltaxum']\n",
      "wpdltaxum\n",
      "['bfscmpdpz', 'buxr', 'ccbr', 'esntzoeriy', 'ewfuc', 'gmnnt', 'hadcbsvton', 'jvuavppvz', 'lrioc', 'mfdgs', 'nguhidbk', 'nrcgd', 'nxkkze', 'pogchixbtn', 'quzfszti', 'typbkw', 'udewr', 'ukrpgypv', 'vmeb', 'xvlwozw']\n",
      "xvlwozw\n",
      "['cjepk', 'dkmycr', 'eatzpqekuo', 'egmrp', 'eqssvgibba', 'gcisvcmbuw', 'gwlle', 'lhoridm', 'maoxlupctr', 'pelxe', 'ycyd', 'yirjwqjdt', 'yzyqobbhjx']\n",
      "yzyqobbhjx\n",
      "['boeiqtrfrz', 'czvm', 'eickysgjfm', 'ickz', 'icqau', 'ikptefdwma', 'mvmrag', 'niofsi', 'psac', 'qhbtspq', 'txhozmqwab', 'vpncpmqty', 'xonbzhwrp', 'ycgecsxarf']\n",
      "ycgecsxarf\n",
      "['eednd', 'nqfnmisw', 'rqjgz', 'sxyv', 'ytuoubaz', 'zghaxmy']\n",
      "zghaxmy\n",
      "['ffjhpvslz', 'ggfno', 'gnxrbbxfv', 'nnkzblyi', 'ugkvvtr', 'uokxpfds', 'vehbzcqud', 'ztxs']\n",
      "ztxs\n",
      "['ajgeuqzpl', 'asknqdtxx', 'bumzqqj', 'cxku', 'dzpo', 'fckzecb', 'fsuo', 'iczfhlsdia', 'iwye', 'jwexznomfg', 'laaljh', 'lfswfbh', 'mwysbgk', 'qmpalj', 'smrb', 'toytynkapd', 'umge', 'vocf', 'zxaboew']\n",
      "zxaboew\n",
      "['bjbrutewkg', 'dcquql', 'dcroubs', 'fdgznb', 'ifxxoy', 'ivsnjif', 'iysyhp', 'jkil', 'kpcdnwftp', 'mqpnh', 'nltpjmxb', 'rmaop', 'ssglio', 'xhwxg']\n",
      "xhwxg\n"
     ]
    },
    {
     "name": "stderr",
     "output_type": "stream",
     "text": [
      ".............\n",
      "----------------------------------------------------------------------\n",
      "Ran 100 tests in 0.206s\n",
      "\n",
      "OK\n"
     ]
    },
    {
     "name": "stdout",
     "output_type": "stream",
     "text": [
      "['dand', 'dnhnxlupj', 'dvdfqcccfp', 'fmrxggsf', 'fvwmtvvzew', 'fxdqwlnul', 'hucfwkrht', 'itcneqiw', 'joxmquhgvl', 'kpcmomoxah', 'lciamcgls', 'naveljfe', 'ojnitzdsp', 'pnsxinld', 'pyexfrtgjc', 'qehculjqyl', 'scrazlxhct', 'vrvdisbk', 'wtymjvflj']\n",
      "wtymjvflj\n",
      "['ayxnyv', 'cetny', 'dnodzyqvvy', 'eyxrxi', 'hihhfpmjap', 'jbfc', 'lcxhjzqf', 'lfjjh', 'lnigwz', 'mcfowaysyi', 'rtzfj', 'sekrrpajjz', 'wmpuszlrky', 'xcupwtzfht', 'zcezts', 'zlrck']\n",
      "zlrck\n",
      "['cwlw', 'dhttwqo', 'dkddayzm', 'eupgngube', 'fjwjlwd', 'iviac', 'kujj', 'kuprcvf', 'nagmfaei', 'pimniwcum', 'qjrgkdwkfx', 'qwbusiqrtd', 'sczmotx', 'vgzkdp', 'vmmxdywc', 'wkxfhv', 'wqdp', 'wzksjhfkd', 'ybppztsf', 'zhioibcrco']\n",
      "zhioibcrco\n",
      "['cyrrckbxc', 'ealol', 'fapumy', 'glllrhkwi', 'gqorqh', 'heidyhes', 'hvobyczdew', 'khwjicl', 'nbndrzergz', 'nqfrgbow', 'nroyako', 'puyk', 'qxhis', 'rdec', 'rlgrxebt', 'tnbqdgrwuf', 'tpcxwjcdc', 'tqht', 'twyxcrrgfm', 'uiwdbnzin', 'xbvanupmbd', 'zvnw']\n",
      "zvnw\n",
      "['brrkhs', 'bsnkihsy', 'cgjmexp', 'dcpc', 'duxauxam', 'esqv', 'fepgm', 'foptvliox', 'fzgxbms', 'imkw', 'itocg', 'jciwx', 'jeowjk', 'kdasdx', 'kdzmhfy', 'kxqfljidta', 'loil', 'nzsagu', 'qgtv', 'sqeqzd', 'twkbxexit', 'tzjulnuh', 'ujkl', 'uspikyccj', 'vihmb']\n",
      "vihmb\n",
      "['fpcrnmw', 'jdciy', 'jucefccte', 'njlgvebp', 'qdcy', 'vqby', 'zuxdmjgwfo']\n",
      "zuxdmjgwfo\n",
      "['agbmw', 'blznyjoqrx', 'bwwuybbrb', 'cggknn', 'gxpbulm', 'hvzeorjahu', 'hwtsk', 'jrrlnwmd', 'lxakhhkgia', 'nefabpe', 'oacbtqe', 'oqoused', 'pmqdta', 'rosbmydh', 'sovxiw', 'swrwjv', 'tceujbixf', 'uomoh', 'uwjw', 'vlaxq', 'vzfmki', 'xodnlk', 'xzpcjmf', 'yjawxmv']\n",
      "yjawxmv\n",
      "['aaqf', 'anzmceur', 'atgmzmp', 'bxdkq', 'censhgz', 'ebmtm', 'eqkdnbpa', 'fougegyfeq', 'ftvkdbro', 'gblavwmcp', 'ifbxcesbmt', 'iwhrd', 'jukq', 'koshni', 'mjzrjmmtk', 'osfcqvyo', 'qlwenmzrtl', 'rcks', 'rpwutgeuzv', 'souaxckt', 'vrboa', 'vuza', 'wjluqub', 'wxtdeh']\n",
      "wxtdeh\n",
      "['dpxc', 'dxduobwh', 'fwjkhnw', 'jildzwchon', 'jsoulvv', 'kblyqt', 'nluvoleyug', 'qmnnueb', 'rjidl', 'sqzazonyx', 'srqffkxrx', 'tavqdzc', 'thlnyzsl', 'ttjgalgcio', 'ugrxmazwxx', 'vckxjjvdaa', 'vcpzzzsvuu', 'vgeyobu', 'vzxm', 'wwkwgw', 'zowzo']\n",
      "zowzo\n",
      "['btep', 'emmifiow', 'fpddywouh', 'gdiwiwcak', 'jwfgr', 'lngvpk', 'mglihnxmm', 'pxtpfedat', 'zvvmft']\n",
      "zvvmft\n",
      "['cdjxwfoi', 'fayfbuntgd', 'fayla', 'feulazu', 'hkfyykjgv', 'hkkvrasaiy', 'hsjpw', 'iclodf', 'kgyf', 'kqbgpzgcye', 'mrxnawl', 'myxyjhlo', 'mzlvvhu', 'nsgkskm', 'nthqfpai', 'oksv', 'pysdimiix', 'qsexf', 'qtkwrcfip', 'qxeyzp', 'rhmqsrrhli', 'svcbydexp', 'twgskpf', 'vflueiiahm', 'xhjq']\n",
      "xhjq\n",
      "['aqeptjp', 'ecbwu', 'jmbkuagti', 'jtcpw', 'lhkyov', 'mtxmouar', 'nfmwavuea', 'pyehfbj', 'tecgpkep', 'yrlbkxqp']\n",
      "yrlbkxqp\n",
      "['aarvbp', 'cnkzkc', 'diltfy', 'ekjk', 'exzw', 'focwome', 'izwn', 'jqyytth', 'lebufk', 'nefg', 'nlzjwxrv', 'vgyze', 'vmgaatpzex', 'wrzmyxapx']\n",
      "wrzmyxapx\n"
     ]
    }
   ],
   "source": [
    "# This will test your function \n",
    "test_alpha(sort_alpha)"
   ]
  },
  {
   "cell_type": "markdown",
   "metadata": {},
   "source": [
    "## 12. Write a function to check if a given password is strong (at least 8 characters, at least one lower case, at least one upper case, at least one number and at least one special character). It should output True if strong and False if not."
   ]
  },
  {
   "cell_type": "code",
   "execution_count": 66,
   "metadata": {},
   "outputs": [
    {
     "data": {
      "text/plain": [
       "True"
      ]
     },
     "execution_count": 66,
     "metadata": {},
     "output_type": "execute_result"
    }
   ],
   "source": [
    "def check_pass(password):\n",
    "\n",
    "    length_password = 0\n",
    "    lenght_ok = False\n",
    "    letters_lower = \"abcdefghijklmnopqrstuvwxy\"\n",
    "    lower_ok = False\n",
    "    letters_upper = \"ABCDEFGHIJKLMNOPQRSTUVWXY\"\n",
    "    upper_ok = False\n",
    "    numbers = \"0123456789\"\n",
    "    number_ok = False\n",
    "    special_characters = \"~`!@#$%^&*()-_+=?[]{}<>,./|\"\n",
    "    special_ok = False\n",
    "\n",
    "# 1. start for loop\n",
    "    for element in password: \n",
    "        length_password += 1\n",
    "    # 2. check length\n",
    "        if length_password >= 8:\n",
    "            lenght_ok = True\n",
    "        else:\n",
    "            pass\n",
    "    # 3. check if it has lowercase letters\n",
    "        if element in letters_lower:\n",
    "            lower_ok = True\n",
    "        else:\n",
    "            pass\n",
    "    # 4. check if it has uppercase letter\n",
    "        if element in letters_upper:\n",
    "            upper_ok = True\n",
    "        else: \n",
    "            pass\n",
    "    # 5. check if it has numbers\n",
    "        if element in numbers:\n",
    "            number_ok = True\n",
    "        else: \n",
    "            pass\n",
    "    # 6. check if it has special characters\n",
    "        if element in special_characters:\n",
    "            special_ok = True\n",
    "        else: \n",
    "            pass\n",
    "\n",
    "    if lenght_ok == lower_ok == upper_ok == number_ok == special_ok == True:\n",
    "        return True\n",
    "    else:\n",
    "        return False\n"
   ]
  },
  {
   "cell_type": "code",
   "execution_count": 67,
   "metadata": {},
   "outputs": [
    {
     "name": "stderr",
     "output_type": "stream",
     "text": [
      "....................................................................................................\n",
      "----------------------------------------------------------------------\n",
      "Ran 100 tests in 0.166s\n",
      "\n",
      "OK\n"
     ]
    }
   ],
   "source": [
    "# This will test your function \n",
    "test_pass(check_pass)"
   ]
  },
  {
   "cell_type": "code",
   "execution_count": null,
   "metadata": {},
   "outputs": [],
   "source": []
  }
 ],
 "metadata": {
  "kernelspec": {
   "display_name": "Python 3 (ipykernel)",
   "language": "python",
   "name": "python3"
  },
  "language_info": {
   "codemirror_mode": {
    "name": "ipython",
    "version": 3
   },
   "file_extension": ".py",
   "mimetype": "text/x-python",
   "name": "python",
   "nbconvert_exporter": "python",
   "pygments_lexer": "ipython3",
   "version": "3.12.4"
  },
  "vscode": {
   "interpreter": {
    "hash": "aee8b7b246df8f9039afb4144a1f6fd8d2ca17a180786b69acc140d282b71a49"
   }
  }
 },
 "nbformat": 4,
 "nbformat_minor": 4
}
