{
  "cells": [
    {
      "cell_type": "markdown",
      "metadata": {
        "id": "8hsg6efq3CQK"
      },
      "source": [
        "# Functions"
      ]
    },
    {
      "cell_type": "markdown",
      "metadata": {
        "id": "M8vJSCub3CQM"
      },
      "source": [
        "On this lab we will put to practice some of the concepts we have learned on this past few days.\n",
        "\n",
        "`NOTE: On this lab you should try to write all the functions yourself using only the most basic of python syntax and without functions such as len, count, sum, max, min, in, etc. Give it a try. 🧑🏻‍💻👩🏻‍💻`\n",
        "\n",
        "The cell after each exercise contains a few tests to check if your function works as expected."
      ]
    },
    {
      "cell_type": "code",
      "source": [
        "!git init lab-functions-en\n",
        "%cd lab-functions-en\n",
        "!git remote add origin https://github.com/ironhack-labs/lab-functions-en.git\n",
        "!git config core.sparseCheckout true"
      ],
      "metadata": {
        "id": "ltWuoawP44ka",
        "outputId": "ea72e03b-deb8-4087-f594-1d6e90ab57af",
        "colab": {
          "base_uri": "https://localhost:8080/"
        }
      },
      "execution_count": 5,
      "outputs": [
        {
          "output_type": "stream",
          "name": "stdout",
          "text": [
            "\u001b[33mhint: Using 'master' as the name for the initial branch. This default branch name\u001b[m\n",
            "\u001b[33mhint: is subject to change. To configure the initial branch name to use in all\u001b[m\n",
            "\u001b[33mhint: of your new repositories, which will suppress this warning, call:\u001b[m\n",
            "\u001b[33mhint: \u001b[m\n",
            "\u001b[33mhint: \tgit config --global init.defaultBranch <name>\u001b[m\n",
            "\u001b[33mhint: \u001b[m\n",
            "\u001b[33mhint: Names commonly chosen instead of 'master' are 'main', 'trunk' and\u001b[m\n",
            "\u001b[33mhint: 'development'. The just-created branch can be renamed via this command:\u001b[m\n",
            "\u001b[33mhint: \u001b[m\n",
            "\u001b[33mhint: \tgit branch -m <name>\u001b[m\n",
            "Initialized empty Git repository in /content/lab-functions-en/.git/\n",
            "/content/lab-functions-en\n"
          ]
        }
      ]
    },
    {
      "cell_type": "code",
      "source": [
        "!echo \"mod/*\" > .git/info/sparse-checkout"
      ],
      "metadata": {
        "id": "rbQKtBtL6T06"
      },
      "execution_count": 6,
      "outputs": []
    },
    {
      "cell_type": "code",
      "source": [
        "!git pull origin master"
      ],
      "metadata": {
        "colab": {
          "base_uri": "https://localhost:8080/"
        },
        "id": "BdeGkFxK6k6D",
        "outputId": "94195c13-cfae-4d1b-9488-9d2cfa388d3c"
      },
      "execution_count": 7,
      "outputs": [
        {
          "output_type": "stream",
          "name": "stdout",
          "text": [
            "remote: Enumerating objects: 9, done.\u001b[K\n",
            "remote: Counting objects:  33% (1/3)\u001b[K\rremote: Counting objects:  66% (2/3)\u001b[K\rremote: Counting objects: 100% (3/3)\u001b[K\rremote: Counting objects: 100% (3/3), done.\u001b[K\n",
            "remote: Compressing objects:  33% (1/3)\u001b[K\rremote: Compressing objects:  66% (2/3)\u001b[K\rremote: Compressing objects: 100% (3/3)\u001b[K\rremote: Compressing objects: 100% (3/3), done.\u001b[K\n",
            "remote: Total 9 (delta 0), reused 0 (delta 0), pack-reused 6 (from 2)\u001b[K\n",
            "Unpacking objects:  11% (1/9)\rUnpacking objects:  22% (2/9)\rUnpacking objects:  33% (3/9)\rUnpacking objects:  44% (4/9)\rUnpacking objects:  55% (5/9)\rUnpacking objects:  66% (6/9)\rUnpacking objects:  77% (7/9)\rUnpacking objects:  88% (8/9)\rUnpacking objects: 100% (9/9)\rUnpacking objects: 100% (9/9), 4.59 KiB | 1.15 MiB/s, done.\n",
            "From https://github.com/ironhack-labs/lab-functions-en\n",
            " * branch            master     -> FETCH_HEAD\n",
            " * [new branch]      master     -> origin/master\n"
          ]
        }
      ]
    },
    {
      "cell_type": "code",
      "source": [
        "!ls mod"
      ],
      "metadata": {
        "colab": {
          "base_uri": "https://localhost:8080/"
        },
        "id": "6Kk9EQIt6oiM",
        "outputId": "a5cf4cf0-10ce-43b8-dbc0-0fcded0e0f1c"
      },
      "execution_count": 8,
      "outputs": [
        {
          "output_type": "stream",
          "name": "stdout",
          "text": [
            "testing.py\n"
          ]
        }
      ]
    },
    {
      "cell_type": "code",
      "execution_count": 9,
      "metadata": {
        "id": "Lf9wKOjO3CQM"
      },
      "outputs": [],
      "source": [
        "from mod.testing import *\n",
        "import unittest"
      ]
    },
    {
      "cell_type": "markdown",
      "metadata": {
        "id": "0KgraGVu3CQN"
      },
      "source": [
        "## 1. Write a function that returns the greater of two numbers"
      ]
    },
    {
      "cell_type": "code",
      "execution_count": 10,
      "metadata": {
        "id": "JVnJxLNR3CQN",
        "colab": {
          "base_uri": "https://localhost:8080/"
        },
        "outputId": "3f3ef3d3-e67d-41bc-dccb-da44ccfb14be"
      },
      "outputs": [
        {
          "output_type": "stream",
          "name": "stdout",
          "text": [
            "Please enter first integer number: 13\n",
            "Please enter second integer number: 20\n",
            "The greater number is: 20\n"
          ]
        }
      ],
      "source": [
        "a = int(input(\"Please enter first integer number: \"))\n",
        "b = int(input(\"Please enter second integer number: \"))\n",
        "\n",
        "def greater(a, b):\n",
        "    if a > b:\n",
        "        return a\n",
        "    else:\n",
        "        return b\n",
        "\n",
        "# Call the function and print the result\n",
        "result = greater(a, b)\n",
        "print(\"The greater number is:\", result)"
      ]
    },
    {
      "cell_type": "code",
      "execution_count": 11,
      "metadata": {
        "id": "oqTPxNGi3CQO",
        "colab": {
          "base_uri": "https://localhost:8080/"
        },
        "outputId": "44ade5be-8473-4ad0-8616-3f8a2dd95d5e"
      },
      "outputs": [
        {
          "output_type": "stream",
          "name": "stderr",
          "text": [
            "....................................................................................................\n",
            "----------------------------------------------------------------------\n",
            "Ran 100 tests in 0.149s\n",
            "\n",
            "OK\n"
          ]
        }
      ],
      "source": [
        "# This will test your function\n",
        "test_greater(greater)"
      ]
    },
    {
      "cell_type": "markdown",
      "metadata": {
        "id": "rUJ46X6u3CQO"
      },
      "source": [
        "## 2. Now write a function that returns the largest element on a list"
      ]
    },
    {
      "cell_type": "code",
      "source": [
        "def greatest(lst):\n",
        "    if not lst:  # Check if the list is empty\n",
        "        return None  # Return None if the list is empty\n",
        "    largest = lst[0]  # Assume the first element is the largest\n",
        "    index = 0\n",
        "    while True:\n",
        "        try:\n",
        "            current = lst[index]  # Access the element at the current index\n",
        "            if current > largest:\n",
        "                largest = current\n",
        "            index += 1\n",
        "        except IndexError:  # Stop when the index is out of bounds\n",
        "            break\n",
        "    return largest\n",
        "\n",
        "# Ask the user to enter the list\n",
        "user_input = input(\"Enter a list of numbers separated by spaces: \")\n",
        "\n",
        "# Convert the input string into a list of integers\n",
        "user_list = []\n",
        "num_str = ''\n",
        "index = 0\n",
        "while True:\n",
        "    try:\n",
        "        char = user_input[index]  # Access the character at the current index\n",
        "        if char != ' ':\n",
        "            num_str += char\n",
        "        else:\n",
        "            if num_str:  # Ensure num_str is not empty\n",
        "                user_list.append(int(num_str))\n",
        "                num_str = ''\n",
        "        index += 1\n",
        "    except IndexError:  # Stop when the index is out of bounds\n",
        "        if num_str:  # Append the last number if any\n",
        "            user_list.append(int(num_str))\n",
        "        break\n",
        "\n",
        "# Find the largest element in the list using the `greatest` function\n",
        "largest_element = greatest(user_list)\n",
        "\n",
        "# Print the result\n",
        "if largest_element is not None:\n",
        "    print(\"The largest element in the list is:\", largest_element)\n",
        "else:\n",
        "    print(\"The list is empty.\")"
      ],
      "metadata": {
        "colab": {
          "base_uri": "https://localhost:8080/"
        },
        "id": "2yGwZpkboFdq",
        "outputId": "d06169a3-4bf6-4f11-8d0d-24fe32c735e6"
      },
      "execution_count": 12,
      "outputs": [
        {
          "output_type": "stream",
          "name": "stdout",
          "text": [
            "Enter a list of numbers separated by spaces: 23  34  56 \n",
            "The largest element in the list is: 56\n"
          ]
        }
      ]
    },
    {
      "cell_type": "code",
      "execution_count": 19,
      "metadata": {
        "id": "nA68XGF53CQO",
        "colab": {
          "base_uri": "https://localhost:8080/"
        },
        "outputId": "68f77026-9b22-4652-87cf-6030a816b2b4"
      },
      "outputs": [
        {
          "output_type": "stream",
          "name": "stdout",
          "text": [
            "Enter a list of numbers separated by spaces: 3  6  76  12  22  90  0  5  10\n",
            "The largest element in the list is: 90\n"
          ]
        }
      ],
      "source": [
        "#def greatest(lst):\n",
        "    #if not lst:  # Check if the list is empty\n",
        "        #return None  # Return None if the list is empty\n",
        "    #largest = lst[0]  # Assume the first element is the largest\n",
        "    #for num in lst:\n",
        "        #if num > largest:\n",
        "            #largest = num\n",
        "    #return largest\n",
        "\n",
        "# Ask the user to enter the list\n",
        "#user_input = input(\"Enter a list of numbers separated by spaces: \")\n",
        "\n",
        "# Convert the input string into a list of integers\n",
        "#user_list = [int(x) for x in user_input.split()]\n",
        "\n",
        "# Find the largest element in the list using the `greatest` function\n",
        "#largest_element = greatest(user_list)\n",
        "\n",
        "# Print the result\n",
        "#if largest_element is not None:\n",
        "    #print(\"The largest element in the list is:\", largest_element)\n",
        "#else:\n",
        "    #print(\"The list is empty.\")"
      ]
    },
    {
      "cell_type": "code",
      "execution_count": 13,
      "metadata": {
        "id": "T2mVGHK73CQP",
        "colab": {
          "base_uri": "https://localhost:8080/"
        },
        "outputId": "3837dfa2-6352-4c52-e1cf-8a33abebbac4"
      },
      "outputs": [
        {
          "output_type": "stream",
          "name": "stderr",
          "text": [
            "....................................................................................................\n",
            "----------------------------------------------------------------------\n",
            "Ran 100 tests in 0.193s\n",
            "\n",
            "OK\n"
          ]
        }
      ],
      "source": [
        "# This will test your function\n",
        "test_greatest(greatest)"
      ]
    },
    {
      "cell_type": "markdown",
      "metadata": {
        "id": "eoaSk9SS3CQP"
      },
      "source": [
        "## 3. Write a function that sums all the elements on a list"
      ]
    },
    {
      "cell_type": "code",
      "source": [
        "def sum_all(lst):\n",
        "    total = 0  # Initialize the total sum to 0\n",
        "    index = 0\n",
        "    while True:\n",
        "        try:\n",
        "            total += lst[index]  # Add the current element to the total\n",
        "            index += 1  # Move to the next element\n",
        "        except IndexError:  # Stop when the index is out of bounds\n",
        "            break\n",
        "    return total\n",
        "\n",
        "# Ask the user to enter the list\n",
        "user_input = input(\"Enter a list of numbers separated by spaces: \")\n",
        "\n",
        "# Convert the input string into a list of integers\n",
        "user_list = []\n",
        "num_str = ''\n",
        "index = 0\n",
        "while True:\n",
        "    try:\n",
        "        char = user_input[index]  # Access the character at the current index\n",
        "        if char != ' ':\n",
        "            num_str += char\n",
        "        else:\n",
        "            if num_str:  # Ensure num_str is not empty\n",
        "                user_list.append(int(num_str))\n",
        "                num_str = ''\n",
        "        index += 1\n",
        "    except IndexError:  # Stop when the index is out of bounds\n",
        "        if num_str:  # Append the last number if any\n",
        "            user_list.append(int(num_str))\n",
        "        break\n",
        "\n",
        "# Calculate the sum of the list using the `sum_all` function\n",
        "result = sum_all(user_list)\n",
        "\n",
        "# Print the result\n",
        "print(\"The sum of all elements in the list is:\", result)"
      ],
      "metadata": {
        "colab": {
          "base_uri": "https://localhost:8080/"
        },
        "id": "XYVuFbh4pNtI",
        "outputId": "fb9abb32-46d9-4595-bce7-fca6008d88a2"
      },
      "execution_count": 14,
      "outputs": [
        {
          "output_type": "stream",
          "name": "stdout",
          "text": [
            "Enter a list of numbers separated by spaces: 54  56  78 12\n",
            "The sum of all elements in the list is: 200\n"
          ]
        }
      ]
    },
    {
      "cell_type": "code",
      "execution_count": 23,
      "metadata": {
        "id": "zF-NxlH03CQP",
        "colab": {
          "base_uri": "https://localhost:8080/"
        },
        "outputId": "218711a3-5af1-4587-f649-688d6277ec2b"
      },
      "outputs": [
        {
          "output_type": "stream",
          "name": "stdout",
          "text": [
            "Enter a list of numbers separated by spaces: 34  56  10  90  23  15\n",
            "The sum of all elements in the list is: 228\n"
          ]
        }
      ],
      "source": [
        "#def sum_all(lst):\n",
        "    #total = 0  # Initialize the total sum to 0\n",
        "    #for num in lst:\n",
        "        #total += num  # Add each element to the total\n",
        "    #return total\n",
        "\n",
        "# Ask the user to enter the list\n",
        "#user_input = input(\"Enter a list of numbers separated by spaces: \")\n",
        "\n",
        "# Convert the input string into a list of integers\n",
        "#user_list = [int(x) for x in user_input.split()]\n",
        "\n",
        "# Calculate the sum of the list using the `sum_list` function\n",
        "#result = sum_all(user_list)\n",
        "\n",
        "# Print the result\n",
        "#print(\"The sum of all elements in the list is:\", result)"
      ]
    },
    {
      "cell_type": "code",
      "execution_count": 15,
      "metadata": {
        "scrolled": true,
        "id": "EVLkNSXT3CQP",
        "colab": {
          "base_uri": "https://localhost:8080/"
        },
        "outputId": "41d8aa44-1fd8-4280-b286-ce43b1a2cf5d"
      },
      "outputs": [
        {
          "output_type": "stream",
          "name": "stderr",
          "text": [
            "....................................................................................................\n",
            "----------------------------------------------------------------------\n",
            "Ran 100 tests in 0.133s\n",
            "\n",
            "OK\n"
          ]
        }
      ],
      "source": [
        "# This will test your function\n",
        "test_sum(sum_all)"
      ]
    },
    {
      "cell_type": "markdown",
      "metadata": {
        "id": "eZOEdU1u3CQP"
      },
      "source": [
        "## 4. Write another function that multiplies all the elements on a list"
      ]
    },
    {
      "cell_type": "code",
      "source": [
        "def mult_all(lst):\n",
        "    total = 1  # Initialize the total product to 1\n",
        "    index = 0\n",
        "    while True:\n",
        "        try:\n",
        "            total *= lst[index]  # Multiply the current element with the total\n",
        "            index += 1  # Move to the next element\n",
        "        except IndexError:  # Stop when the index is out of bounds\n",
        "            break\n",
        "    return total\n",
        "\n",
        "# Ask the user to enter the list\n",
        "user_input = input(\"Enter a list of numbers separated by spaces: \")\n",
        "\n",
        "# Convert the input string into a list of integers\n",
        "user_list = []\n",
        "num_str = ''\n",
        "index = 0\n",
        "while True:\n",
        "    try:\n",
        "        char = user_input[index]  # Access the character at the current index\n",
        "        if char != ' ':\n",
        "            num_str += char\n",
        "        else:\n",
        "            if num_str:  # Ensure num_str is not empty\n",
        "                user_list.append(int(num_str))\n",
        "                num_str = ''\n",
        "        index += 1\n",
        "    except IndexError:  # Stop when the index is out of bounds\n",
        "        if num_str:  # Append the last number if any\n",
        "            user_list.append(int(num_str))\n",
        "        break\n",
        "\n",
        "# Calculate the product of the list using the `mult_all` function\n",
        "result = mult_all(user_list)\n",
        "\n",
        "# Print the result\n",
        "print(\"The product of all elements in the list is:\", result)"
      ],
      "metadata": {
        "colab": {
          "base_uri": "https://localhost:8080/"
        },
        "id": "z0t0kC5WpsyT",
        "outputId": "2c35e6ca-aa55-421d-c26f-2581ac4ce3cd"
      },
      "execution_count": 16,
      "outputs": [
        {
          "output_type": "stream",
          "name": "stdout",
          "text": [
            "Enter a list of numbers separated by spaces: 12  45  71 \n",
            "The product of all elements in the list is: 38340\n"
          ]
        }
      ]
    },
    {
      "cell_type": "code",
      "execution_count": 25,
      "metadata": {
        "id": "zUS9-gdg3CQP",
        "colab": {
          "base_uri": "https://localhost:8080/"
        },
        "outputId": "fa8e2159-a767-403c-b47c-e2707f588d75"
      },
      "outputs": [
        {
          "output_type": "stream",
          "name": "stdout",
          "text": [
            "Enter a list of numbers separated by spaces: 34  45  55  67  12\n",
            "The product of all elements in the list is: 67656600\n"
          ]
        }
      ],
      "source": [
        "#def mult_all(lst):\n",
        "    #total = 1  # Initialize the total product to 1\n",
        "    #for num in lst:\n",
        "        #total *= num  # Multiply each element with the total\n",
        "    #return total\n",
        "\n",
        "# Ask the user to enter the list\n",
        "#user_input = input(\"Enter a list of numbers separated by spaces: \")\n",
        "\n",
        "# Convert the input string into a list of integers\n",
        "#user_list = [int(x) for x in user_input.split()]\n",
        "\n",
        "# Calculate the product of the list using the `mult_all` function\n",
        "#result = mult_all(user_list)\n",
        "\n",
        "# Print the result\n",
        "#print(\"The product of all elements in the list is:\", result)"
      ]
    },
    {
      "cell_type": "code",
      "execution_count": 17,
      "metadata": {
        "scrolled": true,
        "id": "3r_-1OY53CQP",
        "colab": {
          "base_uri": "https://localhost:8080/"
        },
        "outputId": "1f590c4c-1fac-4448-ac22-c4908b33eace"
      },
      "outputs": [
        {
          "output_type": "stream",
          "name": "stderr",
          "text": [
            "....................................................................................................\n",
            "----------------------------------------------------------------------\n",
            "Ran 100 tests in 0.146s\n",
            "\n",
            "OK\n"
          ]
        }
      ],
      "source": [
        "# This will test your function\n",
        "test_mult(mult_all)"
      ]
    },
    {
      "cell_type": "markdown",
      "metadata": {
        "id": "UzPy7u7w3CQP"
      },
      "source": [
        "## 5. Now combine those two ideas and write a function that receives a list and either \"+\" or \"*\" and outputs acordingly"
      ]
    },
    {
      "cell_type": "code",
      "source": [
        "def oper_all(arr, oper=\"*\"):\n",
        "    if oper == \"+\":\n",
        "        total = 0  # Initialize total for addition\n",
        "        i = 0\n",
        "        while i < arr_length(arr):  # Manually iterate through the list\n",
        "            total += arr[i]  # Add each element\n",
        "            i += 1\n",
        "        return total\n",
        "    elif oper == \"*\":\n",
        "        total = 1  # Initialize total for multiplication\n",
        "        i = 0\n",
        "        while i < arr_length(arr):  # Manually iterate through the list\n",
        "            total *= arr[i]  # Multiply each element\n",
        "            i += 1\n",
        "        return total\n",
        "    else:\n",
        "        return \"Invalid operator. Use '+' or '*'.\"\n",
        "\n",
        "def arr_length(arr):\n",
        "    # Manually calculate the length of the list\n",
        "    count = 0\n",
        "    for _ in arr:\n",
        "        count += 1\n",
        "    return count\n",
        "\n",
        "def split_string(input_string, delimiter=\" \"):\n",
        "    # Manually split the input string into a list of substrings\n",
        "    result = []\n",
        "    current = \"\"\n",
        "    i = 0\n",
        "    while i < string_length(input_string):\n",
        "        if input_string[i] == delimiter:\n",
        "            if current != \"\":  # Skip empty strings caused by multiple spaces\n",
        "                result.append(current)\n",
        "            current = \"\"\n",
        "        else:\n",
        "            current += input_string[i]\n",
        "        i += 1\n",
        "    if current != \"\":  # Add the last substring if it's not empty\n",
        "        result.append(current)\n",
        "    return result\n",
        "\n",
        "def string_length(input_string):\n",
        "    # Manually calculate the length of the string\n",
        "    count = 0\n",
        "    for _ in input_string:\n",
        "        count += 1\n",
        "    return count\n",
        "\n",
        "def convert_to_int_list(str_list):\n",
        "    # Manually convert a list of strings to a list of integers\n",
        "    int_list = []\n",
        "    i = 0\n",
        "    while i < arr_length(str_list):\n",
        "        int_list.append(string_to_int(str_list[i]))\n",
        "        i += 1\n",
        "    return int_list\n",
        "\n",
        "def string_to_int(s):\n",
        "    # Manually convert a string to an integer\n",
        "    num = 0\n",
        "    i = 0\n",
        "    is_negative = False\n",
        "\n",
        "    if string_length(s) == 0:  # Handle empty strings\n",
        "        return 0\n",
        "\n",
        "    if s[0] == '-':\n",
        "        is_negative = True\n",
        "        i = 1\n",
        "\n",
        "    while i < string_length(s):\n",
        "        digit = s[i]\n",
        "        num = num * 10 + (ord(digit) - ord('0'))  # Convert character to digit\n",
        "        i += 1\n",
        "\n",
        "    return -num if is_negative else num\n",
        "\n",
        "# Ask the user to enter the list\n",
        "user_input = input(\"Enter a list of numbers separated by spaces: \")\n",
        "\n",
        "# Manually split the input string into a list of strings\n",
        "user_list_str = split_string(user_input)\n",
        "\n",
        "# Manually convert the list of strings into a list of integers\n",
        "user_list = convert_to_int_list(user_list_str)\n",
        "\n",
        "# Ask the user to enter the operator\n",
        "operator = input(\"Enter the operator ('+' for addition, '*' for multiplication): \")\n",
        "\n",
        "# Calculate the result using the `oper_all` function\n",
        "result = oper_all(user_list, operator)\n",
        "\n",
        "# Print the result\n",
        "print(\"The result is:\", result)"
      ],
      "metadata": {
        "colab": {
          "base_uri": "https://localhost:8080/"
        },
        "id": "oCjJlVAksbk2",
        "outputId": "cff7f14c-1a0d-4917-c614-c97b90421f0d"
      },
      "execution_count": 18,
      "outputs": [
        {
          "output_type": "stream",
          "name": "stdout",
          "text": [
            "Enter a list of numbers separated by spaces: 23  13  45 \n",
            "Enter the operator ('+' for addition, '*' for multiplication): +\n",
            "The result is: 81\n"
          ]
        }
      ]
    },
    {
      "cell_type": "code",
      "execution_count": 27,
      "metadata": {
        "id": "CL8k6hvY3CQQ",
        "colab": {
          "base_uri": "https://localhost:8080/"
        },
        "outputId": "81b52d17-4765-4ebc-a912-a2cbcf1f9c6c"
      },
      "outputs": [
        {
          "output_type": "stream",
          "name": "stdout",
          "text": [
            "Enter a list of numbers separated by spaces: 23  4  45  5  67  78\n",
            "Enter the operator ('+' for addition, '*' for multiplication): +\n",
            "The result is: 222\n"
          ]
        }
      ],
      "source": [
        "#def oper_all(arr, oper=\"*\"):\n",
        "    #if oper == \"+\":\n",
        "        #total = 0  # Initialize total for addition\n",
        "        #for num in arr:\n",
        "            #total += num  # Add each element\n",
        "        #return total\n",
        "    #elif oper == \"*\":\n",
        "        #total = 1  # Initialize total for multiplication\n",
        "        #for num in arr:\n",
        "            #total *= num  # Multiply each element\n",
        "        #return total\n",
        "    #else:\n",
        "        #return \"Invalid operator. Use '+' or '*'.\"\n",
        "\n",
        "# Ask the user to enter the list\n",
        "#user_input = input(\"Enter a list of numbers separated by spaces: \")\n",
        "\n",
        "# Convert the input string into a list of integers\n",
        "#user_list = [int(x) for x in user_input.split()]\n",
        "\n",
        "# Ask the user to enter the operator\n",
        "#operator = input(\"Enter the operator ('+' for addition, '*' for multiplication): \")\n",
        "\n",
        "# Calculate the result using the `oper_all` function\n",
        "#result = oper_all(user_list, operator)\n",
        "\n",
        "# Print the result\n",
        "#print(\"The result is:\", result)"
      ]
    },
    {
      "cell_type": "code",
      "execution_count": 19,
      "metadata": {
        "id": "IsntrnqG3CQQ",
        "colab": {
          "base_uri": "https://localhost:8080/"
        },
        "outputId": "f26530fd-05cb-4f2c-e992-2b79fffb929e"
      },
      "outputs": [
        {
          "output_type": "stream",
          "name": "stderr",
          "text": [
            "....................................................................................................\n",
            "----------------------------------------------------------------------\n",
            "Ran 100 tests in 0.197s\n",
            "\n",
            "OK\n"
          ]
        }
      ],
      "source": [
        "# This will test your function\n",
        "test_operations(oper_all)"
      ]
    },
    {
      "cell_type": "markdown",
      "metadata": {
        "id": "iWDMCw-U3CQQ"
      },
      "source": [
        "## 6. Write a function that returns the factorial of a number."
      ]
    },
    {
      "cell_type": "code",
      "source": [
        "def factorial(n):\n",
        "    if n < 0:  # Factorial is not defined for negative numbers\n",
        "        return None\n",
        "    elif n == 0 or n == 1:  # Base case: factorial of 0 or 1 is 1\n",
        "        return 1\n",
        "    else:\n",
        "        result = 1\n",
        "        i = 2  # Start from 2\n",
        "        while i <= n:  # Use a while loop instead of a for loop\n",
        "            result *= i\n",
        "            i += 1  # Increment i manually\n",
        "        return result\n",
        "\n",
        "# Get user input from user\n",
        "n = int(input(\"Enter a number: \"))\n",
        "print(f\"The factorial of {n} is {factorial(n)}\")"
      ],
      "metadata": {
        "colab": {
          "base_uri": "https://localhost:8080/"
        },
        "id": "r4udZJO9tQVI",
        "outputId": "721a1a5a-1efe-4d4c-ea27-265f52ac6247"
      },
      "execution_count": 20,
      "outputs": [
        {
          "output_type": "stream",
          "name": "stdout",
          "text": [
            "Enter a number: 6\n",
            "The factorial of 6 is 720\n"
          ]
        }
      ]
    },
    {
      "cell_type": "code",
      "execution_count": 29,
      "metadata": {
        "id": "MvaHUihn3CQQ",
        "colab": {
          "base_uri": "https://localhost:8080/"
        },
        "outputId": "d78ee3ba-421a-4b01-c696-7799ebc21b7c"
      },
      "outputs": [
        {
          "output_type": "stream",
          "name": "stdout",
          "text": [
            "Enter a number: 6\n",
            "The factorial of 6 is 720\n"
          ]
        }
      ],
      "source": [
        "#def factorial(n):\n",
        "    #if n < 0:  # Factorial is not defined for negative numbers\n",
        "        #return None\n",
        "    #elif n == 0 or n == 1:  # Base case: factorial of 0 or 1 is 1\n",
        "        #return 1\n",
        "    #else:\n",
        "        #result = 1\n",
        "        #for i in range(2, n + 1):  # Multiply numbers from 2 to n\n",
        "            #result *= i\n",
        "        #return result\n",
        "\n",
        "# Get user input from user\n",
        "#n = int(input(\"Enter a number: \"))\n",
        "#print(f\"The factorial of {n} is {factorial(n)}\")"
      ]
    },
    {
      "cell_type": "code",
      "execution_count": null,
      "metadata": {
        "id": "dt-bloNW3CQQ"
      },
      "outputs": [],
      "source": [
        "#factorial formula\n",
        "#n! = n * ( n - 1 ) *...*1\n",
        "\n",
        "# This code defines a function called \"factorial\" which takes an input \"n\". The function uses a for loop to iterate through the range of numbers\n",
        "# from 1 to n+1. For each number in that range, it multiplies the current value of x by the number in the range. At the end of the loop,\n",
        "# the function returns the final value of x, which will be the factorial of the input number \"n\".\n",
        "\n",
        "# The Factorial of a positive integer n is the product of all positive integers less than or equal to n.\n",
        "# For example, the factorial of 6 (written \"6!\") is 6 * 5 * 4 * 3 * 2 * 1 = 720.\n",
        "\n",
        "# So this function takes an input of any positive integer, and returns the factorial of that number."
      ]
    },
    {
      "cell_type": "code",
      "execution_count": 21,
      "metadata": {
        "id": "EuOAU2Vx3CQQ",
        "colab": {
          "base_uri": "https://localhost:8080/"
        },
        "outputId": "8931eee4-d6d2-497c-f63e-2a5a8592bdbb"
      },
      "outputs": [
        {
          "output_type": "stream",
          "name": "stderr",
          "text": [
            "....................................................................................................\n",
            "----------------------------------------------------------------------\n",
            "Ran 100 tests in 0.120s\n",
            "\n",
            "OK\n"
          ]
        }
      ],
      "source": [
        "# This will test your function\n",
        "test_factorial(factorial)"
      ]
    },
    {
      "cell_type": "markdown",
      "metadata": {
        "id": "nPua9yJ73CQQ"
      },
      "source": [
        "## 7. Write a function that takes a list and returns a list of the unique values.\n",
        "\n",
        "`NOTE: You cannot use set. 🤔`"
      ]
    },
    {
      "cell_type": "code",
      "execution_count": 23,
      "metadata": {
        "id": "5J1sgetp3CQQ",
        "colab": {
          "base_uri": "https://localhost:8080/"
        },
        "outputId": "f5b2f22e-a020-4aa7-8b54-f1f7b03e09fd"
      },
      "outputs": [
        {
          "output_type": "stream",
          "name": "stdout",
          "text": [
            "Enter a list of numbers separated by spaces: 12  34  12  3  4  3  3  3  \n",
            "Unique values: [12, 34, 3, 4]\n"
          ]
        }
      ],
      "source": [
        "def unique(lst_un):\n",
        "    unique_list = []  # Initialize an empty list to store unique values\n",
        "    for item in lst_un:  # Iterate through the input list\n",
        "        is_unique = True  # Assume the item is unique\n",
        "        for unique_item in unique_list:  # Check if the item is already in the unique list\n",
        "            if item == unique_item:\n",
        "                is_unique = False  # If found, mark it as not unique\n",
        "                break\n",
        "        if is_unique:  # If the item is unique, add it to the unique list\n",
        "            unique_list.append(item)\n",
        "    return unique_list\n",
        "\n",
        "# Get user input\n",
        "user_input = input(\"Enter a list of numbers separated by spaces: \")\n",
        "# Convert the input string into a list of integers\n",
        "user_list = [int(x) for x in user_input.split()]\n",
        "\n",
        "# Get the unique values\n",
        "result = unique(user_list)\n",
        "\n",
        "# Print the result\n",
        "print(\"Unique values:\", result)"
      ]
    },
    {
      "cell_type": "code",
      "execution_count": 24,
      "metadata": {
        "id": "MC_a7QP33CQQ",
        "colab": {
          "base_uri": "https://localhost:8080/"
        },
        "outputId": "fbf6a1ff-7b3a-4cad-8627-06e6782025ac"
      },
      "outputs": [
        {
          "output_type": "stream",
          "name": "stderr",
          "text": [
            "....................................................................................................\n",
            "----------------------------------------------------------------------\n",
            "Ran 100 tests in 0.399s\n",
            "\n",
            "OK\n"
          ]
        }
      ],
      "source": [
        "# This will test your function\n",
        "test_unique(unique)"
      ]
    },
    {
      "cell_type": "markdown",
      "metadata": {
        "id": "beLNLtCk3CQQ"
      },
      "source": [
        "## 8. Write a function that returns the mode of a list, i.e.: the element that appears the most times.\n",
        "`NOTE: You should not use count... 🧐`"
      ]
    },
    {
      "cell_type": "code",
      "execution_count": 25,
      "metadata": {
        "id": "MtgaX3Vs3CQR",
        "colab": {
          "base_uri": "https://localhost:8080/"
        },
        "outputId": "9533594e-07b9-4697-90c0-dd50759074b5"
      },
      "outputs": [
        {
          "output_type": "stream",
          "name": "stdout",
          "text": [
            "Enter a list of numbers separated by spaces: 12  13  7  5  12  12\n",
            "The mode of the list is: 12\n"
          ]
        }
      ],
      "source": [
        "def mode_counter(arr):\n",
        "    # Manually count the frequency of each element\n",
        "    frequency = {}\n",
        "    i = 0\n",
        "    while True:  # Manually iterate through the list\n",
        "        try:\n",
        "            item = arr[i]  # Access the element at index i\n",
        "            # Check if the item is already in the frequency dictionary\n",
        "            found = False\n",
        "            j = 0\n",
        "            keys = list(frequency.keys())  # Get keys manually\n",
        "            while True:\n",
        "                try:\n",
        "                    if keys[j] == item:  # Check if the key matches the item\n",
        "                        frequency[item] += 1\n",
        "                        found = True\n",
        "                        break\n",
        "                    j += 1\n",
        "                except IndexError:  # End of keys\n",
        "                    break\n",
        "            if not found:\n",
        "                frequency[item] = 1\n",
        "            i += 1\n",
        "        except IndexError:  # End of list\n",
        "            break\n",
        "\n",
        "    # Manually find the mode (element with the highest frequency)\n",
        "    max_count = 0\n",
        "    mode = None\n",
        "    k = 0\n",
        "    keys = list(frequency.keys())\n",
        "    while True:\n",
        "        try:\n",
        "            key = keys[k]  # Access the key at index k\n",
        "            value = frequency[key]\n",
        "            if value > max_count:\n",
        "                max_count = value\n",
        "                mode = key\n",
        "            k += 1\n",
        "        except IndexError:  # End of keys\n",
        "            break\n",
        "\n",
        "    return mode\n",
        "\n",
        "# Get user input\n",
        "user_input = input(\"Enter a list of numbers separated by spaces: \")\n",
        "# Convert the input string into a list of integers\n",
        "user_list = []\n",
        "temp = \"\"\n",
        "for char in user_input:\n",
        "    if char == \" \":\n",
        "        if temp:\n",
        "            user_list.append(int(temp))\n",
        "            temp = \"\"\n",
        "    else:\n",
        "        temp += char\n",
        "if temp:  # Add the last number\n",
        "    user_list.append(int(temp))\n",
        "\n",
        "# Find the mode\n",
        "mode = mode_counter(user_list)\n",
        "\n",
        "# Print the result\n",
        "print(\"The mode of the list is:\", mode)"
      ]
    },
    {
      "cell_type": "code",
      "execution_count": 26,
      "metadata": {
        "id": "EnjcMRKy3CQR",
        "colab": {
          "base_uri": "https://localhost:8080/"
        },
        "outputId": "bde5c04b-4f1f-43e1-9e9c-3ee01a14a3e2"
      },
      "outputs": [
        {
          "output_type": "stream",
          "name": "stderr",
          "text": [
            "....................................................................................................\n",
            "----------------------------------------------------------------------\n",
            "Ran 100 tests in 0.142s\n",
            "\n",
            "OK\n"
          ]
        }
      ],
      "source": [
        "# This will test your function\n",
        "test_mode(mode_counter)"
      ]
    },
    {
      "cell_type": "markdown",
      "metadata": {
        "id": "-46lCZYi3CQR"
      },
      "source": [
        "## 9. Write a function that calculates the standard deviation of a list.\n",
        "`NOTE: Do not use any libraries or already built functions. 😉`"
      ]
    },
    {
      "cell_type": "code",
      "execution_count": 27,
      "metadata": {
        "id": "svTxLSFa3CQR",
        "colab": {
          "base_uri": "https://localhost:8080/"
        },
        "outputId": "0ae1bcb5-9e4c-4a2a-e7a6-a8639be1398e"
      },
      "outputs": [
        {
          "output_type": "stream",
          "name": "stdout",
          "text": [
            "Enter a list of numbers separated by spaces: 12  13  56  \n",
            "The standard deviation is: 25.119713374160938\n"
          ]
        }
      ],
      "source": [
        "def st_dev(list_sd):\n",
        "    # Step 1: Calculate the mean (average)\n",
        "    total = 0\n",
        "    count = 0\n",
        "    for num in list_sd:\n",
        "        total += num\n",
        "        count += 1\n",
        "    mean = total / count\n",
        "\n",
        "    # Step 2: Calculate the squared differences from the mean\n",
        "    squared_diff_sum = 0\n",
        "    for num in list_sd:\n",
        "        diff = num - mean\n",
        "        squared_diff_sum += diff * diff  # Square the difference\n",
        "\n",
        "    # Step 3: Calculate the variance\n",
        "    # Use (n - 1) for sample variance or (n) for population variance\n",
        "    # Here, we assume sample variance (n - 1)\n",
        "    variance = squared_diff_sum / (count - 1)\n",
        "\n",
        "    # Step 4: Calculate the standard deviation (square root of variance)\n",
        "    # Implement square root manually using the Babylonian method\n",
        "    def sqrt(n):\n",
        "        if n == 0 or n == 1:\n",
        "            return n\n",
        "        guess = n / 2\n",
        "        while True:\n",
        "            new_guess = (guess + n / guess) / 2\n",
        "            if abs(new_guess - guess) < 1e-10:  # Precision threshold\n",
        "                return new_guess\n",
        "            guess = new_guess\n",
        "\n",
        "    std_dev = sqrt(variance)\n",
        "    return std_dev\n",
        "\n",
        "# Example usage\n",
        "user_input = input(\"Enter a list of numbers separated by spaces: \")\n",
        "user_list = []\n",
        "temp = \"\"\n",
        "for char in user_input:\n",
        "    if char == \" \":\n",
        "        if temp:\n",
        "            user_list.append(float(temp))\n",
        "            temp = \"\"\n",
        "    else:\n",
        "        temp += char\n",
        "if temp:  # Add the last number\n",
        "    user_list.append(float(temp))\n",
        "\n",
        "# Find the standard deviation\n",
        "result = st_dev(user_list)\n",
        "print(\"The standard deviation is:\", result)"
      ]
    },
    {
      "cell_type": "code",
      "execution_count": 28,
      "metadata": {
        "id": "nZZw1dfd3CQR",
        "colab": {
          "base_uri": "https://localhost:8080/"
        },
        "outputId": "cc991005-b14b-4692-bd01-51baa5238e99"
      },
      "outputs": [
        {
          "output_type": "stream",
          "name": "stderr",
          "text": [
            "....................................................................................................\n",
            "----------------------------------------------------------------------\n",
            "Ran 100 tests in 0.131s\n",
            "\n",
            "OK\n"
          ]
        }
      ],
      "source": [
        "# This will test your function\n",
        "test_stdev(st_dev)"
      ]
    },
    {
      "cell_type": "markdown",
      "metadata": {
        "id": "8cAh6Ea93CQR"
      },
      "source": [
        "## 10. Write a function to check if a string is a pangram, i.e.: if it contains all the letters of the alphabet at least once. Mind that the strings may contain characters that are not letters."
      ]
    },
    {
      "cell_type": "code",
      "execution_count": 29,
      "metadata": {
        "id": "PxLWhIzA3CQR",
        "colab": {
          "base_uri": "https://localhost:8080/"
        },
        "outputId": "552fe28c-cb14-4d73-def6-7edb4307b3dc"
      },
      "outputs": [
        {
          "output_type": "stream",
          "name": "stdout",
          "text": [
            "Enter a string to check if it's a pangram: Hello, world!\n",
            "The string is not a pangram. Please try again.\n",
            "Enter a string to check if it's a pangram: The quick brown fox jumps over the lazy dog\n",
            "The string is a pangram.\n"
          ]
        }
      ],
      "source": [
        "def pangram(s):\n",
        "    # Create a list to track the presence of each letter (a-z)\n",
        "    alphabet = [False] * 26  # 26 letters in the English alphabet\n",
        "\n",
        "    # Iterate through each character in the string\n",
        "    for char in s:\n",
        "        # Check if the character is a lowercase letter\n",
        "        if 'a' <= char <= 'z':\n",
        "            # Mark the corresponding letter as present\n",
        "            alphabet[ord(char) - ord('a')] = True\n",
        "        # Check if the character is an uppercase letter\n",
        "        elif 'A' <= char <= 'Z':\n",
        "            # Convert to lowercase and mark the corresponding letter as present\n",
        "            alphabet[ord(char) - ord('A')] = True\n",
        "\n",
        "    # Check if all letters are present\n",
        "    for letter_present in alphabet:\n",
        "        if not letter_present:\n",
        "            return False  # If any letter is missing, it's not a pangram\n",
        "\n",
        "    return True  # All letters are present\n",
        "\n",
        "# Keep asking for input until a pangram is provided\n",
        "while True:\n",
        "    input_string = input(\"Enter a string to check if it's a pangram: \")\n",
        "    if pangram(input_string):\n",
        "        print(\"The string is a pangram.\")\n",
        "        break  # Exit the loop if the string is a pangram\n",
        "    else:\n",
        "        print(\"The string is not a pangram. Please try again.\")"
      ]
    },
    {
      "cell_type": "code",
      "execution_count": 30,
      "metadata": {
        "id": "FZEOCjap3CQR",
        "colab": {
          "base_uri": "https://localhost:8080/"
        },
        "outputId": "fe6cb990-2fc5-4fa9-ee39-871d9578c7c8"
      },
      "outputs": [
        {
          "output_type": "stream",
          "name": "stderr",
          "text": [
            "..............................\n",
            "----------------------------------------------------------------------\n",
            "Ran 30 tests in 0.053s\n",
            "\n",
            "OK\n"
          ]
        }
      ],
      "source": [
        "# This will test your function\n",
        "test_pangram(pangram)"
      ]
    },
    {
      "cell_type": "markdown",
      "metadata": {
        "id": "blBdusr73CQR"
      },
      "source": [
        "## 11. Write a function that receives a string of comma separated words and returns a string of comma separated words sorted alphabetically.\n",
        "\n",
        "`NOTE: You may use sorted but not split and definitely no join! 🤪`"
      ]
    },
    {
      "cell_type": "code",
      "execution_count": 31,
      "metadata": {
        "id": "p7Hiclrm3CQR",
        "colab": {
          "base_uri": "https://localhost:8080/"
        },
        "outputId": "a376db8e-5c70-4257-cef9-be4b8775c576"
      },
      "outputs": [
        {
          "output_type": "stream",
          "name": "stdout",
          "text": [
            "Enter a comma-separated list of words: banana,apple,cherry\n",
            "Sorted words: apple,banana,cherry\n"
          ]
        }
      ],
      "source": [
        "def sort_alpha(string):\n",
        "    words = []\n",
        "    current_word = \"\"\n",
        "    for char in string:\n",
        "        if char == ',':\n",
        "            words.append(current_word)\n",
        "            current_word = \"\"\n",
        "        else:\n",
        "            current_word += char\n",
        "    if current_word:\n",
        "        words.append(current_word)\n",
        "    sorted_words = sorted(words)\n",
        "    result = \"\"\n",
        "    for i, word in enumerate(sorted_words):\n",
        "        result += word\n",
        "        if i < len(sorted_words) - 1:\n",
        "            result += ','\n",
        "    return result\n",
        "\n",
        "# Prompt the user to enter a comma-separated string\n",
        "input_string = input(\"Enter a comma-separated list of words: \")\n",
        "\n",
        "# Call the function and print the result\n",
        "sorted_string = sort_alpha(input_string)\n",
        "print(\"Sorted words:\", sorted_string)"
      ]
    },
    {
      "cell_type": "code",
      "execution_count": 32,
      "metadata": {
        "id": "o1qF9eC-3CQR",
        "colab": {
          "base_uri": "https://localhost:8080/"
        },
        "outputId": "dfe4b3ab-4a79-453e-b935-cb84159913b0"
      },
      "outputs": [
        {
          "output_type": "stream",
          "name": "stderr",
          "text": [
            "....................................................................................................\n",
            "----------------------------------------------------------------------\n",
            "Ran 100 tests in 0.175s\n",
            "\n",
            "OK\n"
          ]
        }
      ],
      "source": [
        "# This will test your function\n",
        "test_alpha(sort_alpha)"
      ]
    },
    {
      "cell_type": "markdown",
      "metadata": {
        "id": "wV10Z2423CQR"
      },
      "source": [
        "## 12. Write a function to check if a given password is strong (at least 8 characters, at least one lower case, at least one upper case, at least one number and at least one special character). It should output True if strong and False if not."
      ]
    },
    {
      "cell_type": "code",
      "execution_count": 33,
      "metadata": {
        "id": "BSIXZYR73CQS",
        "colab": {
          "base_uri": "https://localhost:8080/"
        },
        "outputId": "0d562ddd-91b5-4a77-dc53-ff6f6eb0bc3a"
      },
      "outputs": [
        {
          "output_type": "stream",
          "name": "stdout",
          "text": [
            "Enter a password to check its strength: Wareef14@\n",
            "The password is strong!\n"
          ]
        }
      ],
      "source": [
        "def check_pass(password):\n",
        "    # Check if the password is at least 8 characters long\n",
        "    if len(password) < 8:\n",
        "        return False\n",
        "\n",
        "    # Flags to track if the password contains required character types\n",
        "    has_lower = False\n",
        "    has_upper = False\n",
        "    has_number = False\n",
        "    has_special = False\n",
        "\n",
        "    # Iterate through each character in the password\n",
        "    for char in password:\n",
        "        # Check for lowercase letters\n",
        "        if char >= 'a' and char <= 'z':\n",
        "            has_lower = True\n",
        "        # Check for uppercase letters\n",
        "        elif char >= 'A' and char <= 'Z':\n",
        "            has_upper = True\n",
        "        # Check for numbers\n",
        "        elif char >= '0' and char <= '9':\n",
        "            has_number = True\n",
        "        # Check for special characters (anything not a letter or number)\n",
        "        else:\n",
        "            has_special = True\n",
        "\n",
        "    # Return True only if all conditions are met\n",
        "    return has_lower and has_upper and has_number and has_special\n",
        "\n",
        "# Prompt the user to enter a password\n",
        "password = input(\"Enter a password to check its strength: \")\n",
        "\n",
        "# Check if the password is strong and display the result\n",
        "if check_pass(password):\n",
        "    print(\"The password is strong!\")\n",
        "else:\n",
        "    print(\"The password is weak.\")"
      ]
    },
    {
      "cell_type": "code",
      "execution_count": 34,
      "metadata": {
        "id": "v1VAC2LL3CQS",
        "colab": {
          "base_uri": "https://localhost:8080/"
        },
        "outputId": "164fb01a-2ced-4a47-99f0-211fbf479df5"
      },
      "outputs": [
        {
          "output_type": "stream",
          "name": "stderr",
          "text": [
            "....................................................................................................\n",
            "----------------------------------------------------------------------\n",
            "Ran 100 tests in 0.171s\n",
            "\n",
            "OK\n"
          ]
        }
      ],
      "source": [
        "# This will test your function\n",
        "test_pass(check_pass)"
      ]
    }
  ],
  "metadata": {
    "kernelspec": {
      "display_name": "Python 3 (ipykernel)",
      "language": "python",
      "name": "python3"
    },
    "language_info": {
      "codemirror_mode": {
        "name": "ipython",
        "version": 3
      },
      "file_extension": ".py",
      "mimetype": "text/x-python",
      "name": "python",
      "nbconvert_exporter": "python",
      "pygments_lexer": "ipython3",
      "version": "3.9.13"
    },
    "vscode": {
      "interpreter": {
        "hash": "aee8b7b246df8f9039afb4144a1f6fd8d2ca17a180786b69acc140d282b71a49"
      }
    },
    "colab": {
      "provenance": []
    }
  },
  "nbformat": 4,
  "nbformat_minor": 0
}