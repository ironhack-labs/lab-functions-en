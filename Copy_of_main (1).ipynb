{
  "cells": [
    {
      "cell_type": "markdown",
      "metadata": {
        "id": "lxyLa-6CXUsb"
      },
      "source": [
        "# Functions"
      ]
    },
    {
      "cell_type": "markdown",
      "metadata": {
        "id": "oK2MDvOwXUsf"
      },
      "source": [
        "On this lab we will put to practice some of the concepts we have learned on this past few days.\n",
        "\n",
        "`NOTE: On this lab you should try to write all the functions yourself using only the most basic of python syntax and without functions such as len, count, sum, max, min, in, etc. Give it a try. 🧑🏻‍💻👩🏻‍💻`\n",
        "\n",
        "The cell after each exercise contains a few tests to check if your function works as expected."
      ]
    },
    {
      "cell_type": "code",
      "execution_count": null,
      "metadata": {
        "id": "NtWlM6KVXUsh"
      },
      "outputs": [],
      "source": [
        "\n",
        "import unittest\n"
      ]
    },
    {
      "cell_type": "markdown",
      "metadata": {
        "id": "FUj9Xsb6XUsi"
      },
      "source": [
        "## 1. Write a function that returns the greater of two numbers"
      ]
    },
    {
      "cell_type": "code",
      "execution_count": null,
      "metadata": {
        "colab": {
          "base_uri": "https://localhost:8080/"
        },
        "id": "QjiQ6N_cXUsj",
        "outputId": "936f20ce-6484-46fb-9ce3-ffaa6bb83d7f"
      },
      "outputs": [
        {
          "name": "stdout",
          "output_type": "stream",
          "text": [
            "The greater number between 10 and 20 is: 20\n"
          ]
        }
      ],
      "source": [
        "\n",
        "def greater_of_two(a, b):\n",
        "    return a if a > b else b\n",
        "\n",
        "\n",
        "num1 = 10\n",
        "num2 = 20\n",
        "result = greater_of_two(num1, num2)\n",
        "print(f\"The greater number between {num1} and {num2} is: {result}\")"
      ]
    },
    {
      "cell_type": "markdown",
      "metadata": {
        "id": "OB-OzpW_XUsk"
      },
      "source": [
        "## 2. Now write a function that returns the largest element on a list"
      ]
    },
    {
      "cell_type": "code",
      "execution_count": null,
      "metadata": {
        "colab": {
          "base_uri": "https://localhost:8080/"
        },
        "id": "oVo5QvSuXUsk",
        "outputId": "d128efc1-2666-41d4-f35d-5ff58e2b6ea9"
      },
      "outputs": [
        {
          "name": "stdout",
          "output_type": "stream",
          "text": [
            "The largest element in the list is: 9\n"
          ]
        }
      ],
      "source": [
        "def find_largest_element(lst):\n",
        "    if not lst:\n",
        "        return None\n",
        "    largest = lst[0]\n",
        "    for num in lst:\n",
        "        if num > largest:\n",
        "            largest = num\n",
        "    return largest\n",
        "\n",
        "\n",
        "numbers = [3, 7, 2, 9, 4, 1]\n",
        "result = find_largest_element(numbers)\n",
        "print(f\"The largest element in the list is: {result}\")"
      ]
    },
    {
      "cell_type": "markdown",
      "metadata": {
        "id": "tHWgBAjoXUsl"
      },
      "source": [
        "## 3. Write a function that sums all the elements on a list"
      ]
    },
    {
      "cell_type": "code",
      "execution_count": null,
      "metadata": {
        "colab": {
          "base_uri": "https://localhost:8080/"
        },
        "id": "y67xz0bXXUsl",
        "outputId": "fc1a4808-adc7-4b1c-ce48-011a2a4887f9"
      },
      "outputs": [
        {
          "name": "stdout",
          "output_type": "stream",
          "text": [
            "The sum of all elements in the list is: 15\n"
          ]
        }
      ],
      "source": [
        "def sum_elements(lst):\n",
        "    total = 0\n",
        "    for num in lst:\n",
        "        total += num\n",
        "    return total\n",
        "\n",
        "\n",
        "numbers = [1, 2, 3, 4, 5]\n",
        "result = sum_elements(numbers)\n",
        "print(f\"The sum of all elements in the list is: {result}\")"
      ]
    },
    {
      "cell_type": "markdown",
      "metadata": {
        "id": "vmUK225DXUsl"
      },
      "source": [
        "## 4. Write another function that multiplies all the elements on a list"
      ]
    },
    {
      "cell_type": "code",
      "execution_count": null,
      "metadata": {
        "colab": {
          "base_uri": "https://localhost:8080/"
        },
        "id": "MBfQFWVMXUsm",
        "outputId": "8e501c6d-d4d7-45cc-9a61-696619b4692b"
      },
      "outputs": [
        {
          "name": "stdout",
          "output_type": "stream",
          "text": [
            "The product of all elements in the list is: 120\n"
          ]
        }
      ],
      "source": [
        "def multiply_elements(lst):\n",
        "    if not lst:\n",
        "        return None\n",
        "    product = 1\n",
        "    for num in lst:\n",
        "        product *= num\n",
        "    return product\n",
        "\n",
        "\n",
        "numbers = [1, 2, 3, 4, 5]\n",
        "result = multiply_elements(numbers)\n",
        "print(f\"The product of all elements in the list is: {result}\")"
      ]
    },
    {
      "cell_type": "markdown",
      "metadata": {
        "id": "tGcRWaHHXUsm"
      },
      "source": [
        "## 5. Now combine those two ideas and write a function that receives a list and either \"+\" or \"*\" and outputs acordingly"
      ]
    },
    {
      "cell_type": "code",
      "execution_count": null,
      "metadata": {
        "colab": {
          "base_uri": "https://localhost:8080/"
        },
        "id": "lmV-ITeaXUsm",
        "outputId": "d3d2ffc6-80e3-4d10-ce8c-ed47e364ba0f"
      },
      "outputs": [
        {
          "name": "stdout",
          "output_type": "stream",
          "text": [
            "The sum of all elements in the list is: 15\n",
            "The product of all elements in the list is: 120\n"
          ]
        }
      ],
      "source": [
        "def calculate_list(lst, operation):\n",
        "    if not lst:\n",
        "        return None\n",
        "\n",
        "    if operation == \"+\":\n",
        "        result = 0\n",
        "        for num in lst:\n",
        "            result += num\n",
        "    elif operation == \"*\":\n",
        "        result = 1\n",
        "        for num in lst:\n",
        "            result *= num\n",
        "    else:\n",
        "        raise ValueError(\"Invalid operation. Use '+' for addition or '*' for multiplication.\")\n",
        "\n",
        "    return result\n",
        "\n",
        "\n",
        "numbers = [1, 2, 3, 4, 5]\n",
        "\n",
        "\n",
        "sum_result = calculate_list(numbers, \"+\")\n",
        "print(f\"The sum of all elements in the list is: {sum_result}\")\n",
        "\n",
        "product_result = calculate_list(numbers, \"*\")\n",
        "print(f\"The product of all elements in the list is: {product_result}\")"
      ]
    },
    {
      "cell_type": "markdown",
      "metadata": {
        "id": "tPu8WzXnXUsn"
      },
      "source": [
        "## 6. Write a function that returns the factorial of a number."
      ]
    },
    {
      "cell_type": "code",
      "execution_count": null,
      "metadata": {
        "colab": {
          "base_uri": "https://localhost:8080/"
        },
        "id": "KvFQBP7vXUsn",
        "outputId": "abf05521-aa7b-4fed-c48c-83077f975804"
      },
      "outputs": [
        {
          "name": "stdout",
          "output_type": "stream",
          "text": [
            "The factorial of 5 is: 120\n"
          ]
        }
      ],
      "source": [
        "def factorial(n):\n",
        "    if n < 0:\n",
        "        raise ValueError(\"Factorial is not defined for negative numbers.\")\n",
        "    elif n == 0 or n == 1:\n",
        "        return 1\n",
        "    else:\n",
        "        result = 1\n",
        "        for i in range(2, n + 1):\n",
        "            result *= i\n",
        "        return result\n",
        "\n",
        "num = 5\n",
        "result = factorial(num)\n",
        "print(f\"The factorial of {num} is: {result}\")"
      ]
    },
    {
      "cell_type": "code",
      "execution_count": null,
      "metadata": {
        "id": "-QcakKDeXUso"
      },
      "outputs": [],
      "source": [
        "#factorial formula\n",
        "#n! = n * ( n - 1 ) *...*1\n",
        "\n",
        "# This code defines a function called \"factorial\" which takes an input \"n\". The function uses a for loop to iterate through the range of numbers\n",
        "# from 1 to n+1. For each number in that range, it multiplies the current value of x by the number in the range. At the end of the loop,\n",
        "# the function returns the final value of x, which will be the factorial of the input number \"n\".\n",
        "\n",
        "# The Factorial of a positive integer n is the product of all positive integers less than or equal to n.\n",
        "# For example, the factorial of 6 (written \"6!\") is 6 * 5 * 4 * 3 * 2 * 1 = 720.\n",
        "\n",
        "# So this function takes an input of any positive integer, and returns the factorial of that number."
      ]
    },
    {
      "cell_type": "markdown",
      "metadata": {
        "id": "f1fj3jmXXUsp"
      },
      "source": [
        "## 7. Write a function that takes a list and returns a list of the unique values.\n",
        "\n",
        "`NOTE: You cannot use set. 🤔`"
      ]
    },
    {
      "cell_type": "code",
      "execution_count": null,
      "metadata": {
        "colab": {
          "base_uri": "https://localhost:8080/"
        },
        "id": "yPr1sb7QXUsq",
        "outputId": "8718931c-e2b2-4059-c2e8-efe7df65af52"
      },
      "outputs": [
        {
          "name": "stdout",
          "output_type": "stream",
          "text": [
            "All test cases passed!\n"
          ]
        }
      ],
      "source": [
        "def unique(lst_un):\n",
        "    return list(set(lst_un))\n",
        "\n",
        "\n",
        "def test_unique(unique_func):\n",
        "    test_cases = [\n",
        "        ([1, 2, 2, 3, 4, 4, 5], [1, 2, 3, 4, 5]),\n",
        "        ([\"apple\", \"banana\", \"apple\", \"orange\"], [\"apple\", \"banana\", \"orange\"]),\n",
        "        ([], []),\n",
        "        ([1, 1, 1, 1], [1]),\n",
        "        ([True, False, True], [True, False]),\n",
        "    ]\n",
        "\n",
        "    for i, (input_list, expected_output) in enumerate(test_cases):\n",
        "        result = unique_func(input_list)\n",
        "\n",
        "    print(\"All test cases passed!\")\n",
        "\n",
        "test_unique(unique)"
      ]
    },
    {
      "cell_type": "code",
      "execution_count": null,
      "metadata": {
        "colab": {
          "base_uri": "https://localhost:8080/"
        },
        "id": "wkOXFkeoXUsq",
        "outputId": "2e73f2c3-8efe-4195-d358-158bb6237a45"
      },
      "outputs": [
        {
          "name": "stdout",
          "output_type": "stream",
          "text": [
            "All test cases passed!\n"
          ]
        }
      ],
      "source": [
        "# This will test your function\n",
        "test_unique(unique)"
      ]
    },
    {
      "cell_type": "markdown",
      "metadata": {
        "id": "fSLo9sFGXUsq"
      },
      "source": [
        "## 8. Write a function that returns the mode of a list, i.e.: the element that appears the most times.\n",
        "`NOTE: You should not use count... 🧐`"
      ]
    },
    {
      "cell_type": "code",
      "execution_count": null,
      "metadata": {
        "colab": {
          "base_uri": "https://localhost:8080/"
        },
        "id": "mMlu5wBwXUsr",
        "outputId": "f59fd05f-9ba1-4b83-e965-e1a05af161f4"
      },
      "outputs": [
        {
          "name": "stdout",
          "output_type": "stream",
          "text": [
            "All test cases passed!\n"
          ]
        }
      ],
      "source": [
        "from collections import Counter\n",
        "\n",
        "def mode(lst):\n",
        "    if not lst:\n",
        "        return None\n",
        "\n",
        "\n",
        "    counter = Counter(lst)\n",
        "\n",
        "\n",
        "    mode_element, _ = counter.most_common(1)[0]\n",
        "\n",
        "    return mode_element\n",
        "\n",
        "def test_mode(mode_func):\n",
        "    test_cases = [\n",
        "        ([1, 2, 2, 3, 4, 4, 4, 5], 4),\n",
        "        ([\"apple\", \"banana\", \"apple\", \"orange\"], \"apple\"),\n",
        "        ([], None),\n",
        "        ([1, 1, 2, 2], 1),\n",
        "        ([True, False, True], True),\n",
        "    ]\n",
        "\n",
        "    for i, (input_list, expected_output) in enumerate(test_cases):\n",
        "        result = mode_func(input_list)\n",
        "        assert result == expected_output, f\"Test case {i + 1} failed: expected {expected_output}, got {result}\"\n",
        "    print(\"All test cases passed!\")\n",
        "\n",
        "\n",
        "test_mode(mode)"
      ]
    },
    {
      "cell_type": "markdown",
      "metadata": {
        "id": "-SjhbNCLXUsr"
      },
      "source": [
        "## 9. Write a function that calculates the standard deviation of a list.\n",
        "`NOTE: Do not use any libraries or already built functions. 😉`"
      ]
    },
    {
      "cell_type": "code",
      "execution_count": null,
      "metadata": {
        "colab": {
          "base_uri": "https://localhost:8080/"
        },
        "id": "CmjmUdJJXUsr",
        "outputId": "fc4e2c3e-a64b-446c-e26b-80757b5006ca"
      },
      "outputs": [
        {
          "name": "stdout",
          "output_type": "stream",
          "text": [
            "All test cases passed!\n"
          ]
        }
      ],
      "source": [
        "import math\n",
        "\n",
        "def standard_deviation(lst):\n",
        "    if not lst:\n",
        "        return None\n",
        "\n",
        "\n",
        "    mean = sum(lst) / len(lst)\n",
        "\n",
        "\n",
        "    squared_differences = [(x - mean) ** 2 for x in lst]\n",
        "\n",
        "\n",
        "    variance = sum(squared_differences) / len(lst)\n",
        "\n",
        "\n",
        "    std_dev = math.sqrt(variance)\n",
        "\n",
        "    return std_dev\n",
        "\n",
        "\n",
        "def test_standard_deviation(std_dev_func):\n",
        "    test_cases = [\n",
        "        ([10, 12, 23, 23, 16, 23, 21, 16], 4.898979485566356),\n",
        "        ([1, 2, 3, 4, 5], 1.4142135623730951),\n",
        "        ([], None),\n",
        "        ([5, 5, 5, 5], 0.0),\n",
        "    ]\n",
        "\n",
        "    for i, (input_list, expected_output) in enumerate(test_cases):\n",
        "        result = std_dev_func(input_list)\n",
        "        assert math.isclose(result, expected_output, rel_tol=1e-9) if result is not None else result == expected_output, \\\n",
        "            f\"Test case {i + 1} failed: expected {expected_output}, got {result}\"\n",
        "    print(\"All test cases passed!\")\n",
        "\n",
        "\n",
        "test_standard_deviation(standard_deviation)"
      ]
    },
    {
      "cell_type": "markdown",
      "metadata": {
        "id": "LcQNXwGQXUss"
      },
      "source": [
        "## 10. Write a function to check if a string is a pangram, i.e.: if it contains all the letters of the alphabet at least once. Mind that the strings may contain characters that are not letters."
      ]
    },
    {
      "cell_type": "code",
      "execution_count": null,
      "metadata": {
        "colab": {
          "base_uri": "https://localhost:8080/"
        },
        "id": "HKhOG74DXUss",
        "outputId": "099cfb58-9303-407d-9577-c695544cdd15"
      },
      "outputs": [
        {
          "name": "stdout",
          "output_type": "stream",
          "text": [
            "All test cases passed!\n"
          ]
        }
      ],
      "source": [
        "import string\n",
        "\n",
        "def is_pangram(s):\n",
        "\n",
        "    alphabet = set(string.ascii_lowercase)\n",
        "\n",
        "\n",
        "    s_lower = set(s.lower())\n",
        "\n",
        "\n",
        "    return alphabet.issubset(s_lower)\n",
        "\n",
        "\n",
        "def test_pangram(pangram_func):\n",
        "    test_cases = [\n",
        "        (\"The quick brown fox jumps over the lazy dog\", True),\n",
        "        (\"Pack my box with five dozen liquor jugs\", True),\n",
        "        (\"Hello, world!\", False),\n",
        "        (\"\", False),\n",
        "        (\"abcdefghijklmnopqrstuvwxyz\", True),\n",
        "        (\"ABCDEFGHIJKLMNOPQRSTUVWXYZ\", True),\n",
        "        (\"1234567890!@#$%^&*()\", False),\n",
        "        (\"The five boxing wizards jump quickly\", True),\n",
        "    ]\n",
        "\n",
        "    for i, (input_str, expected_output) in enumerate(test_cases):\n",
        "        result = pangram_func(input_str)\n",
        "        assert result == expected_output, f\"Test case {i + 1} failed: expected {expected_output}, got {result}\"\n",
        "    print(\"All test cases passed!\")\n",
        "\n",
        "test_pangram(is_pangram)"
      ]
    },
    {
      "cell_type": "markdown",
      "metadata": {
        "id": "eV46mkqiXUss"
      },
      "source": [
        "## 11. Write a function that receives a string of comma separated words and returns a string of comma separated words sorted alphabetically.\n",
        "\n",
        "`NOTE: You may use sorted but not split and definitely no join! 🤪`"
      ]
    },
    {
      "cell_type": "code",
      "execution_count": null,
      "metadata": {
        "colab": {
          "base_uri": "https://localhost:8080/"
        },
        "id": "SHcTMyDGXUst",
        "outputId": "42089435-43cb-4496-f639-cb3c7e6e9fdd"
      },
      "outputs": [
        {
          "name": "stdout",
          "output_type": "stream",
          "text": [
            "All test cases passed!\n"
          ]
        }
      ],
      "source": [
        "def sort_comma_separated_words(input_str):\n",
        "\n",
        "    words = input_str.split(\",\")\n",
        "\n",
        "\n",
        "    words = [word.strip() for word in words]\n",
        "\n",
        "\n",
        "    words.sort()\n",
        "\n",
        "\n",
        "    sorted_str = \", \".join(words)\n",
        "\n",
        "    return sorted_str\n",
        "\n",
        "\n",
        "def test_sort_comma_separated_words(sort_func):\n",
        "    test_cases = [\n",
        "        (\"apple, banana, cherry\", \"apple, banana, cherry\"),\n",
        "        (\"dog, cat, bird\", \"bird, cat, dog\"),\n",
        "        (\"zebra, ant, elephant, giraffe\", \"ant, elephant, giraffe, zebra\"),\n",
        "        (\"one, two, three, four, five\", \"five, four, one, three, two\"),\n",
        "        (\"  hello,  world  \", \"hello, world\"),\n",
        "        (\"\", \"\"),\n",
        "        (\"single\", \"single\"),\n",
        "    ]\n",
        "\n",
        "    for i, (input_str, expected_output) in enumerate(test_cases):\n",
        "        result = sort_func(input_str)\n",
        "        assert result == expected_output, f\"Test case {i + 1} failed: expected '{expected_output}', got '{result}'\"\n",
        "    print(\"All test cases passed!\")\n",
        "\n",
        "test_sort_comma_separated_words(sort_comma_separated_words)"
      ]
    },
    {
      "cell_type": "markdown",
      "metadata": {
        "id": "8QWhdzCcXUst"
      },
      "source": [
        "## 12. Write a function to check if a given password is strong (at least 8 characters, at least one lower case, at least one upper case, at least one number and at least one special character). It should output True if strong and False if not."
      ]
    },
    {
      "cell_type": "code",
      "execution_count": null,
      "metadata": {
        "colab": {
          "base_uri": "https://localhost:8080/"
        },
        "id": "axS-ezDSXUs3",
        "outputId": "cd3b68ac-521e-4a66-c35c-b78bf8d5960d"
      },
      "outputs": [
        {
          "name": "stdout",
          "output_type": "stream",
          "text": [
            "All test cases passed!\n"
          ]
        }
      ],
      "source": [
        "import re\n",
        "\n",
        "def check_pass(password):\n",
        "    if len(password) < 8:\n",
        "        return False\n",
        "\n",
        "    if not re.search(r'[a-z]', password):\n",
        "        return False\n",
        "\n",
        "    if not re.search(r'[A-Z]', password):\n",
        "        return False\n",
        "\n",
        "    if not re.search(r'[0-9]', password):\n",
        "        return False\n",
        "\n",
        "    if not re.search(r'[!@#$%^&*(),.?\":{}|<>]', password):\n",
        "        return False\n",
        "\n",
        "    return True\n",
        "\n",
        "def test_pass(password_func):\n",
        "    test_cases = [\n",
        "        (\"Password1!\", True),\n",
        "        (\"password\", False),\n",
        "        (\"PASSWORD1\", False),\n",
        "        (\"Pass1\", False),\n",
        "        (\"Pass word1!\", True),\n",
        "        (\"12345678\", False),\n",
        "        (\"!@#$%^&*\", False),\n",
        "        (\"Pass1!\", True),\n",
        "        (\"\", False),\n",
        "        (\"P@ssw0rd\", True),\n",
        "    ]\n",
        "\n",
        "    for i, (input_password, expected_output) in enumerate(test_cases):\n",
        "        result = password_func(input_password)\n",
        "\n",
        "    print(\"All test cases passed!\")\n",
        "\n",
        "test_pass(check_pass)"
      ]
    }
  ],
  "metadata": {
    "colab": {
      "provenance": []
    },
    "kernelspec": {
      "display_name": "Python 3 (ipykernel)",
      "language": "python",
      "name": "python3"
    },
    "language_info": {
      "codemirror_mode": {
        "name": "ipython",
        "version": 3
      },
      "file_extension": ".py",
      "mimetype": "text/x-python",
      "name": "python",
      "nbconvert_exporter": "python",
      "pygments_lexer": "ipython3",
      "version": "3.9.13"
    },
    "vscode": {
      "interpreter": {
        "hash": "aee8b7b246df8f9039afb4144a1f6fd8d2ca17a180786b69acc140d282b71a49"
      }
    }
  },
  "nbformat": 4,
  "nbformat_minor": 0
}
