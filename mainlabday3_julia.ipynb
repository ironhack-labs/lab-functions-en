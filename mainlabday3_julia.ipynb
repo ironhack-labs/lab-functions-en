{
 "cells": [
  {
   "cell_type": "markdown",
   "metadata": {},
   "source": [
    "# Functions"
   ]
  },
  {
   "cell_type": "markdown",
   "metadata": {},
   "source": [
    "On this lab we will put to practice some of the concepts we have learned on this past few days.\n",
    "\n",
    "`NOTE: On this lab you should try to write all the functions yourself using only the most basic of python syntax and without functions such as len, count, sum, max, min, in, etc. Give it a try. 🧑🏻‍💻👩🏻‍💻`\n",
    "\n",
    "The cell after each exercise contains a few tests to check if your function works as expected."
   ]
  },
  {
   "cell_type": "code",
   "execution_count": 84,
   "metadata": {},
   "outputs": [],
   "source": [
    "from mod.testing import *\n",
    "import unittest"
   ]
  },
  {
   "cell_type": "markdown",
   "metadata": {},
   "source": [
    "## 1. Write a function that returns the greater of two numbers"
   ]
  },
  {
   "cell_type": "code",
   "execution_count": 85,
   "metadata": {},
   "outputs": [],
   "source": [
    "def greater(a, b):\n",
    "    if a > b:\n",
    "        return a\n",
    "    elif a < b:\n",
    "        return b"
   ]
  },
  {
   "cell_type": "code",
   "execution_count": 86,
   "metadata": {},
   "outputs": [
    {
     "name": "stderr",
     "output_type": "stream",
     "text": [
      "....................................................................................................\n",
      "----------------------------------------------------------------------\n",
      "Ran 100 tests in 0.023s\n",
      "\n",
      "OK\n"
     ]
    }
   ],
   "source": [
    "# This will test your function \n",
    "test_greater(greater)"
   ]
  },
  {
   "cell_type": "markdown",
   "metadata": {},
   "source": [
    "## 2. Now write a function that returns the largest element on a list"
   ]
  },
  {
   "cell_type": "code",
   "execution_count": 87,
   "metadata": {},
   "outputs": [],
   "source": [
    "def largest_element(arr):\n",
    "\n",
    "    # Make sure there's no error when the list is empty\n",
    "    if len(arr) == 0:\n",
    "        return None  \n",
    "    \n",
    "    # Find largest\n",
    "    largest = arr[0] \n",
    "    for num in arr[1:]: \n",
    "        if num > largest:\n",
    "            largest = num\n",
    "    return largest"
   ]
  },
  {
   "cell_type": "code",
   "execution_count": 88,
   "metadata": {},
   "outputs": [
    {
     "name": "stderr",
     "output_type": "stream",
     "text": [
      "....................................................................................................\n",
      "----------------------------------------------------------------------\n",
      "Ran 100 tests in 0.020s\n",
      "\n",
      "OK\n"
     ]
    }
   ],
   "source": [
    "# This will test your function \n",
    "test_greatest(largest_element)"
   ]
  },
  {
   "cell_type": "markdown",
   "metadata": {},
   "source": [
    "## 3. Write a function that sums all the elements on a list"
   ]
  },
  {
   "cell_type": "code",
   "execution_count": 89,
   "metadata": {},
   "outputs": [],
   "source": [
    "def sum_all(lst):\n",
    "\n",
    "    # Make sure the list is not empty\n",
    "    if len(lst) == 0:\n",
    "        return None\n",
    "\n",
    "    # Initializing sum\n",
    "    sum_of_list = 0\n",
    "\n",
    "    # Adding x to sum and returning the sum\n",
    "    for x in lst:\n",
    "        sum_of_list += x \n",
    "    return sum_of_list\n"
   ]
  },
  {
   "cell_type": "code",
   "execution_count": 90,
   "metadata": {
    "scrolled": true
   },
   "outputs": [
    {
     "name": "stderr",
     "output_type": "stream",
     "text": [
      "....................................................................................................\n",
      "----------------------------------------------------------------------\n",
      "Ran 100 tests in 0.023s\n",
      "\n",
      "OK\n"
     ]
    }
   ],
   "source": [
    "# This will test your function \n",
    "test_sum(sum_all)"
   ]
  },
  {
   "cell_type": "markdown",
   "metadata": {},
   "source": [
    "## 4. Write another function that multiplies all the elements on a list"
   ]
  },
  {
   "cell_type": "code",
   "execution_count": 91,
   "metadata": {},
   "outputs": [],
   "source": [
    "def mult_all(lst):\n",
    "\n",
    "    # Make sure list is not empty\n",
    "    if len(lst) == 0:\n",
    "        return None\n",
    "    \n",
    "    # Initializing the multiplication of all elements\n",
    "    multiplying_elements = 1\n",
    "\n",
    "    # Multiplying each element with the other ones and returning result\n",
    "    for x in lst:\n",
    "        multiplying_elements *= x\n",
    "    return multiplying_elements\n",
    "    "
   ]
  },
  {
   "cell_type": "code",
   "execution_count": 92,
   "metadata": {
    "scrolled": true
   },
   "outputs": [
    {
     "name": "stderr",
     "output_type": "stream",
     "text": [
      "....................................................................................................\n",
      "----------------------------------------------------------------------\n",
      "Ran 100 tests in 0.022s\n",
      "\n",
      "OK\n"
     ]
    }
   ],
   "source": [
    "# This will test your function \n",
    "test_mult(mult_all)"
   ]
  },
  {
   "cell_type": "markdown",
   "metadata": {},
   "source": [
    "## 5. Now combine those two ideas and write a function that receives a list and either \"+\" or \"*\" and outputs acordingly"
   ]
  },
  {
   "cell_type": "code",
   "execution_count": 93,
   "metadata": {},
   "outputs": [],
   "source": [
    "def oper_all(arr, oper = \"*\"):\n",
    "\n",
    "    #Make sure list is not empty\n",
    "    if len(arr) == 0:\n",
    "        return None\n",
    "    \n",
    "    # Case *: multiplication\n",
    "    if oper == \"*\":\n",
    "    \n",
    "    # Initializing the multiplied elements with neutral element\n",
    "        operating_multiplication = 1\n",
    "\n",
    "    # Iterating through the elements and multiplying\n",
    "        for x in arr:\n",
    "            operating_multiplication *= x\n",
    "        return operating_multiplication\n",
    "    \n",
    "    # Case +: sum\n",
    "    elif oper == \"+\":\n",
    "    \n",
    "    # Initializing the sum of elements with neutral element\n",
    "            operating_sum = 0\n",
    "\n",
    "    # Iterating through list and adding to the already existing sum, returning sum.\n",
    "            for x in arr:\n",
    "                 operating_sum += x\n",
    "            return operating_sum\n"
   ]
  },
  {
   "cell_type": "code",
   "execution_count": 94,
   "metadata": {},
   "outputs": [
    {
     "name": "stderr",
     "output_type": "stream",
     "text": [
      "....................................................................................................\n",
      "----------------------------------------------------------------------\n",
      "Ran 100 tests in 0.021s\n",
      "\n",
      "OK\n"
     ]
    }
   ],
   "source": [
    "# This will test your function \n",
    "test_operations(oper_all)"
   ]
  },
  {
   "cell_type": "markdown",
   "metadata": {},
   "source": [
    "## 6. Write a function that returns the factorial of a number."
   ]
  },
  {
   "cell_type": "code",
   "execution_count": 95,
   "metadata": {},
   "outputs": [],
   "source": [
    "def factorial(n):\n",
    "\n",
    "    # Make sure list is not empty\n",
    "    if n <= 0:\n",
    "        return None\n",
    "    \n",
    "    # Initializing the factorial's result with the neutral element\n",
    "    factorial_result = 1\n",
    "\n",
    "    # Iterating through the list and multiplying the result with all the elements\n",
    "    for i in range(1, n+1):\n",
    "        factorial_result *= i\n",
    "    \n",
    "    # Returning result\n",
    "    return factorial_result\n",
    " "
   ]
  },
  {
   "cell_type": "code",
   "execution_count": 97,
   "metadata": {},
   "outputs": [],
   "source": [
    "#factorial formula\n",
    "#n! = n * ( n - 1 ) *...*1\n",
    "\n",
    "# This code defines a function called \"factorial\" which takes an input \"n\". The function uses a for loop to iterate through the range of numbers \n",
    "# from 1 to n+1. For each number in that range, it multiplies the current value of x by the number in the range. At the end of the loop, \n",
    "# the function returns the final value of x, which will be the factorial of the input number \"n\".\n",
    "\n",
    "# The Factorial of a positive integer n is the product of all positive integers less than or equal to n. \n",
    "# For example, the factorial of 6 (written \"6!\") is 6 * 5 * 4 * 3 * 2 * 1 = 720.\n",
    "\n",
    "# So this function takes an input of any positive integer, and returns the factorial of that number."
   ]
  },
  {
   "cell_type": "code",
   "execution_count": 98,
   "metadata": {},
   "outputs": [
    {
     "name": "stderr",
     "output_type": "stream",
     "text": [
      "....................................................................................................\n",
      "----------------------------------------------------------------------\n",
      "Ran 100 tests in 0.023s\n",
      "\n",
      "OK\n"
     ]
    }
   ],
   "source": [
    "# This will test your function \n",
    "test_factorial(factorial)"
   ]
  },
  {
   "cell_type": "markdown",
   "metadata": {},
   "source": [
    "## 7. Write a function that takes a list and returns a list of the unique values.\n",
    "\n",
    "`NOTE: You cannot use set. 🤔`"
   ]
  },
  {
   "cell_type": "code",
   "execution_count": 100,
   "metadata": {},
   "outputs": [],
   "source": [
    "def unique(lst_un):\n",
    "    for element in lst_un:\n",
    "        new_lst = []\n",
    "        index = 0  \n",
    "\n",
    "    for element in lst_un:\n",
    "        if element not in new_lst:\n",
    "            if len(new_lst) <= index:\n",
    "                new_lst += [None] \n",
    "            new_lst[index] = element\n",
    "            index += 1\n",
    "    return new_lst[:index]"
   ]
  },
  {
   "cell_type": "code",
   "execution_count": 101,
   "metadata": {},
   "outputs": [
    {
     "name": "stderr",
     "output_type": "stream",
     "text": [
      "....................................................................................................\n",
      "----------------------------------------------------------------------\n",
      "Ran 100 tests in 0.052s\n",
      "\n",
      "OK\n"
     ]
    }
   ],
   "source": [
    "# This will test your function \n",
    "test_unique(unique)"
   ]
  },
  {
   "cell_type": "markdown",
   "metadata": {},
   "source": [
    "## 8. Write a function that returns the mode of a list, i.e.: the element that appears the most times.\n",
    "`NOTE: You should not use count... 🧐`"
   ]
  },
  {
   "cell_type": "code",
   "execution_count": 102,
   "metadata": {},
   "outputs": [],
   "source": [
    "def mode_counter(arr):\n",
    "\n",
    "    # Make sure list is not empty\n",
    "    if len(arr) == 0:\n",
    "        return None \n",
    "    \n",
    "    # Setting the counter as a dictionary with the element as key and the value as number of occurrence\n",
    "    counter = {}\n",
    "\n",
    "    # Iterating \n",
    "    for n in arr:\n",
    "\n",
    "        # Counter goes up by one\n",
    "        if n in counter:\n",
    "            counter[n] += 1\n",
    "        \n",
    "        else:\n",
    "            counter[n] = 1\n",
    "\n",
    "    # Initializing maximal count\n",
    "    max_count = 0\n",
    "\n",
    "    # Iterating the values\n",
    "    for value in counter.values():\n",
    "\n",
    "        # Checking for the highest count\n",
    "        if value > max_count:\n",
    "            max_count = value\n",
    "    \n",
    "    # Find all elements with maximum count\n",
    "    modes = []\n",
    "    for key, value in counter.items():\n",
    "        if value == max_count:\n",
    "            modes.append(key)\n",
    "\n",
    "    # Check if there's only one mode, return, or return list\n",
    "    return modes if len(modes) > 1 else modes[0]\n"
   ]
  },
  {
   "cell_type": "code",
   "execution_count": 103,
   "metadata": {},
   "outputs": [
    {
     "name": "stderr",
     "output_type": "stream",
     "text": [
      "....................................................................................................\n",
      "----------------------------------------------------------------------\n",
      "Ran 100 tests in 0.021s\n",
      "\n",
      "OK\n"
     ]
    }
   ],
   "source": [
    "# This will test your function \n",
    "test_mode(mode_counter)"
   ]
  },
  {
   "cell_type": "markdown",
   "metadata": {},
   "source": [
    "## 9. Write a function that calculates the standard deviation of a list.\n",
    "`NOTE: Do not use any libraries or already built functions. 😉`"
   ]
  },
  {
   "cell_type": "code",
   "execution_count": 104,
   "metadata": {},
   "outputs": [],
   "source": [
    "def st_dev(list_sd):\n",
    "\n",
    "    # Make sure list is not empty\n",
    "    if len(list_sd) == 0:\n",
    "        return None\n",
    "    \n",
    "    # Initializing the sum with neutral element\n",
    "    sum_of_elements = 0\n",
    "    \n",
    "    # Iterating through every element in list and adding to the sum\n",
    "    for element in list_sd:\n",
    "        sum_of_elements += element\n",
    "\n",
    "    # Calculating the mean\n",
    "    mean_of_list = sum_of_elements / len(list_sd)\n",
    "\n",
    "    # Initializing the sum of all squared elements\n",
    "    sum_of_squares = 0\n",
    "\n",
    "    # Iterating the elements in the list and subtracting the mean from every single element, squaring the result and adding to a sum of all squared differences\n",
    "    for element in list_sd:\n",
    "        sum_of_squares += (element - mean_of_list) ** 2\n",
    "\n",
    "    # Calculating the variance by dividing the sum of all squared differences by the amount of list elements minus one\n",
    "    variance = sum_of_squares / (len(list_sd) - 1)\n",
    "\n",
    "    # Calculating the standard deviation from the variance\n",
    "    standard_dev = variance ** 0.5\n",
    "\n",
    "    # Returning the standard deviation\n",
    "    return standard_dev\n"
   ]
  },
  {
   "cell_type": "code",
   "execution_count": 105,
   "metadata": {},
   "outputs": [
    {
     "name": "stderr",
     "output_type": "stream",
     "text": [
      "....................................................................................................\n",
      "----------------------------------------------------------------------\n",
      "Ran 100 tests in 0.022s\n",
      "\n",
      "OK\n"
     ]
    }
   ],
   "source": [
    "# This will test your function \n",
    "test_stdev(st_dev)"
   ]
  },
  {
   "cell_type": "markdown",
   "metadata": {},
   "source": [
    "## 10. Write a function to check if a string is a pangram, i.e.: if it contains all the letters of the alphabet at least once. Mind that the strings may contain characters that are not letters."
   ]
  },
  {
   "cell_type": "code",
   "execution_count": 106,
   "metadata": {},
   "outputs": [],
   "source": [
    "# Initializing the alphabet\n",
    "alphabet = \"abcdefghijklmnopqrstuvwxyz\"\n",
    "\n",
    "def pangram(string):\n",
    "\n",
    "    # Making sure inserted string is lowercase to be able to compare with initialized alphabet\n",
    "    string = string.lower()\n",
    "\n",
    "    # Iterating through every character in alphabet and checking if it's in the string\n",
    "    for char in alphabet:\n",
    "        if char not in string:\n",
    "            return False\n",
    "    \n",
    "    return True\n",
    "        \n"
   ]
  },
  {
   "cell_type": "code",
   "execution_count": 107,
   "metadata": {},
   "outputs": [
    {
     "name": "stderr",
     "output_type": "stream",
     "text": [
      "..............................\n",
      "----------------------------------------------------------------------\n",
      "Ran 30 tests in 0.008s\n",
      "\n",
      "OK\n"
     ]
    }
   ],
   "source": [
    "# This will test your function \n",
    "test_pangram(pangram)"
   ]
  },
  {
   "cell_type": "markdown",
   "metadata": {},
   "source": [
    "## 11. Write a function that receives a string of comma separated words and returns a string of comma separated words sorted alphabetically.\n",
    "\n",
    "`NOTE: You may use sorted but not split and definitely no join! 🤪`"
   ]
  },
  {
   "cell_type": "code",
   "execution_count": 108,
   "metadata": {},
   "outputs": [],
   "source": [
    "def sort_alpha(string):\n",
    "    words = []\n",
    "    current_word = \"\"\n",
    "\n",
    "    # Manually parsing the string into a list of words\n",
    "    for char in string:\n",
    "        if char == ',':\n",
    "            if current_word:\n",
    "                words.append(current_word)\n",
    "                current_word = \"\"\n",
    "        else:\n",
    "            current_word += char\n",
    "    \n",
    "    # Appending the last word\n",
    "    if current_word:\n",
    "        words.append(current_word)\n",
    "    \n",
    "    # Sorting the list of words\n",
    "    sorted_words = sorted(words)\n",
    "    \n",
    "    # Creating the final comma-separated string\n",
    "    final_string = \"\"\n",
    "    for i, word in enumerate(sorted_words):\n",
    "        if i > 0:\n",
    "            final_string += \",\"\n",
    "        final_string += word\n",
    "    \n",
    "    return final_string\n",
    "\n"
   ]
  },
  {
   "cell_type": "code",
   "execution_count": 109,
   "metadata": {},
   "outputs": [
    {
     "name": "stderr",
     "output_type": "stream",
     "text": [
      "....................................................................................................\n",
      "----------------------------------------------------------------------\n",
      "Ran 100 tests in 0.022s\n",
      "\n",
      "OK\n"
     ]
    }
   ],
   "source": [
    "# This will test your function \n",
    "test_alpha(sort_alpha)"
   ]
  },
  {
   "cell_type": "markdown",
   "metadata": {},
   "source": [
    "## 12. Write a function to check if a given password is strong (at least 8 characters, at least one lower case, at least one upper case, at least one number and at least one special character). It should output True if strong and False if not."
   ]
  },
  {
   "cell_type": "code",
   "execution_count": 110,
   "metadata": {},
   "outputs": [],
   "source": [
    "def check_pass(password):\n",
    "    \n",
    "    # Checking if length is at least 8 characters\n",
    "    if len(password) < 8:\n",
    "        return False\n",
    "    \n",
    "    # Initializing the special characters for being searched\n",
    "    special_characters = \"!@#$%^&*()-_=+[]{}|;:',.<>?/`~\"\n",
    "\n",
    "    # Checking for lowers, uppers, digits and special characters\n",
    "    has_lower = has_upper = has_digit = has_special = False\n",
    "    \n",
    "    # Iterating the characters in password and checking for every requirement\n",
    "    for char in password:\n",
    "        if char.islower():\n",
    "            has_lower = True\n",
    "        elif char.isupper():\n",
    "            has_upper = True\n",
    "        elif char.isdigit():\n",
    "            has_digit = True\n",
    "        elif char in special_characters:\n",
    "            has_special = True\n",
    "        \n",
    "        if has_lower and has_upper and has_digit and has_special:\n",
    "            return True\n",
    "    \n",
    "    return False\n"
   ]
  },
  {
   "cell_type": "code",
   "execution_count": 111,
   "metadata": {},
   "outputs": [
    {
     "name": "stderr",
     "output_type": "stream",
     "text": [
      "....................................................................................................\n",
      "----------------------------------------------------------------------\n",
      "Ran 100 tests in 0.022s\n",
      "\n",
      "OK\n"
     ]
    }
   ],
   "source": [
    "# This will test your function \n",
    "test_pass(check_pass)"
   ]
  }
 ],
 "metadata": {
  "kernelspec": {
   "display_name": "Python 3 (ipykernel)",
   "language": "python",
   "name": "python3"
  },
  "language_info": {
   "codemirror_mode": {
    "name": "ipython",
    "version": 3
   },
   "file_extension": ".py",
   "mimetype": "text/x-python",
   "name": "python",
   "nbconvert_exporter": "python",
   "pygments_lexer": "ipython3",
   "version": "3.12.0"
  },
  "vscode": {
   "interpreter": {
    "hash": "aee8b7b246df8f9039afb4144a1f6fd8d2ca17a180786b69acc140d282b71a49"
   }
  }
 },
 "nbformat": 4,
 "nbformat_minor": 4
}
