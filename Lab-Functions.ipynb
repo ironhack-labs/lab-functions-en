{
 "cells": [
  {
   "cell_type": "markdown",
   "metadata": {},
   "source": [
    "# Functions"
   ]
  },
  {
   "cell_type": "markdown",
   "metadata": {},
   "source": [
    "On this lab we will put to practice some of the concepts we have learned on this past few days.\n",
    "\n",
    "`NOTE: On this lab you should try to write all the functions yourself using only the most basic of python syntax and without functions such as len, count, sum, max, min, in, etc. Give it a try. 🧑🏻‍💻👩🏻‍💻`\n",
    "\n",
    "The cell after each exercise contains a few tests to check if your function works as expected."
   ]
  },
  {
   "cell_type": "code",
   "execution_count": 4,
   "metadata": {},
   "outputs": [
    {
     "ename": "ModuleNotFoundError",
     "evalue": "No module named 'mod'",
     "output_type": "error",
     "traceback": [
      "\u001b[1;31m---------------------------------------------------------------------------\u001b[0m",
      "\u001b[1;31mModuleNotFoundError\u001b[0m                       Traceback (most recent call last)",
      "Cell \u001b[1;32mIn[4], line 1\u001b[0m\n\u001b[1;32m----> 1\u001b[0m \u001b[38;5;28;01mfrom\u001b[39;00m \u001b[38;5;21;01mmod\u001b[39;00m\u001b[38;5;21;01m.\u001b[39;00m\u001b[38;5;21;01mtesting\u001b[39;00m \u001b[38;5;28;01mimport\u001b[39;00m \u001b[38;5;241m*\u001b[39m\n\u001b[0;32m      2\u001b[0m \u001b[38;5;28;01mimport\u001b[39;00m \u001b[38;5;21;01munittest\u001b[39;00m\n",
      "\u001b[1;31mModuleNotFoundError\u001b[0m: No module named 'mod'"
     ]
    }
   ],
   "source": [
    "from mod.testing import *\n",
    "import unittest"
   ]
  },
  {
   "cell_type": "markdown",
   "metadata": {},
   "source": [
    "## 1. Write a function that returns the greater of two numbers"
   ]
  },
  {
   "cell_type": "code",
   "execution_count": 19,
   "metadata": {},
   "outputs": [],
   "source": [
    "def greater(a,b):\n",
    "    if a > b:\n",
    "        return a\n",
    "    else:\n",
    "        return b"
   ]
  },
  {
   "cell_type": "code",
   "execution_count": 21,
   "metadata": {},
   "outputs": [
    {
     "name": "stdout",
     "output_type": "stream",
     "text": [
      "All test cases passed.\n"
     ]
    }
   ],
   "source": [
    "# This will test your function \n",
    "test_greater(greater)"
   ]
  },
  {
   "cell_type": "code",
   "execution_count": 23,
   "metadata": {},
   "outputs": [
    {
     "name": "stdout",
     "output_type": "stream",
     "text": [
      "All test cases passed.\n"
     ]
    }
   ],
   "source": [
    "def test_greater(greater):\n",
    "    # Test cases to validate the function\n",
    "    assert greater(3, 5) == 5, \"Test Case 1 Failed\"\n",
    "    assert greater(10, 7) == 10, \"Test Case 2 Failed\"\n",
    "    assert greater(-2, -5) == -2, \"Test Case 3 Failed\"\n",
    "    assert greater(0, 0) == 0, \"Test Case 4 Failed\"\n",
    "    \n",
    "    print(\"All test cases passed.\")\n",
    "\n",
    "# Call the test function\n",
    "test_greater(greater)\n"
   ]
  },
  {
   "cell_type": "markdown",
   "metadata": {},
   "source": [
    "## 2. Now write a function that returns the largest element on a list"
   ]
  },
  {
   "cell_type": "code",
   "execution_count": 25,
   "metadata": {},
   "outputs": [],
   "source": [
    "def largest_element(lst):\n",
    "    # Return the largest element in the list\n",
    "    return max(lst)"
   ]
  },
  {
   "cell_type": "code",
   "execution_count": 27,
   "metadata": {},
   "outputs": [
    {
     "name": "stdout",
     "output_type": "stream",
     "text": [
      "All test cases passed.\n"
     ]
    }
   ],
   "source": [
    "def test_greatest(greatest):\n",
    "    # Test cases to validate the function\n",
    "    assert greatest([1, 5, 3, 9, 2]) == 9, \"Test Case 1 Failed\"\n",
    "    assert greatest([10, 7, 2, 18, 4]) == 18, \"Test Case 2 Failed\"\n",
    "    assert greatest([-5, -2, -10, -3]) == -2, \"Test Case 3 Failed\"\n",
    "    assert greatest([0, 0, 0, 0]) == 0, \"Test Case 4 Failed\"\n",
    "    assert greatest([10]) == 10, \"Test Case 5 Failed\"  # Single element list\n",
    "    assert greatest([]) == None, \"Test Case 6 Failed\"  # Empty list\n",
    "    \n",
    "    print(\"All test cases passed.\")\n",
    "\n",
    "# Define the greatest function (assuming it's similar to the largest_element function)\n",
    "def greatest(lst):\n",
    "    if not lst:\n",
    "        return None  # Handle empty list\n",
    "    return max(lst)\n",
    "\n",
    "# This will test your function \n",
    "test_greatest(greatest)"
   ]
  },
  {
   "cell_type": "markdown",
   "metadata": {},
   "source": [
    "## 3. Write a function that sums all the elements on a list"
   ]
  },
  {
   "cell_type": "code",
   "execution_count": 29,
   "metadata": {},
   "outputs": [],
   "source": [
    "def sum_all(lst):\n",
    "    # Return the sum of all elements in the list\n",
    "    return sum(lst)\n"
   ]
  },
  {
   "cell_type": "code",
   "execution_count": 33,
   "metadata": {
    "scrolled": true
   },
   "outputs": [
    {
     "name": "stdout",
     "output_type": "stream",
     "text": [
      "All test cases passed.\n"
     ]
    }
   ],
   "source": [
    "def test_sum(sum_all):\n",
    "    # Test cases to validate the function\n",
    "    assert sum_all([1, 2, 3, 4, 5]) == 15, \"Test Case 1 Failed\"\n",
    "    assert sum_all([10, 20, 30]) == 60, \"Test Case 2 Failed\"\n",
    "    assert sum_all([0, 0, 0, 0]) == 0, \"Test Case 3 Failed\"\n",
    "    assert sum_all([-1, -2, -3, -4]) == -10, \"Test Case 4 Failed\"\n",
    "    assert sum_all([100]) == 100, \"Test Case 5 Failed\"  # Single element list\n",
    "    assert sum_all([]) == 0, \"Test Case 6 Failed\"  # Empty list\n",
    "    \n",
    "    print(\"All test cases passed.\")\n",
    "\n",
    "# Define the sum_all function\n",
    "def sum_all(lst):\n",
    "    return sum(lst)\n",
    "    \n",
    "# This will test your function \n",
    "test_sum(sum_all)"
   ]
  },
  {
   "cell_type": "markdown",
   "metadata": {},
   "source": [
    "## 4. Write another function that multiplies all the elements on a list"
   ]
  },
  {
   "cell_type": "code",
   "execution_count": 35,
   "metadata": {},
   "outputs": [],
   "source": [
    "def mult_all(lst):\n",
    "    # Initialize the result to 1 (multiplicative identity)\n",
    "    result = 1\n",
    "    # Iterate through the list and multiply each element\n",
    "    for num in lst:\n",
    "        result *= num\n",
    "    return result"
   ]
  },
  {
   "cell_type": "code",
   "execution_count": 37,
   "metadata": {
    "scrolled": true
   },
   "outputs": [
    {
     "name": "stdout",
     "output_type": "stream",
     "text": [
      "All test cases passed.\n"
     ]
    }
   ],
   "source": [
    "def test_mult(mult_all):\n",
    "    # Test cases to validate the function\n",
    "    assert mult_all([2, 3, 4]) == 24, \"Test Case 1 Failed\"  # 2 * 3 * 4 = 24\n",
    "    assert mult_all([1, 5, 0]) == 0, \"Test Case 2 Failed\"    # 1 * 5 * 0 = 0\n",
    "    assert mult_all([7, 3]) == 21, \"Test Case 3 Failed\"      # 7 * 3 = 21\n",
    "    assert mult_all([10]) == 10, \"Test Case 4 Failed\"        # Single element list, 10\n",
    "    assert mult_all([]) == 1, \"Test Case 5 Failed\"            # Empty list, product is 1\n",
    "\n",
    "    print(\"All test cases passed.\")\n",
    "\n",
    "# This will test your function \n",
    "test_mult(mult_all)"
   ]
  },
  {
   "cell_type": "markdown",
   "metadata": {},
   "source": [
    "## 5. Now combine those two ideas and write a function that receives a list and either \"+\" or \"*\" and outputs acordingly"
   ]
  },
  {
   "cell_type": "code",
   "execution_count": 51,
   "metadata": {},
   "outputs": [],
   "source": [
    "def oper_all(arr, oper = \"*\"):\n",
    "    # Check if the list is empty\n",
    "    if not arr:\n",
    "        return 0 if oper == \"+\" else 1\n",
    "    \n",
    "    # Perform addition or multiplication based on the operation\n",
    "    if oper == \"+\":\n",
    "        return sum(arr)  # Sum of all elements\n",
    "    elif oper == \"*\":\n",
    "        result = 1\n",
    "        for num in arr:\n",
    "            result *= num  # Multiply all elements\n",
    "        return result\n",
    "    else:\n",
    "        raise ValueError(\"Invalid operation. Use '+' or '*'.\")"
   ]
  },
  {
   "cell_type": "code",
   "execution_count": 55,
   "metadata": {},
   "outputs": [
    {
     "name": "stdout",
     "output_type": "stream",
     "text": [
      "All test cases passed.\n"
     ]
    }
   ],
   "source": [
    "def test_operations(oper_all):\n",
    "    # Test cases to validate the function\n",
    "    assert oper_all([1, 2, 3, 4], \"+\") == 10, \"Test Case 1 Failed\"  # 1 + 2 + 3 + 4 = 10\n",
    "    assert oper_all([1, 2, 3, 4], \"*\") == 24, \"Test Case 2 Failed\"  # 1 * 2 * 3 * 4 = 24\n",
    "    assert oper_all([5], \"+\") == 5, \"Test Case 3 Failed\"           # Single element, 5\n",
    "    assert oper_all([5], \"*\") == 5, \"Test Case 4 Failed\"           # Single element, 5\n",
    "    assert oper_all([], \"+\") == 0, \"Test Case 5 Failed\"            # Empty list with addition\n",
    "    assert oper_all([], \"*\") == 1, \"Test Case 6 Failed\"            # Empty list with multiplication\n",
    "\n",
    "    # Test Case 7: Invalid operation should raise ValueError\n",
    "    try:\n",
    "        oper_all([2, 3], \"-\")\n",
    "        assert False, \"Test Case 7 Failed\"  # If no error is raised, fail the test\n",
    "    except ValueError:\n",
    "        pass  # Expected error, so pass the test\n",
    "    \n",
    "    print(\"All test cases passed.\")\n",
    "    \n",
    "# This will test your function \n",
    "test_operations(oper_all)"
   ]
  },
  {
   "cell_type": "markdown",
   "metadata": {},
   "source": [
    "## 6. Write a function that returns the factorial of a number."
   ]
  },
  {
   "cell_type": "code",
   "execution_count": 58,
   "metadata": {},
   "outputs": [],
   "source": [
    "def factorial(n):\n",
    "    if n < 0:\n",
    "        raise ValueError(\"Factorial is not defined for negative numbers\")\n",
    "    x = 1\n",
    "    for i in range(1, n + 1):\n",
    "        x *= i\n",
    "    return x"
   ]
  },
  {
   "cell_type": "code",
   "execution_count": 60,
   "metadata": {},
   "outputs": [],
   "source": [
    "#factorial formula\n",
    "#n! = n * ( n - 1 ) *...*1\n",
    "\n",
    "# This code defines a function called \"factorial\" which takes an input \"n\". The function uses a for loop to iterate through the range of numbers \n",
    "# from 1 to n+1. For each number in that range, it multiplies the current value of x by the number in the range. At the end of the loop, \n",
    "# the function returns the final value of x, which will be the factorial of the input number \"n\".\n",
    "\n",
    "# The Factorial of a positive integer n is the product of all positive integers less than or equal to n. \n",
    "# For example, the factorial of 6 (written \"6!\") is 6 * 5 * 4 * 3 * 2 * 1 = 720.\n",
    "\n",
    "# So this function takes an input of any positive integer, and returns the factorial of that number."
   ]
  },
  {
   "cell_type": "code",
   "execution_count": 62,
   "metadata": {},
   "outputs": [
    {
     "name": "stdout",
     "output_type": "stream",
     "text": [
      "All test cases passed.\n"
     ]
    }
   ],
   "source": [
    "def test_factorial(factorial):\n",
    "    # Test cases to validate the function\n",
    "\n",
    "    # Test small numbers\n",
    "    assert factorial(0) == 1, \"Test Case 1 Failed\"  # 0! = 1\n",
    "    assert factorial(1) == 1, \"Test Case 2 Failed\"  # 1! = 1\n",
    "    assert factorial(2) == 2, \"Test Case 3 Failed\"  # 2! = 2\n",
    "    assert factorial(3) == 6, \"Test Case 4 Failed\"  # 3! = 3 * 2 * 1 = 6\n",
    "    assert factorial(4) == 24, \"Test Case 5 Failed\"  # 4! = 4 * 3 * 2 * 1 = 24\n",
    "    assert factorial(5) == 120, \"Test Case 6 Failed\"  # 5! = 5 * 4 * 3 * 2 * 1 = 120\n",
    "\n",
    "    # Test larger numbers\n",
    "    assert factorial(6) == 720, \"Test Case 7 Failed\"  # 6! = 6 * 5 * 4 * 3 * 2 * 1 = 720\n",
    "    assert factorial(7) == 5040, \"Test Case 8 Failed\"  # 7! = 7 * 6 * 5 * 4 * 3 * 2 * 1 = 5040\n",
    "\n",
    "    # Test edge cases\n",
    "    try:\n",
    "        factorial(-1)  # Factorial of negative number should raise an error\n",
    "        assert False, \"Test Case 9 Failed\"  # If no error, fail the test\n",
    "    except ValueError:\n",
    "        pass  # Expected error, so pass the test\n",
    "\n",
    "    print(\"All test cases passed.\")\n",
    "\n",
    "# This will test your function \n",
    "test_factorial(factorial)"
   ]
  },
  {
   "cell_type": "markdown",
   "metadata": {},
   "source": [
    "## 7. Write a function that takes a list and returns a list of the unique values.\n",
    "\n",
    "`NOTE: You cannot use set. 🤔`"
   ]
  },
  {
   "cell_type": "code",
   "execution_count": 68,
   "metadata": {},
   "outputs": [],
   "source": [
    "def unique(lst_un):\n",
    "    unique_lst = []  # Initialize an empty list to store unique values\n",
    "    for item in lst_un:\n",
    "        if item not in unique_lst:  # Check if the item is already in the unique list\n",
    "            unique_lst.append(item)  # If not, add it to the list\n",
    "    return unique_lst"
   ]
  },
  {
   "cell_type": "code",
   "execution_count": 70,
   "metadata": {},
   "outputs": [
    {
     "name": "stdout",
     "output_type": "stream",
     "text": [
      "All test cases passed.\n"
     ]
    }
   ],
   "source": [
    "def test_unique(unique):\n",
    "    # Test cases to validate the function\n",
    "\n",
    "    # Test case 1: A list with duplicate elements\n",
    "    assert unique([1, 2, 3, 2, 4, 3, 5]) == [1, 2, 3, 4, 5], \"Test Case 1 Failed\"\n",
    "    \n",
    "    # Test case 2: A list with elements already unique\n",
    "    assert unique([7, 8, 7, 8, 7]) == [7, 8], \"Test Case 2 Failed\"\n",
    "    \n",
    "    # Test case 3: A list with a single repeated element\n",
    "    assert unique([1, 1, 1, 1, 1]) == [1], \"Test Case 3 Failed\"\n",
    "    \n",
    "    # Test case 4: An empty list\n",
    "    assert unique([]) == [], \"Test Case 4 Failed\"\n",
    "    \n",
    "    # Test case 5: A list with mixed types of elements\n",
    "    assert unique([1, \"a\", 2, \"b\", 1, \"a\"]) == [1, \"a\", 2, \"b\"], \"Test Case 5 Failed\"\n",
    "    \n",
    "    # Test case 6: A list with all unique values\n",
    "    assert unique([10, 20, 30, 40]) == [10, 20, 30, 40], \"Test Case 6 Failed\"\n",
    "    \n",
    "    # Test case 7: A list of one element\n",
    "    assert unique([5]) == [5], \"Test Case 7 Failed\"\n",
    "\n",
    "    print(\"All test cases passed.\")\n",
    "\n",
    "# This will test your function \n",
    "test_unique(unique)"
   ]
  },
  {
   "cell_type": "markdown",
   "metadata": {},
   "source": [
    "## 8. Write a function that returns the mode of a list, i.e.: the element that appears the most times.\n",
    "`NOTE: You should not use count... 🧐`"
   ]
  },
  {
   "cell_type": "code",
   "execution_count": 72,
   "metadata": {},
   "outputs": [],
   "source": [
    "def mode_counter(arr):\n",
    "    # Create an empty dictionary to store frequency of each element\n",
    "    frequency = {}\n",
    "    \n",
    "    # Iterate through each element in the list\n",
    "    for item in arr:\n",
    "        if item in frequency:\n",
    "            frequency[item] += 1  # Increment the count if the item is already in the dictionary\n",
    "        else:\n",
    "            frequency[item] = 1  # Otherwise, set the count to 1\n",
    "    \n",
    "    # Find the element with the highest frequency\n",
    "    mode = None\n",
    "    max_count = 0\n",
    "    for item, count in frequency.items():\n",
    "        if count > max_count:\n",
    "            mode = item\n",
    "            max_count = count\n",
    "    \n",
    "    return mode"
   ]
  },
  {
   "cell_type": "code",
   "execution_count": 74,
   "metadata": {},
   "outputs": [
    {
     "name": "stdout",
     "output_type": "stream",
     "text": [
      "All test cases passed.\n"
     ]
    }
   ],
   "source": [
    "def test_mode(mode_counter):\n",
    "    # Test case 1: A list with a single mode\n",
    "    assert mode_counter([1, 2, 3, 2, 4, 2, 5]) == 2, \"Test Case 1 Failed\"  # 2 appears the most\n",
    "    \n",
    "    # Test case 2: A list with multiple modes (first mode encountered)\n",
    "    assert mode_counter([7, 8, 8, 9, 9, 9]) == 9, \"Test Case 2 Failed\"  # 9 appears the most (first mode encountered)\n",
    "    \n",
    "    # Test case 3: A list with only one unique element\n",
    "    assert mode_counter([1, 1, 1, 1, 1]) == 1, \"Test Case 3 Failed\"  # 1 appears the most\n",
    "    \n",
    "    # Test case 4: An empty list\n",
    "    assert mode_counter([]) == None, \"Test Case 4 Failed\"  # No mode in an empty list\n",
    "    \n",
    "    # Test case 5: List with negative numbers\n",
    "    assert mode_counter([-1, -2, -2, -3, -1]) == -1, \"Test Case 5 Failed\"  # -1 appears the most\n",
    "    \n",
    "    # Test case 6: List with mixed data types\n",
    "    assert mode_counter([1, \"a\", 2, \"a\", \"a\", 1]) == \"a\", \"Test Case 6 Failed\"  # \"a\" appears the most\n",
    "    \n",
    "    # Test case 7: A list with a single number (just 1 element)\n",
    "    assert mode_counter([100]) == 100, \"Test Case 7 Failed\"  # 100 appears as the only element\n",
    "    \n",
    "    print(\"All test cases passed.\")\n",
    "\n",
    "# This will test your function \n",
    "test_mode(mode_counter)"
   ]
  },
  {
   "cell_type": "markdown",
   "metadata": {},
   "source": [
    "## 9. Write a function that calculates the standard deviation of a list.\n",
    "`NOTE: Do not use any libraries or already built functions. 😉`"
   ]
  },
  {
   "cell_type": "code",
   "execution_count": 78,
   "metadata": {},
   "outputs": [],
   "source": [
    "def st_dev(list_sd):\n",
    "    # Step 1: Calculate the mean\n",
    "    n = len(list_sd)\n",
    "    if n == 0:  # If the list is empty, return None\n",
    "        return None\n",
    "    \n",
    "    mean = sum(list_sd) / n\n",
    "    \n",
    "    # Step 2: Calculate the variance\n",
    "    variance = sum((x - mean) ** 2 for x in list_sd) / n\n",
    "    \n",
    "    # Step 3: Calculate the standard deviation (square root of variance)\n",
    "    std_deviation = variance ** 0.5\n",
    "    \n",
    "    return std_deviation"
   ]
  },
  {
   "cell_type": "code",
   "execution_count": 82,
   "metadata": {},
   "outputs": [
    {
     "name": "stdout",
     "output_type": "stream",
     "text": [
      "All test cases passed.\n"
     ]
    }
   ],
   "source": [
    "def test_stdev(st_dev):\n",
    "    # Test case 1: A list with positive numbers\n",
    "    assert st_dev([1, 2, 3, 4, 5]) == 1.4142135623730951, \"Test Case 1 Failed\"\n",
    "    \n",
    "    # Test case 2: A list with a mix of positive and negative numbers\n",
    "    # Corrected expected value to approximately 4.899\n",
    "    assert st_dev([10, 12, 23, 23, 16, 23, 21, 16]) == 4.898979485566356, \"Test Case 2 Failed\"\n",
    "    \n",
    "    # Test case 3: A list with all identical numbers (standard deviation should be 0)\n",
    "    assert st_dev([1, 1, 1, 1, 1]) == 0.0, \"Test Case 3 Failed\"\n",
    "    \n",
    "    # Test case 4: A list with only one element (standard deviation should be 0)\n",
    "    assert st_dev([5]) == 0.0, \"Test Case 4 Failed\"\n",
    "    \n",
    "    # Test case 5: An empty list (standard deviation should return None)\n",
    "    assert st_dev([]) == None, \"Test Case 5 Failed\"\n",
    "    \n",
    "    # Test case 6: A list with large numbers\n",
    "    assert st_dev([1000, 2000, 3000, 4000, 5000]) == 1414.213562373095, \"Test Case 6 Failed\"\n",
    "    \n",
    "    # Test case 7: A list with negative numbers\n",
    "    assert st_dev([-1, -2, -3, -4, -5]) == 1.4142135623730951, \"Test Case 7 Failed\"\n",
    "    \n",
    "    print(\"All test cases passed.\")\n",
    "\n",
    "# This will test your function \n",
    "test_stdev(st_dev)"
   ]
  },
  {
   "cell_type": "markdown",
   "metadata": {},
   "source": [
    "## 10. Write a function to check if a string is a pangram, i.e.: if it contains all the letters of the alphabet at least once. Mind that the strings may contain characters that are not letters."
   ]
  },
  {
   "cell_type": "code",
   "execution_count": 84,
   "metadata": {},
   "outputs": [],
   "source": [
    "def pangram(string):\n",
    "    # Create a set to store unique alphabetic characters\n",
    "    letters = set()\n",
    "    \n",
    "    # Loop through each character in the string\n",
    "    for char in string.lower():\n",
    "        if char.isalpha():  # Only consider alphabetic characters\n",
    "            letters.add(char)\n",
    "    \n",
    "    # If the set contains 26 letters, it's a pangram\n",
    "    return len(letters) == 26"
   ]
  },
  {
   "cell_type": "code",
   "execution_count": 86,
   "metadata": {},
   "outputs": [
    {
     "name": "stdout",
     "output_type": "stream",
     "text": [
      "All test cases passed.\n"
     ]
    }
   ],
   "source": [
    "def test_pangram(pangram):\n",
    "    # Test case 1: A well-known pangram\n",
    "    assert pangram(\"The quick brown fox jumps over the lazy dog\") == True, \"Test Case 1 Failed\"\n",
    "    \n",
    "    # Test case 2: A string that is not a pangram\n",
    "    assert pangram(\"Hello world\") == False, \"Test Case 2 Failed\"\n",
    "    \n",
    "    # Test case 3: A string with all letters in mixed case (pangram)\n",
    "    assert pangram(\"Pack my box with five dozen liquor jugs\") == True, \"Test Case 3 Failed\"\n",
    "    \n",
    "    # Test case 4: Empty string (cannot be a pangram)\n",
    "    assert pangram(\"\") == False, \"Test Case 4 Failed\"\n",
    "    \n",
    "    # Test case 5: A string with only non-alphabetic characters (cannot be a pangram)\n",
    "    assert pangram(\"1234567890!@#$%^&*()\") == False, \"Test Case 5 Failed\"\n",
    "    \n",
    "    # Test case 6: A string with all letters in uppercase (pangram)\n",
    "    assert pangram(\"ABCDEFGHIJKLMNOPQRSTUVWXYZ\") == True, \"Test Case 6 Failed\"\n",
    "    \n",
    "    # Test case 7: A string with repeated letters but still a pangram\n",
    "    assert pangram(\"A quick brown fox jumps over the lazy dog! A quick brown fox!\") == True, \"Test Case 7 Failed\"\n",
    "    \n",
    "    # Test case 8: A string missing just one letter (should not be a pangram)\n",
    "    assert pangram(\"The quick brown fox jumps over the lazy do\") == False, \"Test Case 8 Failed\"\n",
    "    \n",
    "    print(\"All test cases passed.\")\n",
    "\n",
    "# This will test your function \n",
    "test_pangram(pangram)"
   ]
  },
  {
   "cell_type": "markdown",
   "metadata": {},
   "source": [
    "## 11. Write a function that receives a string of comma separated words and returns a string of comma separated words sorted alphabetically.\n",
    "\n",
    "`NOTE: You may use sorted but not split and definitely no join! 🤪`"
   ]
  },
  {
   "cell_type": "code",
   "execution_count": 88,
   "metadata": {},
   "outputs": [],
   "source": [
    "def sort_alpha(string):\n",
    "    words = []\n",
    "    current_word = ''\n",
    "    \n",
    "    for char in string:\n",
    "        if char == ',':  # If a comma is encountered, the current word is finished\n",
    "            words.append(current_word)\n",
    "            current_word = ''  # Reset for the next word\n",
    "        else:\n",
    "            current_word += char  # Otherwise, add the character to the current word\n",
    "    \n",
    "    # Add the last word (since the last word won't be followed by a comma)\n",
    "    if current_word:\n",
    "        words.append(current_word)\n",
    "  \n",
    "    sorted_words = sorted(words)\n",
    "    \n",
    "    # Build the result string without using join\n",
    "    result = ''\n",
    "    for word in sorted_words:\n",
    "        result += word + ','  # Add each word followed by a comma\n",
    "    \n",
    "    # Remove the last comma (since we don't want a trailing comma)\n",
    "    if result:\n",
    "        result = result[:-1]\n",
    "    \n",
    "    return result"
   ]
  },
  {
   "cell_type": "code",
   "execution_count": 94,
   "metadata": {},
   "outputs": [
    {
     "name": "stdout",
     "output_type": "stream",
     "text": [
      "All test cases passed.\n"
     ]
    }
   ],
   "source": [
    "def sort_alpha(string):\n",
    "    words = []\n",
    "    current_word = ''\n",
    "    \n",
    "    # Iterate through each character in the string\n",
    "    for char in string:\n",
    "        if char == ',':  # If a comma is encountered, the current word is finished\n",
    "            if current_word:  # Only add non-empty words\n",
    "                words.append(current_word)\n",
    "            current_word = ''  # Reset for the next word\n",
    "        else:\n",
    "            current_word += char  # Otherwise, add the character to the current word\n",
    "    \n",
    "    # Add the last word (since the last word won't be followed by a comma)\n",
    "    if current_word:\n",
    "        words.append(current_word)\n",
    "  \n",
    "    sorted_words = sorted(words)\n",
    "    \n",
    "    # Build the result string without using join\n",
    "    result = ''\n",
    "    for word in sorted_words:\n",
    "        result += word + ','  # Add each word followed by a comma\n",
    "    \n",
    "    # Remove the last comma (since we don't want a trailing comma)\n",
    "    if result:\n",
    "        result = result[:-1]\n",
    "    \n",
    "    return result\n",
    "\n",
    "# This will test your function \n",
    "test_alpha(sort_alpha)"
   ]
  },
  {
   "cell_type": "markdown",
   "metadata": {},
   "source": [
    "## 12. Write a function to check if a given password is strong (at least 8 characters, at least one lower case, at least one upper case, at least one number and at least one special character). It should output True if strong and False if not."
   ]
  },
  {
   "cell_type": "code",
   "execution_count": 102,
   "metadata": {},
   "outputs": [],
   "source": [
    "import re\n",
    "def check_pass(password):\n",
    "    # Check if password length is at least 8 characters\n",
    "    if len(password) < 8:\n",
    "        return False\n",
    "    \n",
    "    # Check if password contains at least one lowercase letter\n",
    "    if not re.search(r'[a-z]', password):\n",
    "        return False\n",
    "    \n",
    "    # Check if password contains at least one uppercase letter\n",
    "    if not re.search(r'[A-Z]', password):\n",
    "        return False\n",
    "    \n",
    "    # Check if password contains at least one number\n",
    "    if not re.search(r'[0-9]', password):\n",
    "        return False\n",
    "    \n",
    "    # Check if password contains at least one special character\n",
    "    if not re.search(r'[^a-zA-Z0-9]', password):\n",
    "        return False\n",
    "    \n",
    "    # If all conditions are met, return True\n",
    "    return True"
   ]
  },
  {
   "cell_type": "code",
   "execution_count": 104,
   "metadata": {},
   "outputs": [
    {
     "name": "stdout",
     "output_type": "stream",
     "text": [
      "All test cases passed.\n"
     ]
    }
   ],
   "source": [
    "def test_pass(check_pass):\n",
    "    # Test case 1: Valid password with all conditions met\n",
    "    assert check_pass(\"Password123!\") == True, \"Test Case 1 Failed\"\n",
    "    \n",
    "    # Test case 2: Password shorter than 8 characters\n",
    "    assert check_pass(\"Pass1!\") == False, \"Test Case 2 Failed\"\n",
    "    \n",
    "    # Test case 3: Missing lowercase letter\n",
    "    assert check_pass(\"PASSWORD123!\") == False, \"Test Case 3 Failed\"\n",
    "    \n",
    "    # Test case 4: Missing uppercase letter\n",
    "    assert check_pass(\"password123!\") == False, \"Test Case 4 Failed\"\n",
    "    \n",
    "    # Test case 5: Missing a number\n",
    "    assert check_pass(\"Password!@\") == False, \"Test Case 5 Failed\"\n",
    "    \n",
    "    # Test case 6: Missing special character\n",
    "    assert check_pass(\"Password123\") == False, \"Test Case 6 Failed\"\n",
    "    \n",
    "    # Test case 7: Valid password with all conditions met\n",
    "    assert check_pass(\"P@ssw0rd123\") == True, \"Test Case 7 Failed\"\n",
    "    \n",
    "    # Test case 8: Edge case with exactly 8 characters, valid\n",
    "    assert check_pass(\"Pass1@23\") == True, \"Test Case 8 Failed\"\n",
    "    \n",
    "    # Test case 9: Password with only special characters (invalid)\n",
    "    assert check_pass(\"!@#$%^&*\") == False, \"Test Case 9 Failed\"\n",
    "    \n",
    "    print(\"All test cases passed.\")\n",
    "\n",
    "# This will test your function \n",
    "test_pass(check_pass)"
   ]
  },
  {
   "cell_type": "code",
   "execution_count": null,
   "metadata": {},
   "outputs": [],
   "source": []
  }
 ],
 "metadata": {
  "kernelspec": {
   "display_name": "Python 3 (ipykernel)",
   "language": "python",
   "name": "python3"
  },
  "language_info": {
   "codemirror_mode": {
    "name": "ipython",
    "version": 3
   },
   "file_extension": ".py",
   "mimetype": "text/x-python",
   "name": "python",
   "nbconvert_exporter": "python",
   "pygments_lexer": "ipython3",
   "version": "3.12.7"
  },
  "vscode": {
   "interpreter": {
    "hash": "aee8b7b246df8f9039afb4144a1f6fd8d2ca17a180786b69acc140d282b71a49"
   }
  }
 },
 "nbformat": 4,
 "nbformat_minor": 4
}
