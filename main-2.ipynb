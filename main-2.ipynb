{
 "cells": [
  {
   "cell_type": "markdown",
   "metadata": {},
   "source": [
    "# Functions"
   ]
  },
  {
   "cell_type": "markdown",
   "metadata": {},
   "source": [
    "On this lab we will put to practice some of the concepts we have learned on this past few days.\n",
    "\n",
    "`NOTE: On this lab you should try to write all the functions yourself using only the most basic of python syntax and without functions such as len, count, sum, max, min, in, etc. Give it a try. 🧑🏻‍💻👩🏻‍💻`\n",
    "\n",
    "The cell after each exercise contains a few tests to check if your function works as expected."
   ]
  },
  {
   "cell_type": "code",
   "execution_count": 2,
   "metadata": {},
   "outputs": [
    {
     "ename": "ModuleNotFoundError",
     "evalue": "No module named 'mod'",
     "output_type": "error",
     "traceback": [
      "\u001b[0;31m---------------------------------------------------------------------------\u001b[0m",
      "\u001b[0;31mModuleNotFoundError\u001b[0m                       Traceback (most recent call last)",
      "Cell \u001b[0;32mIn[2], line 1\u001b[0m\n\u001b[0;32m----> 1\u001b[0m \u001b[38;5;28;01mfrom\u001b[39;00m \u001b[38;5;21;01mmod\u001b[39;00m\u001b[38;5;21;01m.\u001b[39;00m\u001b[38;5;21;01mtesting\u001b[39;00m \u001b[38;5;28;01mimport\u001b[39;00m \u001b[38;5;241m*\u001b[39m\n\u001b[1;32m      2\u001b[0m \u001b[38;5;28;01mimport\u001b[39;00m \u001b[38;5;21;01munittest\u001b[39;00m\n",
      "\u001b[0;31mModuleNotFoundError\u001b[0m: No module named 'mod'"
     ]
    }
   ],
   "source": [
    "from mod.testing import *\n",
    "import unittest"
   ]
  },
  {
   "cell_type": "markdown",
   "metadata": {},
   "source": [
    "## 1. Write a function that returns the greater of two numbers"
   ]
  },
  {
   "cell_type": "code",
   "execution_count": 4,
   "metadata": {},
   "outputs": [],
   "source": [
    "def greater(a,b):\n",
    "    if a > b:\n",
    "        return a\n",
    "    else:\n",
    "        return b"
   ]
  },
  {
   "cell_type": "code",
   "execution_count": null,
   "metadata": {},
   "outputs": [],
   "source": [
    "# This will test your function \n",
    "test_greater(greater)"
   ]
  },
  {
   "cell_type": "code",
   "execution_count": 6,
   "metadata": {},
   "outputs": [
    {
     "name": "stdout",
     "output_type": "stream",
     "text": [
      "10\n",
      "7\n",
      "0\n"
     ]
    }
   ],
   "source": [
    "print(greater(10, 5))  \n",
    "print(greater(3, 7))   \n",
    "print(greater(0, 0)) "
   ]
  },
  {
   "cell_type": "markdown",
   "metadata": {},
   "source": [
    "## 2. Now write a function that returns the largest element on a list"
   ]
  },
  {
   "cell_type": "code",
   "execution_count": 72,
   "metadata": {},
   "outputs": [],
   "source": [
    "def largest_element(lst):\n",
    "    largest = lst[0]\n",
    "    \n",
    "    for num in lst:\n",
    "        if num > largest:\n",
    "            largest = num\n",
    "            \n",
    "    return largest"
   ]
  },
  {
   "cell_type": "code",
   "execution_count": 74,
   "metadata": {},
   "outputs": [
    {
     "name": "stdout",
     "output_type": "stream",
     "text": [
      "5\n",
      "-2\n"
     ]
    }
   ],
   "source": [
    "# This will test your function \n",
    "print(largest_element([1, 2, 3, 4, 5]))  \n",
    "print(largest_element([-10, -5, -2, -8]))    "
   ]
  },
  {
   "cell_type": "markdown",
   "metadata": {},
   "source": [
    "## 3. Write a function that sums all the elements on a list"
   ]
  },
  {
   "cell_type": "code",
   "execution_count": 68,
   "metadata": {},
   "outputs": [],
   "source": [
    "def sum_all(lst):\n",
    "    total = 0  # Initialize a variable to store the sum\n",
    "    for num in lst:  # Loop through each element in the list\n",
    "        total += num  # Add the current element to total\n",
    "    return total  # Return the sum"
   ]
  },
  {
   "cell_type": "code",
   "execution_count": 70,
   "metadata": {
    "scrolled": true
   },
   "outputs": [
    {
     "name": "stdout",
     "output_type": "stream",
     "text": [
      "15\n",
      "0\n"
     ]
    }
   ],
   "source": [
    "# This will test your function \n",
    "print(sum_all([1, 2, 3, 4, 5]))    \n",
    "print(sum_all([0, 0, 0]))  "
   ]
  },
  {
   "cell_type": "markdown",
   "metadata": {},
   "source": [
    "## 4. Write another function that multiplies all the elements on a list"
   ]
  },
  {
   "cell_type": "code",
   "execution_count": 64,
   "metadata": {},
   "outputs": [],
   "source": [
    "def mult_all(lst):\n",
    "    result = 1  # Initialize result as 1 (since 1 is the multiplicative identity)\n",
    "    for num in lst:  # Loop through each element in the list\n",
    "        result *= num  # Multiply the current element with result\n",
    "    return result  # Return the product"
   ]
  },
  {
   "cell_type": "code",
   "execution_count": 66,
   "metadata": {
    "scrolled": true
   },
   "outputs": [
    {
     "name": "stdout",
     "output_type": "stream",
     "text": [
      "120\n"
     ]
    }
   ],
   "source": [
    "# This will test your function \n",
    "print(mult_all([1, 2, 3, 4, 5]))"
   ]
  },
  {
   "cell_type": "markdown",
   "metadata": {},
   "source": [
    "## 5. Now combine those two ideas and write a function that receives a list and either \"+\" or \"*\" and outputs acordingly"
   ]
  },
  {
   "cell_type": "code",
   "execution_count": 60,
   "metadata": {},
   "outputs": [],
   "source": [
    "def oper_all(arr, oper = \"*\"):\n",
    "    if oper == \"+\":\n",
    "        total = 0\n",
    "        for num in arr:\n",
    "            total += num\n",
    "        return total\n",
    "    elif oper == \"*\":\n",
    "        result = 1\n",
    "        for num in arr:\n",
    "            result *= num\n",
    "        return result\n",
    "    else:\n",
    "        return \"Invalid operator\"  # In case of an unsupported operator"
   ]
  },
  {
   "cell_type": "code",
   "execution_count": 62,
   "metadata": {},
   "outputs": [
    {
     "name": "stdout",
     "output_type": "stream",
     "text": [
      "15\n",
      "120\n"
     ]
    }
   ],
   "source": [
    "# This will test your function \n",
    "print(oper_all([1, 2, 3, 4, 5], \"+\"))  \n",
    "print(oper_all([1, 2, 3, 4, 5], \"*\"))  "
   ]
  },
  {
   "cell_type": "markdown",
   "metadata": {},
   "source": [
    "## 6. Write a function that returns the factorial of a number."
   ]
  },
  {
   "cell_type": "code",
   "execution_count": 54,
   "metadata": {},
   "outputs": [],
   "source": [
    "def factorial(n):\n",
    "    result = 1  # Start with 1 since multiplying by 1 doesn't change the result\n",
    "    for i in range(1, n + 1):  # Loop from 1 to n\n",
    "        result *= i  # Multiply the result by the current number\n",
    "    return result  # Return the factorial"
   ]
  },
  {
   "cell_type": "code",
   "execution_count": 56,
   "metadata": {},
   "outputs": [],
   "source": [
    "#factorial formula\n",
    "#n! = n * ( n - 1 ) *...*1\n",
    "\n",
    "# This code defines a function called \"factorial\" which takes an input \"n\". The function uses a for loop to iterate through the range of numbers \n",
    "# from 1 to n+1. For each number in that range, it multiplies the current value of x by the number in the range. At the end of the loop, \n",
    "# the function returns the final value of x, which will be the factorial of the input number \"n\".\n",
    "\n",
    "# The Factorial of a positive integer n is the product of all positive integers less than or equal to n. \n",
    "# For example, the factorial of 6 (written \"6!\") is 6 * 5 * 4 * 3 * 2 * 1 = 720.\n",
    "\n",
    "# So this function takes an input of any positive integer, and returns the factorial of that number."
   ]
  },
  {
   "cell_type": "code",
   "execution_count": 58,
   "metadata": {},
   "outputs": [
    {
     "name": "stdout",
     "output_type": "stream",
     "text": [
      "120\n",
      "1\n"
     ]
    }
   ],
   "source": [
    "# This will test your function \n",
    "print(factorial(5))   \n",
    "print(factorial(0))  "
   ]
  },
  {
   "cell_type": "markdown",
   "metadata": {},
   "source": [
    "## 7. Write a function that takes a list and returns a list of the unique values.\n",
    "\n",
    "`NOTE: You cannot use set. 🤔`"
   ]
  },
  {
   "cell_type": "code",
   "execution_count": 48,
   "metadata": {},
   "outputs": [],
   "source": [
    "def unique(lst_un):\n",
    "    unique_values = []  # Initialize an empty list to store unique values\n",
    "    for item in lst_un:  # Loop through each element in the input list\n",
    "        if item not in unique_values:  # Check if the item is not already in the unique list\n",
    "            unique_values.append(item)  # Add the item to the unique list\n",
    "    return unique_values  # Return the list of unique values"
   ]
  },
  {
   "cell_type": "code",
   "execution_count": 50,
   "metadata": {},
   "outputs": [
    {
     "name": "stdout",
     "output_type": "stream",
     "text": [
      "[1, 2, 3, 4, 5]\n"
     ]
    }
   ],
   "source": [
    "# This will test your function \n",
    "print(unique([1, 2, 3, 4, 5]))  "
   ]
  },
  {
   "cell_type": "markdown",
   "metadata": {},
   "source": [
    "## 8. Write a function that returns the mode of a list, i.e.: the element that appears the most times.\n",
    "`NOTE: You should not use count... 🧐`"
   ]
  },
  {
   "cell_type": "code",
   "execution_count": 44,
   "metadata": {},
   "outputs": [],
   "source": [
    "def mode_counter(arr):\n",
    "    freq_dict = {}  # Initialize an empty dictionary to store frequencies\n",
    "    for num in arr: \n",
    "        if num in freq_dict:  \n",
    "            freq_dict[num] += 1  \n",
    "        else:\n",
    "            freq_dict[num] = 1 \n",
    "            \n",
    "    # Find the element with the highest frequency\n",
    "    mode = None\n",
    "    max_freq = 0\n",
    "    for num, freq in freq_dict.items():\n",
    "        if freq > max_freq:\n",
    "            mode = num\n",
    "            max_freq = freq\n",
    "    return mode"
   ]
  },
  {
   "cell_type": "code",
   "execution_count": 46,
   "metadata": {},
   "outputs": [
    {
     "name": "stdout",
     "output_type": "stream",
     "text": [
      "2\n"
     ]
    }
   ],
   "source": [
    "# This will test your function \n",
    "print(mode_counter([1, 2, 3, 4, 5, 2]))  "
   ]
  },
  {
   "cell_type": "markdown",
   "metadata": {},
   "source": [
    "## 9. Write a function that calculates the standard deviation of a list.\n",
    "`NOTE: Do not use any libraries or already built functions. 😉`"
   ]
  },
  {
   "cell_type": "code",
   "execution_count": 88,
   "metadata": {},
   "outputs": [],
   "source": [
    "def st_dev(list_sd):\n",
    "    n = len(list_sd)  # Get the number of elements in the list\n",
    "    if n == 0:  # If the list is empty, return 0 as there's no deviation\n",
    "        return 0\n",
    "    \n",
    "    # Step 1: Calculate the mean\n",
    "    mean = 0\n",
    "    for num in list_sd:\n",
    "        mean += num\n",
    "    mean = mean / n\n",
    "    \n",
    "    # Step 2: Calculate the variance\n",
    "    variance = 0\n",
    "    for num in list_sd:\n",
    "        variance += (num - mean) ** 2  # Sum of squared differences from the mean\n",
    "    variance = variance / n  # Average of the squared differences\n",
    "    \n",
    "    # Step 3: Calculate the standard deviation (square root of the variance)\n",
    "    stdev = variance ** 0.5  # Directly compute the square root using ** operator\n",
    "    \n",
    "    return stdev"
   ]
  },
  {
   "cell_type": "code",
   "execution_count": 92,
   "metadata": {},
   "outputs": [
    {
     "name": "stdout",
     "output_type": "stream",
     "text": [
      "1.4142135623730951\n",
      "0.0\n"
     ]
    }
   ],
   "source": [
    "# This will test your function \n",
    "print(st_dev([1, 2, 3, 4, 5]))  \n",
    "print(st_dev([1,1,1])) "
   ]
  },
  {
   "cell_type": "markdown",
   "metadata": {},
   "source": [
    "## 10. Write a function to check if a string is a pangram, i.e.: if it contains all the letters of the alphabet at least once. Mind that the strings may contain characters that are not letters."
   ]
  },
  {
   "cell_type": "code",
   "execution_count": 96,
   "metadata": {},
   "outputs": [],
   "source": [
    "def pangram(string):\n",
    "    # Convert to lowercase and filter out non-alphabet characters\n",
    "    string = ''.join(c.lower() for c in string if c.isalpha())\n",
    "    \n",
    "    # Check if all letters of the alphabet are in the string\n",
    "    return len(set(string)) == 26"
   ]
  },
  {
   "cell_type": "code",
   "execution_count": 100,
   "metadata": {},
   "outputs": [
    {
     "name": "stdout",
     "output_type": "stream",
     "text": [
      "False\n",
      "False\n",
      "True\n"
     ]
    }
   ],
   "source": [
    "# This will test your function \n",
    "print(pangram(\"AI is the future of Saudi Arabia\")) \n",
    "print(pangram(\"coffe is healthy\"))\n",
    "print(pangram(\"Pack my box with five dozen liquor jugs\"))  "
   ]
  },
  {
   "cell_type": "markdown",
   "metadata": {},
   "source": [
    "## 11. Write a function that receives a string of comma separated words and returns a string of comma separated words sorted alphabetically.\n",
    "\n",
    "`NOTE: You may use sorted but not split and definitely no join! 🤪`"
   ]
  },
  {
   "cell_type": "code",
   "execution_count": 118,
   "metadata": {},
   "outputs": [],
   "source": [
    "def sort_words(string):\n",
    "    # Step 1: Manually extract the words (without using split)\n",
    "    words = []\n",
    "    word = \"\"\n",
    "    for char in string:\n",
    "        if char == ',':\n",
    "            if word:\n",
    "                words.append(word)\n",
    "                word = \"\"\n",
    "        else:\n",
    "            word += char\n",
    "    if word:  # Append the last word if there is any\n",
    "        words.append(word)\n",
    "    \n",
    "    # Step 2: Sort the words alphabetically\n",
    "    words_sorted = sorted(words)\n",
    "    \n",
    "    # Step 3: Build the output string (without using join)\n",
    "    result = \"\"\n",
    "    for i in range(len(words_sorted)):\n",
    "        result += words_sorted[i]\n",
    "        if i != len(words_sorted) - 1:  # Add commas between words, but not after the last word\n",
    "            result += \",\"\n",
    "    \n",
    "    return result"
   ]
  },
  {
   "cell_type": "code",
   "execution_count": 124,
   "metadata": {},
   "outputs": [
    {
     "name": "stdout",
     "output_type": "stream",
     "text": [
      "bird,cat,dog,fish\n",
      "apple,blueberry,cherry\n"
     ]
    }
   ],
   "source": [
    "# Test the function \n",
    "print(sort_words(\"cat,dog,fish,bird\"))  \n",
    "print(sort_words(\"cherry,blueberry,apple\"))"
   ]
  },
  {
   "cell_type": "markdown",
   "metadata": {},
   "source": [
    "## 12. Write a function to check if a given password is strong (at least 8 characters, at least one lower case, at least one upper case, at least one number and at least one special character). It should output True if strong and False if not."
   ]
  },
  {
   "cell_type": "code",
   "execution_count": null,
   "metadata": {},
   "outputs": [],
   "source": [
    "def check_pass(password):\n",
    "    # Check if the password is at least 8 characters long\n",
    "    if len(password) < 8:\n",
    "        return False\n",
    "    \n",
    "    # Initialize flags for each condition\n",
    "    has_lower = has_upper = has_digit = has_special = False\n",
    "    \n",
    "    # Loop through each character in the password\n",
    "    for char in password:\n",
    "        if char.islower():\n",
    "            has_lower = True\n",
    "        elif char.isupper():\n",
    "            has_upper = True\n",
    "        elif char.isdigit():\n",
    "            has_digit = True\n",
    "        elif char in \"!@#$%^&*()-_=+[]{}|;:'\\\",.<>?/\":\n",
    "            has_special = True\n",
    "    \n",
    "    # Check if all conditions are satisfied\n",
    "    if has_lower and has_upper and has_digit and has_special:\n",
    "        return True\n",
    "    return False\n",
    "\n",
    "# Test cases\n",
    "print(check_pass(\"Password1!\"))  # Expected output: True\n",
    "print(check_pass(\"password\"))    # Expected output: False (no uppercase, number, or special char)\n",
    "print(check_pass(\"P@ssw\"))       # Expected output: False (less than 8 characters)\n",
    "print(check_pass(\"Str0ngP@ss\"))  # Expected output: True"
   ]
  },
  {
   "cell_type": "code",
   "execution_count": null,
   "metadata": {},
   "outputs": [],
   "source": [
    "# This will test your function \n",
    "test_pass(check_pass)"
   ]
  }
 ],
 "metadata": {
  "kernelspec": {
   "display_name": "Python [conda env:base] *",
   "language": "python",
   "name": "conda-base-py"
  },
  "language_info": {
   "codemirror_mode": {
    "name": "ipython",
    "version": 3
   },
   "file_extension": ".py",
   "mimetype": "text/x-python",
   "name": "python",
   "nbconvert_exporter": "python",
   "pygments_lexer": "ipython3",
   "version": "3.12.7"
  },
  "vscode": {
   "interpreter": {
    "hash": "aee8b7b246df8f9039afb4144a1f6fd8d2ca17a180786b69acc140d282b71a49"
   }
  }
 },
 "nbformat": 4,
 "nbformat_minor": 4
}
