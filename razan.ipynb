{
 "cells": [
  {
   "cell_type": "markdown",
   "metadata": {},
   "source": [
    "# Functions"
   ]
  },
  {
   "cell_type": "markdown",
   "metadata": {},
   "source": [
    "On this lab we will put to practice some of the concepts we have learned on this past few days.\n",
    "\n",
    "`NOTE: On this lab you should try to write all the functions yourself using only the most basic of python syntax and without functions such as len, count, sum, max, min, in, etc. Give it a try. 🧑🏻‍💻👩🏻‍💻`\n",
    "\n",
    "The cell after each exercise contains a few tests to check if your function works as expected."
   ]
  },
  {
   "cell_type": "code",
   "execution_count": null,
   "metadata": {},
   "outputs": [],
   "source": [
    "from mod.testing import *\n",
    "import unittest"
   ]
  },
  {
   "cell_type": "markdown",
   "metadata": {},
   "source": [
    "## 1. Write a function that returns the greater of two numbers"
   ]
  },
  {
   "cell_type": "code",
   "execution_count": 11,
   "metadata": {},
   "outputs": [],
   "source": [
    "def greater(a,b):\n",
    "    if a>b:\n",
    "        return a\n",
    "    else: return b\n"
   ]
  },
  {
   "cell_type": "code",
   "execution_count": 12,
   "metadata": {},
   "outputs": [
    {
     "name": "stderr",
     "output_type": "stream",
     "text": [
      "....................................................................................................\n",
      "----------------------------------------------------------------------\n",
      "Ran 100 tests in 0.191s\n",
      "\n",
      "OK\n"
     ]
    }
   ],
   "source": [
    "# This will test your function \n",
    "test_greater(greater)"
   ]
  },
  {
   "cell_type": "code",
   "execution_count": null,
   "metadata": {},
   "outputs": [],
   "source": [
    "#your code here"
   ]
  },
  {
   "cell_type": "markdown",
   "metadata": {},
   "source": [
    "## 2. Now write a function that returns the largest element on a list"
   ]
  },
  {
   "cell_type": "code",
   "execution_count": 15,
   "metadata": {},
   "outputs": [],
   "source": [
    "#your code here\n",
    "def greatest(x):\n",
    "    c=x[0]\n",
    "    for i in x:\n",
    "        if i>c:\n",
    "            c=i\n",
    "    return c\n"
   ]
  },
  {
   "cell_type": "code",
   "execution_count": 16,
   "metadata": {},
   "outputs": [
    {
     "name": "stderr",
     "output_type": "stream",
     "text": [
      "................."
     ]
    },
    {
     "name": "stderr",
     "output_type": "stream",
     "text": [
      "...................................................................................\n",
      "----------------------------------------------------------------------\n",
      "Ran 100 tests in 0.172s\n",
      "\n",
      "OK\n"
     ]
    }
   ],
   "source": [
    "# This will test your function \n",
    "test_greatest(greatest)"
   ]
  },
  {
   "cell_type": "markdown",
   "metadata": {},
   "source": [
    "## 3. Write a function that sums all the elements on a list"
   ]
  },
  {
   "cell_type": "code",
   "execution_count": null,
   "metadata": {},
   "outputs": [
    {
     "data": {
      "text/plain": [
       "15"
      ]
     },
     "execution_count": 18,
     "metadata": {},
     "output_type": "execute_result"
    }
   ],
   "source": [
    "def sum_all(lst):\n",
    "#your code here\n",
    "    c=0\n",
    "    for i in lst:\n",
    "        c+=i\n",
    "    return c\n"
   ]
  },
  {
   "cell_type": "code",
   "execution_count": 19,
   "metadata": {
    "scrolled": true
   },
   "outputs": [
    {
     "name": "stderr",
     "output_type": "stream",
     "text": [
      "....................................................................................................\n",
      "----------------------------------------------------------------------\n",
      "Ran 100 tests in 0.206s\n",
      "\n",
      "OK\n"
     ]
    }
   ],
   "source": [
    "# This will test your function \n",
    "test_sum(sum_all)"
   ]
  },
  {
   "cell_type": "markdown",
   "metadata": {},
   "source": [
    "## 4. Write another function that multiplies all the elements on a list"
   ]
  },
  {
   "cell_type": "code",
   "execution_count": 20,
   "metadata": {},
   "outputs": [],
   "source": [
    "def mult_all(lst):\n",
    "#your code here\n",
    "    c=1\n",
    "    for i in lst:\n",
    "        c*=i\n",
    "    return c"
   ]
  },
  {
   "cell_type": "code",
   "execution_count": 21,
   "metadata": {
    "scrolled": true
   },
   "outputs": [
    {
     "name": "stderr",
     "output_type": "stream",
     "text": [
      "....................................................................................................\n",
      "----------------------------------------------------------------------\n",
      "Ran 100 tests in 0.294s\n",
      "\n",
      "OK\n"
     ]
    }
   ],
   "source": [
    "# This will test your function \n",
    "test_mult(mult_all)"
   ]
  },
  {
   "cell_type": "markdown",
   "metadata": {},
   "source": [
    "## 5. Now combine those two ideas and write a function that receives a list and either \"+\" or \"*\" and outputs acordingly"
   ]
  },
  {
   "cell_type": "code",
   "execution_count": 22,
   "metadata": {},
   "outputs": [],
   "source": [
    "def oper_all(arr, oper = \"*\"):\n",
    "#your code here\n",
    "    if oper == \"+\":\n",
    "        result = 0\n",
    "        for num in arr:\n",
    "            result += num\n",
    "    elif oper == \"*\":\n",
    "        result = 1\n",
    "        for num in arr:\n",
    "            result *= num\n",
    "   \n",
    "    return result"
   ]
  },
  {
   "cell_type": "code",
   "execution_count": 23,
   "metadata": {},
   "outputs": [
    {
     "name": "stderr",
     "output_type": "stream",
     "text": [
      "....................................................................................................\n",
      "----------------------------------------------------------------------\n",
      "Ran 100 tests in 0.263s\n",
      "\n",
      "OK\n"
     ]
    }
   ],
   "source": [
    "# This will test your function \n",
    "test_operations(oper_all)"
   ]
  },
  {
   "cell_type": "markdown",
   "metadata": {},
   "source": [
    "## 6. Write a function that returns the factorial of a number."
   ]
  },
  {
   "cell_type": "code",
   "execution_count": 24,
   "metadata": {},
   "outputs": [],
   "source": [
    "def factorial(n):\n",
    "    result = 1\n",
    "    for i in range(1, n + 1):\n",
    "        result *= i\n",
    "    return result\n"
   ]
  },
  {
   "cell_type": "code",
   "execution_count": null,
   "metadata": {},
   "outputs": [],
   "source": [
    "#factorial formula\n",
    "#n! = n * ( n - 1 ) *...*1\n",
    "\n",
    "# This code defines a function called \"factorial\" which takes an input \"n\". The function uses a for loop to iterate through the range of numbers \n",
    "# from 1 to n+1. For each number in that range, it multiplies the current value of x by the number in the range. At the end of the loop, \n",
    "# the function returns the final value of x, which will be the factorial of the input number \"n\".\n",
    "\n",
    "# The Factorial of a positive integer n is the product of all positive integers less than or equal to n. \n",
    "# For example, the factorial of 6 (written \"6!\") is 6 * 5 * 4 * 3 * 2 * 1 = 720.\n",
    "\n",
    "# So this function takes an input of any positive integer, and returns the factorial of that number."
   ]
  },
  {
   "cell_type": "code",
   "execution_count": 25,
   "metadata": {},
   "outputs": [
    {
     "name": "stderr",
     "output_type": "stream",
     "text": [
      "....................................................................................................\n",
      "----------------------------------------------------------------------\n",
      "Ran 100 tests in 0.165s\n",
      "\n",
      "OK\n"
     ]
    }
   ],
   "source": [
    "# This will test your function \n",
    "test_factorial(factorial)"
   ]
  },
  {
   "cell_type": "markdown",
   "metadata": {},
   "source": [
    "## 7. Write a function that takes a list and returns a list of the unique values.\n",
    "\n",
    "`NOTE: You cannot use set. 🤔`"
   ]
  },
  {
   "cell_type": "code",
   "execution_count": 26,
   "metadata": {},
   "outputs": [],
   "source": [
    "def unique(lst_un):\n",
    "    x=[]\n",
    "    for i in lst_un:\n",
    "        if i not in x:\n",
    "            x.append(i)\n",
    "    return x\n",
    "#your code here"
   ]
  },
  {
   "cell_type": "code",
   "execution_count": 27,
   "metadata": {},
   "outputs": [
    {
     "name": "stderr",
     "output_type": "stream",
     "text": [
      "....................................................................................................\n",
      "----------------------------------------------------------------------\n",
      "Ran 100 tests in 0.397s\n",
      "\n",
      "OK\n"
     ]
    }
   ],
   "source": [
    "# This will test your function \n",
    "test_unique(unique)"
   ]
  },
  {
   "cell_type": "markdown",
   "metadata": {},
   "source": [
    "## 8. Write a function that returns the mode of a list, i.e.: the element that appears the most times.\n",
    "`NOTE: You should not use count... 🧐`"
   ]
  },
  {
   "cell_type": "code",
   "execution_count": 28,
   "metadata": {},
   "outputs": [],
   "source": [
    "def mode_counter(arr):\n",
    "    frequency = {}\n",
    "    \n",
    "    # Count the frequency of each element in the list\n",
    "    for item in arr:\n",
    "        if item in frequency:\n",
    "            frequency[item] += 1\n",
    "        else:\n",
    "            frequency[item] = 1\n",
    "    \n",
    "    # Find the item with the highest frequency\n",
    "    max_count = 0\n",
    "    mode_value = None\n",
    "    for item, count in frequency.items():\n",
    "        if count > max_count:\n",
    "            max_count = count\n",
    "            mode_value = item\n",
    "    \n",
    "    return mode_value\n",
    "\n",
    "#your code here"
   ]
  },
  {
   "cell_type": "code",
   "execution_count": 29,
   "metadata": {},
   "outputs": [
    {
     "name": "stderr",
     "output_type": "stream",
     "text": [
      "....................................................................................................\n",
      "----------------------------------------------------------------------\n",
      "Ran 100 tests in 0.348s\n",
      "\n",
      "OK\n"
     ]
    }
   ],
   "source": [
    "# This will test your function \n",
    "test_mode(mode_counter)"
   ]
  },
  {
   "cell_type": "markdown",
   "metadata": {},
   "source": [
    "## 9. Write a function that calculates the standard deviation of a list.\n",
    "`NOTE: Do not use any libraries or already built functions. 😉`"
   ]
  },
  {
   "cell_type": "code",
   "execution_count": null,
   "metadata": {},
   "outputs": [],
   "source": [
    "def st_dev(list_sd):\n",
    "\n",
    "    mean = sum(list_sd) / len(list_sd)\n",
    "    \n",
    "    squared_diffs = [(x - mean) ** 2 for x in list_sd]\n",
    "    \n",
    "    variance = sum(squared_diffs) / len(list_sd)\n",
    "    \n",
    "    std_dev = variance ** 0.5\n",
    "    \n",
    "    return std_dev\n",
    "    \n"
   ]
  },
  {
   "cell_type": "code",
   "execution_count": 48,
   "metadata": {},
   "outputs": [
    {
     "name": "stderr",
     "output_type": "stream",
     "text": [
      "F...FFFF.F.F.FFF..F....FF....F..F.F.FF.FFFFF.F.F...FFFF.FFF.F.F..F.F..FF.FF.FF.F.F..F.F..FFFFFFFFFFF\n",
      "======================================================================\n",
      "FAIL: runTest (testing.test_stdev.<locals>.TestKnown)\n",
      "----------------------------------------------------------------------\n",
      "Traceback (most recent call last):\n",
      "  File \"c:\\Users\\razan\\Downloads\\سطح المكتب\\pr\\testing.py\", line 142, in runTest\n",
      "    self.assertAlmostEqual(fn(self.input), self.output, delta=5, msg=f\"Should be {self.output}\")\n",
      "AssertionError: 599.7214848369199 != 619.3896861696466 within 5 delta (19.668201332726653 difference) : Should be 619.3896861696466\n",
      "\n",
      "======================================================================\n",
      "FAIL: runTest (testing.test_stdev.<locals>.TestKnown)\n",
      "----------------------------------------------------------------------\n",
      "Traceback (most recent call last):\n",
      "  File \"c:\\Users\\razan\\Downloads\\سطح المكتب\\pr\\testing.py\", line 142, in runTest\n",
      "    self.assertAlmostEqual(fn(self.input), self.output, delta=5, msg=f\"Should be {self.output}\")\n",
      "AssertionError: 584.1447622035796 != 590.7454775044149 within 5 delta (6.600715300835304 difference) : Should be 590.7454775044149\n",
      "\n",
      "======================================================================\n",
      "FAIL: runTest (testing.test_stdev.<locals>.TestKnown)\n",
      "----------------------------------------------------------------------\n",
      "Traceback (most recent call last):\n",
      "  File \"c:\\Users\\razan\\Downloads\\سطح المكتب\\pr\\testing.py\", line 142, in runTest\n",
      "    self.assertAlmostEqual(fn(self.input), self.output, delta=5, msg=f\"Should be {self.output}\")\n",
      "AssertionError: 530.4870215189057 != 541.4260491208995 within 5 delta (10.939027601993757 difference) : Should be 541.4260491208995\n",
      "\n",
      "======================================================================\n",
      "FAIL: runTest (testing.test_stdev.<locals>.TestKnown)\n",
      "----------------------------------------------------------------------\n",
      "Traceback (most recent call last):\n",
      "  File \"c:\\Users\\razan\\Downloads\\سطح المكتب\\pr\\testing.py\", line 142, in runTest\n",
      "    self.assertAlmostEqual(fn(self.input), self.output, delta=5, msg=f\"Should be {self.output}\")\n",
      "AssertionError: 566.4046324073072 != 572.0406382108756 within 5 delta (5.636005803568423 difference) : Should be 572.0406382108756\n",
      "\n",
      "======================================================================\n",
      "FAIL: runTest (testing.test_stdev.<locals>.TestKnown)\n",
      "----------------------------------------------------------------------\n",
      "Traceback (most recent call last):\n",
      "  File \"c:\\Users\\razan\\Downloads\\سطح المكتب\\pr\\testing.py\", line 142, in runTest\n",
      "    self.assertAlmostEqual(fn(self.input), self.output, delta=5, msg=f\"Should be {self.output}\")\n",
      "AssertionError: 657.6643881950732 != 674.7494252254724 within 5 delta (17.08503703039912 difference) : Should be 674.7494252254724\n",
      "\n",
      "======================================================================\n",
      "FAIL: runTest (testing.test_stdev.<locals>.TestKnown)\n",
      "----------------------------------------------------------------------\n",
      "Traceback (most recent call last):\n",
      "  File \"c:\\Users\\razan\\Downloads\\سطح المكتب\\pr\\testing.py\", line 142, in runTest\n",
      "    self.assertAlmostEqual(fn(self.input), self.output, delta=5, msg=f\"Should be {self.output}\")\n",
      "AssertionError: 580.1114455483518 != 608.4260170158884 within 5 delta (28.314571467536666 difference) : Should be 608.4260170158884\n",
      "\n",
      "======================================================================\n",
      "FAIL: runTest (testing.test_stdev.<locals>.TestKnown)\n",
      "----------------------------------------------------------------------\n",
      "Traceback (most recent call last):\n",
      "  File \"c:\\Users\\razan\\Downloads\\سطح المكتب\\pr\\testing.py\", line 142, in runTest\n",
      "    self.assertAlmostEqual(fn(self.input), self.output, delta=5, msg=f\"Should be {self.output}\")\n",
      "AssertionError: 595.0407524952406 != 600.4258464439401 within 5 delta (5.385093948699591 difference) : Should be 600.4258464439401\n",
      "\n",
      "======================================================================\n",
      "FAIL: runTest (testing.test_stdev.<locals>.TestKnown)\n",
      "----------------------------------------------------------------------\n",
      "Traceback (most recent call last):\n",
      "  File \"c:\\Users\\razan\\Downloads\\سطح المكتب\\pr\\testing.py\", line 142, in runTest\n",
      "    self.assertAlmostEqual(fn(self.input), self.output, delta=5, msg=f\"Should be {self.output}\")\n",
      "AssertionError: 658.3981088385827 != 663.9543095283311 within 5 delta (5.55620068974838 difference) : Should be 663.9543095283311\n",
      "\n",
      "======================================================================\n",
      "FAIL: runTest (testing.test_stdev.<locals>.TestKnown)\n",
      "----------------------------------------------------------------------\n",
      "Traceback (most recent call last):\n",
      "  File \"c:\\Users\\razan\\Downloads\\سطح المكتب\\pr\\testing.py\", line 142, in runTest\n",
      "    self.assertAlmostEqual(fn(self.input), self.output, delta=5, msg=f\"Should be {self.output}\")\n",
      "AssertionError: 590.2165709039333 != 595.8647050584534 within 5 delta (5.648134154520108 difference) : Should be 595.8647050584534\n",
      "\n",
      "======================================================================\n",
      "FAIL: runTest (testing.test_stdev.<locals>.TestKnown)\n",
      "----------------------------------------------------------------------\n",
      "Traceback (most recent call last):\n",
      "  File \"c:\\Users\\razan\\Downloads\\سطح المكتب\\pr\\testing.py\", line 142, in runTest\n",
      "    self.assertAlmostEqual(fn(self.input), self.output, delta=5, msg=f\"Should be {self.output}\")\n",
      "AssertionError: 621.0615205071156 != 628.7768662737009 within 5 delta (7.715345766585301 difference) : Should be 628.7768662737009\n",
      "\n",
      "======================================================================\n",
      "FAIL: runTest (testing.test_stdev.<locals>.TestKnown)\n",
      "----------------------------------------------------------------------\n",
      "Traceback (most recent call last):\n",
      "  File \"c:\\Users\\razan\\Downloads\\سطح المكتب\\pr\\testing.py\", line 142, in runTest\n",
      "    self.assertAlmostEqual(fn(self.input), self.output, delta=5, msg=f\"Should be {self.output}\")\n",
      "AssertionError: 546.5067672807661 != 556.5352508599392 within 5 delta (10.028483579173098 difference) : Should be 556.5352508599392\n",
      "\n",
      "======================================================================\n",
      "FAIL: runTest (testing.test_stdev.<locals>.TestKnown)\n",
      "----------------------------------------------------------------------\n",
      "Traceback (most recent call last):\n",
      "  File \"c:\\Users\\razan\\Downloads\\سطح المكتب\\pr\\testing.py\", line 142, in runTest\n",
      "    self.assertAlmostEqual(fn(self.input), self.output, delta=5, msg=f\"Should be {self.output}\")\n",
      "AssertionError: 443.5468011302747 != 452.33075883098576 within 5 delta (8.783957700711085 difference) : Should be 452.33075883098576\n",
      "\n",
      "======================================================================\n",
      "FAIL: runTest (testing.test_stdev.<locals>.TestKnown)\n",
      "----------------------------------------------------------------------\n",
      "Traceback (most recent call last):\n",
      "  File \"c:\\Users\\razan\\Downloads\\سطح المكتب\\pr\\testing.py\", line 142, in runTest\n",
      "    self.assertAlmostEqual(fn(self.input), self.output, delta=5, msg=f\"Should be {self.output}\")\n",
      "AssertionError: 620.7395543918561 != 627.4504473102137 within 5 delta (6.710892918357558 difference) : Should be 627.4504473102137\n",
      "\n",
      "======================================================================\n",
      "FAIL: runTest (testing.test_stdev.<locals>.TestKnown)\n",
      "----------------------------------------------------------------------\n",
      "Traceback (most recent call last):\n",
      "  File \"c:\\Users\\razan\\Downloads\\سطح المكتب\\pr\\testing.py\", line 142, in runTest\n",
      "    self.assertAlmostEqual(fn(self.input), self.output, delta=5, msg=f\"Should be {self.output}\")\n",
      "AssertionError: 592.1676204113177 != 597.2506975090475 within 5 delta (5.08307709772987 difference) : Should be 597.2506975090475\n",
      "\n",
      "======================================================================\n",
      "FAIL: runTest (testing.test_stdev.<locals>.TestKnown)\n",
      "----------------------------------------------------------------------\n",
      "Traceback (most recent call last):\n",
      "  File \"c:\\Users\\razan\\Downloads\\سطح المكتب\\pr\\testing.py\", line 142, in runTest\n",
      "    self.assertAlmostEqual(fn(self.input), self.output, delta=5, msg=f\"Should be {self.output}\")\n",
      "AssertionError: 551.8474768947503 != 572.6791912091411 within 5 delta (20.83171431439075 difference) : Should be 572.6791912091411\n",
      "\n",
      "======================================================================\n",
      "FAIL: runTest (testing.test_stdev.<locals>.TestKnown)\n",
      "----------------------------------------------------------------------\n",
      "Traceback (most recent call last):\n",
      "  File \"c:\\Users\\razan\\Downloads\\سطح المكتب\\pr\\testing.py\", line 142, in runTest\n",
      "    self.assertAlmostEqual(fn(self.input), self.output, delta=5, msg=f\"Should be {self.output}\")\n",
      "AssertionError: 585.5989943828646 != 595.6099587721026 within 5 delta (10.010964389237984 difference) : Should be 595.6099587721026\n",
      "\n",
      "======================================================================\n",
      "FAIL: runTest (testing.test_stdev.<locals>.TestKnown)\n",
      "----------------------------------------------------------------------\n",
      "Traceback (most recent call last):\n",
      "  File \"c:\\Users\\razan\\Downloads\\سطح المكتب\\pr\\testing.py\", line 142, in runTest\n",
      "    self.assertAlmostEqual(fn(self.input), self.output, delta=5, msg=f\"Should be {self.output}\")\n",
      "AssertionError: 527.6275247644783 != 533.331771891023 within 5 delta (5.704247126544715 difference) : Should be 533.331771891023\n",
      "\n",
      "======================================================================\n",
      "FAIL: runTest (testing.test_stdev.<locals>.TestKnown)\n",
      "----------------------------------------------------------------------\n",
      "Traceback (most recent call last):\n",
      "  File \"c:\\Users\\razan\\Downloads\\سطح المكتب\\pr\\testing.py\", line 142, in runTest\n",
      "    self.assertAlmostEqual(fn(self.input), self.output, delta=5, msg=f\"Should be {self.output}\")\n",
      "AssertionError: 579.0427478403737 != 584.2830605153591 within 5 delta (5.2403126749853755 difference) : Should be 584.2830605153591\n",
      "\n",
      "======================================================================\n",
      "FAIL: runTest (testing.test_stdev.<locals>.TestKnown)\n",
      "----------------------------------------------------------------------\n",
      "Traceback (most recent call last):\n",
      "  File \"c:\\Users\\razan\\Downloads\\سطح المكتب\\pr\\testing.py\", line 142, in runTest\n",
      "    self.assertAlmostEqual(fn(self.input), self.output, delta=5, msg=f\"Should be {self.output}\")\n",
      "AssertionError: 385.85513797278895 != 403.0125477405929 within 5 delta (17.157409767803927 difference) : Should be 403.0125477405929\n",
      "\n",
      "======================================================================\n",
      "FAIL: runTest (testing.test_stdev.<locals>.TestKnown)\n",
      "----------------------------------------------------------------------\n",
      "Traceback (most recent call last):\n",
      "  File \"c:\\Users\\razan\\Downloads\\سطح المكتب\\pr\\testing.py\", line 142, in runTest\n",
      "    self.assertAlmostEqual(fn(self.input), self.output, delta=5, msg=f\"Should be {self.output}\")\n",
      "AssertionError: 564.1320253635813 != 572.3679650320744 within 5 delta (8.235939668493074 difference) : Should be 572.3679650320744\n",
      "\n",
      "======================================================================\n",
      "FAIL: runTest (testing.test_stdev.<locals>.TestKnown)\n",
      "----------------------------------------------------------------------\n",
      "Traceback (most recent call last):\n",
      "  File \"c:\\Users\\razan\\Downloads\\سطح المكتب\\pr\\testing.py\", line 142, in runTest\n",
      "    self.assertAlmostEqual(fn(self.input), self.output, delta=5, msg=f\"Should be {self.output}\")\n",
      "AssertionError: 596.142479645657 != 603.5482602402433 within 5 delta (7.405780594586304 difference) : Should be 603.5482602402433\n",
      "\n",
      "======================================================================\n",
      "FAIL: runTest (testing.test_stdev.<locals>.TestKnown)\n",
      "----------------------------------------------------------------------\n",
      "Traceback (most recent call last):\n",
      "  File \"c:\\Users\\razan\\Downloads\\سطح المكتب\\pr\\testing.py\", line 142, in runTest\n",
      "    self.assertAlmostEqual(fn(self.input), self.output, delta=5, msg=f\"Should be {self.output}\")\n",
      "AssertionError: 525.7635582499737 != 533.4393446810814 within 5 delta (7.675786431107667 difference) : Should be 533.4393446810814\n",
      "\n",
      "======================================================================\n",
      "FAIL: runTest (testing.test_stdev.<locals>.TestKnown)\n",
      "----------------------------------------------------------------------\n",
      "Traceback (most recent call last):\n",
      "  File \"c:\\Users\\razan\\Downloads\\سطح المكتب\\pr\\testing.py\", line 142, in runTest\n",
      "    self.assertAlmostEqual(fn(self.input), self.output, delta=5, msg=f\"Should be {self.output}\")\n",
      "AssertionError: 574.0608035853152 != 579.6615294184899 within 5 delta (5.6007258331746925 difference) : Should be 579.6615294184899\n",
      "\n",
      "======================================================================\n",
      "FAIL: runTest (testing.test_stdev.<locals>.TestKnown)\n",
      "----------------------------------------------------------------------\n",
      "Traceback (most recent call last):\n",
      "  File \"c:\\Users\\razan\\Downloads\\سطح المكتب\\pr\\testing.py\", line 142, in runTest\n",
      "    self.assertAlmostEqual(fn(self.input), self.output, delta=5, msg=f\"Should be {self.output}\")\n",
      "AssertionError: 548.113034773749 != 557.4831671083849 within 5 delta (9.370132334635969 difference) : Should be 557.4831671083849\n",
      "\n",
      "======================================================================\n",
      "FAIL: runTest (testing.test_stdev.<locals>.TestKnown)\n",
      "----------------------------------------------------------------------\n",
      "Traceback (most recent call last):\n",
      "  File \"c:\\Users\\razan\\Downloads\\سطح المكتب\\pr\\testing.py\", line 142, in runTest\n",
      "    self.assertAlmostEqual(fn(self.input), self.output, delta=5, msg=f\"Should be {self.output}\")\n",
      "AssertionError: 593.0688745837198 != 608.4758266184018 within 5 delta (15.406952034682035 difference) : Should be 608.4758266184018\n",
      "\n",
      "======================================================================\n",
      "FAIL: runTest (testing.test_stdev.<locals>.TestKnown)\n",
      "----------------------------------------------------------------------\n",
      "Traceback (most recent call last):\n",
      "  File \"c:\\Users\\razan\\Downloads\\سطح المكتب\\pr\\testing.py\", line 142, in runTest\n",
      "    self.assertAlmostEqual(fn(self.input), self.output, delta=5, msg=f\"Should be {self.output}\")\n",
      "AssertionError: 572.5969000622842 != 581.7590322226039 within 5 delta (9.16213216031963 difference) : Should be 581.7590322226039\n",
      "\n",
      "======================================================================\n",
      "FAIL: runTest (testing.test_stdev.<locals>.TestKnown)\n",
      "----------------------------------------------------------------------\n",
      "Traceback (most recent call last):\n",
      "  File \"c:\\Users\\razan\\Downloads\\سطح المكتب\\pr\\testing.py\", line 142, in runTest\n",
      "    self.assertAlmostEqual(fn(self.input), self.output, delta=5, msg=f\"Should be {self.output}\")\n",
      "AssertionError: 576.6608886696426 != 582.0756636958345 within 5 delta (5.414775026191819 difference) : Should be 582.0756636958345\n",
      "\n",
      "======================================================================\n",
      "FAIL: runTest (testing.test_stdev.<locals>.TestKnown)\n",
      "----------------------------------------------------------------------\n",
      "Traceback (most recent call last):\n",
      "  File \"c:\\Users\\razan\\Downloads\\سطح المكتب\\pr\\testing.py\", line 142, in runTest\n",
      "    self.assertAlmostEqual(fn(self.input), self.output, delta=5, msg=f\"Should be {self.output}\")\n",
      "AssertionError: 611.3238261477128 != 625.0631557023664 within 5 delta (13.739329554653636 difference) : Should be 625.0631557023664\n",
      "\n",
      "======================================================================\n",
      "FAIL: runTest (testing.test_stdev.<locals>.TestKnown)\n",
      "----------------------------------------------------------------------\n",
      "Traceback (most recent call last):\n",
      "  File \"c:\\Users\\razan\\Downloads\\سطح المكتب\\pr\\testing.py\", line 142, in runTest\n",
      "    self.assertAlmostEqual(fn(self.input), self.output, delta=5, msg=f\"Should be {self.output}\")\n",
      "AssertionError: 474.71561645084006 != 480.92131273404317 within 5 delta (6.20569628320311 difference) : Should be 480.92131273404317\n",
      "\n",
      "======================================================================\n",
      "FAIL: runTest (testing.test_stdev.<locals>.TestKnown)\n",
      "----------------------------------------------------------------------\n",
      "Traceback (most recent call last):\n",
      "  File \"c:\\Users\\razan\\Downloads\\سطح المكتب\\pr\\testing.py\", line 142, in runTest\n",
      "    self.assertAlmostEqual(fn(self.input), self.output, delta=5, msg=f\"Should be {self.output}\")\n",
      "AssertionError: 577.1614952347677 != 582.3847826522729 within 5 delta (5.223287417505162 difference) : Should be 582.3847826522729\n",
      "\n",
      "======================================================================\n",
      "FAIL: runTest (testing.test_stdev.<locals>.TestKnown)\n",
      "----------------------------------------------------------------------\n",
      "Traceback (most recent call last):\n",
      "  File \"c:\\Users\\razan\\Downloads\\سطح المكتب\\pr\\testing.py\", line 142, in runTest\n",
      "    self.assertAlmostEqual(fn(self.input), self.output, delta=5, msg=f\"Should be {self.output}\")\n",
      "AssertionError: 538.8364922980799 != 554.4581763136384 within 5 delta (15.621684015558571 difference) : Should be 554.4581763136384\n",
      "\n",
      "======================================================================\n",
      "FAIL: runTest (testing.test_stdev.<locals>.TestKnown)\n",
      "----------------------------------------------------------------------\n",
      "Traceback (most recent call last):\n",
      "  File \"c:\\Users\\razan\\Downloads\\سطح المكتب\\pr\\testing.py\", line 142, in runTest\n",
      "    self.assertAlmostEqual(fn(self.input), self.output, delta=5, msg=f\"Should be {self.output}\")\n",
      "AssertionError: 560.0793939255399 != 574.6293336165772 within 5 delta (14.549939691037366 difference) : Should be 574.6293336165772\n",
      "\n",
      "======================================================================\n",
      "FAIL: runTest (testing.test_stdev.<locals>.TestKnown)\n",
      "----------------------------------------------------------------------\n",
      "Traceback (most recent call last):\n",
      "  File \"c:\\Users\\razan\\Downloads\\سطح المكتب\\pr\\testing.py\", line 142, in runTest\n",
      "    self.assertAlmostEqual(fn(self.input), self.output, delta=5, msg=f\"Should be {self.output}\")\n",
      "AssertionError: 550.9632732439148 != 556.1367508126688 within 5 delta (5.173477568753924 difference) : Should be 556.1367508126688\n",
      "\n",
      "======================================================================\n",
      "FAIL: runTest (testing.test_stdev.<locals>.TestKnown)\n",
      "----------------------------------------------------------------------\n",
      "Traceback (most recent call last):\n",
      "  File \"c:\\Users\\razan\\Downloads\\سطح المكتب\\pr\\testing.py\", line 142, in runTest\n",
      "    self.assertAlmostEqual(fn(self.input), self.output, delta=5, msg=f\"Should be {self.output}\")\n",
      "AssertionError: 657.2151461004903 != 671.350422277929 within 5 delta (14.135276177438755 difference) : Should be 671.350422277929\n",
      "\n",
      "======================================================================\n",
      "FAIL: runTest (testing.test_stdev.<locals>.TestKnown)\n",
      "----------------------------------------------------------------------\n",
      "Traceback (most recent call last):\n",
      "  File \"c:\\Users\\razan\\Downloads\\سطح المكتب\\pr\\testing.py\", line 142, in runTest\n",
      "    self.assertAlmostEqual(fn(self.input), self.output, delta=5, msg=f\"Should be {self.output}\")\n",
      "AssertionError: 581.230946546328 != 594.9088401919474 within 5 delta (13.677893645619406 difference) : Should be 594.9088401919474\n",
      "\n",
      "======================================================================\n",
      "FAIL: runTest (testing.test_stdev.<locals>.TestKnown)\n",
      "----------------------------------------------------------------------\n",
      "Traceback (most recent call last):\n",
      "  File \"c:\\Users\\razan\\Downloads\\سطح المكتب\\pr\\testing.py\", line 142, in runTest\n",
      "    self.assertAlmostEqual(fn(self.input), self.output, delta=5, msg=f\"Should be {self.output}\")\n",
      "AssertionError: 592.7551711325156 != 597.8432916765802 within 5 delta (5.088120544064623 difference) : Should be 597.8432916765802\n",
      "\n",
      "======================================================================\n",
      "FAIL: runTest (testing.test_stdev.<locals>.TestKnown)\n",
      "----------------------------------------------------------------------\n",
      "Traceback (most recent call last):\n",
      "  File \"c:\\Users\\razan\\Downloads\\سطح المكتب\\pr\\testing.py\", line 142, in runTest\n",
      "    self.assertAlmostEqual(fn(self.input), self.output, delta=5, msg=f\"Should be {self.output}\")\n",
      "AssertionError: 501.48232694153234 != 510.68460508714753 within 5 delta (9.202278145615196 difference) : Should be 510.68460508714753\n",
      "\n",
      "======================================================================\n",
      "FAIL: runTest (testing.test_stdev.<locals>.TestKnown)\n",
      "----------------------------------------------------------------------\n",
      "Traceback (most recent call last):\n",
      "  File \"c:\\Users\\razan\\Downloads\\سطح المكتب\\pr\\testing.py\", line 142, in runTest\n",
      "    self.assertAlmostEqual(fn(self.input), self.output, delta=5, msg=f\"Should be {self.output}\")\n",
      "AssertionError: 513.9098072619357 != 541.7085009486191 within 5 delta (27.79869368668335 difference) : Should be 541.7085009486191\n",
      "\n",
      "======================================================================\n",
      "FAIL: runTest (testing.test_stdev.<locals>.TestKnown)\n",
      "----------------------------------------------------------------------\n",
      "Traceback (most recent call last):\n",
      "  File \"c:\\Users\\razan\\Downloads\\سطح المكتب\\pr\\testing.py\", line 142, in runTest\n",
      "    self.assertAlmostEqual(fn(self.input), self.output, delta=5, msg=f\"Should be {self.output}\")\n",
      "AssertionError: 604.9025247689741 != 616.4255130227926 within 5 delta (11.52298825381854 difference) : Should be 616.4255130227926\n",
      "\n",
      "======================================================================\n",
      "FAIL: runTest (testing.test_stdev.<locals>.TestKnown)\n",
      "----------------------------------------------------------------------\n",
      "Traceback (most recent call last):\n",
      "  File \"c:\\Users\\razan\\Downloads\\سطح المكتب\\pr\\testing.py\", line 142, in runTest\n",
      "    self.assertAlmostEqual(fn(self.input), self.output, delta=5, msg=f\"Should be {self.output}\")\n",
      "AssertionError: 557.3821707747034 != 563.826109369516 within 5 delta (6.443938594812607 difference) : Should be 563.826109369516\n",
      "\n",
      "======================================================================\n",
      "FAIL: runTest (testing.test_stdev.<locals>.TestKnown)\n",
      "----------------------------------------------------------------------\n",
      "Traceback (most recent call last):\n",
      "  File \"c:\\Users\\razan\\Downloads\\سطح المكتب\\pr\\testing.py\", line 142, in runTest\n",
      "    self.assertAlmostEqual(fn(self.input), self.output, delta=5, msg=f\"Should be {self.output}\")\n",
      "AssertionError: 594.582514902735 != 599.9634618203683 within 5 delta (5.380946917633196 difference) : Should be 599.9634618203683\n",
      "\n",
      "======================================================================\n",
      "FAIL: runTest (testing.test_stdev.<locals>.TestKnown)\n",
      "----------------------------------------------------------------------\n",
      "Traceback (most recent call last):\n",
      "  File \"c:\\Users\\razan\\Downloads\\سطح المكتب\\pr\\testing.py\", line 142, in runTest\n",
      "    self.assertAlmostEqual(fn(self.input), self.output, delta=5, msg=f\"Should be {self.output}\")\n",
      "AssertionError: 536.201749105637 != 544.2653857819986 within 5 delta (8.063636676361625 difference) : Should be 544.2653857819986\n",
      "\n",
      "======================================================================\n",
      "FAIL: runTest (testing.test_stdev.<locals>.TestKnown)\n",
      "----------------------------------------------------------------------\n",
      "Traceback (most recent call last):\n",
      "  File \"c:\\Users\\razan\\Downloads\\سطح المكتب\\pr\\testing.py\", line 142, in runTest\n",
      "    self.assertAlmostEqual(fn(self.input), self.output, delta=5, msg=f\"Should be {self.output}\")\n",
      "AssertionError: 596.9932765301652 != 623.5391411980972 within 5 delta (26.54586466793205 difference) : Should be 623.5391411980972\n",
      "\n",
      "======================================================================\n",
      "FAIL: runTest (testing.test_stdev.<locals>.TestKnown)\n",
      "----------------------------------------------------------------------\n",
      "Traceback (most recent call last):\n",
      "  File \"c:\\Users\\razan\\Downloads\\سطح المكتب\\pr\\testing.py\", line 142, in runTest\n",
      "    self.assertAlmostEqual(fn(self.input), self.output, delta=5, msg=f\"Should be {self.output}\")\n",
      "AssertionError: 561.0605545442988 != 568.0305181169363 within 5 delta (6.969963572637425 difference) : Should be 568.0305181169363\n",
      "\n",
      "======================================================================\n",
      "FAIL: runTest (testing.test_stdev.<locals>.TestKnown)\n",
      "----------------------------------------------------------------------\n",
      "Traceback (most recent call last):\n",
      "  File \"c:\\Users\\razan\\Downloads\\سطح المكتب\\pr\\testing.py\", line 142, in runTest\n",
      "    self.assertAlmostEqual(fn(self.input), self.output, delta=5, msg=f\"Should be {self.output}\")\n",
      "AssertionError: 551.1247162214635 != 556.3987571185587 within 5 delta (5.274040897095233 difference) : Should be 556.3987571185587\n",
      "\n",
      "======================================================================\n",
      "FAIL: runTest (testing.test_stdev.<locals>.TestKnown)\n",
      "----------------------------------------------------------------------\n",
      "Traceback (most recent call last):\n",
      "  File \"c:\\Users\\razan\\Downloads\\سطح المكتب\\pr\\testing.py\", line 142, in runTest\n",
      "    self.assertAlmostEqual(fn(self.input), self.output, delta=5, msg=f\"Should be {self.output}\")\n",
      "AssertionError: 501.57508749444656 != 507.24278250561673 within 5 delta (5.667695011170167 difference) : Should be 507.24278250561673\n",
      "\n",
      "======================================================================\n",
      "FAIL: runTest (testing.test_stdev.<locals>.TestKnown)\n",
      "----------------------------------------------------------------------\n",
      "Traceback (most recent call last):\n",
      "  File \"c:\\Users\\razan\\Downloads\\سطح المكتب\\pr\\testing.py\", line 142, in runTest\n",
      "    self.assertAlmostEqual(fn(self.input), self.output, delta=5, msg=f\"Should be {self.output}\")\n",
      "AssertionError: 466.4079605166172 != 476.89034710513414 within 5 delta (10.482386588516931 difference) : Should be 476.89034710513414\n",
      "\n",
      "======================================================================\n",
      "FAIL: runTest (testing.test_stdev.<locals>.TestKnown)\n",
      "----------------------------------------------------------------------\n",
      "Traceback (most recent call last):\n",
      "  File \"c:\\Users\\razan\\Downloads\\سطح المكتب\\pr\\testing.py\", line 142, in runTest\n",
      "    self.assertAlmostEqual(fn(self.input), self.output, delta=5, msg=f\"Should be {self.output}\")\n",
      "AssertionError: 554.7987796944161 != 581.8778690975062 within 5 delta (27.07908940309005 difference) : Should be 581.8778690975062\n",
      "\n",
      "======================================================================\n",
      "FAIL: runTest (testing.test_stdev.<locals>.TestKnown)\n",
      "----------------------------------------------------------------------\n",
      "Traceback (most recent call last):\n",
      "  File \"c:\\Users\\razan\\Downloads\\سطح المكتب\\pr\\testing.py\", line 142, in runTest\n",
      "    self.assertAlmostEqual(fn(self.input), self.output, delta=5, msg=f\"Should be {self.output}\")\n",
      "AssertionError: 644.6951241133715 != 650.1356857510635 within 5 delta (5.440561637691985 difference) : Should be 650.1356857510635\n",
      "\n",
      "======================================================================\n",
      "FAIL: runTest (testing.test_stdev.<locals>.TestKnown)\n",
      "----------------------------------------------------------------------\n",
      "Traceback (most recent call last):\n",
      "  File \"c:\\Users\\razan\\Downloads\\سطح المكتب\\pr\\testing.py\", line 142, in runTest\n",
      "    self.assertAlmostEqual(fn(self.input), self.output, delta=5, msg=f\"Should be {self.output}\")\n",
      "AssertionError: 531.2554851787833 != 541.7764171259637 within 5 delta (10.52093194718043 difference) : Should be 541.7764171259637\n",
      "\n",
      "======================================================================\n",
      "FAIL: runTest (testing.test_stdev.<locals>.TestKnown)\n",
      "----------------------------------------------------------------------\n",
      "Traceback (most recent call last):\n",
      "  File \"c:\\Users\\razan\\Downloads\\سطح المكتب\\pr\\testing.py\", line 142, in runTest\n",
      "    self.assertAlmostEqual(fn(self.input), self.output, delta=5, msg=f\"Should be {self.output}\")\n",
      "AssertionError: 579.9802646970124 != 608.2884333782931 within 5 delta (28.308168681280677 difference) : Should be 608.2884333782931\n",
      "\n",
      "======================================================================\n",
      "FAIL: runTest (testing.test_stdev.<locals>.TestKnown)\n",
      "----------------------------------------------------------------------\n",
      "Traceback (most recent call last):\n",
      "  File \"c:\\Users\\razan\\Downloads\\سطح المكتب\\pr\\testing.py\", line 142, in runTest\n",
      "    self.assertAlmostEqual(fn(self.input), self.output, delta=5, msg=f\"Should be {self.output}\")\n",
      "AssertionError: 594.5051757894157 != 603.7228599835082 within 5 delta (9.217684194092499 difference) : Should be 603.7228599835082\n",
      "\n",
      "======================================================================\n",
      "FAIL: runTest (testing.test_stdev.<locals>.TestKnown)\n",
      "----------------------------------------------------------------------\n",
      "Traceback (most recent call last):\n",
      "  File \"c:\\Users\\razan\\Downloads\\سطح المكتب\\pr\\testing.py\", line 142, in runTest\n",
      "    self.assertAlmostEqual(fn(self.input), self.output, delta=5, msg=f\"Should be {self.output}\")\n",
      "AssertionError: 592.422935253925 != 597.8831698990069 within 5 delta (5.460234645081982 difference) : Should be 597.8831698990069\n",
      "\n",
      "======================================================================\n",
      "FAIL: runTest (testing.test_stdev.<locals>.TestKnown)\n",
      "----------------------------------------------------------------------\n",
      "Traceback (most recent call last):\n",
      "  File \"c:\\Users\\razan\\Downloads\\سطح المكتب\\pr\\testing.py\", line 142, in runTest\n",
      "    self.assertAlmostEqual(fn(self.input), self.output, delta=5, msg=f\"Should be {self.output}\")\n",
      "AssertionError: 609.1554059022582 != 618.600238992694 within 5 delta (9.44483309043585 difference) : Should be 618.600238992694\n",
      "\n",
      "======================================================================\n",
      "FAIL: runTest (testing.test_stdev.<locals>.TestKnown)\n",
      "----------------------------------------------------------------------\n",
      "Traceback (most recent call last):\n",
      "  File \"c:\\Users\\razan\\Downloads\\سطح المكتب\\pr\\testing.py\", line 142, in runTest\n",
      "    self.assertAlmostEqual(fn(self.input), self.output, delta=5, msg=f\"Should be {self.output}\")\n",
      "AssertionError: 585.6280973094816 != 591.4553860820698 within 5 delta (5.82728877258819 difference) : Should be 591.4553860820698\n",
      "\n",
      "======================================================================\n",
      "FAIL: runTest (testing.test_stdev.<locals>.TestKnown)\n",
      "----------------------------------------------------------------------\n",
      "Traceback (most recent call last):\n",
      "  File \"c:\\Users\\razan\\Downloads\\سطح المكتب\\pr\\testing.py\", line 142, in runTest\n",
      "    self.assertAlmostEqual(fn(self.input), self.output, delta=5, msg=f\"Should be {self.output}\")\n",
      "AssertionError: 372.06958727874786 != 382.85644675717475 within 5 delta (10.78685947842689 difference) : Should be 382.85644675717475\n",
      "\n",
      "======================================================================\n",
      "FAIL: runTest (testing.test_stdev.<locals>.TestKnown)\n",
      "----------------------------------------------------------------------\n",
      "Traceback (most recent call last):\n",
      "  File \"c:\\Users\\razan\\Downloads\\سطح المكتب\\pr\\testing.py\", line 142, in runTest\n",
      "    self.assertAlmostEqual(fn(self.input), self.output, delta=5, msg=f\"Should be {self.output}\")\n",
      "AssertionError: 523.8656091695543 != 539.988310058653 within 5 delta (16.122700889098724 difference) : Should be 539.988310058653\n",
      "\n",
      "----------------------------------------------------------------------\n",
      "Ran 100 tests in 0.320s\n",
      "\n",
      "FAILED (failures=57)\n"
     ]
    }
   ],
   "source": [
    "# This will test your function \n",
    "test_stdev(st_dev)"
   ]
  },
  {
   "cell_type": "markdown",
   "metadata": {},
   "source": [
    "## 10. Write a function to check if a string is a pangram, i.e.: if it contains all the letters of the alphabet at least once. Mind that the strings may contain characters that are not letters."
   ]
  },
  {
   "cell_type": "code",
   "execution_count": 36,
   "metadata": {},
   "outputs": [],
   "source": [
    "def pangram(string):\n",
    "    # Step 1: Normalize to lowercase and filter only alphabetic characters\n",
    "    string = string.lower()\n",
    "    alphabet = \"abcdefghijklmnopqrstuvwxyz\"\n",
    "    \n",
    "    # Step 2: Check if each letter in the alphabet is in the string\n",
    "    for letter in alphabet:\n",
    "        if letter not in string:\n",
    "            return False\n",
    "    \n",
    "    return True\n"
   ]
  },
  {
   "cell_type": "code",
   "execution_count": 37,
   "metadata": {},
   "outputs": [
    {
     "name": "stderr",
     "output_type": "stream",
     "text": [
      "..............................\n",
      "----------------------------------------------------------------------\n",
      "Ran 30 tests in 0.032s\n",
      "\n",
      "OK\n"
     ]
    }
   ],
   "source": [
    "# This will test your function \n",
    "test_pangram(pangram)"
   ]
  },
  {
   "cell_type": "markdown",
   "metadata": {},
   "source": [
    "## 11. Write a function that receives a string of comma separated words and returns a string of comma separated words sorted alphabetically.\n",
    "\n",
    "`NOTE: You may use sorted but not split and definitely no join! 🤪`"
   ]
  },
  {
   "cell_type": "code",
   "execution_count": null,
   "metadata": {},
   "outputs": [],
   "source": [
    "def sort_alpha(string):\n",
    "\n",
    "    words = []\n",
    "    \n",
    "    word = ''\n",
    "    for char in string:\n",
    "\n",
    "        if char == ',':\n",
    "            words.append(word)\n",
    "            word = ''  \n",
    "        else:\n",
    "            word += char\n",
    "    \n",
    "\n",
    "    words.append(word)\n",
    "    \n",
    "\n",
    "    sorted_words = sorted(words)\n",
    "    \n",
    "\n",
    "    result = ''\n",
    "    for i, word in enumerate(sorted_words):\n",
    "        if i != 0:\n",
    "            result += ','\n",
    "        result += word\n",
    "        \n",
    "    return result\n"
   ]
  },
  {
   "cell_type": "code",
   "execution_count": 39,
   "metadata": {},
   "outputs": [
    {
     "name": "stderr",
     "output_type": "stream",
     "text": [
      "....................................................................................................\n",
      "----------------------------------------------------------------------\n",
      "Ran 100 tests in 0.122s\n",
      "\n",
      "OK\n"
     ]
    }
   ],
   "source": [
    "# This will test your function \n",
    "test_alpha(sort_alpha)"
   ]
  },
  {
   "cell_type": "markdown",
   "metadata": {},
   "source": [
    "## 12. Write a function to check if a given password is strong (at least 8 characters, at least one lower case, at least one upper case, at least one number and at least one special character). It should output True if strong and False if not."
   ]
  },
  {
   "cell_type": "code",
   "execution_count": null,
   "metadata": {},
   "outputs": [],
   "source": [
    "def check_pass(password):\n",
    "\n",
    "    if len(password) < 8:\n",
    "        return False\n",
    "    \n",
    "    if not any(c.islower() for c in password):\n",
    "        return False\n",
    "    \n",
    "    if not any(c.isupper() for c in password):\n",
    "        return False\n",
    "    \n",
    "    if not any(c.isdigit() for c in password):\n",
    "        return False\n",
    "    \n",
    "    special_characters = \"!@#$%^&*()-_=+[{]}\\\\|;:'\\\",<.>/?\"\n",
    "    if not any(c in special_characters for c in password):\n",
    "        return False\n",
    "    \n",
    "    return True\n"
   ]
  },
  {
   "cell_type": "code",
   "execution_count": 41,
   "metadata": {},
   "outputs": [
    {
     "name": "stderr",
     "output_type": "stream",
     "text": [
      "....................................................................................................\n",
      "----------------------------------------------------------------------\n",
      "Ran 100 tests in 0.168s\n",
      "\n",
      "OK\n"
     ]
    }
   ],
   "source": [
    "# This will test your function \n",
    "test_pass(check_pass)"
   ]
  }
 ],
 "metadata": {
  "kernelspec": {
   "display_name": "base",
   "language": "python",
   "name": "python3"
  },
  "language_info": {
   "codemirror_mode": {
    "name": "ipython",
    "version": 3
   },
   "file_extension": ".py",
   "mimetype": "text/x-python",
   "name": "python",
   "nbconvert_exporter": "python",
   "pygments_lexer": "ipython3",
   "version": "3.9.12"
  }
 },
 "nbformat": 4,
 "nbformat_minor": 4
}
